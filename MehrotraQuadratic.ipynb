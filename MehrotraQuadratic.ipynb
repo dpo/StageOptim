{
 "cells": [
  {
   "cell_type": "markdown",
   "metadata": {},
   "source": [
    "# Problèmes\n",
    "\n",
    "### 1)\n",
    "Primal: $\\underset{x \\in \\mathbb{R}^3}{\\min} \\frac{1}{2} x' Q x + c' x ~~~~~~~~ s.t. ~ A x = b ~, ~~ x \\ge 0$\n",
    "\n",
    "with  $Q = \\begin{bmatrix} 6 & 2 & 1\\\\ 2 & 5 & 2\\\\ 1 & 2 & 4 \\end{bmatrix} $, $c = \\begin{bmatrix} -8 \\\\ -3 \\\\ -3 \\end{bmatrix}$, $A = \\begin{bmatrix} 1 & 0 &1 \\\\ 0 & 1 & 1 \\end{bmatrix}$ , and $b = \\begin{bmatrix} 3 \\\\ 0 \\end{bmatrix} $.\n",
    "\n",
    "\n"
   ]
  },
  {
   "cell_type": "code",
   "execution_count": 1,
   "metadata": {},
   "outputs": [],
   "source": [
    "using LinearAlgebra\n",
    "using LaTeXStrings\n",
    "using DataStructures\n",
    "using BenchmarkTools"
   ]
  },
  {
   "cell_type": "code",
   "execution_count": 2,
   "metadata": {},
   "outputs": [
    {
     "data": {
      "text/plain": [
       "display_results (generic function with 1 method)"
      ]
     },
     "execution_count": 2,
     "metadata": {},
     "output_type": "execute_result"
    }
   ],
   "source": [
    "function display_results(result)\n",
    "    # fonction pour l'affichage\n",
    "    println(\"\\n-----------------------------------------------------------------------\")\n",
    "    println(\"------------------------------- RESULTS -------------------------------\")\n",
    "    result\n",
    "end"
   ]
  },
  {
   "cell_type": "code",
   "execution_count": 3,
   "metadata": {},
   "outputs": [
    {
     "data": {
      "text/plain": [
       "Compute_AlphaMax (generic function with 1 method)"
      ]
     },
     "execution_count": 3,
     "metadata": {},
     "output_type": "execute_result"
    }
   ],
   "source": [
    "function Compute_AlphaAff(alpha_step, v_k, dir_v_k)\n",
    "    alpha = 0\n",
    "    n = length(v_k)\n",
    "    while alpha+alpha_step <= 1 && all(v_k + (alpha+alpha_step) * dir_v_k .>= 0) \n",
    "        alpha += alpha_step\n",
    "    end\n",
    "    return alpha\n",
    "end\n",
    "\n",
    "function Compute_AlphaMax(alpha_step, v_k, dir_v_k)\n",
    "    alpha = 0\n",
    "    n = length(v_k)\n",
    "    while alpha+alpha_step <= 100/99 && all(v_k + (alpha+alpha_step) * dir_v_k .>= 0) \n",
    "        alpha += alpha_step\n",
    "    end\n",
    "    return alpha\n",
    "end\n"
   ]
  },
  {
   "cell_type": "code",
   "execution_count": 47,
   "metadata": {},
   "outputs": [
    {
     "data": {
      "text/plain": [
       "MehrotraPCQuad (generic function with 5 methods)"
      ]
     },
     "execution_count": 47,
     "metadata": {},
     "output_type": "execute_result"
    }
   ],
   "source": [
    "\n",
    "function MehrotraPCQuad(Q, c, A, b, init_vect, max_iter, eps = 1e-10, alpha_step=1e-2, display=true)\n",
    "    \n",
    "    \n",
    "    x_0, lambda_0, s_0 = init_vect\n",
    "    x_k, lambda_k, s_k = copy(x_0), copy(lambda_0), copy(s_0)\n",
    "    n_rows, n_cols = size(A) \n",
    "    \n",
    "    rb_0 = A * x_0 - b\n",
    "    rc_0 = -Q * x_0 + A' * lambda_0 + s_0 - c\n",
    "    mu_0 = s_0' * x_0 / n_cols\n",
    "    Xk = Diagonal(x_k)\n",
    "    Sk = Diagonal(s_k)\n",
    "    mu_k = copy(mu_0)\n",
    "    rb_k = copy(rb_0)\n",
    "    rc_k = copy(rc_0)\n",
    "    \n",
    "    k = 0\n",
    "    pdd, cond_rb, cond_rc = 1, 1, 1\n",
    "    e = ones(n_cols, 1)\n",
    "    n_c = norm(c)\n",
    "    n_b = norm(b)\n",
    "    \n",
    "    while k <= max_iter && pdd > eps && cond_rb > eps && cond_rc > eps  # 3 epsilon différents en pratique???\n",
    "\n",
    "        Jacob_Fk = [-Q A' I(n_cols)\n",
    "                    A zeros(n_rows, n_rows) zeros(n_rows, n_cols)\n",
    "                    Sk zeros(n_cols, n_rows) Xk]\n",
    "        Fk_aff = [-rc_k\n",
    "                  -rb_k\n",
    "                  -Xk*Sk*e]\n",
    "        \n",
    "\n",
    "        dir_aff_k = Jacob_Fk\\Fk_aff\n",
    "        \n",
    "\n",
    "        alpha_aff_pri = Compute_AlphaAff(alpha_step, x_k, dir_aff_k[1:n_cols])\n",
    "        alpha_aff_dual = Compute_AlphaAff(alpha_step, s_k, dir_aff_k[n_rows+n_cols+1: end])\n",
    "        mu_aff = (x_k + alpha_aff_pri * dir_aff_k[1:n_cols])' * \n",
    "                    (s_k + alpha_aff_dual * dir_aff_k[n_rows+n_cols+1: end]) / n_cols\n",
    "        sigma = (mu_aff / mu_k)^3\n",
    "     \n",
    "        Fk_cc = [zeros(n_rows+n_cols, 1)\n",
    "                 sigma*mu_k*e - Diagonal(dir_aff_k[1:n_cols])*Diagonal(dir_aff_k[n_rows+n_cols+1: end])*e] \n",
    "        dir_cc_k = Jacob_Fk\\Fk_cc\n",
    "         \n",
    "        dir_k = dir_aff_k .+ dir_cc_k\n",
    "         \n",
    "        alpha_max_pri = Compute_AlphaMax(alpha_step, x_k, dir_k[1:n_cols])\n",
    "        alpha_max_dual = Compute_AlphaMax(alpha_step, s_k, dir_k[n_rows+n_cols+1: end])\n",
    "     \n",
    "\n",
    "        alpha_k_pri = min(0.99*alpha_max_pri, 1)\n",
    "        alpha_k_dual = min(0.99*alpha_max_dual, 1)\n",
    "        x_k += alpha_k_pri * dir_k[1:n_cols]\n",
    "        lambda_k += alpha_k_dual * dir_k[n_cols+1: n_rows+n_cols]\n",
    "        s_k += alpha_k_dual * dir_k[n_rows+n_cols+1: end]\n",
    "        \n",
    "        Xk = Diagonal(x_k)\n",
    "        Sk = Diagonal(s_k)\n",
    "        mu_k = s_k' * x_k / n_cols\n",
    "        rb_k = A * x_k - b\n",
    "        rc_k = -Q * x_k + A' * lambda_k + s_k - c\n",
    "        \n",
    "        # valeurs pour les conditions d'arret:\n",
    "        quad_part = x_k' * Q * x_k \n",
    "        pdd = abs(quad_part + c' * x_k - b' * lambda_k ) / (1 + abs(c' * x_k + quad_part/2)) # test correct? ecart primal dual\n",
    "        cond_rb = norm(rb_k) / (1 + n_b)\n",
    "        cond_rc = norm(rc_k) / (1 + n_c)\n",
    "        \n",
    "        k += 1\n",
    "        \n",
    "        # affichage\n",
    "        if display == true\n",
    "            println(\"---------------------------------------------------------------\")\n",
    "            println(\"Iter \", k, \":   pdd = \", pdd, \" |  cond_rb = \", cond_rb, \" |  cond_rc = \", cond_rc)\n",
    "        end\n",
    "    end\n",
    "    \n",
    "    if display == true\n",
    "        criteria = [k > max_iter,  pdd <= eps, cond_rb <= eps, cond_rc <= eps]\n",
    "        criteria_names = [\"reached max_iter\",  \"pdd <= eps\", \"cond_rb <= eps\", \"cond_rc <= eps\"]\n",
    "        println(\"\\n stopping criterion = \",criteria_names[findall(criteria)])\n",
    "    end\n",
    "    \n",
    "    return OrderedDict(\"x_opt\" => x_k, \"lambda_opt\" => lambda_k, \"s_opt\" => s_k, \n",
    "        \"n_iter\" => k, \"pdd\" => pdd, \"cond_rb\" => cond_rb, \"cond_rc\" => cond_rc)\n",
    "end"
   ]
  },
  {
   "cell_type": "code",
   "execution_count": 48,
   "metadata": {},
   "outputs": [],
   "source": [
    "# probleme1\n",
    "Q = [6 2 1\n",
    "    2 5 2\n",
    "    1 2 4]\n",
    "c = [-8; -3; -3]\n",
    "A = [1 0 1\n",
    "    0 1 1]\n",
    "b = [0; 3];"
   ]
  },
  {
   "cell_type": "code",
   "execution_count": 46,
   "metadata": {},
   "outputs": [
    {
     "name": "stdout",
     "output_type": "stream",
     "text": [
      "---------------------------------------------------------------\n",
      "Iter 1:   pdd = 0.36382674223402806 |  cond_rb = 0.2989622885917216 |  cond_rc = 0.37474326688574977\n",
      "---------------------------------------------------------------\n",
      "Iter 2:   pdd = 0.006623927996956621 |  cond_rb = 0.011868802857091215 |  cond_rc = 0.012907423249098564\n",
      "---------------------------------------------------------------\n",
      "Iter 3:   pdd = 0.0004020002874229886 |  cond_rb = 0.00023618917685607426 |  cond_rc = 0.0003227554841014553\n",
      "---------------------------------------------------------------\n",
      "Iter 4:   pdd = 1.0811623074918842e-5 |  cond_rb = 4.700164619450479e-6 |  cond_rc = 8.460364869705301e-6\n",
      "---------------------------------------------------------------\n",
      "Iter 5:   pdd = 2.433036907777005e-7 |  cond_rb = 9.35332759367046e-8 |  cond_rc = 1.915470394779654e-7\n",
      "---------------------------------------------------------------\n",
      "Iter 6:   pdd = 5.123199330905227e-9 |  cond_rb = 1.8613122036225812e-9 |  cond_rc = 4.052286511697532e-9\n",
      "---------------------------------------------------------------\n",
      "Iter 7:   pdd = 1.0476438107627556e-10 |  cond_rb = 3.7040120945092e-11 |  cond_rc = 8.307952141949781e-11\n",
      "\n",
      " stopping criterion = [\"cond_rb <= eps\", \"cond_rc <= eps\"]\n",
      "\n",
      "-----------------------------------------------------------------------\n",
      "------------------------------- RESULTS -------------------------------\n"
     ]
    },
    {
     "data": {
      "text/plain": [
       "OrderedDict{String,Any} with 7 entries:\n",
       "  \"x_opt\"      => [9.80261e-11, 3.0, 3.44927e-11]\n",
       "  \"lambda_opt\" => [-10.7209, 12.0]\n",
       "  \"s_opt\"      => [8.72092, 2.56284e-12, 1.72092]\n",
       "  \"n_iter\"     => 7\n",
       "  \"pdd\"        => 1.04764e-10\n",
       "  \"cond_rb\"    => 3.70401e-11\n",
       "  \"cond_rc\"    => 8.30795e-11"
      ]
     },
     "execution_count": 46,
     "metadata": {},
     "output_type": "execute_result"
    }
   ],
   "source": [
    "x01 = [1; 2; 3]\n",
    "lambda01 = [3; 3]\n",
    "s01 = [2; 3 ; 2]\n",
    "init_vect = (x01, lambda01, s01)\n",
    "res_mpc1 =  MehrotraPCQuad(Q, c, A, b, init_vect, 20);\n",
    "display_results(res_mpc1)"
   ]
  },
  {
   "cell_type": "code",
   "execution_count": null,
   "metadata": {},
   "outputs": [],
   "source": []
  },
  {
   "cell_type": "code",
   "execution_count": null,
   "metadata": {},
   "outputs": [],
   "source": []
  },
  {
   "cell_type": "code",
   "execution_count": 51,
   "metadata": {},
   "outputs": [
    {
     "data": {
      "text/plain": [
       "BenchmarkTools.Trial: \n",
       "  memory estimate:  971.56 KiB\n",
       "  allocs estimate:  11223\n",
       "  --------------\n",
       "  minimum time:     397.000 μs (0.00% GC)\n",
       "  median time:      405.200 μs (0.00% GC)\n",
       "  mean time:        489.726 μs (15.23% GC)\n",
       "  maximum time:     4.665 ms (90.09% GC)\n",
       "  --------------\n",
       "  samples:          10000\n",
       "  evals/sample:     1"
      ]
     },
     "execution_count": 51,
     "metadata": {},
     "output_type": "execute_result"
    }
   ],
   "source": [
    "@benchmark MehrotraPCQuad(Q, c, A, b, init_vect, 20, 1e-10, 1e-2, false)"
   ]
  },
  {
   "cell_type": "code",
   "execution_count": null,
   "metadata": {},
   "outputs": [],
   "source": []
  }
 ],
 "metadata": {
  "kernelspec": {
   "display_name": "Julia 1.4.0",
   "language": "julia",
   "name": "julia-1.4"
  },
  "language_info": {
   "file_extension": ".jl",
   "mimetype": "application/julia",
   "name": "julia",
   "version": "1.4.0"
  }
 },
 "nbformat": 4,
 "nbformat_minor": 4
}
