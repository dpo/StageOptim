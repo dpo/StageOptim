{
 "cells": [
  {
   "cell_type": "markdown",
   "metadata": {},
   "source": [
    "# Problèmes\n",
    "\n",
    "### 1)\n",
    "Primal: $\\underset{x \\in \\mathbb{R}^3}{\\min} \\frac{1}{2} x' Q x + c' x ~~~~~~~~ s.t. ~ A x = b ~, ~~ x \\ge 0$\n",
    "\n",
    "with  $Q = \\begin{bmatrix} 6 & 2 & 1\\\\ 2 & 5 & 2\\\\ 1 & 2 & 4 \\end{bmatrix} $, $c = \\begin{bmatrix} -8 \\\\ -3 \\\\ -3 \\end{bmatrix}$, $A = \\begin{bmatrix} 1 & 0 &1 \\\\ 0 & 1 & 1 \\end{bmatrix}$ , and $b = \\begin{bmatrix} 3 \\\\ 0 \\end{bmatrix} $.\n",
    "\n",
    "\n",
    "### 2) \n",
    "AFIRO        28 rows    32 cols        88 nonzeros       794 bytes      -4.6475314286E+02 optimalvalue"
   ]
  },
  {
   "cell_type": "code",
   "execution_count": 9,
   "metadata": {},
   "outputs": [],
   "source": [
    "using LinearAlgebra\n",
    "using LaTeXStrings\n",
    "using DataFrames\n",
    "using DataStructures\n",
    "using QuadraticModels\n",
    "using Printf\n",
    "using SparseArrays\n",
    "using BenchmarkTools\n",
    "using NLPModels\n",
    "using LinearOperators\n",
    "using QPSReader\n",
    "using SolverTools\n",
    "using SolverBenchmark"
   ]
  },
  {
   "cell_type": "markdown",
   "metadata": {},
   "source": [
    "# Mehrotra formulation plus générale:\n",
    "\n",
    "min $c_0 + c'x + \\frac{1}{2} x'Hx ~~~~$ s.t. $ Ax = b $ and $l \\le x \\le u$ "
   ]
  },
  {
   "cell_type": "code",
   "execution_count": 98,
   "metadata": {},
   "outputs": [
    {
     "data": {
      "text/plain": [
       "init_x0_lsq (generic function with 1 method)"
      ]
     },
     "execution_count": 98,
     "metadata": {},
     "output_type": "execute_result"
    }
   ],
   "source": [
    "function display_results(result)\n",
    "    # fonction pour l'affichage\n",
    "    println(\"\\n-----------------------------------------------------------------------\")\n",
    "    println(\"------------------------------- RESULTS -------------------------------\")\n",
    "    result\n",
    "end\n",
    "\n",
    "function init_x0(lvar, uvar)\n",
    "    # choice of an init point x0\n",
    "    x0 = zeros(length(lvar))\n",
    "    for i=1:length(x0)\n",
    "        if lvar[i] == -Inf && uvar[i] == Inf\n",
    "            x0[i] = 0.\n",
    "        elseif lvar[i] == -Inf && uvar[i] != Inf\n",
    "            x0[i] = uvar[i] - 1.\n",
    "        elseif lvar[i] != -Inf && uvar[i] == Inf\n",
    "            x0[i] = lvar[i] + 1.\n",
    "        else\n",
    "            x0[i] = (lvar[i] + uvar[i]) / 2 \n",
    "        end\n",
    "    end  \n",
    "    return x0\n",
    "end\n",
    "\n",
    "function init_x0_lsq(A, b, lvar, uvar)\n",
    "    x_tilde = A\\b\n",
    "    n = length(x_tilde)\n",
    "    for i=1:n\n",
    "        if x_tilde[i] <= lvar[i]\n",
    "            x_tilde[i] = lvar[i] + 1\n",
    "        elseif uvar[i] <= x_tilde[i]\n",
    "            x_tilde[i] = uvar[i] - 1\n",
    "        end\n",
    "        if !(lvar[i] < x_tilde[i] < uvar[i])\n",
    "            x_tilde[i] = (lvar[i] + uvar[i])/2\n",
    "        end\n",
    "    end\n",
    "\n",
    "    return x_tilde\n",
    "end\n",
    "    \n",
    "\n"
   ]
  },
  {
   "cell_type": "code",
   "execution_count": 150,
   "metadata": {},
   "outputs": [
    {
     "data": {
      "text/plain": [
       "is_in_Neighborhood_inf (generic function with 1 method)"
      ]
     },
     "execution_count": 150,
     "metadata": {},
     "output_type": "execute_result"
    }
   ],
   "source": [
    "function compute_α_dual(v, dir_v)\n",
    "    n = length(v)\n",
    "    if n == 0\n",
    "        return 1.\n",
    "    end\n",
    "    α = 1.\n",
    "    for i=1:n\n",
    "        if dir_v[i] < 0\n",
    "            α_new = -v[i] * 0.999 / dir_v[i]\n",
    "            if α_new < α\n",
    "                α = α_new\n",
    "            end\n",
    "        end\n",
    "    end\n",
    "    return α\n",
    "end\n",
    "\n",
    "\n",
    "    \n",
    "function compute_α_primal(v, dir_v, lvar, uvar)\n",
    "    n = length(v)\n",
    "    α_l, α_u = 1., 1.\n",
    "    for i=1:n\n",
    "        if dir_v[i] > 0\n",
    "            α_u_new = (uvar[i] - v[i]) * 0.999 / dir_v[i]\n",
    "            if α_u_new < α_u\n",
    "                α_u = α_u_new\n",
    "            end\n",
    "        elseif dir_v[i] < 0\n",
    "            α_l_new = (lvar[i] - v[i]) * 0.999 / dir_v[i]\n",
    "            if α_l_new < α_l\n",
    "                α_l = α_l_new\n",
    "            end\n",
    "        end\n",
    "    end\n",
    "    return min(α_l, α_u)\n",
    "end\n",
    "\n",
    "function compute_μ(x_l, x_u, s_l, s_u, lvar, uvar, nb_low, nb_upp)\n",
    "    #x_l coordinates of x corresponding to finite lower bounds ( resp. finite upper bounds for x_u)\n",
    "    # arguments must have finite bounds \n",
    "    return (s_l' * (x_l-lvar) + s_u' * (uvar-x_u)) / (nb_low + nb_upp)\n",
    "end\n",
    "\n",
    "\n",
    "function is_in_Neighborhood_inf(gamma, x_l, x_u, s_l, s_u, lvar, uvar)\n",
    "    # check if the current point is in N_inf(gamma)\n",
    "    # true : (xi_l - lvari) * si_l >= gamma mu   and   (uvari - xi_u) * si_u >= gamma mu \n",
    "    mu = Compute_mu(x_l, x_u, s_l, s_u, lvar, uvar)\n",
    "    for i=1:length(x_l)\n",
    "        if (x_l[i] - lvar[i]) * s_l[i] < gamma*mu\n",
    "            return false\n",
    "        end\n",
    "    end\n",
    "    for i=1:length(x_u)\n",
    "        if (uvar[i] - x_u[i]) * s_u[i] < gamma*mu\n",
    "            return false\n",
    "        end\n",
    "    end\n",
    "    return true\n",
    "end"
   ]
  },
  {
   "cell_type": "code",
   "execution_count": 151,
   "metadata": {},
   "outputs": [
    {
     "data": {
      "text/plain": [
       "solve_augmented_system_cc (generic function with 1 method)"
      ]
     },
     "execution_count": 151,
     "metadata": {},
     "output_type": "execute_result"
    }
   ],
   "source": [
    "\n",
    "\n",
    "function solve_augmented_system_aff(J_augm, rc, rb, I_low, I_op_upp, x,  \n",
    "                                    s_l, s_u, ilow, iupp, S_low, S_upp,\n",
    "                                    inv_X_L, inv_X_U, n_cols)\n",
    "    \n",
    "    F_x_λ_aff = [-rc + I_low*s_l[ilow] + I_op_upp*s_u[iupp]\n",
    "                                  -rb                    ]\n",
    "    Δ_x_λ_aff = J_augm\\F_x_λ_aff\n",
    "    Δ_aff = [Δ_x_λ_aff\n",
    "             -s_l[ilow] - inv_X_L*S_low*Δ_x_λ_aff[1:n_cols]\n",
    "             - s_u[iupp] - inv_X_U*S_upp*Δ_x_λ_aff[1:n_cols]]\n",
    "    return Δ_aff\n",
    "end\n",
    "\n",
    "\n",
    "function solve_augmented_system_cc(J_augm, σ, μ, I_low, I_op_upp, x, s_l, s_u, \n",
    "                                   ilow, iupp, S_low, S_upp, inv_X_L, inv_X_U, \n",
    "                                   Δ_aff, n_cols, n_rows, n_low, Or)\n",
    "    \n",
    "    rxs_l = -σ*μ .+ Δ_aff[1:n_cols][ilow].*Δ_aff[n_rows+n_cols+1: n_rows+n_cols+n_low]\n",
    "    rxs_u = σ*μ .+ Δ_aff[1:n_cols][iupp].*Δ_aff[n_rows+n_cols+n_low+1: end]\n",
    "    \n",
    "    F_x_λ_cc = [ I_low*inv_X_L*rxs_l + I_op_upp*inv_X_U*rxs_u\n",
    "                                   Or                 ]\n",
    "    Δ_x_λ_cc = J_augm\\F_x_λ_cc\n",
    "    Δ_cc = [Δ_x_λ_cc\n",
    "            -inv_X_L*(rxs_l+S_low*Δ_x_λ_cc[1:n_cols])\n",
    "            -inv_X_U*(rxs_u+S_upp*Δ_x_λ_cc[1:n_cols]) ]\n",
    "    return Δ_cc\n",
    "end\n",
    "\n"
   ]
  },
  {
   "cell_type": "code",
   "execution_count": 176,
   "metadata": {},
   "outputs": [
    {
     "data": {
      "text/plain": [
       "mehrotraPCQuadBounds (generic function with 1 method)"
      ]
     },
     "execution_count": 176,
     "metadata": {},
     "output_type": "execute_result"
    }
   ],
   "source": [
    "function mehrotraPCQuadBounds(QM, max_iter; ϵ=1e-8,\n",
    "                              tol_Δx=1e-16, ϵ_μ=1e-16, display=true)\n",
    "    \n",
    "    start_time = time()\n",
    "    elapsed_time = 0.0\n",
    "    \n",
    "    # get variables from QuadraticModel\n",
    "    lvar, uvar = QM.meta.lvar, QM.meta.uvar\n",
    "    n_cols = length(lvar)\n",
    "    Oc = zeros(n_cols)\n",
    "    ilow, iupp = [QM.meta.ilow; QM.meta.irng], [QM.meta.iupp; QM.meta.irng] # finite bounds index\n",
    "    n_low, n_upp = length(ilow), length(iupp) # number of finite constraints\n",
    "    A = jac(QM, Oc)\n",
    "    n_rows, n_cols = size(A) \n",
    "    Q = hess(QM, Oc)\n",
    "    c = grad(QM, Oc)\n",
    "    c0 = obj(QM, Oc)\n",
    "    @assert QM.meta.lcon == QM.meta.ucon # equality constraint (Ax=b)\n",
    "    b = QM.meta.lcon\n",
    "    x = init_x0_lsq(A, b, lvar, uvar)\n",
    "    @assert all(x .> lvar) && all(x .< uvar)\n",
    "    s_l, s_u = copy(Oc), copy(Oc)\n",
    "    s_l[ilow] .= 1.\n",
    "    s_u[iupp] .= 1.\n",
    "    Qx = Q * x\n",
    "    AT = A'\n",
    "    λ = sparse(A') \\ (c+Qx) # least square initialisation, s_0 = stilde_0\n",
    "    \n",
    "    rb = A * x - b\n",
    "    rc = -Qx + A' * λ + s_l - s_u - c\n",
    "    μ = compute_μ(x[ilow], x[iupp], \n",
    "                  s_l[ilow], s_u[iupp], \n",
    "                  lvar[ilow], uvar[iupp],\n",
    "                  n_low, n_upp)\n",
    "\n",
    "    k = 0\n",
    "    \n",
    "    # matrices without infinity constraints\n",
    "    X_low = Diagonal(x[ilow])\n",
    "    S_low = spzeros(n_low, n_cols)\n",
    "    I_low = spzeros(n_cols, n_low)\n",
    "    for j=1:n_low   # cartesian index not working when nb_non_inf_l = 0\n",
    "        S_low[j, ilow[j]] = s_l[ilow[j]]\n",
    "        I_low[ilow[j], j] = 1\n",
    "    end\n",
    "    \n",
    "    X_upp = Diagonal(x[iupp])\n",
    "    S_upp = spzeros(n_upp, n_cols)\n",
    "    I_op_upp = spzeros(n_cols, n_upp)\n",
    "    for j=1:n_upp \n",
    "        S_upp[j, iupp[j]] = s_u[iupp[j]]\n",
    "        I_op_upp[iupp[j], j] = -1\n",
    "    end\n",
    "    Lvar_low = Diagonal(lvar[ilow]) \n",
    "    Uvar_upp = Diagonal(uvar[iupp])\n",
    "\n",
    "    Or = zeros(n_rows, 1)\n",
    "    \n",
    "    inv_X_L = inv(X_low-Lvar_low)\n",
    "    inv_X_U = inv(X_upp-Uvar_upp)\n",
    "\n",
    "    \n",
    "    # stopping criterion\n",
    "    #n_c_p1 =  norm(c, Inf) + 1.\n",
    "    #n_b_p1 =  norm(b, Inf) + 1.\n",
    "    xTQx = x' * Qx\n",
    "    cTx = c' * x\n",
    "    pri_obj = xTQx/2 + cTx + c0\n",
    "    dual_obj = b' * λ - xTQx/2 + s_l[ilow]'*lvar[ilow] - s_u[iupp]'*uvar[iupp] +c0\n",
    "    pdd = abs(pri_obj - dual_obj ) / (1 + abs(pri_obj)) \n",
    "    max_rc, max_rb = norm(rc, 2), norm(rb, 2)\n",
    "    optimal = pdd < ϵ && max_rc < ϵ && max_rb < ϵ\n",
    "    small_Δx, small_μ = false, μ < ϵ_μ\n",
    "\n",
    "    # display\n",
    "    if display == true\n",
    "        println(\"Iter    primal      pdd      rb cond    rc cond    step x       μ\")\n",
    "        @printf(\"%4d  % 9.2e   %7.1e    %7.1e    %7.1e    %7.1e   %7.1e\\n\", \n",
    "                k, pri_obj, pdd, max_rb, max_rc ,0., μ)\n",
    "    end\n",
    "    \n",
    "\n",
    "    while k<max_iter && !optimal && !small_Δx && !small_μ\n",
    "        \n",
    "        \n",
    "        # Affine scaling direction\n",
    "\n",
    "        \n",
    "        J_augm = [-Q-I_low*inv_X_L*S_low-I_op_upp*inv_X_U*S_upp-1e-6*I        A'\n",
    "                                A                                              1e-6*I  ]\n",
    "        J_fact = ldlt(Symmetric(J_augm))\n",
    "        \n",
    "        Δ_aff = solve_augmented_system_aff(J_fact, rc, rb, I_low, I_op_upp, x, \n",
    "                                           s_l, s_u, ilow, iupp, S_low, S_upp,\n",
    "                                           inv_X_L, inv_X_U, n_cols)\n",
    "        \n",
    "        α_aff_pri = compute_α_primal(x, Δ_aff[1:n_cols], lvar, uvar)\n",
    "        α_aff_dual_l = compute_α_dual(s_l[ilow], Δ_aff[n_rows+n_cols+1: n_rows+n_cols+n_low])\n",
    "        α_aff_dual_u = compute_α_dual(s_u[iupp], Δ_aff[n_rows+n_cols+n_low+1:end])\n",
    "\n",
    "        # alpha_aff_dual_final is the min of the 2 alpha_aff_dual\n",
    "        α_aff_dual_final = min(α_aff_dual_l, α_aff_dual_u)\n",
    "        \n",
    "        μ_aff = compute_μ(x[ilow] + α_aff_pri * Δ_aff[1:n_cols][ilow],\n",
    "                          x[iupp] + α_aff_pri * Δ_aff[1:n_cols][iupp],\n",
    "                          s_l[ilow] + α_aff_dual_final * Δ_aff[n_rows+n_cols+1: n_rows+n_cols+n_low],\n",
    "                          s_u[iupp] + α_aff_dual_final * Δ_aff[n_rows+n_cols+n_low+1: end],\n",
    "                          lvar[ilow], uvar[iupp],\n",
    "                          n_low, n_upp)\n",
    "        \n",
    "        σ = (μ_aff / μ)^3\n",
    "\n",
    "        # corrector and centering step\n",
    "        \n",
    "        Δ_cc = solve_augmented_system_cc(J_fact, σ, μ, I_low, I_op_upp, x, \n",
    "                                        s_l, s_u, ilow, iupp, S_low, S_upp,\n",
    "                                        inv_X_L, inv_X_U, Δ_aff, n_cols, n_rows, n_low, Or)\n",
    "        \n",
    "        Δ = Δ_aff + Δ_cc # final direction\n",
    "        \n",
    "        α_pri = compute_α_primal(x, Δ[1:n_cols], lvar, uvar)\n",
    "        α_dual_l = compute_α_dual(s_l[ilow], Δ[n_rows+n_cols+1: n_rows+n_cols+n_low])\n",
    "        α_dual_u = compute_α_dual(s_u[iupp], Δ[n_rows+n_cols+n_low+1: end])\n",
    "\n",
    "        α_dual_final = min(α_dual_l, α_dual_u)\n",
    "\n",
    "        # new parameters\n",
    "        x += α_pri * Δ[1:n_cols]\n",
    "        λ += α_dual_final * Δ[n_cols+1: n_rows+n_cols]\n",
    "        s_l[ilow] += α_dual_final * Δ[n_rows+n_cols+1: n_rows+n_cols+n_low]\n",
    "        s_u[iupp] += α_dual_final * Δ[n_rows+n_cols+n_low+1: end]\n",
    "        \n",
    "        X_low = Diagonal(x[ilow])\n",
    "        for j=1:n_low\n",
    "            S_low[j, ilow[j]] = s_l[ilow[j]]\n",
    "            inv_X_L[j,j] = 1/(x[ilow[j]] - lvar[ilow[j]])\n",
    "        end\n",
    "        X_upp = Diagonal(x[iupp])\n",
    "        for j=1:n_upp\n",
    "            S_upp[j, iupp[j]] = s_u[iupp[j]]\n",
    "            inv_X_U[j,j] = 1/(x[iupp[j]] - uvar[iupp[j]])\n",
    "        end\n",
    "        \n",
    "        \n",
    "        n_Δx = α_pri * norm(Δ[1:n_cols])\n",
    "        μ = compute_μ(x[ilow], x[iupp], \n",
    "                      s_l[ilow], s_u[iupp], \n",
    "                      lvar[ilow], uvar[iupp],\n",
    "                      n_low, n_upp)\n",
    "        Qx = Q * x\n",
    "        xTQx = x' * Qx\n",
    "        cTx = c' * x\n",
    "        pri_obj = xTQx/2 + cTx + c0\n",
    "        dual_obj = b' * λ - xTQx/2 + s_l[ilow]'*lvar[ilow] - s_u[iupp]'*uvar[iupp] +c0\n",
    "\n",
    "        rb = A * x - b\n",
    "        rc = -Qx + A' * λ + s_l - s_u - c\n",
    "        \n",
    "        # update stopping criterion values:\n",
    "        \n",
    "        pdd = abs(pri_obj - dual_obj ) / (1 + abs(pri_obj)) \n",
    "        max_rc, max_rb = norm(rc, Inf), norm(rb, Inf)\n",
    "        optimal = pdd < ϵ && max_rb < ϵ && max_rc < ϵ\n",
    "        small_Δx, small_μ = n_Δx < tol_Δx, μ < ϵ_μ\n",
    "        k += 1\n",
    "        \n",
    "        if display == true\n",
    "            @printf(\"%4d  % 9.2e   %7.1e    %7.1e    %7.1e    %7.1e   %7.1e\\n\", \n",
    "                    k, pri_obj, pdd, max_rb, max_rc,n_Δx , μ)\n",
    "        end\n",
    "        \n",
    "\n",
    "    end\n",
    "    \n",
    "    if display == true\n",
    "        criteria = [k >= max_iter,  optimal, small_Δx, small_μ]\n",
    "        criteria_names = [\"reached max_iter\",  \"optimal\", \n",
    "            \"n_Δx <= small_Δx\", \"μ <= ϵ_μ\"]\n",
    "        println(\"\\n stopping criterion = \",criteria_names[findall(criteria)])\n",
    "    end\n",
    "    \n",
    "    elapsed_time = time() - start_time\n",
    "    \n",
    "    if k>= max_iter\n",
    "        status = :max_iter\n",
    "    else\n",
    "        status = :acceptable\n",
    "    end\n",
    "    \n",
    "    stats = GenericExecutionStats(status, QM, solution = x,\n",
    "                                  objective = pri_obj , \n",
    "                                  dual_feas = max_rc, \n",
    "                                  primal_feas = max_rb,\n",
    "                                  multipliers = λ,\n",
    "                                  multipliers_L = s_l,\n",
    "                                  multipliers_U = s_u,\n",
    "                                  iter = k, elapsed_time=elapsed_time)\n",
    "    return stats\n",
    "end\n"
   ]
  },
  {
   "cell_type": "markdown",
   "metadata": {},
   "source": [
    "### bibliothèque QuadraticModels\n",
    "\n",
    "optimize $c_0 + c'x + \\frac{1}{2} x'Hx ~~~~$ s.t. $~~L \\le Ax \\le U$ and $l \\le x \\le u$ \n",
    "\n",
    "Ici L = lcon, U = ucon, l = lvar, u = uvar"
   ]
  },
  {
   "cell_type": "code",
   "execution_count": 177,
   "metadata": {},
   "outputs": [],
   "source": [
    "# probleme1\n",
    "Q = [6 2 1\n",
    "    2 5 2\n",
    "    1 2 4]\n",
    "c = [-8; -3; -3]\n",
    "c0 = 0.\n",
    "A = [1 0 1\n",
    "    0 1 1]\n",
    "b = [0; 3]\n",
    "lvar = [0;0;0]\n",
    "uvar = [Inf; Inf; Inf]\n",
    "lcon = b\n",
    "ucon = b\n",
    "\n",
    "x01 = [1.; 2.; 3.];\n"
   ]
  },
  {
   "cell_type": "code",
   "execution_count": 178,
   "metadata": {},
   "outputs": [
    {
     "data": {
      "text/plain": [
       "QuadraticModel"
      ]
     },
     "execution_count": 178,
     "metadata": {},
     "output_type": "execute_result"
    }
   ],
   "source": [
    "QM = QuadraticModel(c, Q, A=A, lcon=lcon, ucon=ucon, lvar=lvar, uvar=uvar, x0=x01, c0=c0, name=\"QM1\")\n",
    "SM = SlackModel(QM)\n",
    "typeof(SM)"
   ]
  },
  {
   "cell_type": "code",
   "execution_count": 179,
   "metadata": {},
   "outputs": [
    {
     "name": "stdout",
     "output_type": "stream",
     "text": [
      "Iter    primal      pdd      rb cond    rc cond    step x       μ\n",
      "   0   1.40e+01   6.7e-01    2.2e+00    2.4e+00    0.0e+00   1.7e+00\n",
      "   1   1.24e+01   4.7e-01    1.9e-01    1.9e+00    1.3e+00   5.2e-02\n",
      "   2   1.35e+01   9.5e-04    2.5e-03    2.0e-01    2.1e-01   2.5e-03\n",
      "   3   1.35e+01   9.7e-04    1.6e-05    4.7e-03    2.6e-03   7.9e-06\n",
      "   4   1.35e+01   1.9e-06    1.6e-08    9.4e-06    1.5e-05   7.9e-09\n",
      "   5   1.35e+01   2.9e-09    2.2e-11    1.4e-08    1.4e-08   7.9e-12\n",
      "   6   1.35e+01   3.9e-12    3.6e-14    1.9e-11    1.6e-11   7.9e-15\n",
      "\n",
      " stopping criterion = [\"optimal\"]\n",
      "Generic Execution stats\n",
      "  status: solved to within acceptable tolerances\n",
      "  objective value: 13.500000000000263\n",
      "  primal feasibility: 3.6415315207705135e-14\n",
      "  dual feasibility: 1.8772539078781847e-11\n",
      "  solution: [2.3555488583480357e-15  3.0000000000000226  1.3705176993434989e-14]\n",
      "  multipliers: [-10.016075360895794  12.00000000001889]\n",
      "  multipliers_L: [2.0160753608957167  1.6805235247534164e-15  1.0160753608919089]\n",
      "  multipliers_U: [0.0  0.0  0.0]\n",
      "  iterations: 6\n",
      "  elapsed time: 0.10100007057189941\n"
     ]
    }
   ],
   "source": [
    "stats_mpc1 =  mehrotraPCQuadBounds(SM, 20)\n",
    "println(stats_mpc1)"
   ]
  },
  {
   "cell_type": "code",
   "execution_count": 156,
   "metadata": {},
   "outputs": [
    {
     "name": "stdout",
     "output_type": "stream",
     "text": [
      "Iter    primal      pdd      rb cond    rc cond    step x       μ\n",
      "   0   1.40e+01   6.7e-01    2.2e+00    2.4e+00    0.0e+00   1.7e+00\n",
      "   1   1.24e+01   4.7e-01    1.9e-01    1.9e+00    1.3e+00   5.2e-02\n",
      "   2   1.35e+01   9.5e-04    2.5e-03    2.0e-01    2.1e-01   2.5e-03\n",
      "   3   1.35e+01   9.7e-04    1.6e-05    4.7e-03    2.6e-03   7.9e-06\n",
      "   4   1.35e+01   1.9e-06    1.6e-08    9.4e-06    1.5e-05   7.9e-09\n",
      "   5   1.35e+01   2.9e-09    2.2e-11    1.4e-08    1.4e-08   7.9e-12\n",
      "   6   1.35e+01   3.9e-12    3.6e-14    1.9e-11    1.6e-11   7.9e-15\n",
      "\n",
      " stopping criterion = [\"optimal\"]\n",
      "Generic Execution stats\n",
      "  status: solved to within acceptable tolerances\n",
      "  objective value: 13.500000000000263\n",
      "  primal feasibility: 3.6415315207705135e-14\n",
      "  dual feasibility: 1.8772539078781847e-11\n",
      "  solution: [-2.3555488583484396e-15  -3.0000000000000226  -1.3705176993434989e-14]\n",
      "  multipliers: [-10.016075360895798  12.00000000001889]\n",
      "  multipliers_L: [0.0  0.0  0.0]\n",
      "  multipliers_U: [2.01607536089572  1.6805235247534164e-15  1.016075360891912]\n",
      "  iterations: 6\n",
      "  elapsed time: 0.0840001106262207\n"
     ]
    }
   ],
   "source": [
    "#pb verif\n",
    "\n",
    "QM_verif = QuadraticModel(c*(-1), Q, A=A*(-1), lcon=lcon, ucon=ucon, lvar=-uvar, uvar=lvar, x0=x01, c0=c0, name=\"QM1\")\n",
    "SM_verif = SlackModel(QM_verif)\n",
    "stats_mpc_verif =  mehrotraPCQuadBounds(SM_verif, 20);\n",
    "println(stats_mpc_verif)"
   ]
  },
  {
   "cell_type": "code",
   "execution_count": 129,
   "metadata": {},
   "outputs": [
    {
     "name": "stdout",
     "output_type": "stream",
     "text": [
      "Iter    primal      pdd      rb cond    rc cond    step x       μ\n",
      "   0   1.00e+00   3.3e-01    1.0e+00    6.7e-01    0.0e+00   1.0e+00\n",
      "   1   1.11e-01   4.0e-01    3.4e-07    4.4e-07    1.2e+00   1.5e-01\n",
      "   2   6.45e-03   6.7e-03    1.7e-07    6.0e-08    1.3e-01   2.3e-03\n",
      "   3   6.45e-06   6.8e-06    3.4e-10    3.3e-09    7.9e-03   2.3e-06\n",
      "   4   6.45e-09   6.8e-09    5.1e-13    6.5e-12    7.9e-06   2.3e-09\n",
      "\n",
      " stopping criterion = [\"optimal\"]\n",
      "Generic Execution stats\n",
      "  status: solved to within acceptable tolerances\n",
      "  objective value: 6.4512596165842626e-9\n",
      "  primal feasibility: 5.08537656429553e-13\n",
      "  dual feasibility: 6.502465232927079e-12\n",
      "  solution: [6.4512596165842626e-9  0.49999999677386164  0.49999999677386164]\n",
      "  multipliers: [-3.3151972856311567e-10]\n",
      "  multipliers_L: [1.0000000003185148  3.3800412355031753e-10  3.3800412355031753e-10]\n",
      "  multipliers_U: [0.0  0.0  0.0]\n",
      "  iterations: 4\n",
      "  elapsed time: 0.0709998607635498\n"
     ]
    }
   ],
   "source": [
    "### pb verif 2\n",
    "c2 = [1; 0; 0]\n",
    "A2 = Matrix([1, 1, 1]')\n",
    "b2 = [1];\n",
    "QM_verif2 = QuadraticModel(c2, zeros(3,3), A=A2, lcon=b2, ucon=b2, lvar=[0.;0;0], \n",
    "                uvar=[Inf; Inf; Inf], x0=x01, c0=c0, name=\"QMverfi2\")\n",
    "SM_verif2 = SlackModel(QM_verif2)\n",
    "stats_mpc_verif2 =  mehrotraPCQuadBounds(SM_verif2, 20);\n",
    "println(stats_mpc_verif2)"
   ]
  },
  {
   "cell_type": "markdown",
   "metadata": {},
   "source": [
    "# Lecture des donnees .SIF"
   ]
  },
  {
   "cell_type": "code",
   "execution_count": 19,
   "metadata": {},
   "outputs": [
    {
     "data": {
      "text/plain": [
       "displayQuadraticModel (generic function with 1 method)"
      ]
     },
     "execution_count": 19,
     "metadata": {},
     "output_type": "execute_result"
    }
   ],
   "source": [
    "\n",
    "function createQuadraticModel(qpdata)\n",
    "    return QuadraticModel(qpdata.c, qpdata.qrows, qpdata.qcols, qpdata.qvals,\n",
    "            Arows=qpdata.arows, Acols=qpdata.acols, Avals=qpdata.avals, \n",
    "            lcon=qpdata.lcon, ucon=qpdata.ucon, lvar=qpdata.lvar, uvar=qpdata.uvar,\n",
    "            c0=qpdata.c0)\n",
    "end\n",
    "\n",
    "function displayQuadraticModel(QM)\n",
    "    #println(\"A = \", Matrix(jac(QM, QM.meta.x0)))\n",
    "    #println(\"Q = \", Matrix(hess(QM, QM.meta.x0)))\n",
    "    println(\"lvar = \", QM.meta.lvar)\n",
    "    println(\"uvar = \", QM.meta.uvar)\n",
    "    println(\"x0 = \", QM.meta.x0)\n",
    "    #println(\"lcon = \", QM.meta.lcon)\n",
    "    #println(\"ucon = \", QM.meta.ucon)\n",
    "end"
   ]
  },
  {
   "cell_type": "markdown",
   "metadata": {},
   "source": [
    "# Benchmark"
   ]
  },
  {
   "cell_type": "code",
   "execution_count": 20,
   "metadata": {},
   "outputs": [
    {
     "data": {
      "text/plain": [
       "\"C:\\\\Users\\\\Geoffroy Leconte\\\\Documents\\\\cours\\\\TFE\\\\code\\\\problemes_netlib\\\\AFIRO.SIF\""
      ]
     },
     "execution_count": 20,
     "metadata": {},
     "output_type": "execute_result"
    }
   ],
   "source": [
    "path_pb = \"C:\\\\Users\\\\Geoffroy Leconte\\\\Documents\\\\cours\\\\TFE\\\\code\\\\problemes_netlib\"\n",
    "afiro = string(path_pb, \"\\\\AFIRO.SIF\")"
   ]
  },
  {
   "cell_type": "code",
   "execution_count": 21,
   "metadata": {},
   "outputs": [
    {
     "name": "stderr",
     "output_type": "stream",
     "text": [
      "┌ Info: Using 'AFIRO' as NAME (l. 5)\n",
      "└ @ QPSReader C:\\Users\\Geoffroy Leconte\\.julia\\packages\\QPSReader\\usDQr\\src\\readqps.jl:751\n",
      "┌ Info: Using 'COST' as objective (l. 47)\n",
      "└ @ QPSReader C:\\Users\\Geoffroy Leconte\\.julia\\packages\\QPSReader\\usDQr\\src\\readqps.jl:350\n",
      "┌ Info: Using 'B' as RHS (l. 96)\n",
      "└ @ QPSReader C:\\Users\\Geoffroy Leconte\\.julia\\packages\\QPSReader\\usDQr\\src\\readqps.jl:470\n"
     ]
    },
    {
     "data": {
      "text/plain": [
       "  Problem name: Generic-slack\n",
       "   All variables: ████████████████████ 51     All constraints: ████████████████████ 27    \n",
       "            free: ⋅⋅⋅⋅⋅⋅⋅⋅⋅⋅⋅⋅⋅⋅⋅⋅⋅⋅⋅⋅ 0                 free: ⋅⋅⋅⋅⋅⋅⋅⋅⋅⋅⋅⋅⋅⋅⋅⋅⋅⋅⋅⋅ 0     \n",
       "           lower: █████████████⋅⋅⋅⋅⋅⋅⋅ 32               lower: ⋅⋅⋅⋅⋅⋅⋅⋅⋅⋅⋅⋅⋅⋅⋅⋅⋅⋅⋅⋅ 0     \n",
       "           upper: ████████⋅⋅⋅⋅⋅⋅⋅⋅⋅⋅⋅⋅ 19               upper: ⋅⋅⋅⋅⋅⋅⋅⋅⋅⋅⋅⋅⋅⋅⋅⋅⋅⋅⋅⋅ 0     \n",
       "         low/upp: ⋅⋅⋅⋅⋅⋅⋅⋅⋅⋅⋅⋅⋅⋅⋅⋅⋅⋅⋅⋅ 0              low/upp: ⋅⋅⋅⋅⋅⋅⋅⋅⋅⋅⋅⋅⋅⋅⋅⋅⋅⋅⋅⋅ 0     \n",
       "           fixed: ⋅⋅⋅⋅⋅⋅⋅⋅⋅⋅⋅⋅⋅⋅⋅⋅⋅⋅⋅⋅ 0                fixed: ████████████████████ 27    \n",
       "          infeas: ⋅⋅⋅⋅⋅⋅⋅⋅⋅⋅⋅⋅⋅⋅⋅⋅⋅⋅⋅⋅ 0               infeas: ⋅⋅⋅⋅⋅⋅⋅⋅⋅⋅⋅⋅⋅⋅⋅⋅⋅⋅⋅⋅ 0     \n",
       "            nnzh: (100.00% sparsity)   0               linear: ████████████████████ 27    \n",
       "                                                    nonlinear: ⋅⋅⋅⋅⋅⋅⋅⋅⋅⋅⋅⋅⋅⋅⋅⋅⋅⋅⋅⋅ 0     \n",
       "                                                         nnzj: ( 92.59% sparsity)   102   \n",
       "\n"
      ]
     },
     "execution_count": 21,
     "metadata": {},
     "output_type": "execute_result"
    }
   ],
   "source": [
    "qpdata2 = readqps(afiro)  # obj   -4.6475314286E+02\n",
    "qpdata2.contypes\n",
    "QM2 = createQuadraticModel(qpdata2)\n",
    "SM2 = SlackModel(QM2);\n",
    "SM2.meta"
   ]
  },
  {
   "cell_type": "code",
   "execution_count": 138,
   "metadata": {
    "scrolled": true
   },
   "outputs": [
    {
     "name": "stdout",
     "output_type": "stream",
     "text": [
      "Iter    primal      pdd      rb cond    rc cond    step x       μ\n",
      "   0   4.38e+02   4.7e+00    4.4e-01    9.5e-01    0.0e+00   3.6e+01\n",
      "   1   3.47e+02   5.5e+00    4.2e-01    9.2e-01    1.4e+01   3.6e+01\n",
      "   2  -5.47e+00   2.4e+02    3.8e-01    8.6e-01    6.2e+01   3.5e+01\n",
      "   3   3.67e+01   3.6e+01    2.0e-07    7.0e-01    2.2e+02   3.3e+01\n",
      "   4   6.74e+01   1.1e+01    1.9e-07    3.3e-01    4.4e+01   1.8e+01\n",
      "   5  -1.59e+02   1.7e+00    5.5e-08    1.8e-01    3.1e+02   9.3e+00\n",
      "   6  -4.02e+02   3.2e-01    2.6e-08    4.0e-02    5.0e+02   4.0e+00\n",
      "   7  -4.59e+02   4.1e-02    2.5e-08    8.0e-03    1.1e+02   7.0e-01\n",
      "   8  -4.64e+02   5.6e-03    8.0e-09    2.4e-04    1.6e+01   6.0e-02\n",
      "   9  -4.65e+02   3.8e-06    9.5e-10    3.3e-07    2.1e+00   6.9e-05\n",
      "  10  -4.65e+02   5.1e-10    2.0e-12    5.0e-10    2.5e-03   6.9e-08\n",
      "\n",
      " stopping criterion = [\"optimal\"]\n",
      "Generic Execution stats\n",
      "  status: solved to within acceptable tolerances\n",
      "  objective value: -464.753141380579\n",
      "  primal feasibility: 1.9701117114126414e-12\n",
      "  dual feasibility: 5.016946709470276e-10\n",
      "  solution: [79.99999998229951  25.49999987734326  54.500000104944675  84.79999998128115 ⋯ 134.13410338543355]\n",
      "  multipliers: [-0.6285714334505861  2.2394207663806848e-8  -0.34477141244300163  -0.2285714285878995 ⋯ -1.5009945719243878e-9]\n",
      "  multipliers_L: [7.726412068780807e-10  5.379105891682484e-9  6.999535140318847e-10  7.289515664332065e-10 ⋯ 0.0]\n",
      "  multipliers_U: [0.0  0.0  0.0  0.0 ⋯ 9.32396290327377e-10]\n",
      "  iterations: 10\n",
      "  elapsed time: 0.08700013160705566\n"
     ]
    }
   ],
   "source": [
    "stats_mpc2 =  mehrotraPCQuadBounds(SM2, 100)\n",
    "println(stats_mpc2)"
   ]
  },
  {
   "cell_type": "code",
   "execution_count": 131,
   "metadata": {},
   "outputs": [
    {
     "data": {
      "text/plain": [
       "BenchmarkTools.Trial: \n",
       "  memory estimate:  1.60 MiB\n",
       "  allocs estimate:  7156\n",
       "  --------------\n",
       "  minimum time:     1.503 ms (0.00% GC)\n",
       "  median time:      1.559 ms (0.00% GC)\n",
       "  mean time:        1.784 ms (4.40% GC)\n",
       "  maximum time:     7.951 ms (59.55% GC)\n",
       "  --------------\n",
       "  samples:          2796\n",
       "  evals/sample:     1"
      ]
     },
     "execution_count": 131,
     "metadata": {},
     "output_type": "execute_result"
    }
   ],
   "source": [
    "@benchmark mehrotraPCQuadBounds(SM2, 100, display=false)"
   ]
  },
  {
   "cell_type": "code",
   "execution_count": 93,
   "metadata": {
    "scrolled": true
   },
   "outputs": [
    {
     "name": "stderr",
     "output_type": "stream",
     "text": [
      "┌ Info: Using 'KB2' as NAME (l. 5)\n",
      "└ @ QPSReader C:\\Users\\Geoffroy Leconte\\.julia\\packages\\QPSReader\\usDQr\\src\\readqps.jl:751\n",
      "┌ Info: Using 'FAT7..J.' as objective (l. 20)\n",
      "└ @ QPSReader C:\\Users\\Geoffroy Leconte\\.julia\\packages\\QPSReader\\usDQr\\src\\readqps.jl:350\n",
      "┌ Info: Using '77BOUND' as BOUNDS (l. 227)\n",
      "└ @ QPSReader C:\\Users\\Geoffroy Leconte\\.julia\\packages\\QPSReader\\usDQr\\src\\readqps.jl:622\n"
     ]
    },
    {
     "data": {
      "text/plain": [
       "  Problem name: Generic-slack\n",
       "   All variables: ████████████████████ 68     All constraints: ████████████████████ 43    \n",
       "            free: ⋅⋅⋅⋅⋅⋅⋅⋅⋅⋅⋅⋅⋅⋅⋅⋅⋅⋅⋅⋅ 0                 free: ⋅⋅⋅⋅⋅⋅⋅⋅⋅⋅⋅⋅⋅⋅⋅⋅⋅⋅⋅⋅ 0     \n",
       "           lower: ██████████████⋅⋅⋅⋅⋅⋅ 47               lower: ⋅⋅⋅⋅⋅⋅⋅⋅⋅⋅⋅⋅⋅⋅⋅⋅⋅⋅⋅⋅ 0     \n",
       "           upper: ████⋅⋅⋅⋅⋅⋅⋅⋅⋅⋅⋅⋅⋅⋅⋅⋅ 12               upper: ⋅⋅⋅⋅⋅⋅⋅⋅⋅⋅⋅⋅⋅⋅⋅⋅⋅⋅⋅⋅ 0     \n",
       "         low/upp: ███⋅⋅⋅⋅⋅⋅⋅⋅⋅⋅⋅⋅⋅⋅⋅⋅⋅ 9              low/upp: ⋅⋅⋅⋅⋅⋅⋅⋅⋅⋅⋅⋅⋅⋅⋅⋅⋅⋅⋅⋅ 0     \n",
       "           fixed: ⋅⋅⋅⋅⋅⋅⋅⋅⋅⋅⋅⋅⋅⋅⋅⋅⋅⋅⋅⋅ 0                fixed: ████████████████████ 43    \n",
       "          infeas: ⋅⋅⋅⋅⋅⋅⋅⋅⋅⋅⋅⋅⋅⋅⋅⋅⋅⋅⋅⋅ 0               infeas: ⋅⋅⋅⋅⋅⋅⋅⋅⋅⋅⋅⋅⋅⋅⋅⋅⋅⋅⋅⋅ 0     \n",
       "            nnzh: (100.00% sparsity)   0               linear: ████████████████████ 43    \n",
       "                                                    nonlinear: ⋅⋅⋅⋅⋅⋅⋅⋅⋅⋅⋅⋅⋅⋅⋅⋅⋅⋅⋅⋅ 0     \n",
       "                                                         nnzj: ( 89.30% sparsity)   313   \n",
       "\n"
      ]
     },
     "execution_count": 93,
     "metadata": {},
     "output_type": "execute_result"
    }
   ],
   "source": [
    "# problem 3   kb2    obj  -1.7499001299E+03\n",
    "kb2 = string(path_pb, \"\\\\KB2.SIF\")\n",
    "qpdata3 = readqps(kb2)\n",
    "QM3 = createQuadraticModel(qpdata3)\n",
    "SM3 = SlackModel(QM3)\n",
    "SM3.meta"
   ]
  },
  {
   "cell_type": "code",
   "execution_count": 94,
   "metadata": {
    "scrolled": true
   },
   "outputs": [
    {
     "name": "stdout",
     "output_type": "stream",
     "text": [
      "Iter    primal      pdd      rb cond    rc cond    step x       μ\n",
      "   0   1.17e+01   3.4e+01    2.5e+03    4.6e-01    0.0e+00   6.2e+00\n",
      "   1   2.46e+01   1.0e+01    2.1e+03    2.5e-01    2.9e+00   4.6e+00\n",
      "   2   9.57e-01   5.7e+01    4.4e+02    1.1e-01    6.4e+00   1.9e+00\n",
      "   3  -6.36e+00   9.9e+00    2.0e+02    7.8e-02    2.7e+01   1.4e+00\n",
      "   4  -3.08e+01   7.4e-01    7.8e+01    5.2e-02    1.3e+02   1.0e+00\n",
      "   5  -3.28e+02   8.6e-01    1.3e-04    4.0e-02    1.5e+03   1.5e+00\n",
      "   6  -5.23e+02   8.7e-01    1.3e-04    3.8e-02    9.9e+02   1.8e+00\n",
      "   7  -6.25e+02   8.2e-01    1.3e-04    3.7e-02    5.8e+02   2.4e+00\n",
      "   8  -9.46e+02   8.5e-01    1.2e-04    3.6e-02    1.8e+03   3.2e+00\n",
      "   9  -1.12e+03   8.0e-01    1.3e-04    3.4e-02    9.9e+02   3.9e+00\n",
      "  10  -1.31e+03   8.0e-01    1.2e-04    3.3e-02    1.1e+03   4.7e+00\n",
      "  11  -1.29e+03   6.6e-01    7.5e-05    2.9e-02    3.7e+02   5.3e+00\n",
      "  12  -1.42e+03   6.1e-01    7.0e-05    2.7e-02    8.8e+02   6.1e+00\n",
      "  13  -1.29e+03   1.6e-02    6.2e-05    1.6e-02    7.6e+02   9.5e+00\n",
      "  14  -1.64e+03   2.5e-02    2.7e-05    1.0e-02    2.2e+03   7.4e+00\n",
      "  15  -1.74e+03   1.6e-02    9.3e-05    2.3e-03    7.7e+02   1.6e+00\n",
      "  16  -1.75e+03   2.6e-03    2.4e-05    3.8e-04    1.3e+02   2.8e-01\n",
      "  17  -1.75e+03   3.9e-03    6.5e-06    6.0e-05    2.0e+02   1.4e-01\n",
      "  18  -1.75e+03   1.2e-03    2.2e-06    1.7e-05    1.1e+02   4.2e-02\n",
      "  19  -1.75e+03   3.9e-04    7.3e-07    9.5e-06    2.3e+02   8.3e-03\n",
      "  20  -1.75e+03   5.3e-05    9.7e-08    3.6e-06    7.4e+01   1.2e-03\n",
      "  21  -1.75e+03   1.1e-05    1.5e-07    3.0e-06    6.3e+01   1.6e-04\n",
      "  22  -1.75e+03   7.7e-07    3.2e-08    2.5e-08    6.8e-01   1.9e-05\n",
      "  23  -1.75e+03   2.0e-07    1.2e-10    3.4e-08    9.3e-01   2.0e-08\n",
      "  24  -1.75e+03   4.4e-10    2.9e-10    7.5e-11    1.1e-03   2.0e-11\n",
      "\n",
      " stopping criterion = [\"optimal\", \"μ <= ϵ_μ\"]\n",
      "Generic Execution stats\n",
      "  status: solved to within acceptable tolerances\n",
      "  objective value: -1749.9001299112392\n",
      "  primal feasibility: 2.88396203201756e-10\n",
      "  dual feasibility: 2.024754003991044e-9\n",
      "  solution: [0.8118235241712314  2.8564691866688726e-10  4.202134587193001e-10  2.1160809242758301e-10 ⋯ -783.4591273832308]\n",
      "  multipliers: [17.269208238724925  17.21410174438762  16.942045619253076  16.659838437272636 ⋯ -3.7317783787713613e-10]\n",
      "  multipliers_L: [2.3087933930352663e-11  0.06381183759443736  0.04896160821286729  0.10208309387544466 ⋯ 0.0]\n",
      "  multipliers_U: [0.0  1.8704518800548222e-12  0.0  0.0 ⋯ 2.3903790137145996e-14]\n",
      "  iterations: 24\n",
      "  elapsed time: 0.6459999084472656\n"
     ]
    }
   ],
   "source": [
    "stats_mpc3 =  mehrotraPCQuadBounds(SM3, 100);\n",
    "println(stats_mpc3)"
   ]
  },
  {
   "cell_type": "code",
   "execution_count": 97,
   "metadata": {},
   "outputs": [
    {
     "data": {
      "text/plain": [
       "BenchmarkTools.Trial: \n",
       "  memory estimate:  6.11 MiB\n",
       "  allocs estimate:  11330\n",
       "  --------------\n",
       "  minimum time:     4.453 ms (0.00% GC)\n",
       "  median time:      4.582 ms (0.00% GC)\n",
       "  mean time:        4.914 ms (4.70% GC)\n",
       "  maximum time:     8.475 ms (34.81% GC)\n",
       "  --------------\n",
       "  samples:          1017\n",
       "  evals/sample:     1"
      ]
     },
     "execution_count": 97,
     "metadata": {},
     "output_type": "execute_result"
    }
   ],
   "source": [
    "@benchmark mehrotraPCQuadBounds(SM3, 100, display = false)"
   ]
  },
  {
   "cell_type": "code",
   "execution_count": 79,
   "metadata": {},
   "outputs": [
    {
     "name": "stderr",
     "output_type": "stream",
     "text": [
      "┌ Info: Using 'SC50A' as NAME (l. 5)\n",
      "└ @ QPSReader C:\\Users\\Geoffroy Leconte\\.julia\\packages\\QPSReader\\usDQr\\src\\readqps.jl:751\n",
      "┌ Info: Using 'MAXIM' as objective (l. 20)\n",
      "└ @ QPSReader C:\\Users\\Geoffroy Leconte\\.julia\\packages\\QPSReader\\usDQr\\src\\readqps.jl:350\n",
      "┌ Info: Using 'CONST' as RHS (l. 153)\n",
      "└ @ QPSReader C:\\Users\\Geoffroy Leconte\\.julia\\packages\\QPSReader\\usDQr\\src\\readqps.jl:470\n"
     ]
    },
    {
     "data": {
      "text/plain": [
       "  Problem name: Generic-slack\n",
       "   All variables: ████████████████████ 78     All constraints: ████████████████████ 50    \n",
       "            free: ⋅⋅⋅⋅⋅⋅⋅⋅⋅⋅⋅⋅⋅⋅⋅⋅⋅⋅⋅⋅ 0                 free: ⋅⋅⋅⋅⋅⋅⋅⋅⋅⋅⋅⋅⋅⋅⋅⋅⋅⋅⋅⋅ 0     \n",
       "           lower: █████████████⋅⋅⋅⋅⋅⋅⋅ 48               lower: ⋅⋅⋅⋅⋅⋅⋅⋅⋅⋅⋅⋅⋅⋅⋅⋅⋅⋅⋅⋅ 0     \n",
       "           upper: ████████⋅⋅⋅⋅⋅⋅⋅⋅⋅⋅⋅⋅ 30               upper: ⋅⋅⋅⋅⋅⋅⋅⋅⋅⋅⋅⋅⋅⋅⋅⋅⋅⋅⋅⋅ 0     \n",
       "         low/upp: ⋅⋅⋅⋅⋅⋅⋅⋅⋅⋅⋅⋅⋅⋅⋅⋅⋅⋅⋅⋅ 0              low/upp: ⋅⋅⋅⋅⋅⋅⋅⋅⋅⋅⋅⋅⋅⋅⋅⋅⋅⋅⋅⋅ 0     \n",
       "           fixed: ⋅⋅⋅⋅⋅⋅⋅⋅⋅⋅⋅⋅⋅⋅⋅⋅⋅⋅⋅⋅ 0                fixed: ████████████████████ 50    \n",
       "          infeas: ⋅⋅⋅⋅⋅⋅⋅⋅⋅⋅⋅⋅⋅⋅⋅⋅⋅⋅⋅⋅ 0               infeas: ⋅⋅⋅⋅⋅⋅⋅⋅⋅⋅⋅⋅⋅⋅⋅⋅⋅⋅⋅⋅ 0     \n",
       "            nnzh: (100.00% sparsity)   0               linear: ████████████████████ 50    \n",
       "                                                    nonlinear: ⋅⋅⋅⋅⋅⋅⋅⋅⋅⋅⋅⋅⋅⋅⋅⋅⋅⋅⋅⋅ 0     \n",
       "                                                         nnzj: ( 95.90% sparsity)   160   \n",
       "\n"
      ]
     },
     "execution_count": 79,
     "metadata": {},
     "output_type": "execute_result"
    }
   ],
   "source": [
    "# problem 4 SC50A  obj  -6.4575077059E+01\n",
    "SC50A = string(path_pb, \"\\\\SC50A.SIF\")\n",
    "qpdata4 = readqps(SC50A)\n",
    "QM4 = createQuadraticModel(qpdata4)\n",
    "SM4 = SlackModel(QM4)\n",
    "SM4.meta"
   ]
  },
  {
   "cell_type": "code",
   "execution_count": 80,
   "metadata": {},
   "outputs": [
    {
     "name": "stdout",
     "output_type": "stream",
     "text": [
      "Iter    primal      pdd      rb cond    rc cond    step x       μ\n",
      "   0  -1.00e+00   7.5e+02    1.3e+01    4.4e+00    0.0e+00   2.0e+01\n",
      "   1  -8.18e-01   5.8e+02    1.3e-02    3.1e+00    3.5e+01   1.5e+01\n",
      "   2  -8.90e-01   2.4e+01    1.3e-05    1.3e-01    7.7e-01   6.1e-01\n",
      "   3  -9.33e+00   3.4e+00    6.5e-04    1.2e-01    1.1e+02   7.5e-01\n",
      "   4  -3.21e+01   5.0e-01    4.9e-04    7.9e-02    2.9e+02   5.8e-01\n",
      "   5  -5.41e+01   3.5e-03    2.0e-04    6.0e-02    3.0e+02   3.8e-01\n",
      "   6  -6.05e+01   4.9e-02    6.0e-05    2.6e-02    1.1e+02   2.2e-01\n",
      "   7  -6.36e+01   2.0e-02    1.1e-05    1.6e-03    5.7e+01   2.9e-02\n",
      "   8  -6.44e+01   3.2e-03    2.1e-06    1.4e-07    2.2e+01   3.2e-03\n",
      "   9  -6.46e+01   3.7e-04    1.4e-08    2.5e-08    3.3e+00   3.2e-04\n",
      "  10  -6.46e+01   3.6e-07    1.5e-11    2.0e-09    3.8e-01   3.2e-07\n",
      "  11  -6.46e+01   3.3e-10    9.1e-14    3.9e-12    3.8e-04   3.2e-10\n",
      "\n",
      " stopping criterion = [\"optimal\", \"μ <= ϵ_μ\"]\n",
      "Generic Execution stats\n",
      "  status: solved to within acceptable tolerances\n",
      "  objective value: -64.57507704590749\n",
      "  primal feasibility: 9.12037872036153e-14\n",
      "  dual feasibility: 7.812669932827923e-12\n",
      "  solution: [1.9735446143086775e-8  16.568692198596615  64.5750770540636  64.57507704590749 ⋯ -9.790663923312082e-10]\n",
      "  multipliers: [-4.250249747774369e-12  -0.1387054161778278  -19327.297916368425  -0.2080581242502121 ⋯ -0.29722589157801926]\n",
      "  multipliers_L: [0.013832094861114285  1.641400392732573e-11  4.150457890099051e-12  4.161566888141033e-12 ⋯ 0.0]\n",
      "  multipliers_U: [0.0  0.0  0.0  0.0 ⋯ 0.2972258915779993]\n",
      "  iterations: 11\n",
      "  elapsed time: 0.3710000514984131\n"
     ]
    }
   ],
   "source": [
    "stats_mpc4 =  mehrotraPCQuadBounds(SM4, 20);\n",
    "println(stats_mpc4)"
   ]
  },
  {
   "cell_type": "markdown",
   "metadata": {},
   "source": [
    "# Tests sur tous les problèmes"
   ]
  },
  {
   "cell_type": "code",
   "execution_count": 58,
   "metadata": {},
   "outputs": [
    {
     "name": "stdout",
     "output_type": "stream",
     "text": [
      "ADLITTLE.SIF\n"
     ]
    },
    {
     "name": "stderr",
     "output_type": "stream",
     "text": [
      "┌ Info: Using 'ADLITTLE' as NAME (l. 5)\n",
      "└ @ QPSReader C:\\Users\\Geoffroy Leconte\\.julia\\packages\\QPSReader\\usDQr\\src\\readqps.jl:751\n",
      "┌ Info: Using '.Z....' as objective (l. 20)\n",
      "└ @ QPSReader C:\\Users\\Geoffroy Leconte\\.julia\\packages\\QPSReader\\usDQr\\src\\readqps.jl:350\n"
     ]
    },
    {
     "name": "stdout",
     "output_type": "stream",
     "text": [
      "AFIRO.SIF\n",
      "AGG.SIF\n"
     ]
    },
    {
     "name": "stderr",
     "output_type": "stream",
     "text": [
      "┌ Info: Using 'ZZZZ0001' as RHS (l. 333)\n",
      "└ @ QPSReader C:\\Users\\Geoffroy Leconte\\.julia\\packages\\QPSReader\\usDQr\\src\\readqps.jl:470\n",
      "┌ Info: Using 'AFIRO' as NAME (l. 5)\n",
      "└ @ QPSReader C:\\Users\\Geoffroy Leconte\\.julia\\packages\\QPSReader\\usDQr\\src\\readqps.jl:751\n",
      "┌ Info: Using 'COST' as objective (l. 47)\n",
      "└ @ QPSReader C:\\Users\\Geoffroy Leconte\\.julia\\packages\\QPSReader\\usDQr\\src\\readqps.jl:350\n",
      "┌ Info: Using 'B' as RHS (l. 96)\n",
      "└ @ QPSReader C:\\Users\\Geoffroy Leconte\\.julia\\packages\\QPSReader\\usDQr\\src\\readqps.jl:470\n",
      "┌ Info: Using 'AGG' as NAME (l. 5)\n",
      "└ @ QPSReader C:\\Users\\Geoffroy Leconte\\.julia\\packages\\QPSReader\\usDQr\\src\\readqps.jl:751\n",
      "┌ Info: Using 'OBJECTIV' as objective (l. 509)\n",
      "└ @ QPSReader C:\\Users\\Geoffroy Leconte\\.julia\\packages\\QPSReader\\usDQr\\src\\readqps.jl:350\n",
      "┌ Info: Using 'AGG' as RHS (l. 1852)\n",
      "└ @ QPSReader C:\\Users\\Geoffroy Leconte\\.julia\\packages\\QPSReader\\usDQr\\src\\readqps.jl:470\n"
     ]
    },
    {
     "name": "stdout",
     "output_type": "stream",
     "text": [
      "AGG2.SIF\n"
     ]
    },
    {
     "name": "stderr",
     "output_type": "stream",
     "text": [
      "┌ Info: Using 'AGG2' as NAME (l. 5)\n",
      "└ @ QPSReader C:\\Users\\Geoffroy Leconte\\.julia\\packages\\QPSReader\\usDQr\\src\\readqps.jl:751\n",
      "┌ Info: Using 'OBJECTIV' as objective (l. 536)\n",
      "└ @ QPSReader C:\\Users\\Geoffroy Leconte\\.julia\\packages\\QPSReader\\usDQr\\src\\readqps.jl:350\n"
     ]
    },
    {
     "name": "stdout",
     "output_type": "stream",
     "text": [
      "AGG3.SIF\n"
     ]
    },
    {
     "name": "stderr",
     "output_type": "stream",
     "text": [
      "┌ Info: Using 'RHS' as RHS (l. 2878)\n",
      "└ @ QPSReader C:\\Users\\Geoffroy Leconte\\.julia\\packages\\QPSReader\\usDQr\\src\\readqps.jl:470\n",
      "┌ Info: Using 'AGG3' as NAME (l. 5)\n",
      "└ @ QPSReader C:\\Users\\Geoffroy Leconte\\.julia\\packages\\QPSReader\\usDQr\\src\\readqps.jl:751\n",
      "┌ Info: Using 'OBJECTIV' as objective (l. 536)\n",
      "└ @ QPSReader C:\\Users\\Geoffroy Leconte\\.julia\\packages\\QPSReader\\usDQr\\src\\readqps.jl:350\n"
     ]
    },
    {
     "name": "stdout",
     "output_type": "stream",
     "text": [
      "BANDM.SIF\n"
     ]
    },
    {
     "name": "stderr",
     "output_type": "stream",
     "text": [
      "┌ Info: Using 'RHS' as RHS (l. 2884)\n",
      "└ @ QPSReader C:\\Users\\Geoffroy Leconte\\.julia\\packages\\QPSReader\\usDQr\\src\\readqps.jl:470\n",
      "┌ Info: Using 'BANDM' as NAME (l. 5)\n",
      "└ @ QPSReader C:\\Users\\Geoffroy Leconte\\.julia\\packages\\QPSReader\\usDQr\\src\\readqps.jl:751\n",
      "┌ Info: Using '....1' as objective (l. 20)\n",
      "└ @ QPSReader C:\\Users\\Geoffroy Leconte\\.julia\\packages\\QPSReader\\usDQr\\src\\readqps.jl:350\n",
      "┌ Info: Using 'ZZZZ0001' as RHS (l. 1815)\n",
      "└ @ QPSReader C:\\Users\\Geoffroy Leconte\\.julia\\packages\\QPSReader\\usDQr\\src\\readqps.jl:470\n"
     ]
    },
    {
     "name": "stdout",
     "output_type": "stream",
     "text": [
      "BEACONFD.SIF\n"
     ]
    },
    {
     "name": "stderr",
     "output_type": "stream",
     "text": [
      "┌ Info: Using 'BEACONFD' as NAME (l. 5)\n",
      "└ @ QPSReader C:\\Users\\Geoffroy Leconte\\.julia\\packages\\QPSReader\\usDQr\\src\\readqps.jl:751\n",
      "┌ Info: Using '11CSTR' as objective (l. 20)\n",
      "└ @ QPSReader C:\\Users\\Geoffroy Leconte\\.julia\\packages\\QPSReader\\usDQr\\src\\readqps.jl:350\n"
     ]
    },
    {
     "name": "stdout",
     "output_type": "stream",
     "text": [
      "BLEND.SIF\n",
      "BNL2.SIF\n"
     ]
    },
    {
     "name": "stderr",
     "output_type": "stream",
     "text": [
      "┌ Info: Using 'BEACON2' as RHS (l. 1996)\n",
      "└ @ QPSReader C:\\Users\\Geoffroy Leconte\\.julia\\packages\\QPSReader\\usDQr\\src\\readqps.jl:470\n",
      "┌ Info: Using 'BLEND' as NAME (l. 5)\n",
      "└ @ QPSReader C:\\Users\\Geoffroy Leconte\\.julia\\packages\\QPSReader\\usDQr\\src\\readqps.jl:751\n",
      "┌ Info: Using 'C' as objective (l. 98)\n",
      "└ @ QPSReader C:\\Users\\Geoffroy Leconte\\.julia\\packages\\QPSReader\\usDQr\\src\\readqps.jl:350\n",
      "┌ Info: Using '' as RHS (l. 376)\n",
      "└ @ QPSReader C:\\Users\\Geoffroy Leconte\\.julia\\packages\\QPSReader\\usDQr\\src\\readqps.jl:470\n",
      "┌ Info: Using 'BNL2' as NAME (l. 5)\n",
      "└ @ QPSReader C:\\Users\\Geoffroy Leconte\\.julia\\packages\\QPSReader\\usDQr\\src\\readqps.jl:751\n",
      "┌ Info: Using 'OBJ' as objective (l. 20)\n",
      "└ @ QPSReader C:\\Users\\Geoffroy Leconte\\.julia\\packages\\QPSReader\\usDQr\\src\\readqps.jl:350\n"
     ]
    },
    {
     "name": "stdout",
     "output_type": "stream",
     "text": [
      "BOEING1.SIF\n"
     ]
    },
    {
     "name": "stderr",
     "output_type": "stream",
     "text": [
      "┌ Info: Using 'RHS' as RHS (l. 11294)\n",
      "└ @ QPSReader C:\\Users\\Geoffroy Leconte\\.julia\\packages\\QPSReader\\usDQr\\src\\readqps.jl:470\n",
      "┌ Info: Using 'BOEING1' as NAME (l. 5)\n",
      "└ @ QPSReader C:\\Users\\Geoffroy Leconte\\.julia\\packages\\QPSReader\\usDQr\\src\\readqps.jl:751\n",
      "┌ Info: Using 'OBJECTIV' as objective (l. 23)\n",
      "└ @ QPSReader C:\\Users\\Geoffroy Leconte\\.julia\\packages\\QPSReader\\usDQr\\src\\readqps.jl:350\n",
      "┌ Info: Using 'RHS1' as RHS (l. 2372)\n",
      "└ @ QPSReader C:\\Users\\Geoffroy Leconte\\.julia\\packages\\QPSReader\\usDQr\\src\\readqps.jl:470\n",
      "┌ Info: Using 'RANGE1' as RANGES (l. 2446)\n",
      "└ @ QPSReader C:\\Users\\Geoffroy Leconte\\.julia\\packages\\QPSReader\\usDQr\\src\\readqps.jl:552\n"
     ]
    },
    {
     "name": "stdout",
     "output_type": "stream",
     "text": [
      "BOEING2.SIF\n"
     ]
    },
    {
     "name": "stderr",
     "output_type": "stream",
     "text": [
      "┌ Info: Using 'INTBOU' as BOUNDS (l. 2492)\n",
      "└ @ QPSReader C:\\Users\\Geoffroy Leconte\\.julia\\packages\\QPSReader\\usDQr\\src\\readqps.jl:622\n",
      "┌ Info: Using 'BOEING2' as NAME (l. 5)\n",
      "└ @ QPSReader C:\\Users\\Geoffroy Leconte\\.julia\\packages\\QPSReader\\usDQr\\src\\readqps.jl:751\n",
      "┌ Info: Using 'OBJECTIV' as objective (l. 23)\n",
      "└ @ QPSReader C:\\Users\\Geoffroy Leconte\\.julia\\packages\\QPSReader\\usDQr\\src\\readqps.jl:350\n",
      "┌ Info: Using 'RHS1' as RHS (l. 898)\n",
      "└ @ QPSReader C:\\Users\\Geoffroy Leconte\\.julia\\packages\\QPSReader\\usDQr\\src\\readqps.jl:470\n",
      "┌ Info: Using 'RANGE1' as RANGES (l. 919)\n",
      "└ @ QPSReader C:\\Users\\Geoffroy Leconte\\.julia\\packages\\QPSReader\\usDQr\\src\\readqps.jl:552\n"
     ]
    },
    {
     "name": "stdout",
     "output_type": "stream",
     "text": [
      "|\u001b[0m\u001b[1m    id \u001b[0m|\u001b[0m\u001b[1m         name \u001b[0m|\u001b[0m\u001b[1m     status \u001b[0m|\u001b[0m\u001b[1m objective \u001b[0m|\u001b[0m\u001b[1m     time \u001b[0m|\u001b[0m\u001b[1m  iter \u001b[0m|\u001b[0m\u001b[1m primal_fe\u001b[0m ⋯\n",
      "|\u001b[0m-------\u001b[0m|\u001b[0m--------------\u001b[0m|\u001b[0m------------\u001b[0m|\u001b[0m-----------\u001b[0m|\u001b[0m----------\u001b[0m|\u001b[0m-------\u001b[0m|\u001b[0m----------\u001b[0m ⋯\n",
      "|\u001b[0m\u001b[31;1m     1 \u001b[0m|\u001b[0m\u001b[31;1m ADLITTLE.SIF \u001b[0m|\u001b[0m\u001b[31;1m acceptable \u001b[0m|\u001b[0m\u001b[31;1m   2.3e+05 \u001b[0m|\u001b[0m\u001b[31;1m  8.2e-02 \u001b[0m|\u001b[0m\u001b[31;1m    38 \u001b[0m|\u001b[0m\u001b[31;1m     9.8e-\u001b[0m ⋯\n",
      "|\u001b[0m\u001b[31;1m     2 \u001b[0m|\u001b[0m\u001b[31;1m    AFIRO.SIF \u001b[0m|\u001b[0m\u001b[31;1m acceptable \u001b[0m|\u001b[0m\u001b[31;1m  -4.6e+02 \u001b[0m|\u001b[0m\u001b[31;1m  8.0e-03 \u001b[0m|\u001b[0m\u001b[31;1m    10 \u001b[0m|\u001b[0m\u001b[31;1m     8.3e-\u001b[0m ⋯\n",
      "|\u001b[0m\u001b[31;1m     3 \u001b[0m|\u001b[0m\u001b[31;1m      AGG.SIF \u001b[0m|\u001b[0m\u001b[31;1m   max_iter \u001b[0m|\u001b[0m\u001b[31;1m   1.9e+09 \u001b[0m|\u001b[0m\u001b[31;1m  6.0e-01 \u001b[0m|\u001b[0m\u001b[31;1m    40 \u001b[0m|\u001b[0m\u001b[31;1m     3.2e+\u001b[0m ⋯\n",
      "|\u001b[0m\u001b[31;1m     4 \u001b[0m|\u001b[0m\u001b[31;1m     AGG2.SIF \u001b[0m|\u001b[0m\u001b[31;1m   max_iter \u001b[0m|\u001b[0m\u001b[31;1m  -4.3e+06 \u001b[0m|\u001b[0m\u001b[31;1m  1.2e+00 \u001b[0m|\u001b[0m\u001b[31;1m    40 \u001b[0m|\u001b[0m\u001b[31;1m     4.9e+\u001b[0m ⋯\n",
      "|\u001b[0m\u001b[31;1m     5 \u001b[0m|\u001b[0m\u001b[31;1m     AGG3.SIF \u001b[0m|\u001b[0m\u001b[31;1m   max_iter \u001b[0m|\u001b[0m\u001b[31;1m   1.7e+09 \u001b[0m|\u001b[0m\u001b[31;1m  1.2e+00 \u001b[0m|\u001b[0m\u001b[31;1m    40 \u001b[0m|\u001b[0m\u001b[31;1m     1.6e+\u001b[0m ⋯\n",
      "|\u001b[0m\u001b[31;1m     6 \u001b[0m|\u001b[0m\u001b[31;1m    BANDM.SIF \u001b[0m|\u001b[0m\u001b[31;1m acceptable \u001b[0m|\u001b[0m\u001b[31;1m  -1.6e+02 \u001b[0m|\u001b[0m\u001b[31;1m  2.9e-01 \u001b[0m|\u001b[0m\u001b[31;1m    21 \u001b[0m|\u001b[0m\u001b[31;1m     3.1e-\u001b[0m ⋯\n",
      "|\u001b[0m\u001b[31;1m     7 \u001b[0m|\u001b[0m\u001b[31;1m BEACONFD.SIF \u001b[0m|\u001b[0m\u001b[31;1m acceptable \u001b[0m|\u001b[0m\u001b[31;1m   3.4e+04 \u001b[0m|\u001b[0m\u001b[31;1m  1.5e-01 \u001b[0m|\u001b[0m\u001b[31;1m    10 \u001b[0m|\u001b[0m\u001b[31;1m     7.3e-\u001b[0m ⋯\n",
      "|\u001b[0m\u001b[31;1m     8 \u001b[0m|\u001b[0m\u001b[31;1m    BLEND.SIF \u001b[0m|\u001b[0m\u001b[31;1m acceptable \u001b[0m|\u001b[0m\u001b[31;1m  -3.1e+01 \u001b[0m|\u001b[0m\u001b[31;1m  3.0e-02 \u001b[0m|\u001b[0m\u001b[31;1m    11 \u001b[0m|\u001b[0m\u001b[31;1m     4.6e-\u001b[0m ⋯\n",
      "|\u001b[0m\u001b[31;1m     9 \u001b[0m|\u001b[0m\u001b[31;1m     BNL2.SIF \u001b[0m|\u001b[0m\u001b[31;1m   max_iter \u001b[0m|\u001b[0m\u001b[31;1m   1.8e+03 \u001b[0m|\u001b[0m\u001b[31;1m  1.4e+01 \u001b[0m|\u001b[0m\u001b[31;1m    40 \u001b[0m|\u001b[0m\u001b[31;1m     1.2e-\u001b[0m ⋯\n",
      "|\u001b[0m\u001b[31;1m    10 \u001b[0m|\u001b[0m\u001b[31;1m  BOEING1.SIF \u001b[0m|\u001b[0m\u001b[31;1m   max_iter \u001b[0m|\u001b[0m\u001b[31;1m  -3.3e+02 \u001b[0m|\u001b[0m\u001b[31;1m  1.1e+00 \u001b[0m|\u001b[0m\u001b[31;1m    40 \u001b[0m|\u001b[0m\u001b[31;1m     1.4e-\u001b[0m ⋯\n",
      "|\u001b[0m\u001b[31;1m    11 \u001b[0m|\u001b[0m\u001b[31;1m  BOEING2.SIF \u001b[0m|\u001b[0m\u001b[31;1m acceptable \u001b[0m|\u001b[0m\u001b[31;1m  -3.2e+02 \u001b[0m|\u001b[0m\u001b[31;1m  1.8e-01 \u001b[0m|\u001b[0m\u001b[31;1m    22 \u001b[0m|\u001b[0m\u001b[31;1m     1.1e-\u001b[0m ⋯\n"
     ]
    },
    {
     "name": "stderr",
     "output_type": "stream",
     "text": [
      "┌ Info: Using 'INTBOU' as BOUNDS (l. 930)\n",
      "└ @ QPSReader C:\\Users\\Geoffroy Leconte\\.julia\\packages\\QPSReader\\usDQr\\src\\readqps.jl:622\n"
     ]
    }
   ],
   "source": [
    "df_test = DataFrame(id = Int[],\n",
    "         name = String[],\n",
    "         status = Symbol[],\n",
    "         objective = Float64[],\n",
    "         time = Float64[],\n",
    "         iter = Int[],\n",
    "         primal_feas = Float64[],\n",
    "         dual_feas = Float64[])\n",
    "\n",
    "\n",
    "\n",
    "i = 0\n",
    "i_stop = 11   #number of problems to solve\n",
    "for file_name in readdir(path_pb)\n",
    "    if file_name[end-3:end] == \".SIF\" && !(file_name in [\"80BAU3B.SIF\" ; \"BORE3D.SIF\"; \n",
    "                                                        \"CAPRI.SIF\"; \"CZPROB.SIF\"; \n",
    "                                                        \"ETAMACRO.SIF\"; \"FINNIS.SIF\";\n",
    "                                                        \"FORPLAN.SIF\"; \"GREENBEA.SIF\";\n",
    "                                                        \"GREENBEB.SIF\"; \"MAROS.SIF\";\n",
    "                                                        \"NESM.SIF\"; \"PEROLD.SIF\";\n",
    "                                                         \"PILOT-JA.SIF\"; \"PILOT-WE.SIF\";\n",
    "                                                         \"PILOT.SIF\"; \"PILOT4.SIF\";\n",
    "                                                         \"PILOT87.SIF\"; \"PILOTNOV.SIF\";\n",
    "                                                          \"RECIPELP.SIF\"; \"SHELL.SIF\";\n",
    "                                                         \"SIERRA.SIF\"; \"STAIR.SIF\";\n",
    "                                                         \"STANDATA.SIF\"; \"STANDGUB.SIF\";\n",
    "                                                        \"STANDMPS.SIF\"; \"TUFF.SIF\";\n",
    "                                                        \"VTP-BASE.SIF\"])   &&# problems with fixed variables\n",
    "                                        !(file_name in [\"25FV47.SIF\"; \"BNL1.SIF\";\n",
    "                                                        \"BRANDY.SIF\"; \"CRE-A.SIF\"]) # singular error\n",
    "                            \n",
    "        \n",
    "        i += 1\n",
    "        println(file_name)\n",
    "        pb_i = string(path_pb, \"\\\\\", file_name)\n",
    "        if file_name in [\"BLEND.SIF\"; \"DFL001.SIF\"; \"FORPLAN.SIF\"; \"GFRD-PNC.SIF\"; \"SIERRA.SIF\"]\n",
    "            qpdata_i = readqps(pb_i, mpsformat=:fixed) \n",
    "        else\n",
    "            qpdata_i = readqps(pb_i) \n",
    "        end\n",
    "\n",
    "        SM_i = SlackModel(createQuadraticModel(qpdata_i))\n",
    "\n",
    "        stats_mpc_i =  mehrotraPCQuadBounds(SM_i, 40, display=false)\n",
    "        \n",
    "        # \n",
    "        push!(df_test, Dict(:id => i,\n",
    "                             :name => file_name ,\n",
    "                             :status => stats_mpc_i.status,\n",
    "                             :objective => stats_mpc_i.objective,\n",
    "                             :time => stats_mpc_i.elapsed_time,\n",
    "                             :iter => stats_mpc_i.iter,\n",
    "                             :primal_feas => stats_mpc_i.primal_feas,\n",
    "                             :dual_feas => stats_mpc_i.dual_feas))\n",
    "    end\n",
    "    \n",
    "    if i == i_stop\n",
    "        break\n",
    "        break\n",
    "    end\n",
    "end\n",
    "\n",
    "markdown_table(stdout, df_test)"
   ]
  },
  {
   "cell_type": "code",
   "execution_count": null,
   "metadata": {},
   "outputs": [],
   "source": []
  },
  {
   "cell_type": "code",
   "execution_count": null,
   "metadata": {},
   "outputs": [],
   "source": []
  },
  {
   "cell_type": "code",
   "execution_count": null,
   "metadata": {},
   "outputs": [],
   "source": []
  },
  {
   "cell_type": "code",
   "execution_count": null,
   "metadata": {},
   "outputs": [],
   "source": []
  },
  {
   "cell_type": "code",
   "execution_count": 14,
   "metadata": {},
   "outputs": [
    {
     "name": "stdout",
     "output_type": "stream",
     "text": [
      "type of the fieldname nvar is Int64\n",
      "type of the fieldname x0 is Array{T,1} where T\n",
      "type of the fieldname lvar is Array{T,1} where T\n",
      "type of the fieldname uvar is Array{T,1} where T\n",
      "type of the fieldname ifix is Array{Int64,1}\n",
      "type of the fieldname ilow is Array{Int64,1}\n",
      "type of the fieldname iupp is Array{Int64,1}\n",
      "type of the fieldname irng is Array{Int64,1}\n",
      "type of the fieldname ifree is Array{Int64,1}\n",
      "type of the fieldname iinf is Array{Int64,1}\n",
      "type of the fieldname nbv is Int64\n",
      "type of the fieldname niv is Int64\n",
      "type of the fieldname nlvb is Int64\n",
      "type of the fieldname nlvo is Int64\n",
      "type of the fieldname nlvc is Int64\n",
      "type of the fieldname nlvbi is Int64\n",
      "type of the fieldname nlvci is Int64\n",
      "type of the fieldname nlvoi is Int64\n",
      "type of the fieldname nwv is Int64\n",
      "type of the fieldname ncon is Int64\n",
      "type of the fieldname y0 is Array{T,1} where T\n",
      "type of the fieldname lcon is Array{T,1} where T\n",
      "type of the fieldname ucon is Array{T,1} where T\n",
      "type of the fieldname jfix is Array{Int64,1}\n",
      "type of the fieldname jlow is Array{Int64,1}\n",
      "type of the fieldname jupp is Array{Int64,1}\n",
      "type of the fieldname jrng is Array{Int64,1}\n",
      "type of the fieldname jfree is Array{Int64,1}\n",
      "type of the fieldname jinf is Array{Int64,1}\n",
      "type of the fieldname nnzo is Int64\n",
      "type of the fieldname nnzj is Int64\n",
      "type of the fieldname nnzh is Int64\n",
      "type of the fieldname nlin is Int64\n",
      "type of the fieldname nnln is Int64\n",
      "type of the fieldname nnnet is Int64\n",
      "type of the fieldname nlnet is Int64\n",
      "type of the fieldname lin is Array{Int64,1}\n",
      "type of the fieldname nln is Array{Int64,1}\n",
      "type of the fieldname nnet is Array{Int64,1}\n",
      "type of the fieldname lnet is Array{Int64,1}\n",
      "type of the fieldname minimize is Bool\n",
      "type of the fieldname nlo is Int64\n",
      "type of the fieldname islp is Bool\n",
      "type of the fieldname name is String\n"
     ]
    }
   ],
   "source": [
    "T = typeof(SM2.meta)\n",
    "for (name, typ) in zip(fieldnames(T), T.types)\n",
    "    println(\"type of the fieldname $name is $typ\")\n",
    "end"
   ]
  },
  {
   "cell_type": "code",
   "execution_count": 180,
   "metadata": {},
   "outputs": [
    {
     "name": "stderr",
     "output_type": "stream",
     "text": [
      "┌ Info: Using 'CRE-B' as NAME (l. 5)\n",
      "└ @ QPSReader C:\\Users\\Geoffroy Leconte\\.julia\\packages\\QPSReader\\usDQr\\src\\readqps.jl:751\n",
      "┌ Info: Using 'COST' as objective (l. 9674)\n",
      "└ @ QPSReader C:\\Users\\Geoffroy Leconte\\.julia\\packages\\QPSReader\\usDQr\\src\\readqps.jl:350\n",
      "┌ Info: Using 'DEMAND' as RHS (l. 188105)\n",
      "└ @ QPSReader C:\\Users\\Geoffroy Leconte\\.julia\\packages\\QPSReader\\usDQr\\src\\readqps.jl:470\n"
     ]
    }
   ],
   "source": [
    "# problems: AGG.SIF\n",
    "qpdata5 = readqps(string(path_pb, \"\\\\AGG.SIF\"))\n",
    "QM5 = createQuadraticModel(qpdata5)\n",
    "SM5 = SlackModel(QM5);"
   ]
  },
  {
   "cell_type": "code",
   "execution_count": 181,
   "metadata": {},
   "outputs": [
    {
     "name": "stdout",
     "output_type": "stream",
     "text": [
      "Iter    primal      pdd      rb cond    rc cond    step x       μ\n",
      "   0   9.04e+07   1.0e+00    8.6e+03    1.9e+04    0.0e+00   1.1e+00\n",
      "   1   9.25e+07   1.0e+00    2.5e+03    1.0e+04    1.8e+02   1.1e+00\n",
      "   2   9.85e+07   1.0e+00    2.5e+03    1.0e+04    4.8e+02   1.3e+00\n",
      "   3   1.06e+08   1.0e+00    2.5e+03    1.0e+04    8.3e+02   1.5e+00\n",
      "   4   1.06e+08   1.0e+00    2.5e+03    1.0e+04    5.0e+00   1.5e+00\n",
      "  "
     ]
    },
    {
     "ename": "InterruptException",
     "evalue": "InterruptException:",
     "output_type": "error",
     "traceback": [
      "InterruptException:",
      "",
      "Stacktrace:",
      " [1] try_yieldto(::typeof(Base.ensure_rescheduled), ::Base.RefValue{Task}) at .\\task.jl:654",
      " [2] wait() at .\\task.jl:710",
      " [3] uv_write(::Base.PipeEndpoint, ::Ptr{UInt8}, ::UInt64) at .\\stream.jl:935",
      " [4] unsafe_write(::Base.PipeEndpoint, ::Ptr{UInt8}, ::UInt64) at .\\stream.jl:1007",
      " [5] unsafe_write at .\\io.jl:593 [inlined]",
      " [6] unsafe_write(::Base.PipeEndpoint, ::Base.RefValue{UInt8}, ::Int64) at .\\io.jl:591",
      " [7] write at .\\io.jl:594 [inlined]",
      " [8] write(::Base.PipeEndpoint, ::UInt8) at .\\stream.jl:1045",
      " [9] write at .\\io.jl:309 [inlined]",
      " [10] write at .\\io.jl:647 [inlined]",
      " [11] print(::IJulia.IJuliaStdio{Base.PipeEndpoint}, ::Char) at .\\char.jl:229",
      " [12] macro expansion at D:\\buildbot\\worker\\package_win64\\build\\usr\\share\\julia\\stdlib\\v1.4\\Printf\\src\\Printf.jl:169 [inlined]",
      " [13] mehrotraPCQuadBounds(::SlackModel, ::Int64; ϵ::Float64, tol_Δx::Float64, ϵ_μ::Float64, display::Bool) at .\\In[176]:168",
      " [14] mehrotraPCQuadBounds(::SlackModel, ::Int64) at .\\In[176]:4",
      " [15] top-level scope at In[181]:1"
     ]
    }
   ],
   "source": [
    "stats_mpc_5 =  mehrotraPCQuadBounds(SM5, 100)\n",
    "println(stats_mpc_5)"
   ]
  },
  {
   "cell_type": "code",
   "execution_count": 159,
   "metadata": {},
   "outputs": [
    {
     "data": {
      "text/plain": [
       "  Problem name: Generic-slack\n",
       "   All variables: ████████████████████ 615    All constraints: ████████████████████ 488   \n",
       "            free: ⋅⋅⋅⋅⋅⋅⋅⋅⋅⋅⋅⋅⋅⋅⋅⋅⋅⋅⋅⋅ 0                 free: ⋅⋅⋅⋅⋅⋅⋅⋅⋅⋅⋅⋅⋅⋅⋅⋅⋅⋅⋅⋅ 0     \n",
       "           lower: ███████⋅⋅⋅⋅⋅⋅⋅⋅⋅⋅⋅⋅⋅ 210              lower: ⋅⋅⋅⋅⋅⋅⋅⋅⋅⋅⋅⋅⋅⋅⋅⋅⋅⋅⋅⋅ 0     \n",
       "           upper: ██████████████⋅⋅⋅⋅⋅⋅ 405              upper: ⋅⋅⋅⋅⋅⋅⋅⋅⋅⋅⋅⋅⋅⋅⋅⋅⋅⋅⋅⋅ 0     \n",
       "         low/upp: ⋅⋅⋅⋅⋅⋅⋅⋅⋅⋅⋅⋅⋅⋅⋅⋅⋅⋅⋅⋅ 0              low/upp: ⋅⋅⋅⋅⋅⋅⋅⋅⋅⋅⋅⋅⋅⋅⋅⋅⋅⋅⋅⋅ 0     \n",
       "           fixed: ⋅⋅⋅⋅⋅⋅⋅⋅⋅⋅⋅⋅⋅⋅⋅⋅⋅⋅⋅⋅ 0                fixed: ████████████████████ 488   \n",
       "          infeas: ⋅⋅⋅⋅⋅⋅⋅⋅⋅⋅⋅⋅⋅⋅⋅⋅⋅⋅⋅⋅ 0               infeas: ⋅⋅⋅⋅⋅⋅⋅⋅⋅⋅⋅⋅⋅⋅⋅⋅⋅⋅⋅⋅ 0     \n",
       "            nnzh: (100.00% sparsity)   0               linear: ████████████████████ 488   \n",
       "                                                    nonlinear: ⋅⋅⋅⋅⋅⋅⋅⋅⋅⋅⋅⋅⋅⋅⋅⋅⋅⋅⋅⋅ 0     \n",
       "                                                         nnzj: ( 99.05% sparsity)   2862  \n",
       "\n"
      ]
     },
     "execution_count": 159,
     "metadata": {},
     "output_type": "execute_result"
    }
   ],
   "source": [
    "SM5.meta\n"
   ]
  },
  {
   "cell_type": "code",
   "execution_count": 17,
   "metadata": {},
   "outputs": [
    {
     "data": {
      "text/plain": [
       "19-element Array{Int64,1}:\n",
       " 33\n",
       " 34\n",
       " 35\n",
       " 36\n",
       " 37\n",
       " 38\n",
       " 39\n",
       " 40\n",
       " 41\n",
       " 42\n",
       " 43\n",
       " 44\n",
       " 45\n",
       " 46\n",
       " 47\n",
       " 48\n",
       " 49\n",
       " 50\n",
       " 51"
      ]
     },
     "execution_count": 17,
     "metadata": {},
     "output_type": "execute_result"
    }
   ],
   "source": [
    "SM2.meta.iupp"
   ]
  },
  {
   "cell_type": "code",
   "execution_count": null,
   "metadata": {},
   "outputs": [],
   "source": []
  }
 ],
 "metadata": {
  "kernelspec": {
   "display_name": "Julia 1.4.0",
   "language": "julia",
   "name": "julia-1.4"
  },
  "language_info": {
   "file_extension": ".jl",
   "mimetype": "application/julia",
   "name": "julia",
   "version": "1.4.0"
  }
 },
 "nbformat": 4,
 "nbformat_minor": 4
}
