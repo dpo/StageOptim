{
 "cells": [
  {
   "cell_type": "markdown",
   "metadata": {},
   "source": [
    "# Problèmes\n",
    "\n",
    "### 1)\n",
    "Primal: $\\underset{x \\in \\mathbb{R}^3}{\\min} \\frac{1}{2} x' Q x + c' x ~~~~~~~~ s.t. ~ A x = b ~, ~~ x \\ge 0$\n",
    "\n",
    "with  $Q = \\begin{bmatrix} 6 & 2 & 1\\\\ 2 & 5 & 2\\\\ 1 & 2 & 4 \\end{bmatrix} $, $c = \\begin{bmatrix} -8 \\\\ -3 \\\\ -3 \\end{bmatrix}$, $A = \\begin{bmatrix} 1 & 0 &1 \\\\ 0 & 1 & 1 \\end{bmatrix}$ , and $b = \\begin{bmatrix} 3 \\\\ 0 \\end{bmatrix} $.\n",
    "\n",
    "\n",
    "### 2) \n",
    "AFIRO        28 rows    32 cols        88 nonzeros       794 bytes      -4.6475314286E+02 optimalvalue"
   ]
  },
  {
   "cell_type": "code",
   "execution_count": 1,
   "metadata": {},
   "outputs": [],
   "source": [
    "using LinearAlgebra\n",
    "using LaTeXStrings\n",
    "using DataFrames\n",
    "using DataStructures\n",
    "using QuadraticModels\n",
    "using Printf\n",
    "using SparseArrays\n",
    "using BenchmarkTools\n",
    "using NLPModels\n",
    "using LinearOperators\n",
    "using QPSReader\n",
    "using SolverTools\n",
    "using SolverBenchmark"
   ]
  },
  {
   "cell_type": "markdown",
   "metadata": {},
   "source": [
    "# Mehrotra formulation plus générale:\n",
    "\n",
    "min $c_0 + c'x + \\frac{1}{2} x'Hx ~~~~$ s.t. $ Ax = b $ and $l \\le x \\le u$ "
   ]
  },
  {
   "cell_type": "code",
   "execution_count": 2,
   "metadata": {},
   "outputs": [
    {
     "data": {
      "text/plain": [
       "init_x0_lsq (generic function with 1 method)"
      ]
     },
     "execution_count": 2,
     "metadata": {},
     "output_type": "execute_result"
    }
   ],
   "source": [
    "function display_results(result)\n",
    "    # fonction pour l'affichage\n",
    "    println(\"\\n-----------------------------------------------------------------------\")\n",
    "    println(\"------------------------------- RESULTS -------------------------------\")\n",
    "    result\n",
    "end\n",
    "\n",
    "function init_x0(lvar, uvar)\n",
    "    # choice of an init point x0\n",
    "    x0 = zeros(length(lvar))\n",
    "    for i=1:length(x0)\n",
    "        if lvar[i] == -Inf && uvar[i] == Inf\n",
    "            x0[i] = 0.\n",
    "        elseif lvar[i] == -Inf && uvar[i] != Inf\n",
    "            x0[i] = uvar[i] - 1.\n",
    "        elseif lvar[i] != -Inf && uvar[i] == Inf\n",
    "            x0[i] = lvar[i] + 1.\n",
    "        else\n",
    "            x0[i] = (lvar[i] + uvar[i]) / 2 \n",
    "        end\n",
    "    end  \n",
    "    return x0\n",
    "end\n",
    "\n",
    "function init_x0_lsq(A, b, lvar, uvar)\n",
    "    x_tilde = A\\b\n",
    "    n = length(x_tilde)\n",
    "    for i=1:n\n",
    "        if x_tilde[i] <= lvar[i]\n",
    "            x_tilde[i] = lvar[i] + 1\n",
    "        elseif uvar[i] <= x_tilde[i]\n",
    "            x_tilde[i] = uvar[i] - 1\n",
    "        end\n",
    "        if !(lvar[i] < x_tilde[i] < uvar[i])\n",
    "            x_tilde[i] = (lvar[i] + uvar[i])/2\n",
    "        end\n",
    "    end\n",
    "\n",
    "    return x_tilde\n",
    "end\n",
    "    \n",
    "\n"
   ]
  },
  {
   "cell_type": "code",
   "execution_count": 3,
   "metadata": {},
   "outputs": [
    {
     "data": {
      "text/plain": [
       "is_in_Neighborhood_inf (generic function with 1 method)"
      ]
     },
     "execution_count": 3,
     "metadata": {},
     "output_type": "execute_result"
    }
   ],
   "source": [
    "function Compute_Alpha_dual(v_k, dir_v_k)\n",
    "    n = length(v_k)\n",
    "    if n == 0\n",
    "        return 0.\n",
    "    end\n",
    "    alphas = ones(n)\n",
    "    for i=1:n\n",
    "        if dir_v_k[i] < 0\n",
    "            alphas[i] = -v_k[i] * 0.999 / dir_v_k[i]\n",
    "        end\n",
    "    end\n",
    "    return minimum(alphas)\n",
    "end\n",
    "\n",
    "\n",
    "    \n",
    "function Compute_Alpha_primal(v_k, dir_v_k, lvar, uvar)\n",
    "    n = length(v_k)\n",
    "    alpha_l, alpha_u = ones(n), ones(n)\n",
    "    for i=1:n\n",
    "        if dir_v_k[i] > 0\n",
    "            alpha_u[i] = (uvar[i] - v_k[i]) * 0.999 / dir_v_k[i]\n",
    "        elseif dir_v_k[i] < 0\n",
    "            alpha_l[i] = (lvar[i] - v_k[i]) * 0.999 / dir_v_k[i]\n",
    "        end\n",
    "    end\n",
    "    return min(minimum(alpha_l), minimum(alpha_u))\n",
    "end\n",
    "\n",
    "function Compute_mu(x_l, x_u, s_l, s_u, lvar, uvar)\n",
    "    #x_l coordinates of x corresponding to finite lower bounds ( resp. finite upper bounds for x_u)\n",
    "    # arguments must have finite bounds \n",
    "    return (s_l' * (x_l-lvar) + s_u' * (uvar-x_u)) / (length(x_l) + length(x_u))\n",
    "end\n",
    "\n",
    "\n",
    "function is_in_Neighborhood_inf(gamma, x_l, x_u, s_l, s_u, lvar, uvar)\n",
    "    # check if the current point is in N_inf(gamma)\n",
    "    # true : (xi_l - lvari) * si_l >= gamma mu   and   (uvari - xi_u) * si_u >= gamma mu \n",
    "    mu = Compute_mu(x_l, x_u, s_l, s_u, lvar, uvar)\n",
    "    for i=1:length(x_l)\n",
    "        if (x_l[i] - lvar[i]) * s_l[i] < gamma*mu\n",
    "            return false\n",
    "        end\n",
    "    end\n",
    "    for i=1:length(x_u)\n",
    "        if (uvar[i] - x_u[i]) * s_u[i] < gamma*mu\n",
    "            return false\n",
    "        end\n",
    "    end\n",
    "    return true\n",
    "end"
   ]
  },
  {
   "cell_type": "code",
   "execution_count": 34,
   "metadata": {},
   "outputs": [
    {
     "data": {
      "text/plain": [
       "MehrotraPCQuadBounds (generic function with 1 method)"
      ]
     },
     "execution_count": 34,
     "metadata": {},
     "output_type": "execute_result"
    }
   ],
   "source": [
    "function MehrotraPCQuadBounds(QM, max_iter; eps=1e-6, tol_step_x=1e-6, eps_mu=1e-6, display=true)\n",
    "    \n",
    "    start_time = time()\n",
    "    elapsed_time = 0.0\n",
    "    \n",
    "    # get variables from QuadraticModel\n",
    "    lvar, uvar = QM.meta.lvar, QM.meta.uvar\n",
    "    x_k = init_x0(lvar, uvar)\n",
    "    id_non_inf_l, id_non_inf_u = findall((x -> x!=-Inf), lvar), findall((x -> x!=Inf), uvar) # finite bounds index\n",
    "    @assert all(x_k .> lvar) && all(x_k .< uvar)\n",
    "    A = jac(QM, x_k)\n",
    "    n_rows, n_cols = size(A) \n",
    "    Q = hess(QM, x_k)\n",
    "    c = grad(QM, zeros(n_cols))\n",
    "    c0 = obj(QM, zeros(n_cols))\n",
    "    @assert QM.meta.lcon == QM.meta.ucon # equality constraint (Ax=b)\n",
    "    b = QM.meta.lcon\n",
    "    x_k = init_x0_lsq(A, b, lvar, uvar)\n",
    "    @assert all(x_k .> lvar) && all(x_k .< uvar)\n",
    "    s_k_l, s_k_u = zeros(n_cols), zeros(n_cols)\n",
    "    s_k_l[id_non_inf_l] .= 1.\n",
    "    s_k_u[id_non_inf_u] .= 1.\n",
    "    lambda_k = Matrix(A)'\\(c +Q*x_k) # least square initialisation, s_0 = stilde_0\n",
    "    \n",
    "    rb_k = A * x_k - b\n",
    "    rc_k = -Q * x_k + A' * lambda_k + s_k_l - s_k_u - c\n",
    "    mu_k = Compute_mu(x_k[id_non_inf_l], x_k[id_non_inf_u], \n",
    "                        s_k_l[id_non_inf_l], s_k_u[id_non_inf_u], \n",
    "                        lvar[id_non_inf_l], uvar[id_non_inf_u])\n",
    "\n",
    "    k = 0\n",
    "    e = ones(n_cols)\n",
    "    n_c = norm(c)\n",
    "    n_b = norm(b)\n",
    "    \n",
    "    # matrices without infinity constraints\n",
    "    nb_non_inf_l, nb_non_inf_u = length(id_non_inf_l), length(id_non_inf_u) # number of finite constraints\n",
    "    \n",
    "    Xk_non_inf_l = Diagonal(x_k[id_non_inf_l])\n",
    "    Sk_non_inf_l = spzeros(nb_non_inf_l, n_cols)\n",
    "    I_non_inf_l = spzeros(n_cols, nb_non_inf_l)\n",
    "    for j=1:nb_non_inf_l   # cartesian index not working when nb_non_inf_l = 0\n",
    "        Sk_non_inf_l[j, id_non_inf_l[j]] = s_k_l[id_non_inf_l[j]]\n",
    "        I_non_inf_l[id_non_inf_l[j], j] = 1\n",
    "    end\n",
    "    \n",
    "    Xk_non_inf_u = Diagonal(x_k[id_non_inf_u])\n",
    "    Sk_non_inf_u = spzeros(nb_non_inf_u, n_cols)\n",
    "    I_op_non_inf_u = spzeros(n_cols, nb_non_inf_u)\n",
    "    for j=1:nb_non_inf_u \n",
    "        Sk_non_inf_u[j, id_non_inf_u[j]] = s_k_u[id_non_inf_u[j]]\n",
    "        I_op_non_inf_u[id_non_inf_u[j], j] = -1\n",
    "    end\n",
    "    Lvar_non_inf = Diagonal(lvar[id_non_inf_l]) \n",
    "    Uvar_non_inf = Diagonal(uvar[id_non_inf_u]) \n",
    "\n",
    "    # stopping criterion\n",
    "    quad_part = x_k' * Q * x_k \n",
    "    pdd = abs(quad_part + c' * x_k - b' * lambda_k ) / (1 + abs(c' * x_k + quad_part/2))\n",
    "    cond_rb, cond_rc = norm(rb_k) / (1 + n_b), norm(rc_k) / (1 + n_c)\n",
    "    opti_pdd, opti_rb, opti_rc = pdd < eps, cond_rb < eps, cond_rc < eps # start false?\n",
    "    small_step_x, small_mu = false, mu_k < eps_mu\n",
    "\n",
    "    # display\n",
    "    if display == true\n",
    "        println(\"Iter | primal_objective | primal-dual difference | rb condition | rc condition |   step x   |     mu\")\n",
    "        println(\"--------------------------------------------------------------------------------------------------------\")\n",
    "        @printf(\"% 4d |    % 7.4e   |        % 7.2e       |   % 7.2e  |   % 7.2e  | % 7.2e  | % 7.2e\\n\", \n",
    "                k, c0+c'*x_k +quad_part/2, pdd, cond_rb, cond_rc,0., mu_k)\n",
    "    end\n",
    "    \n",
    "\n",
    "    while k<max_iter && (!opti_pdd || !opti_rb || !opti_rc) && !small_step_x && !small_mu\n",
    "        \n",
    "        \n",
    "        # Affine scaling direction\n",
    "        Jacob_Fk = [-Q            A'                             I_non_inf_l                         I_op_non_inf_u\n",
    "                    A             spzeros(n_rows, n_rows)        spzeros(n_rows, nb_non_inf_l)       spzeros(n_rows, nb_non_inf_u)\n",
    "                    Sk_non_inf_l  spzeros(nb_non_inf_l, n_rows)  Xk_non_inf_l-Lvar_non_inf           spzeros(nb_non_inf_l, nb_non_inf_u)\n",
    "                    Sk_non_inf_u  spzeros(nb_non_inf_u, n_rows)  spzeros(nb_non_inf_u,nb_non_inf_l)  Xk_non_inf_u-Uvar_non_inf]\n",
    "        Fk_aff = [-rc_k\n",
    "                  -rb_k\n",
    "                  -(x_k[id_non_inf_l]-lvar[id_non_inf_l]).*s_k_l[id_non_inf_l]\n",
    "                  -(x_k[id_non_inf_u]-uvar[id_non_inf_u]).*s_k_u[id_non_inf_u]]\n",
    "\n",
    "        dir_aff_k = Jacob_Fk\\Fk_aff\n",
    "        \n",
    "        alpha_aff_pri = Compute_Alpha_primal(x_k, dir_aff_k[1:n_cols], lvar, uvar)\n",
    "        alpha_aff_dual_l = Compute_Alpha_dual(s_k_l[id_non_inf_l], \n",
    "                                            dir_aff_k[n_rows+n_cols+1: n_rows+n_cols+nb_non_inf_l])\n",
    "        alpha_aff_dual_u = Compute_Alpha_dual(s_k_u[id_non_inf_u], \n",
    "                                                dir_aff_k[n_rows+n_cols+nb_non_inf_l+1:end])\n",
    "        # pb above compute alpha dual\n",
    "\n",
    "        # alpha_aff_dual_final is the min of the 2 alpha_aff_dual\n",
    "        if nb_non_inf_l == 0\n",
    "            alpha_aff_dual_final = alpha_aff_dual_u\n",
    "        elseif nb_non_inf_u == 0\n",
    "            alpha_aff_dual_final = alpha_aff_dual_l\n",
    "        else\n",
    "            alpha_aff_dual_final = min(alpha_aff_dual_l, alpha_aff_dual_u)\n",
    "        end\n",
    "        \n",
    "        mu_aff = Compute_mu(x_k[id_non_inf_l] + alpha_aff_pri * dir_aff_k[1:n_cols][id_non_inf_l],\n",
    "                    x_k[id_non_inf_u] + alpha_aff_pri * dir_aff_k[1:n_cols][id_non_inf_u],\n",
    "                    s_k_l[id_non_inf_l] + alpha_aff_dual_final * dir_aff_k[n_rows+n_cols+1: n_rows+n_cols+nb_non_inf_l],\n",
    "                    s_k_u[id_non_inf_u] + alpha_aff_dual_final * dir_aff_k[n_rows+n_cols+nb_non_inf_l+1: end],\n",
    "                    lvar[id_non_inf_l], uvar[id_non_inf_u])\n",
    "        \n",
    "        sigma = (mu_aff / mu_k)^3\n",
    "\n",
    "        # corrector and centering step\n",
    "        Fk_cc = [zeros(n_rows+n_cols, 1)\n",
    "                 sigma*mu_k*e[1:nb_non_inf_l] - dir_aff_k[1:n_cols][id_non_inf_l].*dir_aff_k[n_rows+n_cols+1: n_rows+n_cols+nb_non_inf_l]\n",
    "                 -sigma*mu_k*e[1:nb_non_inf_u] - dir_aff_k[1:n_cols][id_non_inf_u].*dir_aff_k[n_rows+n_cols+nb_non_inf_l+1: end]] \n",
    "\n",
    "        dir_cc_k = Jacob_Fk\\Fk_cc\n",
    "        dir_k = dir_aff_k + dir_cc_k # final direction\n",
    "        \n",
    "        alpha_k_pri = Compute_Alpha_primal(x_k, dir_k[1:n_cols], lvar, uvar)\n",
    "        alpha_k_dual_l = Compute_Alpha_dual(s_k_l[id_non_inf_l], \n",
    "                                        dir_k[n_rows+n_cols+1: n_rows+n_cols+nb_non_inf_l])\n",
    "        \n",
    "        alpha_k_dual_u = Compute_Alpha_dual(s_k_u[id_non_inf_u], \n",
    "                                            dir_k[n_rows+n_cols+nb_non_inf_l+1: end])\n",
    "        \n",
    "        if nb_non_inf_l == 0\n",
    "            alpha_dual_final = alpha_k_dual_u\n",
    "        elseif nb_non_inf_u == 0\n",
    "            alpha_dual_final = alpha_k_dual_l\n",
    "        else\n",
    "            alpha_dual_final = min(alpha_k_dual_l, alpha_k_dual_u)\n",
    "        end\n",
    "        \n",
    "        # new parameters\n",
    "        x_k += alpha_k_pri * dir_k[1:n_cols]\n",
    "        lambda_k += alpha_dual_final * dir_k[n_cols+1: n_rows+n_cols]\n",
    "        s_k_l[id_non_inf_l] += alpha_dual_final * dir_k[n_rows+n_cols+1: n_rows+n_cols+nb_non_inf_l]\n",
    "        s_k_u[id_non_inf_u] += alpha_dual_final * dir_k[n_rows+n_cols+nb_non_inf_l+1: end]\n",
    "        \n",
    "        Xk_non_inf_l = Diagonal(x_k[id_non_inf_l])\n",
    "        for j=1:nb_non_inf_l\n",
    "            Sk_non_inf_l[j, id_non_inf_l[j]] = s_k_l[id_non_inf_l[j]]\n",
    "        end\n",
    "        Xk_non_inf_u = Diagonal(x_k[id_non_inf_u])\n",
    "        \n",
    "        for j=1:nb_non_inf_u\n",
    "            Sk_non_inf_u[j, id_non_inf_u[j]] = s_k_u[id_non_inf_u[j]]\n",
    "        end\n",
    "        \n",
    "        step_x = norm(alpha_k_pri * dir_k[1:n_cols])\n",
    "        mu_k = Compute_mu(x_k[id_non_inf_l], x_k[id_non_inf_u], \n",
    "                        s_k_l[id_non_inf_l], s_k_u[id_non_inf_u], \n",
    "                        lvar[id_non_inf_l], uvar[id_non_inf_u])\n",
    "\n",
    "        rb_k = A * x_k - b\n",
    "        rc_k = -Q * x_k + A' * lambda_k + s_k_l - s_k_u - c\n",
    "        \n",
    "        # update stopping criterion values:\n",
    "        quad_part = x_k' * Q * x_k \n",
    "        pdd = abs(quad_part + c' * x_k - b' * lambda_k - s_k_l[id_non_inf_l]'*lvar[id_non_inf_l] +  s_k_u[id_non_inf_u]'*uvar[id_non_inf_u] ) / \n",
    "                    (1 + abs(c' * x_k + quad_part/2)) \n",
    "        cond_rb = norm(rb_k) / (1 + n_b)\n",
    "        cond_rc = norm(rc_k) / (1 + n_c)\n",
    "        opti_pdd, opti_rb, opti_rc = pdd < eps, cond_rb < eps, cond_rc < eps\n",
    "        small_step_x, small_mu = step_x < tol_step_x, mu_k < eps_mu\n",
    "        k += 1\n",
    "        \n",
    "        if display == true\n",
    "            @printf(\"% 4d |    % 7.4e   |        % 7.2e       |   % 7.2e  |   % 7.2e  | % 7.2e  | % 7.2e\\n\", \n",
    "                k, c0+c'*x_k +quad_part/2, pdd, cond_rb, cond_rc,step_x, mu_k)\n",
    "        end\n",
    "        \n",
    "\n",
    "    end\n",
    "    \n",
    "    if display == true\n",
    "        criteria = [k >= max_iter,  opti_pdd, opti_rb, opti_rc, small_step_x, small_mu]\n",
    "        criteria_names = [\"reached max_iter\",  \"pdd <= eps\", \"cond_rb <= eps\", \"cond_rc <= eps\", \n",
    "            \"step_x <= small_step_x\", \"mu_k <= eps_mu\"]\n",
    "        println(\"\\n stopping criterion = \",criteria_names[findall(criteria)])\n",
    "    end\n",
    "    \n",
    "    elapsed_time = time() - start_time\n",
    "    \n",
    "    if k>= max_iter\n",
    "        status = :max_iter\n",
    "    else\n",
    "        status = :acceptable\n",
    "    end\n",
    "    \n",
    "    GenExStats = GenericExecutionStats(status, QM, solution = x_k,\n",
    "                               objective = c0 + c'*x_k + x_k'*Q*x_k/2 , \n",
    "                                dual_feas = norm(rc_k), primal_feas = norm(rb_k),\n",
    "                                multipliers = lambda_k,\n",
    "                                multipliers_L = s_k_l,\n",
    "                                multipliers_U = s_k_u,\n",
    "                                iter = k, elapsed_time=elapsed_time)\n",
    "    return GenExStats\n",
    "end\n"
   ]
  },
  {
   "cell_type": "markdown",
   "metadata": {},
   "source": [
    "### bibliothèque QuadraticModels\n",
    "\n",
    "optimize $c_0 + c'x + \\frac{1}{2} x'Hx ~~~~$ s.t. $~~L \\le Ax \\le U$ and $l \\le x \\le u$ \n",
    "\n",
    "Ici L = lcon, U = ucon, l = lvar, u = uvar"
   ]
  },
  {
   "cell_type": "code",
   "execution_count": 28,
   "metadata": {},
   "outputs": [],
   "source": [
    "# probleme1\n",
    "Q = [6 2 1\n",
    "    2 5 2\n",
    "    1 2 4]\n",
    "c = [-8; -3; -3]\n",
    "c0 = 0.\n",
    "A = [1 0 1\n",
    "    0 1 1]\n",
    "b = [0; 3]\n",
    "lvar = [0;0;0]\n",
    "uvar = [Inf; Inf; Inf]\n",
    "lcon = b\n",
    "ucon = b\n",
    "\n",
    "x01 = [1.; 2.; 3.];\n"
   ]
  },
  {
   "cell_type": "code",
   "execution_count": 29,
   "metadata": {},
   "outputs": [
    {
     "data": {
      "text/plain": [
       "QuadraticModel"
      ]
     },
     "execution_count": 29,
     "metadata": {},
     "output_type": "execute_result"
    }
   ],
   "source": [
    "QM = QuadraticModel(c, Q, A=A, lcon=lcon, ucon=ucon, lvar=lvar, uvar=uvar, x0=x01, c0=c0, name=\"QM1\")\n",
    "SM = SlackModel(QM)\n",
    "typeof(SM)"
   ]
  },
  {
   "cell_type": "code",
   "execution_count": 30,
   "metadata": {},
   "outputs": [
    {
     "name": "stdout",
     "output_type": "stream",
     "text": [
      "Iter | primal_objective | primal-dual difference | rb condition | rc condition |   step x   |     mu\n",
      "--------------------------------------------------------------------------------------------------------\n",
      "   0 |     1.4000e+01   |         6.67e-01       |    5.59e-01  |    2.37e-01  |  0.00e+00  |  1.67e+00\n",
      "   1 |     1.2894e+01   |         6.89e-03       |    2.96e-02  |    4.17e-02  |  1.34e+00  |  3.25e-02\n",
      "   2 |     1.3501e+01   |         1.31e-03       |    6.02e-04  |    8.48e-04  |  1.18e-01  |  2.00e-03\n",
      "   3 |     1.3500e+01   |         1.23e-06       |    6.26e-07  |    8.30e-07  |  2.27e-03  |  2.03e-06\n",
      "   4 |     1.3500e+01   |         1.23e-09       |    6.26e-10  |    8.30e-10  |  2.25e-06  |  2.03e-09\n",
      "\n",
      " stopping criterion = [\"pdd <= eps\", \"cond_rb <= eps\", \"cond_rc <= eps\", \"mu_k <= eps_mu\"]\n",
      "Generic Execution stats\n",
      "  status: solved to within acceptable tolerances\n",
      "  objective value: 13.500000000893674\n",
      "  primal feasibility: 2.504818221598968e-9\n",
      "  dual feasibility: 8.34899012424236e-9\n",
      "  solution: [2.0479913301737208e-9  3.0000000009278027  1.92386161922289e-10]\n",
      "  multipliers: [-9.94335922280764  12.00000001313387]\n",
      "  multipliers_L: [1.9433592346124733  6.384354990274742e-10  0.9433592077062981]\n",
      "  multipliers_U: [0.0  0.0  0.0]\n",
      "  iterations: 4\n",
      "  elapsed time: 0.20199990272521973\n"
     ]
    }
   ],
   "source": [
    "stats_mpc1 =  MehrotraPCQuadBounds(SM, 20)\n",
    "println(stats_mpc1)"
   ]
  },
  {
   "cell_type": "code",
   "execution_count": 31,
   "metadata": {},
   "outputs": [
    {
     "name": "stdout",
     "output_type": "stream",
     "text": [
      "|\u001b[0m\u001b[1m    id \u001b[0m|\u001b[0m\u001b[1m  name \u001b[0m|\u001b[0m\u001b[1m     status \u001b[0m|\u001b[0m\u001b[1m objective \u001b[0m|\u001b[0m\u001b[1m     time \u001b[0m|\u001b[0m\u001b[1m  iter \u001b[0m|\u001b[0m\u001b[1m primal_feas \u001b[0m|\u001b[0m\u001b[1m du\u001b[0m ⋯\n",
      "|\u001b[0m-------\u001b[0m|\u001b[0m-------\u001b[0m|\u001b[0m------------\u001b[0m|\u001b[0m-----------\u001b[0m|\u001b[0m----------\u001b[0m|\u001b[0m-------\u001b[0m|\u001b[0m-------------\u001b[0m|\u001b[0m---\u001b[0m ⋯\n",
      "|\u001b[0m\u001b[31;1m     1 \u001b[0m|\u001b[0m\u001b[31;1m  test \u001b[0m|\u001b[0m\u001b[31;1m acceptable \u001b[0m|\u001b[0m\u001b[31;1m   1.4e+01 \u001b[0m|\u001b[0m\u001b[31;1m  2.0e-01 \u001b[0m|\u001b[0m\u001b[31;1m    12 \u001b[0m|\u001b[0m\u001b[31;1m     2.5e-09 \u001b[0m|\u001b[0m\u001b[31;1m   \u001b[0m ⋯\n",
      "|\u001b[0m\u001b[31;1m     2 \u001b[0m|\u001b[0m\u001b[31;1m test2 \u001b[0m|\u001b[0m\u001b[31;1m acceptable \u001b[0m|\u001b[0m\u001b[31;1m   1.4e+01 \u001b[0m|\u001b[0m\u001b[31;1m  2.0e-01 \u001b[0m|\u001b[0m\u001b[31;1m    11 \u001b[0m|\u001b[0m\u001b[31;1m     2.5e-09 \u001b[0m|\u001b[0m\u001b[31;1m   \u001b[0m ⋯\n"
     ]
    }
   ],
   "source": [
    "n = 1\n",
    "df_test = DataFrame(id = Int[],\n",
    "         name = String[],\n",
    "         status = Symbol[],\n",
    "         objective = Float64[],\n",
    "         time = Float64[],\n",
    "         iter = Int[],\n",
    "         primal_feas = Float64[],\n",
    "         dual_feas = Float64[])\n",
    "\n",
    "push!(df_test, Dict(:id => 1,\n",
    "         :name => \"test\" ,\n",
    "         :status => stats_mpc1.status,\n",
    "         :objective => stats_mpc1.objective,\n",
    "         :time => stats_mpc1.elapsed_time,\n",
    "         :iter => 12,\n",
    "         :primal_feas => stats_mpc1.primal_feas,\n",
    "         :dual_feas => stats_mpc1.dual_feas))\n",
    "\n",
    "push!(df_test, Dict(:id => 2,\n",
    "         :name => \"test2\" ,\n",
    "         :status => stats_mpc1.status,\n",
    "         :objective => stats_mpc1.objective,\n",
    "         :time => stats_mpc1.elapsed_time,\n",
    "         :iter => 11,\n",
    "         :primal_feas => stats_mpc1.primal_feas,\n",
    "         :dual_feas => stats_mpc1.dual_feas))\n",
    "\n",
    "df_test\n",
    "markdown_table(stdout, df_test)"
   ]
  },
  {
   "cell_type": "code",
   "execution_count": 9,
   "metadata": {},
   "outputs": [
    {
     "name": "stdout",
     "output_type": "stream",
     "text": [
      "|\u001b[0m\u001b[1m    id \u001b[0m|\u001b[0m\u001b[1m    name \u001b[0m|\u001b[0m\u001b[1m  status \u001b[0m|\u001b[0m\u001b[1m        f \u001b[0m|\u001b[0m\u001b[1m        t \u001b[0m|\u001b[0m\u001b[1m  iter \u001b[0m|\u001b[0m\u001b[1m irrelevant \u001b[0m|\u001b[0m\n",
      "|\u001b[0m-------\u001b[0m|\u001b[0m---------\u001b[0m|\u001b[0m---------\u001b[0m|\u001b[0m----------\u001b[0m|\u001b[0m----------\u001b[0m|\u001b[0m-------\u001b[0m|\u001b[0m------------\u001b[0m|\u001b[0m\n",
      "|\u001b[0m\u001b[31;1m     1 \u001b[0m|\u001b[0m\u001b[31;1m prob001 \u001b[0m|\u001b[0m\u001b[31;1m failure \u001b[0m|\u001b[0m\u001b[31;1m -6.9e-01 \u001b[0m|\u001b[0m\u001b[31;1m  6.2e+01 \u001b[0m|\u001b[0m\u001b[31;1m    70 \u001b[0m|\u001b[0m\u001b[31;1m    8.9e-01 \u001b[0m|\u001b[0m\n",
      "|\u001b[0m\u001b[31;1m     2 \u001b[0m|\u001b[0m\u001b[31;1m prob002 \u001b[0m|\u001b[0m\u001b[31;1m failure \u001b[0m|\u001b[0m\u001b[31;1m -7.6e-01 \u001b[0m|\u001b[0m\u001b[31;1m  3.5e+02 \u001b[0m|\u001b[0m\u001b[31;1m    10 \u001b[0m|\u001b[0m\u001b[31;1m   -2.3e+00 \u001b[0m|\u001b[0m\n",
      "|\u001b[0m\u001b[31;1m     3 \u001b[0m|\u001b[0m\u001b[31;1m prob003 \u001b[0m|\u001b[0m\u001b[31;1m success \u001b[0m|\u001b[0m\u001b[31;1m  4.0e-01 \u001b[0m|\u001b[0m\u001b[31;1m  7.7e+02 \u001b[0m|\u001b[0m\u001b[31;1m    10 \u001b[0m|\u001b[0m\u001b[31;1m   -1.2e+00 \u001b[0m|\u001b[0m\n",
      "|\u001b[0m\u001b[31;1m     4 \u001b[0m|\u001b[0m\u001b[31;1m prob004 \u001b[0m|\u001b[0m\u001b[31;1m success \u001b[0m|\u001b[0m\u001b[31;1m  8.1e-01 \u001b[0m|\u001b[0m\u001b[31;1m  4.3e+01 \u001b[0m|\u001b[0m\u001b[31;1m    80 \u001b[0m|\u001b[0m\u001b[31;1m   -8.8e-01 \u001b[0m|\u001b[0m\n",
      "|\u001b[0m\u001b[31;1m     5 \u001b[0m|\u001b[0m\u001b[31;1m prob005 \u001b[0m|\u001b[0m\u001b[31;1m success \u001b[0m|\u001b[0m\u001b[31;1m -3.5e-01 \u001b[0m|\u001b[0m\u001b[31;1m  2.7e+02 \u001b[0m|\u001b[0m\u001b[31;1m    30 \u001b[0m|\u001b[0m\u001b[31;1m   -4.9e-01 \u001b[0m|\u001b[0m\n",
      "|\u001b[0m\u001b[31;1m     6 \u001b[0m|\u001b[0m\u001b[31;1m prob006 \u001b[0m|\u001b[0m\u001b[31;1m success \u001b[0m|\u001b[0m\u001b[31;1m -1.9e-01 \u001b[0m|\u001b[0m\u001b[31;1m  6.7e+01 \u001b[0m|\u001b[0m\u001b[31;1m    80 \u001b[0m|\u001b[0m\u001b[31;1m    5.1e-01 \u001b[0m|\u001b[0m\n",
      "|\u001b[0m\u001b[31;1m     7 \u001b[0m|\u001b[0m\u001b[31;1m prob007 \u001b[0m|\u001b[0m\u001b[31;1m success \u001b[0m|\u001b[0m\u001b[31;1m -1.6e+00 \u001b[0m|\u001b[0m\u001b[31;1m  1.6e+02 \u001b[0m|\u001b[0m\u001b[31;1m    60 \u001b[0m|\u001b[0m\u001b[31;1m   -7.6e-01 \u001b[0m|\u001b[0m\n",
      "|\u001b[0m\u001b[31;1m     8 \u001b[0m|\u001b[0m\u001b[31;1m prob008 \u001b[0m|\u001b[0m\u001b[31;1m success \u001b[0m|\u001b[0m\u001b[31;1m -2.5e+00 \u001b[0m|\u001b[0m\u001b[31;1m  6.1e+02 \u001b[0m|\u001b[0m\u001b[31;1m    40 \u001b[0m|\u001b[0m\u001b[31;1m   -7.7e-01 \u001b[0m|\u001b[0m\n",
      "|\u001b[0m\u001b[31;1m     9 \u001b[0m|\u001b[0m\u001b[31;1m prob009 \u001b[0m|\u001b[0m\u001b[31;1m success \u001b[0m|\u001b[0m\u001b[31;1m  2.3e+00 \u001b[0m|\u001b[0m\u001b[31;1m  1.4e+02 \u001b[0m|\u001b[0m\u001b[31;1m    40 \u001b[0m|\u001b[0m\u001b[31;1m   -3.0e-02 \u001b[0m|\u001b[0m\n",
      "|\u001b[0m\u001b[31;1m    10 \u001b[0m|\u001b[0m\u001b[31;1m prob010 \u001b[0m|\u001b[0m\u001b[31;1m failure \u001b[0m|\u001b[0m\u001b[31;1m  2.2e-01 \u001b[0m|\u001b[0m\u001b[31;1m  8.4e+02 \u001b[0m|\u001b[0m\u001b[31;1m    50 \u001b[0m|\u001b[0m\u001b[31;1m   -1.3e+00 \u001b[0m|\u001b[0m\n"
     ]
    }
   ],
   "source": [
    "using DataFrames, Printf, Random\n",
    "\n",
    "Random.seed!(0)\n",
    "\n",
    "n = 10\n",
    "names = [:alpha, :beta, :gamma]\n",
    "stats = Dict(name => DataFrame(:id => 1:n,\n",
    "         :name => [@sprintf(\"prob%03d\", i) for i = 1:n],\n",
    "         :status => map(x -> x < 0.75 ? :success : :failure, rand(n)),\n",
    "         :f => randn(n),\n",
    "         :t => 1e-3 .+ rand(n) * 1000,\n",
    "         :iter => rand(10:10:100, n),\n",
    "         :irrelevant => randn(n)) for name in names)\n",
    "markdown_table(stdout, stats[:alpha])"
   ]
  },
  {
   "cell_type": "code",
   "execution_count": 10,
   "metadata": {},
   "outputs": [
    {
     "data": {
      "text/plain": [
       "5.0959999561309814"
      ]
     },
     "execution_count": 10,
     "metadata": {},
     "output_type": "execute_result"
    }
   ],
   "source": [
    "stats_mpc1.elapsed_time"
   ]
  },
  {
   "cell_type": "code",
   "execution_count": 11,
   "metadata": {},
   "outputs": [
    {
     "name": "stdout",
     "output_type": "stream",
     "text": [
      "Iter | primal_objective | primal-dual difference | rb condition | rc condition |   step x   |     mu\n",
      "--------------------------------------------------------------------------------------------------------\n",
      "   0 |     1.4000e+01   |         6.67e-01       |    5.59e-01  |    2.37e-01  |  0.00e+00  |  1.67e+00\n",
      "   1 |     1.2894e+01   |         6.89e-03       |    2.96e-02  |    4.17e-02  |  1.34e+00  |  3.25e-02\n",
      "   2 |     1.3501e+01   |         1.31e-03       |    6.02e-04  |    8.48e-04  |  1.18e-01  |  2.00e-03\n",
      "   3 |     1.3500e+01   |         1.23e-06       |    6.26e-07  |    8.30e-07  |  2.27e-03  |  2.03e-06\n",
      "   4 |     1.3500e+01   |         1.23e-09       |    6.26e-10  |    8.30e-10  |  2.25e-06  |  2.03e-09\n",
      "\n",
      " stopping criterion = [\"pdd <= eps\", \"cond_rb <= eps\", \"cond_rc <= eps\", \"mu_k <= eps_mu\"]\n",
      "Generic Execution stats\n",
      "  status: solved to within acceptable tolerances\n",
      "  objective value: 13.500000000893674\n",
      "  primal feasibility: 2.504818221598968e-9\n",
      "  dual feasibility: 8.34899012424236e-9\n",
      "  solution: [-2.0479913301737208e-9  -3.0000000009278027  -1.92386161922289e-10]\n",
      "  multipliers: [-9.94335922280764  12.00000001313387]\n",
      "  multipliers_L: [0.0  0.0  0.0]\n",
      "  multipliers_U: [1.9433592346124733  6.384354990274742e-10  0.9433592077062981]\n",
      "  iterations: 4\n",
      "  elapsed time: 0.5559999942779541\n"
     ]
    }
   ],
   "source": [
    "#pb verif\n",
    "\n",
    "QM_verif = QuadraticModel(c*(-1), Q, A=A*(-1), lcon=lcon, ucon=ucon, lvar=-uvar, uvar=lvar, x0=x01, c0=c0, name=\"QM1\")\n",
    "SM_verif = SlackModel(QM_verif)\n",
    "stats_mpc_verif =  MehrotraPCQuadBounds(SM_verif, 20);\n",
    "println(stats_mpc_verif)"
   ]
  },
  {
   "cell_type": "code",
   "execution_count": 12,
   "metadata": {},
   "outputs": [
    {
     "name": "stdout",
     "output_type": "stream",
     "text": [
      "Iter | primal_objective | primal-dual difference | rb condition | rc condition |   step x   |     mu\n",
      "--------------------------------------------------------------------------------------------------------\n",
      "   0 |     1.0000e+00   |         3.33e-01       |    1.00e+00  |    9.57e-01  |  0.00e+00  |  1.00e+00\n",
      "   1 |     1.1111e-01   |         4.04e-01       |    0.00e+00  |    1.84e-16  |  1.19e+00  |  1.50e-01\n",
      "   2 |     6.4513e-03   |         6.75e-03       |    0.00e+00  |    5.55e-17  |  1.28e-01  |  2.26e-03\n",
      "   3 |     6.4513e-06   |         6.79e-06       |    0.00e+00  |    3.83e-20  |  7.89e-03  |  2.26e-06\n",
      "   4 |     6.4513e-09   |         6.79e-09       |    0.00e+00  |    1.11e-16  |  7.89e-06  |  2.26e-09\n",
      "\n",
      " stopping criterion = [\"pdd <= eps\", \"cond_rb <= eps\", \"cond_rc <= eps\", \"mu_k <= eps_mu\"]\n",
      "Generic Execution stats\n",
      "  status: solved to within acceptable tolerances\n",
      "  objective value: 6.451292182287191e-9\n",
      "  primal feasibility: 0.0\n",
      "  dual feasibility: 2.2204460492504393e-16\n",
      "  solution: [6.451292182287191e-9  0.49999999677435386  0.4999999967743539]\n",
      "  multipliers: [-3.38004754754717e-10]\n",
      "  multipliers_L: [1.000000000338005  3.380047547546641e-10  3.380047547546641e-10]\n",
      "  multipliers_U: [0.0  0.0  0.0]\n",
      "  iterations: 4\n",
      "  elapsed time: 0.1979999542236328\n"
     ]
    }
   ],
   "source": [
    "### pb verif 2\n",
    "c2 = [1; 0; 0]\n",
    "A2 = Matrix([1, 1, 1]')\n",
    "b2 = [1];\n",
    "QM_verif2 = QuadraticModel(c2, zeros(3,3), A=A2, lcon=b2, ucon=b2, lvar=[0.;0;0], \n",
    "                uvar=[Inf; Inf; Inf], x0=x01, c0=c0, name=\"QMverfi2\")\n",
    "SM_verif2 = SlackModel(QM_verif2)\n",
    "stats_mpc_verif2 =  MehrotraPCQuadBounds(SM_verif2, 20);\n",
    "println(stats_mpc_verif2)"
   ]
  },
  {
   "cell_type": "markdown",
   "metadata": {},
   "source": [
    "# Lecture des donnees .SIF"
   ]
  },
  {
   "cell_type": "code",
   "execution_count": 13,
   "metadata": {},
   "outputs": [
    {
     "data": {
      "text/plain": [
       "displayQuadraticModel (generic function with 1 method)"
      ]
     },
     "execution_count": 13,
     "metadata": {},
     "output_type": "execute_result"
    }
   ],
   "source": [
    "\n",
    "function createQuadraticModel(qpdata)\n",
    "    # probleme du point initial\n",
    "    x0 = init_x0(qpdata.lvar, qpdata.uvar)\n",
    "    return QuadraticModel(qpdata.c, qpdata.qrows, qpdata.qcols, qpdata.qvals,\n",
    "            Arows=qpdata.arows, Acols=qpdata.acols, Avals=qpdata.avals, \n",
    "            lcon=qpdata.lcon, ucon=qpdata.ucon, lvar=qpdata.lvar, uvar=qpdata.uvar,\n",
    "            c0=qpdata.c0, x0=x0)\n",
    "end\n",
    "\n",
    "function displayQuadraticModel(QM)\n",
    "    #println(\"A = \", Matrix(jac(QM, QM.meta.x0)))\n",
    "    #println(\"Q = \", Matrix(hess(QM, QM.meta.x0)))\n",
    "    println(\"lvar = \", QM.meta.lvar)\n",
    "    println(\"uvar = \", QM.meta.uvar)\n",
    "    println(\"x0 = \", QM.meta.x0)\n",
    "    #println(\"lcon = \", QM.meta.lcon)\n",
    "    #println(\"ucon = \", QM.meta.ucon)\n",
    "end"
   ]
  },
  {
   "cell_type": "code",
   "execution_count": 14,
   "metadata": {},
   "outputs": [
    {
     "data": {
      "text/plain": [
       "\"C:\\\\Users\\\\Geoffroy Leconte\\\\Documents\\\\cours\\\\TFE\\\\code\\\\problemes_netlib\\\\AFIRO.SIF\""
      ]
     },
     "execution_count": 14,
     "metadata": {},
     "output_type": "execute_result"
    }
   ],
   "source": [
    "path_pb = \"C:\\\\Users\\\\Geoffroy Leconte\\\\Documents\\\\cours\\\\TFE\\\\code\\\\problemes_netlib\"\n",
    "afiro = string(path_pb, \"\\\\AFIRO.SIF\")"
   ]
  },
  {
   "cell_type": "code",
   "execution_count": 15,
   "metadata": {},
   "outputs": [
    {
     "name": "stderr",
     "output_type": "stream",
     "text": [
      "┌ Info: Using 'AFIRO' as NAME (l. 5)\n",
      "└ @ QPSReader C:\\Users\\Geoffroy Leconte\\.julia\\packages\\QPSReader\\usDQr\\src\\readqps.jl:751\n",
      "┌ Info: Using 'COST' as objective (l. 47)\n",
      "└ @ QPSReader C:\\Users\\Geoffroy Leconte\\.julia\\packages\\QPSReader\\usDQr\\src\\readqps.jl:350\n",
      "┌ Info: Using 'B' as RHS (l. 96)\n",
      "└ @ QPSReader C:\\Users\\Geoffroy Leconte\\.julia\\packages\\QPSReader\\usDQr\\src\\readqps.jl:470\n"
     ]
    }
   ],
   "source": [
    "qpdata2 = readqps(afiro)  # obj   -4.6475314286E+02\n",
    "qpdata2.contypes\n",
    "QM2 = createQuadraticModel(qpdata2)\n",
    "SM2 = SlackModel(QM2);\n",
    "#displayQuadraticModel(SM2)"
   ]
  },
  {
   "cell_type": "code",
   "execution_count": 16,
   "metadata": {},
   "outputs": [
    {
     "name": "stdout",
     "output_type": "stream",
     "text": [
      "Iter | primal_objective | primal-dual difference | rb condition | rc condition |   step x   |     mu\n",
      "--------------------------------------------------------------------------------------------------------\n",
      "   0 |     4.3820e+02   |         6.83e-01       |    4.44e-01  |    9.54e-01  |  0.00e+00  |  3.64e+01\n",
      "   1 |     3.4744e+02   |         5.55e+00       |    4.22e-01  |    9.22e-01  |  1.45e+01  |  3.61e+01\n",
      "   2 |    -5.4715e+00   |         2.38e+02       |    3.85e-01  |    8.58e-01  |  6.16e+01  |  3.54e+01\n",
      "   3 |     3.6743e+01   |         3.61e+01       |    3.84e-16  |    7.04e-01  |  2.20e+02  |  3.31e+01\n",
      "   4 |     6.7364e+01   |         1.07e+01       |    4.28e-16  |    3.31e-01  |  4.45e+01  |  1.76e+01\n",
      "   5 |    -1.5940e+02   |         1.70e+00       |    5.84e-16  |    1.83e-01  |  3.13e+02  |  9.31e+00\n",
      "   6 |    -4.0241e+02   |         3.17e-01       |    2.29e-15  |    4.03e-02  |  4.98e+02  |  3.99e+00\n",
      "   7 |    -4.5934e+02   |         4.20e-02       |    1.03e-15  |    8.04e-03  |  1.06e+02  |  6.96e-01\n",
      "   8 |    -4.6350e+02   |         5.62e-03       |    1.62e-15  |    2.43e-04  |  1.59e+01  |  6.09e-02\n",
      "   9 |    -4.6475e+02   |         6.39e-06       |    9.55e-16  |    2.56e-07  |  2.11e+00  |  6.86e-05\n",
      "  10 |    -4.6475e+02   |         6.39e-09       |    1.85e-15  |    2.56e-10  |  2.53e-03  |  6.86e-08\n",
      "\n",
      " stopping criterion = [\"pdd <= eps\", \"cond_rb <= eps\", \"cond_rc <= eps\"]\n",
      "Generic Execution stats\n",
      "  status: solved to within acceptable tolerances\n",
      "  objective value: -464.7531413708755\n",
      "  primal feasibility: 8.345833849632871e-14\n",
      "  dual feasibility: 2.831721355698021e-9\n",
      "  solution: [79.9999999818842  25.49999987604267  54.500000105841536  84.79999998079725 ⋯ 134.07172982469856]\n",
      "  multipliers: [-0.6285714350234847  2.181963394543013e-8  -0.34477141301919445  -0.22857143005174305 ⋯ -9.818324582332054e-10]\n",
      "  multipliers_L: [7.573233396607861e-10  5.2615582835047555e-9  6.86415964331559e-10  7.14500017855378e-10 ⋯ 0.0]\n",
      "  multipliers_U: [0.0  0.0  0.0  0.0 ⋯ 8.652429989775083e-10]\n",
      "  iterations: 10\n",
      "  elapsed time: 1.2160000801086426\n"
     ]
    }
   ],
   "source": [
    "stats_mpc2 =  MehrotraPCQuadBounds(SM2, 1000, tol_step_x = 1e-10);\n",
    "println(stats_mpc2)"
   ]
  },
  {
   "cell_type": "code",
   "execution_count": 17,
   "metadata": {},
   "outputs": [
    {
     "name": "stderr",
     "output_type": "stream",
     "text": [
      "┌ Info: Using 'KB2' as NAME (l. 5)\n",
      "└ @ QPSReader C:\\Users\\Geoffroy Leconte\\.julia\\packages\\QPSReader\\usDQr\\src\\readqps.jl:751\n",
      "┌ Info: Using 'FAT7..J.' as objective (l. 20)\n",
      "└ @ QPSReader C:\\Users\\Geoffroy Leconte\\.julia\\packages\\QPSReader\\usDQr\\src\\readqps.jl:350\n",
      "┌ Info: Using '77BOUND' as BOUNDS (l. 227)\n",
      "└ @ QPSReader C:\\Users\\Geoffroy Leconte\\.julia\\packages\\QPSReader\\usDQr\\src\\readqps.jl:622\n"
     ]
    }
   ],
   "source": [
    "# problem 3   kb2    obj  -1.7499001299E+03\n",
    "kb2 = string(path_pb, \"\\\\KB2.SIF\")\n",
    "qpdata3 = readqps(kb2)\n",
    "QM3 = createQuadraticModel(qpdata3)\n",
    "SM3 = SlackModel(QM3);"
   ]
  },
  {
   "cell_type": "code",
   "execution_count": 18,
   "metadata": {
    "scrolled": true
   },
   "outputs": [
    {
     "name": "stdout",
     "output_type": "stream",
     "text": [
      "Iter | primal_objective | primal-dual difference | rb condition | rc condition |   step x   |     mu\n",
      "--------------------------------------------------------------------------------------------------------\n",
      "   0 |     1.1675e+01   |         9.21e-01       |    2.49e+03  |    4.63e-01  |  0.00e+00  |  6.18e+00\n",
      "   1 |     2.4577e+01   |         1.05e+01       |    2.08e+03  |    2.52e-01  |  2.93e+00  |  4.63e+00\n",
      "   2 |     9.7097e-01   |         5.71e+01       |    4.40e+02  |    1.11e-01  |  6.36e+00  |  1.86e+00\n",
      "   3 |    -6.3645e+00   |         9.90e+00       |    2.04e+02  |    7.76e-02  |  2.74e+01  |  1.37e+00\n",
      "   4 |    -3.0768e+01   |         7.38e-01       |    7.82e+01  |    5.18e-02  |  1.26e+02  |  1.04e+00\n",
      "   5 |    -3.3028e+02   |         8.64e-01       |    5.41e-13  |    4.01e-02  |  1.54e+03  |  1.47e+00\n",
      "   6 |    -5.2433e+02   |         8.69e-01       |    7.05e-13  |    3.82e-02  |  9.83e+02  |  1.80e+00\n",
      "   7 |    -6.2643e+02   |         8.27e-01       |    1.03e-12  |    3.74e-02  |  5.86e+02  |  2.36e+00\n",
      "   8 |    -9.4286e+02   |         8.40e-01       |    1.31e-12  |    3.62e-02  |  1.75e+03  |  3.05e+00\n",
      "   9 |    -1.1042e+03   |         7.89e-01       |    1.48e-12  |    3.46e-02  |  9.30e+02  |  3.79e+00\n",
      "  10 |    -1.2959e+03   |         7.83e-01       |    1.59e-12  |    3.38e-02  |  1.09e+03  |  4.53e+00\n",
      "  11 |    -1.0653e+03   |         5.72e-01       |    1.17e-12  |    3.05e-02  |  1.22e+03  |  5.31e+00\n",
      "  12 |    -1.3305e+03   |         5.44e-01       |    1.46e-12  |    2.72e-02  |  1.64e+03  |  6.00e+00\n",
      "  13 |    -1.3655e+03   |         1.73e-01       |    2.64e-12  |    1.85e-02  |  2.34e+02  |  7.66e+00\n",
      "  14 |    -1.6859e+03   |         2.45e-01       |    2.69e-12  |    1.56e-02  |  1.97e+03  |  5.94e+00\n",
      "  15 |    -1.7223e+03   |         3.99e-02       |    1.77e-12  |    3.18e-03  |  3.71e+02  |  1.49e+00\n",
      "  16 |    -1.7339e+03   |         2.06e-02       |    2.00e-12  |    3.32e-04  |  1.82e+02  |  7.09e-01\n",
      "  17 |    -1.7466e+03   |         5.82e-03       |    3.18e-12  |    6.03e-05  |  4.11e+02  |  1.78e-01\n",
      "  18 |    -1.7488e+03   |         2.14e-03       |    2.38e-12  |    1.55e-05  |  1.05e+02  |  6.05e-02\n",
      "  19 |    -1.7496e+03   |         4.90e-04       |    2.24e-12  |    2.38e-16  |  2.09e+02  |  1.11e-02\n",
      "  20 |    -1.7499e+03   |         1.06e-04       |    2.34e-12  |    3.69e-16  |  7.52e+01  |  2.41e-03\n",
      "\n",
      " stopping criterion = [\"reached max_iter\", \"cond_rb <= eps\", \"cond_rc <= eps\"]\n",
      "Generic Execution stats\n",
      "  status: solved to within acceptable tolerances\n",
      "  objective value: -1749.8543442081068\n",
      "  primal feasibility: 2.3352359640861105e-12\n",
      "  dual feasibility: 9.935814098085527e-15\n",
      "  solution: [0.909071556561819  0.0002704718764544589  0.012178718404521172  0.008299689680259986 ⋯ -791.6015220409745]\n",
      "  multipliers: [17.276314533335995  17.211036971090223  16.94024723029957  16.6567636171572 ⋯ -2.1560269500927886e-6]\n",
      "  multipliers_L: [0.002516637660168664  0.0583318247846642  0.045034585184181235  0.09908698297208007 ⋯ 0.0]\n",
      "  multipliers_U: [0.0  0.0002604073749182921  0.0  0.0 ⋯ 2.1560269500927886e-6]\n",
      "  iterations: 20\n",
      "  elapsed time: 0.28099989891052246\n"
     ]
    }
   ],
   "source": [
    "stats_mpc3 =  MehrotraPCQuadBounds(SM3, 20, tol_step_x = 1e-12);\n",
    "println(stats_mpc3)"
   ]
  },
  {
   "cell_type": "code",
   "execution_count": 19,
   "metadata": {},
   "outputs": [
    {
     "name": "stderr",
     "output_type": "stream",
     "text": [
      "┌ Info: Using 'SC50A' as NAME (l. 5)\n",
      "└ @ QPSReader C:\\Users\\Geoffroy Leconte\\.julia\\packages\\QPSReader\\usDQr\\src\\readqps.jl:751\n",
      "┌ Info: Using 'MAXIM' as objective (l. 20)\n",
      "└ @ QPSReader C:\\Users\\Geoffroy Leconte\\.julia\\packages\\QPSReader\\usDQr\\src\\readqps.jl:350\n",
      "┌ Info: Using 'CONST' as RHS (l. 153)\n",
      "└ @ QPSReader C:\\Users\\Geoffroy Leconte\\.julia\\packages\\QPSReader\\usDQr\\src\\readqps.jl:470\n"
     ]
    }
   ],
   "source": [
    "# problem 4 SC50A  obj  -6.4575077059E+01\n",
    "SC50A = string(path_pb, \"\\\\SC50A.SIF\")\n",
    "qpdata4 = readqps(SC50A)\n",
    "QM4 = createQuadraticModel(qpdata4)\n",
    "SM4 = SlackModel(QM4);"
   ]
  },
  {
   "cell_type": "code",
   "execution_count": 20,
   "metadata": {},
   "outputs": [
    {
     "name": "stdout",
     "output_type": "stream",
     "text": [
      "Iter | primal_objective | primal-dual difference | rb condition | rc condition |   step x   |     mu\n",
      "--------------------------------------------------------------------------------------------------------\n",
      "   0 |    -1.0000e+00   |         5.00e-01       |    1.30e+01  |    4.42e+00  |  0.00e+00  |  2.01e+01\n",
      "   1 |    -8.1774e-01   |         5.84e+02       |    1.30e-02  |    3.06e+00  |  3.55e+01  |  1.45e+01\n",
      "   2 |    -8.9022e-01   |         2.36e+01       |    1.30e-05  |    1.30e-01  |  7.66e-01  |  6.12e-01\n",
      "   3 |    -9.3339e+00   |         3.42e+00       |    1.04e-05  |    1.23e-01  |  1.11e+02  |  5.93e-01\n",
      "   4 |    -3.2552e+01   |         4.92e-01       |    7.80e-06  |    7.91e-02  |  3.01e+02  |  4.57e-01\n",
      "   5 |    -5.4487e+01   |         1.03e-02       |    2.91e-06  |    6.01e-02  |  2.99e+02  |  3.24e-01\n",
      "   6 |    -6.0759e+01   |         2.04e-02       |    8.31e-07  |    2.89e-02  |  1.03e+02  |  1.96e-01\n",
      "   7 |    -6.3542e+01   |         1.94e-02       |    1.64e-07  |    2.04e-03  |  5.39e+01  |  2.90e-02\n",
      "   8 |    -6.4402e+01   |         3.31e-03       |    3.14e-08  |    1.24e-16  |  2.33e+01  |  2.79e-03\n",
      "   9 |    -6.4563e+01   |         3.50e-04       |    3.14e-11  |    8.27e-17  |  3.51e+00  |  2.94e-04\n",
      "  10 |    -6.4575e+01   |         3.53e-07       |    9.42e-14  |    5.74e-17  |  3.91e-01  |  2.97e-07\n",
      "  11 |    -6.4575e+01   |         3.53e-10       |    9.75e-14  |    4.71e-17  |  3.92e-04  |  2.97e-10\n",
      "\n",
      " stopping criterion = [\"pdd <= eps\", \"cond_rb <= eps\", \"cond_rc <= eps\", \"mu_k <= eps_mu\"]\n",
      "Generic Execution stats\n",
      "  status: solved to within acceptable tolerances\n",
      "  objective value: -64.57507704643986\n",
      "  primal feasibility: 9.747464778472942e-14\n",
      "  dual feasibility: 9.423733163370937e-17\n",
      "  solution: [1.761189046713802e-8  16.56869219997436  64.57507705377006  64.57507704643986 ⋯ -9.085169919861617e-10]\n",
      "  multipliers: [-4.283878734571061e-12  -0.13870541617988905  -513940.8516825326  -0.20805812425010833 ⋯ -0.29722589158450163]\n",
      "  multipliers_L: [0.013946048702439418  1.4975061725225582e-11  3.741595028339209e-12  3.7489778449936214e-12 ⋯ 0.0]\n",
      "  multipliers_U: [0.0  0.0  0.0  0.0 ⋯ 0.29722589158450163]\n",
      "  iterations: 11\n",
      "  elapsed time: 0.22800016403198242\n"
     ]
    }
   ],
   "source": [
    "stats_mpc4 =  MehrotraPCQuadBounds(SM4, 20, tol_step_x = 1e-12);\n",
    "println(stats_mpc4)"
   ]
  },
  {
   "cell_type": "markdown",
   "metadata": {},
   "source": [
    "# Tests sur tous les problèmes"
   ]
  },
  {
   "cell_type": "code",
   "execution_count": 38,
   "metadata": {},
   "outputs": [
    {
     "name": "stdout",
     "output_type": "stream",
     "text": [
      "ADLITTLE.SIF\n"
     ]
    },
    {
     "name": "stderr",
     "output_type": "stream",
     "text": [
      "┌ Info: Using 'ADLITTLE' as NAME (l. 5)\n",
      "└ @ QPSReader C:\\Users\\Geoffroy Leconte\\.julia\\packages\\QPSReader\\usDQr\\src\\readqps.jl:751\n",
      "┌ Info: Using '.Z....' as objective (l. 20)\n",
      "└ @ QPSReader C:\\Users\\Geoffroy Leconte\\.julia\\packages\\QPSReader\\usDQr\\src\\readqps.jl:350\n"
     ]
    },
    {
     "name": "stdout",
     "output_type": "stream",
     "text": [
      "AFIRO.SIF\n",
      "AGG.SIF\n"
     ]
    },
    {
     "name": "stderr",
     "output_type": "stream",
     "text": [
      "┌ Info: Using 'ZZZZ0001' as RHS (l. 333)\n",
      "└ @ QPSReader C:\\Users\\Geoffroy Leconte\\.julia\\packages\\QPSReader\\usDQr\\src\\readqps.jl:470\n",
      "┌ Info: Using 'AFIRO' as NAME (l. 5)\n",
      "└ @ QPSReader C:\\Users\\Geoffroy Leconte\\.julia\\packages\\QPSReader\\usDQr\\src\\readqps.jl:751\n",
      "┌ Info: Using 'COST' as objective (l. 47)\n",
      "└ @ QPSReader C:\\Users\\Geoffroy Leconte\\.julia\\packages\\QPSReader\\usDQr\\src\\readqps.jl:350\n",
      "┌ Info: Using 'B' as RHS (l. 96)\n",
      "└ @ QPSReader C:\\Users\\Geoffroy Leconte\\.julia\\packages\\QPSReader\\usDQr\\src\\readqps.jl:470\n",
      "┌ Info: Using 'AGG' as NAME (l. 5)\n",
      "└ @ QPSReader C:\\Users\\Geoffroy Leconte\\.julia\\packages\\QPSReader\\usDQr\\src\\readqps.jl:751\n",
      "┌ Info: Using 'OBJECTIV' as objective (l. 509)\n",
      "└ @ QPSReader C:\\Users\\Geoffroy Leconte\\.julia\\packages\\QPSReader\\usDQr\\src\\readqps.jl:350\n",
      "┌ Info: Using 'AGG' as RHS (l. 1852)\n",
      "└ @ QPSReader C:\\Users\\Geoffroy Leconte\\.julia\\packages\\QPSReader\\usDQr\\src\\readqps.jl:470\n"
     ]
    },
    {
     "name": "stdout",
     "output_type": "stream",
     "text": [
      "AGG2.SIF\n"
     ]
    },
    {
     "name": "stderr",
     "output_type": "stream",
     "text": [
      "┌ Info: Using 'AGG2' as NAME (l. 5)\n",
      "└ @ QPSReader C:\\Users\\Geoffroy Leconte\\.julia\\packages\\QPSReader\\usDQr\\src\\readqps.jl:751\n",
      "┌ Info: Using 'OBJECTIV' as objective (l. 536)\n",
      "└ @ QPSReader C:\\Users\\Geoffroy Leconte\\.julia\\packages\\QPSReader\\usDQr\\src\\readqps.jl:350\n"
     ]
    },
    {
     "name": "stdout",
     "output_type": "stream",
     "text": [
      "AGG3.SIF\n"
     ]
    },
    {
     "name": "stderr",
     "output_type": "stream",
     "text": [
      "┌ Info: Using 'RHS' as RHS (l. 2878)\n",
      "└ @ QPSReader C:\\Users\\Geoffroy Leconte\\.julia\\packages\\QPSReader\\usDQr\\src\\readqps.jl:470\n",
      "┌ Info: Using 'AGG3' as NAME (l. 5)\n",
      "└ @ QPSReader C:\\Users\\Geoffroy Leconte\\.julia\\packages\\QPSReader\\usDQr\\src\\readqps.jl:751\n",
      "┌ Info: Using 'OBJECTIV' as objective (l. 536)\n",
      "└ @ QPSReader C:\\Users\\Geoffroy Leconte\\.julia\\packages\\QPSReader\\usDQr\\src\\readqps.jl:350\n",
      "┌ Info: Using 'RHS' as RHS (l. 2884)\n",
      "└ @ QPSReader C:\\Users\\Geoffroy Leconte\\.julia\\packages\\QPSReader\\usDQr\\src\\readqps.jl:470\n"
     ]
    },
    {
     "name": "stdout",
     "output_type": "stream",
     "text": [
      "BANDM.SIF\n"
     ]
    },
    {
     "name": "stderr",
     "output_type": "stream",
     "text": [
      "┌ Info: Using 'BANDM' as NAME (l. 5)\n",
      "└ @ QPSReader C:\\Users\\Geoffroy Leconte\\.julia\\packages\\QPSReader\\usDQr\\src\\readqps.jl:751\n",
      "┌ Info: Using '....1' as objective (l. 20)\n",
      "└ @ QPSReader C:\\Users\\Geoffroy Leconte\\.julia\\packages\\QPSReader\\usDQr\\src\\readqps.jl:350\n",
      "┌ Info: Using 'ZZZZ0001' as RHS (l. 1815)\n",
      "└ @ QPSReader C:\\Users\\Geoffroy Leconte\\.julia\\packages\\QPSReader\\usDQr\\src\\readqps.jl:470\n"
     ]
    },
    {
     "name": "stdout",
     "output_type": "stream",
     "text": [
      "BEACONFD.SIF\n"
     ]
    },
    {
     "name": "stderr",
     "output_type": "stream",
     "text": [
      "┌ Info: Using 'BEACONFD' as NAME (l. 5)\n",
      "└ @ QPSReader C:\\Users\\Geoffroy Leconte\\.julia\\packages\\QPSReader\\usDQr\\src\\readqps.jl:751\n",
      "┌ Info: Using '11CSTR' as objective (l. 20)\n",
      "└ @ QPSReader C:\\Users\\Geoffroy Leconte\\.julia\\packages\\QPSReader\\usDQr\\src\\readqps.jl:350\n"
     ]
    },
    {
     "name": "stdout",
     "output_type": "stream",
     "text": [
      "BLEND.SIF\n",
      "BNL2.SIF\n"
     ]
    },
    {
     "name": "stderr",
     "output_type": "stream",
     "text": [
      "┌ Info: Using 'BEACON2' as RHS (l. 1996)\n",
      "└ @ QPSReader C:\\Users\\Geoffroy Leconte\\.julia\\packages\\QPSReader\\usDQr\\src\\readqps.jl:470\n",
      "┌ Info: Using 'BLEND' as NAME (l. 5)\n",
      "└ @ QPSReader C:\\Users\\Geoffroy Leconte\\.julia\\packages\\QPSReader\\usDQr\\src\\readqps.jl:751\n",
      "┌ Info: Using 'C' as objective (l. 98)\n",
      "└ @ QPSReader C:\\Users\\Geoffroy Leconte\\.julia\\packages\\QPSReader\\usDQr\\src\\readqps.jl:350\n",
      "┌ Info: Using '' as RHS (l. 376)\n",
      "└ @ QPSReader C:\\Users\\Geoffroy Leconte\\.julia\\packages\\QPSReader\\usDQr\\src\\readqps.jl:470\n",
      "┌ Info: Using 'BNL2' as NAME (l. 5)\n",
      "└ @ QPSReader C:\\Users\\Geoffroy Leconte\\.julia\\packages\\QPSReader\\usDQr\\src\\readqps.jl:751\n",
      "┌ Info: Using 'OBJ' as objective (l. 20)\n",
      "└ @ QPSReader C:\\Users\\Geoffroy Leconte\\.julia\\packages\\QPSReader\\usDQr\\src\\readqps.jl:350\n",
      "┌ Info: Using 'RHS' as RHS (l. 11294)\n",
      "└ @ QPSReader C:\\Users\\Geoffroy Leconte\\.julia\\packages\\QPSReader\\usDQr\\src\\readqps.jl:470\n"
     ]
    },
    {
     "name": "stdout",
     "output_type": "stream",
     "text": [
      "BOEING1.SIF\n"
     ]
    },
    {
     "name": "stderr",
     "output_type": "stream",
     "text": [
      "┌ Info: Using 'BOEING1' as NAME (l. 5)\n",
      "└ @ QPSReader C:\\Users\\Geoffroy Leconte\\.julia\\packages\\QPSReader\\usDQr\\src\\readqps.jl:751\n",
      "┌ Info: Using 'OBJECTIV' as objective (l. 23)\n",
      "└ @ QPSReader C:\\Users\\Geoffroy Leconte\\.julia\\packages\\QPSReader\\usDQr\\src\\readqps.jl:350\n",
      "┌ Info: Using 'RHS1' as RHS (l. 2372)\n",
      "└ @ QPSReader C:\\Users\\Geoffroy Leconte\\.julia\\packages\\QPSReader\\usDQr\\src\\readqps.jl:470\n",
      "┌ Info: Using 'RANGE1' as RANGES (l. 2446)\n",
      "└ @ QPSReader C:\\Users\\Geoffroy Leconte\\.julia\\packages\\QPSReader\\usDQr\\src\\readqps.jl:552\n"
     ]
    },
    {
     "name": "stdout",
     "output_type": "stream",
     "text": [
      "BOEING2.SIF\n"
     ]
    },
    {
     "name": "stderr",
     "output_type": "stream",
     "text": [
      "┌ Info: Using 'INTBOU' as BOUNDS (l. 2492)\n",
      "└ @ QPSReader C:\\Users\\Geoffroy Leconte\\.julia\\packages\\QPSReader\\usDQr\\src\\readqps.jl:622\n",
      "┌ Info: Using 'BOEING2' as NAME (l. 5)\n",
      "└ @ QPSReader C:\\Users\\Geoffroy Leconte\\.julia\\packages\\QPSReader\\usDQr\\src\\readqps.jl:751\n",
      "┌ Info: Using 'OBJECTIV' as objective (l. 23)\n",
      "└ @ QPSReader C:\\Users\\Geoffroy Leconte\\.julia\\packages\\QPSReader\\usDQr\\src\\readqps.jl:350\n",
      "┌ Info: Using 'RHS1' as RHS (l. 898)\n",
      "└ @ QPSReader C:\\Users\\Geoffroy Leconte\\.julia\\packages\\QPSReader\\usDQr\\src\\readqps.jl:470\n",
      "┌ Info: Using 'RANGE1' as RANGES (l. 919)\n",
      "└ @ QPSReader C:\\Users\\Geoffroy Leconte\\.julia\\packages\\QPSReader\\usDQr\\src\\readqps.jl:552\n"
     ]
    },
    {
     "name": "stdout",
     "output_type": "stream",
     "text": [
      "|\u001b[0m\u001b[1m    id \u001b[0m|\u001b[0m\u001b[1m         name \u001b[0m|\u001b[0m\u001b[1m     status \u001b[0m|\u001b[0m\u001b[1m objective \u001b[0m|\u001b[0m\u001b[1m     time \u001b[0m|\u001b[0m\u001b[1m  iter \u001b[0m|\u001b[0m\u001b[1m primal_fe\u001b[0m ⋯\n",
      "|\u001b[0m-------\u001b[0m|\u001b[0m--------------\u001b[0m|\u001b[0m------------\u001b[0m|\u001b[0m-----------\u001b[0m|\u001b[0m----------\u001b[0m|\u001b[0m-------\u001b[0m|\u001b[0m----------\u001b[0m ⋯\n",
      "|\u001b[0m\u001b[31;1m     1 \u001b[0m|\u001b[0m\u001b[31;1m ADLITTLE.SIF \u001b[0m|\u001b[0m\u001b[31;1m acceptable \u001b[0m|\u001b[0m\u001b[31;1m   2.3e+05 \u001b[0m|\u001b[0m\u001b[31;1m  8.8e-02 \u001b[0m|\u001b[0m\u001b[31;1m    38 \u001b[0m|\u001b[0m\u001b[31;1m     9.8e-\u001b[0m ⋯\n",
      "|\u001b[0m\u001b[31;1m     2 \u001b[0m|\u001b[0m\u001b[31;1m    AFIRO.SIF \u001b[0m|\u001b[0m\u001b[31;1m acceptable \u001b[0m|\u001b[0m\u001b[31;1m  -4.6e+02 \u001b[0m|\u001b[0m\u001b[31;1m  1.8e-02 \u001b[0m|\u001b[0m\u001b[31;1m    10 \u001b[0m|\u001b[0m\u001b[31;1m     8.3e-\u001b[0m ⋯\n",
      "|\u001b[0m\u001b[31;1m     3 \u001b[0m|\u001b[0m\u001b[31;1m      AGG.SIF \u001b[0m|\u001b[0m\u001b[31;1m   max_iter \u001b[0m|\u001b[0m\u001b[31;1m   1.9e+09 \u001b[0m|\u001b[0m\u001b[31;1m  6.4e-01 \u001b[0m|\u001b[0m\u001b[31;1m    40 \u001b[0m|\u001b[0m\u001b[31;1m     3.2e+\u001b[0m ⋯\n",
      "|\u001b[0m\u001b[31;1m     4 \u001b[0m|\u001b[0m\u001b[31;1m     AGG2.SIF \u001b[0m|\u001b[0m\u001b[31;1m   max_iter \u001b[0m|\u001b[0m\u001b[31;1m  -4.3e+06 \u001b[0m|\u001b[0m\u001b[31;1m  1.2e+00 \u001b[0m|\u001b[0m\u001b[31;1m    40 \u001b[0m|\u001b[0m\u001b[31;1m     4.9e+\u001b[0m ⋯\n",
      "|\u001b[0m\u001b[31;1m     5 \u001b[0m|\u001b[0m\u001b[31;1m     AGG3.SIF \u001b[0m|\u001b[0m\u001b[31;1m   max_iter \u001b[0m|\u001b[0m\u001b[31;1m   1.7e+09 \u001b[0m|\u001b[0m\u001b[31;1m  1.2e+00 \u001b[0m|\u001b[0m\u001b[31;1m    40 \u001b[0m|\u001b[0m\u001b[31;1m     1.6e+\u001b[0m ⋯\n",
      "|\u001b[0m\u001b[31;1m     6 \u001b[0m|\u001b[0m\u001b[31;1m    BANDM.SIF \u001b[0m|\u001b[0m\u001b[31;1m acceptable \u001b[0m|\u001b[0m\u001b[31;1m  -1.6e+02 \u001b[0m|\u001b[0m\u001b[31;1m  2.9e-01 \u001b[0m|\u001b[0m\u001b[31;1m    21 \u001b[0m|\u001b[0m\u001b[31;1m     3.1e-\u001b[0m ⋯\n",
      "|\u001b[0m\u001b[31;1m     7 \u001b[0m|\u001b[0m\u001b[31;1m BEACONFD.SIF \u001b[0m|\u001b[0m\u001b[31;1m acceptable \u001b[0m|\u001b[0m\u001b[31;1m   3.4e+04 \u001b[0m|\u001b[0m\u001b[31;1m  1.5e-01 \u001b[0m|\u001b[0m\u001b[31;1m    10 \u001b[0m|\u001b[0m\u001b[31;1m     7.3e-\u001b[0m ⋯\n",
      "|\u001b[0m\u001b[31;1m     8 \u001b[0m|\u001b[0m\u001b[31;1m    BLEND.SIF \u001b[0m|\u001b[0m\u001b[31;1m acceptable \u001b[0m|\u001b[0m\u001b[31;1m  -3.1e+01 \u001b[0m|\u001b[0m\u001b[31;1m  3.2e-02 \u001b[0m|\u001b[0m\u001b[31;1m    11 \u001b[0m|\u001b[0m\u001b[31;1m     4.6e-\u001b[0m ⋯\n",
      "|\u001b[0m\u001b[31;1m     9 \u001b[0m|\u001b[0m\u001b[31;1m     BNL2.SIF \u001b[0m|\u001b[0m\u001b[31;1m   max_iter \u001b[0m|\u001b[0m\u001b[31;1m   1.8e+03 \u001b[0m|\u001b[0m\u001b[31;1m  1.4e+01 \u001b[0m|\u001b[0m\u001b[31;1m    40 \u001b[0m|\u001b[0m\u001b[31;1m     1.2e-\u001b[0m ⋯\n",
      "|\u001b[0m\u001b[31;1m    10 \u001b[0m|\u001b[0m\u001b[31;1m  BOEING1.SIF \u001b[0m|\u001b[0m\u001b[31;1m   max_iter \u001b[0m|\u001b[0m\u001b[31;1m  -3.3e+02 \u001b[0m|\u001b[0m\u001b[31;1m  1.1e+00 \u001b[0m|\u001b[0m\u001b[31;1m    40 \u001b[0m|\u001b[0m\u001b[31;1m     1.4e-\u001b[0m ⋯\n",
      "|\u001b[0m\u001b[31;1m    11 \u001b[0m|\u001b[0m\u001b[31;1m  BOEING2.SIF \u001b[0m|\u001b[0m\u001b[31;1m acceptable \u001b[0m|\u001b[0m\u001b[31;1m  -3.2e+02 \u001b[0m|\u001b[0m\u001b[31;1m  1.7e-01 \u001b[0m|\u001b[0m\u001b[31;1m    22 \u001b[0m|\u001b[0m\u001b[31;1m     1.1e-\u001b[0m ⋯\n"
     ]
    },
    {
     "name": "stderr",
     "output_type": "stream",
     "text": [
      "┌ Info: Using 'INTBOU' as BOUNDS (l. 930)\n",
      "└ @ QPSReader C:\\Users\\Geoffroy Leconte\\.julia\\packages\\QPSReader\\usDQr\\src\\readqps.jl:622\n"
     ]
    }
   ],
   "source": [
    "df_test = DataFrame(id = Int[],\n",
    "         name = String[],\n",
    "         status = Symbol[],\n",
    "         objective = Float64[],\n",
    "         time = Float64[],\n",
    "         iter = Int[],\n",
    "         primal_feas = Float64[],\n",
    "         dual_feas = Float64[])\n",
    "\n",
    "\n",
    "\n",
    "i = 0\n",
    "i_stop = 11   #number of problems to solve\n",
    "for file_name in readdir(path_pb)\n",
    "    if file_name[end-3:end] == \".SIF\" && !(file_name in [\"80BAU3B.SIF\" ; \"BORE3D.SIF\"; \n",
    "                                                        \"CAPRI.SIF\"; \"CZPROB.SIF\"; \n",
    "                                                        \"ETAMACRO.SIF\"; \"FINNIS.SIF\";\n",
    "                                                        \"FORPLAN.SIF\"; \"GREENBEA.SIF\";\n",
    "                                                        \"GREENBEB.SIF\"; \"MAROS.SIF\";\n",
    "                                                        \"NESM.SIF\"; \"PEROLD.SIF\";\n",
    "                                                         \"PILOT-JA.SIF\"; \"PILOT-WE.SIF\";\n",
    "                                                         \"PILOT.SIF\"; \"PILOT4.SIF\";\n",
    "                                                         \"PILOT87.SIF\"; \"PILOTNOV.SIF\";\n",
    "                                                          \"RECIPELP.SIF\"; \"SHELL.SIF\";\n",
    "                                                         \"SIERRA.SIF\"; \"STAIR.SIF\";\n",
    "                                                         \"STANDATA.SIF\"; \"STANDGUB.SIF\";\n",
    "                                                        \"STANDMPS.SIF\"; \"TUFF.SIF\";\n",
    "                                                        \"VTP-BASE.SIF\"])   &&# problems with fixed variables\n",
    "                                        !(file_name in [\"25FV47.SIF\"; \"BNL1.SIF\";\n",
    "                                                        \"BRANDY.SIF\"; \"CRE-A.SIF\"]) # singular error\n",
    "                            \n",
    "        \n",
    "        i += 1\n",
    "        println(file_name)\n",
    "        pb_i = string(path_pb, \"\\\\\", file_name)\n",
    "        if file_name in [\"BLEND.SIF\"; \"DFL001.SIF\"; \"FORPLAN.SIF\"; \"GFRD-PNC.SIF\"; \"SIERRA.SIF\"]\n",
    "            qpdata_i = readqps(pb_i, mpsformat=:fixed) \n",
    "        else\n",
    "            qpdata_i = readqps(pb_i) \n",
    "        end\n",
    "\n",
    "        SM_i = SlackModel(createQuadraticModel(qpdata_i))\n",
    "\n",
    "        stats_mpc_i =  MehrotraPCQuadBounds(SM_i, 40, display=false)\n",
    "        \n",
    "        # \n",
    "        push!(df_test, Dict(:id => i,\n",
    "                             :name => file_name ,\n",
    "                             :status => stats_mpc_i.status,\n",
    "                             :objective => stats_mpc_i.objective,\n",
    "                             :time => stats_mpc_i.elapsed_time,\n",
    "                             :iter => stats_mpc_i.iter,\n",
    "                             :primal_feas => stats_mpc_i.primal_feas,\n",
    "                             :dual_feas => stats_mpc_i.dual_feas))\n",
    "    end\n",
    "    \n",
    "    if i == i_stop\n",
    "        break\n",
    "        break\n",
    "    end\n",
    "end\n",
    "\n",
    "markdown_table(stdout, df_test)"
   ]
  },
  {
   "cell_type": "code",
   "execution_count": null,
   "metadata": {},
   "outputs": [],
   "source": []
  },
  {
   "cell_type": "code",
   "execution_count": null,
   "metadata": {},
   "outputs": [],
   "source": []
  },
  {
   "cell_type": "code",
   "execution_count": null,
   "metadata": {},
   "outputs": [],
   "source": []
  },
  {
   "cell_type": "code",
   "execution_count": null,
   "metadata": {},
   "outputs": [],
   "source": []
  },
  {
   "cell_type": "code",
   "execution_count": null,
   "metadata": {},
   "outputs": [],
   "source": []
  },
  {
   "cell_type": "code",
   "execution_count": null,
   "metadata": {},
   "outputs": [],
   "source": []
  },
  {
   "cell_type": "code",
   "execution_count": 57,
   "metadata": {},
   "outputs": [
    {
     "name": "stdout",
     "output_type": "stream",
     "text": [
      "type of the fieldname status is Symbol\n",
      "type of the fieldname solution is Array{T,1} where T\n",
      "type of the fieldname objective is Real\n",
      "type of the fieldname dual_feas is Real\n",
      "type of the fieldname primal_feas is Real\n",
      "type of the fieldname multipliers is Array{T,1} where T\n",
      "type of the fieldname multipliers_L is Array{T,1} where T\n",
      "type of the fieldname multipliers_U is Array{T,1} where T\n",
      "type of the fieldname iter is Int64\n",
      "type of the fieldname counters is NLSCounters\n",
      "type of the fieldname elapsed_time is Real\n",
      "type of the fieldname solver_specific is Dict{Symbol,Any}\n"
     ]
    }
   ],
   "source": [
    "T = typeof(stats_mpc1)\n",
    "for (name, typ) in zip(fieldnames(T), T.types)\n",
    "    println(\"type of the fieldname $name is $typ\")\n",
    "end"
   ]
  },
  {
   "cell_type": "code",
   "execution_count": 59,
   "metadata": {},
   "outputs": [
    {
     "name": "stderr",
     "output_type": "stream",
     "text": [
      "┌ Info: Using '25FV47' as NAME (l. 5)\n",
      "└ @ QPSReader C:\\Users\\Geoffroy Leconte\\.julia\\packages\\QPSReader\\usDQr\\src\\readqps.jl:751\n",
      "┌ Info: Using 'R0000' as objective (l. 21)\n",
      "└ @ QPSReader C:\\Users\\Geoffroy Leconte\\.julia\\packages\\QPSReader\\usDQr\\src\\readqps.jl:350\n",
      "┌ Info: Using '.00001' as RHS (l. 6793)\n",
      "└ @ QPSReader C:\\Users\\Geoffroy Leconte\\.julia\\packages\\QPSReader\\usDQr\\src\\readqps.jl:470\n"
     ]
    }
   ],
   "source": [
    "# obj  9.8723216072E+05\n",
    "qpdata5 = readqps(string(path_pb, \"\\\\25FV47.SIF\"))\n",
    "QM5 = createQuadraticModel(qpdata5)\n",
    "SM5 = SlackModel(QM5);"
   ]
  },
  {
   "cell_type": "code",
   "execution_count": 60,
   "metadata": {},
   "outputs": [
    {
     "name": "stdout",
     "output_type": "stream",
     "text": [
      "Iter | primal_objective | primal-dual difference | rb condition | rc condition |   step x   |     mu\n",
      "--------------------------------------------------------------------------------------------------------\n",
      "   0 |     6.0144e+04   |         3.29e-01       |    5.78e+01  |    5.98e-01  |  0.00e+00  |  1.16e+02\n"
     ]
    },
    {
     "ename": "SingularException",
     "evalue": "SingularException(0)",
     "output_type": "error",
     "traceback": [
      "SingularException(0)",
      "",
      "Stacktrace:",
      " [1] lu(::SparseMatrixCSC{Float64,Int64}; check::Bool) at D:\\buildbot\\worker\\package_win64\\build\\usr\\share\\julia\\stdlib\\v1.4\\SuiteSparse\\src\\umfpack.jl:162",
      " [2] lu at D:\\buildbot\\worker\\package_win64\\build\\usr\\share\\julia\\stdlib\\v1.4\\SuiteSparse\\src\\umfpack.jl:155 [inlined]",
      " [3] \\(::SparseMatrixCSC{Float64,Int64}, ::Array{Float64,1}) at D:\\buildbot\\worker\\package_win64\\build\\usr\\share\\julia\\stdlib\\v1.4\\SparseArrays\\src\\linalg.jl:1455",
      " [4] MehrotraPCQuadBounds(::SlackModel, ::Int64; eps::Float64, tol_step_x::Float64, eps_mu::Float64, display::Bool) at .\\In[42]:86",
      " [5] MehrotraPCQuadBounds(::SlackModel, ::Int64) at .\\In[42]:3",
      " [6] top-level scope at In[60]:1"
     ]
    }
   ],
   "source": [
    "stats_mpc_5 =  MehrotraPCQuadBounds(SM5, 20)"
   ]
  },
  {
   "cell_type": "code",
   "execution_count": 40,
   "metadata": {},
   "outputs": [
    {
     "data": {
      "text/plain": [
       "  Problem name: Generic-slack\n",
       "   All variables: ████████████████████ 1876   All constraints: ████████████████████ 821   \n",
       "            free: ⋅⋅⋅⋅⋅⋅⋅⋅⋅⋅⋅⋅⋅⋅⋅⋅⋅⋅⋅⋅ 0                 free: ⋅⋅⋅⋅⋅⋅⋅⋅⋅⋅⋅⋅⋅⋅⋅⋅⋅⋅⋅⋅ 0     \n",
       "           lower: █████████████████⋅⋅⋅ 1571             lower: ⋅⋅⋅⋅⋅⋅⋅⋅⋅⋅⋅⋅⋅⋅⋅⋅⋅⋅⋅⋅ 0     \n",
       "           upper: ████⋅⋅⋅⋅⋅⋅⋅⋅⋅⋅⋅⋅⋅⋅⋅⋅ 305              upper: ⋅⋅⋅⋅⋅⋅⋅⋅⋅⋅⋅⋅⋅⋅⋅⋅⋅⋅⋅⋅ 0     \n",
       "         low/upp: ⋅⋅⋅⋅⋅⋅⋅⋅⋅⋅⋅⋅⋅⋅⋅⋅⋅⋅⋅⋅ 0              low/upp: ⋅⋅⋅⋅⋅⋅⋅⋅⋅⋅⋅⋅⋅⋅⋅⋅⋅⋅⋅⋅ 0     \n",
       "           fixed: ⋅⋅⋅⋅⋅⋅⋅⋅⋅⋅⋅⋅⋅⋅⋅⋅⋅⋅⋅⋅ 0                fixed: ████████████████████ 821   \n",
       "          infeas: ⋅⋅⋅⋅⋅⋅⋅⋅⋅⋅⋅⋅⋅⋅⋅⋅⋅⋅⋅⋅ 0               infeas: ⋅⋅⋅⋅⋅⋅⋅⋅⋅⋅⋅⋅⋅⋅⋅⋅⋅⋅⋅⋅ 0     \n",
       "            nnzh: (100.00% sparsity)   0               linear: ████████████████████ 821   \n",
       "                                                    nonlinear: ⋅⋅⋅⋅⋅⋅⋅⋅⋅⋅⋅⋅⋅⋅⋅⋅⋅⋅⋅⋅ 0     \n",
       "                                                         nnzj: ( 99.30% sparsity)   10705 \n",
       "\n"
      ]
     },
     "execution_count": 40,
     "metadata": {},
     "output_type": "execute_result"
    }
   ],
   "source": [
    "SM5.meta\n"
   ]
  },
  {
   "cell_type": "code",
   "execution_count": 41,
   "metadata": {},
   "outputs": [
    {
     "data": {
      "text/plain": [
       "  Problem name: Generic-slack\n",
       "   All variables: ████████████████████ 51     All constraints: ████████████████████ 27    \n",
       "            free: ⋅⋅⋅⋅⋅⋅⋅⋅⋅⋅⋅⋅⋅⋅⋅⋅⋅⋅⋅⋅ 0                 free: ⋅⋅⋅⋅⋅⋅⋅⋅⋅⋅⋅⋅⋅⋅⋅⋅⋅⋅⋅⋅ 0     \n",
       "           lower: █████████████⋅⋅⋅⋅⋅⋅⋅ 32               lower: ⋅⋅⋅⋅⋅⋅⋅⋅⋅⋅⋅⋅⋅⋅⋅⋅⋅⋅⋅⋅ 0     \n",
       "           upper: ████████⋅⋅⋅⋅⋅⋅⋅⋅⋅⋅⋅⋅ 19               upper: ⋅⋅⋅⋅⋅⋅⋅⋅⋅⋅⋅⋅⋅⋅⋅⋅⋅⋅⋅⋅ 0     \n",
       "         low/upp: ⋅⋅⋅⋅⋅⋅⋅⋅⋅⋅⋅⋅⋅⋅⋅⋅⋅⋅⋅⋅ 0              low/upp: ⋅⋅⋅⋅⋅⋅⋅⋅⋅⋅⋅⋅⋅⋅⋅⋅⋅⋅⋅⋅ 0     \n",
       "           fixed: ⋅⋅⋅⋅⋅⋅⋅⋅⋅⋅⋅⋅⋅⋅⋅⋅⋅⋅⋅⋅ 0                fixed: ████████████████████ 27    \n",
       "          infeas: ⋅⋅⋅⋅⋅⋅⋅⋅⋅⋅⋅⋅⋅⋅⋅⋅⋅⋅⋅⋅ 0               infeas: ⋅⋅⋅⋅⋅⋅⋅⋅⋅⋅⋅⋅⋅⋅⋅⋅⋅⋅⋅⋅ 0     \n",
       "            nnzh: (100.00% sparsity)   0               linear: ████████████████████ 27    \n",
       "                                                    nonlinear: ⋅⋅⋅⋅⋅⋅⋅⋅⋅⋅⋅⋅⋅⋅⋅⋅⋅⋅⋅⋅ 0     \n",
       "                                                         nnzj: ( 92.59% sparsity)   102   \n",
       "\n"
      ]
     },
     "execution_count": 41,
     "metadata": {},
     "output_type": "execute_result"
    }
   ],
   "source": [
    "SM2.meta"
   ]
  },
  {
   "cell_type": "code",
   "execution_count": null,
   "metadata": {},
   "outputs": [],
   "source": []
  }
 ],
 "metadata": {
  "kernelspec": {
   "display_name": "Julia 1.4.0",
   "language": "julia",
   "name": "julia-1.4"
  },
  "language_info": {
   "file_extension": ".jl",
   "mimetype": "application/julia",
   "name": "julia",
   "version": "1.4.0"
  }
 },
 "nbformat": 4,
 "nbformat_minor": 4
}
