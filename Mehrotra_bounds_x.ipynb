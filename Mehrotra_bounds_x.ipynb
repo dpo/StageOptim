{
 "cells": [
  {
   "cell_type": "markdown",
   "metadata": {},
   "source": [
    "# Problèmes\n",
    "\n",
    "### 1)\n",
    "Primal: $\\underset{x \\in \\mathbb{R}^3}{\\min} \\frac{1}{2} x' Q x + c' x ~~~~~~~~ s.t. ~ A x = b ~, ~~ x \\ge 0$\n",
    "\n",
    "with  $Q = \\begin{bmatrix} 6 & 2 & 1\\\\ 2 & 5 & 2\\\\ 1 & 2 & 4 \\end{bmatrix} $, $c = \\begin{bmatrix} -8 \\\\ -3 \\\\ -3 \\end{bmatrix}$, $A = \\begin{bmatrix} 1 & 0 &1 \\\\ 0 & 1 & 1 \\end{bmatrix}$ , and $b = \\begin{bmatrix} 3 \\\\ 0 \\end{bmatrix} $.\n",
    "\n",
    "\n",
    "### 2) \n",
    "AFIRO        28 rows    32 cols        88 nonzeros       794 bytes      -4.6475314286E+02 optimalvalue"
   ]
  },
  {
   "cell_type": "code",
   "execution_count": 29,
   "metadata": {},
   "outputs": [],
   "source": [
    "using LinearAlgebra\n",
    "using LaTeXStrings\n",
    "using DataFrames\n",
    "using DataStructures\n",
    "using QuadraticModels\n",
    "using Printf\n",
    "using SparseArrays\n",
    "using BenchmarkTools\n",
    "using NLPModels\n",
    "using LinearOperators\n",
    "using QPSReader"
   ]
  },
  {
   "cell_type": "markdown",
   "metadata": {},
   "source": [
    "# Mehrotra formulation plus générale:\n",
    "\n",
    "min $c_0 + c'x + \\frac{1}{2} x'Hx ~~~~$ s.t. $ Ax = b $ and $l \\le x \\le u$ "
   ]
  },
  {
   "cell_type": "code",
   "execution_count": 30,
   "metadata": {},
   "outputs": [
    {
     "data": {
      "text/plain": [
       "display_results (generic function with 1 method)"
      ]
     },
     "execution_count": 30,
     "metadata": {},
     "output_type": "execute_result"
    }
   ],
   "source": [
    "function display_results(result)\n",
    "    # fonction pour l'affichage\n",
    "    println(\"\\n-----------------------------------------------------------------------\")\n",
    "    println(\"------------------------------- RESULTS -------------------------------\")\n",
    "    result\n",
    "end"
   ]
  },
  {
   "cell_type": "code",
   "execution_count": 31,
   "metadata": {},
   "outputs": [
    {
     "data": {
      "text/plain": [
       "Compute_mu (generic function with 1 method)"
      ]
     },
     "execution_count": 31,
     "metadata": {},
     "output_type": "execute_result"
    }
   ],
   "source": [
    "function Compute_AlphaAff_dual(alpha_step, v_k, dir_v_k)\n",
    "    alpha = 0\n",
    "    n = length(v_k)\n",
    "    while alpha+alpha_step <= 1 && all(v_k + (alpha+alpha_step) * dir_v_k .>= 0) \n",
    "        alpha += alpha_step\n",
    "    end\n",
    "    return alpha\n",
    "end\n",
    "\n",
    "function Compute_AlphaMax_dual(alpha_step, v_k, dir_v_k)\n",
    "    alpha = 0\n",
    "    n = length(v_k)\n",
    "    while alpha+alpha_step <= 100/99 && all(v_k + (alpha+alpha_step) * dir_v_k .>= 0) \n",
    "        alpha += alpha_step\n",
    "    end\n",
    "    return alpha\n",
    "end\n",
    "\n",
    "function Compute_AlphaAff_primal(alpha_step, v_k, dir_v_k, lvar, uvar)\n",
    "    alpha = 0\n",
    "    n = length(v_k)\n",
    "    while alpha+alpha_step <= 1 && all(lvar .<= (v_k + (alpha+alpha_step) * dir_v_k) .<= uvar)\n",
    "        alpha += alpha_step\n",
    "    end\n",
    "    return alpha\n",
    "end\n",
    "\n",
    "function Compute_AlphaMax_primal(alpha_step, v_k, dir_v_k, lvar, uvar)\n",
    "    alpha = 0\n",
    "    n = length(v_k)\n",
    "    while alpha+alpha_step <= 100/99 && all(lvar .<= (v_k + (alpha+alpha_step) * dir_v_k) .<= uvar)\n",
    "        alpha += alpha_step\n",
    "    end\n",
    "    return alpha\n",
    "end\n",
    "\n",
    "function Compute_mu(x_l, x_u, s, stilde, lvar, uvar)\n",
    "    #x_l coordinates of x corresponding to finite lower bounds ( resp. finite upper bounds for x_u)\n",
    "    # arguments must have finite bounds \n",
    "    return (s' * x_l + stilde' * x_u) / (length(x_l) + length(x_u))\n",
    "end"
   ]
  },
  {
   "cell_type": "code",
   "execution_count": 64,
   "metadata": {},
   "outputs": [
    {
     "data": {
      "text/plain": [
       "MehrotraPCQuadBounds (generic function with 6 methods)"
      ]
     },
     "execution_count": 64,
     "metadata": {},
     "output_type": "execute_result"
    }
   ],
   "source": [
    "\n",
    "function MehrotraPCQuadBounds(QM, max_iter, eps=1e-10, tol_step_x=1e-8, eps_mu=1e-8, alpha_step=1e-4, display=true)\n",
    "    \n",
    "    # get variables from QuadraticModel\n",
    "    x_0 = QM.meta.x0 .- 0.5\n",
    "    lvar, uvar = QM.meta.lvar, QM.meta.uvar\n",
    "    id_non_inf_lvar, id_non_inf_uvar = findall((x -> x!=-Inf), lvar), findall((x -> x!=Inf), uvar) # finite bounds index\n",
    "    @assert all(x_0 .> lvar) && all(x_0 .< uvar)\n",
    "    A = jac(QM, x_0)\n",
    "    n_rows, n_cols = size(A) \n",
    "    Q = hess(QM, x_0)\n",
    "    c = grad(QM, zeros(n_cols))\n",
    "    c0 = obj(QM, zeros(n_cols))\n",
    "    @assert QM.meta.lcon == QM.meta.ucon # equality constraint (Ax=b)\n",
    "    b = QM.meta.lcon\n",
    "    s_0, stilde_0 = zeros(n_cols), zeros(n_cols)\n",
    "    s_0[id_non_inf_lvar] = ones(length(id_non_inf_lvar))\n",
    "    stilde_0[id_non_inf_uvar] = ones(length(id_non_inf_uvar))\n",
    "    lambda_0 = Matrix(A)'\\(c -s_0+stilde_0) # least square initialisation, s_0 = stilde_0\n",
    "    x_k, lambda_k, s_k, stilde_k = copy(x_0), copy(lambda_0), copy(s_0), copy(stilde_0)\n",
    "    \n",
    "    rb_0 = A * x_0 - b\n",
    "    rc_0 = -Q * x_0 + A' * lambda_0 + s_0 - stilde_0 - c\n",
    "    mu_0 = Compute_mu(x_0[id_non_inf_lvar], x_0[id_non_inf_uvar], \n",
    "                        s_0[id_non_inf_lvar], stilde_0[id_non_inf_uvar], \n",
    "                        lvar[id_non_inf_lvar], uvar[id_non_inf_uvar])\n",
    "    \n",
    "    # matrices without infinity constraints\n",
    "    nb_non_inf_l, nb_non_inf_u = length(id_non_inf_lvar), length(id_non_inf_uvar) # number of finite constraints\n",
    "    nb_inf_l, nb_inf_u = n_cols-nb_non_inf_l, n_cols-nb_non_inf_u # number of infinite constraints\n",
    "    Xk_non_inf_l = Diagonal(x_k[id_non_inf_lvar])\n",
    "    Sk_non_inf = [Diagonal(s_k[id_non_inf_lvar])  zeros(nb_non_inf_l, nb_inf_l)] # add zeros to match number of cols\n",
    "    Xk_non_inf_u = Diagonal(x_k[id_non_inf_uvar])\n",
    "    Stildek_non_inf = [Diagonal(stilde_k[id_non_inf_uvar])  zeros(nb_non_inf_u, nb_inf_u)] \n",
    "    Lvar_non_inf = Diagonal(lvar[id_non_inf_lvar]) \n",
    "    Uvar_non_inf = Diagonal(uvar[id_non_inf_uvar]) \n",
    "    \n",
    "    mu_k, rb_k, rc_k = copy(mu_0), copy(rb_0), copy(rc_0)\n",
    "    k = 0\n",
    "    e = ones(n_cols)\n",
    "    n_c = norm(c)\n",
    "    n_b = norm(b)\n",
    "    \n",
    "    # stopping criterion\n",
    "    quad_part = x_k' * Q * x_k \n",
    "    pdd = abs(quad_part + c' * x_k - b' * lambda_k ) / (1 + abs(c' * x_k + quad_part/2))\n",
    "    cond_rb, cond_rc = norm(rb_k) / (1 + n_b), norm(rc_k) / (1 + n_c)\n",
    "    opti_pdd, opti_rb, opti_rc = pdd < eps, cond_rb < eps, cond_rc < eps\n",
    "    small_step_x, small_mu = false, mu_k < eps_mu\n",
    "\n",
    "    # display\n",
    "    if display == true\n",
    "        println(\"Iter | primal_objective | primal-dual difference | rb condition | rc condition |   step x   |     mu\")\n",
    "        println(\"--------------------------------------------------------------------------------------------------------\")\n",
    "        @printf(\"% 4d |     % 7.2e    |        % 7.2e       |   % 7.2e  |   % 7.2e  | % 7.2e  | % 7.2e\\n\", \n",
    "                k, c0+c'*x_k +quad_part/2, pdd, cond_rb, cond_rc,0., mu_k)\n",
    "    end\n",
    "    \n",
    "\n",
    "    while k<max_iter && opti_pdd==false && opti_rb==false && opti_rc==false && small_step_x==false && small_mu==false\n",
    " \n",
    "        # Affine scaling direction\n",
    "        Jacob_Fk = [-Q                      A'                     I(n_cols)[:, 1:nb_non_inf_l]       I(n_cols)[:, 1:nb_non_inf_u]*(-1)\n",
    "                    A                zeros(n_rows, n_rows)         zeros(n_rows, nb_non_inf_l)        zeros(n_rows, nb_non_inf_u)\n",
    "                    Sk_non_inf       zeros(nb_non_inf_l, n_rows)    Xk_non_inf_l-Lvar_non_inf         zeros(nb_non_inf_l, nb_non_inf_u)\n",
    "                    Stildek_non_inf  zeros(nb_non_inf_u, n_rows)   zeros(nb_non_inf_u,nb_non_inf_l)   Xk_non_inf_u-Uvar_non_inf]\n",
    "        \n",
    "        Fk_aff = [-rc_k\n",
    "                  -rb_k\n",
    "                  -(x_k[id_non_inf_lvar]-lvar[id_non_inf_lvar]).*s_k[id_non_inf_lvar]\n",
    "                  -(x_k[id_non_inf_uvar]-uvar[id_non_inf_uvar]).*stilde_k[id_non_inf_uvar]]\n",
    "        \n",
    "        dir_aff_k = Jacob_Fk\\Fk_aff\n",
    "        \n",
    "        alpha_aff_pri = Compute_AlphaAff_primal(alpha_step, x_k, dir_aff_k[1:n_cols], lvar, uvar)\n",
    "        alpha_aff_dual = Compute_AlphaAff_dual(alpha_step, s_k[id_non_inf_lvar], \n",
    "                                            dir_aff_k[n_rows+n_cols+1: n_rows+n_cols+nb_non_inf_l])\n",
    "        alphatilde_aff_dual = Compute_AlphaAff_dual(alpha_step, stilde_k[id_non_inf_uvar], \n",
    "                                                dir_aff_k[n_rows+n_cols+nb_non_inf_l+1:end])\n",
    "\n",
    "        mu_aff = Compute_mu(x_k[id_non_inf_lvar] + alpha_aff_pri * dir_aff_k[1:n_cols][id_non_inf_lvar],\n",
    "                    x_k[id_non_inf_uvar] + alpha_aff_pri * dir_aff_k[1:n_cols][id_non_inf_uvar],\n",
    "                    s_k[id_non_inf_lvar] + alpha_aff_dual * dir_aff_k[n_rows+n_cols+1: n_rows+n_cols+nb_non_inf_l],\n",
    "                    stilde_k[id_non_inf_uvar] + alphatilde_aff_dual * dir_aff_k[n_rows+n_cols+nb_non_inf_l+1: end],\n",
    "                    lvar[id_non_inf_lvar], uvar[id_non_inf_uvar])\n",
    "        \n",
    "        sigma = (mu_aff / mu_k)^3\n",
    "        \n",
    "        # corrector and centering step\n",
    "        Fk_cc = [zeros(n_rows+n_cols, 1)\n",
    "                 sigma*mu_k*e[1:nb_non_inf_l] - dir_aff_k[1:n_cols][id_non_inf_lvar].*dir_aff_k[n_rows+n_cols+1: n_rows+n_cols+nb_non_inf_l]\n",
    "                 sigma*mu_k*e[1:nb_non_inf_u] - dir_aff_k[1:n_cols][id_non_inf_uvar].*dir_aff_k[n_rows+n_cols+nb_non_inf_l+1: end]] \n",
    "        dir_cc_k = Jacob_Fk\\Fk_cc\n",
    "\n",
    "        dir_k = dir_aff_k .+ dir_cc_k # final direction\n",
    "        \n",
    "        alpha_max_pri = Compute_AlphaMax_primal(alpha_step, x_k, dir_k[1:n_cols], lvar, uvar)\n",
    "        alpha_max_dual = Compute_AlphaMax_dual(alpha_step, s_k[id_non_inf_lvar], \n",
    "                                        dir_k[n_rows+n_cols+1: n_rows+n_cols+nb_non_inf_l])\n",
    "        \n",
    "        alphatilde_max_dual = Compute_AlphaMax_dual(alpha_step, stilde_k[id_non_inf_uvar], \n",
    "                                            dir_k[n_rows+n_cols+nb_non_inf_l+1: end])\n",
    "    \n",
    "        # new parameters\n",
    "        alpha_k_pri = min(0.99*alpha_max_pri, 1)\n",
    "        alpha_k_dual = min(0.99*alpha_max_dual, 1)\n",
    "        alphatilde_k_dual = min(0.99*alphatilde_max_dual, 1)\n",
    "        x_k += alpha_k_pri * dir_k[1:n_cols]\n",
    "        lambda_k += alpha_k_dual * dir_k[n_cols+1: n_rows+n_cols]\n",
    "        s_k[id_non_inf_lvar] += alpha_k_dual * dir_k[n_rows+n_cols+1: n_rows+n_cols+nb_non_inf_l]\n",
    "        stilde_k[id_non_inf_uvar] += alphatilde_k_dual * dir_k[n_rows+n_cols+nb_non_inf_l+1: end]\n",
    "        \n",
    "        Xk_non_inf_l = Diagonal(x_k[id_non_inf_lvar])\n",
    "        Sk_non_inf = [Diagonal(s_k[id_non_inf_lvar])  zeros(nb_non_inf_l, nb_inf_l)] \n",
    "        Xk_non_inf_u = Diagonal(x_k[id_non_inf_uvar])\n",
    "        Stildek_non_inf = [Diagonal(stilde_k[id_non_inf_uvar])  zeros(nb_non_inf_u, nb_inf_u)] \n",
    "        \n",
    "        step_x = norm(alpha_k_pri * dir_k[1:n_cols])\n",
    "        mu_k = Compute_mu(x_k[id_non_inf_lvar], x_k[id_non_inf_uvar], \n",
    "                        s_k[id_non_inf_lvar], stilde_k[id_non_inf_uvar], \n",
    "                        lvar[id_non_inf_lvar], uvar[id_non_inf_uvar])\n",
    "\n",
    "        rb_k = A * x_k - b\n",
    "        rc_k = -Q * x_k + A' * lambda_k + s_k - stilde_k - c\n",
    "        \n",
    "        # update stopping criterion values:\n",
    "        quad_part = x_k' * Q * x_k \n",
    "        pdd = abs(quad_part + c' * x_k - b' * lambda_k ) / (1 + abs(c' * x_k + quad_part/2)) # test correct? ecart primal dual\n",
    "        cond_rb = norm(rb_k) / (1 + n_b)\n",
    "        cond_rc = norm(rc_k) / (1 + n_c)\n",
    "        opti_pdd, opti_rb, opti_rc = pdd < eps, cond_rb < eps, cond_rc < eps\n",
    "        small_step_x, small_mu = step_x < tol_step_x, mu_k < eps_mu\n",
    "        \n",
    "        k += 1\n",
    "        \n",
    "        if display == true\n",
    "            @printf(\"% 4d |     % 7.2e    |        % 7.2e       |   % 7.2e  |   % 7.2e  | % 7.2e  | % 7.2e\\n\", \n",
    "                k, c0+c'*x_k +quad_part/2, pdd, cond_rb, cond_rc,step_x, mu_k)\n",
    "        end\n",
    "    end\n",
    "    \n",
    "    if display == true\n",
    "        criteria = [k >= max_iter,  opti_pdd, opti_rb, opti_rc, small_step_x, small_mu]\n",
    "        criteria_names = [\"reached max_iter\",  \"pdd <= eps\", \"cond_rb <= eps\", \"cond_rc <= eps\", \n",
    "            \"step_x <= small_step_x\", \"mu_k <= eps_mu\"]\n",
    "        println(\"\\n stopping criterion = \",criteria_names[findall(criteria)])\n",
    "    end\n",
    "    \n",
    "    return OrderedDict(\"x_opt\" => x_k, \"lambda_opt\" => lambda_k, \"s_opt\" => s_k, \"stilde_opt\" => stilde_k, \n",
    "        \"n_iter\" => k, \"pdd\" => pdd, \"cond_rb\" => cond_rb, \"cond_rc\" => cond_rc)\n",
    "end"
   ]
  },
  {
   "cell_type": "markdown",
   "metadata": {},
   "source": [
    "### bibliothèque QuadraticModels\n",
    "\n",
    "optimize $c_0 + c'x + \\frac{1}{2} x'Hx ~~~~$ s.t. $~~L \\le Ax \\le U$ and $l \\le x \\le u$ \n",
    "\n",
    "Ici L = lcon, U = ucon, l = lvar, u = uvar"
   ]
  },
  {
   "cell_type": "code",
   "execution_count": 65,
   "metadata": {},
   "outputs": [
    {
     "data": {
      "text/plain": [
       "QuadraticModel"
      ]
     },
     "execution_count": 65,
     "metadata": {},
     "output_type": "execute_result"
    }
   ],
   "source": [
    "# probleme1\n",
    "Q = [6 2 1\n",
    "    2 5 2\n",
    "    1 2 4]\n",
    "c = [-8; -3; -3]\n",
    "c0 = 0.\n",
    "A = [1 0 1\n",
    "    0 1 1]\n",
    "b = [0; 3];\n",
    "lvar = [0;0;0]\n",
    "uvar = [Inf; Inf; Inf]\n",
    "lcon = b\n",
    "ucon = b\n",
    "\n",
    "x01 = [1.; 2.; 3.];\n",
    "\n",
    "QM = QuadraticModel(c, Q, A=A, lcon=lcon, ucon=ucon, lvar=lvar, uvar=uvar, x0=x01, c0=c0, name=\"QM1\")\n",
    "SM = SlackModel(QM)\n",
    "typeof(SM)"
   ]
  },
  {
   "cell_type": "code",
   "execution_count": 66,
   "metadata": {},
   "outputs": [
    {
     "data": {
      "text/plain": [
       "QuadraticModel"
      ]
     },
     "execution_count": 66,
     "metadata": {},
     "output_type": "execute_result"
    }
   ],
   "source": [
    "QM = QuadraticModel(c, Q, A=A, lcon=lcon, ucon=ucon, lvar=lvar, uvar=uvar, x0=x01, c0=c0, name=\"QM1\")\n",
    "SM = SlackModel(QM)\n",
    "typeof(SM)"
   ]
  },
  {
   "cell_type": "code",
   "execution_count": 67,
   "metadata": {},
   "outputs": [
    {
     "name": "stdout",
     "output_type": "stream",
     "text": [
      "Iter | primal_objective | primal-dual difference | rb condition | rc condition |   step x   |     mu\n",
      "--------------------------------------------------------------------------------------------------------\n",
      "   0 |      8.00e+00    |         3.89e+00       |    7.91e-01  |    1.73e+00  |  0.00e+00  |  1.50e+00\n",
      "   1 |      1.33e+01    |         1.32e-01       |    1.00e-02  |    1.31e-02  |  2.93e+00  |  7.80e-01\n",
      "   2 |      1.35e+01    |         9.90e-04       |    2.63e-04  |    3.22e-04  |  3.04e-02  |  8.28e-03\n",
      "   3 |      1.35e+01    |         1.00e-05       |    2.65e-06  |    3.26e-06  |  7.83e-04  |  8.36e-05\n",
      "   4 |      1.35e+01    |         1.01e-07       |    2.68e-08  |    3.29e-08  |  7.90e-06  |  8.44e-07\n",
      "   5 |      1.35e+01    |         1.01e-09       |    2.68e-10  |    3.29e-10  |  7.98e-08  |  8.44e-09\n",
      "\n",
      " stopping criterion = [\"mu_k <= eps_mu\"]\n",
      "\n",
      "-----------------------------------------------------------------------\n",
      "------------------------------- RESULTS -------------------------------\n"
     ]
    },
    {
     "data": {
      "text/plain": [
       "OrderedDict{String,Any} with 8 entries:\n",
       "  \"x_opt\"      => [7.5956e-10, 3.0, 2.57754e-10]\n",
       "  \"lambda_opt\" => [-9.83607, 12.0]\n",
       "  \"s_opt\"      => [1.83607, 7.9028e-9, 0.836068]\n",
       "  \"stilde_opt\" => [0.0, 0.0, 0.0]\n",
       "  \"n_iter\"     => 5\n",
       "  \"pdd\"        => 1.00962e-9\n",
       "  \"cond_rb\"    => 2.68086e-10\n",
       "  \"cond_rc\"    => 3.2878e-10"
      ]
     },
     "execution_count": 67,
     "metadata": {},
     "output_type": "execute_result"
    }
   ],
   "source": [
    "res_mpc1 =  MehrotraPCQuadBounds(SM, 20);\n",
    "display_results(res_mpc1)"
   ]
  },
  {
   "cell_type": "markdown",
   "metadata": {},
   "source": [
    "# Lecture des donnees .SIF"
   ]
  },
  {
   "cell_type": "code",
   "execution_count": 60,
   "metadata": {},
   "outputs": [
    {
     "data": {
      "text/plain": [
       "displayQuadraticModel (generic function with 1 method)"
      ]
     },
     "execution_count": 60,
     "metadata": {},
     "output_type": "execute_result"
    }
   ],
   "source": [
    "function createQuadraticModel(qpdata, name_pb)\n",
    "    # probleme du point initial\n",
    "    x0 = zeros(length(qpdata.lvar))\n",
    "    for i=1:length(x0)\n",
    "        if qpdata.lvar[i] == -Inf && qpdata.uvar[i] == Inf\n",
    "            x0[i] = 1.\n",
    "        elseif qpdata.lvar[i] == -Inf && qpdata.uvar[i] != Inf\n",
    "            x0[i] = qpdata.uvar[i] - 1.\n",
    "        elseif qpdata.lvar[i] != -Inf && qpdata.uvar[i] == Inf\n",
    "            x0[i] = qpdata.lvar[i] + 1.\n",
    "        else\n",
    "            x0[i] = (qpdata.lvar[i] + qpdata.uvar[i]) / 2 \n",
    "        end\n",
    "    end   \n",
    "    return QuadraticModel(qpdata.c, qpdata.qrows, qpdata.qcols, qpdata.qvals,\n",
    "            Arows=qpdata.arows, Acols=qpdata.acols, Avals=qpdata.avals, \n",
    "            lcon=qpdata.lcon, ucon=qpdata.ucon, lvar=qpdata.lvar, uvar=qpdata.uvar,\n",
    "            c0=qpdata.c0, x0=x0, name=name_pb)\n",
    "end\n",
    "\n",
    "function displayQuadraticModel(QM)\n",
    "    #println(\"A = \", Matrix(jac(QM, QM.meta.x0)))\n",
    "    #println(\"Q = \", Matrix(hess(QM, QM.meta.x0)))\n",
    "    println(\"lvar = \", QM.meta.lvar)\n",
    "    println(\"uvar = \", QM.meta.uvar)\n",
    "    println(\"x0 = \", QM.meta.x0)\n",
    "    #println(\"lcon = \", QM.meta.lcon)\n",
    "    #println(\"ucon = \", QM.meta.ucon)\n",
    "end"
   ]
  },
  {
   "cell_type": "code",
   "execution_count": 61,
   "metadata": {},
   "outputs": [
    {
     "data": {
      "text/plain": [
       "\"C:\\\\Users\\\\Geoffroy Leconte\\\\Documents\\\\cours\\\\TFE\\\\code\\\\problemes\\\\AFIRO.SIF\""
      ]
     },
     "execution_count": 61,
     "metadata": {},
     "output_type": "execute_result"
    }
   ],
   "source": [
    "path = \"C:\\\\Users\\\\Geoffroy Leconte\\\\Documents\\\\cours\\\\TFE\\\\code\\\\problemes\"\n",
    "afiro = string(path, \"\\\\AFIRO.SIF\")"
   ]
  },
  {
   "cell_type": "code",
   "execution_count": 62,
   "metadata": {},
   "outputs": [
    {
     "name": "stderr",
     "output_type": "stream",
     "text": [
      "┌ Info: Using 'AFIRO' as NAME (l. 5)\n",
      "└ @ QPSReader C:\\Users\\Geoffroy Leconte\\.julia\\packages\\QPSReader\\usDQr\\src\\readqps.jl:751\n",
      "┌ Info: Using 'COST' as objective (l. 47)\n",
      "└ @ QPSReader C:\\Users\\Geoffroy Leconte\\.julia\\packages\\QPSReader\\usDQr\\src\\readqps.jl:350\n",
      "┌ Info: Using 'B' as RHS (l. 96)\n",
      "└ @ QPSReader C:\\Users\\Geoffroy Leconte\\.julia\\packages\\QPSReader\\usDQr\\src\\readqps.jl:470\n"
     ]
    }
   ],
   "source": [
    "qpdata2 = readqps(afiro)\n",
    "qpdata2.contypes\n",
    "QM2 = createQuadraticModel(qpdata2, \"QM2\")\n",
    "SM2 = SlackModel(QM2);\n"
   ]
  },
  {
   "cell_type": "code",
   "execution_count": 63,
   "metadata": {},
   "outputs": [
    {
     "name": "stdout",
     "output_type": "stream",
     "text": [
      "Iter | primal_objective | primal-dual difference | rb condition | rc condition |   step x   |     mu\n",
      "--------------------------------------------------------------------------------------------------------\n",
      "   0 |      4.10e+00    |         2.12e+01       |    9.49e-01  |    7.29e-01  |  0.00e+00  |  1.27e-01\n",
      "   1 |      3.58e+00    |         1.40e+01       |    9.47e-01  |    7.04e-01  |  7.21e-01  |  1.93e-01\n",
      "   2 |      3.61e+00    |         1.40e+01       |    9.47e-01  |    7.12e-01  |  6.92e-01  |  1.88e-01\n",
      "   3 |      3.61e+00    |         1.41e+01       |    9.47e-01  |    7.48e-01  |  0.00e+00  |  1.93e-01\n",
      "\n",
      " stopping criterion = [\"step_x <= small_step_x\"]\n",
      "\n",
      "-----------------------------------------------------------------------\n",
      "------------------------------- RESULTS -------------------------------\n"
     ]
    },
    {
     "data": {
      "text/plain": [
       "OrderedDict{String,Any} with 8 entries:\n",
       "  \"x_opt\"      => [0.501419, 0.499858, 0.500522, 0.501567, 0.404339, 0.406518, …\n",
       "  \"lambda_opt\" => [-1.66331, 0.833398, -1.26697, -0.333431, -0.444268, 2.13957,…\n",
       "  \"s_opt\"      => [0.994494, 1.0007, 0.990646, 0.99532, 2.04427, 1.38312, 2.499…\n",
       "  \"stilde_opt\" => [0.0, 0.0, 0.0, 0.0, 0.0, 0.0, 0.0, 0.0, 0.0, 0.0  …  1.32531…\n",
       "  \"n_iter\"     => 3\n",
       "  \"pdd\"        => 14.0967\n",
       "  \"cond_rb\"    => 0.946732\n",
       "  \"cond_rc\"    => 0.748035"
      ]
     },
     "execution_count": 63,
     "metadata": {},
     "output_type": "execute_result"
    }
   ],
   "source": [
    "res_mpc2 =  MehrotraPCQuadBounds(SM2, 20);\n",
    "display_results(res_mpc2)"
   ]
  },
  {
   "cell_type": "code",
   "execution_count": null,
   "metadata": {},
   "outputs": [],
   "source": []
  }
 ],
 "metadata": {
  "kernelspec": {
   "display_name": "Julia 1.4.0",
   "language": "julia",
   "name": "julia-1.4"
  },
  "language_info": {
   "file_extension": ".jl",
   "mimetype": "application/julia",
   "name": "julia",
   "version": "1.4.0"
  }
 },
 "nbformat": 4,
 "nbformat_minor": 4
}
