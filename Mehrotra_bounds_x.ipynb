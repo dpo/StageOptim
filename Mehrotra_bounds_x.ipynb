{
 "cells": [
  {
   "cell_type": "markdown",
   "metadata": {},
   "source": [
    "# Problèmes\n",
    "\n",
    "### 1)\n",
    "Primal: $\\underset{x \\in \\mathbb{R}^3}{\\min} \\frac{1}{2} x' Q x + c' x ~~~~~~~~ s.t. ~ A x = b ~, ~~ x \\ge 0$\n",
    "\n",
    "with  $Q = \\begin{bmatrix} 6 & 2 & 1\\\\ 2 & 5 & 2\\\\ 1 & 2 & 4 \\end{bmatrix} $, $c = \\begin{bmatrix} -8 \\\\ -3 \\\\ -3 \\end{bmatrix}$, $A = \\begin{bmatrix} 1 & 0 &1 \\\\ 0 & 1 & 1 \\end{bmatrix}$ , and $b = \\begin{bmatrix} 3 \\\\ 0 \\end{bmatrix} $.\n",
    "\n",
    "\n",
    "### 2) \n",
    "AFIRO        28 rows    32 cols        88 nonzeros       794 bytes      -4.6475314286E+02 optimalvalue"
   ]
  },
  {
   "cell_type": "code",
   "execution_count": 25,
   "metadata": {},
   "outputs": [],
   "source": [
    "using LinearAlgebra\n",
    "using LaTeXStrings\n",
    "using DataFrames\n",
    "using DataStructures\n",
    "using QuadraticModels\n",
    "using Printf\n",
    "using SparseArrays\n",
    "using BenchmarkTools\n",
    "using NLPModels\n",
    "using LinearOperators\n",
    "using QPSReader"
   ]
  },
  {
   "cell_type": "markdown",
   "metadata": {},
   "source": [
    "# Mehrotra formulation plus générale:\n",
    "\n",
    "min $c_0 + c'x + \\frac{1}{2} x'Hx ~~~~$ s.t. $ Ax = b $ and $l \\le x \\le u$ "
   ]
  },
  {
   "cell_type": "code",
   "execution_count": 26,
   "metadata": {},
   "outputs": [
    {
     "data": {
      "text/plain": [
       "init_x0 (generic function with 1 method)"
      ]
     },
     "execution_count": 26,
     "metadata": {},
     "output_type": "execute_result"
    }
   ],
   "source": [
    "function display_results(result)\n",
    "    # fonction pour l'affichage\n",
    "    println(\"\\n-----------------------------------------------------------------------\")\n",
    "    println(\"------------------------------- RESULTS -------------------------------\")\n",
    "    result\n",
    "end\n",
    "\n",
    "function init_x0(lvar, uvar)\n",
    "    # choice of an init point x0\n",
    "    x0 = zeros(length(lvar))\n",
    "    for i=1:length(x0)\n",
    "        if lvar[i] == -Inf && uvar[i] == Inf\n",
    "            x0[i] = 0.\n",
    "        elseif lvar[i] == -Inf && uvar[i] != Inf\n",
    "            x0[i] = uvar[i] - 1.\n",
    "        elseif lvar[i] != -Inf && uvar[i] == Inf\n",
    "            x0[i] = lvar[i] + 1.\n",
    "        else\n",
    "            x0[i] = (lvar[i] + uvar[i]) / 2 \n",
    "        end\n",
    "    end  \n",
    "    return x0\n",
    "end"
   ]
  },
  {
   "cell_type": "code",
   "execution_count": 27,
   "metadata": {},
   "outputs": [
    {
     "data": {
      "text/plain": [
       "Compute_mu (generic function with 1 method)"
      ]
     },
     "execution_count": 27,
     "metadata": {},
     "output_type": "execute_result"
    }
   ],
   "source": [
    "function Compute_AlphaAff_dual(v_k, dir_v_k)\n",
    "    n = length(v_k)\n",
    "    if n == 0\n",
    "        return 0.\n",
    "    end\n",
    "    alphas = ones(n)\n",
    "    for i=1:n\n",
    "        if dir_v_k[i] < 1e-12\n",
    "            alphas[i] = -v_k[i] * 0.95 / dir_v_k[i]\n",
    "        end\n",
    "    end\n",
    "    alpha_min = minimum(alphas)\n",
    "    return min(1, alpha_min)\n",
    "end\n",
    "\n",
    "function Compute_AlphaMax_dual(v_k, dir_v_k)\n",
    "    n = length(v_k)\n",
    "    if n == 0\n",
    "        return 0.\n",
    "    end\n",
    "    alphas = ones(n)*100/99\n",
    "    for i=1:n\n",
    "        if dir_v_k[i] < 1e-12\n",
    "            alphas[i] = -v_k[i] * 0.95 / dir_v_k[i]\n",
    "        end\n",
    "    end\n",
    "    alpha_min = minimum(alphas)\n",
    "    return alpha_min\n",
    "end\n",
    "\n",
    "function Compute_AlphaAff_primal(v_k, dir_v_k, lvar, uvar)\n",
    "    n = length(v_k)\n",
    "    alpha_l, alpha_u = ones(n), ones(n)\n",
    "    for i=1:n\n",
    "        if dir_v_k[i] > 1e-12\n",
    "            alpha_u[i] = (uvar[i] - v_k[i]) * 0.95 / dir_v_k[i]\n",
    "        elseif dir_v_k[i] < 1e-12\n",
    "            alpha_l[i] = (lvar[i] - v_k[i]) * 0.95 / dir_v_k[i]\n",
    "        end\n",
    "    end\n",
    "    alpha_min = min(minimum(alpha_l), minimum(alpha_u))\n",
    "    return min(1, alpha_min)\n",
    "end\n",
    "    \n",
    "function Compute_AlphaMax_primal(v_k, dir_v_k, lvar, uvar)\n",
    "    n = length(v_k)\n",
    "    alpha_l, alpha_u = ones(n)*100/99, ones(n)*100/99\n",
    "    for i=1:n\n",
    "        if dir_v_k[i] > 1e-12\n",
    "            alpha_u[i] = (uvar[i] - v_k[i]) * 0.95 / dir_v_k[i]\n",
    "        elseif dir_v_k[i] < 1e-12\n",
    "            alpha_l[i] = (lvar[i] - v_k[i]) * 0.95 / dir_v_k[i]\n",
    "        end\n",
    "    end\n",
    "    alpha_min = min(minimum(alpha_l), minimum(alpha_u))\n",
    "    return alpha_min\n",
    "end\n",
    "\n",
    "function Compute_mu(x_l, x_u, s, stilde, lvar, uvar)\n",
    "    #x_l coordinates of x corresponding to finite lower bounds ( resp. finite upper bounds for x_u)\n",
    "    # arguments must have finite bounds \n",
    "    return (s' * (x_l-lvar) + stilde' * (uvar-x_u)) / (length(x_l) + length(x_u))\n",
    "end"
   ]
  },
  {
   "cell_type": "code",
   "execution_count": 28,
   "metadata": {},
   "outputs": [
    {
     "data": {
      "text/plain": [
       "MehrotraPCQuadBounds (generic function with 1 method)"
      ]
     },
     "execution_count": 28,
     "metadata": {},
     "output_type": "execute_result"
    }
   ],
   "source": [
    "\n",
    "function MehrotraPCQuadBounds(QM, max_iter; eps=1e-10, tol_step_x=1e-8, eps_mu=1e-8, display=true)\n",
    "    \n",
    "    # get variables from QuadraticModel\n",
    "    lvar, uvar = QM.meta.lvar, QM.meta.uvar\n",
    "    x_0 = init_x0(lvar, uvar)\n",
    "    id_non_inf_lvar, id_non_inf_uvar = findall((x -> x!=-Inf), lvar), findall((x -> x!=Inf), uvar) # finite bounds index\n",
    "    @assert all(x_0 .> lvar) && all(x_0 .< uvar)\n",
    "    A = jac(QM, x_0)\n",
    "    n_rows, n_cols = size(A) \n",
    "    Q = hess(QM, x_0)\n",
    "    c = grad(QM, zeros(n_cols))\n",
    "    c0 = obj(QM, zeros(n_cols))\n",
    "    @assert QM.meta.lcon == QM.meta.ucon # equality constraint (Ax=b)\n",
    "    b = QM.meta.lcon\n",
    "    s_0, stilde_0 = zeros(n_cols), zeros(n_cols)\n",
    "    s_0[id_non_inf_lvar] = ones(length(id_non_inf_lvar))\n",
    "    stilde_0[id_non_inf_uvar] = ones(length(id_non_inf_uvar))\n",
    "    lambda_0 = Matrix(A)'\\(c -s_0+stilde_0+Q*x_0) # least square initialisation, s_0 = stilde_0\n",
    "    x_k, lambda_k, s_k, stilde_k = copy(x_0), copy(lambda_0), copy(s_0), copy(stilde_0)\n",
    "    \n",
    "    rb_0 = A * x_0 - b\n",
    "    rc_0 = -Q * x_0 + A' * lambda_0 + s_0 - stilde_0 - c\n",
    "    mu_0 = Compute_mu(x_0[id_non_inf_lvar], x_0[id_non_inf_uvar], \n",
    "                        s_0[id_non_inf_lvar], stilde_0[id_non_inf_uvar], \n",
    "                        lvar[id_non_inf_lvar], uvar[id_non_inf_uvar])\n",
    "\n",
    "    # matrices without infinity constraints\n",
    "    nb_non_inf_l, nb_non_inf_u = length(id_non_inf_lvar), length(id_non_inf_uvar) # number of finite constraints\n",
    "    nb_inf_l, nb_inf_u = n_cols-nb_non_inf_l, n_cols-nb_non_inf_u # number of infinite constraints\n",
    "    Xk_non_inf_l = Diagonal(x_k[id_non_inf_lvar])\n",
    "    Sk_non_inf = [Diagonal(s_k[id_non_inf_lvar])  zeros(nb_non_inf_l, nb_inf_l)] # add zeros to match number of cols\n",
    "    Xk_non_inf_u = Diagonal(x_k[id_non_inf_uvar])\n",
    "    Stildek_non_inf = [Diagonal(stilde_k[id_non_inf_uvar])  zeros(nb_non_inf_u, nb_inf_u)] \n",
    "    Lvar_non_inf = Diagonal(lvar[id_non_inf_lvar]) \n",
    "    Uvar_non_inf = Diagonal(uvar[id_non_inf_uvar]) \n",
    "    \n",
    "    mu_k, rb_k, rc_k = copy(mu_0), copy(rb_0), copy(rc_0)\n",
    "    k = 0\n",
    "    e = ones(n_cols)\n",
    "    n_c = norm(c)\n",
    "    n_b = norm(b)\n",
    "    \n",
    "    # stopping criterion\n",
    "    quad_part = x_k' * Q * x_k \n",
    "    pdd = abs(quad_part + c' * x_k - b' * lambda_k ) / (1 + abs(c' * x_k + quad_part/2))\n",
    "    cond_rb, cond_rc = norm(rb_k) / (1 + n_b), norm(rc_k) / (1 + n_c)\n",
    "    opti_pdd, opti_rb, opti_rc = pdd < eps, cond_rb < eps, cond_rc < eps # start false?\n",
    "    small_step_x, small_mu = false, mu_k < eps_mu\n",
    "\n",
    "    # display\n",
    "    if display == true\n",
    "        println(\"Iter | primal_objective | primal-dual difference | rb condition | rc condition |   step x   |     mu\")\n",
    "        println(\"--------------------------------------------------------------------------------------------------------\")\n",
    "        @printf(\"% 4d |     % 7.2e    |        % 7.2e       |   % 7.2e  |   % 7.2e  | % 7.2e  | % 7.2e\\n\", \n",
    "                k, c0+c'*x_k +quad_part/2, pdd, cond_rb, cond_rc,0., mu_k)\n",
    "    end\n",
    "    \n",
    "\n",
    "    while k<max_iter && (opti_pdd==false || opti_rb==false || opti_rc==false) && small_step_x==false && small_mu==false\n",
    " \n",
    "        # Affine scaling direction\n",
    "        Jacob_Fk = [-Q                      A'                     I(n_cols)[:, 1:nb_non_inf_l]       I(n_cols)[:, 1:nb_non_inf_u]*(-1)\n",
    "                    A                zeros(n_rows, n_rows)         zeros(n_rows, nb_non_inf_l)        zeros(n_rows, nb_non_inf_u)\n",
    "                    Sk_non_inf       zeros(nb_non_inf_l, n_rows)    Xk_non_inf_l-Lvar_non_inf         zeros(nb_non_inf_l, nb_non_inf_u)\n",
    "                    Stildek_non_inf  zeros(nb_non_inf_u, n_rows)   zeros(nb_non_inf_u,nb_non_inf_l)   Xk_non_inf_u-Uvar_non_inf]\n",
    "        Fk_aff = [-rc_k\n",
    "                  -rb_k\n",
    "                  -(x_k[id_non_inf_lvar]-lvar[id_non_inf_lvar]).*s_k[id_non_inf_lvar]\n",
    "                  -(x_k[id_non_inf_uvar]-uvar[id_non_inf_uvar]).*stilde_k[id_non_inf_uvar]]\n",
    "\n",
    "        dir_aff_k = Jacob_Fk\\Fk_aff\n",
    "        \n",
    "        alpha_aff_pri = Compute_AlphaAff_primal(x_k, dir_aff_k[1:n_cols], lvar, uvar)\n",
    "        alpha_aff_dual = Compute_AlphaAff_dual(s_k[id_non_inf_lvar], \n",
    "                                            dir_aff_k[n_rows+n_cols+1: n_rows+n_cols+nb_non_inf_l])\n",
    "        alphatilde_aff_dual = Compute_AlphaAff_dual(stilde_k[id_non_inf_uvar], \n",
    "                                                dir_aff_k[n_rows+n_cols+nb_non_inf_l+1:end])\n",
    "        # alpha_aff_dual_final is the min of the 2 alpha_aff_dual\n",
    "        if nb_non_inf_l == 0\n",
    "            alpha_aff_dual_final = alphatilde_aff_dual\n",
    "        elseif nb_non_inf_u == 0\n",
    "            alpha_aff_dual_final = alpha_aff_dual\n",
    "        else\n",
    "            alpha_aff_dual_final = min(alpha_aff_dual, alphatilde_aff_dual)\n",
    "        end\n",
    "        \n",
    "        mu_aff = Compute_mu(x_k[id_non_inf_lvar] + alpha_aff_pri * dir_aff_k[1:n_cols][id_non_inf_lvar],\n",
    "                    x_k[id_non_inf_uvar] + alpha_aff_pri * dir_aff_k[1:n_cols][id_non_inf_uvar],\n",
    "                    s_k[id_non_inf_lvar] + alpha_aff_dual_final * dir_aff_k[n_rows+n_cols+1: n_rows+n_cols+nb_non_inf_l],\n",
    "                    stilde_k[id_non_inf_uvar] + alpha_aff_dual_final * dir_aff_k[n_rows+n_cols+nb_non_inf_l+1: end],\n",
    "                    lvar[id_non_inf_lvar], uvar[id_non_inf_uvar])\n",
    "        \n",
    "        sigma = (mu_aff / mu_k)^3\n",
    "\n",
    "        # corrector and centering step\n",
    "        Fk_cc = [zeros(n_rows+n_cols, 1)\n",
    "                 sigma*mu_k*e[1:nb_non_inf_l] - dir_aff_k[1:n_cols][id_non_inf_lvar].*dir_aff_k[n_rows+n_cols+1: n_rows+n_cols+nb_non_inf_l]\n",
    "                 sigma*mu_k*e[1:nb_non_inf_u] - dir_aff_k[1:n_cols][id_non_inf_uvar].*dir_aff_k[n_rows+n_cols+nb_non_inf_l+1: end]] \n",
    "        \n",
    "        dir_cc_k = Jacob_Fk\\Fk_cc\n",
    "        dir_k = dir_aff_k .+ dir_cc_k # final direction\n",
    "        \n",
    "        alpha_max_pri = Compute_AlphaMax_primal(x_k, dir_k[1:n_cols], lvar, uvar)\n",
    "        alpha_max_dual = Compute_AlphaMax_dual(s_k[id_non_inf_lvar], \n",
    "                                        dir_k[n_rows+n_cols+1: n_rows+n_cols+nb_non_inf_l])\n",
    "        \n",
    "        alphatilde_max_dual = Compute_AlphaMax_dual(stilde_k[id_non_inf_uvar], \n",
    "                                            dir_k[n_rows+n_cols+nb_non_inf_l+1: end])\n",
    "        \n",
    "    \n",
    "        # new parameters\n",
    "        alpha_k_pri = min(0.99*alpha_max_pri, 1)\n",
    "        alpha_k_dual = min(0.99*alpha_max_dual, 1)\n",
    "        alphatilde_k_dual = min(0.99*alphatilde_max_dual, 1)\n",
    "        if nb_non_inf_l == 0\n",
    "            alpha_dual_final = alphatilde_k_dual\n",
    "        elseif nb_non_inf_u == 0\n",
    "            alpha_dual_final = alpha_k_dual\n",
    "        else\n",
    "            alpha_dual_final = min(alpha_k_dual, alphatilde_k_dual)\n",
    "        end\n",
    "        \n",
    "        x_k += alpha_k_pri * dir_k[1:n_cols]\n",
    "        lambda_k += alpha_dual_final * dir_k[n_cols+1: n_rows+n_cols]\n",
    "        s_k[id_non_inf_lvar] += alpha_dual_final * dir_k[n_rows+n_cols+1: n_rows+n_cols+nb_non_inf_l]\n",
    "        stilde_k[id_non_inf_uvar] += alpha_dual_final * dir_k[n_rows+n_cols+nb_non_inf_l+1: end]\n",
    "        \n",
    "        Xk_non_inf_l = Diagonal(x_k[id_non_inf_lvar])\n",
    "        Sk_non_inf = [Diagonal(s_k[id_non_inf_lvar])  zeros(nb_non_inf_l, nb_inf_l)] \n",
    "        Xk_non_inf_u = Diagonal(x_k[id_non_inf_uvar])\n",
    "        Stildek_non_inf = [Diagonal(stilde_k[id_non_inf_uvar])  zeros(nb_non_inf_u, nb_inf_u)] \n",
    "        \n",
    "        step_x = norm(alpha_k_pri * dir_k[1:n_cols])\n",
    "        mu_k = Compute_mu(x_k[id_non_inf_lvar], x_k[id_non_inf_uvar], \n",
    "                        s_k[id_non_inf_lvar], stilde_k[id_non_inf_uvar], \n",
    "                        lvar[id_non_inf_lvar], uvar[id_non_inf_uvar])\n",
    "\n",
    "        rb_k = A * x_k - b\n",
    "        rc_k = -Q * x_k + A' * lambda_k + s_k - stilde_k - c\n",
    "        \n",
    "        # update stopping criterion values:\n",
    "        quad_part = x_k' * Q * x_k \n",
    "        pdd = abs(quad_part + c' * x_k - b' * lambda_k ) / (1 + abs(c' * x_k + quad_part/2)) # test correct? ecart primal dual\n",
    "        cond_rb = norm(rb_k) / (1 + n_b)\n",
    "        cond_rc = norm(rc_k) / (1 + n_c)\n",
    "        opti_pdd, opti_rb, opti_rc = pdd < eps, cond_rb < eps, cond_rc < eps\n",
    "        small_step_x, small_mu = step_x < tol_step_x, mu_k < eps_mu\n",
    "        \n",
    "        k += 1\n",
    "        \n",
    "        if display == true\n",
    "            @printf(\"% 4d |     % 7.2e    |        % 7.2e       |   % 7.2e  |   % 7.2e  | % 7.2e  | % 7.2e\\n\", \n",
    "                k, c0+c'*x_k +quad_part/2, pdd, cond_rb, cond_rc,step_x, mu_k)\n",
    "        end\n",
    "    end\n",
    "    \n",
    "    if display == true\n",
    "        criteria = [k >= max_iter,  opti_pdd, opti_rb, opti_rc, small_step_x, small_mu]\n",
    "        criteria_names = [\"reached max_iter\",  \"pdd <= eps\", \"cond_rb <= eps\", \"cond_rc <= eps\", \n",
    "            \"step_x <= small_step_x\", \"mu_k <= eps_mu\"]\n",
    "        println(\"\\n stopping criterion = \",criteria_names[findall(criteria)])\n",
    "    end\n",
    "    \n",
    "    return OrderedDict(\"x_opt\" => x_k, \"lambda_opt\" => lambda_k, \"s_opt\" => s_k, \"stilde_opt\" => stilde_k, \n",
    "        \"n_iter\" => k, \"pdd\" => pdd, \"cond_rb\" => cond_rb, \"cond_rc\" => cond_rc)\n",
    "end"
   ]
  },
  {
   "cell_type": "markdown",
   "metadata": {},
   "source": [
    "### bibliothèque QuadraticModels\n",
    "\n",
    "optimize $c_0 + c'x + \\frac{1}{2} x'Hx ~~~~$ s.t. $~~L \\le Ax \\le U$ and $l \\le x \\le u$ \n",
    "\n",
    "Ici L = lcon, U = ucon, l = lvar, u = uvar"
   ]
  },
  {
   "cell_type": "code",
   "execution_count": 29,
   "metadata": {},
   "outputs": [],
   "source": [
    "# probleme1\n",
    "Q = [6 2 1\n",
    "    2 5 2\n",
    "    1 2 4]\n",
    "c = [-8; -3; -3]\n",
    "c0 = 0.\n",
    "A = [1 0 1\n",
    "    0 1 1]\n",
    "b = [0; 3]\n",
    "lvar = [0;0;0]\n",
    "uvar = [Inf; Inf; Inf]\n",
    "lcon = b\n",
    "ucon = b\n",
    "\n",
    "x01 = [1.; 2.; 3.];\n"
   ]
  },
  {
   "cell_type": "code",
   "execution_count": 30,
   "metadata": {},
   "outputs": [
    {
     "data": {
      "text/plain": [
       "QuadraticModel"
      ]
     },
     "execution_count": 30,
     "metadata": {},
     "output_type": "execute_result"
    }
   ],
   "source": [
    "QM = QuadraticModel(c, Q, A=A, lcon=lcon, ucon=ucon, lvar=lvar, uvar=uvar, x0=x01, c0=c0, name=\"QM1\")\n",
    "SM = SlackModel(QM)\n",
    "typeof(SM)"
   ]
  },
  {
   "cell_type": "code",
   "execution_count": 31,
   "metadata": {},
   "outputs": [
    {
     "name": "stdout",
     "output_type": "stream",
     "text": [
      "Iter | primal_objective | primal-dual difference | rb condition | rc condition |   step x   |     mu\n",
      "--------------------------------------------------------------------------------------------------------\n",
      "   0 |     -4.00e+00    |         1.20e+00       |    5.59e-01  |    1.72e-01  |  0.00e+00  |  1.00e+00\n",
      "   1 |      9.46e+00    |         2.74e-02       |    1.01e-01  |    1.87e-01  |  2.11e+00  |  2.89e+00\n",
      "   2 |      1.29e+01    |         2.78e-02       |    1.09e-02  |    1.91e-02  |  3.48e-01  |  1.88e-01\n",
      "   3 |      1.35e+01    |         2.18e-03       |    7.33e-04  |    1.28e-03  |  4.59e-02  |  1.14e-02\n",
      "   4 |      1.35e+01    |         1.31e-04       |    4.37e-05  |    7.61e-05  |  3.23e-03  |  6.79e-04\n",
      "   5 |      1.35e+01    |         7.81e-06       |    2.61e-06  |    4.54e-06  |  1.92e-04  |  4.04e-05\n",
      "   6 |      1.35e+01    |         4.68e-07       |    1.55e-07  |    2.71e-07  |  1.15e-05  |  2.40e-06\n",
      "   7 |      1.35e+01    |         2.80e-08       |    9.27e-09  |    1.62e-08  |  6.82e-07  |  1.43e-07\n",
      "   8 |      1.35e+01    |         1.67e-09       |    5.53e-10  |    9.64e-10  |  4.06e-08  |  8.52e-09\n",
      "\n",
      " stopping criterion = [\"mu_k <= eps_mu\"]\n",
      "\n",
      "-----------------------------------------------------------------------\n",
      "------------------------------- RESULTS -------------------------------\n"
     ]
    },
    {
     "data": {
      "text/plain": [
       "OrderedDict{String,Any} with 8 entries:\n",
       "  \"x_opt\"      => [8.19429e-10, 3.0, 1.15934e-9]\n",
       "  \"lambda_opt\" => [-9.46686, 12.0]\n",
       "  \"s_opt\"      => [1.46686, 7.93551e-9, 0.466862]\n",
       "  \"stilde_opt\" => [0.0, 0.0, 0.0]\n",
       "  \"n_iter\"     => 8\n",
       "  \"pdd\"        => 1.67496e-9\n",
       "  \"cond_rb\"    => 5.53083e-10\n",
       "  \"cond_rc\"    => 9.63727e-10"
      ]
     },
     "execution_count": 31,
     "metadata": {},
     "output_type": "execute_result"
    }
   ],
   "source": [
    "res_mpc1 =  MehrotraPCQuadBounds(SM, 20);\n",
    "display_results(res_mpc1)"
   ]
  },
  {
   "cell_type": "code",
   "execution_count": 32,
   "metadata": {},
   "outputs": [
    {
     "name": "stdout",
     "output_type": "stream",
     "text": [
      "Iter | primal_objective | primal-dual difference | rb condition | rc condition |   step x   |     mu\n",
      "--------------------------------------------------------------------------------------------------------\n",
      "   0 |     -4.00e+00    |         1.20e+00       |    5.59e-01  |    1.72e-01  |  0.00e+00  |  1.00e+00\n",
      "   1 |      9.47e+00    |         2.79e-02       |    1.01e-01  |    1.87e-01  |  2.12e+00  |  2.88e+00\n",
      "   2 |      1.29e+01    |         2.76e-02       |    1.09e-02  |    1.89e-02  |  3.48e-01  |  1.87e-01\n",
      "   3 |      1.35e+01    |         2.19e-03       |    7.32e-04  |    1.28e-03  |  4.55e-02  |  1.13e-02\n",
      "   4 |      1.35e+01    |         1.32e-04       |    4.37e-05  |    7.62e-05  |  3.22e-03  |  6.76e-04\n",
      "   5 |      1.35e+01    |         7.90e-06       |    2.61e-06  |    4.55e-06  |  1.93e-04  |  4.02e-05\n",
      "   6 |      1.35e+01    |         4.74e-07       |    1.56e-07  |    2.72e-07  |  1.15e-05  |  2.39e-06\n",
      "   7 |      1.35e+01    |         2.85e-08       |    9.32e-09  |    1.62e-08  |  6.89e-07  |  1.42e-07\n",
      "   8 |      1.35e+01    |         1.71e-09       |    5.57e-10  |    9.70e-10  |  4.12e-08  |  8.47e-09\n",
      "\n",
      " stopping criterion = [\"mu_k <= eps_mu\"]\n",
      "\n",
      "-----------------------------------------------------------------------\n",
      "------------------------------- RESULTS -------------------------------\n"
     ]
    },
    {
     "data": {
      "text/plain": [
       "OrderedDict{String,Any} with 8 entries:\n",
       "  \"x_opt\"      => [-7.9316e-10, -3.0, -1.19842e-9]\n",
       "  \"lambda_opt\" => [-9.4401, 12.0]\n",
       "  \"s_opt\"      => [0.0, 0.0, 0.0]\n",
       "  \"stilde_opt\" => [1.4401, 7.91363e-9, 0.440101]\n",
       "  \"n_iter\"     => 8\n",
       "  \"pdd\"        => 1.71093e-9\n",
       "  \"cond_rb\"    => 5.56664e-10\n",
       "  \"cond_rc\"    => 9.70106e-10"
      ]
     },
     "execution_count": 32,
     "metadata": {},
     "output_type": "execute_result"
    }
   ],
   "source": [
    "#pb verif\n",
    "\n",
    "QM_verif = QuadraticModel(c*(-1), Q, A=A*(-1), lcon=lcon, ucon=ucon, lvar=-uvar, uvar=lvar, x0=x01, c0=c0, name=\"QM1\")\n",
    "SM_verif = SlackModel(QM_verif)\n",
    "res_mpc_verif =  MehrotraPCQuadBounds(SM_verif, 20);\n",
    "display_results(res_mpc_verif)"
   ]
  },
  {
   "cell_type": "code",
   "execution_count": 33,
   "metadata": {},
   "outputs": [
    {
     "name": "stdout",
     "output_type": "stream",
     "text": [
      "Iter | primal_objective | primal-dual difference | rb condition | rc condition |   step x   |     mu\n",
      "--------------------------------------------------------------------------------------------------------\n",
      "   0 |      1.00e+00    |         8.33e-01       |    1.00e+00  |    4.08e-01  |  0.00e+00  |  1.00e+00\n",
      "   1 |      1.11e-01    |         4.06e-01       |    0.00e+00  |    0.00e+00  |  1.19e+00  |  1.50e-01\n",
      "   2 |      6.61e-03    |         2.67e-02       |    0.00e+00  |    0.00e+00  |  1.28e-01  |  8.95e-03\n",
      "   3 |      3.93e-04    |         1.60e-03       |    0.00e+00  |    1.11e-16  |  7.62e-03  |  5.33e-04\n",
      "   4 |      2.34e-05    |         9.51e-05       |    0.00e+00  |    1.53e-19  |  4.53e-04  |  3.17e-05\n",
      "   5 |      1.39e-06    |         5.66e-06       |    0.00e+00  |    9.58e-21  |  2.70e-05  |  1.89e-06\n",
      "   6 |      8.29e-08    |         3.37e-07       |    0.00e+00  |    5.99e-22  |  1.60e-06  |  1.12e-07\n",
      "   7 |      4.93e-09    |         2.00e-08       |    0.00e+00  |    5.55e-17  |  9.54e-08  |  6.68e-09\n",
      "\n",
      " stopping criterion = [\"cond_rb <= eps\", \"cond_rc <= eps\", \"mu_k <= eps_mu\"]\n",
      "\n",
      "-----------------------------------------------------------------------\n",
      "------------------------------- RESULTS -------------------------------\n"
     ]
    },
    {
     "data": {
      "text/plain": [
       "OrderedDict{String,Any} with 8 entries:\n",
       "  \"x_opt\"      => [4.93014e-9, 0.5, 0.5]\n",
       "  \"lambda_opt\" => [-1.51028e-8]\n",
       "  \"s_opt\"      => [1.0, 1.51028e-8, 1.51028e-8]\n",
       "  \"stilde_opt\" => [0.0, 0.0, 0.0]\n",
       "  \"n_iter\"     => 7\n",
       "  \"pdd\"        => 2.0033e-8\n",
       "  \"cond_rb\"    => 0.0\n",
       "  \"cond_rc\"    => 5.55112e-17"
      ]
     },
     "execution_count": 33,
     "metadata": {},
     "output_type": "execute_result"
    }
   ],
   "source": [
    "### pb verif 2\n",
    "c2 = [1; 0; 0]\n",
    "A2 = Matrix([1, 1, 1]')\n",
    "b2 = [1];\n",
    "QM_verif2 = QuadraticModel(c2, zeros(3,3), A=A2, lcon=b2, ucon=b2, lvar=[0.;0;0], \n",
    "                uvar=[Inf; Inf; Inf], x0=x01, c0=c0, name=\"QMverfi2\")\n",
    "SM_verif2 = SlackModel(QM_verif2)\n",
    "res_mpc_verif2 =  MehrotraPCQuadBounds(SM_verif2, 20);\n",
    "display_results(res_mpc_verif2)"
   ]
  },
  {
   "cell_type": "markdown",
   "metadata": {},
   "source": [
    "# Lecture des donnees .SIF"
   ]
  },
  {
   "cell_type": "code",
   "execution_count": 34,
   "metadata": {},
   "outputs": [
    {
     "data": {
      "text/plain": [
       "displayQuadraticModel (generic function with 1 method)"
      ]
     },
     "execution_count": 34,
     "metadata": {},
     "output_type": "execute_result"
    }
   ],
   "source": [
    "\n",
    "function createQuadraticModel(qpdata, name_pb)\n",
    "    # probleme du point initial\n",
    "    x0 = init_x0(qpdata.lvar, qpdata.uvar)\n",
    "    return QuadraticModel(qpdata.c, qpdata.qrows, qpdata.qcols, qpdata.qvals,\n",
    "            Arows=qpdata.arows, Acols=qpdata.acols, Avals=qpdata.avals, \n",
    "            lcon=qpdata.lcon, ucon=qpdata.ucon, lvar=qpdata.lvar, uvar=qpdata.uvar,\n",
    "            c0=qpdata.c0, x0=x0, name=name_pb)\n",
    "end\n",
    "\n",
    "function displayQuadraticModel(QM)\n",
    "    #println(\"A = \", Matrix(jac(QM, QM.meta.x0)))\n",
    "    #println(\"Q = \", Matrix(hess(QM, QM.meta.x0)))\n",
    "    println(\"lvar = \", QM.meta.lvar)\n",
    "    println(\"uvar = \", QM.meta.uvar)\n",
    "    println(\"x0 = \", QM.meta.x0)\n",
    "    #println(\"lcon = \", QM.meta.lcon)\n",
    "    #println(\"ucon = \", QM.meta.ucon)\n",
    "end"
   ]
  },
  {
   "cell_type": "code",
   "execution_count": 35,
   "metadata": {},
   "outputs": [
    {
     "data": {
      "text/plain": [
       "\"C:\\\\Users\\\\Geoffroy Leconte\\\\Documents\\\\cours\\\\TFE\\\\code\\\\problemes\\\\AFIRO.SIF\""
      ]
     },
     "execution_count": 35,
     "metadata": {},
     "output_type": "execute_result"
    }
   ],
   "source": [
    "path = \"C:\\\\Users\\\\Geoffroy Leconte\\\\Documents\\\\cours\\\\TFE\\\\code\\\\problemes\"\n",
    "afiro = string(path, \"\\\\AFIRO.SIF\")"
   ]
  },
  {
   "cell_type": "code",
   "execution_count": 36,
   "metadata": {},
   "outputs": [
    {
     "name": "stderr",
     "output_type": "stream",
     "text": [
      "┌ Info: Using 'AFIRO' as NAME (l. 5)\n",
      "└ @ QPSReader C:\\Users\\Geoffroy Leconte\\.julia\\packages\\QPSReader\\usDQr\\src\\readqps.jl:751\n",
      "┌ Info: Using 'COST' as objective (l. 47)\n",
      "└ @ QPSReader C:\\Users\\Geoffroy Leconte\\.julia\\packages\\QPSReader\\usDQr\\src\\readqps.jl:350\n",
      "┌ Info: Using 'B' as RHS (l. 96)\n",
      "└ @ QPSReader C:\\Users\\Geoffroy Leconte\\.julia\\packages\\QPSReader\\usDQr\\src\\readqps.jl:470\n"
     ]
    }
   ],
   "source": [
    "qpdata2 = readqps(afiro)\n",
    "qpdata2.contypes\n",
    "QM2 = createQuadraticModel(qpdata2, \"QM2\")\n",
    "SM2 = SlackModel(QM2);\n",
    "#displayQuadraticModel(SM2)"
   ]
  },
  {
   "cell_type": "code",
   "execution_count": 37,
   "metadata": {},
   "outputs": [
    {
     "name": "stdout",
     "output_type": "stream",
     "text": [
      "Iter | primal_objective | primal-dual difference | rb condition | rc condition |   step x   |     mu\n",
      "--------------------------------------------------------------------------------------------------------\n",
      "   0 |      8.20e+00    |         1.13e+01       |    1.85e+01  |    7.29e-01  |  0.00e+00  |  1.00e+00\n",
      "   1 |      6.91e+00    |         9.30e+00       |    1.84e+01  |    1.20e+00  |  3.51e+00  |  1.95e+00\n",
      "   2 |      6.97e+00    |         9.71e+00       |    1.84e+01  |    1.39e+00  |  4.20e-01  |  2.18e+00\n",
      "   3 |      6.96e+00    |         9.74e+00       |    1.84e+01  |    1.39e+00  |  1.31e-01  |  2.18e+00\n",
      "   4 |      6.94e+00    |         9.77e+00       |    1.84e+01  |    1.39e+00  |  1.32e-01  |  2.18e+00\n",
      "   5 |      6.91e+00    |         9.80e+00       |    1.84e+01  |    1.39e+00  |  1.33e-01  |  2.17e+00\n",
      "   6 |      6.89e+00    |         9.82e+00       |    1.84e+01  |    1.39e+00  |  1.33e-01  |  2.17e+00\n",
      "   7 |      6.87e+00    |         9.85e+00       |    1.84e+01  |    1.39e+00  |  1.34e-01  |  2.16e+00\n",
      "   8 |      6.85e+00    |         9.88e+00       |    1.84e+01  |    1.39e+00  |  1.34e-01  |  2.15e+00\n",
      "   9 |      6.83e+00    |         9.91e+00       |    1.84e+01  |    1.39e+00  |  1.34e-01  |  2.15e+00\n",
      "  10 |      6.81e+00    |         9.94e+00       |    1.84e+01  |    1.39e+00  |  1.34e-01  |  2.14e+00\n",
      "  11 |      6.79e+00    |         9.97e+00       |    1.84e+01  |    1.39e+00  |  1.14e-01  |  2.14e+00\n",
      "  12 |      6.79e+00    |         9.97e+00       |    1.84e+01  |    1.39e+00  |  6.72e-03  |  2.14e+00\n",
      "  13 |      6.79e+00    |         9.97e+00       |    1.84e+01  |    1.39e+00  |  4.00e-04  |  2.14e+00\n",
      "  14 |      6.79e+00    |         9.97e+00       |    1.84e+01  |    1.39e+00  |  2.38e-05  |  2.14e+00\n",
      "  15 |      6.79e+00    |         9.97e+00       |    1.84e+01  |    1.39e+00  |  1.41e-06  |  2.14e+00\n",
      "  16 |      6.79e+00    |         9.97e+00       |    1.84e+01  |    1.39e+00  |  8.42e-08  |  2.14e+00\n",
      "  17 |      6.79e+00    |         9.97e+00       |    1.84e+01  |    1.39e+00  |  5.01e-09  |  2.14e+00\n",
      "  18 |      6.79e+00    |         9.97e+00       |    1.84e+01  |    1.39e+00  |  2.98e-10  |  2.14e+00\n",
      "  19 |      6.79e+00    |         9.97e+00       |    1.84e+01  |    1.39e+00  |  1.78e-11  |  2.14e+00\n",
      "\n",
      " stopping criterion = [\"step_x <= small_step_x\"]\n",
      "\n",
      "-----------------------------------------------------------------------\n",
      "------------------------------- RESULTS -------------------------------\n"
     ]
    },
    {
     "data": {
      "text/plain": [
       "OrderedDict{String,Any} with 8 entries:\n",
       "  \"x_opt\"      => [1.10484, 1.17541, 0.925871, 1.11135, 1.49529, 1.40662, 0.135…\n",
       "  \"lambda_opt\" => [-1.57658, 0.545957, -1.26673, -0.334917, -2.43694, 1.25016, …\n",
       "  \"s_opt\"      => [1.14553, 0.934263, 1.86132, 1.12072, 0.325871, 0.335802, 5.7…\n",
       "  \"stilde_opt\" => [0.0, 0.0, 0.0, 0.0, 0.0, 0.0, 0.0, 0.0, 0.0, 0.0  …  0.93731…\n",
       "  \"n_iter\"     => 19\n",
       "  \"pdd\"        => 9.96699\n",
       "  \"cond_rb\"    => 18.4424\n",
       "  \"cond_rc\"    => 1.38899"
      ]
     },
     "execution_count": 37,
     "metadata": {},
     "output_type": "execute_result"
    }
   ],
   "source": [
    "res_mpc2 =  MehrotraPCQuadBounds(SM2, 20, tol_step_x = 1e-10);\n",
    "display_results(res_mpc2)"
   ]
  },
  {
   "cell_type": "code",
   "execution_count": 38,
   "metadata": {},
   "outputs": [
    {
     "name": "stderr",
     "output_type": "stream",
     "text": [
      "┌ Info: Using 'KB2' as NAME (l. 5)\n",
      "└ @ QPSReader C:\\Users\\Geoffroy Leconte\\.julia\\packages\\QPSReader\\usDQr\\src\\readqps.jl:751\n",
      "┌ Info: Using 'FAT7..J.' as objective (l. 20)\n",
      "└ @ QPSReader C:\\Users\\Geoffroy Leconte\\.julia\\packages\\QPSReader\\usDQr\\src\\readqps.jl:350\n",
      "┌ Info: Using '77BOUND' as BOUNDS (l. 227)\n",
      "└ @ QPSReader C:\\Users\\Geoffroy Leconte\\.julia\\packages\\QPSReader\\usDQr\\src\\readqps.jl:622\n"
     ]
    }
   ],
   "source": [
    "# problem 3   kb2    obj  -1.7499001299E+03\n",
    "kb2 = string(path, \"\\\\KB2.SIF\")\n",
    "qpdata3 = readqps(kb2)\n",
    "QM3 = createQuadraticModel(qpdata3, \"QM3\")\n",
    "SM3 = SlackModel(QM3);"
   ]
  },
  {
   "cell_type": "code",
   "execution_count": 39,
   "metadata": {},
   "outputs": [
    {
     "name": "stdout",
     "output_type": "stream",
     "text": [
      "Iter | primal_objective | primal-dual difference | rb condition | rc condition |   step x   |     mu\n",
      "--------------------------------------------------------------------------------------------------------\n",
      "   0 |     -1.01e+03    |         9.99e-01       |    3.11e+03  |    4.18e-01  |  0.00e+00  |  6.18e+00\n",
      "   1 |     -1.01e+03    |         9.99e-01       |    3.11e+03  |    4.17e-01  |  1.37e+01  |  6.42e+00\n",
      "   2 |     -1.01e+03    |         9.99e-01       |    3.11e+03  |    4.41e-01  |  3.47e-01  |  6.45e+00\n",
      "   3 |     -1.01e+03    |         9.99e-01       |    3.11e+03  |    4.97e-01  |  2.00e-02  |  6.48e+00\n",
      "   4 |     -1.01e+03    |         9.99e-01       |    3.11e+03  |    5.12e-01  |  2.19e-03  |  6.49e+00\n",
      "   5 |     -1.01e+03    |         9.99e-01       |    3.11e+03  |    5.13e-01  |  1.72e-04  |  6.49e+00\n",
      "   6 |     -1.01e+03    |         9.99e-01       |    3.11e+03  |    5.13e-01  |  1.05e-05  |  6.49e+00\n",
      "   7 |     -1.01e+03    |         9.99e-01       |    3.11e+03  |    5.13e-01  |  6.24e-07  |  6.49e+00\n",
      "   8 |     -1.01e+03    |         9.99e-01       |    3.11e+03  |    5.13e-01  |  3.71e-08  |  6.49e+00\n",
      "   9 |     -1.01e+03    |         9.99e-01       |    3.11e+03  |    5.13e-01  |  2.21e-09  |  6.49e+00\n",
      "  10 |     -1.01e+03    |         9.99e-01       |    3.11e+03  |    5.13e-01  |  1.31e-10  |  6.49e+00\n",
      "  11 |     -1.01e+03    |         9.99e-01       |    3.11e+03  |    5.13e-01  |  7.82e-12  |  6.49e+00\n",
      "  12 |     -1.01e+03    |         9.99e-01       |    3.11e+03  |    5.13e-01  |  4.65e-13  |  6.49e+00\n",
      "\n",
      " stopping criterion = [\"step_x <= small_step_x\"]\n",
      "\n",
      "-----------------------------------------------------------------------\n",
      "------------------------------- RESULTS -------------------------------\n"
     ]
    },
    {
     "data": {
      "text/plain": [
       "OrderedDict{String,Any} with 8 entries:\n",
       "  \"x_opt\"      => [0.992826, 4.98986, 1.00405, 1.00575, 1.00379, 0.997181, 1.00…\n",
       "  \"lambda_opt\" => [1.43718, 0.951314, 3.03567, -3.02319, 11.8686, 3.78856, 9.58…\n",
       "  \"s_opt\"      => [1.22213, 1.04084, 1.08162, 0.862707, 1.14729, 1.13536, 0.784…\n",
       "  \"stilde_opt\" => [0.0, 0.994065, 0.0, 0.0, 0.0, 0.0, 0.0, 0.0, 0.0, 0.0  …  1.…\n",
       "  \"n_iter\"     => 12\n",
       "  \"pdd\"        => 0.999012\n",
       "  \"cond_rb\"    => 3112.11\n",
       "  \"cond_rc\"    => 0.512584"
      ]
     },
     "execution_count": 39,
     "metadata": {},
     "output_type": "execute_result"
    }
   ],
   "source": [
    "res_mpc3 =  MehrotraPCQuadBounds(SM3, 20, tol_step_x = 1e-12);\n",
    "display_results(res_mpc3)"
   ]
  },
  {
   "cell_type": "code",
   "execution_count": 40,
   "metadata": {},
   "outputs": [
    {
     "name": "stderr",
     "output_type": "stream",
     "text": [
      "┌ Info: Using 'SC50A' as NAME (l. 5)\n",
      "└ @ QPSReader C:\\Users\\Geoffroy Leconte\\.julia\\packages\\QPSReader\\usDQr\\src\\readqps.jl:751\n",
      "┌ Info: Using 'MAXIM' as objective (l. 20)\n",
      "└ @ QPSReader C:\\Users\\Geoffroy Leconte\\.julia\\packages\\QPSReader\\usDQr\\src\\readqps.jl:350\n",
      "┌ Info: Using 'CONST' as RHS (l. 153)\n",
      "└ @ QPSReader C:\\Users\\Geoffroy Leconte\\.julia\\packages\\QPSReader\\usDQr\\src\\readqps.jl:470\n"
     ]
    }
   ],
   "source": [
    "# problem 4 SC50A  obj  -6.4575077059E+01\n",
    "SC50A = string(path, \"\\\\SC50A.SIF\")\n",
    "qpdata4 = readqps(SC50A)\n",
    "QM4 = createQuadraticModel(qpdata4, \"QM4\")\n",
    "SM4 = SlackModel(QM4);"
   ]
  },
  {
   "cell_type": "code",
   "execution_count": 41,
   "metadata": {},
   "outputs": [
    {
     "name": "stdout",
     "output_type": "stream",
     "text": [
      "Iter | primal_objective | primal-dual difference | rb condition | rc condition |   step x   |     mu\n",
      "--------------------------------------------------------------------------------------------------------\n",
      "   0 |     -1.01e+03    |         9.99e-01       |    3.11e+03  |    4.18e-01  |  0.00e+00  |  6.18e+00\n",
      "   1 |     -1.01e+03    |         9.99e-01       |    3.11e+03  |    4.17e-01  |  1.37e+01  |  6.42e+00\n",
      "   2 |     -1.01e+03    |         9.99e-01       |    3.11e+03  |    4.41e-01  |  3.47e-01  |  6.45e+00\n",
      "   3 |     -1.01e+03    |         9.99e-01       |    3.11e+03  |    4.97e-01  |  2.00e-02  |  6.48e+00\n",
      "   4 |     -1.01e+03    |         9.99e-01       |    3.11e+03  |    5.12e-01  |  2.19e-03  |  6.49e+00\n",
      "   5 |     -1.01e+03    |         9.99e-01       |    3.11e+03  |    5.13e-01  |  1.72e-04  |  6.49e+00\n",
      "   6 |     -1.01e+03    |         9.99e-01       |    3.11e+03  |    5.13e-01  |  1.05e-05  |  6.49e+00\n",
      "   7 |     -1.01e+03    |         9.99e-01       |    3.11e+03  |    5.13e-01  |  6.24e-07  |  6.49e+00\n",
      "   8 |     -1.01e+03    |         9.99e-01       |    3.11e+03  |    5.13e-01  |  3.71e-08  |  6.49e+00\n",
      "   9 |     -1.01e+03    |         9.99e-01       |    3.11e+03  |    5.13e-01  |  2.21e-09  |  6.49e+00\n",
      "  10 |     -1.01e+03    |         9.99e-01       |    3.11e+03  |    5.13e-01  |  1.31e-10  |  6.49e+00\n",
      "  11 |     -1.01e+03    |         9.99e-01       |    3.11e+03  |    5.13e-01  |  7.82e-12  |  6.49e+00\n",
      "  12 |     -1.01e+03    |         9.99e-01       |    3.11e+03  |    5.13e-01  |  4.65e-13  |  6.49e+00\n",
      "\n",
      " stopping criterion = [\"step_x <= small_step_x\"]\n",
      "\n",
      "-----------------------------------------------------------------------\n",
      "------------------------------- RESULTS -------------------------------\n"
     ]
    },
    {
     "data": {
      "text/plain": [
       "OrderedDict{String,Any} with 8 entries:\n",
       "  \"x_opt\"      => [0.992826, 4.98986, 1.00405, 1.00575, 1.00379, 0.997181, 1.00…\n",
       "  \"lambda_opt\" => [1.43718, 0.951314, 3.03567, -3.02319, 11.8686, 3.78856, 9.58…\n",
       "  \"s_opt\"      => [1.22213, 1.04084, 1.08162, 0.862707, 1.14729, 1.13536, 0.784…\n",
       "  \"stilde_opt\" => [0.0, 0.994065, 0.0, 0.0, 0.0, 0.0, 0.0, 0.0, 0.0, 0.0  …  1.…\n",
       "  \"n_iter\"     => 12\n",
       "  \"pdd\"        => 0.999012\n",
       "  \"cond_rb\"    => 3112.11\n",
       "  \"cond_rc\"    => 0.512584"
      ]
     },
     "execution_count": 41,
     "metadata": {},
     "output_type": "execute_result"
    }
   ],
   "source": [
    "res_mpc4 =  MehrotraPCQuadBounds(SM3, 20, tol_step_x = 1e-12);\n",
    "display_results(res_mpc4)"
   ]
  },
  {
   "cell_type": "code",
   "execution_count": null,
   "metadata": {},
   "outputs": [],
   "source": []
  },
  {
   "cell_type": "code",
   "execution_count": null,
   "metadata": {},
   "outputs": [],
   "source": []
  },
  {
   "cell_type": "code",
   "execution_count": null,
   "metadata": {},
   "outputs": [],
   "source": []
  }
 ],
 "metadata": {
  "kernelspec": {
   "display_name": "Julia 1.4.0",
   "language": "julia",
   "name": "julia-1.4"
  },
  "language_info": {
   "file_extension": ".jl",
   "mimetype": "application/julia",
   "name": "julia",
   "version": "1.4.0"
  }
 },
 "nbformat": 4,
 "nbformat_minor": 4
}
