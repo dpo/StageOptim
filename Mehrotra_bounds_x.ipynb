{
 "cells": [
  {
   "cell_type": "markdown",
   "metadata": {},
   "source": [
    "# Problèmes\n",
    "\n",
    "### 1)\n",
    "Primal: $\\underset{x \\in \\mathbb{R}^3}{\\min} \\frac{1}{2} x' Q x + c' x ~~~~~~~~ s.t. ~ A x = b ~, ~~ x \\ge 0$\n",
    "\n",
    "with  $Q = \\begin{bmatrix} 6 & 2 & 1\\\\ 2 & 5 & 2\\\\ 1 & 2 & 4 \\end{bmatrix} $, $c = \\begin{bmatrix} -8 \\\\ -3 \\\\ -3 \\end{bmatrix}$, $A = \\begin{bmatrix} 1 & 0 &1 \\\\ 0 & 1 & 1 \\end{bmatrix}$ , and $b = \\begin{bmatrix} 3 \\\\ 0 \\end{bmatrix} $.\n",
    "\n",
    "\n",
    "### 2) \n",
    "AFIRO        28 rows    32 cols        88 nonzeros       794 bytes      -4.6475314286E+02 optimalvalue"
   ]
  },
  {
   "cell_type": "code",
   "execution_count": 1,
   "metadata": {},
   "outputs": [],
   "source": [
    "using LinearAlgebra\n",
    "using LaTeXStrings\n",
    "using DataFrames\n",
    "using DataStructures\n",
    "using QuadraticModels\n",
    "using Printf\n",
    "using SparseArrays\n",
    "using BenchmarkTools\n",
    "using NLPModels\n",
    "using LinearOperators\n",
    "using QPSReader"
   ]
  },
  {
   "cell_type": "markdown",
   "metadata": {},
   "source": [
    "# Mehrotra formulation plus générale:\n",
    "\n",
    "min $c_0 + c'x + \\frac{1}{2} x'Hx ~~~~$ s.t. $ Ax = b $ and $l \\le x \\le u$ "
   ]
  },
  {
   "cell_type": "code",
   "execution_count": 90,
   "metadata": {},
   "outputs": [
    {
     "data": {
      "text/plain": [
       "init_x0_lsq (generic function with 1 method)"
      ]
     },
     "execution_count": 90,
     "metadata": {},
     "output_type": "execute_result"
    }
   ],
   "source": [
    "function display_results(result)\n",
    "    # fonction pour l'affichage\n",
    "    println(\"\\n-----------------------------------------------------------------------\")\n",
    "    println(\"------------------------------- RESULTS -------------------------------\")\n",
    "    result\n",
    "end\n",
    "\n",
    "function init_x0(lvar, uvar)\n",
    "    # choice of an init point x0\n",
    "    x0 = zeros(length(lvar))\n",
    "    for i=1:length(x0)\n",
    "        if lvar[i] == -Inf && uvar[i] == Inf\n",
    "            x0[i] = 0.\n",
    "        elseif lvar[i] == -Inf && uvar[i] != Inf\n",
    "            x0[i] = uvar[i] - 1.\n",
    "        elseif lvar[i] != -Inf && uvar[i] == Inf\n",
    "            x0[i] = lvar[i] + 1.\n",
    "        else\n",
    "            x0[i] = (lvar[i] + uvar[i]) / 2 \n",
    "        end\n",
    "    end  \n",
    "    return x0\n",
    "end\n",
    "\n",
    "function init_x0_lsq(A, b, lvar, uvar)\n",
    "    x_tilde = A\\b\n",
    "    n = length(x_tilde)\n",
    "    for i=1:n\n",
    "        if x_tilde[i] <= lvar[i]\n",
    "            x_tilde[i] = lvar[i] + 1\n",
    "        elseif uvar[i] <= x_tilde[i]\n",
    "            x_tilde[i] = uvar[i] - 1\n",
    "        end\n",
    "    end\n",
    "    return x_tilde\n",
    "end\n",
    "    "
   ]
  },
  {
   "cell_type": "code",
   "execution_count": 135,
   "metadata": {},
   "outputs": [
    {
     "data": {
      "text/plain": [
       "Compute_mu (generic function with 1 method)"
      ]
     },
     "execution_count": 135,
     "metadata": {},
     "output_type": "execute_result"
    }
   ],
   "source": [
    "\n",
    "\n",
    "function Compute_Alpha_dual(v_k, dir_v_k)\n",
    "    n = length(v_k)\n",
    "    if n == 0\n",
    "        return 0.\n",
    "    end\n",
    "    alphas = ones(n)\n",
    "    for i=1:n\n",
    "        if dir_v_k[i] < 0\n",
    "            alphas[i] = -v_k[i] * 0.95 / dir_v_k[i]\n",
    "        end\n",
    "    end\n",
    "    return minimum(alphas)\n",
    "end\n",
    "\n",
    "\n",
    "    \n",
    "function Compute_Alpha_primal(v_k, dir_v_k, lvar, uvar)\n",
    "    n = length(v_k)\n",
    "    alpha_l, alpha_u = ones(n), ones(n)\n",
    "    for i=1:n\n",
    "        if dir_v_k[i] > 0\n",
    "            alpha_u[i] = (uvar[i] - v_k[i]) * 0.95 / dir_v_k[i]\n",
    "        elseif dir_v_k[i] < 0\n",
    "            alpha_l[i] = (lvar[i] - v_k[i]) * 0.95 / dir_v_k[i]\n",
    "        end\n",
    "    end\n",
    "    return min(minimum(alpha_l), minimum(alpha_u))\n",
    "end\n",
    "\n",
    "function Compute_mu(x_l, x_u, s_l, s_u, lvar, uvar)\n",
    "    #x_l coordinates of x corresponding to finite lower bounds ( resp. finite upper bounds for x_u)\n",
    "    # arguments must have finite bounds \n",
    "    return (s_l' * (x_l-lvar) + s_u' * (uvar-x_u)) / (length(x_l) + length(x_u))\n",
    "end"
   ]
  },
  {
   "cell_type": "code",
   "execution_count": 203,
   "metadata": {},
   "outputs": [
    {
     "data": {
      "text/plain": [
       "MehrotraPCQuadBounds (generic function with 1 method)"
      ]
     },
     "execution_count": 203,
     "metadata": {},
     "output_type": "execute_result"
    }
   ],
   "source": [
    "\n",
    "function MehrotraPCQuadBounds(QM, max_iter; eps=1e-10, tol_step_x=1e-8, eps_mu=1e-8, display=true)\n",
    "    \n",
    "    # get variables from QuadraticModel\n",
    "    lvar, uvar = QM.meta.lvar, QM.meta.uvar\n",
    "    x_k = init_x0(lvar, uvar)\n",
    "    id_non_inf_l, id_non_inf_u = findall((x -> x!=-Inf), lvar), findall((x -> x!=Inf), uvar) # finite bounds index\n",
    "    @assert all(x_k .> lvar) && all(x_k .< uvar)\n",
    "    A = jac(QM, x_k)\n",
    "    n_rows, n_cols = size(A) \n",
    "    Q = hess(QM, x_k)\n",
    "    c = grad(QM, zeros(n_cols))\n",
    "    c0 = obj(QM, zeros(n_cols))\n",
    "    @assert QM.meta.lcon == QM.meta.ucon # equality constraint (Ax=b)\n",
    "    b = QM.meta.lcon\n",
    "    x_k = init_x0_lsq(A, b, lvar, uvar)\n",
    "    @assert all(x_k .> lvar) && all(x_k .< uvar)\n",
    "    s_k_l, s_k_u = zeros(n_cols), zeros(n_cols)\n",
    "    s_k_l[id_non_inf_l] .= 1.\n",
    "    s_k_u[id_non_inf_u] .= 1.\n",
    "    lambda_k = Matrix(A)'\\(c -s_k_l+s_k_u+Q*x_k) # least square initialisation, s_0 = stilde_0\n",
    "    \n",
    "    rb_k = A * x_k - b\n",
    "    rc_k = -Q * x_k + A' * lambda_k + s_k_l - s_k_u - c\n",
    "    mu_k = Compute_mu(x_k[id_non_inf_l], x_k[id_non_inf_u], \n",
    "                        s_k_l[id_non_inf_l], s_k_u[id_non_inf_u], \n",
    "                        lvar[id_non_inf_l], uvar[id_non_inf_u])\n",
    "\n",
    "    k = 0\n",
    "    e = ones(n_cols)\n",
    "    n_c = norm(c)\n",
    "    n_b = norm(b)\n",
    "    \n",
    "    # matrices without infinity constraints\n",
    "    nb_non_inf_l, nb_non_inf_u = length(id_non_inf_l), length(id_non_inf_u) # number of finite constraints\n",
    "    \n",
    "    Xk_non_inf_l = Diagonal(x_k[id_non_inf_l])\n",
    "    Sk_non_inf_l = spzeros(nb_non_inf_l, n_cols)\n",
    "    I_non_inf_l = spzeros(n_cols, nb_non_inf_l)\n",
    "    for j=1:nb_non_inf_l   # cartesian index not working when nb_non_inf_l = 0\n",
    "        Sk_non_inf_l[j, id_non_inf_l[j]] = s_k_l[id_non_inf_l[j]]\n",
    "        I_non_inf_l[id_non_inf_l[j], j] = 1\n",
    "    end\n",
    "    \n",
    "    Xk_non_inf_u = Diagonal(x_k[id_non_inf_u])\n",
    "    Sk_non_inf_u = spzeros(nb_non_inf_u, n_cols)\n",
    "    I_op_non_inf_u = spzeros(n_cols, nb_non_inf_u)\n",
    "    for j=1:nb_non_inf_u \n",
    "        Sk_non_inf_u[j, id_non_inf_u[j]] = s_k_u[id_non_inf_u[j]]\n",
    "        I_op_non_inf_u[id_non_inf_u[j], j] = -1\n",
    "    end\n",
    "    Lvar_non_inf = Diagonal(lvar[id_non_inf_l]) \n",
    "    Uvar_non_inf = Diagonal(uvar[id_non_inf_u]) \n",
    "\n",
    "    # stopping criterion\n",
    "    quad_part = x_k' * Q * x_k \n",
    "    pdd = abs(quad_part + c' * x_k - b' * lambda_k ) / (1 + abs(c' * x_k + quad_part/2))\n",
    "    cond_rb, cond_rc = norm(rb_k) / (1 + n_b), norm(rc_k) / (1 + n_c)\n",
    "    opti_pdd, opti_rb, opti_rc = pdd < eps, cond_rb < eps, cond_rc < eps # start false?\n",
    "    small_step_x, small_mu = false, mu_k < eps_mu\n",
    "\n",
    "    # display\n",
    "    if display == true\n",
    "        println(\"Iter | primal_objective | primal-dual difference | rb condition | rc condition |   step x   |     mu\")\n",
    "        println(\"--------------------------------------------------------------------------------------------------------\")\n",
    "        @printf(\"% 4d |    % 7.4e   |        % 7.2e       |   % 7.2e  |   % 7.2e  | % 7.2e  | % 7.2e\\n\", \n",
    "                k, c0+c'*x_k +quad_part/2, pdd, cond_rb, cond_rc,0., mu_k)\n",
    "    end\n",
    "    \n",
    "\n",
    "    while k<max_iter && (!opti_pdd || !opti_rb || !opti_rc) && !small_step_x && !small_mu\n",
    "        # Affine scaling direction\n",
    "        Jacob_Fk = [-Q            A'                             I_non_inf_l                         I_op_non_inf_u\n",
    "                    A             spzeros(n_rows, n_rows)        spzeros(n_rows, nb_non_inf_l)       spzeros(n_rows, nb_non_inf_u)\n",
    "                    Sk_non_inf_l  spzeros(nb_non_inf_l, n_rows)  Xk_non_inf_l-Lvar_non_inf           spzeros(nb_non_inf_l, nb_non_inf_u)\n",
    "                    Sk_non_inf_u  spzeros(nb_non_inf_u, n_rows)  spzeros(nb_non_inf_u,nb_non_inf_l)  Xk_non_inf_u-Uvar_non_inf]\n",
    "        Fk_aff = [-rc_k\n",
    "                  -rb_k\n",
    "                  -(x_k[id_non_inf_l]-lvar[id_non_inf_l]).*s_k_l[id_non_inf_l]\n",
    "                  -(x_k[id_non_inf_u]-uvar[id_non_inf_u]).*s_k_u[id_non_inf_u]]\n",
    "\n",
    "        dir_aff_k = Jacob_Fk\\Fk_aff\n",
    "        \n",
    "        alpha_aff_pri = Compute_Alpha_primal(x_k, dir_aff_k[1:n_cols], lvar, uvar)\n",
    "        alpha_aff_dual_l = Compute_Alpha_dual(s_k_l[id_non_inf_l], \n",
    "                                            dir_aff_k[n_rows+n_cols+1: n_rows+n_cols+nb_non_inf_l])\n",
    "        alpha_aff_dual_u = Compute_Alpha_dual(s_k_u[id_non_inf_u], \n",
    "                                                dir_aff_k[n_rows+n_cols+nb_non_inf_l+1:end])\n",
    "        # pb above compute alpha dual\n",
    "\n",
    "        # alpha_aff_dual_final is the min of the 2 alpha_aff_dual\n",
    "        if nb_non_inf_l == 0\n",
    "            alpha_aff_dual_final = alpha_aff_dual_u\n",
    "        elseif nb_non_inf_u == 0\n",
    "            alpha_aff_dual_final = alpha_aff_dual_l\n",
    "        else\n",
    "            alpha_aff_dual_final = min(alpha_aff_dual_l, alpha_aff_dual_u)\n",
    "        end\n",
    "        \n",
    "        mu_aff = Compute_mu(x_k[id_non_inf_l] + alpha_aff_pri * dir_aff_k[1:n_cols][id_non_inf_l],\n",
    "                    x_k[id_non_inf_u] + alpha_aff_pri * dir_aff_k[1:n_cols][id_non_inf_u],\n",
    "                    s_k_l[id_non_inf_l] + alpha_aff_dual_final * dir_aff_k[n_rows+n_cols+1: n_rows+n_cols+nb_non_inf_l],\n",
    "                    s_k_u[id_non_inf_u] + alpha_aff_dual_final * dir_aff_k[n_rows+n_cols+nb_non_inf_l+1: end],\n",
    "                    lvar[id_non_inf_l], uvar[id_non_inf_u])\n",
    "        \n",
    "        sigma = (mu_aff / mu_k)^3\n",
    "\n",
    "        # corrector and centering step\n",
    "        Fk_cc = [zeros(n_rows+n_cols, 1)\n",
    "                 sigma*mu_k*e[1:nb_non_inf_l] - dir_aff_k[1:n_cols][id_non_inf_l].*dir_aff_k[n_rows+n_cols+1: n_rows+n_cols+nb_non_inf_l]\n",
    "                 -sigma*mu_k*e[1:nb_non_inf_u] - dir_aff_k[1:n_cols][id_non_inf_u].*dir_aff_k[n_rows+n_cols+nb_non_inf_l+1: end]] \n",
    "        \n",
    "        dir_cc_k = Jacob_Fk\\Fk_cc\n",
    "        dir_k = dir_aff_k .+ dir_cc_k # final direction\n",
    "        \n",
    "        alpha_max_pri = Compute_Alpha_primal(x_k, dir_k[1:n_cols], lvar, uvar)\n",
    "        alpha_l_max_dual = Compute_Alpha_dual(s_k_l[id_non_inf_l], \n",
    "                                        dir_k[n_rows+n_cols+1: n_rows+n_cols+nb_non_inf_l])\n",
    "        \n",
    "        alpha_u_max_dual = Compute_Alpha_dual(s_k_u[id_non_inf_u], \n",
    "                                            dir_k[n_rows+n_cols+nb_non_inf_l+1: end])\n",
    "        \n",
    "    \n",
    "        # new parameters\n",
    "        alpha_k_pri = min(0.99*alpha_max_pri, 1)\n",
    "        alpha_k_dual_l = min(0.99*alpha_l_max_dual, 1)\n",
    "        alpha_k_dual_u = min(0.99*alpha_u_max_dual, 1)\n",
    "        if nb_non_inf_l == 0\n",
    "            alpha_dual_final = alpha_k_dual_u\n",
    "        elseif nb_non_inf_u == 0\n",
    "            alpha_dual_final = alpha_k_dual_l\n",
    "        else\n",
    "            alpha_dual_final = min(alpha_k_dual_l, alpha_k_dual_u)\n",
    "        end\n",
    "        \n",
    "        x_k += alpha_k_pri * dir_k[1:n_cols]\n",
    "        lambda_k += alpha_dual_final * dir_k[n_cols+1: n_rows+n_cols]\n",
    "        s_k_l[id_non_inf_l] += alpha_dual_final * dir_k[n_rows+n_cols+1: n_rows+n_cols+nb_non_inf_l]\n",
    "        s_k_u[id_non_inf_u] += alpha_dual_final * dir_k[n_rows+n_cols+nb_non_inf_l+1: end]\n",
    "        \n",
    "        Xk_non_inf_l = Diagonal(x_k[id_non_inf_l])\n",
    "        for j=1:nb_non_inf_l\n",
    "            Sk_non_inf_l[j, id_non_inf_l[j]] = s_k_l[id_non_inf_l[j]]\n",
    "        end\n",
    "        Xk_non_inf_u = Diagonal(x_k[id_non_inf_u])\n",
    "        \n",
    "        for j=1:nb_non_inf_u\n",
    "            Sk_non_inf_u[j, id_non_inf_u[j]] = s_k_u[id_non_inf_u[j]]\n",
    "        end\n",
    "        \n",
    "        step_x = norm(alpha_k_pri * dir_k[1:n_cols])\n",
    "        mu_k = Compute_mu(x_k[id_non_inf_l], x_k[id_non_inf_u], \n",
    "                        s_k_l[id_non_inf_l], s_k_u[id_non_inf_u], \n",
    "                        lvar[id_non_inf_l], uvar[id_non_inf_u])\n",
    "\n",
    "        rb_k = A * x_k - b\n",
    "        rc_k = -Q * x_k + A' * lambda_k + s_k_l - s_k_u - c\n",
    "        \n",
    "        # update stopping criterion values:\n",
    "        quad_part = x_k' * Q * x_k \n",
    "        pdd = abs(quad_part + c' * x_k - b' * lambda_k ) / (1 + abs(c' * x_k + quad_part/2)) # test correct? ecart primal dual\n",
    "        cond_rb = norm(rb_k) / (1 + n_b)\n",
    "        cond_rc = norm(rc_k) / (1 + n_c)\n",
    "        opti_pdd, opti_rb, opti_rc = pdd < eps, cond_rb < eps, cond_rc < eps\n",
    "        small_step_x, small_mu = step_x < tol_step_x, mu_k < eps_mu\n",
    "        \n",
    "        k += 1\n",
    "        \n",
    "        if display == true\n",
    "            @printf(\"% 4d |    % 7.4e   |        % 7.2e       |   % 7.2e  |   % 7.2e  | % 7.2e  | % 7.2e\\n\", \n",
    "                k, c0+c'*x_k +quad_part/2, pdd, cond_rb, cond_rc,step_x, mu_k)\n",
    "        end\n",
    "    end\n",
    "    \n",
    "    if display == true\n",
    "        criteria = [k >= max_iter,  opti_pdd, opti_rb, opti_rc, small_step_x, small_mu]\n",
    "        criteria_names = [\"reached max_iter\",  \"pdd <= eps\", \"cond_rb <= eps\", \"cond_rc <= eps\", \n",
    "            \"step_x <= small_step_x\", \"mu_k <= eps_mu\"]\n",
    "        println(\"\\n stopping criterion = \",criteria_names[findall(criteria)])\n",
    "    end\n",
    "    \n",
    "    return OrderedDict(\"x_opt\" => x_k, \"lambda_opt\" => lambda_k, \"s_l_opt\" => s_k_l, \"s_u_opt\" => s_k_u, \n",
    "        \"n_iter\" => k, \"pdd\" => pdd, \"cond_rb\" => cond_rb, \"cond_rc\" => cond_rc)\n",
    "end"
   ]
  },
  {
   "cell_type": "markdown",
   "metadata": {},
   "source": [
    "### bibliothèque QuadraticModels\n",
    "\n",
    "optimize $c_0 + c'x + \\frac{1}{2} x'Hx ~~~~$ s.t. $~~L \\le Ax \\le U$ and $l \\le x \\le u$ \n",
    "\n",
    "Ici L = lcon, U = ucon, l = lvar, u = uvar"
   ]
  },
  {
   "cell_type": "code",
   "execution_count": 204,
   "metadata": {},
   "outputs": [],
   "source": [
    "# probleme1\n",
    "Q = [6 2 1\n",
    "    2 5 2\n",
    "    1 2 4]\n",
    "c = [-8; -3; -3]\n",
    "c0 = 0.\n",
    "A = [1 0 1\n",
    "    0 1 1]\n",
    "b = [0; 3]\n",
    "lvar = [0;0;0]\n",
    "uvar = [Inf; Inf; Inf]\n",
    "lcon = b\n",
    "ucon = b\n",
    "\n",
    "x01 = [1.; 2.; 3.];\n"
   ]
  },
  {
   "cell_type": "code",
   "execution_count": 205,
   "metadata": {},
   "outputs": [
    {
     "data": {
      "text/plain": [
       "QuadraticModel"
      ]
     },
     "execution_count": 205,
     "metadata": {},
     "output_type": "execute_result"
    }
   ],
   "source": [
    "QM = QuadraticModel(c, Q, A=A, lcon=lcon, ucon=ucon, lvar=lvar, uvar=uvar, x0=x01, c0=c0, name=\"QM1\")\n",
    "SM = SlackModel(QM)\n",
    "typeof(SM)"
   ]
  },
  {
   "cell_type": "code",
   "execution_count": 206,
   "metadata": {},
   "outputs": [
    {
     "name": "stdout",
     "output_type": "stream",
     "text": [
      "Iter | primal_objective | primal-dual difference | rb condition | rc condition |   step x   |     mu\n",
      "--------------------------------------------------------------------------------------------------------\n",
      "   0 |     1.4000e+01   |         8.00e-01       |    5.59e-01  |    1.72e-01  |  0.00e+00  |  1.67e+00\n",
      "   1 |     1.2675e+01   |         1.69e-02       |    6.06e-02  |    4.36e-02  |  1.26e+00  |  1.28e-01\n",
      "   2 |     1.3366e+01   |         3.37e-03       |    7.43e-03  |    6.49e-03  |  1.51e-01  |  1.15e-02\n",
      "   3 |     1.3492e+01   |         2.16e-04       |    4.44e-04  |    3.88e-04  |  2.38e-02  |  6.94e-04\n",
      "   4 |     1.3500e+01   |         1.30e-05       |    2.64e-05  |    2.31e-05  |  1.41e-03  |  4.13e-05\n",
      "   5 |     1.3500e+01   |         7.78e-07       |    1.57e-06  |    1.38e-06  |  8.41e-05  |  2.46e-06\n",
      "   6 |     1.3500e+01   |         4.66e-08       |    9.37e-08  |    8.19e-08  |  5.00e-06  |  1.46e-07\n",
      "   7 |     1.3500e+01   |         2.79e-09       |    5.58e-09  |    4.88e-09  |  2.98e-07  |  8.72e-09\n",
      "\n",
      " stopping criterion = [\"mu_k <= eps_mu\"]\n",
      "\n",
      "-----------------------------------------------------------------------\n",
      "------------------------------- RESULTS -------------------------------\n"
     ]
    },
    {
     "data": {
      "text/plain": [
       "OrderedDict{String,Any} with 8 entries:\n",
       "  \"x_opt\"      => [2.77949e-9, 3.0, 1.71769e-8]\n",
       "  \"lambda_opt\" => [-9.77473, 12.0]\n",
       "  \"s_l_opt\"    => [1.77473, 2.64009e-9, 0.774726]\n",
       "  \"s_u_opt\"    => [0.0, 0.0, 0.0]\n",
       "  \"n_iter\"     => 7\n",
       "  \"pdd\"        => 2.79216e-9\n",
       "  \"cond_rb\"    => 5.57798e-9\n",
       "  \"cond_rc\"    => 4.87524e-9"
      ]
     },
     "execution_count": 206,
     "metadata": {},
     "output_type": "execute_result"
    }
   ],
   "source": [
    "res_mpc1 =  MehrotraPCQuadBounds(SM, 20);\n",
    "display_results(res_mpc1)"
   ]
  },
  {
   "cell_type": "code",
   "execution_count": 207,
   "metadata": {},
   "outputs": [
    {
     "name": "stdout",
     "output_type": "stream",
     "text": [
      "Iter | primal_objective | primal-dual difference | rb condition | rc condition |   step x   |     mu\n",
      "--------------------------------------------------------------------------------------------------------\n",
      "   0 |     1.4000e+01   |         8.00e-01       |    5.59e-01  |    1.72e-01  |  0.00e+00  |  1.67e+00\n",
      "   1 |     1.2675e+01   |         1.69e-02       |    6.06e-02  |    4.36e-02  |  1.26e+00  |  1.28e-01\n",
      "   2 |     1.3366e+01   |         3.37e-03       |    7.43e-03  |    6.49e-03  |  1.51e-01  |  1.15e-02\n",
      "   3 |     1.3492e+01   |         2.16e-04       |    4.44e-04  |    3.88e-04  |  2.38e-02  |  6.94e-04\n",
      "   4 |     1.3500e+01   |         1.30e-05       |    2.64e-05  |    2.31e-05  |  1.41e-03  |  4.13e-05\n",
      "   5 |     1.3500e+01   |         7.78e-07       |    1.57e-06  |    1.38e-06  |  8.41e-05  |  2.46e-06\n",
      "   6 |     1.3500e+01   |         4.66e-08       |    9.37e-08  |    8.19e-08  |  5.00e-06  |  1.46e-07\n",
      "   7 |     1.3500e+01   |         2.79e-09       |    5.58e-09  |    4.88e-09  |  2.98e-07  |  8.72e-09\n",
      "\n",
      " stopping criterion = [\"mu_k <= eps_mu\"]\n",
      "\n",
      "-----------------------------------------------------------------------\n",
      "------------------------------- RESULTS -------------------------------\n"
     ]
    },
    {
     "data": {
      "text/plain": [
       "OrderedDict{String,Any} with 8 entries:\n",
       "  \"x_opt\"      => [-2.77949e-9, -3.0, -1.71769e-8]\n",
       "  \"lambda_opt\" => [-9.77473, 12.0]\n",
       "  \"s_l_opt\"    => [0.0, 0.0, 0.0]\n",
       "  \"s_u_opt\"    => [1.77473, 2.64009e-9, 0.774726]\n",
       "  \"n_iter\"     => 7\n",
       "  \"pdd\"        => 2.79216e-9\n",
       "  \"cond_rb\"    => 5.57798e-9\n",
       "  \"cond_rc\"    => 4.87524e-9"
      ]
     },
     "execution_count": 207,
     "metadata": {},
     "output_type": "execute_result"
    }
   ],
   "source": [
    "#pb verif\n",
    "\n",
    "QM_verif = QuadraticModel(c*(-1), Q, A=A*(-1), lcon=lcon, ucon=ucon, lvar=-uvar, uvar=lvar, x0=x01, c0=c0, name=\"QM1\")\n",
    "SM_verif = SlackModel(QM_verif)\n",
    "res_mpc_verif =  MehrotraPCQuadBounds(SM_verif, 20);\n",
    "display_results(res_mpc_verif)"
   ]
  },
  {
   "cell_type": "code",
   "execution_count": 208,
   "metadata": {},
   "outputs": [
    {
     "name": "stdout",
     "output_type": "stream",
     "text": [
      "Iter | primal_objective | primal-dual difference | rb condition | rc condition |   step x   |     mu\n",
      "--------------------------------------------------------------------------------------------------------\n",
      "   0 |     1.0000e+00   |         8.33e-01       |    1.00e+00  |    4.08e-01  |  0.00e+00  |  1.00e+00\n",
      "   1 |     1.2000e-01   |         4.14e-01       |    1.00e-02  |    4.08e-03  |  1.17e+00  |  1.58e-01\n",
      "   2 |     8.4393e-03   |         2.86e-02       |    1.00e-04  |    3.23e-04  |  1.29e-01  |  9.69e-03\n",
      "   3 |     5.0214e-04   |         1.71e-03       |    5.92e-06  |    1.92e-05  |  9.64e-03  |  5.77e-04\n",
      "   4 |     2.9877e-05   |         1.02e-04       |    3.51e-07  |    1.14e-06  |  5.74e-04  |  3.43e-05\n",
      "   5 |     1.7777e-06   |         6.07e-06       |    2.08e-08  |    6.77e-08  |  3.41e-05  |  2.04e-06\n",
      "   6 |     1.0577e-07   |         3.61e-07       |    1.24e-09  |    4.02e-09  |  2.03e-06  |  1.22e-07\n",
      "   7 |     6.2935e-09   |         2.15e-08       |    7.35e-11  |    2.39e-10  |  1.21e-07  |  7.23e-09\n",
      "\n",
      " stopping criterion = [\"cond_rb <= eps\", \"mu_k <= eps_mu\"]\n",
      "\n",
      "-----------------------------------------------------------------------\n",
      "------------------------------- RESULTS -------------------------------\n"
     ]
    },
    {
     "data": {
      "text/plain": [
       "OrderedDict{String,Any} with 8 entries:\n",
       "  \"x_opt\"      => [6.29346e-9, 0.5, 0.5]\n",
       "  \"lambda_opt\" => [-1.52004e-8]\n",
       "  \"s_l_opt\"    => [1.0, 1.53955e-8, 1.53955e-8]\n",
       "  \"s_u_opt\"    => [0.0, 0.0, 0.0]\n",
       "  \"n_iter\"     => 7\n",
       "  \"pdd\"        => 2.14939e-8\n",
       "  \"cond_rb\"    => 7.34763e-11\n",
       "  \"cond_rc\"    => 2.38931e-10"
      ]
     },
     "execution_count": 208,
     "metadata": {},
     "output_type": "execute_result"
    }
   ],
   "source": [
    "### pb verif 2\n",
    "c2 = [1; 0; 0]\n",
    "A2 = Matrix([1, 1, 1]')\n",
    "b2 = [1];\n",
    "QM_verif2 = QuadraticModel(c2, zeros(3,3), A=A2, lcon=b2, ucon=b2, lvar=[0.;0;0], \n",
    "                uvar=[Inf; Inf; Inf], x0=x01, c0=c0, name=\"QMverfi2\")\n",
    "SM_verif2 = SlackModel(QM_verif2)\n",
    "res_mpc_verif2 =  MehrotraPCQuadBounds(SM_verif2, 20);\n",
    "display_results(res_mpc_verif2)"
   ]
  },
  {
   "cell_type": "markdown",
   "metadata": {},
   "source": [
    "# Lecture des donnees .SIF"
   ]
  },
  {
   "cell_type": "code",
   "execution_count": 209,
   "metadata": {},
   "outputs": [
    {
     "data": {
      "text/plain": [
       "displayQuadraticModel (generic function with 1 method)"
      ]
     },
     "execution_count": 209,
     "metadata": {},
     "output_type": "execute_result"
    }
   ],
   "source": [
    "\n",
    "function createQuadraticModel(qpdata, name_pb)\n",
    "    # probleme du point initial\n",
    "    x0 = init_x0(qpdata.lvar, qpdata.uvar)\n",
    "    return QuadraticModel(qpdata.c, qpdata.qrows, qpdata.qcols, qpdata.qvals,\n",
    "            Arows=qpdata.arows, Acols=qpdata.acols, Avals=qpdata.avals, \n",
    "            lcon=qpdata.lcon, ucon=qpdata.ucon, lvar=qpdata.lvar, uvar=qpdata.uvar,\n",
    "            c0=qpdata.c0, x0=x0, name=name_pb)\n",
    "end\n",
    "\n",
    "function displayQuadraticModel(QM)\n",
    "    #println(\"A = \", Matrix(jac(QM, QM.meta.x0)))\n",
    "    #println(\"Q = \", Matrix(hess(QM, QM.meta.x0)))\n",
    "    println(\"lvar = \", QM.meta.lvar)\n",
    "    println(\"uvar = \", QM.meta.uvar)\n",
    "    println(\"x0 = \", QM.meta.x0)\n",
    "    #println(\"lcon = \", QM.meta.lcon)\n",
    "    #println(\"ucon = \", QM.meta.ucon)\n",
    "end"
   ]
  },
  {
   "cell_type": "code",
   "execution_count": 210,
   "metadata": {},
   "outputs": [
    {
     "data": {
      "text/plain": [
       "\"C:\\\\Users\\\\Geoffroy Leconte\\\\Documents\\\\cours\\\\TFE\\\\code\\\\problemes\\\\AFIRO.SIF\""
      ]
     },
     "execution_count": 210,
     "metadata": {},
     "output_type": "execute_result"
    }
   ],
   "source": [
    "path_pb = \"C:\\\\Users\\\\Geoffroy Leconte\\\\Documents\\\\cours\\\\TFE\\\\code\\\\problemes\"\n",
    "afiro = string(path_pb, \"\\\\AFIRO.SIF\")"
   ]
  },
  {
   "cell_type": "code",
   "execution_count": 211,
   "metadata": {},
   "outputs": [
    {
     "name": "stderr",
     "output_type": "stream",
     "text": [
      "┌ Info: Using 'AFIRO' as NAME (l. 5)\n",
      "└ @ QPSReader C:\\Users\\Geoffroy Leconte\\.julia\\packages\\QPSReader\\usDQr\\src\\readqps.jl:751\n",
      "┌ Info: Using 'COST' as objective (l. 47)\n",
      "└ @ QPSReader C:\\Users\\Geoffroy Leconte\\.julia\\packages\\QPSReader\\usDQr\\src\\readqps.jl:350\n",
      "┌ Info: Using 'B' as RHS (l. 96)\n",
      "└ @ QPSReader C:\\Users\\Geoffroy Leconte\\.julia\\packages\\QPSReader\\usDQr\\src\\readqps.jl:470\n"
     ]
    }
   ],
   "source": [
    "qpdata2 = readqps(afiro)  # obj   -4.6475314286E+02\n",
    "qpdata2.contypes\n",
    "QM2 = createQuadraticModel(qpdata2, \"LP2\")\n",
    "SM2 = SlackModel(QM2);\n",
    "#displayQuadraticModel(SM2)"
   ]
  },
  {
   "cell_type": "code",
   "execution_count": 212,
   "metadata": {},
   "outputs": [
    {
     "name": "stdout",
     "output_type": "stream",
     "text": [
      "Iter | primal_objective | primal-dual difference | rb condition | rc condition |   step x   |     mu\n",
      "--------------------------------------------------------------------------------------------------------\n",
      "   0 |     4.3820e+02   |         7.42e-01       |    4.44e-01  |    7.29e-01  |  0.00e+00  |  3.64e+01\n",
      "   1 |     3.5358e+02   |         6.70e-01       |    4.24e-01  |    7.07e-01  |  1.35e+01  |  3.62e+01\n",
      "   2 |     1.5472e+01   |         4.96e+00       |    3.87e-01  |    6.61e-01  |  5.91e+01  |  3.55e+01\n",
      "   3 |     2.9597e+02   |         7.98e-01       |    4.69e-02  |    5.49e-01  |  2.00e+02  |  3.48e+01\n",
      "   4 |    -1.7927e+01   |         2.06e-01       |    3.11e-02  |    3.50e-01  |  1.16e+02  |  2.71e+01\n",
      "   5 |    -9.8104e+01   |         1.20e+00       |    3.11e-04  |    1.16e-01  |  1.81e+02  |  1.00e+01\n",
      "   6 |    -3.7297e+02   |         1.01e+00       |    1.82e-04  |    4.08e-02  |  5.56e+02  |  5.82e+00\n",
      "   7 |    -4.5280e+02   |         1.00e+00       |    1.83e-05  |    1.08e-02  |  1.42e+02  |  1.38e+00\n",
      "   8 |    -4.5887e+02   |         9.98e-01       |    6.56e-06  |    5.76e-04  |  2.88e+01  |  2.81e-01\n",
      "   9 |    -4.6430e+02   |         9.98e-01       |    4.90e-07  |    3.47e-05  |  9.36e+00  |  1.94e-02\n",
      "  10 |    -4.6473e+02   |         9.98e-01       |    2.91e-08  |    2.06e-06  |  7.44e-01  |  1.15e-03\n",
      "  11 |    -4.6475e+02   |         9.98e-01       |    1.73e-09  |    1.23e-07  |  4.60e-02  |  6.88e-05\n",
      "  12 |    -4.6475e+02   |         9.98e-01       |    1.03e-10  |    7.30e-09  |  8.44e-03  |  4.10e-06\n",
      "  13 |    -4.6475e+02   |         9.98e-01       |    6.11e-12  |    4.34e-10  |  7.69e-03  |  2.44e-07\n",
      "  14 |    -4.6475e+02   |         9.98e-01       |    3.63e-13  |    2.58e-11  |  7.66e-03  |  1.45e-08\n",
      "  15 |    -4.6475e+02   |         9.98e-01       |    2.14e-14  |    1.53e-12  |  7.66e-03  |  8.65e-10\n",
      "\n",
      " stopping criterion = [\"cond_rb <= eps\", \"cond_rc <= eps\", \"mu_k <= eps_mu\"]\n",
      "\n",
      "-----------------------------------------------------------------------\n",
      "------------------------------- RESULTS -------------------------------\n"
     ]
    },
    {
     "data": {
      "text/plain": [
       "OrderedDict{String,Any} with 8 entries:\n",
       "  \"x_opt\"      => [80.0, 25.5, 54.5, 84.8, 45.096, 4.38893e-10, 4.33905e-10, 4.…\n",
       "  \"lambda_opt\" => [-0.628571, 2.47749e-10, -0.344771, -0.228571, -4.00635e-11, …\n",
       "  \"s_l_opt\"    => [6.23605e-12, 4.2059e-11, 8.74161e-12, 5.88306e-12, 7.47909e-…\n",
       "  \"s_u_opt\"    => [0.0, 0.0, 0.0, 0.0, 0.0, 0.0, 0.0, 0.0, 0.0, 0.0  …  1.33414…\n",
       "  \"n_iter\"     => 15\n",
       "  \"pdd\"        => 0.997853\n",
       "  \"cond_rb\"    => 2.13631e-14\n",
       "  \"cond_rc\"    => 1.53453e-12"
      ]
     },
     "execution_count": 212,
     "metadata": {},
     "output_type": "execute_result"
    }
   ],
   "source": [
    "res_mpc2 =  MehrotraPCQuadBounds(SM2, 20, tol_step_x = 1e-10);\n",
    "display_results(res_mpc2)"
   ]
  },
  {
   "cell_type": "code",
   "execution_count": 213,
   "metadata": {},
   "outputs": [
    {
     "name": "stderr",
     "output_type": "stream",
     "text": [
      "┌ Info: Using 'KB2' as NAME (l. 5)\n",
      "└ @ QPSReader C:\\Users\\Geoffroy Leconte\\.julia\\packages\\QPSReader\\usDQr\\src\\readqps.jl:751\n",
      "┌ Info: Using 'FAT7..J.' as objective (l. 20)\n",
      "└ @ QPSReader C:\\Users\\Geoffroy Leconte\\.julia\\packages\\QPSReader\\usDQr\\src\\readqps.jl:350\n",
      "┌ Info: Using '77BOUND' as BOUNDS (l. 227)\n",
      "└ @ QPSReader C:\\Users\\Geoffroy Leconte\\.julia\\packages\\QPSReader\\usDQr\\src\\readqps.jl:622\n"
     ]
    }
   ],
   "source": [
    "# problem 3   kb2    obj  -1.7499001299E+03\n",
    "kb2 = string(path_pb, \"\\\\KB2.SIF\")\n",
    "qpdata3 = readqps(kb2)\n",
    "QM3 = createQuadraticModel(qpdata3, \"QM3\")\n",
    "SM3 = SlackModel(QM3);"
   ]
  },
  {
   "cell_type": "code",
   "execution_count": 214,
   "metadata": {},
   "outputs": [
    {
     "name": "stdout",
     "output_type": "stream",
     "text": [
      "Iter | primal_objective | primal-dual difference | rb condition | rc condition |   step x   |     mu\n",
      "--------------------------------------------------------------------------------------------------------\n",
      "   0 |     1.1675e+01   |         9.21e-01       |    2.49e+03  |    4.18e-01  |  0.00e+00  |  6.18e+00\n",
      "   1 |     2.3812e+01   |         9.60e-01       |    2.10e+03  |    2.40e-01  |  2.85e+00  |  4.77e+00\n",
      "   2 |     1.4689e+00   |         5.95e-01       |    5.00e+02  |    1.06e-01  |  5.76e+00  |  1.96e+00\n",
      "   3 |    -4.7869e+00   |         8.27e-01       |    2.59e+02  |    7.29e-02  |  2.08e+01  |  1.43e+00\n",
      "   4 |    -3.2857e+01   |         9.70e-01       |    6.69e+01  |    4.73e-02  |  1.47e+02  |  1.08e+00\n",
      "   5 |    -3.2940e+02   |         9.97e-01       |    6.69e-01  |    3.72e-02  |  1.53e+03  |  1.67e+00\n",
      "   6 |    -4.9577e+02   |         9.98e-01       |    6.57e-01  |    3.55e-02  |  8.46e+02  |  1.97e+00\n",
      "   7 |    -8.0695e+02   |         9.99e-01       |    6.33e-01  |    3.44e-02  |  1.66e+03  |  2.80e+00\n",
      "   8 |    -1.1273e+03   |         9.99e-01       |    6.23e-01  |    3.34e-02  |  1.78e+03  |  3.37e+00\n",
      "   9 |    -1.0569e+03   |         9.99e-01       |    6.16e-01  |    3.19e-02  |  3.71e+02  |  4.38e+00\n",
      "  10 |    -1.2216e+03   |         9.99e-01       |    6.00e-01  |    3.10e-02  |  9.34e+02  |  4.90e+00\n",
      "  11 |    -1.2909e+03   |         9.99e-01       |    5.68e-01  |    2.88e-02  |  5.85e+02  |  5.63e+00\n",
      "  12 |    -1.4328e+03   |         9.99e-01       |    5.48e-01  |    2.68e-02  |  9.50e+02  |  6.35e+00\n",
      "  13 |    -1.2057e+03   |         9.99e-01       |    4.94e-01  |    2.51e-02  |  1.52e+03  |  6.75e+00\n",
      "  14 |    -1.4863e+03   |         9.99e-01       |    3.93e-01  |    2.23e-02  |  1.79e+03  |  7.18e+00\n",
      "  15 |    -1.5960e+03   |         9.99e-01       |    1.28e-01  |    1.26e-02  |  7.22e+02  |  6.31e+00\n",
      "  16 |    -1.7284e+03   |         9.99e-01       |    5.83e-03  |    4.12e-03  |  8.45e+02  |  2.03e+00\n",
      "  17 |    -1.7333e+03   |         9.99e-01       |    5.09e-03  |    1.68e-03  |  3.08e+02  |  1.22e+00\n",
      "  18 |    -1.7472e+03   |         9.99e-01       |    2.86e-04  |    3.48e-04  |  1.29e+02  |  2.41e-01\n",
      "  19 |    -1.7489e+03   |         9.99e-01       |    4.59e-05  |    1.24e-04  |  1.19e+02  |  8.69e-02\n",
      "  20 |    -1.7495e+03   |         9.99e-01       |    5.26e-06  |    8.89e-06  |  2.42e+02  |  2.01e-02\n",
      "  21 |    -1.7498e+03   |         9.99e-01       |    6.86e-07  |    2.03e-06  |  5.93e+01  |  4.58e-03\n",
      "  22 |    -1.7499e+03   |         9.99e-01       |    6.13e-08  |    1.76e-07  |  4.07e+01  |  4.61e-04\n",
      "  23 |    -1.7499e+03   |         9.99e-01       |    3.63e-09  |    1.07e-08  |  2.78e+00  |  2.81e-05\n",
      "  24 |    -1.7499e+03   |         9.99e-01       |    2.15e-10  |    6.36e-10  |  1.66e-01  |  1.67e-06\n",
      "  25 |    -1.7499e+03   |         9.99e-01       |    1.33e-11  |    3.78e-11  |  9.91e-03  |  9.96e-08\n",
      "  26 |    -1.7499e+03   |         9.99e-01       |    3.61e-12  |    2.25e-12  |  5.90e-04  |  5.93e-09\n",
      "\n",
      " stopping criterion = [\"cond_rb <= eps\", \"cond_rc <= eps\", \"mu_k <= eps_mu\"]\n",
      "\n",
      "-----------------------------------------------------------------------\n",
      "------------------------------- RESULTS -------------------------------\n"
     ]
    },
    {
     "data": {
      "text/plain": [
       "OrderedDict{String,Any} with 8 entries:\n",
       "  \"x_opt\"      => [0.811823, 3.67543e-8, 5.82754e-8, 2.96285e-8, 4.67255, 25.06…\n",
       "  \"lambda_opt\" => [17.2692, 17.2141, 16.942, 16.6598, 12.0, 17.2094, 17.4258, 1…\n",
       "  \"s_l_opt\"    => [6.81012e-9, 0.0638118, 0.0489617, 0.102083, 1.39834e-9, 2.72…\n",
       "  \"s_u_opt\"    => [0.0, 6.01957e-10, 0.0, 0.0, 0.0, 0.0, 0.0, 0.0, 0.0, 0.0  … …\n",
       "  \"n_iter\"     => 26\n",
       "  \"pdd\"        => 0.999429\n",
       "  \"cond_rb\"    => 3.61221e-12\n",
       "  \"cond_rc\"    => 2.24924e-12"
      ]
     },
     "execution_count": 214,
     "metadata": {},
     "output_type": "execute_result"
    }
   ],
   "source": [
    "res_mpc3 =  MehrotraPCQuadBounds(SM3, 30, tol_step_x = 1e-12);\n",
    "display_results(res_mpc3)"
   ]
  },
  {
   "cell_type": "code",
   "execution_count": 215,
   "metadata": {},
   "outputs": [
    {
     "name": "stderr",
     "output_type": "stream",
     "text": [
      "┌ Info: Using 'SC50A' as NAME (l. 5)\n",
      "└ @ QPSReader C:\\Users\\Geoffroy Leconte\\.julia\\packages\\QPSReader\\usDQr\\src\\readqps.jl:751\n",
      "┌ Info: Using 'MAXIM' as objective (l. 20)\n",
      "└ @ QPSReader C:\\Users\\Geoffroy Leconte\\.julia\\packages\\QPSReader\\usDQr\\src\\readqps.jl:350\n",
      "┌ Info: Using 'CONST' as RHS (l. 153)\n",
      "└ @ QPSReader C:\\Users\\Geoffroy Leconte\\.julia\\packages\\QPSReader\\usDQr\\src\\readqps.jl:470\n"
     ]
    }
   ],
   "source": [
    "# problem 4 SC50A  obj  -6.4575077059E+01\n",
    "SC50A = string(path_pb, \"\\\\SC50A.SIF\")\n",
    "qpdata4 = readqps(SC50A)\n",
    "QM4 = createQuadraticModel(qpdata4, \"QM4\")\n",
    "SM4 = SlackModel(QM4);"
   ]
  },
  {
   "cell_type": "code",
   "execution_count": 216,
   "metadata": {},
   "outputs": [
    {
     "name": "stdout",
     "output_type": "stream",
     "text": [
      "Iter | primal_objective | primal-dual difference | rb condition | rc condition |   step x   |     mu\n",
      "--------------------------------------------------------------------------------------------------------\n",
      "   0 |    -1.0000e+00   |         5.00e-01       |    1.30e+01  |    2.21e+00  |  0.00e+00  |  2.01e+01\n",
      "   1 |    -9.0660e-01   |         4.76e-01       |    7.73e-01  |    1.64e+00  |  3.73e+01  |  1.56e+01\n",
      "   2 |    -9.5534e-01   |         4.89e-01       |    4.60e-02  |    1.61e-01  |  1.53e+00  |  1.54e+00\n",
      "   3 |    -2.9165e+00   |         7.45e-01       |    2.74e-03  |    7.08e-02  |  2.97e+01  |  7.14e-01\n",
      "   4 |    -3.0568e+01   |         9.68e-01       |    1.63e-04  |    5.05e-02  |  3.70e+02  |  5.02e-01\n",
      "   5 |    -4.4080e+01   |         9.78e-01       |    1.23e-04  |    3.17e-02  |  1.79e+02  |  4.80e-01\n",
      "   6 |    -5.7779e+01   |         9.83e-01       |    6.27e-05  |    8.67e-03  |  1.94e+02  |  2.45e-01\n",
      "   7 |    -6.2208e+01   |         9.84e-01       |    1.81e-05  |    1.25e-03  |  6.85e+01  |  6.49e-02\n",
      "   8 |    -6.4138e+01   |         9.85e-01       |    3.09e-06  |    1.90e-04  |  3.36e+01  |  1.20e-02\n",
      "   9 |    -6.4479e+01   |         9.85e-01       |    5.61e-07  |    3.11e-05  |  4.91e+00  |  2.45e-03\n",
      "  10 |    -6.4569e+01   |         9.85e-01       |    3.34e-08  |    2.03e-06  |  1.98e+00  |  1.54e-04\n",
      "  11 |    -6.4575e+01   |         9.85e-01       |    1.99e-09  |    1.21e-07  |  1.20e-01  |  9.19e-06\n",
      "  12 |    -6.4575e+01   |         9.85e-01       |    1.18e-10  |    7.18e-09  |  7.12e-03  |  5.48e-07\n",
      "  13 |    -6.4575e+01   |         9.85e-01       |    7.03e-12  |    4.26e-10  |  4.24e-04  |  3.26e-08\n",
      "  14 |    -6.4575e+01   |         9.85e-01       |    4.18e-13  |    2.53e-11  |  2.52e-05  |  1.94e-09\n",
      "\n",
      " stopping criterion = [\"cond_rb <= eps\", \"cond_rc <= eps\", \"mu_k <= eps_mu\"]\n",
      "\n",
      "-----------------------------------------------------------------------\n",
      "------------------------------- RESULTS -------------------------------\n"
     ]
    },
    {
     "data": {
      "text/plain": [
       "OrderedDict{String,Any} with 8 entries:\n",
       "  \"x_opt\"      => [6.68126e-8, 16.5687, 64.5751, 64.5751, 64.5751, 6.68126e-8, …\n",
       "  \"lambda_opt\" => [-4.59978e-11, -0.138705, -16452.8, -0.208058, -0.124955, -0.…\n",
       "  \"s_l_opt\"    => [0.0137503, 6.65674e-11, 2.33031e-11, 3.47577e-11, 3.47577e-1…\n",
       "  \"s_u_opt\"    => [0.0, 0.0, 0.0, 0.0, 0.0, 0.0, 0.0, 0.0, 0.0, 0.0  …  0.02311…\n",
       "  \"n_iter\"     => 14\n",
       "  \"pdd\"        => 0.98475\n",
       "  \"cond_rb\"    => 4.18143e-13\n",
       "  \"cond_rc\"    => 2.5335e-11"
      ]
     },
     "execution_count": 216,
     "metadata": {},
     "output_type": "execute_result"
    }
   ],
   "source": [
    "res_mpc4 =  MehrotraPCQuadBounds(SM4, 20, tol_step_x = 1e-12);\n",
    "display_results(res_mpc4)"
   ]
  },
  {
   "cell_type": "code",
   "execution_count": 217,
   "metadata": {},
   "outputs": [
    {
     "name": "stdout",
     "output_type": "stream",
     "text": [
      "type of the fieldname nvar is Int64\n",
      "type of the fieldname x0 is Array{T,1} where T\n",
      "type of the fieldname lvar is Array{T,1} where T\n",
      "type of the fieldname uvar is Array{T,1} where T\n",
      "type of the fieldname ifix is Array{Int64,1}\n",
      "type of the fieldname ilow is Array{Int64,1}\n",
      "type of the fieldname iupp is Array{Int64,1}\n",
      "type of the fieldname irng is Array{Int64,1}\n",
      "type of the fieldname ifree is Array{Int64,1}\n",
      "type of the fieldname iinf is Array{Int64,1}\n",
      "type of the fieldname nbv is Int64\n",
      "type of the fieldname niv is Int64\n",
      "type of the fieldname nlvb is Int64\n",
      "type of the fieldname nlvo is Int64\n",
      "type of the fieldname nlvc is Int64\n",
      "type of the fieldname nlvbi is Int64\n",
      "type of the fieldname nlvci is Int64\n",
      "type of the fieldname nlvoi is Int64\n",
      "type of the fieldname nwv is Int64\n",
      "type of the fieldname ncon is Int64\n",
      "type of the fieldname y0 is Array{T,1} where T\n",
      "type of the fieldname lcon is Array{T,1} where T\n",
      "type of the fieldname ucon is Array{T,1} where T\n",
      "type of the fieldname jfix is Array{Int64,1}\n",
      "type of the fieldname jlow is Array{Int64,1}\n",
      "type of the fieldname jupp is Array{Int64,1}\n",
      "type of the fieldname jrng is Array{Int64,1}\n",
      "type of the fieldname jfree is Array{Int64,1}\n",
      "type of the fieldname jinf is Array{Int64,1}\n",
      "type of the fieldname nnzo is Int64\n",
      "type of the fieldname nnzj is Int64\n",
      "type of the fieldname nnzh is Int64\n",
      "type of the fieldname nlin is Int64\n",
      "type of the fieldname nnln is Int64\n",
      "type of the fieldname nnnet is Int64\n",
      "type of the fieldname nlnet is Int64\n",
      "type of the fieldname lin is Array{Int64,1}\n",
      "type of the fieldname nln is Array{Int64,1}\n",
      "type of the fieldname nnet is Array{Int64,1}\n",
      "type of the fieldname lnet is Array{Int64,1}\n",
      "type of the fieldname minimize is Bool\n",
      "type of the fieldname nlo is Int64\n",
      "type of the fieldname islp is Bool\n",
      "type of the fieldname name is String\n"
     ]
    }
   ],
   "source": [
    "T = typeof(SM3.meta)\n",
    "for (name, typ) in zip(fieldnames(T), T.types)\n",
    "    println(\"type of the fieldname $name is $typ\")\n",
    "end"
   ]
  },
  {
   "cell_type": "code",
   "execution_count": 544,
   "metadata": {},
   "outputs": [
    {
     "data": {
      "text/plain": [
       "true"
      ]
     },
     "execution_count": 544,
     "metadata": {},
     "output_type": "execute_result"
    }
   ],
   "source": [
    "typeof(SM3.model) == QuadraticModel"
   ]
  },
  {
   "cell_type": "code",
   "execution_count": null,
   "metadata": {},
   "outputs": [],
   "source": []
  }
 ],
 "metadata": {
  "kernelspec": {
   "display_name": "Julia 1.4.0",
   "language": "julia",
   "name": "julia-1.4"
  },
  "language_info": {
   "file_extension": ".jl",
   "mimetype": "application/julia",
   "name": "julia",
   "version": "1.4.0"
  }
 },
 "nbformat": 4,
 "nbformat_minor": 4
}
