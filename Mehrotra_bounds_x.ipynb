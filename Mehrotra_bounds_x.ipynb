{
 "cells": [
  {
   "cell_type": "markdown",
   "metadata": {},
   "source": [
    "# Problèmes\n",
    "\n",
    "### 1)\n",
    "Primal: $\\underset{x \\in \\mathbb{R}^3}{\\min} \\frac{1}{2} x' Q x + c' x ~~~~~~~~ s.t. ~ A x = b ~, ~~ x \\ge 0$\n",
    "\n",
    "with  $Q = \\begin{bmatrix} 6 & 2 & 1\\\\ 2 & 5 & 2\\\\ 1 & 2 & 4 \\end{bmatrix} $, $c = \\begin{bmatrix} -8 \\\\ -3 \\\\ -3 \\end{bmatrix}$, $A = \\begin{bmatrix} 1 & 0 &1 \\\\ 0 & 1 & 1 \\end{bmatrix}$ , and $b = \\begin{bmatrix} 3 \\\\ 0 \\end{bmatrix} $.\n",
    "\n",
    "\n",
    "### 2) \n",
    "AFIRO        28 rows    32 cols        88 nonzeros       794 bytes      -4.6475314286E+02 optimalvalue"
   ]
  },
  {
   "cell_type": "code",
   "execution_count": 13,
   "metadata": {},
   "outputs": [],
   "source": [
    "using LinearAlgebra\n",
    "using LaTeXStrings\n",
    "using DataFrames\n",
    "using DataStructures\n",
    "using QuadraticModels\n",
    "using Printf\n",
    "using SparseArrays\n",
    "using BenchmarkTools\n",
    "using NLPModels\n",
    "using LinearOperators\n",
    "using QPSReader\n",
    "using SolverTools\n",
    "using SolverBenchmark"
   ]
  },
  {
   "cell_type": "markdown",
   "metadata": {},
   "source": [
    "# Mehrotra formulation plus générale:\n",
    "\n",
    "min $c_0 + c'x + \\frac{1}{2} x'Hx ~~~~$ s.t. $ Ax = b $ and $l \\le x \\le u$ "
   ]
  },
  {
   "cell_type": "code",
   "execution_count": 14,
   "metadata": {},
   "outputs": [
    {
     "data": {
      "text/plain": [
       "init_x0_lsq (generic function with 1 method)"
      ]
     },
     "execution_count": 14,
     "metadata": {},
     "output_type": "execute_result"
    }
   ],
   "source": [
    "function display_results(result)\n",
    "    # fonction pour l'affichage\n",
    "    println(\"\\n-----------------------------------------------------------------------\")\n",
    "    println(\"------------------------------- RESULTS -------------------------------\")\n",
    "    result\n",
    "end\n",
    "\n",
    "function init_x0(lvar, uvar)\n",
    "    # choice of an init point x0\n",
    "    x0 = zeros(length(lvar))\n",
    "    for i=1:length(x0)\n",
    "        if lvar[i] == -Inf && uvar[i] == Inf\n",
    "            x0[i] = 0.\n",
    "        elseif lvar[i] == -Inf && uvar[i] != Inf\n",
    "            x0[i] = uvar[i] - 1.\n",
    "        elseif lvar[i] != -Inf && uvar[i] == Inf\n",
    "            x0[i] = lvar[i] + 1.\n",
    "        else\n",
    "            x0[i] = (lvar[i] + uvar[i]) / 2 \n",
    "        end\n",
    "    end  \n",
    "    return x0\n",
    "end\n",
    "\n",
    "function init_x0_lsq(A, b, lvar, uvar)\n",
    "    x_tilde = A\\b\n",
    "    n = length(x_tilde)\n",
    "    for i=1:n\n",
    "        if x_tilde[i] <= lvar[i]\n",
    "            x_tilde[i] = lvar[i] + 1\n",
    "        elseif uvar[i] <= x_tilde[i]\n",
    "            x_tilde[i] = uvar[i] - 1\n",
    "        end\n",
    "    end\n",
    "    return x_tilde\n",
    "end\n",
    "    \n"
   ]
  },
  {
   "cell_type": "code",
   "execution_count": 15,
   "metadata": {},
   "outputs": [
    {
     "data": {
      "text/plain": [
       "is_in_Neighborhood_inf (generic function with 1 method)"
      ]
     },
     "execution_count": 15,
     "metadata": {},
     "output_type": "execute_result"
    }
   ],
   "source": [
    "\n",
    "\n",
    "function Compute_Alpha_dual(v_k, dir_v_k)\n",
    "    n = length(v_k)\n",
    "    if n == 0\n",
    "        return 0.\n",
    "    end\n",
    "    alphas = ones(n)\n",
    "    for i=1:n\n",
    "        if dir_v_k[i] < 0\n",
    "            alphas[i] = -v_k[i] * 0.999 / dir_v_k[i]\n",
    "        end\n",
    "    end\n",
    "    return minimum(alphas)\n",
    "end\n",
    "\n",
    "\n",
    "    \n",
    "function Compute_Alpha_primal(v_k, dir_v_k, lvar, uvar)\n",
    "    n = length(v_k)\n",
    "    alpha_l, alpha_u = ones(n), ones(n)\n",
    "    for i=1:n\n",
    "        if dir_v_k[i] > 0\n",
    "            alpha_u[i] = (uvar[i] - v_k[i]) * 0.999 / dir_v_k[i]\n",
    "        elseif dir_v_k[i] < 0\n",
    "            alpha_l[i] = (lvar[i] - v_k[i]) * 0.999 / dir_v_k[i]\n",
    "        end\n",
    "    end\n",
    "    return min(minimum(alpha_l), minimum(alpha_u))\n",
    "end\n",
    "\n",
    "function Compute_mu(x_l, x_u, s_l, s_u, lvar, uvar)\n",
    "    #x_l coordinates of x corresponding to finite lower bounds ( resp. finite upper bounds for x_u)\n",
    "    # arguments must have finite bounds \n",
    "    return (s_l' * (x_l-lvar) + s_u' * (uvar-x_u)) / (length(x_l) + length(x_u))\n",
    "end\n",
    "\n",
    "\n",
    "function is_in_Neighborhood_inf(gamma, x_l, x_u, s_l, s_u, lvar, uvar)\n",
    "    # check if the current point is in N_inf(gamma)\n",
    "    # true : (xi_l - lvari) * si_l >= gamma mu   and   (uvari - xi_u) * si_u >= gamma mu \n",
    "    mu = Compute_mu(x_l, x_u, s_l, s_u, lvar, uvar)\n",
    "    for i=1:length(x_l)\n",
    "        if (x_l[i] - lvar[i]) * s_l[i] < gamma*mu\n",
    "            return false\n",
    "        end\n",
    "    end\n",
    "    for i=1:length(x_u)\n",
    "        if (uvar[i] - x_u[i]) * s_u[i] < gamma*mu\n",
    "            return false\n",
    "        end\n",
    "    end\n",
    "    return true\n",
    "end"
   ]
  },
  {
   "cell_type": "code",
   "execution_count": 97,
   "metadata": {},
   "outputs": [
    {
     "data": {
      "text/plain": [
       "MehrotraPCQuadBounds (generic function with 1 method)"
      ]
     },
     "execution_count": 97,
     "metadata": {},
     "output_type": "execute_result"
    }
   ],
   "source": [
    "\n",
    "function MehrotraPCQuadBounds(QM, max_iter; eps=1e-10, tol_step_x=1e-8, eps_mu=1e-10, display=true)\n",
    "    \n",
    "    start_time = time()\n",
    "    elapsed_time = 0.0\n",
    "    \n",
    "    # get variables from QuadraticModel\n",
    "    lvar, uvar = QM.meta.lvar, QM.meta.uvar\n",
    "    x_k = init_x0(lvar, uvar)\n",
    "    id_non_inf_l, id_non_inf_u = findall((x -> x!=-Inf), lvar), findall((x -> x!=Inf), uvar) # finite bounds index\n",
    "    @assert all(x_k .> lvar) && all(x_k .< uvar)\n",
    "    A = jac(QM, x_k)\n",
    "    n_rows, n_cols = size(A) \n",
    "    Q = hess(QM, x_k)\n",
    "    c = grad(QM, zeros(n_cols))\n",
    "    c0 = obj(QM, zeros(n_cols))\n",
    "    @assert QM.meta.lcon == QM.meta.ucon # equality constraint (Ax=b)\n",
    "    b = QM.meta.lcon\n",
    "    x_k = init_x0_lsq(A, b, lvar, uvar)\n",
    "    @assert all(x_k .> lvar) && all(x_k .< uvar)\n",
    "    s_k_l, s_k_u = zeros(n_cols), zeros(n_cols)\n",
    "    s_k_l[id_non_inf_l] .= 1.\n",
    "    s_k_u[id_non_inf_u] .= 1.\n",
    "    lambda_k = Matrix(A)'\\(c +Q*x_k) # least square initialisation, s_0 = stilde_0\n",
    "    \n",
    "    rb_k = A * x_k - b\n",
    "    rc_k = -Q * x_k + A' * lambda_k + s_k_l - s_k_u - c\n",
    "    mu_k = Compute_mu(x_k[id_non_inf_l], x_k[id_non_inf_u], \n",
    "                        s_k_l[id_non_inf_l], s_k_u[id_non_inf_u], \n",
    "                        lvar[id_non_inf_l], uvar[id_non_inf_u])\n",
    "\n",
    "    k = 0\n",
    "    e = ones(n_cols)\n",
    "    n_c = norm(c)\n",
    "    n_b = norm(b)\n",
    "    \n",
    "    # matrices without infinity constraints\n",
    "    nb_non_inf_l, nb_non_inf_u = length(id_non_inf_l), length(id_non_inf_u) # number of finite constraints\n",
    "    \n",
    "    Xk_non_inf_l = Diagonal(x_k[id_non_inf_l])\n",
    "    Sk_non_inf_l = spzeros(nb_non_inf_l, n_cols)\n",
    "    I_non_inf_l = spzeros(n_cols, nb_non_inf_l)\n",
    "    for j=1:nb_non_inf_l   # cartesian index not working when nb_non_inf_l = 0\n",
    "        Sk_non_inf_l[j, id_non_inf_l[j]] = s_k_l[id_non_inf_l[j]]\n",
    "        I_non_inf_l[id_non_inf_l[j], j] = 1\n",
    "    end\n",
    "    \n",
    "    Xk_non_inf_u = Diagonal(x_k[id_non_inf_u])\n",
    "    Sk_non_inf_u = spzeros(nb_non_inf_u, n_cols)\n",
    "    I_op_non_inf_u = spzeros(n_cols, nb_non_inf_u)\n",
    "    for j=1:nb_non_inf_u \n",
    "        Sk_non_inf_u[j, id_non_inf_u[j]] = s_k_u[id_non_inf_u[j]]\n",
    "        I_op_non_inf_u[id_non_inf_u[j], j] = -1\n",
    "    end\n",
    "    Lvar_non_inf = Diagonal(lvar[id_non_inf_l]) \n",
    "    Uvar_non_inf = Diagonal(uvar[id_non_inf_u]) \n",
    "\n",
    "    # stopping criterion\n",
    "    quad_part = x_k' * Q * x_k \n",
    "    pdd = abs(quad_part + c' * x_k - b' * lambda_k ) / (1 + abs(c' * x_k + quad_part/2))\n",
    "    cond_rb, cond_rc = norm(rb_k) / (1 + n_b), norm(rc_k) / (1 + n_c)\n",
    "    opti_pdd, opti_rb, opti_rc = pdd < eps, cond_rb < eps, cond_rc < eps # start false?\n",
    "    small_step_x, small_mu = false, mu_k < eps_mu\n",
    "\n",
    "    # display\n",
    "    if display == true\n",
    "        println(\"Iter | primal_objective | primal-dual difference | rb condition | rc condition |   step x   |     mu\")\n",
    "        println(\"--------------------------------------------------------------------------------------------------------\")\n",
    "        @printf(\"% 4d |    % 7.4e   |        % 7.2e       |   % 7.2e  |   % 7.2e  | % 7.2e  | % 7.2e\\n\", \n",
    "                k, c0+c'*x_k +quad_part/2, pdd, cond_rb, cond_rc,0., mu_k)\n",
    "    end\n",
    "    \n",
    "\n",
    "    while k<max_iter && (!opti_pdd || !opti_rb || !opti_rc) && !small_step_x && !small_mu\n",
    "        \n",
    "        \n",
    "        # Affine scaling direction\n",
    "        Jacob_Fk = [-Q            A'                             I_non_inf_l                         I_op_non_inf_u\n",
    "                    A             spzeros(n_rows, n_rows)        spzeros(n_rows, nb_non_inf_l)       spzeros(n_rows, nb_non_inf_u)\n",
    "                    Sk_non_inf_l  spzeros(nb_non_inf_l, n_rows)  Xk_non_inf_l-Lvar_non_inf           spzeros(nb_non_inf_l, nb_non_inf_u)\n",
    "                    Sk_non_inf_u  spzeros(nb_non_inf_u, n_rows)  spzeros(nb_non_inf_u,nb_non_inf_l)  Xk_non_inf_u-Uvar_non_inf]\n",
    "        Fk_aff = [-rc_k\n",
    "                  -rb_k\n",
    "                  -(x_k[id_non_inf_l]-lvar[id_non_inf_l]).*s_k_l[id_non_inf_l]\n",
    "                  -(x_k[id_non_inf_u]-uvar[id_non_inf_u]).*s_k_u[id_non_inf_u]]\n",
    "\n",
    "        dir_aff_k = Jacob_Fk\\Fk_aff\n",
    "        \n",
    "        alpha_aff_pri = Compute_Alpha_primal(x_k, dir_aff_k[1:n_cols], lvar, uvar)\n",
    "        alpha_aff_dual_l = Compute_Alpha_dual(s_k_l[id_non_inf_l], \n",
    "                                            dir_aff_k[n_rows+n_cols+1: n_rows+n_cols+nb_non_inf_l])\n",
    "        alpha_aff_dual_u = Compute_Alpha_dual(s_k_u[id_non_inf_u], \n",
    "                                                dir_aff_k[n_rows+n_cols+nb_non_inf_l+1:end])\n",
    "        # pb above compute alpha dual\n",
    "\n",
    "        # alpha_aff_dual_final is the min of the 2 alpha_aff_dual\n",
    "        if nb_non_inf_l == 0\n",
    "            alpha_aff_dual_final = alpha_aff_dual_u\n",
    "        elseif nb_non_inf_u == 0\n",
    "            alpha_aff_dual_final = alpha_aff_dual_l\n",
    "        else\n",
    "            alpha_aff_dual_final = min(alpha_aff_dual_l, alpha_aff_dual_u)\n",
    "        end\n",
    "        \n",
    "        mu_aff = Compute_mu(x_k[id_non_inf_l] + alpha_aff_pri * dir_aff_k[1:n_cols][id_non_inf_l],\n",
    "                    x_k[id_non_inf_u] + alpha_aff_pri * dir_aff_k[1:n_cols][id_non_inf_u],\n",
    "                    s_k_l[id_non_inf_l] + alpha_aff_dual_final * dir_aff_k[n_rows+n_cols+1: n_rows+n_cols+nb_non_inf_l],\n",
    "                    s_k_u[id_non_inf_u] + alpha_aff_dual_final * dir_aff_k[n_rows+n_cols+nb_non_inf_l+1: end],\n",
    "                    lvar[id_non_inf_l], uvar[id_non_inf_u])\n",
    "        \n",
    "        sigma = (mu_aff / mu_k)^3\n",
    "\n",
    "        # corrector and centering step\n",
    "        Fk_cc = [zeros(n_rows+n_cols, 1)\n",
    "                 sigma*mu_k*e[1:nb_non_inf_l] - dir_aff_k[1:n_cols][id_non_inf_l].*dir_aff_k[n_rows+n_cols+1: n_rows+n_cols+nb_non_inf_l]\n",
    "                 -sigma*mu_k*e[1:nb_non_inf_u] - dir_aff_k[1:n_cols][id_non_inf_u].*dir_aff_k[n_rows+n_cols+nb_non_inf_l+1: end]] \n",
    "\n",
    "        dir_cc_k = Jacob_Fk\\Fk_cc\n",
    "        dir_k = dir_aff_k + dir_cc_k # final direction\n",
    "        \n",
    "        alpha_k_pri = Compute_Alpha_primal(x_k, dir_k[1:n_cols], lvar, uvar)\n",
    "        alpha_k_dual_l = Compute_Alpha_dual(s_k_l[id_non_inf_l], \n",
    "                                        dir_k[n_rows+n_cols+1: n_rows+n_cols+nb_non_inf_l])\n",
    "        \n",
    "        alpha_k_dual_u = Compute_Alpha_dual(s_k_u[id_non_inf_u], \n",
    "                                            dir_k[n_rows+n_cols+nb_non_inf_l+1: end])\n",
    "        \n",
    "        if nb_non_inf_l == 0\n",
    "            alpha_dual_final = alpha_k_dual_u\n",
    "        elseif nb_non_inf_u == 0\n",
    "            alpha_dual_final = alpha_k_dual_l\n",
    "        else\n",
    "            alpha_dual_final = min(alpha_k_dual_l, alpha_k_dual_u)\n",
    "        end\n",
    "        \n",
    "        # new parameters\n",
    "        x_k += alpha_k_pri * dir_k[1:n_cols]\n",
    "        lambda_k += alpha_dual_final * dir_k[n_cols+1: n_rows+n_cols]\n",
    "        s_k_l[id_non_inf_l] += alpha_dual_final * dir_k[n_rows+n_cols+1: n_rows+n_cols+nb_non_inf_l]\n",
    "        s_k_u[id_non_inf_u] += alpha_dual_final * dir_k[n_rows+n_cols+nb_non_inf_l+1: end]\n",
    "        \n",
    "        Xk_non_inf_l = Diagonal(x_k[id_non_inf_l])\n",
    "        for j=1:nb_non_inf_l\n",
    "            Sk_non_inf_l[j, id_non_inf_l[j]] = s_k_l[id_non_inf_l[j]]\n",
    "        end\n",
    "        Xk_non_inf_u = Diagonal(x_k[id_non_inf_u])\n",
    "        \n",
    "        for j=1:nb_non_inf_u\n",
    "            Sk_non_inf_u[j, id_non_inf_u[j]] = s_k_u[id_non_inf_u[j]]\n",
    "        end\n",
    "        \n",
    "        step_x = norm(alpha_k_pri * dir_k[1:n_cols])\n",
    "        mu_k = Compute_mu(x_k[id_non_inf_l], x_k[id_non_inf_u], \n",
    "                        s_k_l[id_non_inf_l], s_k_u[id_non_inf_u], \n",
    "                        lvar[id_non_inf_l], uvar[id_non_inf_u])\n",
    "\n",
    "        rb_k = A * x_k - b\n",
    "        rc_k = -Q * x_k + A' * lambda_k + s_k_l - s_k_u - c\n",
    "        \n",
    "        # update stopping criterion values:\n",
    "        quad_part = x_k' * Q * x_k \n",
    "        pdd = abs(quad_part + c' * x_k - b' * lambda_k - s_k_l[id_non_inf_l]'*lvar[id_non_inf_l] +  s_k_u[id_non_inf_u]'*uvar[id_non_inf_u] ) / \n",
    "                    (1 + abs(c' * x_k + quad_part/2)) \n",
    "        cond_rb = norm(rb_k) / (1 + n_b)\n",
    "        cond_rc = norm(rc_k) / (1 + n_c)\n",
    "        opti_pdd, opti_rb, opti_rc = pdd < eps, cond_rb < eps, cond_rc < eps\n",
    "        small_step_x, small_mu = step_x < tol_step_x, mu_k < eps_mu\n",
    "        k += 1\n",
    "        \n",
    "        if display == true\n",
    "            @printf(\"% 4d |    % 7.4e   |        % 7.2e       |   % 7.2e  |   % 7.2e  | % 7.2e  | % 7.2e\\n\", \n",
    "                k, c0+c'*x_k +quad_part/2, pdd, cond_rb, cond_rc,step_x, mu_k)\n",
    "        end\n",
    "        \n",
    "\n",
    "    end\n",
    "    \n",
    "    if display == true\n",
    "        criteria = [k >= max_iter,  opti_pdd, opti_rb, opti_rc, small_step_x, small_mu]\n",
    "        criteria_names = [\"reached max_iter\",  \"pdd <= eps\", \"cond_rb <= eps\", \"cond_rc <= eps\", \n",
    "            \"step_x <= small_step_x\", \"mu_k <= eps_mu\"]\n",
    "        println(\"\\n stopping criterion = \",criteria_names[findall(criteria)])\n",
    "    end\n",
    "    \n",
    "    elapsed_time = time() - start_time\n",
    "    \n",
    "    GenExStats = GenericExecutionStats(:acceptable, QM, solution = x_k,\n",
    "                               objective = c0 + c'*x_k + x_k'*Q*x_k/2 , \n",
    "                                dual_feas = norm(rc_k), primal_feas = norm(rb_k),\n",
    "                                multipliers = lambda_k,\n",
    "                                iter = k, elapsed_time=elapsed_time)\n",
    "    println(GenExStats)\n",
    "    \n",
    "    return OrderedDict(\"x_opt\" => x_k, \"lambda_opt\" => lambda_k, \"s_l_opt\" => s_k_l, \"s_u_opt\" => s_k_u, \n",
    "        \"n_iter\" => k, \"pdd\" => pdd, \"cond_rb\" => cond_rb, \"cond_rc\" => cond_rc)\n",
    "end"
   ]
  },
  {
   "cell_type": "markdown",
   "metadata": {},
   "source": [
    "### bibliothèque QuadraticModels\n",
    "\n",
    "optimize $c_0 + c'x + \\frac{1}{2} x'Hx ~~~~$ s.t. $~~L \\le Ax \\le U$ and $l \\le x \\le u$ \n",
    "\n",
    "Ici L = lcon, U = ucon, l = lvar, u = uvar"
   ]
  },
  {
   "cell_type": "code",
   "execution_count": 98,
   "metadata": {},
   "outputs": [],
   "source": [
    "# probleme1\n",
    "Q = [6 2 1\n",
    "    2 5 2\n",
    "    1 2 4]\n",
    "c = [-8; -3; -3]\n",
    "c0 = 0.\n",
    "A = [1 0 1\n",
    "    0 1 1]\n",
    "b = [0; 3]\n",
    "lvar = [0;0;0]\n",
    "uvar = [Inf; Inf; Inf]\n",
    "lcon = b\n",
    "ucon = b\n",
    "\n",
    "x01 = [1.; 2.; 3.];\n"
   ]
  },
  {
   "cell_type": "code",
   "execution_count": 99,
   "metadata": {},
   "outputs": [
    {
     "data": {
      "text/plain": [
       "QuadraticModel"
      ]
     },
     "execution_count": 99,
     "metadata": {},
     "output_type": "execute_result"
    }
   ],
   "source": [
    "QM = QuadraticModel(c, Q, A=A, lcon=lcon, ucon=ucon, lvar=lvar, uvar=uvar, x0=x01, c0=c0, name=\"QM1\")\n",
    "SM = SlackModel(QM)\n",
    "typeof(SM)"
   ]
  },
  {
   "cell_type": "code",
   "execution_count": 100,
   "metadata": {},
   "outputs": [
    {
     "name": "stdout",
     "output_type": "stream",
     "text": [
      "Iter | primal_objective | primal-dual difference | rb condition | rc condition |   step x   |     mu\n",
      "--------------------------------------------------------------------------------------------------------\n",
      "   0 |     1.4000e+01   |         6.67e-01       |    5.59e-01  |    2.37e-01  |  0.00e+00  |  1.67e+00\n",
      "   1 |     1.2894e+01   |         6.89e-03       |    2.96e-02  |    4.17e-02  |  1.34e+00  |  3.25e-02\n",
      "   2 |     1.3501e+01   |         1.31e-03       |    6.02e-04  |    8.48e-04  |  1.18e-01  |  2.00e-03\n",
      "   3 |     1.3500e+01   |         1.23e-06       |    6.26e-07  |    8.30e-07  |  2.27e-03  |  2.03e-06\n",
      "   4 |     1.3500e+01   |         1.23e-09       |    6.26e-10  |    8.30e-10  |  2.25e-06  |  2.03e-09\n",
      "   5 |     1.3500e+01   |         1.23e-12       |    6.26e-13  |    8.30e-13  |  2.25e-09  |  2.03e-12\n",
      "\n",
      " stopping criterion = [\"pdd <= eps\", \"cond_rb <= eps\", \"cond_rc <= eps\", \"step_x <= small_step_x\", \"mu_k <= eps_mu\"]\n"
     ]
    },
    {
     "ename": "MethodError",
     "evalue": "MethodError: no method matching GenericExecutionStats(::Symbol, ::QuadraticModel; solution=[2.047991330173787e-12, 3.0000000000009277, 1.9238794341633236e-13], objective=13.50000000000089, dual_feas=8.34885512966579e-12, primal_feas=2.5047322373864897e-12, multipliers=[-9.943359232775876, 12.000000000013133], iter=5, elapsed_time=0.2690000534057617)\nClosest candidates are:\n  GenericExecutionStats(::Symbol, ::AbstractNLPModel; solution, objective, dual_feas, primal_feas, iter, elapsed_time, solver_specific) at C:\\Users\\Geoffroy Leconte\\.julia\\packages\\SolverTools\\qgaY0\\src\\stats\\stats.jl:78 got unsupported keyword argument \"multipliers\"\n  GenericExecutionStats(::Any, ::Any, !Matched::Any, !Matched::Any, !Matched::Any, !Matched::Any, !Matched::Any, !Matched::Any, !Matched::Any) at C:\\Users\\Geoffroy Leconte\\.julia\\packages\\SolverTools\\qgaY0\\src\\stats\\stats.jl:58 got unsupported keyword arguments \"solution\", \"objective\", \"dual_feas\", \"primal_feas\", \"multipliers\", \"iter\", \"elapsed_time\"\n  GenericExecutionStats(::Symbol, !Matched::Array{T,1} where T, !Matched::Real, !Matched::Real, !Matched::Real, !Matched::Int64, !Matched::NLSCounters, !Matched::Real, !Matched::Dict{Symbol,Any}) at C:\\Users\\Geoffroy Leconte\\.julia\\packages\\SolverTools\\qgaY0\\src\\stats\\stats.jl:58 got unsupported keyword arguments \"solution\", \"objective\", \"dual_feas\", \"primal_feas\", \"multipliers\", \"iter\", \"elapsed_time\"",
     "output_type": "error",
     "traceback": [
      "MethodError: no method matching GenericExecutionStats(::Symbol, ::QuadraticModel; solution=[2.047991330173787e-12, 3.0000000000009277, 1.9238794341633236e-13], objective=13.50000000000089, dual_feas=8.34885512966579e-12, primal_feas=2.5047322373864897e-12, multipliers=[-9.943359232775876, 12.000000000013133], iter=5, elapsed_time=0.2690000534057617)\nClosest candidates are:\n  GenericExecutionStats(::Symbol, ::AbstractNLPModel; solution, objective, dual_feas, primal_feas, iter, elapsed_time, solver_specific) at C:\\Users\\Geoffroy Leconte\\.julia\\packages\\SolverTools\\qgaY0\\src\\stats\\stats.jl:78 got unsupported keyword argument \"multipliers\"\n  GenericExecutionStats(::Any, ::Any, !Matched::Any, !Matched::Any, !Matched::Any, !Matched::Any, !Matched::Any, !Matched::Any, !Matched::Any) at C:\\Users\\Geoffroy Leconte\\.julia\\packages\\SolverTools\\qgaY0\\src\\stats\\stats.jl:58 got unsupported keyword arguments \"solution\", \"objective\", \"dual_feas\", \"primal_feas\", \"multipliers\", \"iter\", \"elapsed_time\"\n  GenericExecutionStats(::Symbol, !Matched::Array{T,1} where T, !Matched::Real, !Matched::Real, !Matched::Real, !Matched::Int64, !Matched::NLSCounters, !Matched::Real, !Matched::Dict{Symbol,Any}) at C:\\Users\\Geoffroy Leconte\\.julia\\packages\\SolverTools\\qgaY0\\src\\stats\\stats.jl:58 got unsupported keyword arguments \"solution\", \"objective\", \"dual_feas\", \"primal_feas\", \"multipliers\", \"iter\", \"elapsed_time\"",
      "",
      "Stacktrace:",
      " [1] kwerr(::NamedTuple{(:solution, :objective, :dual_feas, :primal_feas, :multipliers, :iter, :elapsed_time),Tuple{Array{Float64,1},Float64,Float64,Float64,Array{Float64,1},Int64,Float64}}, ::Type{T} where T, ::Symbol, ::QuadraticModel) at .\\error.jl:157",
      " [2] MehrotraPCQuadBounds(::QuadraticModel, ::Int64; eps::Float64, tol_step_x::Float64, eps_mu::Float64, display::Bool) at .\\In[97]:187",
      " [3] MehrotraPCQuadBounds(::QuadraticModel, ::Int64) at .\\In[97]:4",
      " [4] top-level scope at In[100]:1"
     ]
    }
   ],
   "source": [
    "res_mpc1 =  MehrotraPCQuadBounds(SM, 20);\n",
    "display_results(res_mpc1)"
   ]
  },
  {
   "cell_type": "code",
   "execution_count": 26,
   "metadata": {},
   "outputs": [
    {
     "name": "stdout",
     "output_type": "stream",
     "text": [
      "Iter | primal_objective | primal-dual difference | rb condition | rc condition |   step x   |     mu\n",
      "--------------------------------------------------------------------------------------------------------\n",
      "   0 |     1.4000e+01   |         6.67e-01       |    5.59e-01  |    2.37e-01  |  0.00e+00  |  1.67e+00\n",
      "   1 |     1.2894e+01   |         6.89e-03       |    2.96e-02  |    4.17e-02  |  1.34e+00  |  3.25e-02\n",
      "   2 |     1.3501e+01   |         1.31e-03       |    6.02e-04  |    8.48e-04  |  1.18e-01  |  2.00e-03\n",
      "   3 |     1.3500e+01   |         1.23e-06       |    6.26e-07  |    8.30e-07  |  2.27e-03  |  2.03e-06\n",
      "   4 |     1.3500e+01   |         1.23e-09       |    6.26e-10  |    8.30e-10  |  2.25e-06  |  2.03e-09\n",
      "   5 |     1.3500e+01   |         1.23e-12       |    6.26e-13  |    8.30e-13  |  2.25e-09  |  2.03e-12\n",
      "\n",
      " stopping criterion = [\"pdd <= eps\", \"cond_rb <= eps\", \"cond_rc <= eps\", \"step_x <= small_step_x\", \"mu_k <= eps_mu\"]\n",
      "\n",
      "-----------------------------------------------------------------------\n",
      "------------------------------- RESULTS -------------------------------\n"
     ]
    },
    {
     "data": {
      "text/plain": [
       "OrderedDict{String,Any} with 8 entries:\n",
       "  \"x_opt\"      => [-2.04799e-12, -3.0, -1.92388e-13]\n",
       "  \"lambda_opt\" => [-9.94336, 12.0]\n",
       "  \"s_l_opt\"    => [0.0, 0.0, 0.0]\n",
       "  \"s_u_opt\"    => [1.94336, 6.38435e-13, 0.943359]\n",
       "  \"n_iter\"     => 5\n",
       "  \"pdd\"        => 1.23291e-12\n",
       "  \"cond_rb\"    => 6.26183e-13\n",
       "  \"cond_rc\"    => 8.30287e-13"
      ]
     },
     "execution_count": 26,
     "metadata": {},
     "output_type": "execute_result"
    }
   ],
   "source": [
    "#pb verif\n",
    "\n",
    "QM_verif = QuadraticModel(c*(-1), Q, A=A*(-1), lcon=lcon, ucon=ucon, lvar=-uvar, uvar=lvar, x0=x01, c0=c0, name=\"QM1\")\n",
    "SM_verif = SlackModel(QM_verif)\n",
    "res_mpc_verif =  MehrotraPCQuadBounds(SM_verif, 20);\n",
    "display_results(res_mpc_verif)"
   ]
  },
  {
   "cell_type": "code",
   "execution_count": 27,
   "metadata": {},
   "outputs": [
    {
     "name": "stdout",
     "output_type": "stream",
     "text": [
      "Iter | primal_objective | primal-dual difference | rb condition | rc condition |   step x   |     mu\n",
      "--------------------------------------------------------------------------------------------------------\n",
      "   0 |     1.0000e+00   |         3.33e-01       |    1.00e+00  |    9.57e-01  |  0.00e+00  |  1.00e+00\n",
      "   1 |     1.1111e-01   |         4.04e-01       |    0.00e+00  |    1.84e-16  |  1.19e+00  |  1.50e-01\n",
      "   2 |     6.4513e-03   |         6.75e-03       |    0.00e+00  |    5.55e-17  |  1.28e-01  |  2.26e-03\n",
      "   3 |     6.4513e-06   |         6.79e-06       |    0.00e+00  |    3.83e-20  |  7.89e-03  |  2.26e-06\n",
      "   4 |     6.4513e-09   |         6.79e-09       |    0.00e+00  |    1.11e-16  |  7.89e-06  |  2.26e-09\n",
      "   5 |     6.4513e-12   |         6.79e-12       |    0.00e+00  |    2.58e-26  |  7.89e-09  |  2.26e-12\n",
      "\n",
      " stopping criterion = [\"pdd <= eps\", \"cond_rb <= eps\", \"cond_rc <= eps\", \"step_x <= small_step_x\", \"mu_k <= eps_mu\"]\n",
      "\n",
      "-----------------------------------------------------------------------\n",
      "------------------------------- RESULTS -------------------------------\n"
     ]
    },
    {
     "data": {
      "text/plain": [
       "OrderedDict{String,Any} with 8 entries:\n",
       "  \"x_opt\"      => [6.45129e-12, 0.5, 0.5]\n",
       "  \"lambda_opt\" => [-3.38005e-13]\n",
       "  \"s_l_opt\"    => [1.0, 3.38005e-13, 3.38005e-13]\n",
       "  \"s_u_opt\"    => [0.0, 0.0, 0.0]\n",
       "  \"n_iter\"     => 5\n",
       "  \"pdd\"        => 6.7893e-12\n",
       "  \"cond_rb\"    => 0.0\n",
       "  \"cond_rc\"    => 2.58494e-26"
      ]
     },
     "execution_count": 27,
     "metadata": {},
     "output_type": "execute_result"
    }
   ],
   "source": [
    "### pb verif 2\n",
    "c2 = [1; 0; 0]\n",
    "A2 = Matrix([1, 1, 1]')\n",
    "b2 = [1];\n",
    "QM_verif2 = QuadraticModel(c2, zeros(3,3), A=A2, lcon=b2, ucon=b2, lvar=[0.;0;0], \n",
    "                uvar=[Inf; Inf; Inf], x0=x01, c0=c0, name=\"QMverfi2\")\n",
    "SM_verif2 = SlackModel(QM_verif2)\n",
    "res_mpc_verif2 =  MehrotraPCQuadBounds(SM_verif2, 20);\n",
    "display_results(res_mpc_verif2)"
   ]
  },
  {
   "cell_type": "markdown",
   "metadata": {},
   "source": [
    "# Lecture des donnees .SIF"
   ]
  },
  {
   "cell_type": "code",
   "execution_count": 28,
   "metadata": {},
   "outputs": [
    {
     "data": {
      "text/plain": [
       "displayQuadraticModel (generic function with 1 method)"
      ]
     },
     "execution_count": 28,
     "metadata": {},
     "output_type": "execute_result"
    }
   ],
   "source": [
    "\n",
    "function createQuadraticModel(qpdata, name_pb)\n",
    "    # probleme du point initial\n",
    "    x0 = init_x0(qpdata.lvar, qpdata.uvar)\n",
    "    return QuadraticModel(qpdata.c, qpdata.qrows, qpdata.qcols, qpdata.qvals,\n",
    "            Arows=qpdata.arows, Acols=qpdata.acols, Avals=qpdata.avals, \n",
    "            lcon=qpdata.lcon, ucon=qpdata.ucon, lvar=qpdata.lvar, uvar=qpdata.uvar,\n",
    "            c0=qpdata.c0, x0=x0, name=name_pb)\n",
    "end\n",
    "\n",
    "function displayQuadraticModel(QM)\n",
    "    #println(\"A = \", Matrix(jac(QM, QM.meta.x0)))\n",
    "    #println(\"Q = \", Matrix(hess(QM, QM.meta.x0)))\n",
    "    println(\"lvar = \", QM.meta.lvar)\n",
    "    println(\"uvar = \", QM.meta.uvar)\n",
    "    println(\"x0 = \", QM.meta.x0)\n",
    "    #println(\"lcon = \", QM.meta.lcon)\n",
    "    #println(\"ucon = \", QM.meta.ucon)\n",
    "end"
   ]
  },
  {
   "cell_type": "code",
   "execution_count": 29,
   "metadata": {},
   "outputs": [
    {
     "data": {
      "text/plain": [
       "\"C:\\\\Users\\\\Geoffroy Leconte\\\\Documents\\\\cours\\\\TFE\\\\code\\\\problemes_netlib\\\\AFIRO.SIF\""
      ]
     },
     "execution_count": 29,
     "metadata": {},
     "output_type": "execute_result"
    }
   ],
   "source": [
    "path_pb = \"C:\\\\Users\\\\Geoffroy Leconte\\\\Documents\\\\cours\\\\TFE\\\\code\\\\problemes_netlib\"\n",
    "afiro = string(path_pb, \"\\\\AFIRO.SIF\")"
   ]
  },
  {
   "cell_type": "code",
   "execution_count": 30,
   "metadata": {},
   "outputs": [
    {
     "name": "stderr",
     "output_type": "stream",
     "text": [
      "┌ Info: Using 'AFIRO' as NAME (l. 5)\n",
      "└ @ QPSReader C:\\Users\\Geoffroy Leconte\\.julia\\packages\\QPSReader\\usDQr\\src\\readqps.jl:751\n",
      "┌ Info: Using 'COST' as objective (l. 47)\n",
      "└ @ QPSReader C:\\Users\\Geoffroy Leconte\\.julia\\packages\\QPSReader\\usDQr\\src\\readqps.jl:350\n",
      "┌ Info: Using 'B' as RHS (l. 96)\n",
      "└ @ QPSReader C:\\Users\\Geoffroy Leconte\\.julia\\packages\\QPSReader\\usDQr\\src\\readqps.jl:470\n"
     ]
    }
   ],
   "source": [
    "qpdata2 = readqps(afiro)  # obj   -4.6475314286E+02\n",
    "qpdata2.contypes\n",
    "QM2 = createQuadraticModel(qpdata2, \"LP2\")\n",
    "SM2 = SlackModel(QM2);\n",
    "#displayQuadraticModel(SM2)"
   ]
  },
  {
   "cell_type": "code",
   "execution_count": 31,
   "metadata": {},
   "outputs": [
    {
     "name": "stdout",
     "output_type": "stream",
     "text": [
      "Iter | primal_objective | primal-dual difference | rb condition | rc condition |   step x   |     mu\n",
      "--------------------------------------------------------------------------------------------------------\n",
      "   0 |     4.3820e+02   |         6.83e-01       |    4.44e-01  |    9.54e-01  |  0.00e+00  |  3.64e+01\n",
      "   1 |     3.4744e+02   |         5.55e+00       |    4.22e-01  |    9.22e-01  |  1.45e+01  |  3.61e+01\n",
      "   2 |    -5.4715e+00   |         2.38e+02       |    3.85e-01  |    8.58e-01  |  6.16e+01  |  3.54e+01\n",
      "   3 |     3.6743e+01   |         3.61e+01       |    3.84e-16  |    7.04e-01  |  2.20e+02  |  3.31e+01\n",
      "   4 |     6.7364e+01   |         1.07e+01       |    4.28e-16  |    3.31e-01  |  4.45e+01  |  1.76e+01\n",
      "   5 |    -1.5940e+02   |         1.70e+00       |    5.84e-16  |    1.83e-01  |  3.13e+02  |  9.31e+00\n",
      "   6 |    -4.0241e+02   |         3.17e-01       |    2.29e-15  |    4.03e-02  |  4.98e+02  |  3.99e+00\n",
      "   7 |    -4.5934e+02   |         4.20e-02       |    1.03e-15  |    8.04e-03  |  1.06e+02  |  6.96e-01\n",
      "   8 |    -4.6350e+02   |         5.62e-03       |    1.62e-15  |    2.43e-04  |  1.59e+01  |  6.09e-02\n",
      "   9 |    -4.6475e+02   |         6.39e-06       |    9.55e-16  |    2.56e-07  |  2.11e+00  |  6.86e-05\n",
      "  10 |    -4.6475e+02   |         6.39e-09       |    1.85e-15  |    2.56e-10  |  2.53e-03  |  6.86e-08\n",
      "  11 |    -4.6475e+02   |         6.39e-12       |    2.19e-15  |    2.56e-13  |  2.57e-06  |  6.86e-11\n",
      "\n",
      " stopping criterion = [\"pdd <= eps\", \"cond_rb <= eps\", \"cond_rc <= eps\", \"mu_k <= eps_mu\"]\n",
      "\n",
      "-----------------------------------------------------------------------\n",
      "------------------------------- RESULTS -------------------------------\n"
     ]
    },
    {
     "data": {
      "text/plain": [
       "OrderedDict{String,Any} with 8 entries:\n",
       "  \"x_opt\"      => [80.0, 25.5, 54.5, 84.8, 46.7321, 3.34594e-11, 3.31488e-11, 3…\n",
       "  \"lambda_opt\" => [-0.628571, 2.18196e-11, -0.344771, -0.228571, -1.30837e-12, …\n",
       "  \"s_l_opt\"    => [7.57324e-13, 5.26156e-12, 6.86417e-13, 7.14501e-13, 1.25103e…\n",
       "  \"s_u_opt\"    => [0.0, 0.0, 0.0, 0.0, 0.0, 0.0, 0.0, 0.0, 0.0, 0.0  …  1.28067…\n",
       "  \"n_iter\"     => 11\n",
       "  \"pdd\"        => 6.39303e-12\n",
       "  \"cond_rb\"    => 2.19009e-15\n",
       "  \"cond_rc\"    => 2.56398e-13"
      ]
     },
     "execution_count": 31,
     "metadata": {},
     "output_type": "execute_result"
    }
   ],
   "source": [
    "res_mpc2 =  MehrotraPCQuadBounds(SM2, 1000, tol_step_x = 1e-10);\n",
    "display_results(res_mpc2)"
   ]
  },
  {
   "cell_type": "code",
   "execution_count": 32,
   "metadata": {},
   "outputs": [
    {
     "name": "stderr",
     "output_type": "stream",
     "text": [
      "┌ Info: Using 'KB2' as NAME (l. 5)\n",
      "└ @ QPSReader C:\\Users\\Geoffroy Leconte\\.julia\\packages\\QPSReader\\usDQr\\src\\readqps.jl:751\n",
      "┌ Info: Using 'FAT7..J.' as objective (l. 20)\n",
      "└ @ QPSReader C:\\Users\\Geoffroy Leconte\\.julia\\packages\\QPSReader\\usDQr\\src\\readqps.jl:350\n",
      "┌ Info: Using '77BOUND' as BOUNDS (l. 227)\n",
      "└ @ QPSReader C:\\Users\\Geoffroy Leconte\\.julia\\packages\\QPSReader\\usDQr\\src\\readqps.jl:622\n"
     ]
    }
   ],
   "source": [
    "# problem 3   kb2    obj  -1.7499001299E+03\n",
    "kb2 = string(path_pb, \"\\\\KB2.SIF\")\n",
    "qpdata3 = readqps(kb2)\n",
    "QM3 = createQuadraticModel(qpdata3, \"QM3\")\n",
    "SM3 = SlackModel(QM3);"
   ]
  },
  {
   "cell_type": "code",
   "execution_count": 33,
   "metadata": {},
   "outputs": [
    {
     "name": "stdout",
     "output_type": "stream",
     "text": [
      "Iter | primal_objective | primal-dual difference | rb condition | rc condition |   step x   |     mu\n",
      "--------------------------------------------------------------------------------------------------------\n",
      "   0 |     1.1675e+01   |         9.21e-01       |    2.49e+03  |    4.63e-01  |  0.00e+00  |  6.18e+00\n",
      "   1 |     2.4577e+01   |         1.05e+01       |    2.08e+03  |    2.52e-01  |  2.93e+00  |  4.63e+00\n",
      "   2 |     9.7097e-01   |         5.71e+01       |    4.40e+02  |    1.11e-01  |  6.36e+00  |  1.86e+00\n",
      "   3 |    -6.3645e+00   |         9.90e+00       |    2.04e+02  |    7.76e-02  |  2.74e+01  |  1.37e+00\n",
      "   4 |    -3.0768e+01   |         7.38e-01       |    7.82e+01  |    5.18e-02  |  1.26e+02  |  1.04e+00\n",
      "   5 |    -3.3028e+02   |         8.64e-01       |    5.41e-13  |    4.01e-02  |  1.54e+03  |  1.47e+00\n",
      "   6 |    -5.2433e+02   |         8.69e-01       |    7.05e-13  |    3.82e-02  |  9.83e+02  |  1.80e+00\n",
      "   7 |    -6.2643e+02   |         8.27e-01       |    1.03e-12  |    3.74e-02  |  5.86e+02  |  2.36e+00\n",
      "   8 |    -9.4286e+02   |         8.40e-01       |    1.31e-12  |    3.62e-02  |  1.75e+03  |  3.05e+00\n",
      "   9 |    -1.1042e+03   |         7.89e-01       |    1.48e-12  |    3.46e-02  |  9.30e+02  |  3.79e+00\n",
      "  10 |    -1.2959e+03   |         7.83e-01       |    1.59e-12  |    3.38e-02  |  1.09e+03  |  4.53e+00\n",
      "  11 |    -1.0653e+03   |         5.72e-01       |    1.17e-12  |    3.05e-02  |  1.22e+03  |  5.31e+00\n",
      "  12 |    -1.3305e+03   |         5.44e-01       |    1.46e-12  |    2.72e-02  |  1.64e+03  |  6.00e+00\n",
      "  13 |    -1.3655e+03   |         1.73e-01       |    2.64e-12  |    1.85e-02  |  2.34e+02  |  7.66e+00\n",
      "  14 |    -1.6859e+03   |         2.45e-01       |    2.69e-12  |    1.56e-02  |  1.97e+03  |  5.94e+00\n",
      "  15 |    -1.7223e+03   |         3.99e-02       |    1.77e-12  |    3.18e-03  |  3.71e+02  |  1.49e+00\n",
      "  16 |    -1.7339e+03   |         2.06e-02       |    2.00e-12  |    3.32e-04  |  1.82e+02  |  7.09e-01\n",
      "  17 |    -1.7466e+03   |         5.82e-03       |    3.18e-12  |    6.03e-05  |  4.11e+02  |  1.78e-01\n",
      "  18 |    -1.7488e+03   |         2.14e-03       |    2.38e-12  |    1.55e-05  |  1.05e+02  |  6.05e-02\n",
      "  19 |    -1.7496e+03   |         4.90e-04       |    2.24e-12  |    2.38e-16  |  2.09e+02  |  1.11e-02\n",
      "  20 |    -1.7499e+03   |         1.06e-04       |    2.34e-12  |    3.69e-16  |  7.52e+01  |  2.41e-03\n",
      "\n",
      " stopping criterion = [\"reached max_iter\", \"cond_rb <= eps\", \"cond_rc <= eps\"]\n",
      "\n",
      "-----------------------------------------------------------------------\n",
      "------------------------------- RESULTS -------------------------------\n"
     ]
    },
    {
     "data": {
      "text/plain": [
       "OrderedDict{String,Any} with 8 entries:\n",
       "  \"x_opt\"      => [0.909072, 0.000270472, 0.0121787, 0.00829969, 4.59991, 26.98…\n",
       "  \"lambda_opt\" => [17.2763, 17.211, 16.9402, 16.6568, 11.9999, 17.2139, 17.431,…\n",
       "  \"s_l_opt\"    => [0.00251664, 0.0583318, 0.0450346, 0.099087, 0.000546074, 0.0…\n",
       "  \"s_u_opt\"    => [0.0, 0.000260407, 0.0, 0.0, 0.0, 0.0, 0.0, 0.0, 0.0, 0.0  … …\n",
       "  \"n_iter\"     => 20\n",
       "  \"pdd\"        => 0.00010617\n",
       "  \"cond_rb\"    => 2.33524e-12\n",
       "  \"cond_rc\"    => 3.68976e-16"
      ]
     },
     "execution_count": 33,
     "metadata": {},
     "output_type": "execute_result"
    }
   ],
   "source": [
    "res_mpc3 =  MehrotraPCQuadBounds(SM3, 20, tol_step_x = 1e-12);\n",
    "display_results(res_mpc3)"
   ]
  },
  {
   "cell_type": "code",
   "execution_count": 34,
   "metadata": {},
   "outputs": [
    {
     "name": "stderr",
     "output_type": "stream",
     "text": [
      "┌ Info: Using 'SC50A' as NAME (l. 5)\n",
      "└ @ QPSReader C:\\Users\\Geoffroy Leconte\\.julia\\packages\\QPSReader\\usDQr\\src\\readqps.jl:751\n",
      "┌ Info: Using 'MAXIM' as objective (l. 20)\n",
      "└ @ QPSReader C:\\Users\\Geoffroy Leconte\\.julia\\packages\\QPSReader\\usDQr\\src\\readqps.jl:350\n",
      "┌ Info: Using 'CONST' as RHS (l. 153)\n",
      "└ @ QPSReader C:\\Users\\Geoffroy Leconte\\.julia\\packages\\QPSReader\\usDQr\\src\\readqps.jl:470\n"
     ]
    }
   ],
   "source": [
    "# problem 4 SC50A  obj  -6.4575077059E+01\n",
    "SC50A = string(path_pb, \"\\\\SC50A.SIF\")\n",
    "qpdata4 = readqps(SC50A)\n",
    "QM4 = createQuadraticModel(qpdata4, \"QM4\")\n",
    "SM4 = SlackModel(QM4);"
   ]
  },
  {
   "cell_type": "code",
   "execution_count": 35,
   "metadata": {},
   "outputs": [
    {
     "name": "stdout",
     "output_type": "stream",
     "text": [
      "Iter | primal_objective | primal-dual difference | rb condition | rc condition |   step x   |     mu\n",
      "--------------------------------------------------------------------------------------------------------\n",
      "   0 |    -1.0000e+00   |         5.00e-01       |    1.30e+01  |    4.42e+00  |  0.00e+00  |  2.01e+01\n",
      "   1 |    -8.1774e-01   |         5.84e+02       |    1.30e-02  |    3.06e+00  |  3.55e+01  |  1.45e+01\n",
      "   2 |    -8.9022e-01   |         2.36e+01       |    1.30e-05  |    1.30e-01  |  7.66e-01  |  6.12e-01\n",
      "   3 |    -9.3339e+00   |         3.42e+00       |    1.04e-05  |    1.23e-01  |  1.11e+02  |  5.93e-01\n",
      "   4 |    -3.2552e+01   |         4.92e-01       |    7.80e-06  |    7.91e-02  |  3.01e+02  |  4.57e-01\n",
      "   5 |    -5.4487e+01   |         1.03e-02       |    2.91e-06  |    6.01e-02  |  2.99e+02  |  3.24e-01\n",
      "   6 |    -6.0759e+01   |         2.04e-02       |    8.31e-07  |    2.89e-02  |  1.03e+02  |  1.96e-01\n",
      "   7 |    -6.3542e+01   |         1.94e-02       |    1.64e-07  |    2.04e-03  |  5.39e+01  |  2.90e-02\n",
      "   8 |    -6.4402e+01   |         3.31e-03       |    3.14e-08  |    1.24e-16  |  2.33e+01  |  2.79e-03\n",
      "   9 |    -6.4563e+01   |         3.50e-04       |    3.14e-11  |    8.27e-17  |  3.51e+00  |  2.94e-04\n",
      "  10 |    -6.4575e+01   |         3.53e-07       |    9.42e-14  |    5.74e-17  |  3.91e-01  |  2.97e-07\n",
      "  11 |    -6.4575e+01   |         3.53e-10       |    9.75e-14  |    4.71e-17  |  3.92e-04  |  2.97e-10\n",
      "  12 |    -6.4575e+01   |         3.53e-13       |    9.54e-14  |    5.21e-17  |  3.92e-07  |  2.97e-13\n",
      "\n",
      " stopping criterion = [\"pdd <= eps\", \"cond_rb <= eps\", \"cond_rc <= eps\", \"mu_k <= eps_mu\"]\n",
      "\n",
      "-----------------------------------------------------------------------\n",
      "------------------------------- RESULTS -------------------------------\n"
     ]
    },
    {
     "data": {
      "text/plain": [
       "OrderedDict{String,Any} with 8 entries:\n",
       "  \"x_opt\"      => [1.76119e-11, 16.5687, 64.5751, 64.5751, 64.5751, 1.76119e-11…\n",
       "  \"lambda_opt\" => [-4.28388e-15, -0.138705, -513941.0, -0.208058, -0.124759, -0…\n",
       "  \"s_l_opt\"    => [0.013946, 1.49751e-14, 3.7416e-15, 3.74898e-15, 3.74898e-15,…\n",
       "  \"s_u_opt\"    => [0.0, 0.0, 0.0, 0.0, 0.0, 0.0, 0.0, 0.0, 0.0, 0.0  …  0.02311…\n",
       "  \"n_iter\"     => 12\n",
       "  \"pdd\"        => 3.53456e-13\n",
       "  \"cond_rb\"    => 9.53975e-14\n",
       "  \"cond_rc\"    => 5.20628e-17"
      ]
     },
     "execution_count": 35,
     "metadata": {},
     "output_type": "execute_result"
    }
   ],
   "source": [
    "res_mpc4 =  MehrotraPCQuadBounds(SM4, 20, tol_step_x = 1e-12);\n",
    "display_results(res_mpc4)"
   ]
  },
  {
   "cell_type": "code",
   "execution_count": 36,
   "metadata": {},
   "outputs": [
    {
     "name": "stdout",
     "output_type": "stream",
     "text": [
      "type of the fieldname nvar is Int64\n",
      "type of the fieldname x0 is Array{T,1} where T\n",
      "type of the fieldname lvar is Array{T,1} where T\n",
      "type of the fieldname uvar is Array{T,1} where T\n",
      "type of the fieldname ifix is Array{Int64,1}\n",
      "type of the fieldname ilow is Array{Int64,1}\n",
      "type of the fieldname iupp is Array{Int64,1}\n",
      "type of the fieldname irng is Array{Int64,1}\n",
      "type of the fieldname ifree is Array{Int64,1}\n",
      "type of the fieldname iinf is Array{Int64,1}\n",
      "type of the fieldname nbv is Int64\n",
      "type of the fieldname niv is Int64\n",
      "type of the fieldname nlvb is Int64\n",
      "type of the fieldname nlvo is Int64\n",
      "type of the fieldname nlvc is Int64\n",
      "type of the fieldname nlvbi is Int64\n",
      "type of the fieldname nlvci is Int64\n",
      "type of the fieldname nlvoi is Int64\n",
      "type of the fieldname nwv is Int64\n",
      "type of the fieldname ncon is Int64\n",
      "type of the fieldname y0 is Array{T,1} where T\n",
      "type of the fieldname lcon is Array{T,1} where T\n",
      "type of the fieldname ucon is Array{T,1} where T\n",
      "type of the fieldname jfix is Array{Int64,1}\n",
      "type of the fieldname jlow is Array{Int64,1}\n",
      "type of the fieldname jupp is Array{Int64,1}\n",
      "type of the fieldname jrng is Array{Int64,1}\n",
      "type of the fieldname jfree is Array{Int64,1}\n",
      "type of the fieldname jinf is Array{Int64,1}\n",
      "type of the fieldname nnzo is Int64\n",
      "type of the fieldname nnzj is Int64\n",
      "type of the fieldname nnzh is Int64\n",
      "type of the fieldname nlin is Int64\n",
      "type of the fieldname nnln is Int64\n",
      "type of the fieldname nnnet is Int64\n",
      "type of the fieldname nlnet is Int64\n",
      "type of the fieldname lin is Array{Int64,1}\n",
      "type of the fieldname nln is Array{Int64,1}\n",
      "type of the fieldname nnet is Array{Int64,1}\n",
      "type of the fieldname lnet is Array{Int64,1}\n",
      "type of the fieldname minimize is Bool\n",
      "type of the fieldname nlo is Int64\n",
      "type of the fieldname islp is Bool\n",
      "type of the fieldname name is String\n"
     ]
    }
   ],
   "source": [
    "T = typeof(SM3.meta)\n",
    "for (name, typ) in zip(fieldnames(T), T.types)\n",
    "    println(\"type of the fieldname $name is $typ\")\n",
    "end"
   ]
  },
  {
   "cell_type": "code",
   "execution_count": 37,
   "metadata": {},
   "outputs": [
    {
     "data": {
      "text/plain": [
       "true"
      ]
     },
     "execution_count": 37,
     "metadata": {},
     "output_type": "execute_result"
    }
   ],
   "source": [
    "typeof(SM3.model) == QuadraticModel"
   ]
  },
  {
   "cell_type": "code",
   "execution_count": null,
   "metadata": {},
   "outputs": [],
   "source": []
  },
  {
   "cell_type": "code",
   "execution_count": null,
   "metadata": {},
   "outputs": [],
   "source": []
  }
 ],
 "metadata": {
  "kernelspec": {
   "display_name": "Julia 1.4.0",
   "language": "julia",
   "name": "julia-1.4"
  },
  "language_info": {
   "file_extension": ".jl",
   "mimetype": "application/julia",
   "name": "julia",
   "version": "1.4.0"
  }
 },
 "nbformat": 4,
 "nbformat_minor": 4
}
