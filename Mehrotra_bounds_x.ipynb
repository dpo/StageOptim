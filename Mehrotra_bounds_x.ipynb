{
 "cells": [
  {
   "cell_type": "markdown",
   "metadata": {},
   "source": [
    "# Problèmes\n",
    "\n",
    "### 1)\n",
    "Primal: $\\underset{x \\in \\mathbb{R}^3}{\\min} \\frac{1}{2} x' Q x + c' x ~~~~~~~~ s.t. ~ A x = b ~, ~~ x \\ge 0$\n",
    "\n",
    "with  $Q = \\begin{bmatrix} 6 & 2 & 1\\\\ 2 & 5 & 2\\\\ 1 & 2 & 4 \\end{bmatrix} $, $c = \\begin{bmatrix} -8 \\\\ -3 \\\\ -3 \\end{bmatrix}$, $A = \\begin{bmatrix} 1 & 0 &1 \\\\ 0 & 1 & 1 \\end{bmatrix}$ , and $b = \\begin{bmatrix} 3 \\\\ 0 \\end{bmatrix} $.\n",
    "\n",
    "\n",
    "### 2) \n",
    "AFIRO        28 rows    32 cols        88 nonzeros       794 bytes      -4.6475314286E+02 optimalvalue"
   ]
  },
  {
   "cell_type": "code",
   "execution_count": 353,
   "metadata": {},
   "outputs": [],
   "source": [
    "using LinearAlgebra\n",
    "using LaTeXStrings\n",
    "using DataFrames\n",
    "using DataStructures\n",
    "using QuadraticModels\n",
    "using Printf\n",
    "using SparseArrays\n",
    "using BenchmarkTools\n",
    "using NLPModels\n",
    "using LinearOperators\n",
    "using QPSReader\n",
    "using SolverTools\n",
    "using SolverBenchmark\n",
    "using LDLFactorizations"
   ]
  },
  {
   "cell_type": "markdown",
   "metadata": {},
   "source": [
    "# Mehrotra formulation plus générale:\n",
    "\n",
    "min $c_0 + c'x + \\frac{1}{2} x'Hx ~~~~$ s.t. $ Ax = b $ and $l \\le x \\le u$ "
   ]
  },
  {
   "cell_type": "code",
   "execution_count": 1038,
   "metadata": {},
   "outputs": [
    {
     "data": {
      "text/plain": [
       "starting_points4 (generic function with 1 method)"
      ]
     },
     "execution_count": 1038,
     "metadata": {},
     "output_type": "execute_result"
    }
   ],
   "source": [
    "function display_results(result)\n",
    "    # fonction pour l'affichage\n",
    "    println(\"\\n-----------------------------------------------------------------------\")\n",
    "    println(\"------------------------------- RESULTS -------------------------------\")\n",
    "    result\n",
    "end\n",
    "\n",
    "function init_x0(lvar, uvar)\n",
    "    # choice of an init point x0\n",
    "    x0 = zeros(length(lvar))\n",
    "    for i=1:length(x0)\n",
    "        if lvar[i] == -Inf && uvar[i] == Inf\n",
    "            x0[i] = 0.\n",
    "        elseif lvar[i] == -Inf && uvar[i] != Inf\n",
    "            x0[i] = uvar[i] - 1.\n",
    "        elseif lvar[i] != -Inf && uvar[i] == Inf\n",
    "            x0[i] = lvar[i] + 1.\n",
    "        else\n",
    "            x0[i] = (lvar[i] + uvar[i]) / 2 \n",
    "        end\n",
    "    end  \n",
    "    return x0\n",
    "end\n",
    "\n",
    "function init_x0_lsq(A, b, lvar, uvar)\n",
    "    x_tilde = A\\b\n",
    "    n = length(x_tilde)\n",
    "    for i=1:n\n",
    "        if x_tilde[i] <= lvar[i]\n",
    "            x_tilde[i] = lvar[i] + 1.\n",
    "        elseif uvar[i] <= x_tilde[i]\n",
    "            x_tilde[i] = uvar[i] - 1.\n",
    "        end\n",
    "        if !(lvar[i] < x_tilde[i] < uvar[i])\n",
    "            x_tilde[i] = (lvar[i] + uvar[i]) / 2.\n",
    "        end\n",
    "    end\n",
    "\n",
    "    return x_tilde\n",
    "end\n",
    "\n",
    "function starting_points(Q, A, b, c, lvar, uvar, ilow, iupp, irng, J_augm, ρ, n_rows, n_cols)\n",
    "\n",
    "    tmp_diag = vcat(-ρ*ones(n_cols),spzeros(n_rows))\n",
    "\n",
    "    J_fact = ldlt(Symmetric(J_augm-Diagonal(tmp_diag), :U))\n",
    "    init_xλ = J_fact \\ [c ; b ]\n",
    "    x0 = init_xλ[1:n_cols]\n",
    "    λ0 = init_xλ[n_cols+1:end]\n",
    "    s0_l, s0_u = zeros(n_cols), zeros(n_cols)\n",
    "    dual_val = Q*x0 - A'*λ0 + c\n",
    "    s0_l[ilow] = dual_val[ilow]\n",
    "    s0_u[iupp] = -dual_val[iupp]\n",
    "\n",
    "    x0_l1, x0_u1 = x0[ilow], x0[iupp]\n",
    "    if length(ilow) == 0\n",
    "        δx_l1, δs_l1 = 0., 0.\n",
    "    else\n",
    "        δx_l1 = max(-1.5*minimum(x0_l1 - lvar[ilow]), 0.)\n",
    "        δs_l1 = max(-1.5*minimum(s0_l[ilow]), 0.)\n",
    "    end\n",
    "\n",
    "    if length(iupp) == 0\n",
    "        δx_u1, δs_u1 = 0., 0.\n",
    "    else\n",
    "        δx_u1 = max(-1.5*minimum((uvar[iupp] - x0_u1)), 0.)\n",
    "        δs_u1 = max(-1.5*minimum(s0_u[iupp]), 0.)\n",
    "    end\n",
    "    \n",
    "    x0_l1 .+= δx_l1\n",
    "    x0_u1 .-= δx_u1\n",
    "    s0_l1 = s0_l[ilow] .+ δs_l1\n",
    "    s0_u1 = s0_u[iupp] .+ δs_u1\n",
    "    xs_l1, xs_u1 = s0_l1'*(x0_l1 - lvar[ilow]), s0_u1'*(uvar[iupp] - x0_u1)\n",
    "    if length(ilow) == 0\n",
    "        δx_l2, δs_l2 = 0., 0.\n",
    "    else\n",
    "        δx_l2 = δx_l1 + 0.5 *  xs_l1 / sum(s0_l1)\n",
    "        δs_l2 = δs_l1 + 0.5 * xs_l1 / sum(x0_l1-lvar[ilow])\n",
    "    end\n",
    "    if length(iupp) == 0\n",
    "        δx_u2, δs_u2 = 0., 0.\n",
    "    else\n",
    "        δx_u2 = δx_u1 + 0.5 *  xs_u1 / sum(s0_u1)\n",
    "        δs_u2 = δs_u1 + 0.5 * xs_u1 / sum(uvar[iupp]-x0_u1)\n",
    "    end\n",
    "    println(δx_l1)\n",
    "    x0[ilow] .+= δx_l2 \n",
    "    x0[iupp] .-= δx_u2\n",
    "    s0_l[ilow] = s0_l[ilow] .+ max(δs_l2, δs_u2)\n",
    "    s0_u[iupp] = s0_u[iupp] .+ max(δs_l2, δs_u2)\n",
    "\n",
    "    for i in irng\n",
    "        if (lvar[i] < x0[i] < uvar[i]) == false\n",
    "            x0[i] = (lvar[i] + uvar[i]) / 2.\n",
    "        end\n",
    "    end\n",
    "\n",
    "    @assert all(x0 .> lvar) && all(x0 .< uvar)\n",
    "    @assert all(s0_l[ilow] .> 0) && all(s0_u[iupp] .> 0)\n",
    "\n",
    "    return x0, λ0, s0_l, s0_u\n",
    "end\n",
    "\n",
    "\n",
    "\n",
    "function starting_points2(Q, A, b, c, lvar, uvar, ilow, iupp, irng, J_augm, ρ, n_rows, n_cols)\n",
    "\n",
    "    tmp_diag = vcat(-ones(n_cols),spzeros(n_rows))\n",
    "\n",
    "    J_fact = ldlt(Symmetric(J_augm-Diagonal(tmp_diag), :U))\n",
    "    init_xλ = J_fact \\ [zeros(n_cols) ; b ]\n",
    "    x0 = init_xλ[1:n_cols]\n",
    "    λ0 = init_xλ[n_cols+1:end]\n",
    "    s0_l, s0_u = zeros(n_cols), zeros(n_cols)\n",
    "    dual_val = Q*x0 - A'*λ0 + c\n",
    "    s0_l[ilow] = dual_val[ilow]\n",
    "    s0_u[iupp] = -dual_val[iupp]\n",
    "\n",
    "    x0_l1, x0_u1 = x0[ilow], x0[iupp]\n",
    "\n",
    "    for i in ilow\n",
    "        δx_l = max(-1.5*(x0[i] - lvar[i]), 1.)\n",
    "        δs_l = max(-1.5*s0_l[i], 1e-6)\n",
    "        x0[i] += δx_l \n",
    "        s0_l[i] += δs_l \n",
    "    end\n",
    "\n",
    "    for i in iupp\n",
    "        δx_u = max(-1.5*(uvar[i] - x0[i]), 1.)\n",
    "        δs_u = max(-1.5*s0_u[i], 1.e-6)\n",
    "        x0[i] -= δx_u \n",
    "        s0_u[i] += δs_u \n",
    "    end\n",
    "\n",
    "    for i in irng\n",
    "        if (lvar[i] < x0[i] < uvar[i]) == false\n",
    "            x0[i] = (lvar[i] + uvar[i]) / 2.\n",
    "        end\n",
    "    end\n",
    "\n",
    "    @assert all(x0 .> lvar) && all(x0 .< uvar)\n",
    "    @assert all(s0_l[ilow] .> 0) && all(s0_u[iupp] .> 0)\n",
    "\n",
    "    return x0, λ0, s0_l, s0_u\n",
    "end\n",
    "\n",
    "\n",
    "function starting_points3(Q, A, b, c, lvar, uvar, ilow, iupp, irng, J_augm, ρ, n_rows, n_cols)\n",
    "\n",
    "    tmp_diag = vcat(-ones(n_cols),spzeros(n_rows))\n",
    "\n",
    "    #J_fact = ldlt(Symmetric(J_augm-Diagonal(tmp_diag), :U))\n",
    "    J_fact = ldl(Symmetric(J_augm-Diagonal(tmp_diag), :U))\n",
    "    J_P = J_fact.P\n",
    "    init_xλ = J_fact \\ [zeros(n_cols) ; b]\n",
    "    x0 = init_xλ[1:n_cols]\n",
    "    λ0 = init_xλ[n_cols+1:end]\n",
    "    s0_l, s0_u = zeros(n_cols), zeros(n_cols)\n",
    "    dual_val = Q*x0 - A'*λ0 + c\n",
    "    s0_l[ilow] = @views dual_val[ilow]\n",
    "    s0_u[iupp] = @views -dual_val[iupp]\n",
    "\n",
    "    x0_l1, x0_u1 = x0[ilow], x0[iupp]\n",
    "    if length(ilow) == 0\n",
    "        δx_l1, δs_l1 = 0., 0.\n",
    "    else\n",
    "        δx_l1 = @views max(-1.5*minimum(x0_l1 - lvar[ilow]), 1.)\n",
    "        δs_l1 = @views max(-1.5*minimum(s0_l[ilow]), 1.e-6)\n",
    "    end\n",
    "    \n",
    "    if length(iupp) == 0\n",
    "        δx_u1, δs_u1 = 0., 0.\n",
    "    else\n",
    "        δx_u1 = @views max(-1.5*minimum((uvar[iupp] - x0_u1)), 1.)\n",
    "        δs_u1 = @views max(-1.5*minimum(s0_u[iupp]), 1.e-6)\n",
    "    end\n",
    "    \n",
    "    x0_l1 .+= δx_l1\n",
    "    x0_u1 .-= δx_u1\n",
    "    s0_l1 = @views s0_l[ilow] .+ δs_l1\n",
    "    s0_u1 = @views s0_u[iupp] .+ δs_u1\n",
    "    xs_l1, xs_u1 = @views s0_l1'*(x0_l1 - lvar[ilow]), s0_u1'*(uvar[iupp] - x0_u1)\n",
    "    if length(ilow) == 0\n",
    "        δx_l2, δs_l2 = 0., 0.\n",
    "    else\n",
    "        δx_l2 = δx_l1 + 0.5 *  xs_l1 / sum(s0_l1)\n",
    "        δs_l2 = @views δs_l1 + 0.5 * xs_l1 / sum(x0_l1-lvar[ilow])\n",
    "    end\n",
    "    if length(iupp) == 0\n",
    "        δx_u2, δs_u2 = 0., 0.\n",
    "    else\n",
    "        δx_u2 = δx_u1 + 0.5 *  xs_u1 / sum(s0_u1)\n",
    "        δs_u2 = @views δs_u1 + 0.5 * xs_u1 / sum(uvar[iupp]-x0_u1)\n",
    "    end\n",
    "    x0[ilow] .+= δx_l2 \n",
    "    x0[iupp] .-= δx_u2\n",
    "    s0_l[ilow] = @views s0_l[ilow] .+ max(δs_l2, δs_u2)\n",
    "    s0_u[iupp] = @views s0_u[iupp] .+ max(δs_l2, δs_u2)\n",
    "\n",
    "    for i in irng\n",
    "        if (lvar[i] < x0[i] < uvar[i]) == false\n",
    "            x0[i] = (lvar[i] + uvar[i]) / 2.\n",
    "        end\n",
    "    end\n",
    "\n",
    "    @assert all(x0 .> lvar) && all(x0 .< uvar)\n",
    "    @assert @views all(s0_l[ilow] .> 0) && all(s0_u[iupp] .> 0)\n",
    "\n",
    "    return x0, λ0, s0_l, s0_u, J_P\n",
    "end\n",
    "\n",
    "function starting_points4(Q, A, b, c, lvar, uvar, ilow, iupp, irng, J_augm, ρ, n_rows, n_cols)\n",
    "\n",
    "    x0 = A\\b\n",
    "    \n",
    "    if length(ilow) == 0\n",
    "        δx_l1 = 0.\n",
    "    else\n",
    "        δx_l1 = max(-1.5*minimum(x0[ilow] - lvar[ilow]), 1.)\n",
    "    end\n",
    "\n",
    "    if length(iupp) == 0\n",
    "        δx_u1 = 0.\n",
    "    else\n",
    "        δx_u1 = max(-1.5*minimum((uvar[iupp] - x0[iupp])), 1.)\n",
    "    end\n",
    "    \n",
    "    x0[ilow] .+= δx_l1\n",
    "    x0[iupp] .-= δx_u1\n",
    "    \n",
    "    for i in irng\n",
    "        if (lvar[i] < x0[i] < uvar[i]) == false\n",
    "            x0[i] = (lvar[i] + uvar[i]) / 2.\n",
    "        end\n",
    "    end\n",
    "    \n",
    "    @assert all(x0 .> lvar) && all(x0 .< uvar)\n",
    "    λ0 = sparse(A') \\ (c+Q*x0)\n",
    "    dual_val = Q*x0 - A'*λ0 + c\n",
    "    s0_l, s0_u = zeros(n_cols), zeros(n_cols)\n",
    "    s0_l[ilow] = dual_val[ilow]\n",
    "    s0_u[iupp] = dual_val[iupp]\n",
    "    \n",
    "    s0_l[ilow] .= 1.\n",
    "    s0_u[iupp] .= 1.    \n",
    "    @assert all(s0_l[ilow] .> 0) && all(s0_u[iupp] .> 0)\n",
    "\n",
    "    return x0, λ0, s0_l, s0_u\n",
    "end"
   ]
  },
  {
   "cell_type": "code",
   "execution_count": 1039,
   "metadata": {},
   "outputs": [
    {
     "data": {
      "text/plain": [
       "is_in_Neighborhood_inf (generic function with 1 method)"
      ]
     },
     "execution_count": 1039,
     "metadata": {},
     "output_type": "execute_result"
    }
   ],
   "source": [
    "function compute_α_dual(v, dir_v)\n",
    "    n = length(v)\n",
    "    if n == 0\n",
    "        return 1.\n",
    "    end\n",
    "    α = 1.\n",
    "    for i=1:n\n",
    "        if dir_v[i] < 0.\n",
    "            α_new = -v[i] * 0.995 / dir_v[i]\n",
    "            if α_new < α\n",
    "                α = α_new\n",
    "            end\n",
    "        end\n",
    "    end\n",
    "    return α\n",
    "end\n",
    "\n",
    "\n",
    "    \n",
    "function compute_α_primal(v, dir_v, lvar, uvar)\n",
    "    n = length(v)\n",
    "    α_l, α_u = 1., 1.\n",
    "    for i=1:n\n",
    "        if dir_v[i] > 0.\n",
    "            α_u_new = (uvar[i] - v[i]) * 0.995 / dir_v[i]\n",
    "            if α_u_new < α_u\n",
    "                α_u = α_u_new\n",
    "            end\n",
    "        elseif dir_v[i] < 0.\n",
    "            α_l_new = (lvar[i] - v[i]) * 0.995 / dir_v[i]\n",
    "            if α_l_new < α_l\n",
    "                α_l = α_l_new\n",
    "            end\n",
    "        end\n",
    "    end\n",
    "    return min(α_l, α_u)\n",
    "end\n",
    "\n",
    "\n",
    "\n",
    "function compute_μ(x_minus_lvar, uvar_minus_x, s_l, s_u, nb_low, nb_upp)\n",
    "    return (s_l' * x_minus_lvar + s_u' * uvar_minus_x) / (nb_low + nb_upp)\n",
    "end\n",
    "\n",
    "\n",
    "function is_in_Neighborhood_inf(gamma, x_l, x_u, s_l, s_u, lvar, uvar)\n",
    "    # check if the current point is in N_inf(gamma)\n",
    "    # true : (xi_l - lvari) * si_l >= gamma mu   and   (uvari - xi_u) * si_u >= gamma mu \n",
    "    mu = Compute_mu(x_l, x_u, s_l, s_u, lvar, uvar)\n",
    "    for i=1:length(x_l)\n",
    "        if (x_l[i] - lvar[i]) * s_l[i] < gamma*mu\n",
    "            return false\n",
    "        end\n",
    "    end\n",
    "    for i=1:length(x_u)\n",
    "        if (uvar[i] - x_u[i]) * s_u[i] < gamma*mu\n",
    "            return false\n",
    "        end\n",
    "    end\n",
    "    return true\n",
    "end"
   ]
  },
  {
   "cell_type": "code",
   "execution_count": 1040,
   "metadata": {},
   "outputs": [
    {
     "data": {
      "text/plain": [
       "solve_augmented_system_cc! (generic function with 2 methods)"
      ]
     },
     "execution_count": 1040,
     "metadata": {},
     "output_type": "execute_result"
    }
   ],
   "source": [
    "function solve_augmented_system_aff!(J_fact, Δ_aff, Δ_x_λ, rc, rb, x_minus_lvar, uvar_minus_x, \n",
    "                                     s_l, s_u, ilow, iupp,  n_cols, n_rows, n_low)\n",
    "    \n",
    "    F_x_λ_aff = [-rc \n",
    "                 -rb]\n",
    "    F_x_λ_aff[ilow] += @views s_l[ilow]\n",
    "    F_x_λ_aff[iupp] -= @views s_u[iupp]\n",
    "    \n",
    "    Δ_x_λ = ldiv!(Δ_x_λ , J_fact, F_x_λ_aff)\n",
    "#     Δ_aff = @views [Δ_x_λ\n",
    "#                     -s_l[ilow] - s_l[ilow].*Δ_x_λ[1:n_cols][ilow]./x_minus_lvar\n",
    "#                     -s_u[iupp] + s_u[iupp].*Δ_x_λ[1:n_cols][iupp]./uvar_minus_x]\n",
    "    Δ_aff[1:n_cols+n_rows] = Δ_x_λ\n",
    "    Δ_aff[n_cols+n_rows+1:n_cols+n_rows+n_low] = @views -s_l[ilow] - s_l[ilow].*Δ_x_λ[1:n_cols][ilow]./x_minus_lvar\n",
    "    Δ_aff[n_cols+n_rows+n_low+1:end] = @views -s_u[iupp] + s_u[iupp].*Δ_x_λ[1:n_cols][iupp]./uvar_minus_x\n",
    "    return Δ_aff\n",
    "end\n",
    "\n",
    "function solve_augmented_system_cc!(J_fact, Δ_cc, Δ_x_λ ,Δ_aff, σ, μ,x_minus_lvar, uvar_minus_x, \n",
    "                                    s_l, s_u, ilow, iupp, n_cols, n_rows, n_low)\n",
    "\n",
    "\n",
    "    rxs_l = @views -σ*μ .+ Δ_aff[1:n_cols][ilow].*Δ_aff[n_rows+n_cols+1: n_rows+n_cols+n_low]\n",
    "    rxs_u = @views σ*μ .+ Δ_aff[1:n_cols][iupp].*Δ_aff[n_rows+n_cols+n_low+1: end]\n",
    "\n",
    "    F_x_λ_cc = zeros(n_cols+n_rows)\n",
    "    F_x_λ_cc[ilow] += rxs_l./x_minus_lvar\n",
    "    F_x_λ_cc[iupp] += rxs_u./uvar_minus_x\n",
    "\n",
    "#     F_x_λ_cc = [ I_low*inv_X_L*rxs_l + I_op_upp*inv_X_U*rxs_u\n",
    "#                                    Or                 ]\n",
    "    \n",
    "    Δ_x_λ = ldiv!(Δ_x_λ , J_fact, F_x_λ_cc)\n",
    "\n",
    "#     Δ_cc = @views [Δ_x_λ\n",
    "#                    -(rxs_l+s_l[ilow].*Δ_x_λ[1:n_cols][ilow])./x_minus_lvar\n",
    "#                    (rxs_u+s_u[iupp].*Δ_x_λ[1:n_cols][iupp])./uvar_minus_x ]\n",
    "    Δ_cc[1:n_cols+n_rows] = Δ_x_λ\n",
    "    Δ_cc[n_cols+n_rows+1:n_cols+n_rows+n_low] = @views -(rxs_l+s_l[ilow].*Δ_x_λ[1:n_cols][ilow])./x_minus_lvar\n",
    "    Δ_cc[n_cols+n_rows+n_low+1:end] = @views (rxs_u+s_u[iupp].*Δ_x_λ[1:n_cols][iupp])./uvar_minus_x \n",
    "    return Δ_cc\n",
    "end"
   ]
  },
  {
   "cell_type": "code",
   "execution_count": 1041,
   "metadata": {},
   "outputs": [
    {
     "data": {
      "text/plain": [
       "a_plus_equal_αb (generic function with 1 method)"
      ]
     },
     "execution_count": 1041,
     "metadata": {},
     "output_type": "execute_result"
    }
   ],
   "source": [
    "function a_plus_αb(a, α, b, n)\n",
    "    # a, b same length, α float\n",
    "    result = zeros(n)\n",
    "    for i=1:n\n",
    "        result[i] = a[i] + α * b[i]\n",
    "    end\n",
    "    return result\n",
    "end\n",
    "\n",
    "function a_plus_equal_αb(a, α, b, n)\n",
    "    # a, b same length, α float\n",
    "    for i=1:n\n",
    "        a[i] +=  α * b[i]\n",
    "    end\n",
    "    return a\n",
    "end\n"
   ]
  },
  {
   "cell_type": "code",
   "execution_count": 1042,
   "metadata": {},
   "outputs": [
    {
     "data": {
      "text/plain": [
       "mehrotraPCQuadBounds (generic function with 1 method)"
      ]
     },
     "execution_count": 1042,
     "metadata": {},
     "output_type": "execute_result"
    }
   ],
   "source": [
    "function mehrotraPCQuadBounds(QM; max_iter=300, ϵ_pdd=1e-8, ϵ_rb=1e-6, ϵ_rc=1e-6,\n",
    "                              tol_Δx=1e-16, ϵ_μ=0., max_time=60., display=true)\n",
    "    \n",
    "    start_time = time()\n",
    "    elapsed_time = 0.0\n",
    "    \n",
    "    # get variables from QuadraticModel\n",
    "    lvar, uvar = QM.meta.lvar, QM.meta.uvar\n",
    "    n_cols = length(lvar)\n",
    "    Oc = zeros(n_cols)\n",
    "    ilow, iupp = [QM.meta.ilow; QM.meta.irng], [QM.meta.iupp; QM.meta.irng] # finite bounds index\n",
    "    n_low, n_upp = length(ilow), length(iupp) # number of finite constraints\n",
    "    A = jac(QM, Oc)\n",
    "    Arows, Acols, Avals = findnz(A)\n",
    "    n_rows, n_cols = size(A) \n",
    "    Q = hess(QM, Oc)  # lower triangular\n",
    "    Qrows, Qcols, Qvals = findnz(Q)\n",
    "    Q_sym = Symmetric(Q, :L)\n",
    "    c = grad(QM, Oc)\n",
    "    c0 = obj(QM, Oc)\n",
    "    @assert QM.meta.lcon == QM.meta.ucon # equality constraint (Ax=b)\n",
    "    b = QM.meta.lcon\n",
    "    \n",
    "    # init regularization values\n",
    "    ρ, δ = 1.e-8, 1.e-6\n",
    "\n",
    "    J_augmrows = vcat(Qcols, Acols, n_cols+1:n_cols+n_rows, 1:n_cols)\n",
    "    J_augmcols = vcat(Qrows, Arows.+n_cols, n_cols+1:n_cols+n_rows, 1:n_cols)\n",
    "    tmp_diag = zeros(n_cols)\n",
    "    J_augmvals = vcat(-Qvals, Avals, δ*ones(n_rows), tmp_diag)\n",
    "    J_augm = sparse(J_augmrows, J_augmcols, J_augmvals)\n",
    "    \n",
    "    x, λ, s_l, s_u, J_P = @views starting_points3(Q_sym, A, b, c, lvar, uvar, ilow, iupp, \n",
    "                                     QM.meta.irng, J_augm, 1e-6, n_rows, n_cols)\n",
    "    \n",
    "#     x = init_x0_lsq(A, b, lvar, uvar)\n",
    "#     @assert all(x .> lvar) && all(x .< uvar)\n",
    "#     s_l, s_u = copy(Oc), copy(Oc)\n",
    "#     s_l[ilow] .= 1.\n",
    "#     s_u[iupp] .= 1.\n",
    "\n",
    "    Qx = Q_sym * x\n",
    "#     λ = sparse(A') \\ (c+Qx) # least square initialisation, s_0 = stilde_0\n",
    "    ATλ = A' * λ\n",
    "    Ax = A * x\n",
    "    rb = Ax - b\n",
    "    rc = -Qx + ATλ + s_l - s_u - c\n",
    "    \n",
    "    x_minus_lvar = @views x[ilow] - lvar[ilow]\n",
    "    uvar_minus_x = @views uvar[iupp] - x[iupp]\n",
    "    μ = @views compute_μ(x_minus_lvar, uvar_minus_x, \n",
    "                         s_l[ilow], s_u[iupp],\n",
    "                         n_low, n_upp)\n",
    "\n",
    "    k = 0\n",
    "    Δ_aff = zeros(n_cols+n_rows+n_low+n_upp)\n",
    "    Δ_cc = zeros(n_cols+n_rows+n_low+n_upp)\n",
    "    Δ = zeros(n_cols+n_rows+n_low+n_upp)\n",
    "    Δ_x_λ = zeros(n_cols+n_rows)\n",
    "    \n",
    "    # stopping criterion\n",
    "    xTQx_2 = x' * Qx / 2.\n",
    "    cTx = c' * x\n",
    "    pri_obj = xTQx_2 + cTx + c0\n",
    "    dual_obj = b' * λ - xTQx_2 + view(s_l,ilow)'*view(lvar,ilow) - \n",
    "                    view(s_u,iupp)'*view(uvar,iupp) +c0\n",
    "    pdd = abs(pri_obj - dual_obj ) / (1. + abs(pri_obj)) \n",
    "    max_rc, max_rb = norm(rc, Inf), norm(rb, Inf)\n",
    "    optimal = pdd < ϵ_pdd && max_rb < ϵ_rb && max_rc < ϵ_rc\n",
    "    \n",
    "    n_Δx = 0.\n",
    "    small_Δx, small_μ = false, μ < ϵ_μ\n",
    "    Δt = time() - start_time\n",
    "    tired = Δt > max_time\n",
    "\n",
    "    # display\n",
    "    if display == true\n",
    "        @info log_header([:k, :pri_obj, :pdd, :max_rb, :max_rc, :n_Δx, :μ],\n",
    "                         [Int, Float64, Float64, Float64, Float64, Float64, Float64, Float64],\n",
    "                        hdr_override=Dict(:k=>\"Iter\", :pri_obj=>\"primal\", :pdd=>\"pdd\",\n",
    "                                          :max_rb=>\"rb cond\", :max_rc=>\"rc cond\",\n",
    "                                          :n_Δx=>\"‖Δx‖\", :μ=>\"μ\"))\n",
    "        @info log_row([k, pri_obj, pdd, max_rb, max_rc, n_Δx, μ])\n",
    "    end\n",
    "\n",
    "    while k<max_iter && !optimal && !tired # && !small_μ && !small_μ\n",
    "        \n",
    "            \n",
    "            # Affine scaling direction\n",
    "        tmp_diag .= -ρ\n",
    "        tmp_diag[ilow] .-= @views s_l[ilow] ./ x_minus_lvar \n",
    "        tmp_diag[iupp] .-= @views s_u[iupp] ./ uvar_minus_x\n",
    "        J_augmvals[end-n_cols+1:end] = tmp_diag\n",
    "\n",
    "        J_augm = sparse(J_augmrows, J_augmcols, J_augmvals)\n",
    "    \n",
    "        #J_fact = ldlt(Symmetric(J_augm, :U))\n",
    "        #J_fact = lu(Symmetric(J_augm), check=true)\n",
    "        J_fact = ldl(Symmetric(J_augm, :U), J_P)\n",
    "        \n",
    "        Δ_aff = solve_augmented_system_aff!(J_fact, Δ_aff, Δ_x_λ, rc, rb, x_minus_lvar, uvar_minus_x, \n",
    "                                            s_l, s_u, ilow, iupp,  n_cols, n_rows, n_low)\n",
    "\n",
    "        α_aff_pri = @views compute_α_primal(x, Δ_aff[1:n_cols], lvar, uvar)\n",
    "        α_aff_dual_l = @views compute_α_dual(s_l[ilow], Δ_aff[n_rows+n_cols+1: n_rows+n_cols+n_low])\n",
    "        α_aff_dual_u = @views compute_α_dual(s_u[iupp], Δ_aff[n_rows+n_cols+n_low+1:end])\n",
    "\n",
    "        # alpha_aff_dual_final is the min of the 2 alpha_aff_dual\n",
    "        α_aff_dual_final = min(α_aff_dual_l, α_aff_dual_u)\n",
    "        \n",
    "        μ_aff = @views compute_μ(a_plus_αb(x_minus_lvar, α_aff_pri, Δ_aff[1:n_cols][ilow], n_low),\n",
    "                                 a_plus_αb(uvar_minus_x, -α_aff_pri, Δ_aff[1:n_cols][iupp], n_upp),\n",
    "                                 a_plus_αb(s_l[ilow], α_aff_dual_final, Δ_aff[n_rows+n_cols+1: n_rows+n_cols+n_low], n_low),\n",
    "                                 a_plus_αb(s_u[iupp], α_aff_dual_final,  Δ_aff[n_rows+n_cols+n_low+1: end], n_upp),\n",
    "                                 n_low, n_upp)\n",
    "        \n",
    "        σ = (μ_aff / μ)^3\n",
    "\n",
    "        # corrector and centering step\n",
    "        \n",
    "        Δ_cc = solve_augmented_system_cc!(J_fact, Δ_cc, Δ_x_λ , Δ_aff, σ, μ,x_minus_lvar, uvar_minus_x, \n",
    "                                          s_l, s_u, ilow, iupp, n_cols, n_rows, n_low)\n",
    "\n",
    "\n",
    "        Δ = Δ_aff + Δ_cc # final direction\n",
    "        \n",
    "        α_pri = @views compute_α_primal(x, Δ[1:n_cols], lvar, uvar)\n",
    "        α_dual_l = @views compute_α_dual(s_l[ilow], Δ[n_rows+n_cols+1: n_rows+n_cols+n_low])\n",
    "        α_dual_u = @views compute_α_dual(s_u[iupp], Δ[n_rows+n_cols+n_low+1: end])\n",
    "\n",
    "        α_dual_final = min(α_dual_l, α_dual_u)\n",
    "\n",
    "        # new parameters\n",
    "        x = @views a_plus_equal_αb(x, α_pri, Δ[1:n_cols], n_cols)\n",
    "        λ = @views a_plus_equal_αb(λ, α_dual_final, \n",
    "                                   Δ[n_cols+1: n_rows+n_cols], n_rows)\n",
    "        s_l[ilow] = @views a_plus_equal_αb(s_l[ilow], α_dual_final, \n",
    "                                           Δ[n_rows+n_cols+1: n_rows+n_cols+n_low], n_low)\n",
    "        s_u[iupp] = @views a_plus_equal_αb(s_u[iupp], α_dual_final, \n",
    "                                           Δ[n_rows+n_cols+n_low+1: end], n_upp)\n",
    "        n_Δx = @views α_pri * norm(Δ[1:n_cols])\n",
    "        x_minus_lvar = @views x[ilow] - lvar[ilow]\n",
    "        uvar_minus_x = @views uvar[iupp] - x[iupp]\n",
    "        \n",
    "        μ = @views compute_μ(x_minus_lvar, uvar_minus_x, \n",
    "                             s_l[ilow], s_u[iupp],\n",
    "                             n_low, n_upp)\n",
    "        \n",
    "        Qx = mul!(Qx, Q_sym, x)\n",
    "        xTQx_2 =  x' * Qx / 2.\n",
    "        ATλ = mul!(ATλ, A', λ)\n",
    "        Ax = mul!(Ax, A, x)\n",
    "        cTx = c' * x\n",
    "        pri_obj = xTQx_2 + cTx + c0\n",
    "        dual_obj = b' * λ - xTQx_2 + view(s_l,ilow)'*view(lvar,ilow) - \n",
    "                    view(s_u,iupp)'*view(uvar,iupp) +c0\n",
    "\n",
    "        rb = Ax - b\n",
    "        rc = -Qx + ATλ + s_l - s_u - c\n",
    "        \n",
    "        # update stopping criterion values:\n",
    "        \n",
    "        pdd = abs(pri_obj - dual_obj ) / (1. + abs(pri_obj)) \n",
    "        max_rc, max_rb = norm(rc, Inf), norm(rb, Inf)\n",
    "        optimal = pdd < ϵ_pdd && max_rb < ϵ_rb && max_rc < ϵ_rc\n",
    "        small_Δx, small_μ = n_Δx < tol_Δx, μ < ϵ_μ\n",
    "        k += 1\n",
    "        \n",
    "                    ### case ρ=δ and ρ /= 10 each iter\n",
    "#         if ρ >= 1e-7\n",
    "#             for j in n_cols+1:n_rows+n_cols\n",
    "#                 J_augm[j,j] /= 10.\n",
    "#             end\n",
    "#             ρ /= 10.\n",
    "#         end\n",
    "        Δt = time() - start_time\n",
    "        tired = Δt > max_time\n",
    "        \n",
    "        if display == true\n",
    "            @info log_row([k, pri_obj, pdd, max_rb, max_rc, n_Δx, μ])\n",
    "        end\n",
    "        \n",
    "        \n",
    "    end\n",
    "    \n",
    "    elapsed_time = time() - start_time\n",
    "    \n",
    "    if k>= max_iter\n",
    "        status = :max_iter\n",
    "    elseif tired\n",
    "        status = :max_time \n",
    "    elseif optimal\n",
    "        status = :acceptable\n",
    "    else\n",
    "        status = :unknown\n",
    "    end\n",
    "    \n",
    "    stats = GenericExecutionStats(status, QM, solution = x,\n",
    "                                  objective = pri_obj , \n",
    "                                  dual_feas = max_rc, \n",
    "                                  primal_feas = max_rb,\n",
    "                                  multipliers = λ,\n",
    "                                  multipliers_L = s_l,\n",
    "                                  multipliers_U = s_u,\n",
    "                                  iter = k, elapsed_time=elapsed_time)\n",
    "    return stats\n",
    "end\n",
    "\n"
   ]
  },
  {
   "cell_type": "markdown",
   "metadata": {},
   "source": [
    "### bibliothèque QuadraticModels\n",
    "\n",
    "optimize $c_0 + c'x + \\frac{1}{2} x'Hx ~~~~$ s.t. $~~L \\le Ax \\le U$ and $l \\le x \\le u$ \n",
    "\n",
    "Ici L = lcon, U = ucon, l = lvar, u = uvar"
   ]
  },
  {
   "cell_type": "code",
   "execution_count": 1043,
   "metadata": {},
   "outputs": [],
   "source": [
    "# probleme1\n",
    "Q = [6. 2. 1.\n",
    "     2. 5. 2.\n",
    "     1. 2. 4.]\n",
    "c = [-8.; -3; -3]\n",
    "c0 = 0.\n",
    "A = [1. 0. 1.\n",
    "    0. 1. 1.]\n",
    "b = [0.; 3]\n",
    "lvar = [0.;0;0]\n",
    "uvar = [Inf; Inf; Inf]\n",
    "lcon = b\n",
    "ucon = b\n",
    "\n",
    "x01 = [1.; 2.; 3.];\n"
   ]
  },
  {
   "cell_type": "code",
   "execution_count": 1044,
   "metadata": {},
   "outputs": [
    {
     "data": {
      "text/plain": [
       "QuadraticModel"
      ]
     },
     "execution_count": 1044,
     "metadata": {},
     "output_type": "execute_result"
    }
   ],
   "source": [
    "QM = QuadraticModel(c, Q, A=A, lcon=lcon, ucon=ucon, lvar=lvar, uvar=uvar, x0=x01, c0=c0, name=\"QM1\")\n",
    "SM = SlackModel(QM)\n",
    "typeof(SM)"
   ]
  },
  {
   "cell_type": "code",
   "execution_count": 1045,
   "metadata": {
    "scrolled": true
   },
   "outputs": [
    {
     "name": "stderr",
     "output_type": "stream",
     "text": [
      "┌ Info:   Iter    primal       pdd   rb cond   rc cond      ‖Δx‖         μ  \n",
      "└ @ Main In[1042]:78\n",
      "┌ Info:  0.0e+00   1.5e+02   2.1e+00   6.5e+00   9.5e+00   0.0e+00   6.4e+01\n",
      "└ @ Main In[1042]:83\n"
     ]
    },
    {
     "name": "stdout",
     "output_type": "stream",
     "text": [
      "Generic Execution stats\n",
      "  status: solved to within acceptable tolerances\n",
      "  objective value: 13.500000013008938\n",
      "  primal feasibility: 1.7123900419263915e-9\n",
      "  dual feasibility: 6.6732468440022785e-9\n",
      "  solution: [1.1264477747909496e-9  3.000000001125334  5.859422671354418e-10]\n",
      "  multipliers: [-24.76136573844645  12.00000000214211]\n",
      "  multipliers_L: [22.76136574514305  2.639337451519442e-9  15.761365735351976]\n",
      "  multipliers_U: [0.0  0.0  0.0]\n",
      "  iterations: 5\n",
      "  elapsed time: 1.373000144958496\n"
     ]
    },
    {
     "name": "stderr",
     "output_type": "stream",
     "text": [
      "┌ Info:  1.0e+00   1.8e+01   1.6e+00   9.5e-01   3.6e+00   4.5e+00   9.2e+00\n",
      "└ @ Main In[1042]:180\n",
      "┌ Info:  2.0e+00   1.4e+01   1.9e-02   1.4e-02   5.3e-02   9.3e-01   1.1e-01\n",
      "└ @ Main In[1042]:180\n",
      "┌ Info:  3.0e+00   1.4e+01   9.3e-05   6.8e-05   2.7e-04   1.4e-02   5.7e-04\n",
      "└ @ Main In[1042]:180\n",
      "┌ Info:  4.0e+00   1.4e+01   4.7e-07   3.4e-07   1.3e-06   6.8e-05   2.9e-06\n",
      "└ @ Main In[1042]:180\n",
      "┌ Info:  5.0e+00   1.4e+01   2.3e-09   1.7e-09   6.7e-09   3.4e-07   1.4e-08\n",
      "└ @ Main In[1042]:180\n"
     ]
    }
   ],
   "source": [
    "stats_mpc1 =  mehrotraPCQuadBounds(SM)\n",
    "println(stats_mpc1)"
   ]
  },
  {
   "cell_type": "code",
   "execution_count": 1046,
   "metadata": {},
   "outputs": [
    {
     "name": "stderr",
     "output_type": "stream",
     "text": [
      "┌ Info:   Iter    primal       pdd   rb cond   rc cond      ‖Δx‖         μ  \n",
      "└ @ Main In[1042]:78\n",
      "┌ Info:  0.0e+00   1.5e+02   2.1e+00   6.5e+00   9.5e+00   0.0e+00   6.4e+01\n",
      "└ @ Main In[1042]:83\n",
      "┌ Info:  1.0e+00   1.8e+01   1.6e+00   9.5e-01   3.6e+00   4.5e+00   9.2e+00\n",
      "└ @ Main In[1042]:180\n",
      "┌ Info:  2.0e+00   1.4e+01   1.9e-02   1.4e-02   5.3e-02   9.3e-01   1.1e-01\n",
      "└ @ Main In[1042]:180\n",
      "┌ Info:  3.0e+00   1.4e+01   9.3e-05   6.8e-05   2.7e-04   1.4e-02   5.7e-04\n",
      "└ @ Main In[1042]:180\n",
      "┌ Info:  4.0e+00   1.4e+01   4.7e-07   3.4e-07   1.3e-06   6.8e-05   2.9e-06\n",
      "└ @ Main In[1042]:180\n"
     ]
    },
    {
     "name": "stdout",
     "output_type": "stream",
     "text": [
      "Generic Execution stats\n",
      "  status: solved to within acceptable tolerances\n",
      "  objective value: 13.500000013008938\n",
      "  primal feasibility: 1.7123900419263915e-9\n",
      "  dual feasibility: 6.6732468440022785e-9\n",
      "  solution: [-1.1264477747909496e-9  -3.000000001125334  -5.859422671354418e-10]\n",
      "  multipliers: [-24.76136573844645  12.00000000214211]\n",
      "  multipliers_L: [0.0  0.0  0.0]\n",
      "  multipliers_U: [22.76136574514305  2.639337451519442e-9  15.761365735351976]\n",
      "  iterations: 5\n",
      "  elapsed time: 0.0019998550415039062\n"
     ]
    },
    {
     "name": "stderr",
     "output_type": "stream",
     "text": [
      "┌ Info:  5.0e+00   1.4e+01   2.3e-09   1.7e-09   6.7e-09   3.4e-07   1.4e-08\n",
      "└ @ Main In[1042]:180\n"
     ]
    }
   ],
   "source": [
    "#pb verif\n",
    "\n",
    "QM_verif = QuadraticModel(c*(-1), Q, A=A*(-1), lcon=lcon, ucon=ucon, lvar=-uvar, uvar=lvar, x0=x01, c0=c0, name=\"QM1\")\n",
    "SM_verif = SlackModel(QM_verif)\n",
    "stats_mpc_verif =  mehrotraPCQuadBounds(SM_verif);\n",
    "println(stats_mpc_verif)"
   ]
  },
  {
   "cell_type": "code",
   "execution_count": 1000,
   "metadata": {},
   "outputs": [
    {
     "name": "stdout",
     "output_type": "stream",
     "text": [
      "Generic Execution stats\n",
      "  status: solved to within acceptable tolerances\n",
      "  objective value: 1.5384598859776901e-9\n",
      "  primal feasibility: 2.091660178393795e-13\n",
      "  dual feasibility: 9.103828801926284e-15\n",
      "  solution: [1.5384598859776901e-9  0.49999999923066546  0.49999999923066546]\n",
      "  multipliers: [-2.6029670119093226e-10]\n",
      "  multipliers_L: [1.0000000002602876  2.6030131166208406e-10  2.6030131166208406e-10]\n",
      "  multipliers_U: [0.0  0.0  0.0]\n",
      "  iterations: 5\n",
      "  elapsed time: 0.0010001659393310547\n"
     ]
    },
    {
     "name": "stderr",
     "output_type": "stream",
     "text": [
      "┌ Info:   Iter    primal       pdd   rb cond   rc cond      ‖Δx‖         μ  \n",
      "└ @ Main In[995]:78\n",
      "┌ Info:  0.0e+00   2.0e+00   7.8e-01   5.0e+00   3.3e-01   0.0e+00   2.0e+00\n",
      "└ @ Main In[995]:83\n",
      "┌ Info:  1.0e+00   1.5e-01   4.9e-01   8.3e-08   1.9e-08   2.9e+00   1.9e-01\n",
      "└ @ Main In[995]:180\n",
      "┌ Info:  2.0e+00   1.2e-02   1.4e-02   4.3e-07   1.9e-09   1.7e-01   4.8e-03\n",
      "└ @ Main In[995]:180\n",
      "┌ Info:  3.0e+00   6.2e-05   7.2e-05   4.2e-09   1.3e-10   1.5e-02   2.4e-05\n",
      "└ @ Main In[995]:180\n",
      "┌ Info:  4.0e+00   3.1e-07   3.6e-07   3.1e-11   1.3e-12   7.5e-05   1.2e-07\n",
      "└ @ Main In[995]:180\n",
      "┌ Info:  5.0e+00   1.5e-09   1.8e-09   2.1e-13   9.1e-15   3.7e-07   6.0e-10\n",
      "└ @ Main In[995]:180\n"
     ]
    }
   ],
   "source": [
    "### pb verif 2\n",
    "c2 = [1.; 0; 0]\n",
    "A2 = Matrix([1., 1, 1]')\n",
    "b2 = [1.];\n",
    "QM_verif2 = QuadraticModel(c2, zeros(3,3), A=A2, lcon=b2, ucon=b2, lvar=[0.;0;0], \n",
    "                uvar=[Inf; Inf; Inf], x0=x01, c0=c0, name=\"QMverfi2\")\n",
    "SM_verif2 = SlackModel(QM_verif2)\n",
    "stats_mpc_verif2 =  mehrotraPCQuadBounds(SM_verif2);\n",
    "println(stats_mpc_verif2)"
   ]
  },
  {
   "cell_type": "markdown",
   "metadata": {},
   "source": [
    "# Lecture des donnees .SIF"
   ]
  },
  {
   "cell_type": "code",
   "execution_count": 1001,
   "metadata": {},
   "outputs": [
    {
     "data": {
      "text/plain": [
       "displayQuadraticModel (generic function with 1 method)"
      ]
     },
     "execution_count": 1001,
     "metadata": {},
     "output_type": "execute_result"
    }
   ],
   "source": [
    "\n",
    "function createQuadraticModel(qpdata; name=\"qp_pb\")\n",
    "    return QuadraticModel(qpdata.c, qpdata.qrows, qpdata.qcols, qpdata.qvals,\n",
    "            Arows=qpdata.arows, Acols=qpdata.acols, Avals=qpdata.avals, \n",
    "            lcon=qpdata.lcon, ucon=qpdata.ucon, lvar=qpdata.lvar, uvar=qpdata.uvar,\n",
    "            c0=qpdata.c0, name=name)\n",
    "end\n",
    "\n",
    "function displayQuadraticModel(QM)\n",
    "    #println(\"A = \", Matrix(jac(QM, QM.meta.x0)))\n",
    "    #println(\"Q = \", Matrix(hess(QM, QM.meta.x0)))\n",
    "    println(\"lvar = \", QM.meta.lvar)\n",
    "    println(\"uvar = \", QM.meta.uvar)\n",
    "    println(\"x0 = \", QM.meta.x0)\n",
    "    #println(\"lcon = \", QM.meta.lcon)\n",
    "    #println(\"ucon = \", QM.meta.ucon)\n",
    "end"
   ]
  },
  {
   "cell_type": "markdown",
   "metadata": {},
   "source": [
    "# Benchmark"
   ]
  },
  {
   "cell_type": "code",
   "execution_count": 1002,
   "metadata": {},
   "outputs": [
    {
     "data": {
      "text/plain": [
       "\"C:\\\\Users\\\\Geoffroy Leconte\\\\Documents\\\\cours\\\\TFE\\\\code\\\\problemes_netlib\\\\AFIRO.SIF\""
      ]
     },
     "execution_count": 1002,
     "metadata": {},
     "output_type": "execute_result"
    }
   ],
   "source": [
    "path_pb = \"C:\\\\Users\\\\Geoffroy Leconte\\\\Documents\\\\cours\\\\TFE\\\\code\\\\problemes_netlib\"\n",
    "afiro = string(path_pb, \"\\\\AFIRO.SIF\")"
   ]
  },
  {
   "cell_type": "code",
   "execution_count": 1003,
   "metadata": {},
   "outputs": [
    {
     "name": "stderr",
     "output_type": "stream",
     "text": [
      "┌ Info: Using 'AFIRO' as NAME (l. 5)\n",
      "└ @ QPSReader C:\\Users\\Geoffroy Leconte\\.julia\\packages\\QPSReader\\usDQr\\src\\readqps.jl:751\n",
      "┌ Info: Using 'COST' as objective (l. 47)\n",
      "└ @ QPSReader C:\\Users\\Geoffroy Leconte\\.julia\\packages\\QPSReader\\usDQr\\src\\readqps.jl:350\n",
      "┌ Info: Using 'B' as RHS (l. 96)\n",
      "└ @ QPSReader C:\\Users\\Geoffroy Leconte\\.julia\\packages\\QPSReader\\usDQr\\src\\readqps.jl:470\n"
     ]
    },
    {
     "data": {
      "text/plain": [
       "  Problem name: qp_pb-slack\n",
       "   All variables: ████████████████████ 51     All constraints: ████████████████████ 27    \n",
       "            free: ⋅⋅⋅⋅⋅⋅⋅⋅⋅⋅⋅⋅⋅⋅⋅⋅⋅⋅⋅⋅ 0                 free: ⋅⋅⋅⋅⋅⋅⋅⋅⋅⋅⋅⋅⋅⋅⋅⋅⋅⋅⋅⋅ 0     \n",
       "           lower: █████████████⋅⋅⋅⋅⋅⋅⋅ 32               lower: ⋅⋅⋅⋅⋅⋅⋅⋅⋅⋅⋅⋅⋅⋅⋅⋅⋅⋅⋅⋅ 0     \n",
       "           upper: ████████⋅⋅⋅⋅⋅⋅⋅⋅⋅⋅⋅⋅ 19               upper: ⋅⋅⋅⋅⋅⋅⋅⋅⋅⋅⋅⋅⋅⋅⋅⋅⋅⋅⋅⋅ 0     \n",
       "         low/upp: ⋅⋅⋅⋅⋅⋅⋅⋅⋅⋅⋅⋅⋅⋅⋅⋅⋅⋅⋅⋅ 0              low/upp: ⋅⋅⋅⋅⋅⋅⋅⋅⋅⋅⋅⋅⋅⋅⋅⋅⋅⋅⋅⋅ 0     \n",
       "           fixed: ⋅⋅⋅⋅⋅⋅⋅⋅⋅⋅⋅⋅⋅⋅⋅⋅⋅⋅⋅⋅ 0                fixed: ████████████████████ 27    \n",
       "          infeas: ⋅⋅⋅⋅⋅⋅⋅⋅⋅⋅⋅⋅⋅⋅⋅⋅⋅⋅⋅⋅ 0               infeas: ⋅⋅⋅⋅⋅⋅⋅⋅⋅⋅⋅⋅⋅⋅⋅⋅⋅⋅⋅⋅ 0     \n",
       "            nnzh: (100.00% sparsity)   0               linear: ████████████████████ 27    \n",
       "                                                    nonlinear: ⋅⋅⋅⋅⋅⋅⋅⋅⋅⋅⋅⋅⋅⋅⋅⋅⋅⋅⋅⋅ 0     \n",
       "                                                         nnzj: ( 92.59% sparsity)   102   \n",
       "\n"
      ]
     },
     "execution_count": 1003,
     "metadata": {},
     "output_type": "execute_result"
    }
   ],
   "source": [
    "qpdata2 = readqps(afiro)  # obj   -4.6475314286E+02\n",
    "qpdata2.contypes\n",
    "QM2 = createQuadraticModel(qpdata2)\n",
    "SM2 = SlackModel(QM2);\n",
    "SM2.meta"
   ]
  },
  {
   "cell_type": "code",
   "execution_count": 1050,
   "metadata": {
    "scrolled": true
   },
   "outputs": [
    {
     "name": "stdout",
     "output_type": "stream",
     "text": [
      "Generic Execution stats\n",
      "  status: solved to within acceptable tolerances\n",
      "  objective value: -464.7531425948591\n",
      "  primal feasibility: 5.684341886080801e-13\n",
      "  dual feasibility: 3.611333454500709e-12\n",
      "  solution: [79.99999999847336  "
     ]
    },
    {
     "name": "stderr",
     "output_type": "stream",
     "text": [
      "┌ Info:   Iter    primal       pdd   rb cond   rc cond      ‖Δx‖         μ  \n",
      "└ @ Main In[1042]:78\n",
      "┌ Info:  0.0e+00   2.6e+02   1.0e+02   3.1e+02   1.6e+01   0.0e+00   9.9e+02\n",
      "└ @ Main In[1042]:83\n",
      "┌ Info:  1.0e+00   7.3e+01   1.5e+02   2.8e+01   5.5e+00   2.4e+02   2.7e+02\n",
      "└ @ Main In[1042]:180\n",
      "┌ Info:  2.0e+00   1.6e+01   2.7e+02   1.4e-05   2.0e+00   1.3e+02   1.1e+02\n",
      "└ @ Main In[1042]:180\n",
      "┌ Info:  3.0e+00  -2.9e+01   2.1e+01   1.1e-05   2.8e-01   1.6e+01   1.5e+01\n",
      "└ @ Main In[1042]:180\n",
      "┌ Info:  4.0e+00  -3.2e+02   7.2e-01   1.5e-06   1.5e-01   7.3e+02   8.5e+00\n",
      "└ @ Main In[1042]:180\n",
      "┌ Info:  5.0e+00  -4.5e+02   8.6e-02   6.1e-07   1.4e-02   2.3e+02   1.1e+00\n",
      "└ @ Main In[1042]:180\n",
      "┌ Info:  6.0e+00  -4.6e+02   7.1e-03   7.2e-08   1.7e-05   3.1e+01   6.5e-02\n",
      "└ @ Main In[1042]:180\n",
      "┌ Info:  7.0e+00  -4.6e+02   3.7e-05   7.0e-09   1.1e-07   3.5e+00   3.4e-04\n",
      "└ @ Main In[1042]:180\n",
      "┌ Info:  8.0e+00  -4.6e+02   1.8e-07   6.9e-11   6.2e-10   1.8e-02   1.7e-06\n",
      "└ @ Main In[1042]:180\n",
      "┌ Info:  9.0e+00  -4.6e+02   9.2e-10   5.7e-13   3.6e-12   8.9e-05   8.5e-09\n",
      "└ @ Main In[1042]:180\n"
     ]
    },
    {
     "name": "stdout",
     "output_type": "stream",
     "text": [
      "25.499999988512805  54.50000000996004  84.79999999838223 ⋯ 121.03583204999406]\n",
      "  multipliers: [-0.6285714294286938  7.873476849196097e-10  -0.3447714287303762  -0.2285714290272018 ⋯ -3.129916245268116e-11]\n",
      "  multipliers_L: [8.429113346414534e-11  4.0372029574061213e-10  1.1387795530210219e-10  7.951889135852542e-11 ⋯ 0.0]\n",
      "  multipliers_U: [0.0  0.0  0.0  0.0 ⋯ 3.332003553450498e-11]\n",
      "  iterations: 9\n",
      "  elapsed time: 0.0\n"
     ]
    }
   ],
   "source": [
    "stats_mpc2 =  mehrotraPCQuadBounds(SM2)\n",
    "println(stats_mpc2)"
   ]
  },
  {
   "cell_type": "code",
   "execution_count": 1053,
   "metadata": {},
   "outputs": [
    {
     "data": {
      "text/plain": [
       "BenchmarkTools.Trial: \n",
       "  memory estimate:  478.09 KiB\n",
       "  allocs estimate:  3056\n",
       "  --------------\n",
       "  minimum time:     498.499 μs (0.00% GC)\n",
       "  median time:      517.501 μs (0.00% GC)\n",
       "  mean time:        577.432 μs (4.53% GC)\n",
       "  maximum time:     8.123 ms (88.90% GC)\n",
       "  --------------\n",
       "  samples:          8610\n",
       "  evals/sample:     1"
      ]
     },
     "execution_count": 1053,
     "metadata": {},
     "output_type": "execute_result"
    }
   ],
   "source": [
    "@benchmark mehrotraPCQuadBounds(SM2,  display=false)"
   ]
  },
  {
   "cell_type": "code",
   "execution_count": 1054,
   "metadata": {
    "scrolled": true
   },
   "outputs": [
    {
     "name": "stderr",
     "output_type": "stream",
     "text": [
      "┌ Info: Using 'KB2' as NAME (l. 5)\n",
      "└ @ QPSReader C:\\Users\\Geoffroy Leconte\\.julia\\packages\\QPSReader\\usDQr\\src\\readqps.jl:751\n",
      "┌ Info: Using 'FAT7..J.' as objective (l. 20)\n",
      "└ @ QPSReader C:\\Users\\Geoffroy Leconte\\.julia\\packages\\QPSReader\\usDQr\\src\\readqps.jl:350\n",
      "┌ Info: Using '77BOUND' as BOUNDS (l. 227)\n",
      "└ @ QPSReader C:\\Users\\Geoffroy Leconte\\.julia\\packages\\QPSReader\\usDQr\\src\\readqps.jl:622\n"
     ]
    },
    {
     "data": {
      "text/plain": [
       "  Problem name: qp_pb-slack\n",
       "   All variables: ████████████████████ 68     All constraints: ████████████████████ 43    \n",
       "            free: ⋅⋅⋅⋅⋅⋅⋅⋅⋅⋅⋅⋅⋅⋅⋅⋅⋅⋅⋅⋅ 0                 free: ⋅⋅⋅⋅⋅⋅⋅⋅⋅⋅⋅⋅⋅⋅⋅⋅⋅⋅⋅⋅ 0     \n",
       "           lower: ██████████████⋅⋅⋅⋅⋅⋅ 47               lower: ⋅⋅⋅⋅⋅⋅⋅⋅⋅⋅⋅⋅⋅⋅⋅⋅⋅⋅⋅⋅ 0     \n",
       "           upper: ████⋅⋅⋅⋅⋅⋅⋅⋅⋅⋅⋅⋅⋅⋅⋅⋅ 12               upper: ⋅⋅⋅⋅⋅⋅⋅⋅⋅⋅⋅⋅⋅⋅⋅⋅⋅⋅⋅⋅ 0     \n",
       "         low/upp: ███⋅⋅⋅⋅⋅⋅⋅⋅⋅⋅⋅⋅⋅⋅⋅⋅⋅ 9              low/upp: ⋅⋅⋅⋅⋅⋅⋅⋅⋅⋅⋅⋅⋅⋅⋅⋅⋅⋅⋅⋅ 0     \n",
       "           fixed: ⋅⋅⋅⋅⋅⋅⋅⋅⋅⋅⋅⋅⋅⋅⋅⋅⋅⋅⋅⋅ 0                fixed: ████████████████████ 43    \n",
       "          infeas: ⋅⋅⋅⋅⋅⋅⋅⋅⋅⋅⋅⋅⋅⋅⋅⋅⋅⋅⋅⋅ 0               infeas: ⋅⋅⋅⋅⋅⋅⋅⋅⋅⋅⋅⋅⋅⋅⋅⋅⋅⋅⋅⋅ 0     \n",
       "            nnzh: (100.00% sparsity)   0               linear: ████████████████████ 43    \n",
       "                                                    nonlinear: ⋅⋅⋅⋅⋅⋅⋅⋅⋅⋅⋅⋅⋅⋅⋅⋅⋅⋅⋅⋅ 0     \n",
       "                                                         nnzj: ( 89.30% sparsity)   313   \n",
       "\n"
      ]
     },
     "execution_count": 1054,
     "metadata": {},
     "output_type": "execute_result"
    }
   ],
   "source": [
    "# problem 3   kb2    obj  -1.7499001299E+03\n",
    "kb2 = string(path_pb, \"\\\\KB2.SIF\")\n",
    "qpdata3 = readqps(kb2)\n",
    "QM3 = createQuadraticModel(qpdata3)\n",
    "SM3 = SlackModel(QM3)\n",
    "SM3.meta"
   ]
  },
  {
   "cell_type": "code",
   "execution_count": 1055,
   "metadata": {
    "scrolled": true
   },
   "outputs": [
    {
     "name": "stdout",
     "output_type": "stream",
     "text": [
      "Generic Execution stats\n",
      "  status: solved to within acceptable tolerances\n",
      "  objective value: -1749.9001290780554\n",
      "  primal feasibility: 3.2723335152695654e-10\n",
      "  dual feasibility: 2.605568730354291e-10\n",
      "  solution: [0.8118211857870404  1.0606369112844212e-6  1.173684721647285e-6  3.5768616685489933e-7 ⋯ -783.4591629860656]\n",
      "  multipliers: [17.26920829482688  17.21410172627485  16.94204561895475  16.65983843466653 ⋯ -2.350967636195242e-10]\n",
      "  multipliers_L: [2.6040911560822324e-8  0.0638117722508409  0.048961642033256564  0.10208320472699099 ⋯ 0.0]\n",
      "  multipliers_U: [0.0  2.786904852985292e-9  0.0  0.0 ⋯ 3.301343666678938e-11]\n",
      "  iterations: "
     ]
    },
    {
     "name": "stderr",
     "output_type": "stream",
     "text": [
      "┌ Info:   Iter    primal       pdd   rb cond   rc cond      ‖Δx‖         μ  \n",
      "└ @ Main In[1042]:78\n",
      "┌ Info:  0.0e+00  -1.0e+03   1.7e+01   1.4e+03   3.8e+01   0.0e+00   3.2e+02\n",
      "└ @ Main In[1042]:83\n",
      "┌ Info:  1.0e+00  -2.6e+02   6.7e+01   3.6e+02   3.2e+00   8.7e+01   2.5e+02\n",
      "└ @ Main In[1042]:180\n",
      "┌ Info:  2.0e+00  -1.7e+02   8.8e+01   2.3e+02   2.7e+00   2.7e+01   2.2e+02\n",
      "└ @ Main In[1042]:180\n",
      "┌ Info:  3.0e+00  -1.4e+02   8.4e+01   1.8e+02   2.1e+00   4.6e+01   1.8e+02\n",
      "└ @ Main In[1042]:180\n",
      "┌ Info:  4.0e+00  -1.0e+02   7.9e+01   6.4e+01   1.4e+00   2.8e+02   1.3e+02\n",
      "└ @ Main In[1042]:180\n",
      "┌ Info:  5.0e+00  -1.1e+02   1.5e+01   1.5e-03   2.8e-01   3.0e+02   2.8e+01\n",
      "└ @ Main In[1042]:180\n",
      "┌ Info:  6.0e+00  -2.2e+02   1.7e+00   7.5e-04   8.7e-02   5.7e+02   8.6e+00\n",
      "└ @ Main In[1042]:180\n",
      "┌ Info:  7.0e+00  -8.6e+02   2.6e-01   6.1e-04   7.2e-02   3.3e+03   7.9e+00\n",
      "└ @ Main In[1042]:180\n",
      "┌ Info:  8.0e+00  -1.3e+03   2.7e-01   5.7e-04   6.3e-02   2.4e+03   9.9e+00\n",
      "└ @ Main In[1042]:180\n",
      "┌ Info:  9.0e+00  -1.5e+03   1.8e-01   4.8e-04   4.9e-02   1.2e+03   9.7e+00\n",
      "└ @ Main In[1042]:180\n",
      "┌ Info:  1.0e+01  -1.4e+03   3.0e-01   3.6e-04   2.5e-02   6.0e+02   1.2e+01\n",
      "└ @ Main In[1042]:180\n",
      "┌ Info:  1.1e+01  -1.7e+03   1.1e-01   8.0e-05   2.0e-02   2.0e+03   8.8e+00\n",
      "└ @ Main In[1042]:180\n",
      "┌ Info:  1.2e+01  -1.7e+03   8.8e-03   6.3e-05   1.8e-03   5.1e+02   8.2e-01\n",
      "└ @ Main In[1042]:180\n",
      "┌ Info:  1.3e+01  -1.7e+03   3.5e-03   3.7e-06   3.8e-04   2.6e+02   2.1e-01\n",
      "└ @ Main In[1042]:180\n",
      "┌ Info:  1.4e+01  -1.7e+03   1.2e-03   1.3e-06   9.6e-05   7.3e+01   5.8e-02\n",
      "└ @ Main In[1042]:180\n",
      "┌ Info:  1.5e+01  -1.7e+03   1.3e-03   7.6e-07   4.3e-05   6.7e+02   4.2e-02\n",
      "└ @ Main In[1042]:180\n",
      "┌ Info:  1.6e+01  -1.7e+03   1.6e-04   4.4e-07   3.4e-06   8.5e+01   4.6e-03\n",
      "└ @ Main In[1042]:180\n",
      "┌ Info:  1.7e+01  -1.7e+03   2.5e-05   1.1e-07   6.0e-07   6.1e+01   5.6e-04\n",
      "└ @ Main In[1042]:180\n",
      "┌ Info:  1.8e+01  -1.7e+03   2.6e-07   2.7e-08   3.4e-08   3.4e+00   6.1e-06\n",
      "└ @ Main In[1042]:180\n",
      "┌ Info:  1.9e+01  -1.7e+03   1.3e-09   3.3e-10   2.6e-10   1.6e-02   3.0e-08\n",
      "└ @ Main In[1042]:180\n"
     ]
    },
    {
     "name": "stdout",
     "output_type": "stream",
     "text": [
      "19\n",
      "  elapsed time: 0.009999990463256836\n"
     ]
    }
   ],
   "source": [
    "stats_mpc3 =  mehrotraPCQuadBounds(SM3);\n",
    "println(stats_mpc3)"
   ]
  },
  {
   "cell_type": "code",
   "execution_count": 1056,
   "metadata": {},
   "outputs": [
    {
     "data": {
      "text/plain": [
       "BenchmarkTools.Trial: \n",
       "  memory estimate:  1.45 MiB\n",
       "  allocs estimate:  5858\n",
       "  --------------\n",
       "  minimum time:     1.089 ms (0.00% GC)\n",
       "  median time:      1.130 ms (0.00% GC)\n",
       "  mean time:        1.217 ms (5.69% GC)\n",
       "  maximum time:     4.928 ms (58.23% GC)\n",
       "  --------------\n",
       "  samples:          4097\n",
       "  evals/sample:     1"
      ]
     },
     "execution_count": 1056,
     "metadata": {},
     "output_type": "execute_result"
    }
   ],
   "source": [
    "@benchmark mehrotraPCQuadBounds(SM3, display = false)"
   ]
  },
  {
   "cell_type": "code",
   "execution_count": 1048,
   "metadata": {
    "scrolled": true
   },
   "outputs": [
    {
     "name": "stderr",
     "output_type": "stream",
     "text": [
      "┌ Info: Using 'AGG3' as NAME (l. 5)\n",
      "└ @ QPSReader C:\\Users\\Geoffroy Leconte\\.julia\\packages\\QPSReader\\usDQr\\src\\readqps.jl:751\n",
      "┌ Info: Using 'OBJECTIV' as objective (l. 536)\n",
      "└ @ QPSReader C:\\Users\\Geoffroy Leconte\\.julia\\packages\\QPSReader\\usDQr\\src\\readqps.jl:350\n",
      "┌ Info: Using 'RHS' as RHS (l. 2884)\n",
      "└ @ QPSReader C:\\Users\\Geoffroy Leconte\\.julia\\packages\\QPSReader\\usDQr\\src\\readqps.jl:470\n"
     ]
    },
    {
     "data": {
      "text/plain": [
       "  Problem name: qp_pb-slack\n",
       "   All variables: ████████████████████ 758    All constraints: ████████████████████ 516   \n",
       "            free: ⋅⋅⋅⋅⋅⋅⋅⋅⋅⋅⋅⋅⋅⋅⋅⋅⋅⋅⋅⋅ 0                 free: ⋅⋅⋅⋅⋅⋅⋅⋅⋅⋅⋅⋅⋅⋅⋅⋅⋅⋅⋅⋅ 0     \n",
       "           lower: ████████⋅⋅⋅⋅⋅⋅⋅⋅⋅⋅⋅⋅ 302              lower: ⋅⋅⋅⋅⋅⋅⋅⋅⋅⋅⋅⋅⋅⋅⋅⋅⋅⋅⋅⋅ 0     \n",
       "           upper: █████████████⋅⋅⋅⋅⋅⋅⋅ 456              upper: ⋅⋅⋅⋅⋅⋅⋅⋅⋅⋅⋅⋅⋅⋅⋅⋅⋅⋅⋅⋅ 0     \n",
       "         low/upp: ⋅⋅⋅⋅⋅⋅⋅⋅⋅⋅⋅⋅⋅⋅⋅⋅⋅⋅⋅⋅ 0              low/upp: ⋅⋅⋅⋅⋅⋅⋅⋅⋅⋅⋅⋅⋅⋅⋅⋅⋅⋅⋅⋅ 0     \n",
       "           fixed: ⋅⋅⋅⋅⋅⋅⋅⋅⋅⋅⋅⋅⋅⋅⋅⋅⋅⋅⋅⋅ 0                fixed: ████████████████████ 516   \n",
       "          infeas: ⋅⋅⋅⋅⋅⋅⋅⋅⋅⋅⋅⋅⋅⋅⋅⋅⋅⋅⋅⋅ 0               infeas: ⋅⋅⋅⋅⋅⋅⋅⋅⋅⋅⋅⋅⋅⋅⋅⋅⋅⋅⋅⋅ 0     \n",
       "            nnzh: (100.00% sparsity)   0               linear: ████████████████████ 516   \n",
       "                                                    nonlinear: ⋅⋅⋅⋅⋅⋅⋅⋅⋅⋅⋅⋅⋅⋅⋅⋅⋅⋅⋅⋅ 0     \n",
       "                                                         nnzj: ( 98.78% sparsity)   4756  \n",
       "\n"
      ]
     },
     "execution_count": 1048,
     "metadata": {},
     "output_type": "execute_result"
    }
   ],
   "source": [
    "# problems AGG2, BNL2, FFFFF800, CYCLE\n",
    "pb4 = string(path_pb, \"\\\\AGG3.SIF\")\n",
    "qpdata4 = readqps(pb4)\n",
    "QM4 = createQuadraticModel(qpdata4)\n",
    "SM4 = SlackModel(QM4)\n",
    "SM4.meta"
   ]
  },
  {
   "cell_type": "code",
   "execution_count": 1049,
   "metadata": {},
   "outputs": [
    {
     "name": "stderr",
     "output_type": "stream",
     "text": [
      "┌ Info:   Iter    primal       pdd   rb cond   rc cond      ‖Δx‖         μ  \n",
      "└ @ Main In[1042]:78\n",
      "┌ Info:  0.0e+00   4.7e+08   9.0e+03   4.0e+07   2.6e+05   0.0e+00   2.4e+10\n",
      "└ @ Main In[1042]:83\n",
      "┌ Info:  1.0e+00   5.5e+08   2.1e+03   7.7e+06   1.2e+04   1.7e+06   4.4e+09\n",
      "└ @ Main In[1042]:180\n",
      "┌ Info:  2.0e+00   5.8e+08   7.7e+02   8.2e+05   2.5e+03   5.9e+05   8.3e+08\n",
      "└ @ Main In[1042]:180\n",
      "┌ Info:  3.0e+00   8.0e+08   1.9e+02   1.4e+05   6.0e+02   4.1e+05   2.3e+08\n",
      "└ @ Main In[1042]:180\n",
      "┌ Info:  4.0e+00   8.1e+08   1.8e+01   1.0e+04   2.5e+01   2.6e+05   1.9e+07\n",
      "└ @ Main In[1042]:180\n",
      "┌ Info:  5.0e+00   5.4e+08   1.2e+01   5.9e+03   6.9e+00   5.5e+05   8.7e+06\n",
      "└ @ Main In[1042]:180\n",
      "┌ Info:  6.0e+00   2.2e+08   8.0e+00   1.9e+03   1.6e+00   5.4e+05   2.3e+06\n",
      "└ @ Main In[1042]:180\n",
      "┌ Info:  7.0e+00   1.1e+08   9.5e+00   6.1e+02   7.8e-01   2.8e+05   1.3e+06\n",
      "└ @ Main In[1042]:180\n",
      "┌ Info:  8.0e+00   7.1e+07   6.3e+00   2.1e+02   5.0e-02   5.8e+05   5.9e+05\n",
      "└ @ Main In[1042]:180\n",
      "┌ Info:  9.0e+00   3.6e+07   4.9e+00   5.7e+01   1.2e-02   2.3e+05   2.3e+05\n",
      "└ @ Main In[1042]:180\n",
      "┌ Info:  1.0e+01   1.8e+07   3.1e+00   1.2e+01   4.1e-03   4.2e+05   7.5e+04\n",
      "└ @ Main In[1042]:180\n",
      "┌ Info:  1.1e+01   1.3e+07   1.1e+00   1.6e+00   7.6e-04   1.4e+05   2.0e+04\n",
      "└ @ Main In[1042]:180\n",
      "┌ Info:  1.2e+01   1.1e+07   3.2e-01   4.8e-01   9.3e-04   1.5e+05   4.8e+03\n",
      "└ @ Main In[1042]:180\n",
      "┌ Info:  1.3e+01   1.1e+07   1.7e-01   1.2e-01   1.4e-03   2.2e+05   2.5e+03\n",
      "└ @ Main In[1042]:180\n",
      "┌ Info:  1.4e+01   1.1e+07   1.0e-01   3.1e-02   7.9e-04   9.2e+04   1.4e+03\n",
      "└ @ Main In[1042]:180\n",
      "┌ Info:  1.5e+01   1.0e+07   2.0e-02   1.5e-03   7.3e-04   1.5e+05   2.7e+02\n",
      "└ @ Main In[1042]:180\n",
      "┌ Info:  1.6e+01   1.0e+07   5.0e-03   2.3e-04   2.3e-04   6.8e+04   6.9e+01\n",
      "└ @ Main In[1042]:180\n",
      "┌ Info:  1.7e+01   1.0e+07   1.4e-03   5.5e-05   6.5e-05   1.5e+04   1.9e+01\n",
      "└ @ Main In[1042]:180\n",
      "┌ Info:  1.8e+01   1.0e+07   1.7e-04   2.1e-06   1.9e-05   8.8e+03   2.4e+00\n",
      "└ @ Main In[1042]:180\n",
      "┌ Info:  1.9e+01   1.0e+07   1.8e-05   2.2e-07   3.2e-06   8.4e+02   2.6e-01\n",
      "└ @ Main In[1042]:180\n",
      "┌ Info:  2.0e+01   1.0e+07   8.4e-08   1.3e-08   2.8e-07   6.9e+01   1.4e-03\n",
      "└ @ Main In[1042]:180\n",
      "┌ Info:  2.1e+01   1.0e+07   6.8e-08   1.9e+01   1.9e-04   9.2e+02   1.4e-03\n",
      "└ @ Main In[1042]:180\n",
      "┌ Info:  2.2e+01   1.0e+07   2.2e-10   9.5e-02   9.7e-07   4.6e-01   7.0e-06\n",
      "└ @ Main In[1042]:180\n",
      "┌ Info:  2.3e+01   1.0e+07   6.4e-11   1.6e+03   9.4e-07   6.9e+02   7.0e-06\n",
      "└ @ Main In[1042]:180\n"
     ]
    },
    {
     "ename": "LDLFactorizations.SQDException",
     "evalue": "LDLFactorizations.SQDException(\"matrix does not possess a LDL' factorization for this permutation\")",
     "output_type": "error",
     "traceback": [
      "LDLFactorizations.SQDException(\"matrix does not possess a LDL' factorization for this permutation\")",
      "",
      "Stacktrace:",
      " [1] ldl_numeric_upper!(::Int64, ::Array{Int64,1}, ::Array{Int64,1}, ::Array{Float64,1}, ::Array{Int64,1}, ::Array{Int64,1}, ::Array{Int64,1}, ::Array{Int64,1}, ::Array{Int64,1}, ::Array{Int64,1}, ::Array{Float64,1}, ::Array{Float64,1}, ::Array{Float64,1}, ::Array{Int64,1}, ::Array{Int64,1}, ::Array{Int64,1}, ::Array{Int64,1}) at C:\\Users\\Geoffroy Leconte\\.julia\\packages\\LDLFactorizations\\mEQjT\\src\\LDLFactorizations.jl:196",
      " [2] ldl(::SparseMatrixCSC{Float64,Int64}, ::Array{Int64,1}; upper::Bool) at C:\\Users\\Geoffroy Leconte\\.julia\\packages\\LDLFactorizations\\mEQjT\\src\\LDLFactorizations.jl:352",
      " [3] ldl(::Symmetric{Float64,SparseMatrixCSC{Float64,Int64}}, ::Array{Int64,1}) at C:\\Users\\Geoffroy Leconte\\.julia\\packages\\LDLFactorizations\\mEQjT\\src\\LDLFactorizations.jl:309",
      " [4] mehrotraPCQuadBounds(::SlackModel; max_iter::Int64, ϵ_pdd::Float64, ϵ_rb::Float64, ϵ_rc::Float64, tol_Δx::Float64, ϵ_μ::Float64, max_time::Float64, display::Bool) at .\\In[1042]:99",
      " [5] top-level scope at In[1049]:1"
     ]
    }
   ],
   "source": [
    "stats_mpc4 =  mehrotraPCQuadBounds(SM4, max_iter = 150);\n",
    "println(stats_mpc4)"
   ]
  },
  {
   "cell_type": "markdown",
   "metadata": {},
   "source": [
    "# Tests sur tous les problèmes"
   ]
  },
  {
   "cell_type": "code",
   "execution_count": 752,
   "metadata": {},
   "outputs": [],
   "source": [
    "# T = typeof(SM2.meta)\n",
    "# for (name, typ) in zip(fieldnames(T), T.types)\n",
    "#     println(\"type of the fieldname $name is $typ\")\n",
    "# end"
   ]
  },
  {
   "cell_type": "code",
   "execution_count": 753,
   "metadata": {},
   "outputs": [
    {
     "name": "stdout",
     "output_type": "stream",
     "text": [
      "25FV47.SIF\n"
     ]
    },
    {
     "name": "stderr",
     "output_type": "stream",
     "text": [
      "┌ Info: Using '25FV47' as NAME (l. 5)\n",
      "└ @ QPSReader C:\\Users\\Geoffroy Leconte\\.julia\\packages\\QPSReader\\usDQr\\src\\readqps.jl:751\n"
     ]
    },
    {
     "name": "stdout",
     "output_type": "stream",
     "text": [
      "ADLITTLE.SIF\n",
      "AFIRO.SIF\n",
      "AGG.SIF\n"
     ]
    },
    {
     "name": "stderr",
     "output_type": "stream",
     "text": [
      "┌ Info: Using 'R0000' as objective (l. 21)\n",
      "└ @ QPSReader C:\\Users\\Geoffroy Leconte\\.julia\\packages\\QPSReader\\usDQr\\src\\readqps.jl:350\n",
      "┌ Info: Using '.00001' as RHS (l. 6793)\n",
      "└ @ QPSReader C:\\Users\\Geoffroy Leconte\\.julia\\packages\\QPSReader\\usDQr\\src\\readqps.jl:470\n",
      "┌ Info: Using 'ADLITTLE' as NAME (l. 5)\n",
      "└ @ QPSReader C:\\Users\\Geoffroy Leconte\\.julia\\packages\\QPSReader\\usDQr\\src\\readqps.jl:751\n",
      "┌ Info: Using '.Z....' as objective (l. 20)\n",
      "└ @ QPSReader C:\\Users\\Geoffroy Leconte\\.julia\\packages\\QPSReader\\usDQr\\src\\readqps.jl:350\n",
      "┌ Info: Using 'ZZZZ0001' as RHS (l. 333)\n",
      "└ @ QPSReader C:\\Users\\Geoffroy Leconte\\.julia\\packages\\QPSReader\\usDQr\\src\\readqps.jl:470\n",
      "┌ Info: Using 'AFIRO' as NAME (l. 5)\n",
      "└ @ QPSReader C:\\Users\\Geoffroy Leconte\\.julia\\packages\\QPSReader\\usDQr\\src\\readqps.jl:751\n",
      "┌ Info: Using 'COST' as objective (l. 47)\n",
      "└ @ QPSReader C:\\Users\\Geoffroy Leconte\\.julia\\packages\\QPSReader\\usDQr\\src\\readqps.jl:350\n",
      "┌ Info: Using 'B' as RHS (l. 96)\n",
      "└ @ QPSReader C:\\Users\\Geoffroy Leconte\\.julia\\packages\\QPSReader\\usDQr\\src\\readqps.jl:470\n",
      "┌ Info: Using 'AGG' as NAME (l. 5)\n",
      "└ @ QPSReader C:\\Users\\Geoffroy Leconte\\.julia\\packages\\QPSReader\\usDQr\\src\\readqps.jl:751\n",
      "┌ Info: Using 'OBJECTIV' as objective (l. 509)\n",
      "└ @ QPSReader C:\\Users\\Geoffroy Leconte\\.julia\\packages\\QPSReader\\usDQr\\src\\readqps.jl:350\n"
     ]
    },
    {
     "name": "stdout",
     "output_type": "stream",
     "text": [
      "AGG2.SIF\n"
     ]
    },
    {
     "name": "stderr",
     "output_type": "stream",
     "text": [
      "┌ Info: Using 'AGG' as RHS (l. 1852)\n",
      "└ @ QPSReader C:\\Users\\Geoffroy Leconte\\.julia\\packages\\QPSReader\\usDQr\\src\\readqps.jl:470\n",
      "┌ Info: Using 'AGG2' as NAME (l. 5)\n",
      "└ @ QPSReader C:\\Users\\Geoffroy Leconte\\.julia\\packages\\QPSReader\\usDQr\\src\\readqps.jl:751\n",
      "┌ Info: Using 'OBJECTIV' as objective (l. 536)\n",
      "└ @ QPSReader C:\\Users\\Geoffroy Leconte\\.julia\\packages\\QPSReader\\usDQr\\src\\readqps.jl:350\n",
      "┌ Info: Using 'RHS' as RHS (l. 2878)\n",
      "└ @ QPSReader C:\\Users\\Geoffroy Leconte\\.julia\\packages\\QPSReader\\usDQr\\src\\readqps.jl:470\n"
     ]
    }
   ],
   "source": [
    "problems = []\n",
    "i_max = 5\n",
    "i = 1\n",
    "for file_name in readdir(path_pb)\n",
    "    if file_name[end-3:end] == \".SIF\" && !(file_name in [\"80BAU3B.SIF\" ; \"BORE3D.SIF\"; \n",
    "                                                        \"CAPRI.SIF\"; \"CZPROB.SIF\"; \n",
    "                                                        \"ETAMACRO.SIF\"; \"FINNIS.SIF\";\n",
    "                                                        \"FORPLAN.SIF\"; \"GREENBEA.SIF\";\n",
    "                                                        \"GREENBEB.SIF\"; \"MAROS.SIF\";\n",
    "                                                        \"NESM.SIF\"; \"PEROLD.SIF\";\n",
    "                                                         \"PILOT-JA.SIF\"; \"PILOT-WE.SIF\";\n",
    "                                                         \"PILOT.SIF\"; \"PILOT4.SIF\";\n",
    "                                                         \"PILOT87.SIF\"; \"PILOTNOV.SIF\";\n",
    "                                                          \"RECIPELP.SIF\"; \"SHELL.SIF\";\n",
    "                                                         \"SIERRA.SIF\"; \"STAIR.SIF\";\n",
    "                                                         \"STANDATA.SIF\"; \"STANDGUB.SIF\";\n",
    "                                                        \"STANDMPS.SIF\"; \"TUFF.SIF\";\n",
    "                                                        \"VTP-BASE.SIF\"])   # problems with fixed variables\n",
    "\n",
    "\n",
    "        println(file_name)\n",
    "        pb_i = string(path_pb, \"\\\\\", file_name)\n",
    "        if file_name in [\"BLEND.SIF\"; \"DFL001.SIF\"; \"FORPLAN.SIF\"; \"GFRD-PNC.SIF\"; \"SIERRA.SIF\"]\n",
    "            qpdata_i = readqps(pb_i, mpsformat=:fixed) \n",
    "        else\n",
    "            qpdata_i = readqps(pb_i) \n",
    "        end\n",
    "        push!(problems, SlackModel(createQuadraticModel(qpdata_i, name=file_name[1:end-4])))\n",
    "        \n",
    "        if i==i_max\n",
    "            break\n",
    "        end\n",
    "        i += 1\n",
    "    end\n",
    "end\n"
   ]
  },
  {
   "cell_type": "code",
   "execution_count": 1019,
   "metadata": {},
   "outputs": [
    {
     "data": {
      "text/plain": [
       "\"ADLITTLE-slack\""
      ]
     },
     "execution_count": 1019,
     "metadata": {},
     "output_type": "execute_result"
    }
   ],
   "source": [
    "problems[2].meta.name"
   ]
  },
  {
   "cell_type": "code",
   "execution_count": 1020,
   "metadata": {},
   "outputs": [
    {
     "name": "stderr",
     "output_type": "stream",
     "text": [
      "┌ Info:            Name           status      Time      f(x)      Dual    Primal  \n",
      "└ @ SolverTools C:\\Users\\Geoffroy Leconte\\.julia\\packages\\SolverTools\\whyGk\\src\\bmark\\run_solver.jl:67\n",
      "┌ Info:    25FV47-slack       acceptable   9.6e-02   5.5e+03   3.3e-08   9.9e-11\n",
      "└ @ SolverTools C:\\Users\\Geoffroy Leconte\\.julia\\packages\\SolverTools\\whyGk\\src\\bmark\\run_solver.jl:83\n",
      "┌ Info:  ADLITTLE-slack       acceptable   2.0e-03   2.3e+05   7.4e-10   6.4e-09\n",
      "└ @ SolverTools C:\\Users\\Geoffroy Leconte\\.julia\\packages\\SolverTools\\whyGk\\src\\bmark\\run_solver.jl:83\n",
      "┌ Info:     AFIRO-slack       acceptable   1.0e-03  -4.6e+02   3.6e-12   5.7e-13\n",
      "└ @ SolverTools C:\\Users\\Geoffroy Leconte\\.julia\\packages\\SolverTools\\whyGk\\src\\bmark\\run_solver.jl:83\n",
      "┌ Info:       AGG-slack       acceptable   1.0e-02  -3.6e+07   1.4e-11   9.0e-09\n",
      "└ @ SolverTools C:\\Users\\Geoffroy Leconte\\.julia\\packages\\SolverTools\\whyGk\\src\\bmark\\run_solver.jl:83\n",
      "┌ Info:      AGG2-slack       acceptable   3.6e-02  -2.0e+07   2.4e-07   1.2e-09\n",
      "└ @ SolverTools C:\\Users\\Geoffroy Leconte\\.julia\\packages\\SolverTools\\whyGk\\src\\bmark\\run_solver.jl:83\n"
     ]
    },
    {
     "data": {
      "text/html": [
       "<table class=\"data-frame\"><thead><tr><th></th><th>id</th><th>name</th><th>nvar</th><th>ncon</th><th>nequ</th><th>status</th><th>objective</th><th>elapsed_time</th></tr><tr><th></th><th>Int64</th><th>String</th><th>Int64</th><th>Int64</th><th>Int64</th><th>Symbol</th><th>Float64</th><th>Float64</th></tr></thead><tbody><p>5 rows × 30 columns (omitted printing of 22 columns)</p><tr><th>1</th><td>1</td><td>25FV47-slack</td><td>1876</td><td>821</td><td>0</td><td>acceptable</td><td>5501.85</td><td>0.0960002</td></tr><tr><th>2</th><td>2</td><td>ADLITTLE-slack</td><td>138</td><td>56</td><td>0</td><td>acceptable</td><td>225495.0</td><td>0.00200009</td></tr><tr><th>3</th><td>3</td><td>AFIRO-slack</td><td>51</td><td>27</td><td>0</td><td>acceptable</td><td>-464.753</td><td>0.000999928</td></tr><tr><th>4</th><td>4</td><td>AGG-slack</td><td>615</td><td>488</td><td>0</td><td>acceptable</td><td>-3.59918e7</td><td>0.00999999</td></tr><tr><th>5</th><td>5</td><td>AGG2-slack</td><td>758</td><td>516</td><td>0</td><td>acceptable</td><td>-2.02393e7</td><td>0.036</td></tr></tbody></table>"
      ],
      "text/latex": [
       "\\begin{tabular}{r|ccccccccc}\n",
       "\t& id & name & nvar & ncon & nequ & status & objective & elapsed\\_time & \\\\\n",
       "\t\\hline\n",
       "\t& Int64 & String & Int64 & Int64 & Int64 & Symbol & Float64 & Float64 & \\\\\n",
       "\t\\hline\n",
       "\t1 & 1 & 25FV47-slack & 1876 & 821 & 0 & acceptable & 5501.85 & 0.0960002 & $\\dots$ \\\\\n",
       "\t2 & 2 & ADLITTLE-slack & 138 & 56 & 0 & acceptable & 225495.0 & 0.00200009 & $\\dots$ \\\\\n",
       "\t3 & 3 & AFIRO-slack & 51 & 27 & 0 & acceptable & -464.753 & 0.000999928 & $\\dots$ \\\\\n",
       "\t4 & 4 & AGG-slack & 615 & 488 & 0 & acceptable & -3.59918e7 & 0.00999999 & $\\dots$ \\\\\n",
       "\t5 & 5 & AGG2-slack & 758 & 516 & 0 & acceptable & -2.02393e7 & 0.036 & $\\dots$ \\\\\n",
       "\\end{tabular}\n"
      ],
      "text/plain": [
       "5×30 DataFrame. Omitted printing of 24 columns\n",
       "│ Row │ id    │ name           │ nvar  │ ncon  │ nequ  │ status     │\n",
       "│     │ \u001b[90mInt64\u001b[39m │ \u001b[90mString\u001b[39m         │ \u001b[90mInt64\u001b[39m │ \u001b[90mInt64\u001b[39m │ \u001b[90mInt64\u001b[39m │ \u001b[90mSymbol\u001b[39m     │\n",
       "├─────┼───────┼────────────────┼───────┼───────┼───────┼────────────┤\n",
       "│ 1   │ 1     │ 25FV47-slack   │ 1876  │ 821   │ 0     │ acceptable │\n",
       "│ 2   │ 2     │ ADLITTLE-slack │ 138   │ 56    │ 0     │ acceptable │\n",
       "│ 3   │ 3     │ AFIRO-slack    │ 51    │ 27    │ 0     │ acceptable │\n",
       "│ 4   │ 4     │ AGG-slack      │ 615   │ 488   │ 0     │ acceptable │\n",
       "│ 5   │ 5     │ AGG2-slack     │ 758   │ 516   │ 0     │ acceptable │"
      ]
     },
     "execution_count": 1020,
     "metadata": {},
     "output_type": "execute_result"
    }
   ],
   "source": [
    "problems_stats = solve_problems(mehrotraPCQuadBounds, problems, \n",
    "                                colstats=[:name, :status, :elapsed_time, :objective, :dual_feas, :primal_feas])"
   ]
  },
  {
   "cell_type": "code",
   "execution_count": 756,
   "metadata": {},
   "outputs": [
    {
     "name": "stdout",
     "output_type": "stream",
     "text": [
      "|\u001b[0m\u001b[1m    id \u001b[0m|\u001b[0m\u001b[1m           name \u001b[0m|\u001b[0m\u001b[1m  nvar \u001b[0m|\u001b[0m\u001b[1m  ncon \u001b[0m|\u001b[0m\u001b[1m  nequ \u001b[0m|\u001b[0m\u001b[1m     status \u001b[0m|\u001b[0m\u001b[1m objective \u001b[0m|\u001b[0m\u001b[1m el\u001b[0m ⋯\n",
      "|\u001b[0m-------\u001b[0m|\u001b[0m----------------\u001b[0m|\u001b[0m-------\u001b[0m|\u001b[0m-------\u001b[0m|\u001b[0m-------\u001b[0m|\u001b[0m------------\u001b[0m|\u001b[0m-----------\u001b[0m|\u001b[0m---\u001b[0m ⋯\n",
      "|\u001b[0m\u001b[31;1m     1 \u001b[0m|\u001b[0m\u001b[31;1m   25FV47-slack \u001b[0m|\u001b[0m\u001b[31;1m  1876 \u001b[0m|\u001b[0m\u001b[31;1m   821 \u001b[0m|\u001b[0m\u001b[31;1m     0 \u001b[0m|\u001b[0m\u001b[31;1m acceptable \u001b[0m|\u001b[0m\u001b[31;1m   5.5e+03 \u001b[0m|\u001b[0m\u001b[31;1m   \u001b[0m ⋯\n",
      "|\u001b[0m\u001b[31;1m     2 \u001b[0m|\u001b[0m\u001b[31;1m ADLITTLE-slack \u001b[0m|\u001b[0m\u001b[31;1m   138 \u001b[0m|\u001b[0m\u001b[31;1m    56 \u001b[0m|\u001b[0m\u001b[31;1m     0 \u001b[0m|\u001b[0m\u001b[31;1m acceptable \u001b[0m|\u001b[0m\u001b[31;1m   2.3e+05 \u001b[0m|\u001b[0m\u001b[31;1m   \u001b[0m ⋯\n",
      "|\u001b[0m\u001b[31;1m     3 \u001b[0m|\u001b[0m\u001b[31;1m    AFIRO-slack \u001b[0m|\u001b[0m\u001b[31;1m    51 \u001b[0m|\u001b[0m\u001b[31;1m    27 \u001b[0m|\u001b[0m\u001b[31;1m     0 \u001b[0m|\u001b[0m\u001b[31;1m acceptable \u001b[0m|\u001b[0m\u001b[31;1m  -4.6e+02 \u001b[0m|\u001b[0m\u001b[31;1m   \u001b[0m ⋯\n",
      "|\u001b[0m\u001b[31;1m     4 \u001b[0m|\u001b[0m\u001b[31;1m      AGG-slack \u001b[0m|\u001b[0m\u001b[31;1m   615 \u001b[0m|\u001b[0m\u001b[31;1m   488 \u001b[0m|\u001b[0m\u001b[31;1m     0 \u001b[0m|\u001b[0m\u001b[31;1m acceptable \u001b[0m|\u001b[0m\u001b[31;1m  -3.6e+07 \u001b[0m|\u001b[0m\u001b[31;1m   \u001b[0m ⋯\n",
      "|\u001b[0m\u001b[31;1m     5 \u001b[0m|\u001b[0m\u001b[31;1m     AGG2-slack \u001b[0m|\u001b[0m\u001b[31;1m   758 \u001b[0m|\u001b[0m\u001b[31;1m   516 \u001b[0m|\u001b[0m\u001b[31;1m     0 \u001b[0m|\u001b[0m\u001b[31;1m acceptable \u001b[0m|\u001b[0m\u001b[31;1m  -2.0e+07 \u001b[0m|\u001b[0m\u001b[31;1m   \u001b[0m ⋯\n"
     ]
    }
   ],
   "source": [
    "markdown_table(stdout, problems_stats)"
   ]
  },
  {
   "cell_type": "markdown",
   "metadata": {},
   "source": [
    "# Résultats sur tous les problèmes netlib"
   ]
  },
  {
   "cell_type": "code",
   "execution_count": 686,
   "metadata": {},
   "outputs": [],
   "source": [
    "using JLD2"
   ]
  },
  {
   "cell_type": "code",
   "execution_count": 687,
   "metadata": {},
   "outputs": [
    {
     "data": {
      "text/html": [
       "<table class=\"data-frame\"><thead><tr><th></th><th>id</th><th>name</th><th>nvar</th><th>ncon</th><th>nequ</th><th>status</th><th>objective</th><th>elapsed_time</th></tr><tr><th></th><th>Int64</th><th>String</th><th>Int64</th><th>Int64</th><th>Int64</th><th>Symbol</th><th>Float64</th><th>Float64</th></tr></thead><tbody><p>5 rows × 30 columns (omitted printing of 22 columns)</p><tr><th>1</th><td>1</td><td>25FV47-slack</td><td>1876</td><td>821</td><td>0</td><td>acceptable</td><td>5501.85</td><td>0.406</td></tr><tr><th>2</th><td>2</td><td>ADLITTLE-slack</td><td>138</td><td>56</td><td>0</td><td>acceptable</td><td>225495.0</td><td>0.00499988</td></tr><tr><th>3</th><td>3</td><td>AFIRO-slack</td><td>51</td><td>27</td><td>0</td><td>acceptable</td><td>-464.753</td><td>0.000999928</td></tr><tr><th>4</th><td>4</td><td>AGG-slack</td><td>615</td><td>488</td><td>0</td><td>acceptable</td><td>-3.59918e7</td><td>0.0180001</td></tr><tr><th>5</th><td>5</td><td>AGG2-slack</td><td>758</td><td>516</td><td>0</td><td>exception</td><td>Inf</td><td>Inf</td></tr></tbody></table>"
      ],
      "text/latex": [
       "\\begin{tabular}{r|ccccccccc}\n",
       "\t& id & name & nvar & ncon & nequ & status & objective & elapsed\\_time & \\\\\n",
       "\t\\hline\n",
       "\t& Int64 & String & Int64 & Int64 & Int64 & Symbol & Float64 & Float64 & \\\\\n",
       "\t\\hline\n",
       "\t1 & 1 & 25FV47-slack & 1876 & 821 & 0 & acceptable & 5501.85 & 0.406 & $\\dots$ \\\\\n",
       "\t2 & 2 & ADLITTLE-slack & 138 & 56 & 0 & acceptable & 225495.0 & 0.00499988 & $\\dots$ \\\\\n",
       "\t3 & 3 & AFIRO-slack & 51 & 27 & 0 & acceptable & -464.753 & 0.000999928 & $\\dots$ \\\\\n",
       "\t4 & 4 & AGG-slack & 615 & 488 & 0 & acceptable & -3.59918e7 & 0.0180001 & $\\dots$ \\\\\n",
       "\t5 & 5 & AGG2-slack & 758 & 516 & 0 & exception & Inf & Inf & $\\dots$ \\\\\n",
       "\\end{tabular}\n"
      ],
      "text/plain": [
       "5×30 DataFrame. Omitted printing of 24 columns\n",
       "│ Row │ id    │ name           │ nvar  │ ncon  │ nequ  │ status     │\n",
       "│     │ \u001b[90mInt64\u001b[39m │ \u001b[90mString\u001b[39m         │ \u001b[90mInt64\u001b[39m │ \u001b[90mInt64\u001b[39m │ \u001b[90mInt64\u001b[39m │ \u001b[90mSymbol\u001b[39m     │\n",
       "├─────┼───────┼────────────────┼───────┼───────┼───────┼────────────┤\n",
       "│ 1   │ 1     │ 25FV47-slack   │ 1876  │ 821   │ 0     │ acceptable │\n",
       "│ 2   │ 2     │ ADLITTLE-slack │ 138   │ 56    │ 0     │ acceptable │\n",
       "│ 3   │ 3     │ AFIRO-slack    │ 51    │ 27    │ 0     │ acceptable │\n",
       "│ 4   │ 4     │ AGG-slack      │ 615   │ 488   │ 0     │ acceptable │\n",
       "│ 5   │ 5     │ AGG2-slack     │ 758   │ 516   │ 0     │ exception  │"
      ]
     },
     "execution_count": 687,
     "metadata": {},
     "output_type": "execute_result"
    }
   ],
   "source": [
    "jldopen(\"mehrotra.jld2\", \"w\") do file\n",
    "    file[\"test\"] = problems_stats\n",
    "end\n"
   ]
  },
  {
   "cell_type": "code",
   "execution_count": 688,
   "metadata": {},
   "outputs": [
    {
     "data": {
      "text/plain": [
       "\"C:\\\\Users\\\\Geoffroy Leconte\\\\Documents\\\\cours\\\\TFE\\\\code\\\\results\\\\mehrotra\""
      ]
     },
     "execution_count": 688,
     "metadata": {},
     "output_type": "execute_result"
    }
   ],
   "source": [
    "res_path = \"C:\\\\Users\\\\Geoffroy Leconte\\\\Documents\\\\cours\\\\TFE\\\\code\\\\results\\\\mehrotra\""
   ]
  },
  {
   "cell_type": "code",
   "execution_count": 689,
   "metadata": {},
   "outputs": [
    {
     "data": {
      "text/html": [
       "<table class=\"data-frame\"><thead><tr><th></th><th>id</th><th>name</th><th>nvar</th><th>ncon</th><th>nequ</th><th>status</th><th>objective</th><th>elapsed_time</th><th>iter</th><th>dual_feas</th><th>primal_feas</th><th>neval_obj</th><th>neval_grad</th><th>neval_cons</th><th>neval_jcon</th><th>neval_jgrad</th><th>neval_jac</th><th>neval_jprod</th><th>neval_jtprod</th><th>neval_hess</th><th>neval_hprod</th><th>neval_jhprod</th><th>neval_residual</th><th>neval_jac_residual</th><th>neval_jprod_residual</th><th>neval_jtprod_residual</th><th>neval_hess_residual</th><th>neval_jhess_residual</th><th>neval_hprod_residual</th><th>extrainfo</th></tr><tr><th></th><th>Int64</th><th>String</th><th>Int64</th><th>Int64</th><th>Int64</th><th>Symbol</th><th>Float64</th><th>Float64</th><th>Int64</th><th>Float64</th><th>Float64</th><th>Int64</th><th>Int64</th><th>Int64</th><th>Int64</th><th>Int64</th><th>Int64</th><th>Int64</th><th>Int64</th><th>Int64</th><th>Int64</th><th>Int64</th><th>Int64</th><th>Int64</th><th>Int64</th><th>Int64</th><th>Int64</th><th>Int64</th><th>Int64</th><th>String</th></tr></thead><tbody><p>87 rows × 30 columns</p><tr><th>1</th><td>1</td><td>25FV47-slack</td><td>1876</td><td>821</td><td>0</td><td>acceptable</td><td>5501.85</td><td>0.332413</td><td>27</td><td>3.78299e-9</td><td>1.93184e-11</td><td>1</td><td>1</td><td>0</td><td>0</td><td>0</td><td>1</td><td>0</td><td>0</td><td>1</td><td>0</td><td>0</td><td>0</td><td>0</td><td>0</td><td>0</td><td>0</td><td>0</td><td>0</td><td></td></tr><tr><th>2</th><td>2</td><td>ADLITTLE-slack</td><td>138</td><td>56</td><td>0</td><td>acceptable</td><td>225495.0</td><td>0.00483203</td><td>14</td><td>1.23535e-10</td><td>9.48945e-10</td><td>1</td><td>1</td><td>0</td><td>0</td><td>0</td><td>1</td><td>0</td><td>0</td><td>1</td><td>0</td><td>0</td><td>0</td><td>0</td><td>0</td><td>0</td><td>0</td><td>0</td><td>0</td><td></td></tr><tr><th>3</th><td>3</td><td>AFIRO-slack</td><td>51</td><td>27</td><td>0</td><td>acceptable</td><td>-464.753</td><td>0.00101399</td><td>8</td><td>4.20097e-11</td><td>1.47793e-11</td><td>1</td><td>1</td><td>0</td><td>0</td><td>0</td><td>1</td><td>0</td><td>0</td><td>1</td><td>0</td><td>0</td><td>0</td><td>0</td><td>0</td><td>0</td><td>0</td><td>0</td><td>0</td><td></td></tr><tr><th>4</th><td>4</td><td>AGG-slack</td><td>615</td><td>488</td><td>0</td><td>acceptable</td><td>-3.59918e7</td><td>0.040946</td><td>19</td><td>4.50613e-9</td><td>2.73138e-7</td><td>1</td><td>1</td><td>0</td><td>0</td><td>0</td><td>1</td><td>0</td><td>0</td><td>1</td><td>0</td><td>0</td><td>0</td><td>0</td><td>0</td><td>0</td><td>0</td><td>0</td><td>0</td><td></td></tr><tr><th>5</th><td>5</td><td>AGG2-slack</td><td>758</td><td>516</td><td>0</td><td>exception</td><td>Inf</td><td>Inf</td><td>0</td><td>Inf</td><td>Inf</td><td>0</td><td>0</td><td>0</td><td>0</td><td>0</td><td>0</td><td>0</td><td>0</td><td>0</td><td>0</td><td>0</td><td>0</td><td>0</td><td>0</td><td>0</td><td>0</td><td>0</td><td>0</td><td>LDLFactorizations.SQDException(\"matrix does not possess a LDL' factorization for this permutation\")</td></tr><tr><th>6</th><td>6</td><td>AGG3-slack</td><td>758</td><td>516</td><td>0</td><td>acceptable</td><td>1.03121e7</td><td>0.091418</td><td>20</td><td>2.19973e-8</td><td>2.32831e-10</td><td>1</td><td>1</td><td>0</td><td>0</td><td>0</td><td>1</td><td>0</td><td>0</td><td>1</td><td>0</td><td>0</td><td>0</td><td>0</td><td>0</td><td>0</td><td>0</td><td>0</td><td>0</td><td></td></tr><tr><th>7</th><td>7</td><td>BANDM</td><td>472</td><td>305</td><td>0</td><td>acceptable</td><td>-158.628</td><td>0.10612</td><td>18</td><td>7.70021e-12</td><td>3.92576e-11</td><td>1</td><td>1</td><td>0</td><td>0</td><td>0</td><td>1</td><td>0</td><td>0</td><td>1</td><td>0</td><td>0</td><td>0</td><td>0</td><td>0</td><td>0</td><td>0</td><td>0</td><td>0</td><td></td></tr><tr><th>8</th><td>8</td><td>BEACONFD-slack</td><td>295</td><td>173</td><td>0</td><td>acceptable</td><td>33592.5</td><td>0.0181909</td><td>11</td><td>1.30427e-8</td><td>1.18282e-8</td><td>1</td><td>1</td><td>0</td><td>0</td><td>0</td><td>1</td><td>0</td><td>0</td><td>1</td><td>0</td><td>0</td><td>0</td><td>0</td><td>0</td><td>0</td><td>0</td><td>0</td><td>0</td><td></td></tr><tr><th>9</th><td>9</td><td>BLEND-slack</td><td>114</td><td>74</td><td>0</td><td>acceptable</td><td>-30.8121</td><td>0.00513506</td><td>13</td><td>1.07271e-12</td><td>1.54721e-12</td><td>1</td><td>1</td><td>0</td><td>0</td><td>0</td><td>1</td><td>0</td><td>0</td><td>1</td><td>0</td><td>0</td><td>0</td><td>0</td><td>0</td><td>0</td><td>0</td><td>0</td><td>0</td><td></td></tr><tr><th>10</th><td>10</td><td>BNL1-slack</td><td>1586</td><td>643</td><td>0</td><td>acceptable</td><td>1977.63</td><td>0.215806</td><td>39</td><td>1.97373e-12</td><td>3.33634e-7</td><td>1</td><td>1</td><td>0</td><td>0</td><td>0</td><td>1</td><td>0</td><td>0</td><td>1</td><td>0</td><td>0</td><td>0</td><td>0</td><td>0</td><td>0</td><td>0</td><td>0</td><td>0</td><td></td></tr><tr><th>11</th><td>11</td><td>BNL2-slack</td><td>4486</td><td>2324</td><td>0</td><td>max_iter</td><td>NaN</td><td>11.5666</td><td>500</td><td>NaN</td><td>NaN</td><td>1</td><td>1</td><td>0</td><td>0</td><td>0</td><td>1</td><td>0</td><td>0</td><td>1</td><td>0</td><td>0</td><td>0</td><td>0</td><td>0</td><td>0</td><td>0</td><td>0</td><td>0</td><td></td></tr><tr><th>12</th><td>12</td><td>BOEING1-slack</td><td>726</td><td>351</td><td>0</td><td>acceptable</td><td>-335.214</td><td>0.068768</td><td>25</td><td>7.07314e-10</td><td>1.05366e-10</td><td>1</td><td>1</td><td>0</td><td>0</td><td>0</td><td>1</td><td>0</td><td>0</td><td>1</td><td>0</td><td>0</td><td>0</td><td>0</td><td>0</td><td>0</td><td>0</td><td>0</td><td>0</td><td></td></tr><tr><th>13</th><td>13</td><td>BOEING2-slack</td><td>305</td><td>166</td><td>0</td><td>acceptable</td><td>-315.019</td><td>0.0194292</td><td>21</td><td>4.97421e-12</td><td>8.37642e-11</td><td>1</td><td>1</td><td>0</td><td>0</td><td>0</td><td>1</td><td>0</td><td>0</td><td>1</td><td>0</td><td>0</td><td>0</td><td>0</td><td>0</td><td>0</td><td>0</td><td>0</td><td>0</td><td></td></tr><tr><th>14</th><td>14</td><td>BRANDY-slack</td><td>303</td><td>220</td><td>0</td><td>acceptable</td><td>1518.51</td><td>0.0230429</td><td>18</td><td>6.60095e-10</td><td>2.48068e-9</td><td>1</td><td>1</td><td>0</td><td>0</td><td>0</td><td>1</td><td>0</td><td>0</td><td>1</td><td>0</td><td>0</td><td>0</td><td>0</td><td>0</td><td>0</td><td>0</td><td>0</td><td>0</td><td></td></tr><tr><th>15</th><td>15</td><td>CRE-A-slack</td><td>7248</td><td>3516</td><td>0</td><td>acceptable</td><td>2.35954e7</td><td>0.541912</td><td>36</td><td>2.17148e-8</td><td>4.83715e-8</td><td>1</td><td>1</td><td>0</td><td>0</td><td>0</td><td>1</td><td>0</td><td>0</td><td>1</td><td>0</td><td>0</td><td>0</td><td>0</td><td>0</td><td>0</td><td>0</td><td>0</td><td>0</td><td></td></tr><tr><th>16</th><td>16</td><td>CRE-B-slack</td><td>77137</td><td>9648</td><td>0</td><td>acceptable</td><td>2.31296e7</td><td>38.1751</td><td>53</td><td>1.26013e-8</td><td>5.02358e-8</td><td>1</td><td>1</td><td>0</td><td>0</td><td>0</td><td>1</td><td>0</td><td>0</td><td>1</td><td>0</td><td>0</td><td>0</td><td>0</td><td>0</td><td>0</td><td>0</td><td>0</td><td>0</td><td></td></tr><tr><th>17</th><td>17</td><td>CRE-C-slack</td><td>6411</td><td>3068</td><td>0</td><td>acceptable</td><td>2.52751e7</td><td>0.565979</td><td>39</td><td>2.21189e-9</td><td>2.38385e-9</td><td>1</td><td>1</td><td>0</td><td>0</td><td>0</td><td>1</td><td>0</td><td>0</td><td>1</td><td>0</td><td>0</td><td>0</td><td>0</td><td>0</td><td>0</td><td>0</td><td>0</td><td>0</td><td></td></tr><tr><th>18</th><td>18</td><td>CRE-D-slack</td><td>73948</td><td>8926</td><td>0</td><td>acceptable</td><td>2.4455e7</td><td>27.2082</td><td>43</td><td>1.76494e-8</td><td>1.0768e-7</td><td>1</td><td>1</td><td>0</td><td>0</td><td>0</td><td>1</td><td>0</td><td>0</td><td>1</td><td>0</td><td>0</td><td>0</td><td>0</td><td>0</td><td>0</td><td>0</td><td>0</td><td>0</td><td></td></tr><tr><th>19</th><td>19</td><td>CYCLE-slack</td><td>3371</td><td>1903</td><td>0</td><td>max_iter</td><td>NaN</td><td>9.37315</td><td>500</td><td>NaN</td><td>NaN</td><td>1</td><td>1</td><td>0</td><td>0</td><td>0</td><td>1</td><td>0</td><td>0</td><td>1</td><td>0</td><td>0</td><td>0</td><td>0</td><td>0</td><td>0</td><td>0</td><td>0</td><td>0</td><td></td></tr><tr><th>20</th><td>20</td><td>D2Q06C-slack</td><td>5831</td><td>2171</td><td>0</td><td>acceptable</td><td>122784.0</td><td>1.49626</td><td>35</td><td>7.01841e-9</td><td>6.66918e-8</td><td>1</td><td>1</td><td>0</td><td>0</td><td>0</td><td>1</td><td>0</td><td>0</td><td>1</td><td>0</td><td>0</td><td>0</td><td>0</td><td>0</td><td>0</td><td>0</td><td>0</td><td>0</td><td></td></tr><tr><th>21</th><td>21</td><td>D6CUBE</td><td>6184</td><td>415</td><td>0</td><td>acceptable</td><td>315.492</td><td>0.474471</td><td>17</td><td>1.90958e-14</td><td>4.72937e-11</td><td>1</td><td>1</td><td>0</td><td>0</td><td>0</td><td>1</td><td>0</td><td>0</td><td>1</td><td>0</td><td>0</td><td>0</td><td>0</td><td>0</td><td>0</td><td>0</td><td>0</td><td>0</td><td></td></tr><tr><th>22</th><td>22</td><td>DEGEN2-slack</td><td>757</td><td>444</td><td>0</td><td>acceptable</td><td>-1435.18</td><td>0.0703239</td><td>14</td><td>3.39728e-13</td><td>1.13047e-11</td><td>1</td><td>1</td><td>0</td><td>0</td><td>0</td><td>1</td><td>0</td><td>0</td><td>1</td><td>0</td><td>0</td><td>0</td><td>0</td><td>0</td><td>0</td><td>0</td><td>0</td><td>0</td><td></td></tr><tr><th>23</th><td>23</td><td>DEGEN3-slack</td><td>2604</td><td>1503</td><td>0</td><td>acceptable</td><td>-987.294</td><td>0.728279</td><td>18</td><td>4.37406e-12</td><td>1.63109e-10</td><td>1</td><td>1</td><td>0</td><td>0</td><td>0</td><td>1</td><td>0</td><td>0</td><td>1</td><td>0</td><td>0</td><td>0</td><td>0</td><td>0</td><td>0</td><td>0</td><td>0</td><td>0</td><td></td></tr><tr><th>24</th><td>24</td><td>DFL001</td><td>12230</td><td>6071</td><td>0</td><td>max_time</td><td>1.146e7</td><td>61.0105</td><td>46</td><td>1.28003e-5</td><td>0.0498928</td><td>1</td><td>1</td><td>0</td><td>0</td><td>0</td><td>1</td><td>0</td><td>0</td><td>1</td><td>0</td><td>0</td><td>0</td><td>0</td><td>0</td><td>0</td><td>0</td><td>0</td><td>0</td><td></td></tr><tr><th>25</th><td>25</td><td>E226-slack</td><td>472</td><td>223</td><td>0</td><td>acceptable</td><td>-11.6389</td><td>0.036083</td><td>21</td><td>7.42628e-12</td><td>5.60515e-11</td><td>1</td><td>1</td><td>0</td><td>0</td><td>0</td><td>1</td><td>0</td><td>0</td><td>1</td><td>0</td><td>0</td><td>0</td><td>0</td><td>0</td><td>0</td><td>0</td><td>0</td><td>0</td><td></td></tr><tr><th>26</th><td>26</td><td>FFFFF800-slack</td><td>1028</td><td>524</td><td>0</td><td>max_iter</td><td>NaN</td><td>2.76099</td><td>500</td><td>NaN</td><td>NaN</td><td>1</td><td>1</td><td>0</td><td>0</td><td>0</td><td>1</td><td>0</td><td>0</td><td>1</td><td>0</td><td>0</td><td>0</td><td>0</td><td>0</td><td>0</td><td>0</td><td>0</td><td>0</td><td></td></tr><tr><th>27</th><td>27</td><td>FIT1D-slack</td><td>1049</td><td>24</td><td>0</td><td>acceptable</td><td>-9146.38</td><td>0.0613179</td><td>20</td><td>1.54983e-10</td><td>2.20825e-9</td><td>1</td><td>1</td><td>0</td><td>0</td><td>0</td><td>1</td><td>0</td><td>0</td><td>1</td><td>0</td><td>0</td><td>0</td><td>0</td><td>0</td><td>0</td><td>0</td><td>0</td><td>0</td><td></td></tr><tr><th>28</th><td>28</td><td>FIT1P</td><td>1677</td><td>627</td><td>0</td><td>acceptable</td><td>9146.38</td><td>0.0910449</td><td>16</td><td>1.00044e-10</td><td>6.53056e-10</td><td>1</td><td>1</td><td>0</td><td>0</td><td>0</td><td>1</td><td>0</td><td>0</td><td>1</td><td>0</td><td>0</td><td>0</td><td>0</td><td>0</td><td>0</td><td>0</td><td>0</td><td>0</td><td></td></tr><tr><th>29</th><td>29</td><td>FIT2D-slack</td><td>10524</td><td>25</td><td>0</td><td>acceptable</td><td>-68464.3</td><td>0.50695</td><td>24</td><td>1.78867e-10</td><td>6.74849e-10</td><td>1</td><td>1</td><td>0</td><td>0</td><td>0</td><td>1</td><td>0</td><td>0</td><td>1</td><td>0</td><td>0</td><td>0</td><td>0</td><td>0</td><td>0</td><td>0</td><td>0</td><td>0</td><td></td></tr><tr><th>30</th><td>30</td><td>FIT2P</td><td>13525</td><td>3000</td><td>0</td><td>acceptable</td><td>68464.3</td><td>0.529586</td><td>21</td><td>2.92005e-10</td><td>3.80286e-9</td><td>1</td><td>1</td><td>0</td><td>0</td><td>0</td><td>1</td><td>0</td><td>0</td><td>1</td><td>0</td><td>0</td><td>0</td><td>0</td><td>0</td><td>0</td><td>0</td><td>0</td><td>0</td><td></td></tr><tr><th>31</th><td>31</td><td>GANGES-slack</td><td>1706</td><td>1309</td><td>0</td><td>acceptable</td><td>-109586.0</td><td>0.106576</td><td>24</td><td>8.73115e-11</td><td>5.47463e-7</td><td>1</td><td>1</td><td>0</td><td>0</td><td>0</td><td>1</td><td>0</td><td>0</td><td>1</td><td>0</td><td>0</td><td>0</td><td>0</td><td>0</td><td>0</td><td>0</td><td>0</td><td>0</td><td></td></tr><tr><th>32</th><td>32</td><td>GFRD-PNC-slack</td><td>1160</td><td>616</td><td>0</td><td>acceptable</td><td>6.90224e6</td><td>0.0285509</td><td>18</td><td>7.09333e-8</td><td>8.16271e-11</td><td>1</td><td>1</td><td>0</td><td>0</td><td>0</td><td>1</td><td>0</td><td>0</td><td>1</td><td>0</td><td>0</td><td>0</td><td>0</td><td>0</td><td>0</td><td>0</td><td>0</td><td>0</td><td></td></tr><tr><th>33</th><td>33</td><td>GROW15</td><td>645</td><td>300</td><td>0</td><td>acceptable</td><td>-1.06871e8</td><td>0.0359428</td><td>13</td><td>3.4966e-8</td><td>3.72947e-8</td><td>1</td><td>1</td><td>0</td><td>0</td><td>0</td><td>1</td><td>0</td><td>0</td><td>1</td><td>0</td><td>0</td><td>0</td><td>0</td><td>0</td><td>0</td><td>0</td><td>0</td><td>0</td><td></td></tr><tr><th>34</th><td>34</td><td>GROW22</td><td>946</td><td>440</td><td>0</td><td>acceptable</td><td>-1.60834e8</td><td>0.0526421</td><td>14</td><td>7.7578e-9</td><td>1.74546e-8</td><td>1</td><td>1</td><td>0</td><td>0</td><td>0</td><td>1</td><td>0</td><td>0</td><td>1</td><td>0</td><td>0</td><td>0</td><td>0</td><td>0</td><td>0</td><td>0</td><td>0</td><td>0</td><td></td></tr><tr><th>35</th><td>35</td><td>GROW7</td><td>301</td><td>140</td><td>0</td><td>acceptable</td><td>-4.77878e7</td><td>0.0180731</td><td>13</td><td>1.05377e-9</td><td>2.32831e-10</td><td>1</td><td>1</td><td>0</td><td>0</td><td>0</td><td>1</td><td>0</td><td>0</td><td>1</td><td>0</td><td>0</td><td>0</td><td>0</td><td>0</td><td>0</td><td>0</td><td>0</td><td>0</td><td></td></tr><tr><th>36</th><td>36</td><td>ISRAEL-slack</td><td>316</td><td>174</td><td>0</td><td>acceptable</td><td>-896645.0</td><td>0.0359399</td><td>27</td><td>2.91171e-9</td><td>2.91038e-11</td><td>1</td><td>1</td><td>0</td><td>0</td><td>0</td><td>1</td><td>0</td><td>0</td><td>1</td><td>0</td><td>0</td><td>0</td><td>0</td><td>0</td><td>0</td><td>0</td><td>0</td><td>0</td><td></td></tr><tr><th>37</th><td>37</td><td>KB2-slack</td><td>68</td><td>43</td><td>0</td><td>acceptable</td><td>-1749.9</td><td>0.00340986</td><td>19</td><td>5.63959e-11</td><td>4.30518e-11</td><td>1</td><td>1</td><td>0</td><td>0</td><td>0</td><td>1</td><td>0</td><td>0</td><td>1</td><td>0</td><td>0</td><td>0</td><td>0</td><td>0</td><td>0</td><td>0</td><td>0</td><td>0</td><td></td></tr><tr><th>38</th><td>38</td><td>KEN-07</td><td>3602</td><td>2426</td><td>0</td><td>acceptable</td><td>-6.7952e8</td><td>0.0857871</td><td>14</td><td>2.14641e-10</td><td>9.46469e-7</td><td>1</td><td>1</td><td>0</td><td>0</td><td>0</td><td>1</td><td>0</td><td>0</td><td>1</td><td>0</td><td>0</td><td>0</td><td>0</td><td>0</td><td>0</td><td>0</td><td>0</td><td>0</td><td></td></tr><tr><th>39</th><td>39</td><td>KEN-11</td><td>21349</td><td>14694</td><td>0</td><td>acceptable</td><td>-6.97238e9</td><td>1.31682</td><td>25</td><td>1.27329e-11</td><td>3.17261e-9</td><td>1</td><td>1</td><td>0</td><td>0</td><td>0</td><td>1</td><td>0</td><td>0</td><td>1</td><td>0</td><td>0</td><td>0</td><td>0</td><td>0</td><td>0</td><td>0</td><td>0</td><td>0</td><td></td></tr><tr><th>40</th><td>40</td><td>KEN-13</td><td>42659</td><td>28632</td><td>0</td><td>acceptable</td><td>-1.02574e10</td><td>3.28609</td><td>26</td><td>1.73615e-9</td><td>6.5251e-7</td><td>1</td><td>1</td><td>0</td><td>0</td><td>0</td><td>1</td><td>0</td><td>0</td><td>1</td><td>0</td><td>0</td><td>0</td><td>0</td><td>0</td><td>0</td><td>0</td><td>0</td><td>0</td><td></td></tr><tr><th>41</th><td>41</td><td>KEN-18</td><td>154699</td><td>105127</td><td>0</td><td>acceptable</td><td>-5.2217e10</td><td>45.0634</td><td>44</td><td>6.48388e-10</td><td>2.64385e-7</td><td>1</td><td>1</td><td>0</td><td>0</td><td>0</td><td>1</td><td>0</td><td>0</td><td>1</td><td>0</td><td>0</td><td>0</td><td>0</td><td>0</td><td>0</td><td>0</td><td>0</td><td>0</td><td></td></tr><tr><th>42</th><td>42</td><td>LOTFI-slack</td><td>366</td><td>153</td><td>0</td><td>acceptable</td><td>-25.2647</td><td>0.0256991</td><td>26</td><td>7.8406e-13</td><td>3.72529e-9</td><td>1</td><td>1</td><td>0</td><td>0</td><td>0</td><td>1</td><td>0</td><td>0</td><td>1</td><td>0</td><td>0</td><td>0</td><td>0</td><td>0</td><td>0</td><td>0</td><td>0</td><td>0</td><td></td></tr><tr><th>43</th><td>43</td><td>MAROS-R7</td><td>9408</td><td>3136</td><td>0</td><td>acceptable</td><td>1.49719e6</td><td>9.82531</td><td>17</td><td>5.41684e-9</td><td>2.79442e-9</td><td>1</td><td>1</td><td>0</td><td>0</td><td>0</td><td>1</td><td>0</td><td>0</td><td>1</td><td>0</td><td>0</td><td>0</td><td>0</td><td>0</td><td>0</td><td>0</td><td>0</td><td>0</td><td></td></tr><tr><th>44</th><td>44</td><td>MODSZK1</td><td>1620</td><td>687</td><td>0</td><td>acceptable</td><td>320.62</td><td>0.0693941</td><td>24</td><td>5.82077e-11</td><td>5.82078e-11</td><td>1</td><td>1</td><td>0</td><td>0</td><td>0</td><td>1</td><td>0</td><td>0</td><td>1</td><td>0</td><td>0</td><td>0</td><td>0</td><td>0</td><td>0</td><td>0</td><td>0</td><td>0</td><td></td></tr><tr><th>45</th><td>45</td><td>OSA-07-slack</td><td>25067</td><td>1118</td><td>0</td><td>acceptable</td><td>535723.0</td><td>4.65262</td><td>27</td><td>2.14157e-11</td><td>3.76796e-9</td><td>1</td><td>1</td><td>0</td><td>0</td><td>0</td><td>1</td><td>0</td><td>0</td><td>1</td><td>0</td><td>0</td><td>0</td><td>0</td><td>0</td><td>0</td><td>0</td><td>0</td><td>0</td><td></td></tr><tr><th>46</th><td>46</td><td>OSA-14-slack</td><td>54797</td><td>2337</td><td>0</td><td>acceptable</td><td>1.10646e6</td><td>17.9182</td><td>25</td><td>1.10687e-9</td><td>1.38973e-9</td><td>1</td><td>1</td><td>0</td><td>0</td><td>0</td><td>1</td><td>0</td><td>0</td><td>1</td><td>0</td><td>0</td><td>0</td><td>0</td><td>0</td><td>0</td><td>0</td><td>0</td><td>0</td><td></td></tr><tr><th>47</th><td>47</td><td>OSA-30-slack</td><td>104374</td><td>4350</td><td>0</td><td>acceptable</td><td>2.14214e6</td><td>15.9345</td><td>30</td><td>1.69587e-9</td><td>3.88469e-9</td><td>1</td><td>1</td><td>0</td><td>0</td><td>0</td><td>1</td><td>0</td><td>0</td><td>1</td><td>0</td><td>0</td><td>0</td><td>0</td><td>0</td><td>0</td><td>0</td><td>0</td><td>0</td><td></td></tr><tr><th>48</th><td>48</td><td>OSA-60-slack</td><td>243246</td><td>10280</td><td>0</td><td>max_time</td><td>5.84252e6</td><td>60.0439</td><td>28</td><td>1.2002e-5</td><td>0.0122415</td><td>1</td><td>1</td><td>0</td><td>0</td><td>0</td><td>1</td><td>0</td><td>0</td><td>1</td><td>0</td><td>0</td><td>0</td><td>0</td><td>0</td><td>0</td><td>0</td><td>0</td><td>0</td><td></td></tr><tr><th>49</th><td>49</td><td>PDS-02-slack</td><td>7716</td><td>2953</td><td>0</td><td>acceptable</td><td>2.88579e10</td><td>0.560047</td><td>34</td><td>8.79656e-9</td><td>8.48784e-7</td><td>1</td><td>1</td><td>0</td><td>0</td><td>0</td><td>1</td><td>0</td><td>0</td><td>1</td><td>0</td><td>0</td><td>0</td><td>0</td><td>0</td><td>0</td><td>0</td><td>0</td><td>0</td><td></td></tr><tr><th>50</th><td>50</td><td>PDS-06-slack</td><td>29351</td><td>9881</td><td>0</td><td>acceptable</td><td>2.7761e10</td><td>16.132</td><td>66</td><td>3.35802e-9</td><td>9.36199e-8</td><td>1</td><td>1</td><td>0</td><td>0</td><td>0</td><td>1</td><td>0</td><td>0</td><td>1</td><td>0</td><td>0</td><td>0</td><td>0</td><td>0</td><td>0</td><td>0</td><td>0</td><td>0</td><td></td></tr><tr><th>51</th><td>51</td><td>PDS-10-slack</td><td>49932</td><td>16558</td><td>0</td><td>max_time</td><td>2.67271e10</td><td>60.4953</td><td>63</td><td>3.94689e-8</td><td>0.0443695</td><td>1</td><td>1</td><td>0</td><td>0</td><td>0</td><td>1</td><td>0</td><td>0</td><td>1</td><td>0</td><td>0</td><td>0</td><td>0</td><td>0</td><td>0</td><td>0</td><td>0</td><td>0</td><td></td></tr><tr><th>52</th><td>52</td><td>PDS-20-slack</td><td>108175</td><td>33874</td><td>0</td><td>max_time</td><td>2.50726e10</td><td>67.2725</td><td>6</td><td>14.2636</td><td>22657.3</td><td>1</td><td>1</td><td>0</td><td>0</td><td>0</td><td>1</td><td>0</td><td>0</td><td>1</td><td>0</td><td>0</td><td>0</td><td>0</td><td>0</td><td>0</td><td>0</td><td>0</td><td>0</td><td></td></tr><tr><th>53</th><td>53</td><td>QAP12</td><td>8856</td><td>3192</td><td>0</td><td>acceptable</td><td>522.894</td><td>38.3785</td><td>19</td><td>4.55062e-13</td><td>2.24659e-10</td><td>1</td><td>1</td><td>0</td><td>0</td><td>0</td><td>1</td><td>0</td><td>0</td><td>1</td><td>0</td><td>0</td><td>0</td><td>0</td><td>0</td><td>0</td><td>0</td><td>0</td><td>0</td><td></td></tr><tr><th>54</th><td>54</td><td>QAP15</td><td>22275</td><td>6330</td><td>0</td><td>max_time</td><td>1440.98</td><td>63.7232</td><td>3</td><td>3.88994e-9</td><td>0.00855342</td><td>1</td><td>1</td><td>0</td><td>0</td><td>0</td><td>1</td><td>0</td><td>0</td><td>1</td><td>0</td><td>0</td><td>0</td><td>0</td><td>0</td><td>0</td><td>0</td><td>0</td><td>0</td><td></td></tr><tr><th>55</th><td>55</td><td>QAP8</td><td>1632</td><td>912</td><td>0</td><td>acceptable</td><td>203.5</td><td>0.583383</td><td>9</td><td>1.57121e-14</td><td>6.5278e-12</td><td>1</td><td>1</td><td>0</td><td>0</td><td>0</td><td>1</td><td>0</td><td>0</td><td>1</td><td>0</td><td>0</td><td>0</td><td>0</td><td>0</td><td>0</td><td>0</td><td>0</td><td>0</td><td></td></tr><tr><th>56</th><td>56</td><td>SC105-slack</td><td>163</td><td>105</td><td>0</td><td>acceptable</td><td>-52.2021</td><td>0.00476098</td><td>12</td><td>9.41999e-12</td><td>3.73858e-13</td><td>1</td><td>1</td><td>0</td><td>0</td><td>0</td><td>1</td><td>0</td><td>0</td><td>1</td><td>0</td><td>0</td><td>0</td><td>0</td><td>0</td><td>0</td><td>0</td><td>0</td><td>0</td><td></td></tr><tr><th>57</th><td>57</td><td>SC205-slack</td><td>317</td><td>205</td><td>0</td><td>acceptable</td><td>-52.2021</td><td>0.011219</td><td>18</td><td>7.38495e-12</td><td>4.54747e-13</td><td>1</td><td>1</td><td>0</td><td>0</td><td>0</td><td>1</td><td>0</td><td>0</td><td>1</td><td>0</td><td>0</td><td>0</td><td>0</td><td>0</td><td>0</td><td>0</td><td>0</td><td>0</td><td></td></tr><tr><th>58</th><td>58</td><td>SC50A-slack</td><td>78</td><td>50</td><td>0</td><td>acceptable</td><td>-64.5751</td><td>0.00206923</td><td>11</td><td>8.31455e-12</td><td>8.09475e-13</td><td>1</td><td>1</td><td>0</td><td>0</td><td>0</td><td>1</td><td>0</td><td>0</td><td>1</td><td>0</td><td>0</td><td>0</td><td>0</td><td>0</td><td>0</td><td>0</td><td>0</td><td>0</td><td></td></tr><tr><th>59</th><td>59</td><td>SC50B-slack</td><td>78</td><td>50</td><td>0</td><td>acceptable</td><td>-70.0</td><td>0.00172305</td><td>9</td><td>5.74673e-11</td><td>1.46125e-11</td><td>1</td><td>1</td><td>0</td><td>0</td><td>0</td><td>1</td><td>0</td><td>0</td><td>1</td><td>0</td><td>0</td><td>0</td><td>0</td><td>0</td><td>0</td><td>0</td><td>0</td><td>0</td><td></td></tr><tr><th>60</th><td>60</td><td>SCAGR25-slack</td><td>671</td><td>471</td><td>0</td><td>acceptable</td><td>-1.47534e7</td><td>0.020314</td><td>17</td><td>1.29962e-9</td><td>1.822e-9</td><td>1</td><td>1</td><td>0</td><td>0</td><td>0</td><td>1</td><td>0</td><td>0</td><td>1</td><td>0</td><td>0</td><td>0</td><td>0</td><td>0</td><td>0</td><td>0</td><td>0</td><td>0</td><td></td></tr><tr><th>61</th><td>61</td><td>SCAGR7-slack</td><td>185</td><td>129</td><td>0</td><td>acceptable</td><td>-2.33139e6</td><td>0.00546598</td><td>14</td><td>1.38124e-7</td><td>2.66953e-8</td><td>1</td><td>1</td><td>0</td><td>0</td><td>0</td><td>1</td><td>0</td><td>0</td><td>1</td><td>0</td><td>0</td><td>0</td><td>0</td><td>0</td><td>0</td><td>0</td><td>0</td><td>0</td><td></td></tr><tr><th>62</th><td>62</td><td>SCFXM1-slack</td><td>600</td><td>330</td><td>0</td><td>acceptable</td><td>18416.8</td><td>0.0370882</td><td>20</td><td>6.48268e-10</td><td>1.30972e-9</td><td>1</td><td>1</td><td>0</td><td>0</td><td>0</td><td>1</td><td>0</td><td>0</td><td>1</td><td>0</td><td>0</td><td>0</td><td>0</td><td>0</td><td>0</td><td>0</td><td>0</td><td>0</td><td></td></tr><tr><th>63</th><td>63</td><td>SCFXM2-slack</td><td>1200</td><td>660</td><td>0</td><td>acceptable</td><td>36660.3</td><td>0.075851</td><td>22</td><td>2.46672e-9</td><td>1.89668e-9</td><td>1</td><td>1</td><td>0</td><td>0</td><td>0</td><td>1</td><td>0</td><td>0</td><td>1</td><td>0</td><td>0</td><td>0</td><td>0</td><td>0</td><td>0</td><td>0</td><td>0</td><td>0</td><td></td></tr><tr><th>64</th><td>64</td><td>SCFXM3-slack</td><td>1800</td><td>990</td><td>0</td><td>acceptable</td><td>54901.3</td><td>0.112085</td><td>23</td><td>5.78422e-10</td><td>9.07016e-10</td><td>1</td><td>1</td><td>0</td><td>0</td><td>0</td><td>1</td><td>0</td><td>0</td><td>1</td><td>0</td><td>0</td><td>0</td><td>0</td><td>0</td><td>0</td><td>0</td><td>0</td><td>0</td><td></td></tr><tr><th>65</th><td>65</td><td>SCORPION-slack</td><td>466</td><td>388</td><td>0</td><td>acceptable</td><td>1878.12</td><td>0.0155628</td><td>15</td><td>1.42109e-13</td><td>1.90738e-11</td><td>1</td><td>1</td><td>0</td><td>0</td><td>0</td><td>1</td><td>0</td><td>0</td><td>1</td><td>0</td><td>0</td><td>0</td><td>0</td><td>0</td><td>0</td><td>0</td><td>0</td><td>0</td><td></td></tr><tr><th>66</th><td>66</td><td>SCRS8-slack</td><td>1275</td><td>490</td><td>0</td><td>acceptable</td><td>904.297</td><td>0.049247</td><td>19</td><td>2.61159e-10</td><td>3.18715e-9</td><td>1</td><td>1</td><td>0</td><td>0</td><td>0</td><td>1</td><td>0</td><td>0</td><td>1</td><td>0</td><td>0</td><td>0</td><td>0</td><td>0</td><td>0</td><td>0</td><td>0</td><td>0</td><td></td></tr><tr><th>67</th><td>67</td><td>SCSD1</td><td>760</td><td>77</td><td>0</td><td>acceptable</td><td>8.66667</td><td>0.012696</td><td>9</td><td>6.21725e-15</td><td>3.33081e-13</td><td>1</td><td>1</td><td>0</td><td>0</td><td>0</td><td>1</td><td>0</td><td>0</td><td>1</td><td>0</td><td>0</td><td>0</td><td>0</td><td>0</td><td>0</td><td>0</td><td>0</td><td>0</td><td></td></tr><tr><th>68</th><td>68</td><td>SCSD6</td><td>1350</td><td>147</td><td>0</td><td>acceptable</td><td>50.5</td><td>0.0248899</td><td>11</td><td>1.20348e-13</td><td>1.59909e-10</td><td>1</td><td>1</td><td>0</td><td>0</td><td>0</td><td>1</td><td>0</td><td>0</td><td>1</td><td>0</td><td>0</td><td>0</td><td>0</td><td>0</td><td>0</td><td>0</td><td>0</td><td>0</td><td></td></tr><tr><th>69</th><td>69</td><td>SCSD8</td><td>2750</td><td>397</td><td>0</td><td>acceptable</td><td>905.0</td><td>0.0385621</td><td>11</td><td>1.08802e-14</td><td>3.58147e-12</td><td>1</td><td>1</td><td>0</td><td>0</td><td>0</td><td>1</td><td>0</td><td>0</td><td>1</td><td>0</td><td>0</td><td>0</td><td>0</td><td>0</td><td>0</td><td>0</td><td>0</td><td>0</td><td></td></tr><tr><th>70</th><td>70</td><td>SCTAP1-slack</td><td>660</td><td>300</td><td>0</td><td>acceptable</td><td>1412.25</td><td>0.0183699</td><td>15</td><td>2.53206e-13</td><td>9.77964e-11</td><td>1</td><td>1</td><td>0</td><td>0</td><td>0</td><td>1</td><td>0</td><td>0</td><td>1</td><td>0</td><td>0</td><td>0</td><td>0</td><td>0</td><td>0</td><td>0</td><td>0</td><td>0</td><td></td></tr><tr><th>71</th><td>71</td><td>SCTAP2-slack</td><td>2500</td><td>1090</td><td>0</td><td>acceptable</td><td>1724.81</td><td>0.0620151</td><td>14</td><td>8.88641e-12</td><td>2.88719e-9</td><td>1</td><td>1</td><td>0</td><td>0</td><td>0</td><td>1</td><td>0</td><td>0</td><td>1</td><td>0</td><td>0</td><td>0</td><td>0</td><td>0</td><td>0</td><td>0</td><td>0</td><td>0</td><td></td></tr><tr><th>72</th><td>72</td><td>SCTAP3-slack</td><td>3340</td><td>1480</td><td>0</td><td>acceptable</td><td>1424.0</td><td>0.10056</td><td>17</td><td>4.26326e-14</td><td>5.78604e-12</td><td>1</td><td>1</td><td>0</td><td>0</td><td>0</td><td>1</td><td>0</td><td>0</td><td>1</td><td>0</td><td>0</td><td>0</td><td>0</td><td>0</td><td>0</td><td>0</td><td>0</td><td>0</td><td></td></tr><tr><th>73</th><td>73</td><td>SEBA-slack</td><td>1036</td><td>515</td><td>0</td><td>acceptable</td><td>15711.6</td><td>0.047524</td><td>20</td><td>6.03345e-10</td><td>7.33252e-10</td><td>1</td><td>1</td><td>0</td><td>0</td><td>0</td><td>1</td><td>0</td><td>0</td><td>1</td><td>0</td><td>0</td><td>0</td><td>0</td><td>0</td><td>0</td><td>0</td><td>0</td><td>0</td><td></td></tr><tr><th>74</th><td>74</td><td>SHARE1B-slack</td><td>253</td><td>117</td><td>0</td><td>acceptable</td><td>-76589.3</td><td>0.0171139</td><td>26</td><td>7.64348e-10</td><td>8.18257e-8</td><td>1</td><td>1</td><td>0</td><td>0</td><td>0</td><td>1</td><td>0</td><td>0</td><td>1</td><td>0</td><td>0</td><td>0</td><td>0</td><td>0</td><td>0</td><td>0</td><td>0</td><td>0</td><td></td></tr><tr><th>75</th><td>75</td><td>SHARE2B-slack</td><td>162</td><td>96</td><td>0</td><td>acceptable</td><td>-415.732</td><td>0.00469995</td><td>11</td><td>3.66945e-11</td><td>1.84276e-10</td><td>1</td><td>1</td><td>0</td><td>0</td><td>0</td><td>1</td><td>0</td><td>0</td><td>1</td><td>0</td><td>0</td><td>0</td><td>0</td><td>0</td><td>0</td><td>0</td><td>0</td><td>0</td><td></td></tr><tr><th>76</th><td>76</td><td>SHIP04L-slack</td><td>2166</td><td>402</td><td>0</td><td>acceptable</td><td>1.79332e6</td><td>0.059839</td><td>13</td><td>1.81899e-12</td><td>3.49857e-8</td><td>1</td><td>1</td><td>0</td><td>0</td><td>0</td><td>1</td><td>0</td><td>0</td><td>1</td><td>0</td><td>0</td><td>0</td><td>0</td><td>0</td><td>0</td><td>0</td><td>0</td><td>0</td><td></td></tr><tr><th>77</th><td>77</td><td>SHIP04S-slack</td><td>1506</td><td>402</td><td>0</td><td>acceptable</td><td>1.79871e6</td><td>0.0385089</td><td>13</td><td>3.00133e-11</td><td>7.61353e-8</td><td>1</td><td>1</td><td>0</td><td>0</td><td>0</td><td>1</td><td>0</td><td>0</td><td>1</td><td>0</td><td>0</td><td>0</td><td>0</td><td>0</td><td>0</td><td>0</td><td>0</td><td>0</td><td></td></tr><tr><th>78</th><td>78</td><td>SHIP08L-slack</td><td>4363</td><td>778</td><td>0</td><td>acceptable</td><td>1.90906e6</td><td>0.145106</td><td>15</td><td>3.41061e-12</td><td>8.32504e-8</td><td>1</td><td>1</td><td>0</td><td>0</td><td>0</td><td>1</td><td>0</td><td>0</td><td>1</td><td>0</td><td>0</td><td>0</td><td>0</td><td>0</td><td>0</td><td>0</td><td>0</td><td>0</td><td></td></tr><tr><th>79</th><td>79</td><td>SHIP08S-slack</td><td>2467</td><td>778</td><td>0</td><td>acceptable</td><td>1.9201e6</td><td>0.0607059</td><td>14</td><td>1.65983e-11</td><td>1.70456e-9</td><td>1</td><td>1</td><td>0</td><td>0</td><td>0</td><td>1</td><td>0</td><td>0</td><td>1</td><td>0</td><td>0</td><td>0</td><td>0</td><td>0</td><td>0</td><td>0</td><td>0</td><td>0</td><td></td></tr><tr><th>80</th><td>80</td><td>SHIP12L-slack</td><td>5533</td><td>1151</td><td>0</td><td>acceptable</td><td>1.47019e6</td><td>0.706936</td><td>71</td><td>2.28797e-11</td><td>2.66852e-7</td><td>1</td><td>1</td><td>0</td><td>0</td><td>0</td><td>1</td><td>0</td><td>0</td><td>1</td><td>0</td><td>0</td><td>0</td><td>0</td><td>0</td><td>0</td><td>0</td><td>0</td><td>0</td><td></td></tr><tr><th>81</th><td>81</td><td>SHIP12S-slack</td><td>2869</td><td>1151</td><td>0</td><td>acceptable</td><td>1.48924e6</td><td>0.363055</td><td>88</td><td>4.21026e-11</td><td>1.07454e-7</td><td>1</td><td>1</td><td>0</td><td>0</td><td>0</td><td>1</td><td>0</td><td>0</td><td>1</td><td>0</td><td>0</td><td>0</td><td>0</td><td>0</td><td>0</td><td>0</td><td>0</td><td>0</td><td></td></tr><tr><th>82</th><td>82</td><td>STOCFOR1-slack</td><td>165</td><td>117</td><td>0</td><td>acceptable</td><td>-41132.0</td><td>0.00633121</td><td>15</td><td>2.81006e-11</td><td>4.44408e-9</td><td>1</td><td>1</td><td>0</td><td>0</td><td>0</td><td>1</td><td>0</td><td>0</td><td>1</td><td>0</td><td>0</td><td>0</td><td>0</td><td>0</td><td>0</td><td>0</td><td>0</td><td>0</td><td></td></tr><tr><th>83</th><td>83</td><td>STOCFOR2-slack</td><td>3045</td><td>2157</td><td>0</td><td>acceptable</td><td>-39024.4</td><td>0.134026</td><td>23</td><td>9.1589e-12</td><td>3.16486e-10</td><td>1</td><td>1</td><td>0</td><td>0</td><td>0</td><td>1</td><td>0</td><td>0</td><td>1</td><td>0</td><td>0</td><td>0</td><td>0</td><td>0</td><td>0</td><td>0</td><td>0</td><td>0</td><td></td></tr><tr><th>84</th><td>84</td><td>STOCFOR3-slack</td><td>23541</td><td>16675</td><td>0</td><td>acceptable</td><td>-39976.8</td><td>1.75225</td><td>44</td><td>3.10897e-9</td><td>2.30849e-11</td><td>1</td><td>1</td><td>0</td><td>0</td><td>0</td><td>1</td><td>0</td><td>0</td><td>1</td><td>0</td><td>0</td><td>0</td><td>0</td><td>0</td><td>0</td><td>0</td><td>0</td><td>0</td><td></td></tr><tr><th>85</th><td>85</td><td>TRUSS</td><td>8806</td><td>1000</td><td>0</td><td>acceptable</td><td>458816.0</td><td>0.306432</td><td>18</td><td>1.54861e-10</td><td>2.46308e-8</td><td>1</td><td>1</td><td>0</td><td>0</td><td>0</td><td>1</td><td>0</td><td>0</td><td>1</td><td>0</td><td>0</td><td>0</td><td>0</td><td>0</td><td>0</td><td>0</td><td>0</td><td>0</td><td></td></tr><tr><th>86</th><td>86</td><td>WOOD1P-slack</td><td>2595</td><td>244</td><td>0</td><td>acceptable</td><td>1.4429</td><td>0.806225</td><td>25</td><td>2.90878e-14</td><td>3.22033e-7</td><td>1</td><td>1</td><td>0</td><td>0</td><td>0</td><td>1</td><td>0</td><td>0</td><td>1</td><td>0</td><td>0</td><td>0</td><td>0</td><td>0</td><td>0</td><td>0</td><td>0</td><td>0</td><td></td></tr><tr><th>87</th><td>87</td><td>WOODW-slack</td><td>8418</td><td>1098</td><td>0</td><td>acceptable</td><td>1.30448</td><td>1.59312</td><td>50</td><td>1.12043e-14</td><td>6.13582e-10</td><td>1</td><td>1</td><td>0</td><td>0</td><td>0</td><td>1</td><td>0</td><td>0</td><td>1</td><td>0</td><td>0</td><td>0</td><td>0</td><td>0</td><td>0</td><td>0</td><td>0</td><td>0</td><td></td></tr></tbody></table>"
      ],
      "text/latex": [
       "\\begin{tabular}{r|cccccccccccccccccccccccccccccc}\n",
       "\t& id & name & nvar & ncon & nequ & status & objective & elapsed\\_time & iter & dual\\_feas & primal\\_feas & neval\\_obj & neval\\_grad & neval\\_cons & neval\\_jcon & neval\\_jgrad & neval\\_jac & neval\\_jprod & neval\\_jtprod & neval\\_hess & neval\\_hprod & neval\\_jhprod & neval\\_residual & neval\\_jac\\_residual & neval\\_jprod\\_residual & neval\\_jtprod\\_residual & neval\\_hess\\_residual & neval\\_jhess\\_residual & neval\\_hprod\\_residual & extrainfo\\\\\n",
       "\t\\hline\n",
       "\t& Int64 & String & Int64 & Int64 & Int64 & Symbol & Float64 & Float64 & Int64 & Float64 & Float64 & Int64 & Int64 & Int64 & Int64 & Int64 & Int64 & Int64 & Int64 & Int64 & Int64 & Int64 & Int64 & Int64 & Int64 & Int64 & Int64 & Int64 & Int64 & String\\\\\n",
       "\t\\hline\n",
       "\t1 & 1 & 25FV47-slack & 1876 & 821 & 0 & acceptable & 5501.85 & 0.332413 & 27 & 3.78299e-9 & 1.93184e-11 & 1 & 1 & 0 & 0 & 0 & 1 & 0 & 0 & 1 & 0 & 0 & 0 & 0 & 0 & 0 & 0 & 0 & 0 &  \\\\\n",
       "\t2 & 2 & ADLITTLE-slack & 138 & 56 & 0 & acceptable & 225495.0 & 0.00483203 & 14 & 1.23535e-10 & 9.48945e-10 & 1 & 1 & 0 & 0 & 0 & 1 & 0 & 0 & 1 & 0 & 0 & 0 & 0 & 0 & 0 & 0 & 0 & 0 &  \\\\\n",
       "\t3 & 3 & AFIRO-slack & 51 & 27 & 0 & acceptable & -464.753 & 0.00101399 & 8 & 4.20097e-11 & 1.47793e-11 & 1 & 1 & 0 & 0 & 0 & 1 & 0 & 0 & 1 & 0 & 0 & 0 & 0 & 0 & 0 & 0 & 0 & 0 &  \\\\\n",
       "\t4 & 4 & AGG-slack & 615 & 488 & 0 & acceptable & -3.59918e7 & 0.040946 & 19 & 4.50613e-9 & 2.73138e-7 & 1 & 1 & 0 & 0 & 0 & 1 & 0 & 0 & 1 & 0 & 0 & 0 & 0 & 0 & 0 & 0 & 0 & 0 &  \\\\\n",
       "\t5 & 5 & AGG2-slack & 758 & 516 & 0 & exception & Inf & Inf & 0 & Inf & Inf & 0 & 0 & 0 & 0 & 0 & 0 & 0 & 0 & 0 & 0 & 0 & 0 & 0 & 0 & 0 & 0 & 0 & 0 & LDLFactorizations.SQDException(\"matrix does not possess a LDL' factorization for this permutation\") \\\\\n",
       "\t6 & 6 & AGG3-slack & 758 & 516 & 0 & acceptable & 1.03121e7 & 0.091418 & 20 & 2.19973e-8 & 2.32831e-10 & 1 & 1 & 0 & 0 & 0 & 1 & 0 & 0 & 1 & 0 & 0 & 0 & 0 & 0 & 0 & 0 & 0 & 0 &  \\\\\n",
       "\t7 & 7 & BANDM & 472 & 305 & 0 & acceptable & -158.628 & 0.10612 & 18 & 7.70021e-12 & 3.92576e-11 & 1 & 1 & 0 & 0 & 0 & 1 & 0 & 0 & 1 & 0 & 0 & 0 & 0 & 0 & 0 & 0 & 0 & 0 &  \\\\\n",
       "\t8 & 8 & BEACONFD-slack & 295 & 173 & 0 & acceptable & 33592.5 & 0.0181909 & 11 & 1.30427e-8 & 1.18282e-8 & 1 & 1 & 0 & 0 & 0 & 1 & 0 & 0 & 1 & 0 & 0 & 0 & 0 & 0 & 0 & 0 & 0 & 0 &  \\\\\n",
       "\t9 & 9 & BLEND-slack & 114 & 74 & 0 & acceptable & -30.8121 & 0.00513506 & 13 & 1.07271e-12 & 1.54721e-12 & 1 & 1 & 0 & 0 & 0 & 1 & 0 & 0 & 1 & 0 & 0 & 0 & 0 & 0 & 0 & 0 & 0 & 0 &  \\\\\n",
       "\t10 & 10 & BNL1-slack & 1586 & 643 & 0 & acceptable & 1977.63 & 0.215806 & 39 & 1.97373e-12 & 3.33634e-7 & 1 & 1 & 0 & 0 & 0 & 1 & 0 & 0 & 1 & 0 & 0 & 0 & 0 & 0 & 0 & 0 & 0 & 0 &  \\\\\n",
       "\t11 & 11 & BNL2-slack & 4486 & 2324 & 0 & max\\_iter & NaN & 11.5666 & 500 & NaN & NaN & 1 & 1 & 0 & 0 & 0 & 1 & 0 & 0 & 1 & 0 & 0 & 0 & 0 & 0 & 0 & 0 & 0 & 0 &  \\\\\n",
       "\t12 & 12 & BOEING1-slack & 726 & 351 & 0 & acceptable & -335.214 & 0.068768 & 25 & 7.07314e-10 & 1.05366e-10 & 1 & 1 & 0 & 0 & 0 & 1 & 0 & 0 & 1 & 0 & 0 & 0 & 0 & 0 & 0 & 0 & 0 & 0 &  \\\\\n",
       "\t13 & 13 & BOEING2-slack & 305 & 166 & 0 & acceptable & -315.019 & 0.0194292 & 21 & 4.97421e-12 & 8.37642e-11 & 1 & 1 & 0 & 0 & 0 & 1 & 0 & 0 & 1 & 0 & 0 & 0 & 0 & 0 & 0 & 0 & 0 & 0 &  \\\\\n",
       "\t14 & 14 & BRANDY-slack & 303 & 220 & 0 & acceptable & 1518.51 & 0.0230429 & 18 & 6.60095e-10 & 2.48068e-9 & 1 & 1 & 0 & 0 & 0 & 1 & 0 & 0 & 1 & 0 & 0 & 0 & 0 & 0 & 0 & 0 & 0 & 0 &  \\\\\n",
       "\t15 & 15 & CRE-A-slack & 7248 & 3516 & 0 & acceptable & 2.35954e7 & 0.541912 & 36 & 2.17148e-8 & 4.83715e-8 & 1 & 1 & 0 & 0 & 0 & 1 & 0 & 0 & 1 & 0 & 0 & 0 & 0 & 0 & 0 & 0 & 0 & 0 &  \\\\\n",
       "\t16 & 16 & CRE-B-slack & 77137 & 9648 & 0 & acceptable & 2.31296e7 & 38.1751 & 53 & 1.26013e-8 & 5.02358e-8 & 1 & 1 & 0 & 0 & 0 & 1 & 0 & 0 & 1 & 0 & 0 & 0 & 0 & 0 & 0 & 0 & 0 & 0 &  \\\\\n",
       "\t17 & 17 & CRE-C-slack & 6411 & 3068 & 0 & acceptable & 2.52751e7 & 0.565979 & 39 & 2.21189e-9 & 2.38385e-9 & 1 & 1 & 0 & 0 & 0 & 1 & 0 & 0 & 1 & 0 & 0 & 0 & 0 & 0 & 0 & 0 & 0 & 0 &  \\\\\n",
       "\t18 & 18 & CRE-D-slack & 73948 & 8926 & 0 & acceptable & 2.4455e7 & 27.2082 & 43 & 1.76494e-8 & 1.0768e-7 & 1 & 1 & 0 & 0 & 0 & 1 & 0 & 0 & 1 & 0 & 0 & 0 & 0 & 0 & 0 & 0 & 0 & 0 &  \\\\\n",
       "\t19 & 19 & CYCLE-slack & 3371 & 1903 & 0 & max\\_iter & NaN & 9.37315 & 500 & NaN & NaN & 1 & 1 & 0 & 0 & 0 & 1 & 0 & 0 & 1 & 0 & 0 & 0 & 0 & 0 & 0 & 0 & 0 & 0 &  \\\\\n",
       "\t20 & 20 & D2Q06C-slack & 5831 & 2171 & 0 & acceptable & 122784.0 & 1.49626 & 35 & 7.01841e-9 & 6.66918e-8 & 1 & 1 & 0 & 0 & 0 & 1 & 0 & 0 & 1 & 0 & 0 & 0 & 0 & 0 & 0 & 0 & 0 & 0 &  \\\\\n",
       "\t21 & 21 & D6CUBE & 6184 & 415 & 0 & acceptable & 315.492 & 0.474471 & 17 & 1.90958e-14 & 4.72937e-11 & 1 & 1 & 0 & 0 & 0 & 1 & 0 & 0 & 1 & 0 & 0 & 0 & 0 & 0 & 0 & 0 & 0 & 0 &  \\\\\n",
       "\t22 & 22 & DEGEN2-slack & 757 & 444 & 0 & acceptable & -1435.18 & 0.0703239 & 14 & 3.39728e-13 & 1.13047e-11 & 1 & 1 & 0 & 0 & 0 & 1 & 0 & 0 & 1 & 0 & 0 & 0 & 0 & 0 & 0 & 0 & 0 & 0 &  \\\\\n",
       "\t23 & 23 & DEGEN3-slack & 2604 & 1503 & 0 & acceptable & -987.294 & 0.728279 & 18 & 4.37406e-12 & 1.63109e-10 & 1 & 1 & 0 & 0 & 0 & 1 & 0 & 0 & 1 & 0 & 0 & 0 & 0 & 0 & 0 & 0 & 0 & 0 &  \\\\\n",
       "\t24 & 24 & DFL001 & 12230 & 6071 & 0 & max\\_time & 1.146e7 & 61.0105 & 46 & 1.28003e-5 & 0.0498928 & 1 & 1 & 0 & 0 & 0 & 1 & 0 & 0 & 1 & 0 & 0 & 0 & 0 & 0 & 0 & 0 & 0 & 0 &  \\\\\n",
       "\t25 & 25 & E226-slack & 472 & 223 & 0 & acceptable & -11.6389 & 0.036083 & 21 & 7.42628e-12 & 5.60515e-11 & 1 & 1 & 0 & 0 & 0 & 1 & 0 & 0 & 1 & 0 & 0 & 0 & 0 & 0 & 0 & 0 & 0 & 0 &  \\\\\n",
       "\t26 & 26 & FFFFF800-slack & 1028 & 524 & 0 & max\\_iter & NaN & 2.76099 & 500 & NaN & NaN & 1 & 1 & 0 & 0 & 0 & 1 & 0 & 0 & 1 & 0 & 0 & 0 & 0 & 0 & 0 & 0 & 0 & 0 &  \\\\\n",
       "\t27 & 27 & FIT1D-slack & 1049 & 24 & 0 & acceptable & -9146.38 & 0.0613179 & 20 & 1.54983e-10 & 2.20825e-9 & 1 & 1 & 0 & 0 & 0 & 1 & 0 & 0 & 1 & 0 & 0 & 0 & 0 & 0 & 0 & 0 & 0 & 0 &  \\\\\n",
       "\t28 & 28 & FIT1P & 1677 & 627 & 0 & acceptable & 9146.38 & 0.0910449 & 16 & 1.00044e-10 & 6.53056e-10 & 1 & 1 & 0 & 0 & 0 & 1 & 0 & 0 & 1 & 0 & 0 & 0 & 0 & 0 & 0 & 0 & 0 & 0 &  \\\\\n",
       "\t29 & 29 & FIT2D-slack & 10524 & 25 & 0 & acceptable & -68464.3 & 0.50695 & 24 & 1.78867e-10 & 6.74849e-10 & 1 & 1 & 0 & 0 & 0 & 1 & 0 & 0 & 1 & 0 & 0 & 0 & 0 & 0 & 0 & 0 & 0 & 0 &  \\\\\n",
       "\t30 & 30 & FIT2P & 13525 & 3000 & 0 & acceptable & 68464.3 & 0.529586 & 21 & 2.92005e-10 & 3.80286e-9 & 1 & 1 & 0 & 0 & 0 & 1 & 0 & 0 & 1 & 0 & 0 & 0 & 0 & 0 & 0 & 0 & 0 & 0 &  \\\\\n",
       "\t31 & 31 & GANGES-slack & 1706 & 1309 & 0 & acceptable & -109586.0 & 0.106576 & 24 & 8.73115e-11 & 5.47463e-7 & 1 & 1 & 0 & 0 & 0 & 1 & 0 & 0 & 1 & 0 & 0 & 0 & 0 & 0 & 0 & 0 & 0 & 0 &  \\\\\n",
       "\t32 & 32 & GFRD-PNC-slack & 1160 & 616 & 0 & acceptable & 6.90224e6 & 0.0285509 & 18 & 7.09333e-8 & 8.16271e-11 & 1 & 1 & 0 & 0 & 0 & 1 & 0 & 0 & 1 & 0 & 0 & 0 & 0 & 0 & 0 & 0 & 0 & 0 &  \\\\\n",
       "\t33 & 33 & GROW15 & 645 & 300 & 0 & acceptable & -1.06871e8 & 0.0359428 & 13 & 3.4966e-8 & 3.72947e-8 & 1 & 1 & 0 & 0 & 0 & 1 & 0 & 0 & 1 & 0 & 0 & 0 & 0 & 0 & 0 & 0 & 0 & 0 &  \\\\\n",
       "\t34 & 34 & GROW22 & 946 & 440 & 0 & acceptable & -1.60834e8 & 0.0526421 & 14 & 7.7578e-9 & 1.74546e-8 & 1 & 1 & 0 & 0 & 0 & 1 & 0 & 0 & 1 & 0 & 0 & 0 & 0 & 0 & 0 & 0 & 0 & 0 &  \\\\\n",
       "\t35 & 35 & GROW7 & 301 & 140 & 0 & acceptable & -4.77878e7 & 0.0180731 & 13 & 1.05377e-9 & 2.32831e-10 & 1 & 1 & 0 & 0 & 0 & 1 & 0 & 0 & 1 & 0 & 0 & 0 & 0 & 0 & 0 & 0 & 0 & 0 &  \\\\\n",
       "\t36 & 36 & ISRAEL-slack & 316 & 174 & 0 & acceptable & -896645.0 & 0.0359399 & 27 & 2.91171e-9 & 2.91038e-11 & 1 & 1 & 0 & 0 & 0 & 1 & 0 & 0 & 1 & 0 & 0 & 0 & 0 & 0 & 0 & 0 & 0 & 0 &  \\\\\n",
       "\t37 & 37 & KB2-slack & 68 & 43 & 0 & acceptable & -1749.9 & 0.00340986 & 19 & 5.63959e-11 & 4.30518e-11 & 1 & 1 & 0 & 0 & 0 & 1 & 0 & 0 & 1 & 0 & 0 & 0 & 0 & 0 & 0 & 0 & 0 & 0 &  \\\\\n",
       "\t38 & 38 & KEN-07 & 3602 & 2426 & 0 & acceptable & -6.7952e8 & 0.0857871 & 14 & 2.14641e-10 & 9.46469e-7 & 1 & 1 & 0 & 0 & 0 & 1 & 0 & 0 & 1 & 0 & 0 & 0 & 0 & 0 & 0 & 0 & 0 & 0 &  \\\\\n",
       "\t39 & 39 & KEN-11 & 21349 & 14694 & 0 & acceptable & -6.97238e9 & 1.31682 & 25 & 1.27329e-11 & 3.17261e-9 & 1 & 1 & 0 & 0 & 0 & 1 & 0 & 0 & 1 & 0 & 0 & 0 & 0 & 0 & 0 & 0 & 0 & 0 &  \\\\\n",
       "\t40 & 40 & KEN-13 & 42659 & 28632 & 0 & acceptable & -1.02574e10 & 3.28609 & 26 & 1.73615e-9 & 6.5251e-7 & 1 & 1 & 0 & 0 & 0 & 1 & 0 & 0 & 1 & 0 & 0 & 0 & 0 & 0 & 0 & 0 & 0 & 0 &  \\\\\n",
       "\t41 & 41 & KEN-18 & 154699 & 105127 & 0 & acceptable & -5.2217e10 & 45.0634 & 44 & 6.48388e-10 & 2.64385e-7 & 1 & 1 & 0 & 0 & 0 & 1 & 0 & 0 & 1 & 0 & 0 & 0 & 0 & 0 & 0 & 0 & 0 & 0 &  \\\\\n",
       "\t42 & 42 & LOTFI-slack & 366 & 153 & 0 & acceptable & -25.2647 & 0.0256991 & 26 & 7.8406e-13 & 3.72529e-9 & 1 & 1 & 0 & 0 & 0 & 1 & 0 & 0 & 1 & 0 & 0 & 0 & 0 & 0 & 0 & 0 & 0 & 0 &  \\\\\n",
       "\t43 & 43 & MAROS-R7 & 9408 & 3136 & 0 & acceptable & 1.49719e6 & 9.82531 & 17 & 5.41684e-9 & 2.79442e-9 & 1 & 1 & 0 & 0 & 0 & 1 & 0 & 0 & 1 & 0 & 0 & 0 & 0 & 0 & 0 & 0 & 0 & 0 &  \\\\\n",
       "\t44 & 44 & MODSZK1 & 1620 & 687 & 0 & acceptable & 320.62 & 0.0693941 & 24 & 5.82077e-11 & 5.82078e-11 & 1 & 1 & 0 & 0 & 0 & 1 & 0 & 0 & 1 & 0 & 0 & 0 & 0 & 0 & 0 & 0 & 0 & 0 &  \\\\\n",
       "\t45 & 45 & OSA-07-slack & 25067 & 1118 & 0 & acceptable & 535723.0 & 4.65262 & 27 & 2.14157e-11 & 3.76796e-9 & 1 & 1 & 0 & 0 & 0 & 1 & 0 & 0 & 1 & 0 & 0 & 0 & 0 & 0 & 0 & 0 & 0 & 0 &  \\\\\n",
       "\t46 & 46 & OSA-14-slack & 54797 & 2337 & 0 & acceptable & 1.10646e6 & 17.9182 & 25 & 1.10687e-9 & 1.38973e-9 & 1 & 1 & 0 & 0 & 0 & 1 & 0 & 0 & 1 & 0 & 0 & 0 & 0 & 0 & 0 & 0 & 0 & 0 &  \\\\\n",
       "\t47 & 47 & OSA-30-slack & 104374 & 4350 & 0 & acceptable & 2.14214e6 & 15.9345 & 30 & 1.69587e-9 & 3.88469e-9 & 1 & 1 & 0 & 0 & 0 & 1 & 0 & 0 & 1 & 0 & 0 & 0 & 0 & 0 & 0 & 0 & 0 & 0 &  \\\\\n",
       "\t48 & 48 & OSA-60-slack & 243246 & 10280 & 0 & max\\_time & 5.84252e6 & 60.0439 & 28 & 1.2002e-5 & 0.0122415 & 1 & 1 & 0 & 0 & 0 & 1 & 0 & 0 & 1 & 0 & 0 & 0 & 0 & 0 & 0 & 0 & 0 & 0 &  \\\\\n",
       "\t49 & 49 & PDS-02-slack & 7716 & 2953 & 0 & acceptable & 2.88579e10 & 0.560047 & 34 & 8.79656e-9 & 8.48784e-7 & 1 & 1 & 0 & 0 & 0 & 1 & 0 & 0 & 1 & 0 & 0 & 0 & 0 & 0 & 0 & 0 & 0 & 0 &  \\\\\n",
       "\t50 & 50 & PDS-06-slack & 29351 & 9881 & 0 & acceptable & 2.7761e10 & 16.132 & 66 & 3.35802e-9 & 9.36199e-8 & 1 & 1 & 0 & 0 & 0 & 1 & 0 & 0 & 1 & 0 & 0 & 0 & 0 & 0 & 0 & 0 & 0 & 0 &  \\\\\n",
       "\t51 & 51 & PDS-10-slack & 49932 & 16558 & 0 & max\\_time & 2.67271e10 & 60.4953 & 63 & 3.94689e-8 & 0.0443695 & 1 & 1 & 0 & 0 & 0 & 1 & 0 & 0 & 1 & 0 & 0 & 0 & 0 & 0 & 0 & 0 & 0 & 0 &  \\\\\n",
       "\t52 & 52 & PDS-20-slack & 108175 & 33874 & 0 & max\\_time & 2.50726e10 & 67.2725 & 6 & 14.2636 & 22657.3 & 1 & 1 & 0 & 0 & 0 & 1 & 0 & 0 & 1 & 0 & 0 & 0 & 0 & 0 & 0 & 0 & 0 & 0 &  \\\\\n",
       "\t53 & 53 & QAP12 & 8856 & 3192 & 0 & acceptable & 522.894 & 38.3785 & 19 & 4.55062e-13 & 2.24659e-10 & 1 & 1 & 0 & 0 & 0 & 1 & 0 & 0 & 1 & 0 & 0 & 0 & 0 & 0 & 0 & 0 & 0 & 0 &  \\\\\n",
       "\t54 & 54 & QAP15 & 22275 & 6330 & 0 & max\\_time & 1440.98 & 63.7232 & 3 & 3.88994e-9 & 0.00855342 & 1 & 1 & 0 & 0 & 0 & 1 & 0 & 0 & 1 & 0 & 0 & 0 & 0 & 0 & 0 & 0 & 0 & 0 &  \\\\\n",
       "\t55 & 55 & QAP8 & 1632 & 912 & 0 & acceptable & 203.5 & 0.583383 & 9 & 1.57121e-14 & 6.5278e-12 & 1 & 1 & 0 & 0 & 0 & 1 & 0 & 0 & 1 & 0 & 0 & 0 & 0 & 0 & 0 & 0 & 0 & 0 &  \\\\\n",
       "\t56 & 56 & SC105-slack & 163 & 105 & 0 & acceptable & -52.2021 & 0.00476098 & 12 & 9.41999e-12 & 3.73858e-13 & 1 & 1 & 0 & 0 & 0 & 1 & 0 & 0 & 1 & 0 & 0 & 0 & 0 & 0 & 0 & 0 & 0 & 0 &  \\\\\n",
       "\t57 & 57 & SC205-slack & 317 & 205 & 0 & acceptable & -52.2021 & 0.011219 & 18 & 7.38495e-12 & 4.54747e-13 & 1 & 1 & 0 & 0 & 0 & 1 & 0 & 0 & 1 & 0 & 0 & 0 & 0 & 0 & 0 & 0 & 0 & 0 &  \\\\\n",
       "\t58 & 58 & SC50A-slack & 78 & 50 & 0 & acceptable & -64.5751 & 0.00206923 & 11 & 8.31455e-12 & 8.09475e-13 & 1 & 1 & 0 & 0 & 0 & 1 & 0 & 0 & 1 & 0 & 0 & 0 & 0 & 0 & 0 & 0 & 0 & 0 &  \\\\\n",
       "\t59 & 59 & SC50B-slack & 78 & 50 & 0 & acceptable & -70.0 & 0.00172305 & 9 & 5.74673e-11 & 1.46125e-11 & 1 & 1 & 0 & 0 & 0 & 1 & 0 & 0 & 1 & 0 & 0 & 0 & 0 & 0 & 0 & 0 & 0 & 0 &  \\\\\n",
       "\t60 & 60 & SCAGR25-slack & 671 & 471 & 0 & acceptable & -1.47534e7 & 0.020314 & 17 & 1.29962e-9 & 1.822e-9 & 1 & 1 & 0 & 0 & 0 & 1 & 0 & 0 & 1 & 0 & 0 & 0 & 0 & 0 & 0 & 0 & 0 & 0 &  \\\\\n",
       "\t61 & 61 & SCAGR7-slack & 185 & 129 & 0 & acceptable & -2.33139e6 & 0.00546598 & 14 & 1.38124e-7 & 2.66953e-8 & 1 & 1 & 0 & 0 & 0 & 1 & 0 & 0 & 1 & 0 & 0 & 0 & 0 & 0 & 0 & 0 & 0 & 0 &  \\\\\n",
       "\t62 & 62 & SCFXM1-slack & 600 & 330 & 0 & acceptable & 18416.8 & 0.0370882 & 20 & 6.48268e-10 & 1.30972e-9 & 1 & 1 & 0 & 0 & 0 & 1 & 0 & 0 & 1 & 0 & 0 & 0 & 0 & 0 & 0 & 0 & 0 & 0 &  \\\\\n",
       "\t63 & 63 & SCFXM2-slack & 1200 & 660 & 0 & acceptable & 36660.3 & 0.075851 & 22 & 2.46672e-9 & 1.89668e-9 & 1 & 1 & 0 & 0 & 0 & 1 & 0 & 0 & 1 & 0 & 0 & 0 & 0 & 0 & 0 & 0 & 0 & 0 &  \\\\\n",
       "\t64 & 64 & SCFXM3-slack & 1800 & 990 & 0 & acceptable & 54901.3 & 0.112085 & 23 & 5.78422e-10 & 9.07016e-10 & 1 & 1 & 0 & 0 & 0 & 1 & 0 & 0 & 1 & 0 & 0 & 0 & 0 & 0 & 0 & 0 & 0 & 0 &  \\\\\n",
       "\t65 & 65 & SCORPION-slack & 466 & 388 & 0 & acceptable & 1878.12 & 0.0155628 & 15 & 1.42109e-13 & 1.90738e-11 & 1 & 1 & 0 & 0 & 0 & 1 & 0 & 0 & 1 & 0 & 0 & 0 & 0 & 0 & 0 & 0 & 0 & 0 &  \\\\\n",
       "\t66 & 66 & SCRS8-slack & 1275 & 490 & 0 & acceptable & 904.297 & 0.049247 & 19 & 2.61159e-10 & 3.18715e-9 & 1 & 1 & 0 & 0 & 0 & 1 & 0 & 0 & 1 & 0 & 0 & 0 & 0 & 0 & 0 & 0 & 0 & 0 &  \\\\\n",
       "\t67 & 67 & SCSD1 & 760 & 77 & 0 & acceptable & 8.66667 & 0.012696 & 9 & 6.21725e-15 & 3.33081e-13 & 1 & 1 & 0 & 0 & 0 & 1 & 0 & 0 & 1 & 0 & 0 & 0 & 0 & 0 & 0 & 0 & 0 & 0 &  \\\\\n",
       "\t68 & 68 & SCSD6 & 1350 & 147 & 0 & acceptable & 50.5 & 0.0248899 & 11 & 1.20348e-13 & 1.59909e-10 & 1 & 1 & 0 & 0 & 0 & 1 & 0 & 0 & 1 & 0 & 0 & 0 & 0 & 0 & 0 & 0 & 0 & 0 &  \\\\\n",
       "\t69 & 69 & SCSD8 & 2750 & 397 & 0 & acceptable & 905.0 & 0.0385621 & 11 & 1.08802e-14 & 3.58147e-12 & 1 & 1 & 0 & 0 & 0 & 1 & 0 & 0 & 1 & 0 & 0 & 0 & 0 & 0 & 0 & 0 & 0 & 0 &  \\\\\n",
       "\t70 & 70 & SCTAP1-slack & 660 & 300 & 0 & acceptable & 1412.25 & 0.0183699 & 15 & 2.53206e-13 & 9.77964e-11 & 1 & 1 & 0 & 0 & 0 & 1 & 0 & 0 & 1 & 0 & 0 & 0 & 0 & 0 & 0 & 0 & 0 & 0 &  \\\\\n",
       "\t71 & 71 & SCTAP2-slack & 2500 & 1090 & 0 & acceptable & 1724.81 & 0.0620151 & 14 & 8.88641e-12 & 2.88719e-9 & 1 & 1 & 0 & 0 & 0 & 1 & 0 & 0 & 1 & 0 & 0 & 0 & 0 & 0 & 0 & 0 & 0 & 0 &  \\\\\n",
       "\t72 & 72 & SCTAP3-slack & 3340 & 1480 & 0 & acceptable & 1424.0 & 0.10056 & 17 & 4.26326e-14 & 5.78604e-12 & 1 & 1 & 0 & 0 & 0 & 1 & 0 & 0 & 1 & 0 & 0 & 0 & 0 & 0 & 0 & 0 & 0 & 0 &  \\\\\n",
       "\t73 & 73 & SEBA-slack & 1036 & 515 & 0 & acceptable & 15711.6 & 0.047524 & 20 & 6.03345e-10 & 7.33252e-10 & 1 & 1 & 0 & 0 & 0 & 1 & 0 & 0 & 1 & 0 & 0 & 0 & 0 & 0 & 0 & 0 & 0 & 0 &  \\\\\n",
       "\t74 & 74 & SHARE1B-slack & 253 & 117 & 0 & acceptable & -76589.3 & 0.0171139 & 26 & 7.64348e-10 & 8.18257e-8 & 1 & 1 & 0 & 0 & 0 & 1 & 0 & 0 & 1 & 0 & 0 & 0 & 0 & 0 & 0 & 0 & 0 & 0 &  \\\\\n",
       "\t75 & 75 & SHARE2B-slack & 162 & 96 & 0 & acceptable & -415.732 & 0.00469995 & 11 & 3.66945e-11 & 1.84276e-10 & 1 & 1 & 0 & 0 & 0 & 1 & 0 & 0 & 1 & 0 & 0 & 0 & 0 & 0 & 0 & 0 & 0 & 0 &  \\\\\n",
       "\t76 & 76 & SHIP04L-slack & 2166 & 402 & 0 & acceptable & 1.79332e6 & 0.059839 & 13 & 1.81899e-12 & 3.49857e-8 & 1 & 1 & 0 & 0 & 0 & 1 & 0 & 0 & 1 & 0 & 0 & 0 & 0 & 0 & 0 & 0 & 0 & 0 &  \\\\\n",
       "\t77 & 77 & SHIP04S-slack & 1506 & 402 & 0 & acceptable & 1.79871e6 & 0.0385089 & 13 & 3.00133e-11 & 7.61353e-8 & 1 & 1 & 0 & 0 & 0 & 1 & 0 & 0 & 1 & 0 & 0 & 0 & 0 & 0 & 0 & 0 & 0 & 0 &  \\\\\n",
       "\t78 & 78 & SHIP08L-slack & 4363 & 778 & 0 & acceptable & 1.90906e6 & 0.145106 & 15 & 3.41061e-12 & 8.32504e-8 & 1 & 1 & 0 & 0 & 0 & 1 & 0 & 0 & 1 & 0 & 0 & 0 & 0 & 0 & 0 & 0 & 0 & 0 &  \\\\\n",
       "\t79 & 79 & SHIP08S-slack & 2467 & 778 & 0 & acceptable & 1.9201e6 & 0.0607059 & 14 & 1.65983e-11 & 1.70456e-9 & 1 & 1 & 0 & 0 & 0 & 1 & 0 & 0 & 1 & 0 & 0 & 0 & 0 & 0 & 0 & 0 & 0 & 0 &  \\\\\n",
       "\t80 & 80 & SHIP12L-slack & 5533 & 1151 & 0 & acceptable & 1.47019e6 & 0.706936 & 71 & 2.28797e-11 & 2.66852e-7 & 1 & 1 & 0 & 0 & 0 & 1 & 0 & 0 & 1 & 0 & 0 & 0 & 0 & 0 & 0 & 0 & 0 & 0 &  \\\\\n",
       "\t81 & 81 & SHIP12S-slack & 2869 & 1151 & 0 & acceptable & 1.48924e6 & 0.363055 & 88 & 4.21026e-11 & 1.07454e-7 & 1 & 1 & 0 & 0 & 0 & 1 & 0 & 0 & 1 & 0 & 0 & 0 & 0 & 0 & 0 & 0 & 0 & 0 &  \\\\\n",
       "\t82 & 82 & STOCFOR1-slack & 165 & 117 & 0 & acceptable & -41132.0 & 0.00633121 & 15 & 2.81006e-11 & 4.44408e-9 & 1 & 1 & 0 & 0 & 0 & 1 & 0 & 0 & 1 & 0 & 0 & 0 & 0 & 0 & 0 & 0 & 0 & 0 &  \\\\\n",
       "\t83 & 83 & STOCFOR2-slack & 3045 & 2157 & 0 & acceptable & -39024.4 & 0.134026 & 23 & 9.1589e-12 & 3.16486e-10 & 1 & 1 & 0 & 0 & 0 & 1 & 0 & 0 & 1 & 0 & 0 & 0 & 0 & 0 & 0 & 0 & 0 & 0 &  \\\\\n",
       "\t84 & 84 & STOCFOR3-slack & 23541 & 16675 & 0 & acceptable & -39976.8 & 1.75225 & 44 & 3.10897e-9 & 2.30849e-11 & 1 & 1 & 0 & 0 & 0 & 1 & 0 & 0 & 1 & 0 & 0 & 0 & 0 & 0 & 0 & 0 & 0 & 0 &  \\\\\n",
       "\t85 & 85 & TRUSS & 8806 & 1000 & 0 & acceptable & 458816.0 & 0.306432 & 18 & 1.54861e-10 & 2.46308e-8 & 1 & 1 & 0 & 0 & 0 & 1 & 0 & 0 & 1 & 0 & 0 & 0 & 0 & 0 & 0 & 0 & 0 & 0 &  \\\\\n",
       "\t86 & 86 & WOOD1P-slack & 2595 & 244 & 0 & acceptable & 1.4429 & 0.806225 & 25 & 2.90878e-14 & 3.22033e-7 & 1 & 1 & 0 & 0 & 0 & 1 & 0 & 0 & 1 & 0 & 0 & 0 & 0 & 0 & 0 & 0 & 0 & 0 &  \\\\\n",
       "\t87 & 87 & WOODW-slack & 8418 & 1098 & 0 & acceptable & 1.30448 & 1.59312 & 50 & 1.12043e-14 & 6.13582e-10 & 1 & 1 & 0 & 0 & 0 & 1 & 0 & 0 & 1 & 0 & 0 & 0 & 0 & 0 & 0 & 0 & 0 & 0 &  \\\\\n",
       "\\end{tabular}\n"
      ],
      "text/plain": [
       "87×30 DataFrame\n",
       "│ Row │ id    │ name           │ nvar   │ ncon   │ nequ  │ status     │ objective   │ elapsed_time │ iter  │ dual_feas   │ primal_feas │ neval_obj │ neval_grad │ neval_cons │ neval_jcon │ neval_jgrad │ neval_jac │ neval_jprod │ neval_jtprod │ neval_hess │ neval_hprod │ neval_jhprod │ neval_residual │ neval_jac_residual │ neval_jprod_residual │ neval_jtprod_residual │ neval_hess_residual │ neval_jhess_residual │ neval_hprod_residual │ extrainfo                                                                                           │\n",
       "│     │ \u001b[90mInt64\u001b[39m │ \u001b[90mString\u001b[39m         │ \u001b[90mInt64\u001b[39m  │ \u001b[90mInt64\u001b[39m  │ \u001b[90mInt64\u001b[39m │ \u001b[90mSymbol\u001b[39m     │ \u001b[90mFloat64\u001b[39m     │ \u001b[90mFloat64\u001b[39m      │ \u001b[90mInt64\u001b[39m │ \u001b[90mFloat64\u001b[39m     │ \u001b[90mFloat64\u001b[39m     │ \u001b[90mInt64\u001b[39m     │ \u001b[90mInt64\u001b[39m      │ \u001b[90mInt64\u001b[39m      │ \u001b[90mInt64\u001b[39m      │ \u001b[90mInt64\u001b[39m       │ \u001b[90mInt64\u001b[39m     │ \u001b[90mInt64\u001b[39m       │ \u001b[90mInt64\u001b[39m        │ \u001b[90mInt64\u001b[39m      │ \u001b[90mInt64\u001b[39m       │ \u001b[90mInt64\u001b[39m        │ \u001b[90mInt64\u001b[39m          │ \u001b[90mInt64\u001b[39m              │ \u001b[90mInt64\u001b[39m                │ \u001b[90mInt64\u001b[39m                 │ \u001b[90mInt64\u001b[39m               │ \u001b[90mInt64\u001b[39m                │ \u001b[90mInt64\u001b[39m                │ \u001b[90mString\u001b[39m                                                                                              │\n",
       "├─────┼───────┼────────────────┼────────┼────────┼───────┼────────────┼─────────────┼──────────────┼───────┼─────────────┼─────────────┼───────────┼────────────┼────────────┼────────────┼─────────────┼───────────┼─────────────┼──────────────┼────────────┼─────────────┼──────────────┼────────────────┼────────────────────┼──────────────────────┼───────────────────────┼─────────────────────┼──────────────────────┼──────────────────────┼─────────────────────────────────────────────────────────────────────────────────────────────────────┤\n",
       "│ 1   │ 1     │ 25FV47-slack   │ 1876   │ 821    │ 0     │ acceptable │ 5501.85     │ 0.332413     │ 27    │ 3.78299e-9  │ 1.93184e-11 │ 1         │ 1          │ 0          │ 0          │ 0           │ 1         │ 0           │ 0            │ 1          │ 0           │ 0            │ 0              │ 0                  │ 0                    │ 0                     │ 0                   │ 0                    │ 0                    │                                                                                                     │\n",
       "│ 2   │ 2     │ ADLITTLE-slack │ 138    │ 56     │ 0     │ acceptable │ 225495.0    │ 0.00483203   │ 14    │ 1.23535e-10 │ 9.48945e-10 │ 1         │ 1          │ 0          │ 0          │ 0           │ 1         │ 0           │ 0            │ 1          │ 0           │ 0            │ 0              │ 0                  │ 0                    │ 0                     │ 0                   │ 0                    │ 0                    │                                                                                                     │\n",
       "│ 3   │ 3     │ AFIRO-slack    │ 51     │ 27     │ 0     │ acceptable │ -464.753    │ 0.00101399   │ 8     │ 4.20097e-11 │ 1.47793e-11 │ 1         │ 1          │ 0          │ 0          │ 0           │ 1         │ 0           │ 0            │ 1          │ 0           │ 0            │ 0              │ 0                  │ 0                    │ 0                     │ 0                   │ 0                    │ 0                    │                                                                                                     │\n",
       "│ 4   │ 4     │ AGG-slack      │ 615    │ 488    │ 0     │ acceptable │ -3.59918e7  │ 0.040946     │ 19    │ 4.50613e-9  │ 2.73138e-7  │ 1         │ 1          │ 0          │ 0          │ 0           │ 1         │ 0           │ 0            │ 1          │ 0           │ 0            │ 0              │ 0                  │ 0                    │ 0                     │ 0                   │ 0                    │ 0                    │                                                                                                     │\n",
       "│ 5   │ 5     │ AGG2-slack     │ 758    │ 516    │ 0     │ exception  │ Inf         │ Inf          │ 0     │ Inf         │ Inf         │ 0         │ 0          │ 0          │ 0          │ 0           │ 0         │ 0           │ 0            │ 0          │ 0           │ 0            │ 0              │ 0                  │ 0                    │ 0                     │ 0                   │ 0                    │ 0                    │ LDLFactorizations.SQDException(\"matrix does not possess a LDL' factorization for this permutation\") │\n",
       "│ 6   │ 6     │ AGG3-slack     │ 758    │ 516    │ 0     │ acceptable │ 1.03121e7   │ 0.091418     │ 20    │ 2.19973e-8  │ 2.32831e-10 │ 1         │ 1          │ 0          │ 0          │ 0           │ 1         │ 0           │ 0            │ 1          │ 0           │ 0            │ 0              │ 0                  │ 0                    │ 0                     │ 0                   │ 0                    │ 0                    │                                                                                                     │\n",
       "│ 7   │ 7     │ BANDM          │ 472    │ 305    │ 0     │ acceptable │ -158.628    │ 0.10612      │ 18    │ 7.70021e-12 │ 3.92576e-11 │ 1         │ 1          │ 0          │ 0          │ 0           │ 1         │ 0           │ 0            │ 1          │ 0           │ 0            │ 0              │ 0                  │ 0                    │ 0                     │ 0                   │ 0                    │ 0                    │                                                                                                     │\n",
       "│ 8   │ 8     │ BEACONFD-slack │ 295    │ 173    │ 0     │ acceptable │ 33592.5     │ 0.0181909    │ 11    │ 1.30427e-8  │ 1.18282e-8  │ 1         │ 1          │ 0          │ 0          │ 0           │ 1         │ 0           │ 0            │ 1          │ 0           │ 0            │ 0              │ 0                  │ 0                    │ 0                     │ 0                   │ 0                    │ 0                    │                                                                                                     │\n",
       "│ 9   │ 9     │ BLEND-slack    │ 114    │ 74     │ 0     │ acceptable │ -30.8121    │ 0.00513506   │ 13    │ 1.07271e-12 │ 1.54721e-12 │ 1         │ 1          │ 0          │ 0          │ 0           │ 1         │ 0           │ 0            │ 1          │ 0           │ 0            │ 0              │ 0                  │ 0                    │ 0                     │ 0                   │ 0                    │ 0                    │                                                                                                     │\n",
       "│ 10  │ 10    │ BNL1-slack     │ 1586   │ 643    │ 0     │ acceptable │ 1977.63     │ 0.215806     │ 39    │ 1.97373e-12 │ 3.33634e-7  │ 1         │ 1          │ 0          │ 0          │ 0           │ 1         │ 0           │ 0            │ 1          │ 0           │ 0            │ 0              │ 0                  │ 0                    │ 0                     │ 0                   │ 0                    │ 0                    │                                                                                                     │\n",
       "│ 11  │ 11    │ BNL2-slack     │ 4486   │ 2324   │ 0     │ max_iter   │ NaN         │ 11.5666      │ 500   │ NaN         │ NaN         │ 1         │ 1          │ 0          │ 0          │ 0           │ 1         │ 0           │ 0            │ 1          │ 0           │ 0            │ 0              │ 0                  │ 0                    │ 0                     │ 0                   │ 0                    │ 0                    │                                                                                                     │\n",
       "│ 12  │ 12    │ BOEING1-slack  │ 726    │ 351    │ 0     │ acceptable │ -335.214    │ 0.068768     │ 25    │ 7.07314e-10 │ 1.05366e-10 │ 1         │ 1          │ 0          │ 0          │ 0           │ 1         │ 0           │ 0            │ 1          │ 0           │ 0            │ 0              │ 0                  │ 0                    │ 0                     │ 0                   │ 0                    │ 0                    │                                                                                                     │\n",
       "│ 13  │ 13    │ BOEING2-slack  │ 305    │ 166    │ 0     │ acceptable │ -315.019    │ 0.0194292    │ 21    │ 4.97421e-12 │ 8.37642e-11 │ 1         │ 1          │ 0          │ 0          │ 0           │ 1         │ 0           │ 0            │ 1          │ 0           │ 0            │ 0              │ 0                  │ 0                    │ 0                     │ 0                   │ 0                    │ 0                    │                                                                                                     │\n",
       "│ 14  │ 14    │ BRANDY-slack   │ 303    │ 220    │ 0     │ acceptable │ 1518.51     │ 0.0230429    │ 18    │ 6.60095e-10 │ 2.48068e-9  │ 1         │ 1          │ 0          │ 0          │ 0           │ 1         │ 0           │ 0            │ 1          │ 0           │ 0            │ 0              │ 0                  │ 0                    │ 0                     │ 0                   │ 0                    │ 0                    │                                                                                                     │\n",
       "│ 15  │ 15    │ CRE-A-slack    │ 7248   │ 3516   │ 0     │ acceptable │ 2.35954e7   │ 0.541912     │ 36    │ 2.17148e-8  │ 4.83715e-8  │ 1         │ 1          │ 0          │ 0          │ 0           │ 1         │ 0           │ 0            │ 1          │ 0           │ 0            │ 0              │ 0                  │ 0                    │ 0                     │ 0                   │ 0                    │ 0                    │                                                                                                     │\n",
       "│ 16  │ 16    │ CRE-B-slack    │ 77137  │ 9648   │ 0     │ acceptable │ 2.31296e7   │ 38.1751      │ 53    │ 1.26013e-8  │ 5.02358e-8  │ 1         │ 1          │ 0          │ 0          │ 0           │ 1         │ 0           │ 0            │ 1          │ 0           │ 0            │ 0              │ 0                  │ 0                    │ 0                     │ 0                   │ 0                    │ 0                    │                                                                                                     │\n",
       "│ 17  │ 17    │ CRE-C-slack    │ 6411   │ 3068   │ 0     │ acceptable │ 2.52751e7   │ 0.565979     │ 39    │ 2.21189e-9  │ 2.38385e-9  │ 1         │ 1          │ 0          │ 0          │ 0           │ 1         │ 0           │ 0            │ 1          │ 0           │ 0            │ 0              │ 0                  │ 0                    │ 0                     │ 0                   │ 0                    │ 0                    │                                                                                                     │\n",
       "│ 18  │ 18    │ CRE-D-slack    │ 73948  │ 8926   │ 0     │ acceptable │ 2.4455e7    │ 27.2082      │ 43    │ 1.76494e-8  │ 1.0768e-7   │ 1         │ 1          │ 0          │ 0          │ 0           │ 1         │ 0           │ 0            │ 1          │ 0           │ 0            │ 0              │ 0                  │ 0                    │ 0                     │ 0                   │ 0                    │ 0                    │                                                                                                     │\n",
       "│ 19  │ 19    │ CYCLE-slack    │ 3371   │ 1903   │ 0     │ max_iter   │ NaN         │ 9.37315      │ 500   │ NaN         │ NaN         │ 1         │ 1          │ 0          │ 0          │ 0           │ 1         │ 0           │ 0            │ 1          │ 0           │ 0            │ 0              │ 0                  │ 0                    │ 0                     │ 0                   │ 0                    │ 0                    │                                                                                                     │\n",
       "│ 20  │ 20    │ D2Q06C-slack   │ 5831   │ 2171   │ 0     │ acceptable │ 122784.0    │ 1.49626      │ 35    │ 7.01841e-9  │ 6.66918e-8  │ 1         │ 1          │ 0          │ 0          │ 0           │ 1         │ 0           │ 0            │ 1          │ 0           │ 0            │ 0              │ 0                  │ 0                    │ 0                     │ 0                   │ 0                    │ 0                    │                                                                                                     │\n",
       "│ 21  │ 21    │ D6CUBE         │ 6184   │ 415    │ 0     │ acceptable │ 315.492     │ 0.474471     │ 17    │ 1.90958e-14 │ 4.72937e-11 │ 1         │ 1          │ 0          │ 0          │ 0           │ 1         │ 0           │ 0            │ 1          │ 0           │ 0            │ 0              │ 0                  │ 0                    │ 0                     │ 0                   │ 0                    │ 0                    │                                                                                                     │\n",
       "│ 22  │ 22    │ DEGEN2-slack   │ 757    │ 444    │ 0     │ acceptable │ -1435.18    │ 0.0703239    │ 14    │ 3.39728e-13 │ 1.13047e-11 │ 1         │ 1          │ 0          │ 0          │ 0           │ 1         │ 0           │ 0            │ 1          │ 0           │ 0            │ 0              │ 0                  │ 0                    │ 0                     │ 0                   │ 0                    │ 0                    │                                                                                                     │\n",
       "│ 23  │ 23    │ DEGEN3-slack   │ 2604   │ 1503   │ 0     │ acceptable │ -987.294    │ 0.728279     │ 18    │ 4.37406e-12 │ 1.63109e-10 │ 1         │ 1          │ 0          │ 0          │ 0           │ 1         │ 0           │ 0            │ 1          │ 0           │ 0            │ 0              │ 0                  │ 0                    │ 0                     │ 0                   │ 0                    │ 0                    │                                                                                                     │\n",
       "│ 24  │ 24    │ DFL001         │ 12230  │ 6071   │ 0     │ max_time   │ 1.146e7     │ 61.0105      │ 46    │ 1.28003e-5  │ 0.0498928   │ 1         │ 1          │ 0          │ 0          │ 0           │ 1         │ 0           │ 0            │ 1          │ 0           │ 0            │ 0              │ 0                  │ 0                    │ 0                     │ 0                   │ 0                    │ 0                    │                                                                                                     │\n",
       "│ 25  │ 25    │ E226-slack     │ 472    │ 223    │ 0     │ acceptable │ -11.6389    │ 0.036083     │ 21    │ 7.42628e-12 │ 5.60515e-11 │ 1         │ 1          │ 0          │ 0          │ 0           │ 1         │ 0           │ 0            │ 1          │ 0           │ 0            │ 0              │ 0                  │ 0                    │ 0                     │ 0                   │ 0                    │ 0                    │                                                                                                     │\n",
       "│ 26  │ 26    │ FFFFF800-slack │ 1028   │ 524    │ 0     │ max_iter   │ NaN         │ 2.76099      │ 500   │ NaN         │ NaN         │ 1         │ 1          │ 0          │ 0          │ 0           │ 1         │ 0           │ 0            │ 1          │ 0           │ 0            │ 0              │ 0                  │ 0                    │ 0                     │ 0                   │ 0                    │ 0                    │                                                                                                     │\n",
       "│ 27  │ 27    │ FIT1D-slack    │ 1049   │ 24     │ 0     │ acceptable │ -9146.38    │ 0.0613179    │ 20    │ 1.54983e-10 │ 2.20825e-9  │ 1         │ 1          │ 0          │ 0          │ 0           │ 1         │ 0           │ 0            │ 1          │ 0           │ 0            │ 0              │ 0                  │ 0                    │ 0                     │ 0                   │ 0                    │ 0                    │                                                                                                     │\n",
       "│ 28  │ 28    │ FIT1P          │ 1677   │ 627    │ 0     │ acceptable │ 9146.38     │ 0.0910449    │ 16    │ 1.00044e-10 │ 6.53056e-10 │ 1         │ 1          │ 0          │ 0          │ 0           │ 1         │ 0           │ 0            │ 1          │ 0           │ 0            │ 0              │ 0                  │ 0                    │ 0                     │ 0                   │ 0                    │ 0                    │                                                                                                     │\n",
       "│ 29  │ 29    │ FIT2D-slack    │ 10524  │ 25     │ 0     │ acceptable │ -68464.3    │ 0.50695      │ 24    │ 1.78867e-10 │ 6.74849e-10 │ 1         │ 1          │ 0          │ 0          │ 0           │ 1         │ 0           │ 0            │ 1          │ 0           │ 0            │ 0              │ 0                  │ 0                    │ 0                     │ 0                   │ 0                    │ 0                    │                                                                                                     │\n",
       "│ 30  │ 30    │ FIT2P          │ 13525  │ 3000   │ 0     │ acceptable │ 68464.3     │ 0.529586     │ 21    │ 2.92005e-10 │ 3.80286e-9  │ 1         │ 1          │ 0          │ 0          │ 0           │ 1         │ 0           │ 0            │ 1          │ 0           │ 0            │ 0              │ 0                  │ 0                    │ 0                     │ 0                   │ 0                    │ 0                    │                                                                                                     │\n",
       "│ 31  │ 31    │ GANGES-slack   │ 1706   │ 1309   │ 0     │ acceptable │ -109586.0   │ 0.106576     │ 24    │ 8.73115e-11 │ 5.47463e-7  │ 1         │ 1          │ 0          │ 0          │ 0           │ 1         │ 0           │ 0            │ 1          │ 0           │ 0            │ 0              │ 0                  │ 0                    │ 0                     │ 0                   │ 0                    │ 0                    │                                                                                                     │\n",
       "│ 32  │ 32    │ GFRD-PNC-slack │ 1160   │ 616    │ 0     │ acceptable │ 6.90224e6   │ 0.0285509    │ 18    │ 7.09333e-8  │ 8.16271e-11 │ 1         │ 1          │ 0          │ 0          │ 0           │ 1         │ 0           │ 0            │ 1          │ 0           │ 0            │ 0              │ 0                  │ 0                    │ 0                     │ 0                   │ 0                    │ 0                    │                                                                                                     │\n",
       "│ 33  │ 33    │ GROW15         │ 645    │ 300    │ 0     │ acceptable │ -1.06871e8  │ 0.0359428    │ 13    │ 3.4966e-8   │ 3.72947e-8  │ 1         │ 1          │ 0          │ 0          │ 0           │ 1         │ 0           │ 0            │ 1          │ 0           │ 0            │ 0              │ 0                  │ 0                    │ 0                     │ 0                   │ 0                    │ 0                    │                                                                                                     │\n",
       "│ 34  │ 34    │ GROW22         │ 946    │ 440    │ 0     │ acceptable │ -1.60834e8  │ 0.0526421    │ 14    │ 7.7578e-9   │ 1.74546e-8  │ 1         │ 1          │ 0          │ 0          │ 0           │ 1         │ 0           │ 0            │ 1          │ 0           │ 0            │ 0              │ 0                  │ 0                    │ 0                     │ 0                   │ 0                    │ 0                    │                                                                                                     │\n",
       "│ 35  │ 35    │ GROW7          │ 301    │ 140    │ 0     │ acceptable │ -4.77878e7  │ 0.0180731    │ 13    │ 1.05377e-9  │ 2.32831e-10 │ 1         │ 1          │ 0          │ 0          │ 0           │ 1         │ 0           │ 0            │ 1          │ 0           │ 0            │ 0              │ 0                  │ 0                    │ 0                     │ 0                   │ 0                    │ 0                    │                                                                                                     │\n",
       "│ 36  │ 36    │ ISRAEL-slack   │ 316    │ 174    │ 0     │ acceptable │ -896645.0   │ 0.0359399    │ 27    │ 2.91171e-9  │ 2.91038e-11 │ 1         │ 1          │ 0          │ 0          │ 0           │ 1         │ 0           │ 0            │ 1          │ 0           │ 0            │ 0              │ 0                  │ 0                    │ 0                     │ 0                   │ 0                    │ 0                    │                                                                                                     │\n",
       "│ 37  │ 37    │ KB2-slack      │ 68     │ 43     │ 0     │ acceptable │ -1749.9     │ 0.00340986   │ 19    │ 5.63959e-11 │ 4.30518e-11 │ 1         │ 1          │ 0          │ 0          │ 0           │ 1         │ 0           │ 0            │ 1          │ 0           │ 0            │ 0              │ 0                  │ 0                    │ 0                     │ 0                   │ 0                    │ 0                    │                                                                                                     │\n",
       "│ 38  │ 38    │ KEN-07         │ 3602   │ 2426   │ 0     │ acceptable │ -6.7952e8   │ 0.0857871    │ 14    │ 2.14641e-10 │ 9.46469e-7  │ 1         │ 1          │ 0          │ 0          │ 0           │ 1         │ 0           │ 0            │ 1          │ 0           │ 0            │ 0              │ 0                  │ 0                    │ 0                     │ 0                   │ 0                    │ 0                    │                                                                                                     │\n",
       "│ 39  │ 39    │ KEN-11         │ 21349  │ 14694  │ 0     │ acceptable │ -6.97238e9  │ 1.31682      │ 25    │ 1.27329e-11 │ 3.17261e-9  │ 1         │ 1          │ 0          │ 0          │ 0           │ 1         │ 0           │ 0            │ 1          │ 0           │ 0            │ 0              │ 0                  │ 0                    │ 0                     │ 0                   │ 0                    │ 0                    │                                                                                                     │\n",
       "│ 40  │ 40    │ KEN-13         │ 42659  │ 28632  │ 0     │ acceptable │ -1.02574e10 │ 3.28609      │ 26    │ 1.73615e-9  │ 6.5251e-7   │ 1         │ 1          │ 0          │ 0          │ 0           │ 1         │ 0           │ 0            │ 1          │ 0           │ 0            │ 0              │ 0                  │ 0                    │ 0                     │ 0                   │ 0                    │ 0                    │                                                                                                     │\n",
       "│ 41  │ 41    │ KEN-18         │ 154699 │ 105127 │ 0     │ acceptable │ -5.2217e10  │ 45.0634      │ 44    │ 6.48388e-10 │ 2.64385e-7  │ 1         │ 1          │ 0          │ 0          │ 0           │ 1         │ 0           │ 0            │ 1          │ 0           │ 0            │ 0              │ 0                  │ 0                    │ 0                     │ 0                   │ 0                    │ 0                    │                                                                                                     │\n",
       "│ 42  │ 42    │ LOTFI-slack    │ 366    │ 153    │ 0     │ acceptable │ -25.2647    │ 0.0256991    │ 26    │ 7.8406e-13  │ 3.72529e-9  │ 1         │ 1          │ 0          │ 0          │ 0           │ 1         │ 0           │ 0            │ 1          │ 0           │ 0            │ 0              │ 0                  │ 0                    │ 0                     │ 0                   │ 0                    │ 0                    │                                                                                                     │\n",
       "│ 43  │ 43    │ MAROS-R7       │ 9408   │ 3136   │ 0     │ acceptable │ 1.49719e6   │ 9.82531      │ 17    │ 5.41684e-9  │ 2.79442e-9  │ 1         │ 1          │ 0          │ 0          │ 0           │ 1         │ 0           │ 0            │ 1          │ 0           │ 0            │ 0              │ 0                  │ 0                    │ 0                     │ 0                   │ 0                    │ 0                    │                                                                                                     │\n",
       "│ 44  │ 44    │ MODSZK1        │ 1620   │ 687    │ 0     │ acceptable │ 320.62      │ 0.0693941    │ 24    │ 5.82077e-11 │ 5.82078e-11 │ 1         │ 1          │ 0          │ 0          │ 0           │ 1         │ 0           │ 0            │ 1          │ 0           │ 0            │ 0              │ 0                  │ 0                    │ 0                     │ 0                   │ 0                    │ 0                    │                                                                                                     │\n",
       "│ 45  │ 45    │ OSA-07-slack   │ 25067  │ 1118   │ 0     │ acceptable │ 535723.0    │ 4.65262      │ 27    │ 2.14157e-11 │ 3.76796e-9  │ 1         │ 1          │ 0          │ 0          │ 0           │ 1         │ 0           │ 0            │ 1          │ 0           │ 0            │ 0              │ 0                  │ 0                    │ 0                     │ 0                   │ 0                    │ 0                    │                                                                                                     │\n",
       "│ 46  │ 46    │ OSA-14-slack   │ 54797  │ 2337   │ 0     │ acceptable │ 1.10646e6   │ 17.9182      │ 25    │ 1.10687e-9  │ 1.38973e-9  │ 1         │ 1          │ 0          │ 0          │ 0           │ 1         │ 0           │ 0            │ 1          │ 0           │ 0            │ 0              │ 0                  │ 0                    │ 0                     │ 0                   │ 0                    │ 0                    │                                                                                                     │\n",
       "│ 47  │ 47    │ OSA-30-slack   │ 104374 │ 4350   │ 0     │ acceptable │ 2.14214e6   │ 15.9345      │ 30    │ 1.69587e-9  │ 3.88469e-9  │ 1         │ 1          │ 0          │ 0          │ 0           │ 1         │ 0           │ 0            │ 1          │ 0           │ 0            │ 0              │ 0                  │ 0                    │ 0                     │ 0                   │ 0                    │ 0                    │                                                                                                     │\n",
       "│ 48  │ 48    │ OSA-60-slack   │ 243246 │ 10280  │ 0     │ max_time   │ 5.84252e6   │ 60.0439      │ 28    │ 1.2002e-5   │ 0.0122415   │ 1         │ 1          │ 0          │ 0          │ 0           │ 1         │ 0           │ 0            │ 1          │ 0           │ 0            │ 0              │ 0                  │ 0                    │ 0                     │ 0                   │ 0                    │ 0                    │                                                                                                     │\n",
       "│ 49  │ 49    │ PDS-02-slack   │ 7716   │ 2953   │ 0     │ acceptable │ 2.88579e10  │ 0.560047     │ 34    │ 8.79656e-9  │ 8.48784e-7  │ 1         │ 1          │ 0          │ 0          │ 0           │ 1         │ 0           │ 0            │ 1          │ 0           │ 0            │ 0              │ 0                  │ 0                    │ 0                     │ 0                   │ 0                    │ 0                    │                                                                                                     │\n",
       "│ 50  │ 50    │ PDS-06-slack   │ 29351  │ 9881   │ 0     │ acceptable │ 2.7761e10   │ 16.132       │ 66    │ 3.35802e-9  │ 9.36199e-8  │ 1         │ 1          │ 0          │ 0          │ 0           │ 1         │ 0           │ 0            │ 1          │ 0           │ 0            │ 0              │ 0                  │ 0                    │ 0                     │ 0                   │ 0                    │ 0                    │                                                                                                     │\n",
       "│ 51  │ 51    │ PDS-10-slack   │ 49932  │ 16558  │ 0     │ max_time   │ 2.67271e10  │ 60.4953      │ 63    │ 3.94689e-8  │ 0.0443695   │ 1         │ 1          │ 0          │ 0          │ 0           │ 1         │ 0           │ 0            │ 1          │ 0           │ 0            │ 0              │ 0                  │ 0                    │ 0                     │ 0                   │ 0                    │ 0                    │                                                                                                     │\n",
       "│ 52  │ 52    │ PDS-20-slack   │ 108175 │ 33874  │ 0     │ max_time   │ 2.50726e10  │ 67.2725      │ 6     │ 14.2636     │ 22657.3     │ 1         │ 1          │ 0          │ 0          │ 0           │ 1         │ 0           │ 0            │ 1          │ 0           │ 0            │ 0              │ 0                  │ 0                    │ 0                     │ 0                   │ 0                    │ 0                    │                                                                                                     │\n",
       "│ 53  │ 53    │ QAP12          │ 8856   │ 3192   │ 0     │ acceptable │ 522.894     │ 38.3785      │ 19    │ 4.55062e-13 │ 2.24659e-10 │ 1         │ 1          │ 0          │ 0          │ 0           │ 1         │ 0           │ 0            │ 1          │ 0           │ 0            │ 0              │ 0                  │ 0                    │ 0                     │ 0                   │ 0                    │ 0                    │                                                                                                     │\n",
       "│ 54  │ 54    │ QAP15          │ 22275  │ 6330   │ 0     │ max_time   │ 1440.98     │ 63.7232      │ 3     │ 3.88994e-9  │ 0.00855342  │ 1         │ 1          │ 0          │ 0          │ 0           │ 1         │ 0           │ 0            │ 1          │ 0           │ 0            │ 0              │ 0                  │ 0                    │ 0                     │ 0                   │ 0                    │ 0                    │                                                                                                     │\n",
       "│ 55  │ 55    │ QAP8           │ 1632   │ 912    │ 0     │ acceptable │ 203.5       │ 0.583383     │ 9     │ 1.57121e-14 │ 6.5278e-12  │ 1         │ 1          │ 0          │ 0          │ 0           │ 1         │ 0           │ 0            │ 1          │ 0           │ 0            │ 0              │ 0                  │ 0                    │ 0                     │ 0                   │ 0                    │ 0                    │                                                                                                     │\n",
       "│ 56  │ 56    │ SC105-slack    │ 163    │ 105    │ 0     │ acceptable │ -52.2021    │ 0.00476098   │ 12    │ 9.41999e-12 │ 3.73858e-13 │ 1         │ 1          │ 0          │ 0          │ 0           │ 1         │ 0           │ 0            │ 1          │ 0           │ 0            │ 0              │ 0                  │ 0                    │ 0                     │ 0                   │ 0                    │ 0                    │                                                                                                     │\n",
       "│ 57  │ 57    │ SC205-slack    │ 317    │ 205    │ 0     │ acceptable │ -52.2021    │ 0.011219     │ 18    │ 7.38495e-12 │ 4.54747e-13 │ 1         │ 1          │ 0          │ 0          │ 0           │ 1         │ 0           │ 0            │ 1          │ 0           │ 0            │ 0              │ 0                  │ 0                    │ 0                     │ 0                   │ 0                    │ 0                    │                                                                                                     │\n",
       "│ 58  │ 58    │ SC50A-slack    │ 78     │ 50     │ 0     │ acceptable │ -64.5751    │ 0.00206923   │ 11    │ 8.31455e-12 │ 8.09475e-13 │ 1         │ 1          │ 0          │ 0          │ 0           │ 1         │ 0           │ 0            │ 1          │ 0           │ 0            │ 0              │ 0                  │ 0                    │ 0                     │ 0                   │ 0                    │ 0                    │                                                                                                     │\n",
       "│ 59  │ 59    │ SC50B-slack    │ 78     │ 50     │ 0     │ acceptable │ -70.0       │ 0.00172305   │ 9     │ 5.74673e-11 │ 1.46125e-11 │ 1         │ 1          │ 0          │ 0          │ 0           │ 1         │ 0           │ 0            │ 1          │ 0           │ 0            │ 0              │ 0                  │ 0                    │ 0                     │ 0                   │ 0                    │ 0                    │                                                                                                     │\n",
       "│ 60  │ 60    │ SCAGR25-slack  │ 671    │ 471    │ 0     │ acceptable │ -1.47534e7  │ 0.020314     │ 17    │ 1.29962e-9  │ 1.822e-9    │ 1         │ 1          │ 0          │ 0          │ 0           │ 1         │ 0           │ 0            │ 1          │ 0           │ 0            │ 0              │ 0                  │ 0                    │ 0                     │ 0                   │ 0                    │ 0                    │                                                                                                     │\n",
       "│ 61  │ 61    │ SCAGR7-slack   │ 185    │ 129    │ 0     │ acceptable │ -2.33139e6  │ 0.00546598   │ 14    │ 1.38124e-7  │ 2.66953e-8  │ 1         │ 1          │ 0          │ 0          │ 0           │ 1         │ 0           │ 0            │ 1          │ 0           │ 0            │ 0              │ 0                  │ 0                    │ 0                     │ 0                   │ 0                    │ 0                    │                                                                                                     │\n",
       "│ 62  │ 62    │ SCFXM1-slack   │ 600    │ 330    │ 0     │ acceptable │ 18416.8     │ 0.0370882    │ 20    │ 6.48268e-10 │ 1.30972e-9  │ 1         │ 1          │ 0          │ 0          │ 0           │ 1         │ 0           │ 0            │ 1          │ 0           │ 0            │ 0              │ 0                  │ 0                    │ 0                     │ 0                   │ 0                    │ 0                    │                                                                                                     │\n",
       "│ 63  │ 63    │ SCFXM2-slack   │ 1200   │ 660    │ 0     │ acceptable │ 36660.3     │ 0.075851     │ 22    │ 2.46672e-9  │ 1.89668e-9  │ 1         │ 1          │ 0          │ 0          │ 0           │ 1         │ 0           │ 0            │ 1          │ 0           │ 0            │ 0              │ 0                  │ 0                    │ 0                     │ 0                   │ 0                    │ 0                    │                                                                                                     │\n",
       "│ 64  │ 64    │ SCFXM3-slack   │ 1800   │ 990    │ 0     │ acceptable │ 54901.3     │ 0.112085     │ 23    │ 5.78422e-10 │ 9.07016e-10 │ 1         │ 1          │ 0          │ 0          │ 0           │ 1         │ 0           │ 0            │ 1          │ 0           │ 0            │ 0              │ 0                  │ 0                    │ 0                     │ 0                   │ 0                    │ 0                    │                                                                                                     │\n",
       "│ 65  │ 65    │ SCORPION-slack │ 466    │ 388    │ 0     │ acceptable │ 1878.12     │ 0.0155628    │ 15    │ 1.42109e-13 │ 1.90738e-11 │ 1         │ 1          │ 0          │ 0          │ 0           │ 1         │ 0           │ 0            │ 1          │ 0           │ 0            │ 0              │ 0                  │ 0                    │ 0                     │ 0                   │ 0                    │ 0                    │                                                                                                     │\n",
       "│ 66  │ 66    │ SCRS8-slack    │ 1275   │ 490    │ 0     │ acceptable │ 904.297     │ 0.049247     │ 19    │ 2.61159e-10 │ 3.18715e-9  │ 1         │ 1          │ 0          │ 0          │ 0           │ 1         │ 0           │ 0            │ 1          │ 0           │ 0            │ 0              │ 0                  │ 0                    │ 0                     │ 0                   │ 0                    │ 0                    │                                                                                                     │\n",
       "│ 67  │ 67    │ SCSD1          │ 760    │ 77     │ 0     │ acceptable │ 8.66667     │ 0.012696     │ 9     │ 6.21725e-15 │ 3.33081e-13 │ 1         │ 1          │ 0          │ 0          │ 0           │ 1         │ 0           │ 0            │ 1          │ 0           │ 0            │ 0              │ 0                  │ 0                    │ 0                     │ 0                   │ 0                    │ 0                    │                                                                                                     │\n",
       "│ 68  │ 68    │ SCSD6          │ 1350   │ 147    │ 0     │ acceptable │ 50.5        │ 0.0248899    │ 11    │ 1.20348e-13 │ 1.59909e-10 │ 1         │ 1          │ 0          │ 0          │ 0           │ 1         │ 0           │ 0            │ 1          │ 0           │ 0            │ 0              │ 0                  │ 0                    │ 0                     │ 0                   │ 0                    │ 0                    │                                                                                                     │\n",
       "│ 69  │ 69    │ SCSD8          │ 2750   │ 397    │ 0     │ acceptable │ 905.0       │ 0.0385621    │ 11    │ 1.08802e-14 │ 3.58147e-12 │ 1         │ 1          │ 0          │ 0          │ 0           │ 1         │ 0           │ 0            │ 1          │ 0           │ 0            │ 0              │ 0                  │ 0                    │ 0                     │ 0                   │ 0                    │ 0                    │                                                                                                     │\n",
       "│ 70  │ 70    │ SCTAP1-slack   │ 660    │ 300    │ 0     │ acceptable │ 1412.25     │ 0.0183699    │ 15    │ 2.53206e-13 │ 9.77964e-11 │ 1         │ 1          │ 0          │ 0          │ 0           │ 1         │ 0           │ 0            │ 1          │ 0           │ 0            │ 0              │ 0                  │ 0                    │ 0                     │ 0                   │ 0                    │ 0                    │                                                                                                     │\n",
       "│ 71  │ 71    │ SCTAP2-slack   │ 2500   │ 1090   │ 0     │ acceptable │ 1724.81     │ 0.0620151    │ 14    │ 8.88641e-12 │ 2.88719e-9  │ 1         │ 1          │ 0          │ 0          │ 0           │ 1         │ 0           │ 0            │ 1          │ 0           │ 0            │ 0              │ 0                  │ 0                    │ 0                     │ 0                   │ 0                    │ 0                    │                                                                                                     │\n",
       "│ 72  │ 72    │ SCTAP3-slack   │ 3340   │ 1480   │ 0     │ acceptable │ 1424.0      │ 0.10056      │ 17    │ 4.26326e-14 │ 5.78604e-12 │ 1         │ 1          │ 0          │ 0          │ 0           │ 1         │ 0           │ 0            │ 1          │ 0           │ 0            │ 0              │ 0                  │ 0                    │ 0                     │ 0                   │ 0                    │ 0                    │                                                                                                     │\n",
       "│ 73  │ 73    │ SEBA-slack     │ 1036   │ 515    │ 0     │ acceptable │ 15711.6     │ 0.047524     │ 20    │ 6.03345e-10 │ 7.33252e-10 │ 1         │ 1          │ 0          │ 0          │ 0           │ 1         │ 0           │ 0            │ 1          │ 0           │ 0            │ 0              │ 0                  │ 0                    │ 0                     │ 0                   │ 0                    │ 0                    │                                                                                                     │\n",
       "│ 74  │ 74    │ SHARE1B-slack  │ 253    │ 117    │ 0     │ acceptable │ -76589.3    │ 0.0171139    │ 26    │ 7.64348e-10 │ 8.18257e-8  │ 1         │ 1          │ 0          │ 0          │ 0           │ 1         │ 0           │ 0            │ 1          │ 0           │ 0            │ 0              │ 0                  │ 0                    │ 0                     │ 0                   │ 0                    │ 0                    │                                                                                                     │\n",
       "│ 75  │ 75    │ SHARE2B-slack  │ 162    │ 96     │ 0     │ acceptable │ -415.732    │ 0.00469995   │ 11    │ 3.66945e-11 │ 1.84276e-10 │ 1         │ 1          │ 0          │ 0          │ 0           │ 1         │ 0           │ 0            │ 1          │ 0           │ 0            │ 0              │ 0                  │ 0                    │ 0                     │ 0                   │ 0                    │ 0                    │                                                                                                     │\n",
       "│ 76  │ 76    │ SHIP04L-slack  │ 2166   │ 402    │ 0     │ acceptable │ 1.79332e6   │ 0.059839     │ 13    │ 1.81899e-12 │ 3.49857e-8  │ 1         │ 1          │ 0          │ 0          │ 0           │ 1         │ 0           │ 0            │ 1          │ 0           │ 0            │ 0              │ 0                  │ 0                    │ 0                     │ 0                   │ 0                    │ 0                    │                                                                                                     │\n",
       "│ 77  │ 77    │ SHIP04S-slack  │ 1506   │ 402    │ 0     │ acceptable │ 1.79871e6   │ 0.0385089    │ 13    │ 3.00133e-11 │ 7.61353e-8  │ 1         │ 1          │ 0          │ 0          │ 0           │ 1         │ 0           │ 0            │ 1          │ 0           │ 0            │ 0              │ 0                  │ 0                    │ 0                     │ 0                   │ 0                    │ 0                    │                                                                                                     │\n",
       "│ 78  │ 78    │ SHIP08L-slack  │ 4363   │ 778    │ 0     │ acceptable │ 1.90906e6   │ 0.145106     │ 15    │ 3.41061e-12 │ 8.32504e-8  │ 1         │ 1          │ 0          │ 0          │ 0           │ 1         │ 0           │ 0            │ 1          │ 0           │ 0            │ 0              │ 0                  │ 0                    │ 0                     │ 0                   │ 0                    │ 0                    │                                                                                                     │\n",
       "│ 79  │ 79    │ SHIP08S-slack  │ 2467   │ 778    │ 0     │ acceptable │ 1.9201e6    │ 0.0607059    │ 14    │ 1.65983e-11 │ 1.70456e-9  │ 1         │ 1          │ 0          │ 0          │ 0           │ 1         │ 0           │ 0            │ 1          │ 0           │ 0            │ 0              │ 0                  │ 0                    │ 0                     │ 0                   │ 0                    │ 0                    │                                                                                                     │\n",
       "│ 80  │ 80    │ SHIP12L-slack  │ 5533   │ 1151   │ 0     │ acceptable │ 1.47019e6   │ 0.706936     │ 71    │ 2.28797e-11 │ 2.66852e-7  │ 1         │ 1          │ 0          │ 0          │ 0           │ 1         │ 0           │ 0            │ 1          │ 0           │ 0            │ 0              │ 0                  │ 0                    │ 0                     │ 0                   │ 0                    │ 0                    │                                                                                                     │\n",
       "│ 81  │ 81    │ SHIP12S-slack  │ 2869   │ 1151   │ 0     │ acceptable │ 1.48924e6   │ 0.363055     │ 88    │ 4.21026e-11 │ 1.07454e-7  │ 1         │ 1          │ 0          │ 0          │ 0           │ 1         │ 0           │ 0            │ 1          │ 0           │ 0            │ 0              │ 0                  │ 0                    │ 0                     │ 0                   │ 0                    │ 0                    │                                                                                                     │\n",
       "│ 82  │ 82    │ STOCFOR1-slack │ 165    │ 117    │ 0     │ acceptable │ -41132.0    │ 0.00633121   │ 15    │ 2.81006e-11 │ 4.44408e-9  │ 1         │ 1          │ 0          │ 0          │ 0           │ 1         │ 0           │ 0            │ 1          │ 0           │ 0            │ 0              │ 0                  │ 0                    │ 0                     │ 0                   │ 0                    │ 0                    │                                                                                                     │\n",
       "│ 83  │ 83    │ STOCFOR2-slack │ 3045   │ 2157   │ 0     │ acceptable │ -39024.4    │ 0.134026     │ 23    │ 9.1589e-12  │ 3.16486e-10 │ 1         │ 1          │ 0          │ 0          │ 0           │ 1         │ 0           │ 0            │ 1          │ 0           │ 0            │ 0              │ 0                  │ 0                    │ 0                     │ 0                   │ 0                    │ 0                    │                                                                                                     │\n",
       "│ 84  │ 84    │ STOCFOR3-slack │ 23541  │ 16675  │ 0     │ acceptable │ -39976.8    │ 1.75225      │ 44    │ 3.10897e-9  │ 2.30849e-11 │ 1         │ 1          │ 0          │ 0          │ 0           │ 1         │ 0           │ 0            │ 1          │ 0           │ 0            │ 0              │ 0                  │ 0                    │ 0                     │ 0                   │ 0                    │ 0                    │                                                                                                     │\n",
       "│ 85  │ 85    │ TRUSS          │ 8806   │ 1000   │ 0     │ acceptable │ 458816.0    │ 0.306432     │ 18    │ 1.54861e-10 │ 2.46308e-8  │ 1         │ 1          │ 0          │ 0          │ 0           │ 1         │ 0           │ 0            │ 1          │ 0           │ 0            │ 0              │ 0                  │ 0                    │ 0                     │ 0                   │ 0                    │ 0                    │                                                                                                     │\n",
       "│ 86  │ 86    │ WOOD1P-slack   │ 2595   │ 244    │ 0     │ acceptable │ 1.4429      │ 0.806225     │ 25    │ 2.90878e-14 │ 3.22033e-7  │ 1         │ 1          │ 0          │ 0          │ 0           │ 1         │ 0           │ 0            │ 1          │ 0           │ 0            │ 0              │ 0                  │ 0                    │ 0                     │ 0                   │ 0                    │ 0                    │                                                                                                     │\n",
       "│ 87  │ 87    │ WOODW-slack    │ 8418   │ 1098   │ 0     │ acceptable │ 1.30448     │ 1.59312      │ 50    │ 1.12043e-14 │ 6.13582e-10 │ 1         │ 1          │ 0          │ 0          │ 0           │ 1         │ 0           │ 0            │ 1          │ 0           │ 0            │ 0              │ 0                  │ 0                    │ 0                     │ 0                   │ 0                    │ 0                    │                                                                                                     │"
      ]
     },
     "metadata": {},
     "output_type": "display_data"
    }
   ],
   "source": [
    "# with LDLFactorization\n",
    "file = jldopen(string(res_path, \"\\\\mehrotra_ldl1.jld2\"), \"r\")\n",
    "withenv(\"COLUMNS\" => 600, \"LINES\" => 200) do\n",
    "    display(file[\"stats\"])\n",
    "end\n",
    "\n",
    "close(file)"
   ]
  },
  {
   "cell_type": "code",
   "execution_count": 1047,
   "metadata": {},
   "outputs": [
    {
     "data": {
      "text/html": [
       "<table class=\"data-frame\"><thead><tr><th></th><th>id</th><th>name</th><th>nvar</th><th>ncon</th><th>nequ</th><th>status</th><th>objective</th><th>elapsed_time</th><th>iter</th><th>dual_feas</th><th>primal_feas</th><th>neval_obj</th><th>neval_grad</th><th>neval_cons</th><th>neval_jcon</th><th>neval_jgrad</th><th>neval_jac</th><th>neval_jprod</th><th>neval_jtprod</th><th>neval_hess</th><th>neval_hprod</th><th>neval_jhprod</th><th>neval_residual</th><th>neval_jac_residual</th><th>neval_jprod_residual</th><th>neval_jtprod_residual</th><th>neval_hess_residual</th><th>neval_jhess_residual</th><th>neval_hprod_residual</th><th>extrainfo</th></tr><tr><th></th><th>Int64</th><th>String</th><th>Int64</th><th>Int64</th><th>Int64</th><th>Symbol</th><th>Float64</th><th>Float64</th><th>Int64</th><th>Float64</th><th>Float64</th><th>Int64</th><th>Int64</th><th>Int64</th><th>Int64</th><th>Int64</th><th>Int64</th><th>Int64</th><th>Int64</th><th>Int64</th><th>Int64</th><th>Int64</th><th>Int64</th><th>Int64</th><th>Int64</th><th>Int64</th><th>Int64</th><th>Int64</th><th>Int64</th><th>String</th></tr></thead><tbody><p>87 rows × 30 columns</p><tr><th>1</th><td>1</td><td>25FV47-slack</td><td>1876</td><td>821</td><td>0</td><td>acceptable</td><td>5501.85</td><td>0.215451</td><td>28</td><td>3.28034e-8</td><td>9.86233e-11</td><td>1</td><td>1</td><td>0</td><td>0</td><td>0</td><td>1</td><td>0</td><td>0</td><td>1</td><td>0</td><td>0</td><td>0</td><td>0</td><td>0</td><td>0</td><td>0</td><td>0</td><td>0</td><td></td></tr><tr><th>2</th><td>2</td><td>ADLITTLE-slack</td><td>138</td><td>56</td><td>0</td><td>acceptable</td><td>225495.0</td><td>0.00422502</td><td>14</td><td>7.40584e-10</td><td>6.43188e-9</td><td>1</td><td>1</td><td>0</td><td>0</td><td>0</td><td>1</td><td>0</td><td>0</td><td>1</td><td>0</td><td>0</td><td>0</td><td>0</td><td>0</td><td>0</td><td>0</td><td>0</td><td>0</td><td></td></tr><tr><th>3</th><td>3</td><td>AFIRO-slack</td><td>51</td><td>27</td><td>0</td><td>acceptable</td><td>-464.753</td><td>0.00114298</td><td>9</td><td>3.61133e-12</td><td>5.68434e-13</td><td>1</td><td>1</td><td>0</td><td>0</td><td>0</td><td>1</td><td>0</td><td>0</td><td>1</td><td>0</td><td>0</td><td>0</td><td>0</td><td>0</td><td>0</td><td>0</td><td>0</td><td>0</td><td></td></tr><tr><th>4</th><td>4</td><td>AGG-slack</td><td>615</td><td>488</td><td>0</td><td>acceptable</td><td>-3.59918e7</td><td>0.02704</td><td>20</td><td>1.35616e-11</td><td>8.96661e-9</td><td>1</td><td>1</td><td>0</td><td>0</td><td>0</td><td>1</td><td>0</td><td>0</td><td>1</td><td>0</td><td>0</td><td>0</td><td>0</td><td>0</td><td>0</td><td>0</td><td>0</td><td>0</td><td></td></tr><tr><th>5</th><td>5</td><td>AGG2-slack</td><td>758</td><td>516</td><td>0</td><td>acceptable</td><td>-2.02393e7</td><td>0.0745859</td><td>22</td><td>2.36999e-7</td><td>1.18186e-9</td><td>1</td><td>1</td><td>0</td><td>0</td><td>0</td><td>1</td><td>0</td><td>0</td><td>1</td><td>0</td><td>0</td><td>0</td><td>0</td><td>0</td><td>0</td><td>0</td><td>0</td><td>0</td><td></td></tr><tr><th>6</th><td>6</td><td>AGG3-slack</td><td>758</td><td>516</td><td>0</td><td>exception</td><td>Inf</td><td>Inf</td><td>0</td><td>Inf</td><td>Inf</td><td>0</td><td>0</td><td>0</td><td>0</td><td>0</td><td>0</td><td>0</td><td>0</td><td>0</td><td>0</td><td>0</td><td>0</td><td>0</td><td>0</td><td>0</td><td>0</td><td>0</td><td>0</td><td>LDLFactorizations.SQDException(\"matrix does not possess a LDL' factorization for this permutation\")</td></tr><tr><th>7</th><td>7</td><td>BANDM</td><td>472</td><td>305</td><td>0</td><td>acceptable</td><td>-158.628</td><td>0.11146</td><td>18</td><td>1.51576e-11</td><td>4.93622e-11</td><td>1</td><td>1</td><td>0</td><td>0</td><td>0</td><td>1</td><td>0</td><td>0</td><td>1</td><td>0</td><td>0</td><td>0</td><td>0</td><td>0</td><td>0</td><td>0</td><td>0</td><td>0</td><td></td></tr><tr><th>8</th><td>8</td><td>BEACONFD-slack</td><td>295</td><td>173</td><td>0</td><td>acceptable</td><td>33592.5</td><td>0.01179</td><td>11</td><td>4.59123e-10</td><td>2.79949e-9</td><td>1</td><td>1</td><td>0</td><td>0</td><td>0</td><td>1</td><td>0</td><td>0</td><td>1</td><td>0</td><td>0</td><td>0</td><td>0</td><td>0</td><td>0</td><td>0</td><td>0</td><td>0</td><td></td></tr><tr><th>9</th><td>9</td><td>BLEND-slack</td><td>114</td><td>74</td><td>0</td><td>acceptable</td><td>-30.8121</td><td>0.00345111</td><td>13</td><td>7.46557e-13</td><td>1.40728e-12</td><td>1</td><td>1</td><td>0</td><td>0</td><td>0</td><td>1</td><td>0</td><td>0</td><td>1</td><td>0</td><td>0</td><td>0</td><td>0</td><td>0</td><td>0</td><td>0</td><td>0</td><td>0</td><td></td></tr><tr><th>10</th><td>10</td><td>BNL1-slack</td><td>1586</td><td>643</td><td>0</td><td>acceptable</td><td>1977.63</td><td>0.0930951</td><td>36</td><td>5.49966e-12</td><td>3.78849e-7</td><td>1</td><td>1</td><td>0</td><td>0</td><td>0</td><td>1</td><td>0</td><td>0</td><td>1</td><td>0</td><td>0</td><td>0</td><td>0</td><td>0</td><td>0</td><td>0</td><td>0</td><td>0</td><td></td></tr><tr><th>11</th><td>11</td><td>BNL2-slack</td><td>4486</td><td>2324</td><td>0</td><td>max_iter</td><td>NaN</td><td>9.17759</td><td>500</td><td>NaN</td><td>NaN</td><td>1</td><td>1</td><td>0</td><td>0</td><td>0</td><td>1</td><td>0</td><td>0</td><td>1</td><td>0</td><td>0</td><td>0</td><td>0</td><td>0</td><td>0</td><td>0</td><td>0</td><td>0</td><td></td></tr><tr><th>12</th><td>12</td><td>BOEING1-slack</td><td>726</td><td>351</td><td>0</td><td>acceptable</td><td>-335.214</td><td>0.0469649</td><td>28</td><td>1.36059e-10</td><td>7.27596e-12</td><td>1</td><td>1</td><td>0</td><td>0</td><td>0</td><td>1</td><td>0</td><td>0</td><td>1</td><td>0</td><td>0</td><td>0</td><td>0</td><td>0</td><td>0</td><td>0</td><td>0</td><td>0</td><td></td></tr><tr><th>13</th><td>13</td><td>BOEING2-slack</td><td>305</td><td>166</td><td>0</td><td>acceptable</td><td>-315.019</td><td>0.0135489</td><td>21</td><td>2.04297e-10</td><td>1.89175e-9</td><td>1</td><td>1</td><td>0</td><td>0</td><td>0</td><td>1</td><td>0</td><td>0</td><td>1</td><td>0</td><td>0</td><td>0</td><td>0</td><td>0</td><td>0</td><td>0</td><td>0</td><td>0</td><td></td></tr><tr><th>14</th><td>14</td><td>BRANDY-slack</td><td>303</td><td>220</td><td>0</td><td>acceptable</td><td>1518.51</td><td>0.015837</td><td>18</td><td>6.88246e-12</td><td>1.27293e-10</td><td>1</td><td>1</td><td>0</td><td>0</td><td>0</td><td>1</td><td>0</td><td>0</td><td>1</td><td>0</td><td>0</td><td>0</td><td>0</td><td>0</td><td>0</td><td>0</td><td>0</td><td>0</td><td></td></tr><tr><th>15</th><td>15</td><td>CRE-A-slack</td><td>7248</td><td>3516</td><td>0</td><td>acceptable</td><td>2.35954e7</td><td>0.27606</td><td>37</td><td>3.28582e-8</td><td>1.09372e-7</td><td>1</td><td>1</td><td>0</td><td>0</td><td>0</td><td>1</td><td>0</td><td>0</td><td>1</td><td>0</td><td>0</td><td>0</td><td>0</td><td>0</td><td>0</td><td>0</td><td>0</td><td>0</td><td></td></tr><tr><th>16</th><td>16</td><td>CRE-B-slack</td><td>77137</td><td>9648</td><td>0</td><td>acceptable</td><td>2.31296e7</td><td>20.5227</td><td>46</td><td>2.92302e-8</td><td>9.73057e-8</td><td>1</td><td>1</td><td>0</td><td>0</td><td>0</td><td>1</td><td>0</td><td>0</td><td>1</td><td>0</td><td>0</td><td>0</td><td>0</td><td>0</td><td>0</td><td>0</td><td>0</td><td>0</td><td></td></tr><tr><th>17</th><td>17</td><td>CRE-C-slack</td><td>6411</td><td>3068</td><td>0</td><td>acceptable</td><td>2.52751e7</td><td>0.301961</td><td>38</td><td>1.04774e-9</td><td>7.9492e-9</td><td>1</td><td>1</td><td>0</td><td>0</td><td>0</td><td>1</td><td>0</td><td>0</td><td>1</td><td>0</td><td>0</td><td>0</td><td>0</td><td>0</td><td>0</td><td>0</td><td>0</td><td>0</td><td></td></tr><tr><th>18</th><td>18</td><td>CRE-D-slack</td><td>73948</td><td>8926</td><td>0</td><td>acceptable</td><td>2.4455e7</td><td>16.0566</td><td>46</td><td>6.67825e-10</td><td>1.96973e-8</td><td>1</td><td>1</td><td>0</td><td>0</td><td>0</td><td>1</td><td>0</td><td>0</td><td>1</td><td>0</td><td>0</td><td>0</td><td>0</td><td>0</td><td>0</td><td>0</td><td>0</td><td>0</td><td></td></tr><tr><th>19</th><td>19</td><td>CYCLE-slack</td><td>3371</td><td>1903</td><td>0</td><td>max_iter</td><td>NaN</td><td>7.20156</td><td>500</td><td>NaN</td><td>NaN</td><td>1</td><td>1</td><td>0</td><td>0</td><td>0</td><td>1</td><td>0</td><td>0</td><td>1</td><td>0</td><td>0</td><td>0</td><td>0</td><td>0</td><td>0</td><td>0</td><td>0</td><td>0</td><td></td></tr><tr><th>20</th><td>20</td><td>D2Q06C-slack</td><td>5831</td><td>2171</td><td>0</td><td>exception</td><td>Inf</td><td>Inf</td><td>0</td><td>Inf</td><td>Inf</td><td>0</td><td>0</td><td>0</td><td>0</td><td>0</td><td>0</td><td>0</td><td>0</td><td>0</td><td>0</td><td>0</td><td>0</td><td>0</td><td>0</td><td>0</td><td>0</td><td>0</td><td>0</td><td>LDLFactorizations.SQDException(\"matrix does not possess a LDL' factorization for this permutation\")</td></tr><tr><th>21</th><td>21</td><td>D6CUBE</td><td>6184</td><td>415</td><td>0</td><td>acceptable</td><td>315.492</td><td>0.359922</td><td>17</td><td>7.06102e-14</td><td>3.16049e-11</td><td>1</td><td>1</td><td>0</td><td>0</td><td>0</td><td>1</td><td>0</td><td>0</td><td>1</td><td>0</td><td>0</td><td>0</td><td>0</td><td>0</td><td>0</td><td>0</td><td>0</td><td>0</td><td></td></tr><tr><th>22</th><td>22</td><td>DEGEN2-slack</td><td>757</td><td>444</td><td>0</td><td>acceptable</td><td>-1435.18</td><td>0.044524</td><td>14</td><td>3.4035e-12</td><td>3.5039e-10</td><td>1</td><td>1</td><td>0</td><td>0</td><td>0</td><td>1</td><td>0</td><td>0</td><td>1</td><td>0</td><td>0</td><td>0</td><td>0</td><td>0</td><td>0</td><td>0</td><td>0</td><td>0</td><td></td></tr><tr><th>23</th><td>23</td><td>DEGEN3-slack</td><td>2604</td><td>1503</td><td>0</td><td>acceptable</td><td>-987.294</td><td>0.477419</td><td>18</td><td>5.39348e-12</td><td>1.2178e-10</td><td>1</td><td>1</td><td>0</td><td>0</td><td>0</td><td>1</td><td>0</td><td>0</td><td>1</td><td>0</td><td>0</td><td>0</td><td>0</td><td>0</td><td>0</td><td>0</td><td>0</td><td>0</td><td></td></tr><tr><th>24</th><td>24</td><td>DFL001</td><td>12230</td><td>6071</td><td>0</td><td>max_time</td><td>1.15988e7</td><td>60.3648</td><td>44</td><td>2.65728e-5</td><td>0.0465987</td><td>1</td><td>1</td><td>0</td><td>0</td><td>0</td><td>1</td><td>0</td><td>0</td><td>1</td><td>0</td><td>0</td><td>0</td><td>0</td><td>0</td><td>0</td><td>0</td><td>0</td><td>0</td><td></td></tr><tr><th>25</th><td>25</td><td>E226-slack</td><td>472</td><td>223</td><td>0</td><td>acceptable</td><td>-11.6389</td><td>0.0274858</td><td>21</td><td>4.73627e-11</td><td>5.42943e-10</td><td>1</td><td>1</td><td>0</td><td>0</td><td>0</td><td>1</td><td>0</td><td>0</td><td>1</td><td>0</td><td>0</td><td>0</td><td>0</td><td>0</td><td>0</td><td>0</td><td>0</td><td>0</td><td></td></tr><tr><th>26</th><td>26</td><td>FFFFF800-slack</td><td>1028</td><td>524</td><td>0</td><td>max_iter</td><td>NaN</td><td>1.80873</td><td>500</td><td>NaN</td><td>NaN</td><td>1</td><td>1</td><td>0</td><td>0</td><td>0</td><td>1</td><td>0</td><td>0</td><td>1</td><td>0</td><td>0</td><td>0</td><td>0</td><td>0</td><td>0</td><td>0</td><td>0</td><td>0</td><td></td></tr><tr><th>27</th><td>27</td><td>FIT1D-slack</td><td>1049</td><td>24</td><td>0</td><td>acceptable</td><td>-9146.38</td><td>0.0497179</td><td>19</td><td>8.24042e-10</td><td>1.93121e-10</td><td>1</td><td>1</td><td>0</td><td>0</td><td>0</td><td>1</td><td>0</td><td>0</td><td>1</td><td>0</td><td>0</td><td>0</td><td>0</td><td>0</td><td>0</td><td>0</td><td>0</td><td>0</td><td></td></tr><tr><th>28</th><td>28</td><td>FIT1P</td><td>1677</td><td>627</td><td>0</td><td>acceptable</td><td>9146.38</td><td>0.052804</td><td>18</td><td>4.19216e-11</td><td>2.53735e-11</td><td>1</td><td>1</td><td>0</td><td>0</td><td>0</td><td>1</td><td>0</td><td>0</td><td>1</td><td>0</td><td>0</td><td>0</td><td>0</td><td>0</td><td>0</td><td>0</td><td>0</td><td>0</td><td></td></tr><tr><th>29</th><td>29</td><td>FIT2D-slack</td><td>10524</td><td>25</td><td>0</td><td>acceptable</td><td>-68464.3</td><td>0.511341</td><td>24</td><td>1.17562e-10</td><td>3.94585e-10</td><td>1</td><td>1</td><td>0</td><td>0</td><td>0</td><td>1</td><td>0</td><td>0</td><td>1</td><td>0</td><td>0</td><td>0</td><td>0</td><td>0</td><td>0</td><td>0</td><td>0</td><td>0</td><td></td></tr><tr><th>30</th><td>30</td><td>FIT2P</td><td>13525</td><td>3000</td><td>0</td><td>acceptable</td><td>68464.3</td><td>0.2785</td><td>20</td><td>9.75979e-11</td><td>7.17088e-9</td><td>1</td><td>1</td><td>0</td><td>0</td><td>0</td><td>1</td><td>0</td><td>0</td><td>1</td><td>0</td><td>0</td><td>0</td><td>0</td><td>0</td><td>0</td><td>0</td><td>0</td><td>0</td><td></td></tr><tr><th>31</th><td>31</td><td>GANGES-slack</td><td>1706</td><td>1309</td><td>0</td><td>acceptable</td><td>-109586.0</td><td>0.0657549</td><td>24</td><td>5.82077e-11</td><td>4.19184e-8</td><td>1</td><td>1</td><td>0</td><td>0</td><td>0</td><td>1</td><td>0</td><td>0</td><td>1</td><td>0</td><td>0</td><td>0</td><td>0</td><td>0</td><td>0</td><td>0</td><td>0</td><td>0</td><td></td></tr><tr><th>32</th><td>32</td><td>GFRD-PNC-slack</td><td>1160</td><td>616</td><td>0</td><td>acceptable</td><td>6.90224e6</td><td>0.0181019</td><td>19</td><td>6.32281e-9</td><td>3.10365e-11</td><td>1</td><td>1</td><td>0</td><td>0</td><td>0</td><td>1</td><td>0</td><td>0</td><td>1</td><td>0</td><td>0</td><td>0</td><td>0</td><td>0</td><td>0</td><td>0</td><td>0</td><td>0</td><td></td></tr><tr><th>33</th><td>33</td><td>GROW15</td><td>645</td><td>300</td><td>0</td><td>acceptable</td><td>-1.06871e8</td><td>0.0223231</td><td>14</td><td>4.88864e-10</td><td>1.23691e-9</td><td>1</td><td>1</td><td>0</td><td>0</td><td>0</td><td>1</td><td>0</td><td>0</td><td>1</td><td>0</td><td>0</td><td>0</td><td>0</td><td>0</td><td>0</td><td>0</td><td>0</td><td>0</td><td></td></tr><tr><th>34</th><td>34</td><td>GROW22</td><td>946</td><td>440</td><td>0</td><td>acceptable</td><td>-1.60834e8</td><td>0.0315011</td><td>15</td><td>1.24971e-10</td><td>5.54792e-10</td><td>1</td><td>1</td><td>0</td><td>0</td><td>0</td><td>1</td><td>0</td><td>0</td><td>1</td><td>0</td><td>0</td><td>0</td><td>0</td><td>0</td><td>0</td><td>0</td><td>0</td><td>0</td><td></td></tr><tr><th>35</th><td>35</td><td>GROW7</td><td>301</td><td>140</td><td>0</td><td>acceptable</td><td>-4.77878e7</td><td>0.0106552</td><td>13</td><td>3.73037e-9</td><td>3.91064e-10</td><td>1</td><td>1</td><td>0</td><td>0</td><td>0</td><td>1</td><td>0</td><td>0</td><td>1</td><td>0</td><td>0</td><td>0</td><td>0</td><td>0</td><td>0</td><td>0</td><td>0</td><td>0</td><td></td></tr><tr><th>36</th><td>36</td><td>ISRAEL-slack</td><td>316</td><td>174</td><td>0</td><td>acceptable</td><td>-896645.0</td><td>0.018641</td><td>27</td><td>1.1428e-9</td><td>1.16415e-10</td><td>1</td><td>1</td><td>0</td><td>0</td><td>0</td><td>1</td><td>0</td><td>0</td><td>1</td><td>0</td><td>0</td><td>0</td><td>0</td><td>0</td><td>0</td><td>0</td><td>0</td><td>0</td><td></td></tr><tr><th>37</th><td>37</td><td>KB2-slack</td><td>68</td><td>43</td><td>0</td><td>acceptable</td><td>-1749.9</td><td>0.00294089</td><td>19</td><td>2.60557e-10</td><td>3.27233e-10</td><td>1</td><td>1</td><td>0</td><td>0</td><td>0</td><td>1</td><td>0</td><td>0</td><td>1</td><td>0</td><td>0</td><td>0</td><td>0</td><td>0</td><td>0</td><td>0</td><td>0</td><td>0</td><td></td></tr><tr><th>38</th><td>38</td><td>KEN-07</td><td>3602</td><td>2426</td><td>0</td><td>acceptable</td><td>-6.7952e8</td><td>0.0509181</td><td>14</td><td>6.10247e-11</td><td>1.86527e-7</td><td>1</td><td>1</td><td>0</td><td>0</td><td>0</td><td>1</td><td>0</td><td>0</td><td>1</td><td>0</td><td>0</td><td>0</td><td>0</td><td>0</td><td>0</td><td>0</td><td>0</td><td>0</td><td></td></tr><tr><th>39</th><td>39</td><td>KEN-11</td><td>21349</td><td>14694</td><td>0</td><td>acceptable</td><td>-6.97238e9</td><td>0.807359</td><td>25</td><td>3.99782e-11</td><td>1.36408e-8</td><td>1</td><td>1</td><td>0</td><td>0</td><td>0</td><td>1</td><td>0</td><td>0</td><td>1</td><td>0</td><td>0</td><td>0</td><td>0</td><td>0</td><td>0</td><td>0</td><td>0</td><td>0</td><td></td></tr><tr><th>40</th><td>40</td><td>KEN-13</td><td>42659</td><td>28632</td><td>0</td><td>acceptable</td><td>-1.02574e10</td><td>1.77916</td><td>24</td><td>3.21199e-9</td><td>6.87756e-7</td><td>1</td><td>1</td><td>0</td><td>0</td><td>0</td><td>1</td><td>0</td><td>0</td><td>1</td><td>0</td><td>0</td><td>0</td><td>0</td><td>0</td><td>0</td><td>0</td><td>0</td><td>0</td><td></td></tr><tr><th>41</th><td>41</td><td>KEN-18</td><td>154699</td><td>105127</td><td>0</td><td>acceptable</td><td>-5.2217e10</td><td>34.2854</td><td>44</td><td>1.86446e-11</td><td>3.92029e-8</td><td>1</td><td>1</td><td>0</td><td>0</td><td>0</td><td>1</td><td>0</td><td>0</td><td>1</td><td>0</td><td>0</td><td>0</td><td>0</td><td>0</td><td>0</td><td>0</td><td>0</td><td>0</td><td></td></tr><tr><th>42</th><td>42</td><td>LOTFI-slack</td><td>366</td><td>153</td><td>0</td><td>acceptable</td><td>-25.2647</td><td>0.018255</td><td>27</td><td>2.33305e-13</td><td>1.86265e-9</td><td>1</td><td>1</td><td>0</td><td>0</td><td>0</td><td>1</td><td>0</td><td>0</td><td>1</td><td>0</td><td>0</td><td>0</td><td>0</td><td>0</td><td>0</td><td>0</td><td>0</td><td>0</td><td></td></tr><tr><th>43</th><td>43</td><td>MAROS-R7</td><td>9408</td><td>3136</td><td>0</td><td>acceptable</td><td>1.49719e6</td><td>8.33459</td><td>18</td><td>6.1605e-10</td><td>1.98497e-10</td><td>1</td><td>1</td><td>0</td><td>0</td><td>0</td><td>1</td><td>0</td><td>0</td><td>1</td><td>0</td><td>0</td><td>0</td><td>0</td><td>0</td><td>0</td><td>0</td><td>0</td><td>0</td><td></td></tr><tr><th>44</th><td>44</td><td>MODSZK1</td><td>1620</td><td>687</td><td>0</td><td>acceptable</td><td>320.62</td><td>0.046488</td><td>26</td><td>1.32335e-12</td><td>5.82124e-11</td><td>1</td><td>1</td><td>0</td><td>0</td><td>0</td><td>1</td><td>0</td><td>0</td><td>1</td><td>0</td><td>0</td><td>0</td><td>0</td><td>0</td><td>0</td><td>0</td><td>0</td><td>0</td><td></td></tr><tr><th>45</th><td>45</td><td>OSA-07-slack</td><td>25067</td><td>1118</td><td>0</td><td>acceptable</td><td>535723.0</td><td>1.25238</td><td>27</td><td>1.18234e-11</td><td>7.66931e-10</td><td>1</td><td>1</td><td>0</td><td>0</td><td>0</td><td>1</td><td>0</td><td>0</td><td>1</td><td>0</td><td>0</td><td>0</td><td>0</td><td>0</td><td>0</td><td>0</td><td>0</td><td>0</td><td></td></tr><tr><th>46</th><td>46</td><td>OSA-14-slack</td><td>54797</td><td>2337</td><td>0</td><td>acceptable</td><td>1.10646e6</td><td>3.1256</td><td>30</td><td>1.34196e-9</td><td>9.30413e-10</td><td>1</td><td>1</td><td>0</td><td>0</td><td>0</td><td>1</td><td>0</td><td>0</td><td>1</td><td>0</td><td>0</td><td>0</td><td>0</td><td>0</td><td>0</td><td>0</td><td>0</td><td>0</td><td></td></tr><tr><th>47</th><td>47</td><td>OSA-30-slack</td><td>104374</td><td>4350</td><td>0</td><td>acceptable</td><td>2.14214e6</td><td>7.4408</td><td>36</td><td>1.12723e-9</td><td>1.23042e-9</td><td>1</td><td>1</td><td>0</td><td>0</td><td>0</td><td>1</td><td>0</td><td>0</td><td>1</td><td>0</td><td>0</td><td>0</td><td>0</td><td>0</td><td>0</td><td>0</td><td>0</td><td>0</td><td></td></tr><tr><th>48</th><td>48</td><td>OSA-60-slack</td><td>243246</td><td>10280</td><td>0</td><td>acceptable</td><td>4.04407e6</td><td>27.6493</td><td>38</td><td>2.403e-9</td><td>1.54159e-10</td><td>1</td><td>1</td><td>0</td><td>0</td><td>0</td><td>1</td><td>0</td><td>0</td><td>1</td><td>0</td><td>0</td><td>0</td><td>0</td><td>0</td><td>0</td><td>0</td><td>0</td><td>0</td><td></td></tr><tr><th>49</th><td>49</td><td>PDS-02-slack</td><td>7716</td><td>2953</td><td>0</td><td>acceptable</td><td>2.88579e10</td><td>0.409615</td><td>40</td><td>3.35785e-9</td><td>1.42517e-8</td><td>1</td><td>1</td><td>0</td><td>0</td><td>0</td><td>1</td><td>0</td><td>0</td><td>1</td><td>0</td><td>0</td><td>0</td><td>0</td><td>0</td><td>0</td><td>0</td><td>0</td><td>0</td><td></td></tr><tr><th>50</th><td>50</td><td>PDS-06-slack</td><td>29351</td><td>9881</td><td>0</td><td>acceptable</td><td>2.7761e10</td><td>12.3254</td><td>56</td><td>1.67464e-9</td><td>4.07066e-7</td><td>1</td><td>1</td><td>0</td><td>0</td><td>0</td><td>1</td><td>0</td><td>0</td><td>1</td><td>0</td><td>0</td><td>0</td><td>0</td><td>0</td><td>0</td><td>0</td><td>0</td><td>0</td><td></td></tr><tr><th>51</th><td>51</td><td>PDS-10-slack</td><td>49932</td><td>16558</td><td>0</td><td>max_time</td><td>2.67281e10</td><td>60.1638</td><td>64</td><td>2.16581e-6</td><td>1.31984</td><td>1</td><td>1</td><td>0</td><td>0</td><td>0</td><td>1</td><td>0</td><td>0</td><td>1</td><td>0</td><td>0</td><td>0</td><td>0</td><td>0</td><td>0</td><td>0</td><td>0</td><td>0</td><td></td></tr><tr><th>52</th><td>52</td><td>PDS-20-slack</td><td>108175</td><td>33874</td><td>0</td><td>max_time</td><td>2.59393e10</td><td>68.3244</td><td>5</td><td>42.4596</td><td>33905.0</td><td>1</td><td>1</td><td>0</td><td>0</td><td>0</td><td>1</td><td>0</td><td>0</td><td>1</td><td>0</td><td>0</td><td>0</td><td>0</td><td>0</td><td>0</td><td>0</td><td>0</td><td>0</td><td></td></tr><tr><th>53</th><td>53</td><td>QAP12</td><td>8856</td><td>3192</td><td>0</td><td>acceptable</td><td>522.894</td><td>42.0995</td><td>19</td><td>8.64442e-12</td><td>5.10228e-10</td><td>1</td><td>1</td><td>0</td><td>0</td><td>0</td><td>1</td><td>0</td><td>0</td><td>1</td><td>0</td><td>0</td><td>0</td><td>0</td><td>0</td><td>0</td><td>0</td><td>0</td><td>0</td><td></td></tr><tr><th>54</th><td>54</td><td>QAP15</td><td>22275</td><td>6330</td><td>0</td><td>max_time</td><td>1518.78</td><td>78.0396</td><td>3</td><td>2.26706e-10</td><td>0.011439</td><td>1</td><td>1</td><td>0</td><td>0</td><td>0</td><td>1</td><td>0</td><td>0</td><td>1</td><td>0</td><td>0</td><td>0</td><td>0</td><td>0</td><td>0</td><td>0</td><td>0</td><td>0</td><td></td></tr><tr><th>55</th><td>55</td><td>QAP8</td><td>1632</td><td>912</td><td>0</td><td>acceptable</td><td>203.5</td><td>0.652078</td><td>10</td><td>1.42109e-14</td><td>2.2127e-12</td><td>1</td><td>1</td><td>0</td><td>0</td><td>0</td><td>1</td><td>0</td><td>0</td><td>1</td><td>0</td><td>0</td><td>0</td><td>0</td><td>0</td><td>0</td><td>0</td><td>0</td><td>0</td><td></td></tr><tr><th>56</th><td>56</td><td>SC105-slack</td><td>163</td><td>105</td><td>0</td><td>acceptable</td><td>-52.2021</td><td>0.00465298</td><td>14</td><td>1.64037e-13</td><td>6.80249e-14</td><td>1</td><td>1</td><td>0</td><td>0</td><td>0</td><td>1</td><td>0</td><td>0</td><td>1</td><td>0</td><td>0</td><td>0</td><td>0</td><td>0</td><td>0</td><td>0</td><td>0</td><td>0</td><td></td></tr><tr><th>57</th><td>57</td><td>SC205-slack</td><td>317</td><td>205</td><td>0</td><td>acceptable</td><td>-52.2021</td><td>0.00755906</td><td>16</td><td>1.83239e-12</td><td>4.54747e-13</td><td>1</td><td>1</td><td>0</td><td>0</td><td>0</td><td>1</td><td>0</td><td>0</td><td>1</td><td>0</td><td>0</td><td>0</td><td>0</td><td>0</td><td>0</td><td>0</td><td>0</td><td>0</td><td></td></tr><tr><th>58</th><td>58</td><td>SC50A-slack</td><td>78</td><td>50</td><td>0</td><td>acceptable</td><td>-64.5751</td><td>0.00197005</td><td>12</td><td>6.37865e-13</td><td>4.64476e-13</td><td>1</td><td>1</td><td>0</td><td>0</td><td>0</td><td>1</td><td>0</td><td>0</td><td>1</td><td>0</td><td>0</td><td>0</td><td>0</td><td>0</td><td>0</td><td>0</td><td>0</td><td>0</td><td></td></tr><tr><th>59</th><td>59</td><td>SC50B-slack</td><td>78</td><td>50</td><td>0</td><td>acceptable</td><td>-70.0</td><td>0.00153208</td><td>9</td><td>1.4024e-10</td><td>1.76191e-11</td><td>1</td><td>1</td><td>0</td><td>0</td><td>0</td><td>1</td><td>0</td><td>0</td><td>1</td><td>0</td><td>0</td><td>0</td><td>0</td><td>0</td><td>0</td><td>0</td><td>0</td><td>0</td><td></td></tr><tr><th>60</th><td>60</td><td>SCAGR25-slack</td><td>671</td><td>471</td><td>0</td><td>acceptable</td><td>-1.47534e7</td><td>0.014868</td><td>17</td><td>5.78561e-10</td><td>8.15902e-10</td><td>1</td><td>1</td><td>0</td><td>0</td><td>0</td><td>1</td><td>0</td><td>0</td><td>1</td><td>0</td><td>0</td><td>0</td><td>0</td><td>0</td><td>0</td><td>0</td><td>0</td><td>0</td><td></td></tr><tr><th>61</th><td>61</td><td>SCAGR7-slack</td><td>185</td><td>129</td><td>0</td><td>acceptable</td><td>-2.33139e6</td><td>0.00408816</td><td>14</td><td>2.3437e-8</td><td>7.47224e-9</td><td>1</td><td>1</td><td>0</td><td>0</td><td>0</td><td>1</td><td>0</td><td>0</td><td>1</td><td>0</td><td>0</td><td>0</td><td>0</td><td>0</td><td>0</td><td>0</td><td>0</td><td>0</td><td></td></tr><tr><th>62</th><td>62</td><td>SCFXM1-slack</td><td>600</td><td>330</td><td>0</td><td>acceptable</td><td>18416.8</td><td>0.025238</td><td>20</td><td>3.80517e-11</td><td>4.40293e-11</td><td>1</td><td>1</td><td>0</td><td>0</td><td>0</td><td>1</td><td>0</td><td>0</td><td>1</td><td>0</td><td>0</td><td>0</td><td>0</td><td>0</td><td>0</td><td>0</td><td>0</td><td>0</td><td></td></tr><tr><th>63</th><td>63</td><td>SCFXM2-slack</td><td>1200</td><td>660</td><td>0</td><td>acceptable</td><td>36660.3</td><td>0.051331</td><td>22</td><td>3.56462e-9</td><td>3.38441e-9</td><td>1</td><td>1</td><td>0</td><td>0</td><td>0</td><td>1</td><td>0</td><td>0</td><td>1</td><td>0</td><td>0</td><td>0</td><td>0</td><td>0</td><td>0</td><td>0</td><td>0</td><td>0</td><td></td></tr><tr><th>64</th><td>64</td><td>SCFXM3-slack</td><td>1800</td><td>990</td><td>0</td><td>acceptable</td><td>54901.3</td><td>0.076571</td><td>23</td><td>4.56189e-11</td><td>1.87924e-10</td><td>1</td><td>1</td><td>0</td><td>0</td><td>0</td><td>1</td><td>0</td><td>0</td><td>1</td><td>0</td><td>0</td><td>0</td><td>0</td><td>0</td><td>0</td><td>0</td><td>0</td><td>0</td><td></td></tr><tr><th>65</th><td>65</td><td>SCORPION-slack</td><td>466</td><td>388</td><td>0</td><td>acceptable</td><td>1878.12</td><td>0.011301</td><td>15</td><td>5.6275e-12</td><td>3.88212e-9</td><td>1</td><td>1</td><td>0</td><td>0</td><td>0</td><td>1</td><td>0</td><td>0</td><td>1</td><td>0</td><td>0</td><td>0</td><td>0</td><td>0</td><td>0</td><td>0</td><td>0</td><td>0</td><td></td></tr><tr><th>66</th><td>66</td><td>SCRS8-slack</td><td>1275</td><td>490</td><td>0</td><td>acceptable</td><td>904.297</td><td>0.0294769</td><td>20</td><td>4.54747e-13</td><td>2.2636e-11</td><td>1</td><td>1</td><td>0</td><td>0</td><td>0</td><td>1</td><td>0</td><td>0</td><td>1</td><td>0</td><td>0</td><td>0</td><td>0</td><td>0</td><td>0</td><td>0</td><td>0</td><td>0</td><td></td></tr><tr><th>67</th><td>67</td><td>SCSD1</td><td>760</td><td>77</td><td>0</td><td>acceptable</td><td>8.66667</td><td>0.00873804</td><td>9</td><td>4.21885e-14</td><td>4.53731e-12</td><td>1</td><td>1</td><td>0</td><td>0</td><td>0</td><td>1</td><td>0</td><td>0</td><td>1</td><td>0</td><td>0</td><td>0</td><td>0</td><td>0</td><td>0</td><td>0</td><td>0</td><td>0</td><td></td></tr><tr><th>68</th><td>68</td><td>SCSD6</td><td>1350</td><td>147</td><td>0</td><td>acceptable</td><td>50.5</td><td>0.018713</td><td>12</td><td>1.51301e-12</td><td>1.81303e-11</td><td>1</td><td>1</td><td>0</td><td>0</td><td>0</td><td>1</td><td>0</td><td>0</td><td>1</td><td>0</td><td>0</td><td>0</td><td>0</td><td>0</td><td>0</td><td>0</td><td>0</td><td>0</td><td></td></tr><tr><th>69</th><td>69</td><td>SCSD8</td><td>2750</td><td>397</td><td>0</td><td>acceptable</td><td>905.0</td><td>0.0307379</td><td>11</td><td>5.01821e-14</td><td>2.89156e-11</td><td>1</td><td>1</td><td>0</td><td>0</td><td>0</td><td>1</td><td>0</td><td>0</td><td>1</td><td>0</td><td>0</td><td>0</td><td>0</td><td>0</td><td>0</td><td>0</td><td>0</td><td>0</td><td></td></tr><tr><th>70</th><td>70</td><td>SCTAP1-slack</td><td>660</td><td>300</td><td>0</td><td>acceptable</td><td>1412.25</td><td>0.0140729</td><td>16</td><td>1.6538e-13</td><td>3.12848e-11</td><td>1</td><td>1</td><td>0</td><td>0</td><td>0</td><td>1</td><td>0</td><td>0</td><td>1</td><td>0</td><td>0</td><td>0</td><td>0</td><td>0</td><td>0</td><td>0</td><td>0</td><td>0</td><td></td></tr><tr><th>71</th><td>71</td><td>SCTAP2-slack</td><td>2500</td><td>1090</td><td>0</td><td>acceptable</td><td>1724.81</td><td>0.0510721</td><td>15</td><td>1.25728e-13</td><td>1.77285e-10</td><td>1</td><td>1</td><td>0</td><td>0</td><td>0</td><td>1</td><td>0</td><td>0</td><td>1</td><td>0</td><td>0</td><td>0</td><td>0</td><td>0</td><td>0</td><td>0</td><td>0</td><td>0</td><td></td></tr><tr><th>72</th><td>72</td><td>SCTAP3-slack</td><td>3340</td><td>1480</td><td>0</td><td>acceptable</td><td>1424.0</td><td>0.075604</td><td>17</td><td>4.21272e-14</td><td>6.23108e-11</td><td>1</td><td>1</td><td>0</td><td>0</td><td>0</td><td>1</td><td>0</td><td>0</td><td>1</td><td>0</td><td>0</td><td>0</td><td>0</td><td>0</td><td>0</td><td>0</td><td>0</td><td>0</td><td></td></tr><tr><th>73</th><td>73</td><td>SEBA-slack</td><td>1036</td><td>515</td><td>0</td><td>acceptable</td><td>15711.6</td><td>0.0343518</td><td>21</td><td>9.99344e-12</td><td>1.39693e-11</td><td>1</td><td>1</td><td>0</td><td>0</td><td>0</td><td>1</td><td>0</td><td>0</td><td>1</td><td>0</td><td>0</td><td>0</td><td>0</td><td>0</td><td>0</td><td>0</td><td>0</td><td>0</td><td></td></tr><tr><th>74</th><td>74</td><td>SHARE1B-slack</td><td>253</td><td>117</td><td>0</td><td>acceptable</td><td>-76589.3</td><td>0.012593</td><td>26</td><td>7.33457e-10</td><td>3.51364e-8</td><td>1</td><td>1</td><td>0</td><td>0</td><td>0</td><td>1</td><td>0</td><td>0</td><td>1</td><td>0</td><td>0</td><td>0</td><td>0</td><td>0</td><td>0</td><td>0</td><td>0</td><td>0</td><td></td></tr><tr><th>75</th><td>75</td><td>SHARE2B-slack</td><td>162</td><td>96</td><td>0</td><td>acceptable</td><td>-415.732</td><td>0.00443006</td><td>12</td><td>5.97988e-12</td><td>4.13323e-11</td><td>1</td><td>1</td><td>0</td><td>0</td><td>0</td><td>1</td><td>0</td><td>0</td><td>1</td><td>0</td><td>0</td><td>0</td><td>0</td><td>0</td><td>0</td><td>0</td><td>0</td><td>0</td><td></td></tr><tr><th>76</th><td>76</td><td>SHIP04L-slack</td><td>2166</td><td>402</td><td>0</td><td>acceptable</td><td>1.79332e6</td><td>0.0317869</td><td>13</td><td>1.7053e-12</td><td>8.78795e-8</td><td>1</td><td>1</td><td>0</td><td>0</td><td>0</td><td>1</td><td>0</td><td>0</td><td>1</td><td>0</td><td>0</td><td>0</td><td>0</td><td>0</td><td>0</td><td>0</td><td>0</td><td>0</td><td></td></tr><tr><th>77</th><td>77</td><td>SHIP04S-slack</td><td>1506</td><td>402</td><td>0</td><td>acceptable</td><td>1.79871e6</td><td>0.0297391</td><td>14</td><td>1.54614e-11</td><td>2.39247e-7</td><td>1</td><td>1</td><td>0</td><td>0</td><td>0</td><td>1</td><td>0</td><td>0</td><td>1</td><td>0</td><td>0</td><td>0</td><td>0</td><td>0</td><td>0</td><td>0</td><td>0</td><td>0</td><td></td></tr><tr><th>78</th><td>78</td><td>SHIP08L-slack</td><td>4363</td><td>778</td><td>0</td><td>acceptable</td><td>1.90906e6</td><td>0.0519412</td><td>15</td><td>2.6489e-11</td><td>2.18682e-7</td><td>1</td><td>1</td><td>0</td><td>0</td><td>0</td><td>1</td><td>0</td><td>0</td><td>1</td><td>0</td><td>0</td><td>0</td><td>0</td><td>0</td><td>0</td><td>0</td><td>0</td><td>0</td><td></td></tr><tr><th>79</th><td>79</td><td>SHIP08S-slack</td><td>2467</td><td>778</td><td>0</td><td>acceptable</td><td>1.9201e6</td><td>0.0280721</td><td>13</td><td>1.09503e-9</td><td>4.75647e-8</td><td>1</td><td>1</td><td>0</td><td>0</td><td>0</td><td>1</td><td>0</td><td>0</td><td>1</td><td>0</td><td>0</td><td>0</td><td>0</td><td>0</td><td>0</td><td>0</td><td>0</td><td>0</td><td></td></tr><tr><th>80</th><td>80</td><td>SHIP12L-slack</td><td>5533</td><td>1151</td><td>0</td><td>acceptable</td><td>1.47019e6</td><td>0.244199</td><td>65</td><td>7.27596e-12</td><td>5.07375e-9</td><td>1</td><td>1</td><td>0</td><td>0</td><td>0</td><td>1</td><td>0</td><td>0</td><td>1</td><td>0</td><td>0</td><td>0</td><td>0</td><td>0</td><td>0</td><td>0</td><td>0</td><td>0</td><td></td></tr><tr><th>81</th><td>81</td><td>SHIP12S-slack</td><td>2869</td><td>1151</td><td>0</td><td>acceptable</td><td>1.48924e6</td><td>0.146499</td><td>72</td><td>3.55129e-11</td><td>1.88993e-7</td><td>1</td><td>1</td><td>0</td><td>0</td><td>0</td><td>1</td><td>0</td><td>0</td><td>1</td><td>0</td><td>0</td><td>0</td><td>0</td><td>0</td><td>0</td><td>0</td><td>0</td><td>0</td><td></td></tr><tr><th>82</th><td>82</td><td>STOCFOR1-slack</td><td>165</td><td>117</td><td>0</td><td>acceptable</td><td>-41132.0</td><td>0.00439</td><td>17</td><td>3.45834e-12</td><td>5.33214e-10</td><td>1</td><td>1</td><td>0</td><td>0</td><td>0</td><td>1</td><td>0</td><td>0</td><td>1</td><td>0</td><td>0</td><td>0</td><td>0</td><td>0</td><td>0</td><td>0</td><td>0</td><td>0</td><td></td></tr><tr><th>83</th><td>83</td><td>STOCFOR2-slack</td><td>3045</td><td>2157</td><td>0</td><td>acceptable</td><td>-39024.4</td><td>0.086437</td><td>23</td><td>2.85364e-11</td><td>2.09934e-9</td><td>1</td><td>1</td><td>0</td><td>0</td><td>0</td><td>1</td><td>0</td><td>0</td><td>1</td><td>0</td><td>0</td><td>0</td><td>0</td><td>0</td><td>0</td><td>0</td><td>0</td><td>0</td><td></td></tr><tr><th>84</th><td>84</td><td>STOCFOR3-slack</td><td>23541</td><td>16675</td><td>0</td><td>acceptable</td><td>-39976.8</td><td>1.29555</td><td>36</td><td>1.34073e-8</td><td>1.52018e-8</td><td>1</td><td>1</td><td>0</td><td>0</td><td>0</td><td>1</td><td>0</td><td>0</td><td>1</td><td>0</td><td>0</td><td>0</td><td>0</td><td>0</td><td>0</td><td>0</td><td>0</td><td>0</td><td></td></tr><tr><th>85</th><td>85</td><td>TRUSS</td><td>8806</td><td>1000</td><td>0</td><td>acceptable</td><td>458816.0</td><td>0.190282</td><td>18</td><td>1.7531e-10</td><td>3.55635e-8</td><td>1</td><td>1</td><td>0</td><td>0</td><td>0</td><td>1</td><td>0</td><td>0</td><td>1</td><td>0</td><td>0</td><td>0</td><td>0</td><td>0</td><td>0</td><td>0</td><td>0</td><td>0</td><td></td></tr><tr><th>86</th><td>86</td><td>WOOD1P-slack</td><td>2595</td><td>244</td><td>0</td><td>acceptable</td><td>1.4429</td><td>0.354294</td><td>23</td><td>1.11022e-14</td><td>5.30239e-8</td><td>1</td><td>1</td><td>0</td><td>0</td><td>0</td><td>1</td><td>0</td><td>0</td><td>1</td><td>0</td><td>0</td><td>0</td><td>0</td><td>0</td><td>0</td><td>0</td><td>0</td><td>0</td><td></td></tr><tr><th>87</th><td>87</td><td>WOODW-slack</td><td>8418</td><td>1098</td><td>0</td><td>acceptable</td><td>1.30448</td><td>0.583805</td><td>47</td><td>3.49001e-12</td><td>6.94198e-8</td><td>1</td><td>1</td><td>0</td><td>0</td><td>0</td><td>1</td><td>0</td><td>0</td><td>1</td><td>0</td><td>0</td><td>0</td><td>0</td><td>0</td><td>0</td><td>0</td><td>0</td><td>0</td><td></td></tr></tbody></table>"
      ],
      "text/latex": [
       "\\begin{tabular}{r|cccccccccccccccccccccccccccccc}\n",
       "\t& id & name & nvar & ncon & nequ & status & objective & elapsed\\_time & iter & dual\\_feas & primal\\_feas & neval\\_obj & neval\\_grad & neval\\_cons & neval\\_jcon & neval\\_jgrad & neval\\_jac & neval\\_jprod & neval\\_jtprod & neval\\_hess & neval\\_hprod & neval\\_jhprod & neval\\_residual & neval\\_jac\\_residual & neval\\_jprod\\_residual & neval\\_jtprod\\_residual & neval\\_hess\\_residual & neval\\_jhess\\_residual & neval\\_hprod\\_residual & extrainfo\\\\\n",
       "\t\\hline\n",
       "\t& Int64 & String & Int64 & Int64 & Int64 & Symbol & Float64 & Float64 & Int64 & Float64 & Float64 & Int64 & Int64 & Int64 & Int64 & Int64 & Int64 & Int64 & Int64 & Int64 & Int64 & Int64 & Int64 & Int64 & Int64 & Int64 & Int64 & Int64 & Int64 & String\\\\\n",
       "\t\\hline\n",
       "\t1 & 1 & 25FV47-slack & 1876 & 821 & 0 & acceptable & 5501.85 & 0.215451 & 28 & 3.28034e-8 & 9.86233e-11 & 1 & 1 & 0 & 0 & 0 & 1 & 0 & 0 & 1 & 0 & 0 & 0 & 0 & 0 & 0 & 0 & 0 & 0 &  \\\\\n",
       "\t2 & 2 & ADLITTLE-slack & 138 & 56 & 0 & acceptable & 225495.0 & 0.00422502 & 14 & 7.40584e-10 & 6.43188e-9 & 1 & 1 & 0 & 0 & 0 & 1 & 0 & 0 & 1 & 0 & 0 & 0 & 0 & 0 & 0 & 0 & 0 & 0 &  \\\\\n",
       "\t3 & 3 & AFIRO-slack & 51 & 27 & 0 & acceptable & -464.753 & 0.00114298 & 9 & 3.61133e-12 & 5.68434e-13 & 1 & 1 & 0 & 0 & 0 & 1 & 0 & 0 & 1 & 0 & 0 & 0 & 0 & 0 & 0 & 0 & 0 & 0 &  \\\\\n",
       "\t4 & 4 & AGG-slack & 615 & 488 & 0 & acceptable & -3.59918e7 & 0.02704 & 20 & 1.35616e-11 & 8.96661e-9 & 1 & 1 & 0 & 0 & 0 & 1 & 0 & 0 & 1 & 0 & 0 & 0 & 0 & 0 & 0 & 0 & 0 & 0 &  \\\\\n",
       "\t5 & 5 & AGG2-slack & 758 & 516 & 0 & acceptable & -2.02393e7 & 0.0745859 & 22 & 2.36999e-7 & 1.18186e-9 & 1 & 1 & 0 & 0 & 0 & 1 & 0 & 0 & 1 & 0 & 0 & 0 & 0 & 0 & 0 & 0 & 0 & 0 &  \\\\\n",
       "\t6 & 6 & AGG3-slack & 758 & 516 & 0 & exception & Inf & Inf & 0 & Inf & Inf & 0 & 0 & 0 & 0 & 0 & 0 & 0 & 0 & 0 & 0 & 0 & 0 & 0 & 0 & 0 & 0 & 0 & 0 & LDLFactorizations.SQDException(\"matrix does not possess a LDL' factorization for this permutation\") \\\\\n",
       "\t7 & 7 & BANDM & 472 & 305 & 0 & acceptable & -158.628 & 0.11146 & 18 & 1.51576e-11 & 4.93622e-11 & 1 & 1 & 0 & 0 & 0 & 1 & 0 & 0 & 1 & 0 & 0 & 0 & 0 & 0 & 0 & 0 & 0 & 0 &  \\\\\n",
       "\t8 & 8 & BEACONFD-slack & 295 & 173 & 0 & acceptable & 33592.5 & 0.01179 & 11 & 4.59123e-10 & 2.79949e-9 & 1 & 1 & 0 & 0 & 0 & 1 & 0 & 0 & 1 & 0 & 0 & 0 & 0 & 0 & 0 & 0 & 0 & 0 &  \\\\\n",
       "\t9 & 9 & BLEND-slack & 114 & 74 & 0 & acceptable & -30.8121 & 0.00345111 & 13 & 7.46557e-13 & 1.40728e-12 & 1 & 1 & 0 & 0 & 0 & 1 & 0 & 0 & 1 & 0 & 0 & 0 & 0 & 0 & 0 & 0 & 0 & 0 &  \\\\\n",
       "\t10 & 10 & BNL1-slack & 1586 & 643 & 0 & acceptable & 1977.63 & 0.0930951 & 36 & 5.49966e-12 & 3.78849e-7 & 1 & 1 & 0 & 0 & 0 & 1 & 0 & 0 & 1 & 0 & 0 & 0 & 0 & 0 & 0 & 0 & 0 & 0 &  \\\\\n",
       "\t11 & 11 & BNL2-slack & 4486 & 2324 & 0 & max\\_iter & NaN & 9.17759 & 500 & NaN & NaN & 1 & 1 & 0 & 0 & 0 & 1 & 0 & 0 & 1 & 0 & 0 & 0 & 0 & 0 & 0 & 0 & 0 & 0 &  \\\\\n",
       "\t12 & 12 & BOEING1-slack & 726 & 351 & 0 & acceptable & -335.214 & 0.0469649 & 28 & 1.36059e-10 & 7.27596e-12 & 1 & 1 & 0 & 0 & 0 & 1 & 0 & 0 & 1 & 0 & 0 & 0 & 0 & 0 & 0 & 0 & 0 & 0 &  \\\\\n",
       "\t13 & 13 & BOEING2-slack & 305 & 166 & 0 & acceptable & -315.019 & 0.0135489 & 21 & 2.04297e-10 & 1.89175e-9 & 1 & 1 & 0 & 0 & 0 & 1 & 0 & 0 & 1 & 0 & 0 & 0 & 0 & 0 & 0 & 0 & 0 & 0 &  \\\\\n",
       "\t14 & 14 & BRANDY-slack & 303 & 220 & 0 & acceptable & 1518.51 & 0.015837 & 18 & 6.88246e-12 & 1.27293e-10 & 1 & 1 & 0 & 0 & 0 & 1 & 0 & 0 & 1 & 0 & 0 & 0 & 0 & 0 & 0 & 0 & 0 & 0 &  \\\\\n",
       "\t15 & 15 & CRE-A-slack & 7248 & 3516 & 0 & acceptable & 2.35954e7 & 0.27606 & 37 & 3.28582e-8 & 1.09372e-7 & 1 & 1 & 0 & 0 & 0 & 1 & 0 & 0 & 1 & 0 & 0 & 0 & 0 & 0 & 0 & 0 & 0 & 0 &  \\\\\n",
       "\t16 & 16 & CRE-B-slack & 77137 & 9648 & 0 & acceptable & 2.31296e7 & 20.5227 & 46 & 2.92302e-8 & 9.73057e-8 & 1 & 1 & 0 & 0 & 0 & 1 & 0 & 0 & 1 & 0 & 0 & 0 & 0 & 0 & 0 & 0 & 0 & 0 &  \\\\\n",
       "\t17 & 17 & CRE-C-slack & 6411 & 3068 & 0 & acceptable & 2.52751e7 & 0.301961 & 38 & 1.04774e-9 & 7.9492e-9 & 1 & 1 & 0 & 0 & 0 & 1 & 0 & 0 & 1 & 0 & 0 & 0 & 0 & 0 & 0 & 0 & 0 & 0 &  \\\\\n",
       "\t18 & 18 & CRE-D-slack & 73948 & 8926 & 0 & acceptable & 2.4455e7 & 16.0566 & 46 & 6.67825e-10 & 1.96973e-8 & 1 & 1 & 0 & 0 & 0 & 1 & 0 & 0 & 1 & 0 & 0 & 0 & 0 & 0 & 0 & 0 & 0 & 0 &  \\\\\n",
       "\t19 & 19 & CYCLE-slack & 3371 & 1903 & 0 & max\\_iter & NaN & 7.20156 & 500 & NaN & NaN & 1 & 1 & 0 & 0 & 0 & 1 & 0 & 0 & 1 & 0 & 0 & 0 & 0 & 0 & 0 & 0 & 0 & 0 &  \\\\\n",
       "\t20 & 20 & D2Q06C-slack & 5831 & 2171 & 0 & exception & Inf & Inf & 0 & Inf & Inf & 0 & 0 & 0 & 0 & 0 & 0 & 0 & 0 & 0 & 0 & 0 & 0 & 0 & 0 & 0 & 0 & 0 & 0 & LDLFactorizations.SQDException(\"matrix does not possess a LDL' factorization for this permutation\") \\\\\n",
       "\t21 & 21 & D6CUBE & 6184 & 415 & 0 & acceptable & 315.492 & 0.359922 & 17 & 7.06102e-14 & 3.16049e-11 & 1 & 1 & 0 & 0 & 0 & 1 & 0 & 0 & 1 & 0 & 0 & 0 & 0 & 0 & 0 & 0 & 0 & 0 &  \\\\\n",
       "\t22 & 22 & DEGEN2-slack & 757 & 444 & 0 & acceptable & -1435.18 & 0.044524 & 14 & 3.4035e-12 & 3.5039e-10 & 1 & 1 & 0 & 0 & 0 & 1 & 0 & 0 & 1 & 0 & 0 & 0 & 0 & 0 & 0 & 0 & 0 & 0 &  \\\\\n",
       "\t23 & 23 & DEGEN3-slack & 2604 & 1503 & 0 & acceptable & -987.294 & 0.477419 & 18 & 5.39348e-12 & 1.2178e-10 & 1 & 1 & 0 & 0 & 0 & 1 & 0 & 0 & 1 & 0 & 0 & 0 & 0 & 0 & 0 & 0 & 0 & 0 &  \\\\\n",
       "\t24 & 24 & DFL001 & 12230 & 6071 & 0 & max\\_time & 1.15988e7 & 60.3648 & 44 & 2.65728e-5 & 0.0465987 & 1 & 1 & 0 & 0 & 0 & 1 & 0 & 0 & 1 & 0 & 0 & 0 & 0 & 0 & 0 & 0 & 0 & 0 &  \\\\\n",
       "\t25 & 25 & E226-slack & 472 & 223 & 0 & acceptable & -11.6389 & 0.0274858 & 21 & 4.73627e-11 & 5.42943e-10 & 1 & 1 & 0 & 0 & 0 & 1 & 0 & 0 & 1 & 0 & 0 & 0 & 0 & 0 & 0 & 0 & 0 & 0 &  \\\\\n",
       "\t26 & 26 & FFFFF800-slack & 1028 & 524 & 0 & max\\_iter & NaN & 1.80873 & 500 & NaN & NaN & 1 & 1 & 0 & 0 & 0 & 1 & 0 & 0 & 1 & 0 & 0 & 0 & 0 & 0 & 0 & 0 & 0 & 0 &  \\\\\n",
       "\t27 & 27 & FIT1D-slack & 1049 & 24 & 0 & acceptable & -9146.38 & 0.0497179 & 19 & 8.24042e-10 & 1.93121e-10 & 1 & 1 & 0 & 0 & 0 & 1 & 0 & 0 & 1 & 0 & 0 & 0 & 0 & 0 & 0 & 0 & 0 & 0 &  \\\\\n",
       "\t28 & 28 & FIT1P & 1677 & 627 & 0 & acceptable & 9146.38 & 0.052804 & 18 & 4.19216e-11 & 2.53735e-11 & 1 & 1 & 0 & 0 & 0 & 1 & 0 & 0 & 1 & 0 & 0 & 0 & 0 & 0 & 0 & 0 & 0 & 0 &  \\\\\n",
       "\t29 & 29 & FIT2D-slack & 10524 & 25 & 0 & acceptable & -68464.3 & 0.511341 & 24 & 1.17562e-10 & 3.94585e-10 & 1 & 1 & 0 & 0 & 0 & 1 & 0 & 0 & 1 & 0 & 0 & 0 & 0 & 0 & 0 & 0 & 0 & 0 &  \\\\\n",
       "\t30 & 30 & FIT2P & 13525 & 3000 & 0 & acceptable & 68464.3 & 0.2785 & 20 & 9.75979e-11 & 7.17088e-9 & 1 & 1 & 0 & 0 & 0 & 1 & 0 & 0 & 1 & 0 & 0 & 0 & 0 & 0 & 0 & 0 & 0 & 0 &  \\\\\n",
       "\t31 & 31 & GANGES-slack & 1706 & 1309 & 0 & acceptable & -109586.0 & 0.0657549 & 24 & 5.82077e-11 & 4.19184e-8 & 1 & 1 & 0 & 0 & 0 & 1 & 0 & 0 & 1 & 0 & 0 & 0 & 0 & 0 & 0 & 0 & 0 & 0 &  \\\\\n",
       "\t32 & 32 & GFRD-PNC-slack & 1160 & 616 & 0 & acceptable & 6.90224e6 & 0.0181019 & 19 & 6.32281e-9 & 3.10365e-11 & 1 & 1 & 0 & 0 & 0 & 1 & 0 & 0 & 1 & 0 & 0 & 0 & 0 & 0 & 0 & 0 & 0 & 0 &  \\\\\n",
       "\t33 & 33 & GROW15 & 645 & 300 & 0 & acceptable & -1.06871e8 & 0.0223231 & 14 & 4.88864e-10 & 1.23691e-9 & 1 & 1 & 0 & 0 & 0 & 1 & 0 & 0 & 1 & 0 & 0 & 0 & 0 & 0 & 0 & 0 & 0 & 0 &  \\\\\n",
       "\t34 & 34 & GROW22 & 946 & 440 & 0 & acceptable & -1.60834e8 & 0.0315011 & 15 & 1.24971e-10 & 5.54792e-10 & 1 & 1 & 0 & 0 & 0 & 1 & 0 & 0 & 1 & 0 & 0 & 0 & 0 & 0 & 0 & 0 & 0 & 0 &  \\\\\n",
       "\t35 & 35 & GROW7 & 301 & 140 & 0 & acceptable & -4.77878e7 & 0.0106552 & 13 & 3.73037e-9 & 3.91064e-10 & 1 & 1 & 0 & 0 & 0 & 1 & 0 & 0 & 1 & 0 & 0 & 0 & 0 & 0 & 0 & 0 & 0 & 0 &  \\\\\n",
       "\t36 & 36 & ISRAEL-slack & 316 & 174 & 0 & acceptable & -896645.0 & 0.018641 & 27 & 1.1428e-9 & 1.16415e-10 & 1 & 1 & 0 & 0 & 0 & 1 & 0 & 0 & 1 & 0 & 0 & 0 & 0 & 0 & 0 & 0 & 0 & 0 &  \\\\\n",
       "\t37 & 37 & KB2-slack & 68 & 43 & 0 & acceptable & -1749.9 & 0.00294089 & 19 & 2.60557e-10 & 3.27233e-10 & 1 & 1 & 0 & 0 & 0 & 1 & 0 & 0 & 1 & 0 & 0 & 0 & 0 & 0 & 0 & 0 & 0 & 0 &  \\\\\n",
       "\t38 & 38 & KEN-07 & 3602 & 2426 & 0 & acceptable & -6.7952e8 & 0.0509181 & 14 & 6.10247e-11 & 1.86527e-7 & 1 & 1 & 0 & 0 & 0 & 1 & 0 & 0 & 1 & 0 & 0 & 0 & 0 & 0 & 0 & 0 & 0 & 0 &  \\\\\n",
       "\t39 & 39 & KEN-11 & 21349 & 14694 & 0 & acceptable & -6.97238e9 & 0.807359 & 25 & 3.99782e-11 & 1.36408e-8 & 1 & 1 & 0 & 0 & 0 & 1 & 0 & 0 & 1 & 0 & 0 & 0 & 0 & 0 & 0 & 0 & 0 & 0 &  \\\\\n",
       "\t40 & 40 & KEN-13 & 42659 & 28632 & 0 & acceptable & -1.02574e10 & 1.77916 & 24 & 3.21199e-9 & 6.87756e-7 & 1 & 1 & 0 & 0 & 0 & 1 & 0 & 0 & 1 & 0 & 0 & 0 & 0 & 0 & 0 & 0 & 0 & 0 &  \\\\\n",
       "\t41 & 41 & KEN-18 & 154699 & 105127 & 0 & acceptable & -5.2217e10 & 34.2854 & 44 & 1.86446e-11 & 3.92029e-8 & 1 & 1 & 0 & 0 & 0 & 1 & 0 & 0 & 1 & 0 & 0 & 0 & 0 & 0 & 0 & 0 & 0 & 0 &  \\\\\n",
       "\t42 & 42 & LOTFI-slack & 366 & 153 & 0 & acceptable & -25.2647 & 0.018255 & 27 & 2.33305e-13 & 1.86265e-9 & 1 & 1 & 0 & 0 & 0 & 1 & 0 & 0 & 1 & 0 & 0 & 0 & 0 & 0 & 0 & 0 & 0 & 0 &  \\\\\n",
       "\t43 & 43 & MAROS-R7 & 9408 & 3136 & 0 & acceptable & 1.49719e6 & 8.33459 & 18 & 6.1605e-10 & 1.98497e-10 & 1 & 1 & 0 & 0 & 0 & 1 & 0 & 0 & 1 & 0 & 0 & 0 & 0 & 0 & 0 & 0 & 0 & 0 &  \\\\\n",
       "\t44 & 44 & MODSZK1 & 1620 & 687 & 0 & acceptable & 320.62 & 0.046488 & 26 & 1.32335e-12 & 5.82124e-11 & 1 & 1 & 0 & 0 & 0 & 1 & 0 & 0 & 1 & 0 & 0 & 0 & 0 & 0 & 0 & 0 & 0 & 0 &  \\\\\n",
       "\t45 & 45 & OSA-07-slack & 25067 & 1118 & 0 & acceptable & 535723.0 & 1.25238 & 27 & 1.18234e-11 & 7.66931e-10 & 1 & 1 & 0 & 0 & 0 & 1 & 0 & 0 & 1 & 0 & 0 & 0 & 0 & 0 & 0 & 0 & 0 & 0 &  \\\\\n",
       "\t46 & 46 & OSA-14-slack & 54797 & 2337 & 0 & acceptable & 1.10646e6 & 3.1256 & 30 & 1.34196e-9 & 9.30413e-10 & 1 & 1 & 0 & 0 & 0 & 1 & 0 & 0 & 1 & 0 & 0 & 0 & 0 & 0 & 0 & 0 & 0 & 0 &  \\\\\n",
       "\t47 & 47 & OSA-30-slack & 104374 & 4350 & 0 & acceptable & 2.14214e6 & 7.4408 & 36 & 1.12723e-9 & 1.23042e-9 & 1 & 1 & 0 & 0 & 0 & 1 & 0 & 0 & 1 & 0 & 0 & 0 & 0 & 0 & 0 & 0 & 0 & 0 &  \\\\\n",
       "\t48 & 48 & OSA-60-slack & 243246 & 10280 & 0 & acceptable & 4.04407e6 & 27.6493 & 38 & 2.403e-9 & 1.54159e-10 & 1 & 1 & 0 & 0 & 0 & 1 & 0 & 0 & 1 & 0 & 0 & 0 & 0 & 0 & 0 & 0 & 0 & 0 &  \\\\\n",
       "\t49 & 49 & PDS-02-slack & 7716 & 2953 & 0 & acceptable & 2.88579e10 & 0.409615 & 40 & 3.35785e-9 & 1.42517e-8 & 1 & 1 & 0 & 0 & 0 & 1 & 0 & 0 & 1 & 0 & 0 & 0 & 0 & 0 & 0 & 0 & 0 & 0 &  \\\\\n",
       "\t50 & 50 & PDS-06-slack & 29351 & 9881 & 0 & acceptable & 2.7761e10 & 12.3254 & 56 & 1.67464e-9 & 4.07066e-7 & 1 & 1 & 0 & 0 & 0 & 1 & 0 & 0 & 1 & 0 & 0 & 0 & 0 & 0 & 0 & 0 & 0 & 0 &  \\\\\n",
       "\t51 & 51 & PDS-10-slack & 49932 & 16558 & 0 & max\\_time & 2.67281e10 & 60.1638 & 64 & 2.16581e-6 & 1.31984 & 1 & 1 & 0 & 0 & 0 & 1 & 0 & 0 & 1 & 0 & 0 & 0 & 0 & 0 & 0 & 0 & 0 & 0 &  \\\\\n",
       "\t52 & 52 & PDS-20-slack & 108175 & 33874 & 0 & max\\_time & 2.59393e10 & 68.3244 & 5 & 42.4596 & 33905.0 & 1 & 1 & 0 & 0 & 0 & 1 & 0 & 0 & 1 & 0 & 0 & 0 & 0 & 0 & 0 & 0 & 0 & 0 &  \\\\\n",
       "\t53 & 53 & QAP12 & 8856 & 3192 & 0 & acceptable & 522.894 & 42.0995 & 19 & 8.64442e-12 & 5.10228e-10 & 1 & 1 & 0 & 0 & 0 & 1 & 0 & 0 & 1 & 0 & 0 & 0 & 0 & 0 & 0 & 0 & 0 & 0 &  \\\\\n",
       "\t54 & 54 & QAP15 & 22275 & 6330 & 0 & max\\_time & 1518.78 & 78.0396 & 3 & 2.26706e-10 & 0.011439 & 1 & 1 & 0 & 0 & 0 & 1 & 0 & 0 & 1 & 0 & 0 & 0 & 0 & 0 & 0 & 0 & 0 & 0 &  \\\\\n",
       "\t55 & 55 & QAP8 & 1632 & 912 & 0 & acceptable & 203.5 & 0.652078 & 10 & 1.42109e-14 & 2.2127e-12 & 1 & 1 & 0 & 0 & 0 & 1 & 0 & 0 & 1 & 0 & 0 & 0 & 0 & 0 & 0 & 0 & 0 & 0 &  \\\\\n",
       "\t56 & 56 & SC105-slack & 163 & 105 & 0 & acceptable & -52.2021 & 0.00465298 & 14 & 1.64037e-13 & 6.80249e-14 & 1 & 1 & 0 & 0 & 0 & 1 & 0 & 0 & 1 & 0 & 0 & 0 & 0 & 0 & 0 & 0 & 0 & 0 &  \\\\\n",
       "\t57 & 57 & SC205-slack & 317 & 205 & 0 & acceptable & -52.2021 & 0.00755906 & 16 & 1.83239e-12 & 4.54747e-13 & 1 & 1 & 0 & 0 & 0 & 1 & 0 & 0 & 1 & 0 & 0 & 0 & 0 & 0 & 0 & 0 & 0 & 0 &  \\\\\n",
       "\t58 & 58 & SC50A-slack & 78 & 50 & 0 & acceptable & -64.5751 & 0.00197005 & 12 & 6.37865e-13 & 4.64476e-13 & 1 & 1 & 0 & 0 & 0 & 1 & 0 & 0 & 1 & 0 & 0 & 0 & 0 & 0 & 0 & 0 & 0 & 0 &  \\\\\n",
       "\t59 & 59 & SC50B-slack & 78 & 50 & 0 & acceptable & -70.0 & 0.00153208 & 9 & 1.4024e-10 & 1.76191e-11 & 1 & 1 & 0 & 0 & 0 & 1 & 0 & 0 & 1 & 0 & 0 & 0 & 0 & 0 & 0 & 0 & 0 & 0 &  \\\\\n",
       "\t60 & 60 & SCAGR25-slack & 671 & 471 & 0 & acceptable & -1.47534e7 & 0.014868 & 17 & 5.78561e-10 & 8.15902e-10 & 1 & 1 & 0 & 0 & 0 & 1 & 0 & 0 & 1 & 0 & 0 & 0 & 0 & 0 & 0 & 0 & 0 & 0 &  \\\\\n",
       "\t61 & 61 & SCAGR7-slack & 185 & 129 & 0 & acceptable & -2.33139e6 & 0.00408816 & 14 & 2.3437e-8 & 7.47224e-9 & 1 & 1 & 0 & 0 & 0 & 1 & 0 & 0 & 1 & 0 & 0 & 0 & 0 & 0 & 0 & 0 & 0 & 0 &  \\\\\n",
       "\t62 & 62 & SCFXM1-slack & 600 & 330 & 0 & acceptable & 18416.8 & 0.025238 & 20 & 3.80517e-11 & 4.40293e-11 & 1 & 1 & 0 & 0 & 0 & 1 & 0 & 0 & 1 & 0 & 0 & 0 & 0 & 0 & 0 & 0 & 0 & 0 &  \\\\\n",
       "\t63 & 63 & SCFXM2-slack & 1200 & 660 & 0 & acceptable & 36660.3 & 0.051331 & 22 & 3.56462e-9 & 3.38441e-9 & 1 & 1 & 0 & 0 & 0 & 1 & 0 & 0 & 1 & 0 & 0 & 0 & 0 & 0 & 0 & 0 & 0 & 0 &  \\\\\n",
       "\t64 & 64 & SCFXM3-slack & 1800 & 990 & 0 & acceptable & 54901.3 & 0.076571 & 23 & 4.56189e-11 & 1.87924e-10 & 1 & 1 & 0 & 0 & 0 & 1 & 0 & 0 & 1 & 0 & 0 & 0 & 0 & 0 & 0 & 0 & 0 & 0 &  \\\\\n",
       "\t65 & 65 & SCORPION-slack & 466 & 388 & 0 & acceptable & 1878.12 & 0.011301 & 15 & 5.6275e-12 & 3.88212e-9 & 1 & 1 & 0 & 0 & 0 & 1 & 0 & 0 & 1 & 0 & 0 & 0 & 0 & 0 & 0 & 0 & 0 & 0 &  \\\\\n",
       "\t66 & 66 & SCRS8-slack & 1275 & 490 & 0 & acceptable & 904.297 & 0.0294769 & 20 & 4.54747e-13 & 2.2636e-11 & 1 & 1 & 0 & 0 & 0 & 1 & 0 & 0 & 1 & 0 & 0 & 0 & 0 & 0 & 0 & 0 & 0 & 0 &  \\\\\n",
       "\t67 & 67 & SCSD1 & 760 & 77 & 0 & acceptable & 8.66667 & 0.00873804 & 9 & 4.21885e-14 & 4.53731e-12 & 1 & 1 & 0 & 0 & 0 & 1 & 0 & 0 & 1 & 0 & 0 & 0 & 0 & 0 & 0 & 0 & 0 & 0 &  \\\\\n",
       "\t68 & 68 & SCSD6 & 1350 & 147 & 0 & acceptable & 50.5 & 0.018713 & 12 & 1.51301e-12 & 1.81303e-11 & 1 & 1 & 0 & 0 & 0 & 1 & 0 & 0 & 1 & 0 & 0 & 0 & 0 & 0 & 0 & 0 & 0 & 0 &  \\\\\n",
       "\t69 & 69 & SCSD8 & 2750 & 397 & 0 & acceptable & 905.0 & 0.0307379 & 11 & 5.01821e-14 & 2.89156e-11 & 1 & 1 & 0 & 0 & 0 & 1 & 0 & 0 & 1 & 0 & 0 & 0 & 0 & 0 & 0 & 0 & 0 & 0 &  \\\\\n",
       "\t70 & 70 & SCTAP1-slack & 660 & 300 & 0 & acceptable & 1412.25 & 0.0140729 & 16 & 1.6538e-13 & 3.12848e-11 & 1 & 1 & 0 & 0 & 0 & 1 & 0 & 0 & 1 & 0 & 0 & 0 & 0 & 0 & 0 & 0 & 0 & 0 &  \\\\\n",
       "\t71 & 71 & SCTAP2-slack & 2500 & 1090 & 0 & acceptable & 1724.81 & 0.0510721 & 15 & 1.25728e-13 & 1.77285e-10 & 1 & 1 & 0 & 0 & 0 & 1 & 0 & 0 & 1 & 0 & 0 & 0 & 0 & 0 & 0 & 0 & 0 & 0 &  \\\\\n",
       "\t72 & 72 & SCTAP3-slack & 3340 & 1480 & 0 & acceptable & 1424.0 & 0.075604 & 17 & 4.21272e-14 & 6.23108e-11 & 1 & 1 & 0 & 0 & 0 & 1 & 0 & 0 & 1 & 0 & 0 & 0 & 0 & 0 & 0 & 0 & 0 & 0 &  \\\\\n",
       "\t73 & 73 & SEBA-slack & 1036 & 515 & 0 & acceptable & 15711.6 & 0.0343518 & 21 & 9.99344e-12 & 1.39693e-11 & 1 & 1 & 0 & 0 & 0 & 1 & 0 & 0 & 1 & 0 & 0 & 0 & 0 & 0 & 0 & 0 & 0 & 0 &  \\\\\n",
       "\t74 & 74 & SHARE1B-slack & 253 & 117 & 0 & acceptable & -76589.3 & 0.012593 & 26 & 7.33457e-10 & 3.51364e-8 & 1 & 1 & 0 & 0 & 0 & 1 & 0 & 0 & 1 & 0 & 0 & 0 & 0 & 0 & 0 & 0 & 0 & 0 &  \\\\\n",
       "\t75 & 75 & SHARE2B-slack & 162 & 96 & 0 & acceptable & -415.732 & 0.00443006 & 12 & 5.97988e-12 & 4.13323e-11 & 1 & 1 & 0 & 0 & 0 & 1 & 0 & 0 & 1 & 0 & 0 & 0 & 0 & 0 & 0 & 0 & 0 & 0 &  \\\\\n",
       "\t76 & 76 & SHIP04L-slack & 2166 & 402 & 0 & acceptable & 1.79332e6 & 0.0317869 & 13 & 1.7053e-12 & 8.78795e-8 & 1 & 1 & 0 & 0 & 0 & 1 & 0 & 0 & 1 & 0 & 0 & 0 & 0 & 0 & 0 & 0 & 0 & 0 &  \\\\\n",
       "\t77 & 77 & SHIP04S-slack & 1506 & 402 & 0 & acceptable & 1.79871e6 & 0.0297391 & 14 & 1.54614e-11 & 2.39247e-7 & 1 & 1 & 0 & 0 & 0 & 1 & 0 & 0 & 1 & 0 & 0 & 0 & 0 & 0 & 0 & 0 & 0 & 0 &  \\\\\n",
       "\t78 & 78 & SHIP08L-slack & 4363 & 778 & 0 & acceptable & 1.90906e6 & 0.0519412 & 15 & 2.6489e-11 & 2.18682e-7 & 1 & 1 & 0 & 0 & 0 & 1 & 0 & 0 & 1 & 0 & 0 & 0 & 0 & 0 & 0 & 0 & 0 & 0 &  \\\\\n",
       "\t79 & 79 & SHIP08S-slack & 2467 & 778 & 0 & acceptable & 1.9201e6 & 0.0280721 & 13 & 1.09503e-9 & 4.75647e-8 & 1 & 1 & 0 & 0 & 0 & 1 & 0 & 0 & 1 & 0 & 0 & 0 & 0 & 0 & 0 & 0 & 0 & 0 &  \\\\\n",
       "\t80 & 80 & SHIP12L-slack & 5533 & 1151 & 0 & acceptable & 1.47019e6 & 0.244199 & 65 & 7.27596e-12 & 5.07375e-9 & 1 & 1 & 0 & 0 & 0 & 1 & 0 & 0 & 1 & 0 & 0 & 0 & 0 & 0 & 0 & 0 & 0 & 0 &  \\\\\n",
       "\t81 & 81 & SHIP12S-slack & 2869 & 1151 & 0 & acceptable & 1.48924e6 & 0.146499 & 72 & 3.55129e-11 & 1.88993e-7 & 1 & 1 & 0 & 0 & 0 & 1 & 0 & 0 & 1 & 0 & 0 & 0 & 0 & 0 & 0 & 0 & 0 & 0 &  \\\\\n",
       "\t82 & 82 & STOCFOR1-slack & 165 & 117 & 0 & acceptable & -41132.0 & 0.00439 & 17 & 3.45834e-12 & 5.33214e-10 & 1 & 1 & 0 & 0 & 0 & 1 & 0 & 0 & 1 & 0 & 0 & 0 & 0 & 0 & 0 & 0 & 0 & 0 &  \\\\\n",
       "\t83 & 83 & STOCFOR2-slack & 3045 & 2157 & 0 & acceptable & -39024.4 & 0.086437 & 23 & 2.85364e-11 & 2.09934e-9 & 1 & 1 & 0 & 0 & 0 & 1 & 0 & 0 & 1 & 0 & 0 & 0 & 0 & 0 & 0 & 0 & 0 & 0 &  \\\\\n",
       "\t84 & 84 & STOCFOR3-slack & 23541 & 16675 & 0 & acceptable & -39976.8 & 1.29555 & 36 & 1.34073e-8 & 1.52018e-8 & 1 & 1 & 0 & 0 & 0 & 1 & 0 & 0 & 1 & 0 & 0 & 0 & 0 & 0 & 0 & 0 & 0 & 0 &  \\\\\n",
       "\t85 & 85 & TRUSS & 8806 & 1000 & 0 & acceptable & 458816.0 & 0.190282 & 18 & 1.7531e-10 & 3.55635e-8 & 1 & 1 & 0 & 0 & 0 & 1 & 0 & 0 & 1 & 0 & 0 & 0 & 0 & 0 & 0 & 0 & 0 & 0 &  \\\\\n",
       "\t86 & 86 & WOOD1P-slack & 2595 & 244 & 0 & acceptable & 1.4429 & 0.354294 & 23 & 1.11022e-14 & 5.30239e-8 & 1 & 1 & 0 & 0 & 0 & 1 & 0 & 0 & 1 & 0 & 0 & 0 & 0 & 0 & 0 & 0 & 0 & 0 &  \\\\\n",
       "\t87 & 87 & WOODW-slack & 8418 & 1098 & 0 & acceptable & 1.30448 & 0.583805 & 47 & 3.49001e-12 & 6.94198e-8 & 1 & 1 & 0 & 0 & 0 & 1 & 0 & 0 & 1 & 0 & 0 & 0 & 0 & 0 & 0 & 0 & 0 & 0 &  \\\\\n",
       "\\end{tabular}\n"
      ],
      "text/plain": [
       "87×30 DataFrame\n",
       "│ Row │ id    │ name           │ nvar   │ ncon   │ nequ  │ status     │ objective   │ elapsed_time │ iter  │ dual_feas   │ primal_feas │ neval_obj │ neval_grad │ neval_cons │ neval_jcon │ neval_jgrad │ neval_jac │ neval_jprod │ neval_jtprod │ neval_hess │ neval_hprod │ neval_jhprod │ neval_residual │ neval_jac_residual │ neval_jprod_residual │ neval_jtprod_residual │ neval_hess_residual │ neval_jhess_residual │ neval_hprod_residual │ extrainfo                                                                                           │\n",
       "│     │ \u001b[90mInt64\u001b[39m │ \u001b[90mString\u001b[39m         │ \u001b[90mInt64\u001b[39m  │ \u001b[90mInt64\u001b[39m  │ \u001b[90mInt64\u001b[39m │ \u001b[90mSymbol\u001b[39m     │ \u001b[90mFloat64\u001b[39m     │ \u001b[90mFloat64\u001b[39m      │ \u001b[90mInt64\u001b[39m │ \u001b[90mFloat64\u001b[39m     │ \u001b[90mFloat64\u001b[39m     │ \u001b[90mInt64\u001b[39m     │ \u001b[90mInt64\u001b[39m      │ \u001b[90mInt64\u001b[39m      │ \u001b[90mInt64\u001b[39m      │ \u001b[90mInt64\u001b[39m       │ \u001b[90mInt64\u001b[39m     │ \u001b[90mInt64\u001b[39m       │ \u001b[90mInt64\u001b[39m        │ \u001b[90mInt64\u001b[39m      │ \u001b[90mInt64\u001b[39m       │ \u001b[90mInt64\u001b[39m        │ \u001b[90mInt64\u001b[39m          │ \u001b[90mInt64\u001b[39m              │ \u001b[90mInt64\u001b[39m                │ \u001b[90mInt64\u001b[39m                 │ \u001b[90mInt64\u001b[39m               │ \u001b[90mInt64\u001b[39m                │ \u001b[90mInt64\u001b[39m                │ \u001b[90mString\u001b[39m                                                                                              │\n",
       "├─────┼───────┼────────────────┼────────┼────────┼───────┼────────────┼─────────────┼──────────────┼───────┼─────────────┼─────────────┼───────────┼────────────┼────────────┼────────────┼─────────────┼───────────┼─────────────┼──────────────┼────────────┼─────────────┼──────────────┼────────────────┼────────────────────┼──────────────────────┼───────────────────────┼─────────────────────┼──────────────────────┼──────────────────────┼─────────────────────────────────────────────────────────────────────────────────────────────────────┤\n",
       "│ 1   │ 1     │ 25FV47-slack   │ 1876   │ 821    │ 0     │ acceptable │ 5501.85     │ 0.215451     │ 28    │ 3.28034e-8  │ 9.86233e-11 │ 1         │ 1          │ 0          │ 0          │ 0           │ 1         │ 0           │ 0            │ 1          │ 0           │ 0            │ 0              │ 0                  │ 0                    │ 0                     │ 0                   │ 0                    │ 0                    │                                                                                                     │\n",
       "│ 2   │ 2     │ ADLITTLE-slack │ 138    │ 56     │ 0     │ acceptable │ 225495.0    │ 0.00422502   │ 14    │ 7.40584e-10 │ 6.43188e-9  │ 1         │ 1          │ 0          │ 0          │ 0           │ 1         │ 0           │ 0            │ 1          │ 0           │ 0            │ 0              │ 0                  │ 0                    │ 0                     │ 0                   │ 0                    │ 0                    │                                                                                                     │\n",
       "│ 3   │ 3     │ AFIRO-slack    │ 51     │ 27     │ 0     │ acceptable │ -464.753    │ 0.00114298   │ 9     │ 3.61133e-12 │ 5.68434e-13 │ 1         │ 1          │ 0          │ 0          │ 0           │ 1         │ 0           │ 0            │ 1          │ 0           │ 0            │ 0              │ 0                  │ 0                    │ 0                     │ 0                   │ 0                    │ 0                    │                                                                                                     │\n",
       "│ 4   │ 4     │ AGG-slack      │ 615    │ 488    │ 0     │ acceptable │ -3.59918e7  │ 0.02704      │ 20    │ 1.35616e-11 │ 8.96661e-9  │ 1         │ 1          │ 0          │ 0          │ 0           │ 1         │ 0           │ 0            │ 1          │ 0           │ 0            │ 0              │ 0                  │ 0                    │ 0                     │ 0                   │ 0                    │ 0                    │                                                                                                     │\n",
       "│ 5   │ 5     │ AGG2-slack     │ 758    │ 516    │ 0     │ acceptable │ -2.02393e7  │ 0.0745859    │ 22    │ 2.36999e-7  │ 1.18186e-9  │ 1         │ 1          │ 0          │ 0          │ 0           │ 1         │ 0           │ 0            │ 1          │ 0           │ 0            │ 0              │ 0                  │ 0                    │ 0                     │ 0                   │ 0                    │ 0                    │                                                                                                     │\n",
       "│ 6   │ 6     │ AGG3-slack     │ 758    │ 516    │ 0     │ exception  │ Inf         │ Inf          │ 0     │ Inf         │ Inf         │ 0         │ 0          │ 0          │ 0          │ 0           │ 0         │ 0           │ 0            │ 0          │ 0           │ 0            │ 0              │ 0                  │ 0                    │ 0                     │ 0                   │ 0                    │ 0                    │ LDLFactorizations.SQDException(\"matrix does not possess a LDL' factorization for this permutation\") │\n",
       "│ 7   │ 7     │ BANDM          │ 472    │ 305    │ 0     │ acceptable │ -158.628    │ 0.11146      │ 18    │ 1.51576e-11 │ 4.93622e-11 │ 1         │ 1          │ 0          │ 0          │ 0           │ 1         │ 0           │ 0            │ 1          │ 0           │ 0            │ 0              │ 0                  │ 0                    │ 0                     │ 0                   │ 0                    │ 0                    │                                                                                                     │\n",
       "│ 8   │ 8     │ BEACONFD-slack │ 295    │ 173    │ 0     │ acceptable │ 33592.5     │ 0.01179      │ 11    │ 4.59123e-10 │ 2.79949e-9  │ 1         │ 1          │ 0          │ 0          │ 0           │ 1         │ 0           │ 0            │ 1          │ 0           │ 0            │ 0              │ 0                  │ 0                    │ 0                     │ 0                   │ 0                    │ 0                    │                                                                                                     │\n",
       "│ 9   │ 9     │ BLEND-slack    │ 114    │ 74     │ 0     │ acceptable │ -30.8121    │ 0.00345111   │ 13    │ 7.46557e-13 │ 1.40728e-12 │ 1         │ 1          │ 0          │ 0          │ 0           │ 1         │ 0           │ 0            │ 1          │ 0           │ 0            │ 0              │ 0                  │ 0                    │ 0                     │ 0                   │ 0                    │ 0                    │                                                                                                     │\n",
       "│ 10  │ 10    │ BNL1-slack     │ 1586   │ 643    │ 0     │ acceptable │ 1977.63     │ 0.0930951    │ 36    │ 5.49966e-12 │ 3.78849e-7  │ 1         │ 1          │ 0          │ 0          │ 0           │ 1         │ 0           │ 0            │ 1          │ 0           │ 0            │ 0              │ 0                  │ 0                    │ 0                     │ 0                   │ 0                    │ 0                    │                                                                                                     │\n",
       "│ 11  │ 11    │ BNL2-slack     │ 4486   │ 2324   │ 0     │ max_iter   │ NaN         │ 9.17759      │ 500   │ NaN         │ NaN         │ 1         │ 1          │ 0          │ 0          │ 0           │ 1         │ 0           │ 0            │ 1          │ 0           │ 0            │ 0              │ 0                  │ 0                    │ 0                     │ 0                   │ 0                    │ 0                    │                                                                                                     │\n",
       "│ 12  │ 12    │ BOEING1-slack  │ 726    │ 351    │ 0     │ acceptable │ -335.214    │ 0.0469649    │ 28    │ 1.36059e-10 │ 7.27596e-12 │ 1         │ 1          │ 0          │ 0          │ 0           │ 1         │ 0           │ 0            │ 1          │ 0           │ 0            │ 0              │ 0                  │ 0                    │ 0                     │ 0                   │ 0                    │ 0                    │                                                                                                     │\n",
       "│ 13  │ 13    │ BOEING2-slack  │ 305    │ 166    │ 0     │ acceptable │ -315.019    │ 0.0135489    │ 21    │ 2.04297e-10 │ 1.89175e-9  │ 1         │ 1          │ 0          │ 0          │ 0           │ 1         │ 0           │ 0            │ 1          │ 0           │ 0            │ 0              │ 0                  │ 0                    │ 0                     │ 0                   │ 0                    │ 0                    │                                                                                                     │\n",
       "│ 14  │ 14    │ BRANDY-slack   │ 303    │ 220    │ 0     │ acceptable │ 1518.51     │ 0.015837     │ 18    │ 6.88246e-12 │ 1.27293e-10 │ 1         │ 1          │ 0          │ 0          │ 0           │ 1         │ 0           │ 0            │ 1          │ 0           │ 0            │ 0              │ 0                  │ 0                    │ 0                     │ 0                   │ 0                    │ 0                    │                                                                                                     │\n",
       "│ 15  │ 15    │ CRE-A-slack    │ 7248   │ 3516   │ 0     │ acceptable │ 2.35954e7   │ 0.27606      │ 37    │ 3.28582e-8  │ 1.09372e-7  │ 1         │ 1          │ 0          │ 0          │ 0           │ 1         │ 0           │ 0            │ 1          │ 0           │ 0            │ 0              │ 0                  │ 0                    │ 0                     │ 0                   │ 0                    │ 0                    │                                                                                                     │\n",
       "│ 16  │ 16    │ CRE-B-slack    │ 77137  │ 9648   │ 0     │ acceptable │ 2.31296e7   │ 20.5227      │ 46    │ 2.92302e-8  │ 9.73057e-8  │ 1         │ 1          │ 0          │ 0          │ 0           │ 1         │ 0           │ 0            │ 1          │ 0           │ 0            │ 0              │ 0                  │ 0                    │ 0                     │ 0                   │ 0                    │ 0                    │                                                                                                     │\n",
       "│ 17  │ 17    │ CRE-C-slack    │ 6411   │ 3068   │ 0     │ acceptable │ 2.52751e7   │ 0.301961     │ 38    │ 1.04774e-9  │ 7.9492e-9   │ 1         │ 1          │ 0          │ 0          │ 0           │ 1         │ 0           │ 0            │ 1          │ 0           │ 0            │ 0              │ 0                  │ 0                    │ 0                     │ 0                   │ 0                    │ 0                    │                                                                                                     │\n",
       "│ 18  │ 18    │ CRE-D-slack    │ 73948  │ 8926   │ 0     │ acceptable │ 2.4455e7    │ 16.0566      │ 46    │ 6.67825e-10 │ 1.96973e-8  │ 1         │ 1          │ 0          │ 0          │ 0           │ 1         │ 0           │ 0            │ 1          │ 0           │ 0            │ 0              │ 0                  │ 0                    │ 0                     │ 0                   │ 0                    │ 0                    │                                                                                                     │\n",
       "│ 19  │ 19    │ CYCLE-slack    │ 3371   │ 1903   │ 0     │ max_iter   │ NaN         │ 7.20156      │ 500   │ NaN         │ NaN         │ 1         │ 1          │ 0          │ 0          │ 0           │ 1         │ 0           │ 0            │ 1          │ 0           │ 0            │ 0              │ 0                  │ 0                    │ 0                     │ 0                   │ 0                    │ 0                    │                                                                                                     │\n",
       "│ 20  │ 20    │ D2Q06C-slack   │ 5831   │ 2171   │ 0     │ exception  │ Inf         │ Inf          │ 0     │ Inf         │ Inf         │ 0         │ 0          │ 0          │ 0          │ 0           │ 0         │ 0           │ 0            │ 0          │ 0           │ 0            │ 0              │ 0                  │ 0                    │ 0                     │ 0                   │ 0                    │ 0                    │ LDLFactorizations.SQDException(\"matrix does not possess a LDL' factorization for this permutation\") │\n",
       "│ 21  │ 21    │ D6CUBE         │ 6184   │ 415    │ 0     │ acceptable │ 315.492     │ 0.359922     │ 17    │ 7.06102e-14 │ 3.16049e-11 │ 1         │ 1          │ 0          │ 0          │ 0           │ 1         │ 0           │ 0            │ 1          │ 0           │ 0            │ 0              │ 0                  │ 0                    │ 0                     │ 0                   │ 0                    │ 0                    │                                                                                                     │\n",
       "│ 22  │ 22    │ DEGEN2-slack   │ 757    │ 444    │ 0     │ acceptable │ -1435.18    │ 0.044524     │ 14    │ 3.4035e-12  │ 3.5039e-10  │ 1         │ 1          │ 0          │ 0          │ 0           │ 1         │ 0           │ 0            │ 1          │ 0           │ 0            │ 0              │ 0                  │ 0                    │ 0                     │ 0                   │ 0                    │ 0                    │                                                                                                     │\n",
       "│ 23  │ 23    │ DEGEN3-slack   │ 2604   │ 1503   │ 0     │ acceptable │ -987.294    │ 0.477419     │ 18    │ 5.39348e-12 │ 1.2178e-10  │ 1         │ 1          │ 0          │ 0          │ 0           │ 1         │ 0           │ 0            │ 1          │ 0           │ 0            │ 0              │ 0                  │ 0                    │ 0                     │ 0                   │ 0                    │ 0                    │                                                                                                     │\n",
       "│ 24  │ 24    │ DFL001         │ 12230  │ 6071   │ 0     │ max_time   │ 1.15988e7   │ 60.3648      │ 44    │ 2.65728e-5  │ 0.0465987   │ 1         │ 1          │ 0          │ 0          │ 0           │ 1         │ 0           │ 0            │ 1          │ 0           │ 0            │ 0              │ 0                  │ 0                    │ 0                     │ 0                   │ 0                    │ 0                    │                                                                                                     │\n",
       "│ 25  │ 25    │ E226-slack     │ 472    │ 223    │ 0     │ acceptable │ -11.6389    │ 0.0274858    │ 21    │ 4.73627e-11 │ 5.42943e-10 │ 1         │ 1          │ 0          │ 0          │ 0           │ 1         │ 0           │ 0            │ 1          │ 0           │ 0            │ 0              │ 0                  │ 0                    │ 0                     │ 0                   │ 0                    │ 0                    │                                                                                                     │\n",
       "│ 26  │ 26    │ FFFFF800-slack │ 1028   │ 524    │ 0     │ max_iter   │ NaN         │ 1.80873      │ 500   │ NaN         │ NaN         │ 1         │ 1          │ 0          │ 0          │ 0           │ 1         │ 0           │ 0            │ 1          │ 0           │ 0            │ 0              │ 0                  │ 0                    │ 0                     │ 0                   │ 0                    │ 0                    │                                                                                                     │\n",
       "│ 27  │ 27    │ FIT1D-slack    │ 1049   │ 24     │ 0     │ acceptable │ -9146.38    │ 0.0497179    │ 19    │ 8.24042e-10 │ 1.93121e-10 │ 1         │ 1          │ 0          │ 0          │ 0           │ 1         │ 0           │ 0            │ 1          │ 0           │ 0            │ 0              │ 0                  │ 0                    │ 0                     │ 0                   │ 0                    │ 0                    │                                                                                                     │\n",
       "│ 28  │ 28    │ FIT1P          │ 1677   │ 627    │ 0     │ acceptable │ 9146.38     │ 0.052804     │ 18    │ 4.19216e-11 │ 2.53735e-11 │ 1         │ 1          │ 0          │ 0          │ 0           │ 1         │ 0           │ 0            │ 1          │ 0           │ 0            │ 0              │ 0                  │ 0                    │ 0                     │ 0                   │ 0                    │ 0                    │                                                                                                     │\n",
       "│ 29  │ 29    │ FIT2D-slack    │ 10524  │ 25     │ 0     │ acceptable │ -68464.3    │ 0.511341     │ 24    │ 1.17562e-10 │ 3.94585e-10 │ 1         │ 1          │ 0          │ 0          │ 0           │ 1         │ 0           │ 0            │ 1          │ 0           │ 0            │ 0              │ 0                  │ 0                    │ 0                     │ 0                   │ 0                    │ 0                    │                                                                                                     │\n",
       "│ 30  │ 30    │ FIT2P          │ 13525  │ 3000   │ 0     │ acceptable │ 68464.3     │ 0.2785       │ 20    │ 9.75979e-11 │ 7.17088e-9  │ 1         │ 1          │ 0          │ 0          │ 0           │ 1         │ 0           │ 0            │ 1          │ 0           │ 0            │ 0              │ 0                  │ 0                    │ 0                     │ 0                   │ 0                    │ 0                    │                                                                                                     │\n",
       "│ 31  │ 31    │ GANGES-slack   │ 1706   │ 1309   │ 0     │ acceptable │ -109586.0   │ 0.0657549    │ 24    │ 5.82077e-11 │ 4.19184e-8  │ 1         │ 1          │ 0          │ 0          │ 0           │ 1         │ 0           │ 0            │ 1          │ 0           │ 0            │ 0              │ 0                  │ 0                    │ 0                     │ 0                   │ 0                    │ 0                    │                                                                                                     │\n",
       "│ 32  │ 32    │ GFRD-PNC-slack │ 1160   │ 616    │ 0     │ acceptable │ 6.90224e6   │ 0.0181019    │ 19    │ 6.32281e-9  │ 3.10365e-11 │ 1         │ 1          │ 0          │ 0          │ 0           │ 1         │ 0           │ 0            │ 1          │ 0           │ 0            │ 0              │ 0                  │ 0                    │ 0                     │ 0                   │ 0                    │ 0                    │                                                                                                     │\n",
       "│ 33  │ 33    │ GROW15         │ 645    │ 300    │ 0     │ acceptable │ -1.06871e8  │ 0.0223231    │ 14    │ 4.88864e-10 │ 1.23691e-9  │ 1         │ 1          │ 0          │ 0          │ 0           │ 1         │ 0           │ 0            │ 1          │ 0           │ 0            │ 0              │ 0                  │ 0                    │ 0                     │ 0                   │ 0                    │ 0                    │                                                                                                     │\n",
       "│ 34  │ 34    │ GROW22         │ 946    │ 440    │ 0     │ acceptable │ -1.60834e8  │ 0.0315011    │ 15    │ 1.24971e-10 │ 5.54792e-10 │ 1         │ 1          │ 0          │ 0          │ 0           │ 1         │ 0           │ 0            │ 1          │ 0           │ 0            │ 0              │ 0                  │ 0                    │ 0                     │ 0                   │ 0                    │ 0                    │                                                                                                     │\n",
       "│ 35  │ 35    │ GROW7          │ 301    │ 140    │ 0     │ acceptable │ -4.77878e7  │ 0.0106552    │ 13    │ 3.73037e-9  │ 3.91064e-10 │ 1         │ 1          │ 0          │ 0          │ 0           │ 1         │ 0           │ 0            │ 1          │ 0           │ 0            │ 0              │ 0                  │ 0                    │ 0                     │ 0                   │ 0                    │ 0                    │                                                                                                     │\n",
       "│ 36  │ 36    │ ISRAEL-slack   │ 316    │ 174    │ 0     │ acceptable │ -896645.0   │ 0.018641     │ 27    │ 1.1428e-9   │ 1.16415e-10 │ 1         │ 1          │ 0          │ 0          │ 0           │ 1         │ 0           │ 0            │ 1          │ 0           │ 0            │ 0              │ 0                  │ 0                    │ 0                     │ 0                   │ 0                    │ 0                    │                                                                                                     │\n",
       "│ 37  │ 37    │ KB2-slack      │ 68     │ 43     │ 0     │ acceptable │ -1749.9     │ 0.00294089   │ 19    │ 2.60557e-10 │ 3.27233e-10 │ 1         │ 1          │ 0          │ 0          │ 0           │ 1         │ 0           │ 0            │ 1          │ 0           │ 0            │ 0              │ 0                  │ 0                    │ 0                     │ 0                   │ 0                    │ 0                    │                                                                                                     │\n",
       "│ 38  │ 38    │ KEN-07         │ 3602   │ 2426   │ 0     │ acceptable │ -6.7952e8   │ 0.0509181    │ 14    │ 6.10247e-11 │ 1.86527e-7  │ 1         │ 1          │ 0          │ 0          │ 0           │ 1         │ 0           │ 0            │ 1          │ 0           │ 0            │ 0              │ 0                  │ 0                    │ 0                     │ 0                   │ 0                    │ 0                    │                                                                                                     │\n",
       "│ 39  │ 39    │ KEN-11         │ 21349  │ 14694  │ 0     │ acceptable │ -6.97238e9  │ 0.807359     │ 25    │ 3.99782e-11 │ 1.36408e-8  │ 1         │ 1          │ 0          │ 0          │ 0           │ 1         │ 0           │ 0            │ 1          │ 0           │ 0            │ 0              │ 0                  │ 0                    │ 0                     │ 0                   │ 0                    │ 0                    │                                                                                                     │\n",
       "│ 40  │ 40    │ KEN-13         │ 42659  │ 28632  │ 0     │ acceptable │ -1.02574e10 │ 1.77916      │ 24    │ 3.21199e-9  │ 6.87756e-7  │ 1         │ 1          │ 0          │ 0          │ 0           │ 1         │ 0           │ 0            │ 1          │ 0           │ 0            │ 0              │ 0                  │ 0                    │ 0                     │ 0                   │ 0                    │ 0                    │                                                                                                     │\n",
       "│ 41  │ 41    │ KEN-18         │ 154699 │ 105127 │ 0     │ acceptable │ -5.2217e10  │ 34.2854      │ 44    │ 1.86446e-11 │ 3.92029e-8  │ 1         │ 1          │ 0          │ 0          │ 0           │ 1         │ 0           │ 0            │ 1          │ 0           │ 0            │ 0              │ 0                  │ 0                    │ 0                     │ 0                   │ 0                    │ 0                    │                                                                                                     │\n",
       "│ 42  │ 42    │ LOTFI-slack    │ 366    │ 153    │ 0     │ acceptable │ -25.2647    │ 0.018255     │ 27    │ 2.33305e-13 │ 1.86265e-9  │ 1         │ 1          │ 0          │ 0          │ 0           │ 1         │ 0           │ 0            │ 1          │ 0           │ 0            │ 0              │ 0                  │ 0                    │ 0                     │ 0                   │ 0                    │ 0                    │                                                                                                     │\n",
       "│ 43  │ 43    │ MAROS-R7       │ 9408   │ 3136   │ 0     │ acceptable │ 1.49719e6   │ 8.33459      │ 18    │ 6.1605e-10  │ 1.98497e-10 │ 1         │ 1          │ 0          │ 0          │ 0           │ 1         │ 0           │ 0            │ 1          │ 0           │ 0            │ 0              │ 0                  │ 0                    │ 0                     │ 0                   │ 0                    │ 0                    │                                                                                                     │\n",
       "│ 44  │ 44    │ MODSZK1        │ 1620   │ 687    │ 0     │ acceptable │ 320.62      │ 0.046488     │ 26    │ 1.32335e-12 │ 5.82124e-11 │ 1         │ 1          │ 0          │ 0          │ 0           │ 1         │ 0           │ 0            │ 1          │ 0           │ 0            │ 0              │ 0                  │ 0                    │ 0                     │ 0                   │ 0                    │ 0                    │                                                                                                     │\n",
       "│ 45  │ 45    │ OSA-07-slack   │ 25067  │ 1118   │ 0     │ acceptable │ 535723.0    │ 1.25238      │ 27    │ 1.18234e-11 │ 7.66931e-10 │ 1         │ 1          │ 0          │ 0          │ 0           │ 1         │ 0           │ 0            │ 1          │ 0           │ 0            │ 0              │ 0                  │ 0                    │ 0                     │ 0                   │ 0                    │ 0                    │                                                                                                     │\n",
       "│ 46  │ 46    │ OSA-14-slack   │ 54797  │ 2337   │ 0     │ acceptable │ 1.10646e6   │ 3.1256       │ 30    │ 1.34196e-9  │ 9.30413e-10 │ 1         │ 1          │ 0          │ 0          │ 0           │ 1         │ 0           │ 0            │ 1          │ 0           │ 0            │ 0              │ 0                  │ 0                    │ 0                     │ 0                   │ 0                    │ 0                    │                                                                                                     │\n",
       "│ 47  │ 47    │ OSA-30-slack   │ 104374 │ 4350   │ 0     │ acceptable │ 2.14214e6   │ 7.4408       │ 36    │ 1.12723e-9  │ 1.23042e-9  │ 1         │ 1          │ 0          │ 0          │ 0           │ 1         │ 0           │ 0            │ 1          │ 0           │ 0            │ 0              │ 0                  │ 0                    │ 0                     │ 0                   │ 0                    │ 0                    │                                                                                                     │\n",
       "│ 48  │ 48    │ OSA-60-slack   │ 243246 │ 10280  │ 0     │ acceptable │ 4.04407e6   │ 27.6493      │ 38    │ 2.403e-9    │ 1.54159e-10 │ 1         │ 1          │ 0          │ 0          │ 0           │ 1         │ 0           │ 0            │ 1          │ 0           │ 0            │ 0              │ 0                  │ 0                    │ 0                     │ 0                   │ 0                    │ 0                    │                                                                                                     │\n",
       "│ 49  │ 49    │ PDS-02-slack   │ 7716   │ 2953   │ 0     │ acceptable │ 2.88579e10  │ 0.409615     │ 40    │ 3.35785e-9  │ 1.42517e-8  │ 1         │ 1          │ 0          │ 0          │ 0           │ 1         │ 0           │ 0            │ 1          │ 0           │ 0            │ 0              │ 0                  │ 0                    │ 0                     │ 0                   │ 0                    │ 0                    │                                                                                                     │\n",
       "│ 50  │ 50    │ PDS-06-slack   │ 29351  │ 9881   │ 0     │ acceptable │ 2.7761e10   │ 12.3254      │ 56    │ 1.67464e-9  │ 4.07066e-7  │ 1         │ 1          │ 0          │ 0          │ 0           │ 1         │ 0           │ 0            │ 1          │ 0           │ 0            │ 0              │ 0                  │ 0                    │ 0                     │ 0                   │ 0                    │ 0                    │                                                                                                     │\n",
       "│ 51  │ 51    │ PDS-10-slack   │ 49932  │ 16558  │ 0     │ max_time   │ 2.67281e10  │ 60.1638      │ 64    │ 2.16581e-6  │ 1.31984     │ 1         │ 1          │ 0          │ 0          │ 0           │ 1         │ 0           │ 0            │ 1          │ 0           │ 0            │ 0              │ 0                  │ 0                    │ 0                     │ 0                   │ 0                    │ 0                    │                                                                                                     │\n",
       "│ 52  │ 52    │ PDS-20-slack   │ 108175 │ 33874  │ 0     │ max_time   │ 2.59393e10  │ 68.3244      │ 5     │ 42.4596     │ 33905.0     │ 1         │ 1          │ 0          │ 0          │ 0           │ 1         │ 0           │ 0            │ 1          │ 0           │ 0            │ 0              │ 0                  │ 0                    │ 0                     │ 0                   │ 0                    │ 0                    │                                                                                                     │\n",
       "│ 53  │ 53    │ QAP12          │ 8856   │ 3192   │ 0     │ acceptable │ 522.894     │ 42.0995      │ 19    │ 8.64442e-12 │ 5.10228e-10 │ 1         │ 1          │ 0          │ 0          │ 0           │ 1         │ 0           │ 0            │ 1          │ 0           │ 0            │ 0              │ 0                  │ 0                    │ 0                     │ 0                   │ 0                    │ 0                    │                                                                                                     │\n",
       "│ 54  │ 54    │ QAP15          │ 22275  │ 6330   │ 0     │ max_time   │ 1518.78     │ 78.0396      │ 3     │ 2.26706e-10 │ 0.011439    │ 1         │ 1          │ 0          │ 0          │ 0           │ 1         │ 0           │ 0            │ 1          │ 0           │ 0            │ 0              │ 0                  │ 0                    │ 0                     │ 0                   │ 0                    │ 0                    │                                                                                                     │\n",
       "│ 55  │ 55    │ QAP8           │ 1632   │ 912    │ 0     │ acceptable │ 203.5       │ 0.652078     │ 10    │ 1.42109e-14 │ 2.2127e-12  │ 1         │ 1          │ 0          │ 0          │ 0           │ 1         │ 0           │ 0            │ 1          │ 0           │ 0            │ 0              │ 0                  │ 0                    │ 0                     │ 0                   │ 0                    │ 0                    │                                                                                                     │\n",
       "│ 56  │ 56    │ SC105-slack    │ 163    │ 105    │ 0     │ acceptable │ -52.2021    │ 0.00465298   │ 14    │ 1.64037e-13 │ 6.80249e-14 │ 1         │ 1          │ 0          │ 0          │ 0           │ 1         │ 0           │ 0            │ 1          │ 0           │ 0            │ 0              │ 0                  │ 0                    │ 0                     │ 0                   │ 0                    │ 0                    │                                                                                                     │\n",
       "│ 57  │ 57    │ SC205-slack    │ 317    │ 205    │ 0     │ acceptable │ -52.2021    │ 0.00755906   │ 16    │ 1.83239e-12 │ 4.54747e-13 │ 1         │ 1          │ 0          │ 0          │ 0           │ 1         │ 0           │ 0            │ 1          │ 0           │ 0            │ 0              │ 0                  │ 0                    │ 0                     │ 0                   │ 0                    │ 0                    │                                                                                                     │\n",
       "│ 58  │ 58    │ SC50A-slack    │ 78     │ 50     │ 0     │ acceptable │ -64.5751    │ 0.00197005   │ 12    │ 6.37865e-13 │ 4.64476e-13 │ 1         │ 1          │ 0          │ 0          │ 0           │ 1         │ 0           │ 0            │ 1          │ 0           │ 0            │ 0              │ 0                  │ 0                    │ 0                     │ 0                   │ 0                    │ 0                    │                                                                                                     │\n",
       "│ 59  │ 59    │ SC50B-slack    │ 78     │ 50     │ 0     │ acceptable │ -70.0       │ 0.00153208   │ 9     │ 1.4024e-10  │ 1.76191e-11 │ 1         │ 1          │ 0          │ 0          │ 0           │ 1         │ 0           │ 0            │ 1          │ 0           │ 0            │ 0              │ 0                  │ 0                    │ 0                     │ 0                   │ 0                    │ 0                    │                                                                                                     │\n",
       "│ 60  │ 60    │ SCAGR25-slack  │ 671    │ 471    │ 0     │ acceptable │ -1.47534e7  │ 0.014868     │ 17    │ 5.78561e-10 │ 8.15902e-10 │ 1         │ 1          │ 0          │ 0          │ 0           │ 1         │ 0           │ 0            │ 1          │ 0           │ 0            │ 0              │ 0                  │ 0                    │ 0                     │ 0                   │ 0                    │ 0                    │                                                                                                     │\n",
       "│ 61  │ 61    │ SCAGR7-slack   │ 185    │ 129    │ 0     │ acceptable │ -2.33139e6  │ 0.00408816   │ 14    │ 2.3437e-8   │ 7.47224e-9  │ 1         │ 1          │ 0          │ 0          │ 0           │ 1         │ 0           │ 0            │ 1          │ 0           │ 0            │ 0              │ 0                  │ 0                    │ 0                     │ 0                   │ 0                    │ 0                    │                                                                                                     │\n",
       "│ 62  │ 62    │ SCFXM1-slack   │ 600    │ 330    │ 0     │ acceptable │ 18416.8     │ 0.025238     │ 20    │ 3.80517e-11 │ 4.40293e-11 │ 1         │ 1          │ 0          │ 0          │ 0           │ 1         │ 0           │ 0            │ 1          │ 0           │ 0            │ 0              │ 0                  │ 0                    │ 0                     │ 0                   │ 0                    │ 0                    │                                                                                                     │\n",
       "│ 63  │ 63    │ SCFXM2-slack   │ 1200   │ 660    │ 0     │ acceptable │ 36660.3     │ 0.051331     │ 22    │ 3.56462e-9  │ 3.38441e-9  │ 1         │ 1          │ 0          │ 0          │ 0           │ 1         │ 0           │ 0            │ 1          │ 0           │ 0            │ 0              │ 0                  │ 0                    │ 0                     │ 0                   │ 0                    │ 0                    │                                                                                                     │\n",
       "│ 64  │ 64    │ SCFXM3-slack   │ 1800   │ 990    │ 0     │ acceptable │ 54901.3     │ 0.076571     │ 23    │ 4.56189e-11 │ 1.87924e-10 │ 1         │ 1          │ 0          │ 0          │ 0           │ 1         │ 0           │ 0            │ 1          │ 0           │ 0            │ 0              │ 0                  │ 0                    │ 0                     │ 0                   │ 0                    │ 0                    │                                                                                                     │\n",
       "│ 65  │ 65    │ SCORPION-slack │ 466    │ 388    │ 0     │ acceptable │ 1878.12     │ 0.011301     │ 15    │ 5.6275e-12  │ 3.88212e-9  │ 1         │ 1          │ 0          │ 0          │ 0           │ 1         │ 0           │ 0            │ 1          │ 0           │ 0            │ 0              │ 0                  │ 0                    │ 0                     │ 0                   │ 0                    │ 0                    │                                                                                                     │\n",
       "│ 66  │ 66    │ SCRS8-slack    │ 1275   │ 490    │ 0     │ acceptable │ 904.297     │ 0.0294769    │ 20    │ 4.54747e-13 │ 2.2636e-11  │ 1         │ 1          │ 0          │ 0          │ 0           │ 1         │ 0           │ 0            │ 1          │ 0           │ 0            │ 0              │ 0                  │ 0                    │ 0                     │ 0                   │ 0                    │ 0                    │                                                                                                     │\n",
       "│ 67  │ 67    │ SCSD1          │ 760    │ 77     │ 0     │ acceptable │ 8.66667     │ 0.00873804   │ 9     │ 4.21885e-14 │ 4.53731e-12 │ 1         │ 1          │ 0          │ 0          │ 0           │ 1         │ 0           │ 0            │ 1          │ 0           │ 0            │ 0              │ 0                  │ 0                    │ 0                     │ 0                   │ 0                    │ 0                    │                                                                                                     │\n",
       "│ 68  │ 68    │ SCSD6          │ 1350   │ 147    │ 0     │ acceptable │ 50.5        │ 0.018713     │ 12    │ 1.51301e-12 │ 1.81303e-11 │ 1         │ 1          │ 0          │ 0          │ 0           │ 1         │ 0           │ 0            │ 1          │ 0           │ 0            │ 0              │ 0                  │ 0                    │ 0                     │ 0                   │ 0                    │ 0                    │                                                                                                     │\n",
       "│ 69  │ 69    │ SCSD8          │ 2750   │ 397    │ 0     │ acceptable │ 905.0       │ 0.0307379    │ 11    │ 5.01821e-14 │ 2.89156e-11 │ 1         │ 1          │ 0          │ 0          │ 0           │ 1         │ 0           │ 0            │ 1          │ 0           │ 0            │ 0              │ 0                  │ 0                    │ 0                     │ 0                   │ 0                    │ 0                    │                                                                                                     │\n",
       "│ 70  │ 70    │ SCTAP1-slack   │ 660    │ 300    │ 0     │ acceptable │ 1412.25     │ 0.0140729    │ 16    │ 1.6538e-13  │ 3.12848e-11 │ 1         │ 1          │ 0          │ 0          │ 0           │ 1         │ 0           │ 0            │ 1          │ 0           │ 0            │ 0              │ 0                  │ 0                    │ 0                     │ 0                   │ 0                    │ 0                    │                                                                                                     │\n",
       "│ 71  │ 71    │ SCTAP2-slack   │ 2500   │ 1090   │ 0     │ acceptable │ 1724.81     │ 0.0510721    │ 15    │ 1.25728e-13 │ 1.77285e-10 │ 1         │ 1          │ 0          │ 0          │ 0           │ 1         │ 0           │ 0            │ 1          │ 0           │ 0            │ 0              │ 0                  │ 0                    │ 0                     │ 0                   │ 0                    │ 0                    │                                                                                                     │\n",
       "│ 72  │ 72    │ SCTAP3-slack   │ 3340   │ 1480   │ 0     │ acceptable │ 1424.0      │ 0.075604     │ 17    │ 4.21272e-14 │ 6.23108e-11 │ 1         │ 1          │ 0          │ 0          │ 0           │ 1         │ 0           │ 0            │ 1          │ 0           │ 0            │ 0              │ 0                  │ 0                    │ 0                     │ 0                   │ 0                    │ 0                    │                                                                                                     │\n",
       "│ 73  │ 73    │ SEBA-slack     │ 1036   │ 515    │ 0     │ acceptable │ 15711.6     │ 0.0343518    │ 21    │ 9.99344e-12 │ 1.39693e-11 │ 1         │ 1          │ 0          │ 0          │ 0           │ 1         │ 0           │ 0            │ 1          │ 0           │ 0            │ 0              │ 0                  │ 0                    │ 0                     │ 0                   │ 0                    │ 0                    │                                                                                                     │\n",
       "│ 74  │ 74    │ SHARE1B-slack  │ 253    │ 117    │ 0     │ acceptable │ -76589.3    │ 0.012593     │ 26    │ 7.33457e-10 │ 3.51364e-8  │ 1         │ 1          │ 0          │ 0          │ 0           │ 1         │ 0           │ 0            │ 1          │ 0           │ 0            │ 0              │ 0                  │ 0                    │ 0                     │ 0                   │ 0                    │ 0                    │                                                                                                     │\n",
       "│ 75  │ 75    │ SHARE2B-slack  │ 162    │ 96     │ 0     │ acceptable │ -415.732    │ 0.00443006   │ 12    │ 5.97988e-12 │ 4.13323e-11 │ 1         │ 1          │ 0          │ 0          │ 0           │ 1         │ 0           │ 0            │ 1          │ 0           │ 0            │ 0              │ 0                  │ 0                    │ 0                     │ 0                   │ 0                    │ 0                    │                                                                                                     │\n",
       "│ 76  │ 76    │ SHIP04L-slack  │ 2166   │ 402    │ 0     │ acceptable │ 1.79332e6   │ 0.0317869    │ 13    │ 1.7053e-12  │ 8.78795e-8  │ 1         │ 1          │ 0          │ 0          │ 0           │ 1         │ 0           │ 0            │ 1          │ 0           │ 0            │ 0              │ 0                  │ 0                    │ 0                     │ 0                   │ 0                    │ 0                    │                                                                                                     │\n",
       "│ 77  │ 77    │ SHIP04S-slack  │ 1506   │ 402    │ 0     │ acceptable │ 1.79871e6   │ 0.0297391    │ 14    │ 1.54614e-11 │ 2.39247e-7  │ 1         │ 1          │ 0          │ 0          │ 0           │ 1         │ 0           │ 0            │ 1          │ 0           │ 0            │ 0              │ 0                  │ 0                    │ 0                     │ 0                   │ 0                    │ 0                    │                                                                                                     │\n",
       "│ 78  │ 78    │ SHIP08L-slack  │ 4363   │ 778    │ 0     │ acceptable │ 1.90906e6   │ 0.0519412    │ 15    │ 2.6489e-11  │ 2.18682e-7  │ 1         │ 1          │ 0          │ 0          │ 0           │ 1         │ 0           │ 0            │ 1          │ 0           │ 0            │ 0              │ 0                  │ 0                    │ 0                     │ 0                   │ 0                    │ 0                    │                                                                                                     │\n",
       "│ 79  │ 79    │ SHIP08S-slack  │ 2467   │ 778    │ 0     │ acceptable │ 1.9201e6    │ 0.0280721    │ 13    │ 1.09503e-9  │ 4.75647e-8  │ 1         │ 1          │ 0          │ 0          │ 0           │ 1         │ 0           │ 0            │ 1          │ 0           │ 0            │ 0              │ 0                  │ 0                    │ 0                     │ 0                   │ 0                    │ 0                    │                                                                                                     │\n",
       "│ 80  │ 80    │ SHIP12L-slack  │ 5533   │ 1151   │ 0     │ acceptable │ 1.47019e6   │ 0.244199     │ 65    │ 7.27596e-12 │ 5.07375e-9  │ 1         │ 1          │ 0          │ 0          │ 0           │ 1         │ 0           │ 0            │ 1          │ 0           │ 0            │ 0              │ 0                  │ 0                    │ 0                     │ 0                   │ 0                    │ 0                    │                                                                                                     │\n",
       "│ 81  │ 81    │ SHIP12S-slack  │ 2869   │ 1151   │ 0     │ acceptable │ 1.48924e6   │ 0.146499     │ 72    │ 3.55129e-11 │ 1.88993e-7  │ 1         │ 1          │ 0          │ 0          │ 0           │ 1         │ 0           │ 0            │ 1          │ 0           │ 0            │ 0              │ 0                  │ 0                    │ 0                     │ 0                   │ 0                    │ 0                    │                                                                                                     │\n",
       "│ 82  │ 82    │ STOCFOR1-slack │ 165    │ 117    │ 0     │ acceptable │ -41132.0    │ 0.00439      │ 17    │ 3.45834e-12 │ 5.33214e-10 │ 1         │ 1          │ 0          │ 0          │ 0           │ 1         │ 0           │ 0            │ 1          │ 0           │ 0            │ 0              │ 0                  │ 0                    │ 0                     │ 0                   │ 0                    │ 0                    │                                                                                                     │\n",
       "│ 83  │ 83    │ STOCFOR2-slack │ 3045   │ 2157   │ 0     │ acceptable │ -39024.4    │ 0.086437     │ 23    │ 2.85364e-11 │ 2.09934e-9  │ 1         │ 1          │ 0          │ 0          │ 0           │ 1         │ 0           │ 0            │ 1          │ 0           │ 0            │ 0              │ 0                  │ 0                    │ 0                     │ 0                   │ 0                    │ 0                    │                                                                                                     │\n",
       "│ 84  │ 84    │ STOCFOR3-slack │ 23541  │ 16675  │ 0     │ acceptable │ -39976.8    │ 1.29555      │ 36    │ 1.34073e-8  │ 1.52018e-8  │ 1         │ 1          │ 0          │ 0          │ 0           │ 1         │ 0           │ 0            │ 1          │ 0           │ 0            │ 0              │ 0                  │ 0                    │ 0                     │ 0                   │ 0                    │ 0                    │                                                                                                     │\n",
       "│ 85  │ 85    │ TRUSS          │ 8806   │ 1000   │ 0     │ acceptable │ 458816.0    │ 0.190282     │ 18    │ 1.7531e-10  │ 3.55635e-8  │ 1         │ 1          │ 0          │ 0          │ 0           │ 1         │ 0           │ 0            │ 1          │ 0           │ 0            │ 0              │ 0                  │ 0                    │ 0                     │ 0                   │ 0                    │ 0                    │                                                                                                     │\n",
       "│ 86  │ 86    │ WOOD1P-slack   │ 2595   │ 244    │ 0     │ acceptable │ 1.4429      │ 0.354294     │ 23    │ 1.11022e-14 │ 5.30239e-8  │ 1         │ 1          │ 0          │ 0          │ 0           │ 1         │ 0           │ 0            │ 1          │ 0           │ 0            │ 0              │ 0                  │ 0                    │ 0                     │ 0                   │ 0                    │ 0                    │                                                                                                     │\n",
       "│ 87  │ 87    │ WOODW-slack    │ 8418   │ 1098   │ 0     │ acceptable │ 1.30448     │ 0.583805     │ 47    │ 3.49001e-12 │ 6.94198e-8  │ 1         │ 1          │ 0          │ 0          │ 0           │ 1         │ 0           │ 0            │ 1          │ 0           │ 0            │ 0              │ 0                  │ 0                    │ 0                     │ 0                   │ 0                    │ 0                    │                                                                                                     │"
      ]
     },
     "metadata": {},
     "output_type": "display_data"
    }
   ],
   "source": [
    "# LDLFactorization + memorize permutations\n",
    "file3 = jldopen(string(res_path, \"\\\\mehrotra_ldl1_permute.jld2\"), \"r\")\n",
    "withenv(\"COLUMNS\" => 600, \"LINES\" => 200) do\n",
    "    display(file3[\"stats\"])\n",
    "end\n",
    "\n",
    "close(file3)"
   ]
  },
  {
   "cell_type": "code",
   "execution_count": null,
   "metadata": {},
   "outputs": [],
   "source": []
  }
 ],
 "metadata": {
  "kernelspec": {
   "display_name": "Julia 1.4.0",
   "language": "julia",
   "name": "julia-1.4"
  },
  "language_info": {
   "file_extension": ".jl",
   "mimetype": "application/julia",
   "name": "julia",
   "version": "1.4.0"
  }
 },
 "nbformat": 4,
 "nbformat_minor": 4
}
