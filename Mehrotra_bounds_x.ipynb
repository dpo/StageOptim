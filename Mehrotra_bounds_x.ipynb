{
 "cells": [
  {
   "cell_type": "markdown",
   "metadata": {},
   "source": [
    "# Problèmes\n",
    "\n",
    "### 1)\n",
    "Primal: $\\underset{x \\in \\mathbb{R}^3}{\\min} \\frac{1}{2} x' Q x + c' x ~~~~~~~~ s.t. ~ A x = b ~, ~~ x \\ge 0$\n",
    "\n",
    "with  $Q = \\begin{bmatrix} 6 & 2 & 1\\\\ 2 & 5 & 2\\\\ 1 & 2 & 4 \\end{bmatrix} $, $c = \\begin{bmatrix} -8 \\\\ -3 \\\\ -3 \\end{bmatrix}$, $A = \\begin{bmatrix} 1 & 0 &1 \\\\ 0 & 1 & 1 \\end{bmatrix}$ , and $b = \\begin{bmatrix} 3 \\\\ 0 \\end{bmatrix} $.\n",
    "\n",
    "\n",
    "### 2) \n",
    "AFIRO        28 rows    32 cols        88 nonzeros       794 bytes      -4.6475314286E+02 optimalvalue"
   ]
  },
  {
   "cell_type": "code",
   "execution_count": 5,
   "metadata": {},
   "outputs": [],
   "source": [
    "using LinearAlgebra\n",
    "using LaTeXStrings\n",
    "using DataFrames\n",
    "using DataStructures\n",
    "using QuadraticModels\n",
    "using Printf\n",
    "using SparseArrays\n",
    "using BenchmarkTools\n",
    "using NLPModels\n",
    "using LinearOperators\n",
    "using QPSReader\n",
    "using SolverTools\n",
    "using SolverBenchmark"
   ]
  },
  {
   "cell_type": "markdown",
   "metadata": {},
   "source": [
    "# Mehrotra formulation plus générale:\n",
    "\n",
    "min $c_0 + c'x + \\frac{1}{2} x'Hx ~~~~$ s.t. $ Ax = b $ and $l \\le x \\le u$ "
   ]
  },
  {
   "cell_type": "code",
   "execution_count": 6,
   "metadata": {},
   "outputs": [
    {
     "data": {
      "text/plain": [
       "init_x0_lsq (generic function with 1 method)"
      ]
     },
     "execution_count": 6,
     "metadata": {},
     "output_type": "execute_result"
    }
   ],
   "source": [
    "function display_results(result)\n",
    "    # fonction pour l'affichage\n",
    "    println(\"\\n-----------------------------------------------------------------------\")\n",
    "    println(\"------------------------------- RESULTS -------------------------------\")\n",
    "    result\n",
    "end\n",
    "\n",
    "function init_x0(lvar, uvar)\n",
    "    # choice of an init point x0\n",
    "    x0 = zeros(length(lvar))\n",
    "    for i=1:length(x0)\n",
    "        if lvar[i] == -Inf && uvar[i] == Inf\n",
    "            x0[i] = 0.\n",
    "        elseif lvar[i] == -Inf && uvar[i] != Inf\n",
    "            x0[i] = uvar[i] - 1.\n",
    "        elseif lvar[i] != -Inf && uvar[i] == Inf\n",
    "            x0[i] = lvar[i] + 1.\n",
    "        else\n",
    "            x0[i] = (lvar[i] + uvar[i]) / 2 \n",
    "        end\n",
    "    end  \n",
    "    return x0\n",
    "end\n",
    "\n",
    "function init_x0_lsq(A, b, lvar, uvar)\n",
    "    x_tilde = A\\b\n",
    "    n = length(x_tilde)\n",
    "    for i=1:n\n",
    "        if x_tilde[i] <= lvar[i]\n",
    "            x_tilde[i] = lvar[i] + 1\n",
    "        elseif uvar[i] <= x_tilde[i]\n",
    "            x_tilde[i] = uvar[i] - 1\n",
    "        end\n",
    "        if !(lvar[i] < x_tilde[i] < uvar[i])\n",
    "            x_tilde[i] = (lvar[i] + uvar[i])/2\n",
    "        end\n",
    "    end\n",
    "\n",
    "    return x_tilde\n",
    "end\n",
    "    \n",
    "\n"
   ]
  },
  {
   "cell_type": "code",
   "execution_count": 64,
   "metadata": {},
   "outputs": [
    {
     "data": {
      "text/plain": [
       "is_in_Neighborhood_inf (generic function with 1 method)"
      ]
     },
     "execution_count": 64,
     "metadata": {},
     "output_type": "execute_result"
    }
   ],
   "source": [
    "function compute_α_dual(v, dir_v)\n",
    "    n = length(v)\n",
    "    if n == 0\n",
    "        return 1.\n",
    "    end\n",
    "    α = 1.\n",
    "    for i=1:n\n",
    "        if dir_v[i] < 0.\n",
    "            α_new = -v[i] * 0.999 / dir_v[i]\n",
    "            if α_new < α\n",
    "                α = α_new\n",
    "            end\n",
    "        end\n",
    "    end\n",
    "    return α\n",
    "end\n",
    "\n",
    "\n",
    "    \n",
    "function compute_α_primal(v, dir_v, lvar, uvar)\n",
    "    n = length(v)\n",
    "    α_l, α_u = 1., 1.\n",
    "    for i=1:n\n",
    "        if dir_v[i] > 0.\n",
    "            α_u_new = (uvar[i] - v[i]) * 0.999 / dir_v[i]\n",
    "            if α_u_new < α_u\n",
    "                α_u = α_u_new\n",
    "            end\n",
    "        elseif dir_v[i] < 0.\n",
    "            α_l_new = (lvar[i] - v[i]) * 0.999 / dir_v[i]\n",
    "            if α_l_new < α_l\n",
    "                α_l = α_l_new\n",
    "            end\n",
    "        end\n",
    "    end\n",
    "    return min(α_l, α_u)\n",
    "end\n",
    "\n",
    "function compute_μ(x_l, x_u, s_l, s_u, lvar, uvar, nb_low, nb_upp)\n",
    "    #x_l coordinates of x corresponding to finite lower bounds ( resp. finite upper bounds for x_u)\n",
    "    # arguments must have finite bounds \n",
    "    return (s_l' * (x_l-lvar) + s_u' * (uvar-x_u)) / (nb_low + nb_upp)\n",
    "end\n",
    "\n",
    "\n",
    "function is_in_Neighborhood_inf(gamma, x_l, x_u, s_l, s_u, lvar, uvar)\n",
    "    # check if the current point is in N_inf(gamma)\n",
    "    # true : (xi_l - lvari) * si_l >= gamma mu   and   (uvari - xi_u) * si_u >= gamma mu \n",
    "    mu = Compute_mu(x_l, x_u, s_l, s_u, lvar, uvar)\n",
    "    for i=1:length(x_l)\n",
    "        if (x_l[i] - lvar[i]) * s_l[i] < gamma*mu\n",
    "            return false\n",
    "        end\n",
    "    end\n",
    "    for i=1:length(x_u)\n",
    "        if (uvar[i] - x_u[i]) * s_u[i] < gamma*mu\n",
    "            return false\n",
    "        end\n",
    "    end\n",
    "    return true\n",
    "end"
   ]
  },
  {
   "cell_type": "code",
   "execution_count": 65,
   "metadata": {},
   "outputs": [
    {
     "data": {
      "text/plain": [
       "solve_augmented_system_cc (generic function with 1 method)"
      ]
     },
     "execution_count": 65,
     "metadata": {},
     "output_type": "execute_result"
    }
   ],
   "source": [
    "function solve_augmented_system_aff(J_fact, rc, rb, x, s_l, s_u, ilow, \n",
    "                                    iupp, lvar, uvar, n_cols)\n",
    "    \n",
    "    F_x_λ_aff = [-rc \n",
    "                 -rb]\n",
    "    F_x_λ_aff[ilow] += s_l[ilow]\n",
    "    F_x_λ_aff[iupp] -= s_u[iupp]\n",
    "    \n",
    "    Δ_x_λ_aff = J_fact\\F_x_λ_aff\n",
    "    Δ_aff = [Δ_x_λ_aff\n",
    "             -s_l[ilow] - s_l[ilow].*Δ_x_λ_aff[1:n_cols][ilow]./(x[ilow]-lvar[ilow])\n",
    "             - s_u[iupp] - s_u[iupp].*Δ_x_λ_aff[1:n_cols][iupp]./(x[iupp]-uvar[iupp])]\n",
    "    return Δ_aff\n",
    "end\n",
    "\n",
    "function solve_augmented_system_cc(J_fact, σ, μ,x, s_l, s_u, ilow, iupp,  lvar, uvar,\n",
    "                                   Δ_aff, n_cols, n_rows, n_low)\n",
    "    \n",
    "    rxs_l = -σ*μ .+ Δ_aff[1:n_cols][ilow].*Δ_aff[n_rows+n_cols+1: n_rows+n_cols+n_low]\n",
    "    rxs_u = σ*μ .+ Δ_aff[1:n_cols][iupp].*Δ_aff[n_rows+n_cols+n_low+1: end]\n",
    "    \n",
    "    F_x_λ_cc = spzeros(n_cols+n_rows,1)\n",
    "    F_x_λ_cc[ilow] += rxs_l./(x[ilow]-lvar[ilow])\n",
    "    F_x_λ_cc[iupp] -= rxs_u./(x[iupp]-uvar[iupp])\n",
    "    \n",
    "#     F_x_λ_cc = [ I_low*inv_X_L*rxs_l + I_op_upp*inv_X_U*rxs_u\n",
    "#                                    Or                 ]\n",
    "    Δ_x_λ_cc = J_fact\\F_x_λ_cc\n",
    "    Δ_cc = [Δ_x_λ_cc\n",
    "            -(rxs_l+s_l[ilow].*Δ_x_λ_cc[1:n_cols][ilow])./(x[ilow]-lvar[ilow])\n",
    "            -(rxs_u+s_u[iupp].*Δ_x_λ_cc[1:n_cols][iupp])./(x[iupp]-uvar[iupp]) ]\n",
    "    return Δ_cc\n",
    "end\n"
   ]
  },
  {
   "cell_type": "code",
   "execution_count": 80,
   "metadata": {},
   "outputs": [
    {
     "data": {
      "text/plain": [
       "mehrotraPCQuadBounds (generic function with 1 method)"
      ]
     },
     "execution_count": 80,
     "metadata": {},
     "output_type": "execute_result"
    }
   ],
   "source": [
    "function mehrotraPCQuadBounds(QM, max_iter; ϵ_pdd=1e-8, ϵ_rb=1e-6, ϵ_rc=1e-6,\n",
    "                              tol_Δx=1e-16, ϵ_μ=1e-16, display=true)\n",
    "    \n",
    "    start_time = time()\n",
    "    elapsed_time = 0.0\n",
    "    \n",
    "    # get variables from QuadraticModel\n",
    "    lvar, uvar = QM.meta.lvar, QM.meta.uvar\n",
    "    n_cols = length(lvar)\n",
    "    Oc = zeros(n_cols)\n",
    "    ilow, iupp = [QM.meta.ilow; QM.meta.irng], [QM.meta.iupp; QM.meta.irng] # finite bounds index\n",
    "    n_low, n_upp = length(ilow), length(iupp) # number of finite constraints\n",
    "    A = jac(QM, Oc)\n",
    "    n_rows, n_cols = size(A) \n",
    "    Q = hess(QM, Oc)\n",
    "    c = grad(QM, Oc)\n",
    "    c0 = obj(QM, Oc)\n",
    "    @assert QM.meta.lcon == QM.meta.ucon # equality constraint (Ax=b)\n",
    "    b = QM.meta.lcon\n",
    "    x = init_x0_lsq(A, b, lvar, uvar)\n",
    "    @assert all(x .> lvar) && all(x .< uvar)\n",
    "    s_l, s_u = copy(Oc), copy(Oc)\n",
    "    s_l[ilow] .= 1.\n",
    "    s_u[iupp] .= 1.\n",
    "    Qx = Q * x\n",
    "    λ = sparse(A') \\ (c+Qx) # least square initialisation, s_0 = stilde_0\n",
    "    \n",
    "    rb = A * x - b\n",
    "    rc = -Qx + A' * λ + s_l - s_u - c\n",
    "    μ = compute_μ(x[ilow], x[iupp], \n",
    "                  s_l[ilow], s_u[iupp], \n",
    "                  lvar[ilow], uvar[iupp],\n",
    "                  n_low, n_upp)\n",
    "\n",
    "    k = 0\n",
    "\n",
    "    # stopping criterion\n",
    "    #n_c_p1 =  norm(c, Inf) + 1.\n",
    "    #n_b_p1 =  norm(b, Inf) + 1.\n",
    "    xTQx_2 = x' * Qx / 2\n",
    "    cTx = c' * x\n",
    "    pri_obj = xTQx_2 + cTx + c0\n",
    "    dual_obj = b' * λ - xTQx_2 + s_l[ilow]'*lvar[ilow] - s_u[iupp]'*uvar[iupp] +c0\n",
    "    pdd = abs(pri_obj - dual_obj ) / (1 + abs(pri_obj)) \n",
    "    max_rc, max_rb = norm(rc, Inf), norm(rb, Inf)\n",
    "    optimal = pdd < ϵ_pdd && max_rc < ϵ_rc && max_rb < ϵ_rb\n",
    "    small_Δx, small_μ = false, μ < ϵ_μ\n",
    "    \n",
    "    # init regularization values\n",
    "    ρ = 1.\n",
    "    J_augm = [-Q       A'\n",
    "                A     ρ*I ]\n",
    "\n",
    "    # display\n",
    "    if display == true\n",
    "        println(\"Iter    primal      pdd      rb cond    rc cond    step x       μ\")\n",
    "        @printf(\"%4d  % 9.2e   %7.1e    %7.1e    %7.1e    %7.1e   %7.1e\\n\", \n",
    "                k, pri_obj, pdd, max_rb, max_rc ,0., μ)\n",
    "    end\n",
    "    \n",
    "\n",
    "    while k<max_iter && !optimal && !small_Δx && !small_μ\n",
    "        \n",
    "            \n",
    "            # Affine scaling direction\n",
    "        \n",
    "#         J_augm = [-Q-I_low*inv_X_L*S_low-I_op_upp*inv_X_U*S_upp-ρ*I        A'\n",
    "#                                A                                         ρ*I  ]\n",
    "        \n",
    "        #J_augm[1:n_cols, 1:n_cols] = -Q - ρ*I\n",
    "        #J_augm[1:n_cols+1:n_cols^2] = -Q[1:n_cols+1:n_cols^2] .- ρ\n",
    "        J_augm[diagind(J_augm)[1:n_cols]] = -Q[diagind(Q)] .- ρ\n",
    "        for j in ilow\n",
    "            J_augm[j,j] -=  s_l[j] / (x[j] - lvar[j]) \n",
    "        end\n",
    "        for j in iupp\n",
    "            J_augm[j,j] += s_u[j] / (x[j] - uvar[j])\n",
    "        end\n",
    "\n",
    "        J_fact = ldlt(Symmetric(J_augm))\n",
    "        #J_fact = lu(J_augm)\n",
    "        \n",
    "        Δ_aff = solve_augmented_system_aff(J_fact, rc, rb, x, s_l, s_u, ilow, \n",
    "                                           iupp, lvar, uvar, n_cols)\n",
    "\n",
    "        α_aff_pri = compute_α_primal(x, Δ_aff[1:n_cols], lvar, uvar)\n",
    "        α_aff_dual_l = compute_α_dual(s_l[ilow], Δ_aff[n_rows+n_cols+1: n_rows+n_cols+n_low])\n",
    "        α_aff_dual_u = compute_α_dual(s_u[iupp], Δ_aff[n_rows+n_cols+n_low+1:end])\n",
    "\n",
    "        # alpha_aff_dual_final is the min of the 2 alpha_aff_dual\n",
    "        α_aff_dual_final = min(α_aff_dual_l, α_aff_dual_u)\n",
    "        \n",
    "        μ_aff = compute_μ(x[ilow] + α_aff_pri * Δ_aff[1:n_cols][ilow],\n",
    "                          x[iupp] + α_aff_pri * Δ_aff[1:n_cols][iupp],\n",
    "                          s_l[ilow] + α_aff_dual_final * Δ_aff[n_rows+n_cols+1: n_rows+n_cols+n_low],\n",
    "                          s_u[iupp] + α_aff_dual_final * Δ_aff[n_rows+n_cols+n_low+1: end],\n",
    "                          lvar[ilow], uvar[iupp],\n",
    "                          n_low, n_upp)\n",
    "        \n",
    "        σ = (μ_aff / μ)^3\n",
    "\n",
    "        # corrector and centering step\n",
    "        \n",
    "        Δ_cc = solve_augmented_system_cc(J_fact, σ, μ,x, s_l, s_u, ilow, iupp,  lvar, uvar,\n",
    "                                         Δ_aff, n_cols, n_rows, n_low)\n",
    "        \n",
    "        Δ = Δ_aff + Δ_cc # final direction\n",
    "        \n",
    "        α_pri = compute_α_primal(x, Δ[1:n_cols], lvar, uvar)\n",
    "        α_dual_l = compute_α_dual(s_l[ilow], Δ[n_rows+n_cols+1: n_rows+n_cols+n_low])\n",
    "        α_dual_u = compute_α_dual(s_u[iupp], Δ[n_rows+n_cols+n_low+1: end])\n",
    "\n",
    "        α_dual_final = min(α_dual_l, α_dual_u)\n",
    "\n",
    "        # new parameters\n",
    "        x += α_pri * Δ[1:n_cols]\n",
    "        λ += α_dual_final * Δ[n_cols+1: n_rows+n_cols]\n",
    "        s_l[ilow] += α_dual_final * Δ[n_rows+n_cols+1: n_rows+n_cols+n_low]\n",
    "        s_u[iupp] += α_dual_final * Δ[n_rows+n_cols+n_low+1: end]\n",
    "        \n",
    "        n_Δx = α_pri * norm(Δ[1:n_cols])\n",
    "        μ = compute_μ(x[ilow], x[iupp], \n",
    "                      s_l[ilow], s_u[iupp], \n",
    "                      lvar[ilow], uvar[iupp],\n",
    "                      n_low, n_upp)\n",
    "        Qx = Q * x\n",
    "        xTQx_2 = x' * Qx / 2\n",
    "        cTx = c' * x\n",
    "        pri_obj = xTQx_2 + cTx + c0\n",
    "        dual_obj = b' * λ - xTQx_2 + s_l[ilow]'*lvar[ilow] - s_u[iupp]'*uvar[iupp] +c0\n",
    "\n",
    "        rb = A * x - b\n",
    "        rc = -Qx + A' * λ + s_l - s_u - c\n",
    "        \n",
    "        # update stopping criterion values:\n",
    "        \n",
    "        pdd = abs(pri_obj - dual_obj ) / (1 + abs(pri_obj)) \n",
    "        max_rc, max_rb = norm(rc, Inf), norm(rb, Inf)\n",
    "        optimal = pdd < ϵ_pdd && max_rb < ϵ_rb && max_rc < ϵ_rc\n",
    "        small_Δx, small_μ = n_Δx < tol_Δx, μ < ϵ_μ\n",
    "        k += 1\n",
    "        if ρ >= 1e-7\n",
    "            for j in n_cols+1:n_rows+n_cols\n",
    "                J_augm[j,j] /= 10.\n",
    "            end\n",
    "            ρ /= 10.\n",
    "        end\n",
    "        \n",
    "        if display == true\n",
    "            @printf(\"%4d  % 9.2e   %7.1e    %7.1e    %7.1e    %7.1e   %7.1e\\n\", \n",
    "                    k, pri_obj, pdd, max_rb, max_rc,n_Δx , μ)\n",
    "        end\n",
    "        \n",
    "\n",
    "    end\n",
    "    \n",
    "    if display == true\n",
    "        criteria = [k >= max_iter,  optimal, small_Δx, small_μ]\n",
    "        criteria_names = [\"reached max_iter\",  \"optimal\", \n",
    "            \"n_Δx <= small_Δx\", \"μ <= ϵ_μ\"]\n",
    "        println(\"\\n stopping criterion = \",criteria_names[findall(criteria)])\n",
    "    end\n",
    "    \n",
    "    elapsed_time = time() - start_time\n",
    "    \n",
    "    if k>= max_iter\n",
    "        status = :max_iter\n",
    "    else\n",
    "        status = :acceptable\n",
    "    end\n",
    "    \n",
    "    stats = GenericExecutionStats(status, QM, solution = x,\n",
    "                                  objective = pri_obj , \n",
    "                                  dual_feas = max_rc, \n",
    "                                  primal_feas = max_rb,\n",
    "                                  multipliers = λ,\n",
    "                                  multipliers_L = s_l,\n",
    "                                  multipliers_U = s_u,\n",
    "                                  iter = k, elapsed_time=elapsed_time)\n",
    "    return stats\n",
    "end\n"
   ]
  },
  {
   "cell_type": "markdown",
   "metadata": {},
   "source": [
    "### bibliothèque QuadraticModels\n",
    "\n",
    "optimize $c_0 + c'x + \\frac{1}{2} x'Hx ~~~~$ s.t. $~~L \\le Ax \\le U$ and $l \\le x \\le u$ \n",
    "\n",
    "Ici L = lcon, U = ucon, l = lvar, u = uvar"
   ]
  },
  {
   "cell_type": "code",
   "execution_count": 81,
   "metadata": {},
   "outputs": [],
   "source": [
    "# probleme1\n",
    "Q = [6 2 1\n",
    "    2 5 2\n",
    "    1 2 4]\n",
    "c = [-8; -3; -3]\n",
    "c0 = 0.\n",
    "A = [1 0 1\n",
    "    0 1 1]\n",
    "b = [0; 3]\n",
    "lvar = [0;0;0]\n",
    "uvar = [Inf; Inf; Inf]\n",
    "lcon = b\n",
    "ucon = b\n",
    "\n",
    "x01 = [1.; 2.; 3.];\n"
   ]
  },
  {
   "cell_type": "code",
   "execution_count": 82,
   "metadata": {},
   "outputs": [
    {
     "data": {
      "text/plain": [
       "QuadraticModel"
      ]
     },
     "execution_count": 82,
     "metadata": {},
     "output_type": "execute_result"
    }
   ],
   "source": [
    "QM = QuadraticModel(c, Q, A=A, lcon=lcon, ucon=ucon, lvar=lvar, uvar=uvar, x0=x01, c0=c0, name=\"QM1\")\n",
    "SM = SlackModel(QM)\n",
    "typeof(SM)"
   ]
  },
  {
   "cell_type": "code",
   "execution_count": 83,
   "metadata": {},
   "outputs": [
    {
     "name": "stdout",
     "output_type": "stream",
     "text": [
      "Iter    primal      pdd      rb cond    rc cond    step x       μ\n",
      "   0   1.40e+01   6.7e-01    2.0e+00    2.3e+00    0.0e+00   1.7e+00\n",
      "   1   9.35e+00   1.9e-01    1.5e+00    8.7e-01    5.1e-01   5.3e-02\n",
      "   2   1.05e+01   4.9e-01    3.1e-01    1.2e+00    8.3e-01   3.0e-03\n",
      "   3   1.19e+01   2.2e-01    1.5e-01    6.0e-01    1.7e-01   4.3e-04\n",
      "   4   1.35e+01   2.8e-04    1.6e-04    2.8e-01    2.1e-01   8.5e-06\n",
      "   5   1.35e+01   7.8e-05    2.3e-05    6.4e-04    3.1e-04   9.0e-07\n",
      "   6   1.35e+01   1.3e-06    1.1e-07    4.3e-05    2.3e-05   4.0e-09\n",
      "   7   1.35e+01   6.1e-09    1.0e-10    2.5e-07    1.1e-07   4.0e-12\n",
      "\n",
      " stopping criterion = [\"optimal\"]\n",
      "Generic Execution stats\n",
      "  status: solved to within acceptable tolerances\n",
      "  objective value: 13.499999998714355\n",
      "  primal feasibility: 1.0205747358327244e-10\n",
      "  dual feasibility: 2.457455936522024e-7\n",
      "  solution: [1.1764789108368788e-11  2.999999999897765  1.7747632420055182e-13]\n",
      "  multipliers: [-9.012925868118199  12.000000028759404]\n",
      "  multipliers_L: [1.0129258681155013  1.6705477505328985e-14  0.012925593421205387]\n",
      "  multipliers_U: [0.0  0.0  0.0]\n",
      "  iterations: 7\n",
      "  elapsed time: 0.05099987983703613\n"
     ]
    }
   ],
   "source": [
    "stats_mpc1 =  mehrotraPCQuadBounds(SM, 20)\n",
    "println(stats_mpc1)"
   ]
  },
  {
   "cell_type": "code",
   "execution_count": 84,
   "metadata": {},
   "outputs": [
    {
     "name": "stdout",
     "output_type": "stream",
     "text": [
      "Iter    primal      pdd      rb cond    rc cond    step x       μ\n",
      "   0   1.40e+01   6.7e-01    2.0e+00    2.3e+00    0.0e+00   1.7e+00\n",
      "   1   9.35e+00   1.9e-01    1.5e+00    8.7e-01    5.1e-01   5.3e-02\n",
      "   2   1.05e+01   4.9e-01    3.1e-01    1.2e+00    8.3e-01   3.0e-03\n",
      "   3   1.19e+01   2.2e-01    1.5e-01    6.0e-01    1.7e-01   4.3e-04\n",
      "   4   1.35e+01   2.8e-04    1.6e-04    2.8e-01    2.1e-01   8.5e-06\n",
      "   5   1.35e+01   7.8e-05    2.3e-05    6.4e-04    3.1e-04   9.0e-07\n",
      "   6   1.35e+01   1.3e-06    1.1e-07    4.3e-05    2.3e-05   4.0e-09\n",
      "   7   1.35e+01   6.1e-09    1.0e-10    2.5e-07    1.1e-07   4.0e-12\n",
      "\n",
      " stopping criterion = [\"optimal\"]\n",
      "Generic Execution stats\n",
      "  status: solved to within acceptable tolerances\n",
      "  objective value: 13.499999998714355\n",
      "  primal feasibility: 1.0205747358327244e-10\n",
      "  dual feasibility: 2.457455936522024e-7\n",
      "  solution: [-1.1764789108368788e-11  -2.999999999897765  -1.7747632420055182e-13]\n",
      "  multipliers: [-9.012925868118199  12.000000028759404]\n",
      "  multipliers_L: [0.0  0.0  0.0]\n",
      "  multipliers_U: [1.0129258681155013  1.6705477505328985e-14  0.012925593421205387]\n",
      "  iterations: 7\n",
      "  elapsed time: 0.15599989891052246\n"
     ]
    }
   ],
   "source": [
    "#pb verif\n",
    "\n",
    "QM_verif = QuadraticModel(c*(-1), Q, A=A*(-1), lcon=lcon, ucon=ucon, lvar=-uvar, uvar=lvar, x0=x01, c0=c0, name=\"QM1\")\n",
    "SM_verif = SlackModel(QM_verif)\n",
    "stats_mpc_verif =  mehrotraPCQuadBounds(SM_verif, 20);\n",
    "println(stats_mpc_verif)"
   ]
  },
  {
   "cell_type": "code",
   "execution_count": 85,
   "metadata": {},
   "outputs": [
    {
     "name": "stdout",
     "output_type": "stream",
     "text": [
      "Iter    primal      pdd      rb cond    rc cond    step x       μ\n",
      "   0   1.00e+00   3.3e-01    2.0e+00    1.3e+00    0.0e+00   1.0e+00\n",
      "   1   2.25e-01   4.8e-01    6.9e-01    7.7e-01    8.6e-01   9.0e-02\n",
      "   2   9.86e-02   1.4e-01    3.1e-02    3.0e-02    4.4e-01   4.0e-02\n",
      "   3   9.86e-05   2.1e-04    5.9e-04    9.9e-04    1.3e-01   1.5e-04\n",
      "   4   9.86e-08   5.5e-07    2.9e-07    1.1e-06    5.0e-04   1.5e-07\n",
      "   5   9.86e-11   5.7e-10    2.2e-10    1.1e-09    2.9e-07   1.5e-10\n",
      "\n",
      " stopping criterion = [\"optimal\"]\n",
      "Generic Execution stats\n",
      "  status: solved to within acceptable tolerances\n",
      "  objective value: 9.861953161759842e-11\n",
      "  primal feasibility: 2.217128702852733e-10\n",
      "  dual feasibility: 1.0954280815766992e-9\n",
      "  solution: [9.861953161759842e-11  0.4999999998398338  0.4999999998398338]\n",
      "  multipliers: [6.693802245214811e-10]\n",
      "  multipliers_L: [0.9999999982351917  3.4010421147804937e-10  3.4010421147804937e-10]\n",
      "  multipliers_U: [0.0  0.0  0.0]\n",
      "  iterations: 5\n",
      "  elapsed time: 0.021999835968017578\n"
     ]
    }
   ],
   "source": [
    "### pb verif 2\n",
    "c2 = [1; 0; 0]\n",
    "A2 = Matrix([1, 1, 1]')\n",
    "b2 = [1];\n",
    "QM_verif2 = QuadraticModel(c2, zeros(3,3), A=A2, lcon=b2, ucon=b2, lvar=[0.;0;0], \n",
    "                uvar=[Inf; Inf; Inf], x0=x01, c0=c0, name=\"QMverfi2\")\n",
    "SM_verif2 = SlackModel(QM_verif2)\n",
    "stats_mpc_verif2 =  mehrotraPCQuadBounds(SM_verif2, 20);\n",
    "println(stats_mpc_verif2)"
   ]
  },
  {
   "cell_type": "markdown",
   "metadata": {},
   "source": [
    "# Lecture des donnees .SIF"
   ]
  },
  {
   "cell_type": "code",
   "execution_count": 86,
   "metadata": {},
   "outputs": [
    {
     "data": {
      "text/plain": [
       "displayQuadraticModel (generic function with 1 method)"
      ]
     },
     "execution_count": 86,
     "metadata": {},
     "output_type": "execute_result"
    }
   ],
   "source": [
    "\n",
    "function createQuadraticModel(qpdata)\n",
    "    return QuadraticModel(qpdata.c, qpdata.qrows, qpdata.qcols, qpdata.qvals,\n",
    "            Arows=qpdata.arows, Acols=qpdata.acols, Avals=qpdata.avals, \n",
    "            lcon=qpdata.lcon, ucon=qpdata.ucon, lvar=qpdata.lvar, uvar=qpdata.uvar,\n",
    "            c0=qpdata.c0)\n",
    "end\n",
    "\n",
    "function displayQuadraticModel(QM)\n",
    "    #println(\"A = \", Matrix(jac(QM, QM.meta.x0)))\n",
    "    #println(\"Q = \", Matrix(hess(QM, QM.meta.x0)))\n",
    "    println(\"lvar = \", QM.meta.lvar)\n",
    "    println(\"uvar = \", QM.meta.uvar)\n",
    "    println(\"x0 = \", QM.meta.x0)\n",
    "    #println(\"lcon = \", QM.meta.lcon)\n",
    "    #println(\"ucon = \", QM.meta.ucon)\n",
    "end"
   ]
  },
  {
   "cell_type": "markdown",
   "metadata": {},
   "source": [
    "# Benchmark"
   ]
  },
  {
   "cell_type": "code",
   "execution_count": 87,
   "metadata": {},
   "outputs": [
    {
     "data": {
      "text/plain": [
       "\"C:\\\\Users\\\\Geoffroy Leconte\\\\Documents\\\\cours\\\\TFE\\\\code\\\\problemes_netlib\\\\AFIRO.SIF\""
      ]
     },
     "execution_count": 87,
     "metadata": {},
     "output_type": "execute_result"
    }
   ],
   "source": [
    "path_pb = \"C:\\\\Users\\\\Geoffroy Leconte\\\\Documents\\\\cours\\\\TFE\\\\code\\\\problemes_netlib\"\n",
    "afiro = string(path_pb, \"\\\\AFIRO.SIF\")"
   ]
  },
  {
   "cell_type": "code",
   "execution_count": 88,
   "metadata": {},
   "outputs": [
    {
     "name": "stderr",
     "output_type": "stream",
     "text": [
      "┌ Info: Using 'AFIRO' as NAME (l. 5)\n",
      "└ @ QPSReader C:\\Users\\Geoffroy Leconte\\.julia\\packages\\QPSReader\\usDQr\\src\\readqps.jl:751\n",
      "┌ Info: Using 'COST' as objective (l. 47)\n",
      "└ @ QPSReader C:\\Users\\Geoffroy Leconte\\.julia\\packages\\QPSReader\\usDQr\\src\\readqps.jl:350\n",
      "┌ Info: Using 'B' as RHS (l. 96)\n",
      "└ @ QPSReader C:\\Users\\Geoffroy Leconte\\.julia\\packages\\QPSReader\\usDQr\\src\\readqps.jl:470\n"
     ]
    },
    {
     "data": {
      "text/plain": [
       "  Problem name: Generic-slack\n",
       "   All variables: ████████████████████ 51     All constraints: ████████████████████ 27    \n",
       "            free: ⋅⋅⋅⋅⋅⋅⋅⋅⋅⋅⋅⋅⋅⋅⋅⋅⋅⋅⋅⋅ 0                 free: ⋅⋅⋅⋅⋅⋅⋅⋅⋅⋅⋅⋅⋅⋅⋅⋅⋅⋅⋅⋅ 0     \n",
       "           lower: █████████████⋅⋅⋅⋅⋅⋅⋅ 32               lower: ⋅⋅⋅⋅⋅⋅⋅⋅⋅⋅⋅⋅⋅⋅⋅⋅⋅⋅⋅⋅ 0     \n",
       "           upper: ████████⋅⋅⋅⋅⋅⋅⋅⋅⋅⋅⋅⋅ 19               upper: ⋅⋅⋅⋅⋅⋅⋅⋅⋅⋅⋅⋅⋅⋅⋅⋅⋅⋅⋅⋅ 0     \n",
       "         low/upp: ⋅⋅⋅⋅⋅⋅⋅⋅⋅⋅⋅⋅⋅⋅⋅⋅⋅⋅⋅⋅ 0              low/upp: ⋅⋅⋅⋅⋅⋅⋅⋅⋅⋅⋅⋅⋅⋅⋅⋅⋅⋅⋅⋅ 0     \n",
       "           fixed: ⋅⋅⋅⋅⋅⋅⋅⋅⋅⋅⋅⋅⋅⋅⋅⋅⋅⋅⋅⋅ 0                fixed: ████████████████████ 27    \n",
       "          infeas: ⋅⋅⋅⋅⋅⋅⋅⋅⋅⋅⋅⋅⋅⋅⋅⋅⋅⋅⋅⋅ 0               infeas: ⋅⋅⋅⋅⋅⋅⋅⋅⋅⋅⋅⋅⋅⋅⋅⋅⋅⋅⋅⋅ 0     \n",
       "            nnzh: (100.00% sparsity)   0               linear: ████████████████████ 27    \n",
       "                                                    nonlinear: ⋅⋅⋅⋅⋅⋅⋅⋅⋅⋅⋅⋅⋅⋅⋅⋅⋅⋅⋅⋅ 0     \n",
       "                                                         nnzj: ( 92.59% sparsity)   102   \n",
       "\n"
      ]
     },
     "execution_count": 88,
     "metadata": {},
     "output_type": "execute_result"
    }
   ],
   "source": [
    "qpdata2 = readqps(afiro)  # obj   -4.6475314286E+02\n",
    "qpdata2.contypes\n",
    "QM2 = createQuadraticModel(qpdata2)\n",
    "SM2 = SlackModel(QM2);\n",
    "SM2.meta"
   ]
  },
  {
   "cell_type": "code",
   "execution_count": 89,
   "metadata": {
    "scrolled": true
   },
   "outputs": [
    {
     "name": "stdout",
     "output_type": "stream",
     "text": [
      "Iter    primal      pdd      rb cond    rc cond    step x       μ\n",
      "   0   4.38e+02   4.7e+00    1.9e+01    5.9e+00    0.0e+00   3.6e+01\n",
      "   1   3.73e+02   9.0e-01    6.8e+00    8.4e+00    9.9e+00   4.5e+00\n",
      "   2   4.94e+01   2.2e+00    5.2e-01    5.9e+00    4.8e+01   2.3e+00\n",
      "   3   3.93e+02   8.1e-01    4.9e-01    5.2e+00    4.9e+01   3.9e+00\n",
      "   4   3.10e+02   7.7e-01    4.8e-01    5.2e+00    1.4e+01   3.8e+00\n",
      "   5   3.12e+02   7.7e-01    4.8e-01    5.2e+00    1.7e+00   3.8e+00\n",
      "   6  -2.54e+00   1.5e-01    3.7e-01    3.0e+00    4.8e+01   2.9e+00\n",
      "   7  -5.75e+00   8.6e-01    2.1e-06    1.1e+00    1.0e+01   1.1e+00\n",
      "   8  -1.98e+02   1.0e+00    3.9e-07    9.7e-01    4.9e+02   3.6e+00\n",
      "   9  -4.16e+02   1.0e+00    3.3e-07    6.4e-01    5.1e+02   9.7e-01\n",
      "  10  -8.18e+01   1.0e+00    3.0e-07    6.3e-01    8.1e+02   1.0e+00\n",
      "  11  -1.74e+02   1.0e+00    3.0e-07    6.3e-01    3.2e+02   9.2e-01\n",
      "  12  -4.23e+02   3.6e+00    3.0e-07    2.5e-01    6.0e+02   3.4e+01\n",
      "  13  -4.37e+02   8.6e-01    5.1e-08    6.3e-02    2.5e+01   8.4e+00\n",
      "  14  -4.50e+02   6.0e-01    1.9e-08    4.5e-02    9.4e+01   6.0e+00\n",
      "  15  -4.63e+02   8.0e-03    8.8e-09    6.6e-04    2.5e+01   8.4e-02\n",
      "  16  -4.65e+02   8.4e-06    7.1e-11    7.3e-07    4.0e+00   8.9e-05\n",
      "  17  -4.65e+02   8.3e-09    1.4e-13    7.4e-10    3.8e-03   8.9e-08\n",
      "\n",
      " stopping criterion = [\"optimal\"]\n",
      "Generic Execution stats\n",
      "  status: solved to within acceptable tolerances\n",
      "  objective value: -464.75314084628343\n",
      "  primal feasibility: 1.3937846509532933e-13\n",
      "  dual feasibility: 7.353602171633611e-10\n",
      "  solution: [79.99999999691732  25.49999998033061  54.5000000165867  84.79999999673237 ⋯ 56.781514270619994]\n",
      "  multipliers: [-0.6285714291537794  2.987232187532426e-10  -0.3447714279759189  -0.22857142831329122 ⋯ -3.241082616939705e-10]\n",
      "  multipliers_L: [3.2867419652600144e-10  9.560732389205441e-10  4.4097820819749233e-10  3.0974945973594344e-10 ⋯ 0.0]\n",
      "  multipliers_U: [0.0  0.0  0.0  0.0 ⋯ 2.580939840594536e-11]\n",
      "  iterations: 17\n",
      "  elapsed time: 0.21700000762939453\n"
     ]
    }
   ],
   "source": [
    "stats_mpc2 =  mehrotraPCQuadBounds(SM2, 100)\n",
    "println(stats_mpc2)"
   ]
  },
  {
   "cell_type": "code",
   "execution_count": 90,
   "metadata": {},
   "outputs": [
    {
     "data": {
      "text/plain": [
       "BenchmarkTools.Trial: \n",
       "  memory estimate:  2.34 MiB\n",
       "  allocs estimate:  15939\n",
       "  --------------\n",
       "  minimum time:     2.138 ms (0.00% GC)\n",
       "  median time:      2.206 ms (0.00% GC)\n",
       "  mean time:        2.480 ms (5.31% GC)\n",
       "  maximum time:     6.797 ms (40.17% GC)\n",
       "  --------------\n",
       "  samples:          2014\n",
       "  evals/sample:     1"
      ]
     },
     "execution_count": 90,
     "metadata": {},
     "output_type": "execute_result"
    }
   ],
   "source": [
    "@benchmark mehrotraPCQuadBounds(SM2, 100, display=false)"
   ]
  },
  {
   "cell_type": "code",
   "execution_count": 91,
   "metadata": {
    "scrolled": true
   },
   "outputs": [
    {
     "name": "stderr",
     "output_type": "stream",
     "text": [
      "┌ Info: Using 'KB2' as NAME (l. 5)\n",
      "└ @ QPSReader C:\\Users\\Geoffroy Leconte\\.julia\\packages\\QPSReader\\usDQr\\src\\readqps.jl:751\n",
      "┌ Info: Using 'FAT7..J.' as objective (l. 20)\n",
      "└ @ QPSReader C:\\Users\\Geoffroy Leconte\\.julia\\packages\\QPSReader\\usDQr\\src\\readqps.jl:350\n",
      "┌ Info: Using '77BOUND' as BOUNDS (l. 227)\n",
      "└ @ QPSReader C:\\Users\\Geoffroy Leconte\\.julia\\packages\\QPSReader\\usDQr\\src\\readqps.jl:622\n"
     ]
    },
    {
     "data": {
      "text/plain": [
       "  Problem name: Generic-slack\n",
       "   All variables: ████████████████████ 68     All constraints: ████████████████████ 43    \n",
       "            free: ⋅⋅⋅⋅⋅⋅⋅⋅⋅⋅⋅⋅⋅⋅⋅⋅⋅⋅⋅⋅ 0                 free: ⋅⋅⋅⋅⋅⋅⋅⋅⋅⋅⋅⋅⋅⋅⋅⋅⋅⋅⋅⋅ 0     \n",
       "           lower: ██████████████⋅⋅⋅⋅⋅⋅ 47               lower: ⋅⋅⋅⋅⋅⋅⋅⋅⋅⋅⋅⋅⋅⋅⋅⋅⋅⋅⋅⋅ 0     \n",
       "           upper: ████⋅⋅⋅⋅⋅⋅⋅⋅⋅⋅⋅⋅⋅⋅⋅⋅ 12               upper: ⋅⋅⋅⋅⋅⋅⋅⋅⋅⋅⋅⋅⋅⋅⋅⋅⋅⋅⋅⋅ 0     \n",
       "         low/upp: ███⋅⋅⋅⋅⋅⋅⋅⋅⋅⋅⋅⋅⋅⋅⋅⋅⋅ 9              low/upp: ⋅⋅⋅⋅⋅⋅⋅⋅⋅⋅⋅⋅⋅⋅⋅⋅⋅⋅⋅⋅ 0     \n",
       "           fixed: ⋅⋅⋅⋅⋅⋅⋅⋅⋅⋅⋅⋅⋅⋅⋅⋅⋅⋅⋅⋅ 0                fixed: ████████████████████ 43    \n",
       "          infeas: ⋅⋅⋅⋅⋅⋅⋅⋅⋅⋅⋅⋅⋅⋅⋅⋅⋅⋅⋅⋅ 0               infeas: ⋅⋅⋅⋅⋅⋅⋅⋅⋅⋅⋅⋅⋅⋅⋅⋅⋅⋅⋅⋅ 0     \n",
       "            nnzh: (100.00% sparsity)   0               linear: ████████████████████ 43    \n",
       "                                                    nonlinear: ⋅⋅⋅⋅⋅⋅⋅⋅⋅⋅⋅⋅⋅⋅⋅⋅⋅⋅⋅⋅ 0     \n",
       "                                                         nnzj: ( 89.30% sparsity)   313   \n",
       "\n"
      ]
     },
     "execution_count": 91,
     "metadata": {},
     "output_type": "execute_result"
    }
   ],
   "source": [
    "# problem 3   kb2    obj  -1.7499001299E+03\n",
    "kb2 = string(path_pb, \"\\\\KB2.SIF\")\n",
    "qpdata3 = readqps(kb2)\n",
    "QM3 = createQuadraticModel(qpdata3)\n",
    "SM3 = SlackModel(QM3)\n",
    "SM3.meta"
   ]
  },
  {
   "cell_type": "code",
   "execution_count": 92,
   "metadata": {
    "scrolled": true
   },
   "outputs": [
    {
     "name": "stdout",
     "output_type": "stream",
     "text": [
      "Iter    primal      pdd      rb cond    rc cond    step x       μ\n",
      "   0   1.17e+01   3.4e+01    6.9e+02    6.1e+00    0.0e+00   6.2e+00\n",
      "   1  -2.54e+00   5.7e+00    2.6e+02    2.8e+00    4.6e+00   1.2e+00\n",
      "   2  -3.99e+00   1.5e-01    9.1e+01    4.2e-01    3.9e+00   3.4e-01\n",
      "   3  -7.45e+00   5.7e-01    3.7e+01    3.4e-01    2.4e+01   2.0e-01\n",
      "   4  -1.65e+01   8.2e-01    1.1e+01    2.6e-01    5.6e+01   2.0e-01\n",
      "   5  -1.02e+02   9.7e-01    7.7e-03    1.9e-01    4.3e+02   3.8e-01\n",
      "   6  -2.25e+02   9.7e-01    7.3e-03    1.9e-01    6.2e+02   7.7e-01\n",
      "   7  -3.99e+02   9.7e-01    7.1e-03    1.7e-01    8.7e+02   7.0e-01\n",
      "   8  -6.34e+02   9.6e-01    7.1e-03    1.7e-01    1.2e+03   1.0e+00\n",
      "   9  -1.26e+03   9.8e-01    6.9e-03    1.6e-01    3.2e+03   1.7e+00\n",
      "  10  -1.11e+03   9.2e-01    6.8e-03    1.6e-01    7.8e+02   2.2e+00\n",
      "  11  -1.05e+03   8.7e-01    6.8e-03    1.6e-01    3.0e+02   2.7e+00\n",
      "  12  -1.07e+03   8.5e-01    6.6e-03    1.6e-01    3.3e+02   3.1e+00\n",
      "  13  -1.15e+03   8.0e-01    6.5e-03    1.5e-01    5.5e+02   3.8e+00\n",
      "  14  -1.26e+03   7.6e-01    6.4e-03    1.5e-01    6.5e+02   4.6e+00\n",
      "  15  -1.06e+03   7.0e-01    6.0e-03    1.5e-01    1.4e+03   4.4e+00\n",
      "  16  -1.16e+03   4.3e-01    5.8e-03    1.3e-01    6.6e+02   6.6e+00\n",
      "  17  -1.24e+03   4.2e-01    5.5e-03    1.2e-01    5.6e+02   6.9e+00\n",
      "  18  -1.59e+03   3.8e-01    1.6e-03    1.0e-01    2.2e+03   6.8e+00\n",
      "  19  -1.64e+03   4.2e-02    8.5e-04    3.3e-02    5.9e+02   4.2e+00\n",
      "  20  -1.70e+03   3.4e-02    3.7e-04    2.2e-02    7.9e+02   2.8e+00\n",
      "  21  -1.74e+03   2.7e-03    1.9e-05    2.2e-03    2.8e+02   3.1e-01\n",
      "  22  -1.75e+03   6.1e-03    7.6e-06    1.2e-05    1.7e+02   1.4e-01\n",
      "  23  -1.75e+03   2.4e-03    4.8e-06    2.8e-06    1.6e+02   5.5e-02\n",
      "  24  -1.75e+03   6.5e-04    5.9e-07    9.0e-07    1.7e+02   1.5e-02\n",
      "  25  -1.75e+03   2.4e-04    6.2e-08    3.3e-07    4.0e+01   5.5e-03\n",
      "  26  -1.75e+03   1.1e-05    1.2e-09    1.9e-07    2.6e+01   2.6e-04\n",
      "  27  -1.75e+03   1.3e-08    1.3e-10    3.1e-08    3.9e+00   4.4e-07\n",
      "  28  -1.75e+03   6.0e-12    2.1e-12    6.1e-11    3.9e-03   4.4e-10\n",
      "\n",
      " stopping criterion = [\"optimal\"]\n",
      "Generic Execution stats\n",
      "  status: solved to within acceptable tolerances\n",
      "  objective value: -1749.900129902515\n",
      "  primal feasibility: 2.0534685063466895e-12\n",
      "  dual feasibility: 6.100264348624944e-11\n",
      "  solution: [0.8118235493362917  4.874664513758035e-10  1.2823323034003835e-9  7.155154111326456e-10 ⋯ -783.4591282440429]\n",
      "  multipliers: [17.269208188574343  17.21410176496015  16.942045649571387  16.65983849181968 ⋯ -1.9935092507863223e-11]\n",
      "  multipliers_L: [1.968788312781932e-11  0.06381181702947607  0.04896169777378973  0.10208327113676041 ⋯ 0.0]\n",
      "  multipliers_U: [0.0  6.491577852856567e-11  0.0  0.0 ⋯ 6.100079861251986e-13]\n",
      "  iterations: 28\n",
      "  elapsed time: 0.3530001640319824\n"
     ]
    }
   ],
   "source": [
    "stats_mpc3 =  mehrotraPCQuadBounds(SM3, 100);\n",
    "println(stats_mpc3)"
   ]
  },
  {
   "cell_type": "code",
   "execution_count": 93,
   "metadata": {},
   "outputs": [
    {
     "data": {
      "text/plain": [
       "BenchmarkTools.Trial: \n",
       "  memory estimate:  6.22 MiB\n",
       "  allocs estimate:  31480\n",
       "  --------------\n",
       "  minimum time:     5.236 ms (0.00% GC)\n",
       "  median time:      5.338 ms (0.00% GC)\n",
       "  mean time:        5.859 ms (4.77% GC)\n",
       "  maximum time:     9.727 ms (30.53% GC)\n",
       "  --------------\n",
       "  samples:          853\n",
       "  evals/sample:     1"
      ]
     },
     "execution_count": 93,
     "metadata": {},
     "output_type": "execute_result"
    }
   ],
   "source": [
    "@benchmark mehrotraPCQuadBounds(SM3, 100, display = false)"
   ]
  },
  {
   "cell_type": "code",
   "execution_count": 152,
   "metadata": {},
   "outputs": [
    {
     "name": "stderr",
     "output_type": "stream",
     "text": [
      "┌ Info: Using 'SC50A' as NAME (l. 5)\n",
      "└ @ QPSReader C:\\Users\\Geoffroy Leconte\\.julia\\packages\\QPSReader\\usDQr\\src\\readqps.jl:751\n",
      "┌ Info: Using 'MAXIM' as objective (l. 20)\n",
      "└ @ QPSReader C:\\Users\\Geoffroy Leconte\\.julia\\packages\\QPSReader\\usDQr\\src\\readqps.jl:350\n",
      "┌ Info: Using 'CONST' as RHS (l. 153)\n",
      "└ @ QPSReader C:\\Users\\Geoffroy Leconte\\.julia\\packages\\QPSReader\\usDQr\\src\\readqps.jl:470\n"
     ]
    },
    {
     "data": {
      "text/plain": [
       "  Problem name: Generic-slack\n",
       "   All variables: ████████████████████ 78     All constraints: ████████████████████ 50    \n",
       "            free: ⋅⋅⋅⋅⋅⋅⋅⋅⋅⋅⋅⋅⋅⋅⋅⋅⋅⋅⋅⋅ 0                 free: ⋅⋅⋅⋅⋅⋅⋅⋅⋅⋅⋅⋅⋅⋅⋅⋅⋅⋅⋅⋅ 0     \n",
       "           lower: █████████████⋅⋅⋅⋅⋅⋅⋅ 48               lower: ⋅⋅⋅⋅⋅⋅⋅⋅⋅⋅⋅⋅⋅⋅⋅⋅⋅⋅⋅⋅ 0     \n",
       "           upper: ████████⋅⋅⋅⋅⋅⋅⋅⋅⋅⋅⋅⋅ 30               upper: ⋅⋅⋅⋅⋅⋅⋅⋅⋅⋅⋅⋅⋅⋅⋅⋅⋅⋅⋅⋅ 0     \n",
       "         low/upp: ⋅⋅⋅⋅⋅⋅⋅⋅⋅⋅⋅⋅⋅⋅⋅⋅⋅⋅⋅⋅ 0              low/upp: ⋅⋅⋅⋅⋅⋅⋅⋅⋅⋅⋅⋅⋅⋅⋅⋅⋅⋅⋅⋅ 0     \n",
       "           fixed: ⋅⋅⋅⋅⋅⋅⋅⋅⋅⋅⋅⋅⋅⋅⋅⋅⋅⋅⋅⋅ 0                fixed: ████████████████████ 50    \n",
       "          infeas: ⋅⋅⋅⋅⋅⋅⋅⋅⋅⋅⋅⋅⋅⋅⋅⋅⋅⋅⋅⋅ 0               infeas: ⋅⋅⋅⋅⋅⋅⋅⋅⋅⋅⋅⋅⋅⋅⋅⋅⋅⋅⋅⋅ 0     \n",
       "            nnzh: (100.00% sparsity)   0               linear: ████████████████████ 50    \n",
       "                                                    nonlinear: ⋅⋅⋅⋅⋅⋅⋅⋅⋅⋅⋅⋅⋅⋅⋅⋅⋅⋅⋅⋅ 0     \n",
       "                                                         nnzj: ( 95.90% sparsity)   160   \n",
       "\n"
      ]
     },
     "execution_count": 152,
     "metadata": {},
     "output_type": "execute_result"
    }
   ],
   "source": [
    "# problem 4 SC50A  obj  -6.4575077059E+01\n",
    "SC50A = string(path_pb, \"\\\\SC50A.SIF\")\n",
    "qpdata4 = readqps(SC50A)\n",
    "QM4 = createQuadraticModel(qpdata4)\n",
    "SM4 = SlackModel(QM4)\n",
    "SM4.meta"
   ]
  },
  {
   "cell_type": "code",
   "execution_count": 153,
   "metadata": {},
   "outputs": [
    {
     "name": "stdout",
     "output_type": "stream",
     "text": [
      "Iter    primal      pdd      rb cond    rc cond    step x       μ\n",
      "   0  -1.00e+00   7.5e+02    1.3e+01    8.8e+00    0.0e+00   2.0e+01\n",
      "   1  -9.08e-01   1.8e+00    8.2e-01    8.0e-01    3.6e+00   3.0e-01\n",
      "   2  -2.78e-01   5.8e-02    4.0e-02    2.8e-01    5.2e+00   3.7e-02\n",
      "   3  -6.07e-01   3.1e-01    7.5e-03    7.6e-02    3.4e+00   8.7e-03\n",
      "   4  -6.16e+00   8.5e-01    3.9e-03    5.4e-02    7.2e+01   3.9e-02\n",
      "   5  -4.21e+01   9.8e-01    2.2e-04    3.8e-02    4.7e+02   9.4e-02\n",
      "   6  -3.01e+01   9.0e-01    2.2e-04    3.8e-02    1.6e+02   9.0e-02\n",
      "   7  -3.55e+01   9.3e-01    2.2e-04    3.7e-02    1.7e+02   1.0e-01\n",
      "   8  -3.48e+01   9.0e-01    2.1e-04    3.7e-02    1.2e+02   1.1e-01\n",
      "   9  -3.87e+01   8.9e-01    2.1e-04    3.6e-02    6.7e+01   1.1e-01\n",
      "  10  -4.46e+01   8.9e-01    2.1e-04    3.5e-02    1.0e+02   1.2e-01\n",
      "  11  -5.29e+01   6.9e-01    2.1e-04    3.2e-02    1.7e+02   2.3e-01\n",
      "  12  -5.22e+01   6.6e-01    2.0e-04    3.2e-02    1.2e+02   2.5e-01\n",
      "  13  -4.95e+01   1.9e-01    1.8e-04    2.4e-02    1.0e+02   3.7e-01\n",
      "  14  -6.02e+01   1.7e-04    7.6e-05    8.7e-03    1.5e+02   2.1e-01\n",
      "  15  -6.07e+01   1.1e-02    6.9e-05    8.0e-03    2.4e+01   2.1e-01\n",
      "  16  -6.24e+01   2.7e-02    3.8e-05    1.7e-03    2.6e+01   6.4e-02\n",
      "  17  -6.45e+01   2.2e-03    8.0e-07    1.7e-07    3.1e+01   1.8e-03\n",
      "  18  -6.46e+01   3.5e-06    1.6e-09    3.3e-09    9.9e-01   3.0e-06\n",
      "  19  -6.46e+01   3.3e-09    1.6e-12    1.3e-11    2.2e-03   3.0e-09\n",
      "\n",
      " stopping criterion = [\"optimal\"]\n",
      "Generic Execution stats\n",
      "  status: solved to within acceptable tolerances\n",
      "  objective value: -64.57507692199508\n",
      "  primal feasibility: 1.604335625714003e-12\n",
      "  dual feasibility: 1.2716227376641243e-11\n",
      "  solution: [6.538215574551859e-8  16.568692207083014  64.57507699795644  64.57507692199508 ⋯ -1.2997389920039857e-8]\n",
      "  multipliers: [-2.971147458850861e-11  -0.13870541643729553  -1048.3399135617217  -0.20805812453200315 ⋯ -0.29722589091045515]\n",
      "  multipliers_L: [0.013626280994953699  1.0100202439501477e-10  2.8627252871680835e-11  3.713570241119924e-11 ⋯ 0.0]\n",
      "  multipliers_U: [0.0  0.0  0.0  0.0 ⋯ 0.2972258909102614]\n",
      "  iterations: 19\n",
      "  elapsed time: 0.3640000820159912\n"
     ]
    }
   ],
   "source": [
    "stats_mpc4 =  mehrotraPCQuadBounds(SM4, 20);\n",
    "println(stats_mpc4)"
   ]
  },
  {
   "cell_type": "markdown",
   "metadata": {},
   "source": [
    "# Tests sur tous les problèmes"
   ]
  },
  {
   "cell_type": "code",
   "execution_count": 58,
   "metadata": {},
   "outputs": [
    {
     "name": "stdout",
     "output_type": "stream",
     "text": [
      "ADLITTLE.SIF\n"
     ]
    },
    {
     "name": "stderr",
     "output_type": "stream",
     "text": [
      "┌ Info: Using 'ADLITTLE' as NAME (l. 5)\n",
      "└ @ QPSReader C:\\Users\\Geoffroy Leconte\\.julia\\packages\\QPSReader\\usDQr\\src\\readqps.jl:751\n",
      "┌ Info: Using '.Z....' as objective (l. 20)\n",
      "└ @ QPSReader C:\\Users\\Geoffroy Leconte\\.julia\\packages\\QPSReader\\usDQr\\src\\readqps.jl:350\n"
     ]
    },
    {
     "name": "stdout",
     "output_type": "stream",
     "text": [
      "AFIRO.SIF\n",
      "AGG.SIF\n"
     ]
    },
    {
     "name": "stderr",
     "output_type": "stream",
     "text": [
      "┌ Info: Using 'ZZZZ0001' as RHS (l. 333)\n",
      "└ @ QPSReader C:\\Users\\Geoffroy Leconte\\.julia\\packages\\QPSReader\\usDQr\\src\\readqps.jl:470\n",
      "┌ Info: Using 'AFIRO' as NAME (l. 5)\n",
      "└ @ QPSReader C:\\Users\\Geoffroy Leconte\\.julia\\packages\\QPSReader\\usDQr\\src\\readqps.jl:751\n",
      "┌ Info: Using 'COST' as objective (l. 47)\n",
      "└ @ QPSReader C:\\Users\\Geoffroy Leconte\\.julia\\packages\\QPSReader\\usDQr\\src\\readqps.jl:350\n",
      "┌ Info: Using 'B' as RHS (l. 96)\n",
      "└ @ QPSReader C:\\Users\\Geoffroy Leconte\\.julia\\packages\\QPSReader\\usDQr\\src\\readqps.jl:470\n",
      "┌ Info: Using 'AGG' as NAME (l. 5)\n",
      "└ @ QPSReader C:\\Users\\Geoffroy Leconte\\.julia\\packages\\QPSReader\\usDQr\\src\\readqps.jl:751\n",
      "┌ Info: Using 'OBJECTIV' as objective (l. 509)\n",
      "└ @ QPSReader C:\\Users\\Geoffroy Leconte\\.julia\\packages\\QPSReader\\usDQr\\src\\readqps.jl:350\n",
      "┌ Info: Using 'AGG' as RHS (l. 1852)\n",
      "└ @ QPSReader C:\\Users\\Geoffroy Leconte\\.julia\\packages\\QPSReader\\usDQr\\src\\readqps.jl:470\n"
     ]
    },
    {
     "name": "stdout",
     "output_type": "stream",
     "text": [
      "AGG2.SIF\n"
     ]
    },
    {
     "name": "stderr",
     "output_type": "stream",
     "text": [
      "┌ Info: Using 'AGG2' as NAME (l. 5)\n",
      "└ @ QPSReader C:\\Users\\Geoffroy Leconte\\.julia\\packages\\QPSReader\\usDQr\\src\\readqps.jl:751\n",
      "┌ Info: Using 'OBJECTIV' as objective (l. 536)\n",
      "└ @ QPSReader C:\\Users\\Geoffroy Leconte\\.julia\\packages\\QPSReader\\usDQr\\src\\readqps.jl:350\n"
     ]
    },
    {
     "name": "stdout",
     "output_type": "stream",
     "text": [
      "AGG3.SIF\n"
     ]
    },
    {
     "name": "stderr",
     "output_type": "stream",
     "text": [
      "┌ Info: Using 'RHS' as RHS (l. 2878)\n",
      "└ @ QPSReader C:\\Users\\Geoffroy Leconte\\.julia\\packages\\QPSReader\\usDQr\\src\\readqps.jl:470\n",
      "┌ Info: Using 'AGG3' as NAME (l. 5)\n",
      "└ @ QPSReader C:\\Users\\Geoffroy Leconte\\.julia\\packages\\QPSReader\\usDQr\\src\\readqps.jl:751\n",
      "┌ Info: Using 'OBJECTIV' as objective (l. 536)\n",
      "└ @ QPSReader C:\\Users\\Geoffroy Leconte\\.julia\\packages\\QPSReader\\usDQr\\src\\readqps.jl:350\n"
     ]
    },
    {
     "name": "stdout",
     "output_type": "stream",
     "text": [
      "BANDM.SIF\n"
     ]
    },
    {
     "name": "stderr",
     "output_type": "stream",
     "text": [
      "┌ Info: Using 'RHS' as RHS (l. 2884)\n",
      "└ @ QPSReader C:\\Users\\Geoffroy Leconte\\.julia\\packages\\QPSReader\\usDQr\\src\\readqps.jl:470\n",
      "┌ Info: Using 'BANDM' as NAME (l. 5)\n",
      "└ @ QPSReader C:\\Users\\Geoffroy Leconte\\.julia\\packages\\QPSReader\\usDQr\\src\\readqps.jl:751\n",
      "┌ Info: Using '....1' as objective (l. 20)\n",
      "└ @ QPSReader C:\\Users\\Geoffroy Leconte\\.julia\\packages\\QPSReader\\usDQr\\src\\readqps.jl:350\n",
      "┌ Info: Using 'ZZZZ0001' as RHS (l. 1815)\n",
      "└ @ QPSReader C:\\Users\\Geoffroy Leconte\\.julia\\packages\\QPSReader\\usDQr\\src\\readqps.jl:470\n"
     ]
    },
    {
     "name": "stdout",
     "output_type": "stream",
     "text": [
      "BEACONFD.SIF\n"
     ]
    },
    {
     "name": "stderr",
     "output_type": "stream",
     "text": [
      "┌ Info: Using 'BEACONFD' as NAME (l. 5)\n",
      "└ @ QPSReader C:\\Users\\Geoffroy Leconte\\.julia\\packages\\QPSReader\\usDQr\\src\\readqps.jl:751\n",
      "┌ Info: Using '11CSTR' as objective (l. 20)\n",
      "└ @ QPSReader C:\\Users\\Geoffroy Leconte\\.julia\\packages\\QPSReader\\usDQr\\src\\readqps.jl:350\n"
     ]
    },
    {
     "name": "stdout",
     "output_type": "stream",
     "text": [
      "BLEND.SIF\n",
      "BNL2.SIF\n"
     ]
    },
    {
     "name": "stderr",
     "output_type": "stream",
     "text": [
      "┌ Info: Using 'BEACON2' as RHS (l. 1996)\n",
      "└ @ QPSReader C:\\Users\\Geoffroy Leconte\\.julia\\packages\\QPSReader\\usDQr\\src\\readqps.jl:470\n",
      "┌ Info: Using 'BLEND' as NAME (l. 5)\n",
      "└ @ QPSReader C:\\Users\\Geoffroy Leconte\\.julia\\packages\\QPSReader\\usDQr\\src\\readqps.jl:751\n",
      "┌ Info: Using 'C' as objective (l. 98)\n",
      "└ @ QPSReader C:\\Users\\Geoffroy Leconte\\.julia\\packages\\QPSReader\\usDQr\\src\\readqps.jl:350\n",
      "┌ Info: Using '' as RHS (l. 376)\n",
      "└ @ QPSReader C:\\Users\\Geoffroy Leconte\\.julia\\packages\\QPSReader\\usDQr\\src\\readqps.jl:470\n",
      "┌ Info: Using 'BNL2' as NAME (l. 5)\n",
      "└ @ QPSReader C:\\Users\\Geoffroy Leconte\\.julia\\packages\\QPSReader\\usDQr\\src\\readqps.jl:751\n",
      "┌ Info: Using 'OBJ' as objective (l. 20)\n",
      "└ @ QPSReader C:\\Users\\Geoffroy Leconte\\.julia\\packages\\QPSReader\\usDQr\\src\\readqps.jl:350\n"
     ]
    },
    {
     "name": "stdout",
     "output_type": "stream",
     "text": [
      "BOEING1.SIF\n"
     ]
    },
    {
     "name": "stderr",
     "output_type": "stream",
     "text": [
      "┌ Info: Using 'RHS' as RHS (l. 11294)\n",
      "└ @ QPSReader C:\\Users\\Geoffroy Leconte\\.julia\\packages\\QPSReader\\usDQr\\src\\readqps.jl:470\n",
      "┌ Info: Using 'BOEING1' as NAME (l. 5)\n",
      "└ @ QPSReader C:\\Users\\Geoffroy Leconte\\.julia\\packages\\QPSReader\\usDQr\\src\\readqps.jl:751\n",
      "┌ Info: Using 'OBJECTIV' as objective (l. 23)\n",
      "└ @ QPSReader C:\\Users\\Geoffroy Leconte\\.julia\\packages\\QPSReader\\usDQr\\src\\readqps.jl:350\n",
      "┌ Info: Using 'RHS1' as RHS (l. 2372)\n",
      "└ @ QPSReader C:\\Users\\Geoffroy Leconte\\.julia\\packages\\QPSReader\\usDQr\\src\\readqps.jl:470\n",
      "┌ Info: Using 'RANGE1' as RANGES (l. 2446)\n",
      "└ @ QPSReader C:\\Users\\Geoffroy Leconte\\.julia\\packages\\QPSReader\\usDQr\\src\\readqps.jl:552\n"
     ]
    },
    {
     "name": "stdout",
     "output_type": "stream",
     "text": [
      "BOEING2.SIF\n"
     ]
    },
    {
     "name": "stderr",
     "output_type": "stream",
     "text": [
      "┌ Info: Using 'INTBOU' as BOUNDS (l. 2492)\n",
      "└ @ QPSReader C:\\Users\\Geoffroy Leconte\\.julia\\packages\\QPSReader\\usDQr\\src\\readqps.jl:622\n",
      "┌ Info: Using 'BOEING2' as NAME (l. 5)\n",
      "└ @ QPSReader C:\\Users\\Geoffroy Leconte\\.julia\\packages\\QPSReader\\usDQr\\src\\readqps.jl:751\n",
      "┌ Info: Using 'OBJECTIV' as objective (l. 23)\n",
      "└ @ QPSReader C:\\Users\\Geoffroy Leconte\\.julia\\packages\\QPSReader\\usDQr\\src\\readqps.jl:350\n",
      "┌ Info: Using 'RHS1' as RHS (l. 898)\n",
      "└ @ QPSReader C:\\Users\\Geoffroy Leconte\\.julia\\packages\\QPSReader\\usDQr\\src\\readqps.jl:470\n",
      "┌ Info: Using 'RANGE1' as RANGES (l. 919)\n",
      "└ @ QPSReader C:\\Users\\Geoffroy Leconte\\.julia\\packages\\QPSReader\\usDQr\\src\\readqps.jl:552\n"
     ]
    },
    {
     "name": "stdout",
     "output_type": "stream",
     "text": [
      "|\u001b[0m\u001b[1m    id \u001b[0m|\u001b[0m\u001b[1m         name \u001b[0m|\u001b[0m\u001b[1m     status \u001b[0m|\u001b[0m\u001b[1m objective \u001b[0m|\u001b[0m\u001b[1m     time \u001b[0m|\u001b[0m\u001b[1m  iter \u001b[0m|\u001b[0m\u001b[1m primal_fe\u001b[0m ⋯\n",
      "|\u001b[0m-------\u001b[0m|\u001b[0m--------------\u001b[0m|\u001b[0m------------\u001b[0m|\u001b[0m-----------\u001b[0m|\u001b[0m----------\u001b[0m|\u001b[0m-------\u001b[0m|\u001b[0m----------\u001b[0m ⋯\n",
      "|\u001b[0m\u001b[31;1m     1 \u001b[0m|\u001b[0m\u001b[31;1m ADLITTLE.SIF \u001b[0m|\u001b[0m\u001b[31;1m acceptable \u001b[0m|\u001b[0m\u001b[31;1m   2.3e+05 \u001b[0m|\u001b[0m\u001b[31;1m  8.2e-02 \u001b[0m|\u001b[0m\u001b[31;1m    38 \u001b[0m|\u001b[0m\u001b[31;1m     9.8e-\u001b[0m ⋯\n",
      "|\u001b[0m\u001b[31;1m     2 \u001b[0m|\u001b[0m\u001b[31;1m    AFIRO.SIF \u001b[0m|\u001b[0m\u001b[31;1m acceptable \u001b[0m|\u001b[0m\u001b[31;1m  -4.6e+02 \u001b[0m|\u001b[0m\u001b[31;1m  8.0e-03 \u001b[0m|\u001b[0m\u001b[31;1m    10 \u001b[0m|\u001b[0m\u001b[31;1m     8.3e-\u001b[0m ⋯\n",
      "|\u001b[0m\u001b[31;1m     3 \u001b[0m|\u001b[0m\u001b[31;1m      AGG.SIF \u001b[0m|\u001b[0m\u001b[31;1m   max_iter \u001b[0m|\u001b[0m\u001b[31;1m   1.9e+09 \u001b[0m|\u001b[0m\u001b[31;1m  6.0e-01 \u001b[0m|\u001b[0m\u001b[31;1m    40 \u001b[0m|\u001b[0m\u001b[31;1m     3.2e+\u001b[0m ⋯\n",
      "|\u001b[0m\u001b[31;1m     4 \u001b[0m|\u001b[0m\u001b[31;1m     AGG2.SIF \u001b[0m|\u001b[0m\u001b[31;1m   max_iter \u001b[0m|\u001b[0m\u001b[31;1m  -4.3e+06 \u001b[0m|\u001b[0m\u001b[31;1m  1.2e+00 \u001b[0m|\u001b[0m\u001b[31;1m    40 \u001b[0m|\u001b[0m\u001b[31;1m     4.9e+\u001b[0m ⋯\n",
      "|\u001b[0m\u001b[31;1m     5 \u001b[0m|\u001b[0m\u001b[31;1m     AGG3.SIF \u001b[0m|\u001b[0m\u001b[31;1m   max_iter \u001b[0m|\u001b[0m\u001b[31;1m   1.7e+09 \u001b[0m|\u001b[0m\u001b[31;1m  1.2e+00 \u001b[0m|\u001b[0m\u001b[31;1m    40 \u001b[0m|\u001b[0m\u001b[31;1m     1.6e+\u001b[0m ⋯\n",
      "|\u001b[0m\u001b[31;1m     6 \u001b[0m|\u001b[0m\u001b[31;1m    BANDM.SIF \u001b[0m|\u001b[0m\u001b[31;1m acceptable \u001b[0m|\u001b[0m\u001b[31;1m  -1.6e+02 \u001b[0m|\u001b[0m\u001b[31;1m  2.9e-01 \u001b[0m|\u001b[0m\u001b[31;1m    21 \u001b[0m|\u001b[0m\u001b[31;1m     3.1e-\u001b[0m ⋯\n",
      "|\u001b[0m\u001b[31;1m     7 \u001b[0m|\u001b[0m\u001b[31;1m BEACONFD.SIF \u001b[0m|\u001b[0m\u001b[31;1m acceptable \u001b[0m|\u001b[0m\u001b[31;1m   3.4e+04 \u001b[0m|\u001b[0m\u001b[31;1m  1.5e-01 \u001b[0m|\u001b[0m\u001b[31;1m    10 \u001b[0m|\u001b[0m\u001b[31;1m     7.3e-\u001b[0m ⋯\n",
      "|\u001b[0m\u001b[31;1m     8 \u001b[0m|\u001b[0m\u001b[31;1m    BLEND.SIF \u001b[0m|\u001b[0m\u001b[31;1m acceptable \u001b[0m|\u001b[0m\u001b[31;1m  -3.1e+01 \u001b[0m|\u001b[0m\u001b[31;1m  3.0e-02 \u001b[0m|\u001b[0m\u001b[31;1m    11 \u001b[0m|\u001b[0m\u001b[31;1m     4.6e-\u001b[0m ⋯\n",
      "|\u001b[0m\u001b[31;1m     9 \u001b[0m|\u001b[0m\u001b[31;1m     BNL2.SIF \u001b[0m|\u001b[0m\u001b[31;1m   max_iter \u001b[0m|\u001b[0m\u001b[31;1m   1.8e+03 \u001b[0m|\u001b[0m\u001b[31;1m  1.4e+01 \u001b[0m|\u001b[0m\u001b[31;1m    40 \u001b[0m|\u001b[0m\u001b[31;1m     1.2e-\u001b[0m ⋯\n",
      "|\u001b[0m\u001b[31;1m    10 \u001b[0m|\u001b[0m\u001b[31;1m  BOEING1.SIF \u001b[0m|\u001b[0m\u001b[31;1m   max_iter \u001b[0m|\u001b[0m\u001b[31;1m  -3.3e+02 \u001b[0m|\u001b[0m\u001b[31;1m  1.1e+00 \u001b[0m|\u001b[0m\u001b[31;1m    40 \u001b[0m|\u001b[0m\u001b[31;1m     1.4e-\u001b[0m ⋯\n",
      "|\u001b[0m\u001b[31;1m    11 \u001b[0m|\u001b[0m\u001b[31;1m  BOEING2.SIF \u001b[0m|\u001b[0m\u001b[31;1m acceptable \u001b[0m|\u001b[0m\u001b[31;1m  -3.2e+02 \u001b[0m|\u001b[0m\u001b[31;1m  1.8e-01 \u001b[0m|\u001b[0m\u001b[31;1m    22 \u001b[0m|\u001b[0m\u001b[31;1m     1.1e-\u001b[0m ⋯\n"
     ]
    },
    {
     "name": "stderr",
     "output_type": "stream",
     "text": [
      "┌ Info: Using 'INTBOU' as BOUNDS (l. 930)\n",
      "└ @ QPSReader C:\\Users\\Geoffroy Leconte\\.julia\\packages\\QPSReader\\usDQr\\src\\readqps.jl:622\n"
     ]
    }
   ],
   "source": [
    "df_test = DataFrame(id = Int[],\n",
    "         name = String[],\n",
    "         status = Symbol[],\n",
    "         objective = Float64[],\n",
    "         time = Float64[],\n",
    "         iter = Int[],\n",
    "         primal_feas = Float64[],\n",
    "         dual_feas = Float64[])\n",
    "\n",
    "\n",
    "\n",
    "i = 0\n",
    "i_stop = 11   #number of problems to solve\n",
    "for file_name in readdir(path_pb)\n",
    "    if file_name[end-3:end] == \".SIF\" && !(file_name in [\"80BAU3B.SIF\" ; \"BORE3D.SIF\"; \n",
    "                                                        \"CAPRI.SIF\"; \"CZPROB.SIF\"; \n",
    "                                                        \"ETAMACRO.SIF\"; \"FINNIS.SIF\";\n",
    "                                                        \"FORPLAN.SIF\"; \"GREENBEA.SIF\";\n",
    "                                                        \"GREENBEB.SIF\"; \"MAROS.SIF\";\n",
    "                                                        \"NESM.SIF\"; \"PEROLD.SIF\";\n",
    "                                                         \"PILOT-JA.SIF\"; \"PILOT-WE.SIF\";\n",
    "                                                         \"PILOT.SIF\"; \"PILOT4.SIF\";\n",
    "                                                         \"PILOT87.SIF\"; \"PILOTNOV.SIF\";\n",
    "                                                          \"RECIPELP.SIF\"; \"SHELL.SIF\";\n",
    "                                                         \"SIERRA.SIF\"; \"STAIR.SIF\";\n",
    "                                                         \"STANDATA.SIF\"; \"STANDGUB.SIF\";\n",
    "                                                        \"STANDMPS.SIF\"; \"TUFF.SIF\";\n",
    "                                                        \"VTP-BASE.SIF\"])   &&# problems with fixed variables\n",
    "                                        !(file_name in [\"25FV47.SIF\"; \"BNL1.SIF\";\n",
    "                                                        \"BRANDY.SIF\"; \"CRE-A.SIF\"]) # singular error\n",
    "                            \n",
    "        \n",
    "        i += 1\n",
    "        println(file_name)\n",
    "        pb_i = string(path_pb, \"\\\\\", file_name)\n",
    "        if file_name in [\"BLEND.SIF\"; \"DFL001.SIF\"; \"FORPLAN.SIF\"; \"GFRD-PNC.SIF\"; \"SIERRA.SIF\"]\n",
    "            qpdata_i = readqps(pb_i, mpsformat=:fixed) \n",
    "        else\n",
    "            qpdata_i = readqps(pb_i) \n",
    "        end\n",
    "\n",
    "        SM_i = SlackModel(createQuadraticModel(qpdata_i))\n",
    "\n",
    "        stats_mpc_i =  mehrotraPCQuadBounds(SM_i, 40, display=false)\n",
    "        \n",
    "        # \n",
    "        push!(df_test, Dict(:id => i,\n",
    "                             :name => file_name ,\n",
    "                             :status => stats_mpc_i.status,\n",
    "                             :objective => stats_mpc_i.objective,\n",
    "                             :time => stats_mpc_i.elapsed_time,\n",
    "                             :iter => stats_mpc_i.iter,\n",
    "                             :primal_feas => stats_mpc_i.primal_feas,\n",
    "                             :dual_feas => stats_mpc_i.dual_feas))\n",
    "    end\n",
    "    \n",
    "    if i == i_stop\n",
    "        break\n",
    "        break\n",
    "    end\n",
    "end\n",
    "\n",
    "markdown_table(stdout, df_test)"
   ]
  },
  {
   "cell_type": "code",
   "execution_count": null,
   "metadata": {},
   "outputs": [],
   "source": []
  },
  {
   "cell_type": "code",
   "execution_count": null,
   "metadata": {},
   "outputs": [],
   "source": []
  },
  {
   "cell_type": "code",
   "execution_count": null,
   "metadata": {},
   "outputs": [],
   "source": []
  },
  {
   "cell_type": "code",
   "execution_count": null,
   "metadata": {},
   "outputs": [],
   "source": []
  },
  {
   "cell_type": "code",
   "execution_count": 14,
   "metadata": {},
   "outputs": [
    {
     "name": "stdout",
     "output_type": "stream",
     "text": [
      "type of the fieldname nvar is Int64\n",
      "type of the fieldname x0 is Array{T,1} where T\n",
      "type of the fieldname lvar is Array{T,1} where T\n",
      "type of the fieldname uvar is Array{T,1} where T\n",
      "type of the fieldname ifix is Array{Int64,1}\n",
      "type of the fieldname ilow is Array{Int64,1}\n",
      "type of the fieldname iupp is Array{Int64,1}\n",
      "type of the fieldname irng is Array{Int64,1}\n",
      "type of the fieldname ifree is Array{Int64,1}\n",
      "type of the fieldname iinf is Array{Int64,1}\n",
      "type of the fieldname nbv is Int64\n",
      "type of the fieldname niv is Int64\n",
      "type of the fieldname nlvb is Int64\n",
      "type of the fieldname nlvo is Int64\n",
      "type of the fieldname nlvc is Int64\n",
      "type of the fieldname nlvbi is Int64\n",
      "type of the fieldname nlvci is Int64\n",
      "type of the fieldname nlvoi is Int64\n",
      "type of the fieldname nwv is Int64\n",
      "type of the fieldname ncon is Int64\n",
      "type of the fieldname y0 is Array{T,1} where T\n",
      "type of the fieldname lcon is Array{T,1} where T\n",
      "type of the fieldname ucon is Array{T,1} where T\n",
      "type of the fieldname jfix is Array{Int64,1}\n",
      "type of the fieldname jlow is Array{Int64,1}\n",
      "type of the fieldname jupp is Array{Int64,1}\n",
      "type of the fieldname jrng is Array{Int64,1}\n",
      "type of the fieldname jfree is Array{Int64,1}\n",
      "type of the fieldname jinf is Array{Int64,1}\n",
      "type of the fieldname nnzo is Int64\n",
      "type of the fieldname nnzj is Int64\n",
      "type of the fieldname nnzh is Int64\n",
      "type of the fieldname nlin is Int64\n",
      "type of the fieldname nnln is Int64\n",
      "type of the fieldname nnnet is Int64\n",
      "type of the fieldname nlnet is Int64\n",
      "type of the fieldname lin is Array{Int64,1}\n",
      "type of the fieldname nln is Array{Int64,1}\n",
      "type of the fieldname nnet is Array{Int64,1}\n",
      "type of the fieldname lnet is Array{Int64,1}\n",
      "type of the fieldname minimize is Bool\n",
      "type of the fieldname nlo is Int64\n",
      "type of the fieldname islp is Bool\n",
      "type of the fieldname name is String\n"
     ]
    }
   ],
   "source": [
    "T = typeof(SM2.meta)\n",
    "for (name, typ) in zip(fieldnames(T), T.types)\n",
    "    println(\"type of the fieldname $name is $typ\")\n",
    "end"
   ]
  },
  {
   "cell_type": "code",
   "execution_count": 90,
   "metadata": {},
   "outputs": [
    {
     "name": "stderr",
     "output_type": "stream",
     "text": [
      "┌ Info: Using 'AGG' as NAME (l. 5)\n",
      "└ @ QPSReader C:\\Users\\Geoffroy Leconte\\.julia\\packages\\QPSReader\\usDQr\\src\\readqps.jl:751\n",
      "┌ Info: Using 'OBJECTIV' as objective (l. 509)\n",
      "└ @ QPSReader C:\\Users\\Geoffroy Leconte\\.julia\\packages\\QPSReader\\usDQr\\src\\readqps.jl:350\n",
      "┌ Info: Using 'AGG' as RHS (l. 1852)\n",
      "└ @ QPSReader C:\\Users\\Geoffroy Leconte\\.julia\\packages\\QPSReader\\usDQr\\src\\readqps.jl:470\n"
     ]
    }
   ],
   "source": [
    "# problems: AGG.SIF\n",
    "qpdata5 = readqps(string(path_pb, \"\\\\AGG.SIF\"))\n",
    "QM5 = createQuadraticModel(qpdata5)\n",
    "SM5 = SlackModel(QM5);"
   ]
  },
  {
   "cell_type": "code",
   "execution_count": 91,
   "metadata": {},
   "outputs": [
    {
     "name": "stdout",
     "output_type": "stream",
     "text": [
      "Iter    primal      pdd      rb cond    rc cond    step x       μ\n",
      "   0   2.03e+03   1.8e+04    3.2e+06    5.3e+02    0.0e+00   7.4e+04\n",
      "   1   1.96e+03   6.2e+05    1.8e+06    2.4e+02    3.9e+01   7.4e+04\n",
      "   2   1.83e+03   5.2e+05    1.8e+06    2.4e+02    1.7e+01   7.4e+04\n",
      "   3   2.06e+03   4.2e+05    1.8e+06    2.4e+02    1.0e+01   7.4e+04\n",
      "   4   1.98e+03   4.1e+05    1.8e+06    2.4e+02    3.5e+01   7.4e+04\n",
      "   5   1.77e+03   4.4e+05    1.8e+06    2.4e+02    6.3e+01   7.4e+04\n",
      "   6   1.54e+03   4.6e+05    1.8e+06    2.4e+02    5.5e+01   7.4e+04\n",
      "   7   1.41e+03   5.0e+05    1.8e+06    2.4e+02    1.2e+01   7.4e+04\n",
      "   8   6.57e+02   1.0e+06    1.8e+06    2.4e+02    1.1e+02   7.4e+04\n",
      "   9  -2.01e+03   3.7e+05    1.8e+06    2.4e+02    4.1e+02   7.4e+04\n",
      "  10  -6.96e+03   7.3e+04    1.8e+06    2.4e+02    8.6e+02   7.5e+04\n",
      "  11  -3.23e+04   2.4e+04    1.8e+06    2.4e+02    3.9e+03   7.7e+04\n",
      "  12  -4.28e+04   7.6e+03    1.8e+06    2.4e+02    2.0e+03   7.8e+04\n",
      "  13  -6.77e+04   8.0e+03    1.8e+06    2.4e+02    3.6e+03   7.9e+04\n",
      "  14  -8.85e+04   6.2e+03    1.8e+06    2.4e+02    2.1e+03   7.9e+04\n",
      "  15  -2.93e+05   3.2e+03    1.8e+06    2.4e+02    4.2e+04   9.8e+04\n",
      "  16  -3.20e+05   2.1e+03    1.8e+06    2.4e+02    1.1e+04   1.0e+05\n",
      "  17  -2.32e+05   2.8e+03    1.8e+06    2.4e+02    3.0e+04   1.2e+05\n",
      "  18   4.82e+06   1.3e+02    1.8e+06    2.4e+02    1.1e+05   1.7e+05\n",
      "  19   5.33e+07   1.1e+01    1.8e+06    2.4e+02    1.1e+05   1.8e+05\n",
      "  20   1.94e+08   2.4e+00    1.8e+06    2.4e+02    3.1e+05   1.9e+05\n",
      "  21   4.18e+08   5.6e-01    1.8e+06    2.4e+02    4.8e+05   1.9e+05\n",
      "  22   7.02e+08   7.5e-02    1.8e+06    2.4e+02    6.1e+05   2.0e+05\n",
      "  23   7.56e+08   1.4e-01    1.8e+06    2.4e+02    1.2e+05   2.0e+05\n",
      "  24   1.51e+09   5.7e-01    1.8e+06    2.4e+02    1.6e+06   2.2e+05\n",
      "  25   1.50e+09   5.7e-01    1.8e+06    2.4e+02    1.7e+05   2.2e+05\n",
      "  26   1.53e+09   5.8e-01    1.8e+06    2.4e+02    1.2e+05   2.2e+05\n",
      "  27   1.78e+09   6.4e-01    1.8e+06    2.4e+02    7.1e+05   2.3e+05\n",
      "  28   1.85e+09   6.5e-01    1.8e+06    2.4e+02    4.6e+05   2.3e+05\n",
      "  29   1.85e+09   6.5e-01    1.8e+06    2.4e+02    3.4e+04   2.3e+05\n",
      "  30   1.97e+09   6.8e-01    1.8e+06    2.4e+02    4.8e+05   2.5e+05\n",
      "  31   2.19e+09   7.1e-01    1.8e+06    2.4e+02    8.2e+05   2.7e+05\n",
      "  32   2.66e+09   7.7e-01    1.8e+06    2.4e+02    1.8e+06   2.9e+05\n",
      "  33   2.63e+09   7.7e-01    1.8e+06    2.4e+02    5.6e+05   3.1e+05\n",
      "  34   2.70e+09   7.7e-01    1.8e+06    2.4e+02    7.5e+05   3.2e+05\n",
      "  35   2.70e+09   7.8e-01    1.8e+06    2.4e+02    1.9e+04   3.3e+05\n",
      "  36   2.48e+09   7.6e-01    1.8e+06    2.4e+02    1.4e+06   3.5e+05\n",
      "  37   2.49e+09   7.8e-01    1.8e+06    2.4e+02    6.3e+05   4.4e+05\n",
      "  38   2.41e+09   8.2e-01    1.8e+06    2.4e+02    9.2e+05   6.4e+05\n",
      "  39   2.20e+09   8.1e-01    1.8e+06    2.4e+02    1.5e+06   6.3e+05\n",
      "  40   2.22e+09   8.1e-01    1.8e+06    2.4e+02    2.4e+05   6.3e+05\n",
      "  41   2.20e+09   8.6e-01    1.8e+06    2.4e+02    7.3e+05   8.6e+05\n",
      "  42   2.01e+09   8.7e-01    1.8e+06    2.4e+02    1.2e+06   1.1e+06\n",
      "  43   1.98e+09   1.1e+00    1.8e+06    2.3e+02    3.6e+05   1.9e+06\n",
      "  44   1.64e+09   1.3e+00    1.7e+06    2.1e+02    1.2e+06   2.6e+06\n",
      "  45   9.93e+08   1.6e+00    1.4e+06    2.0e+02    2.4e+06   3.0e+06\n",
      "  46   9.36e+08   1.7e+00    1.3e+06    1.9e+02    5.6e+05   3.1e+06\n",
      "  47   6.31e+08   2.5e+00    9.2e+05    6.7e+01    1.4e+06   3.0e+06\n",
      "  48   3.72e+08   3.0e+00    5.8e+05    1.1e+01    8.9e+05   2.2e+06\n",
      "  49   1.33e+08   4.3e+00    2.1e+05    2.7e+00    9.5e+05   1.1e+06\n",
      "  50   1.45e+07   1.3e+01    5.6e+04    6.8e-01    7.6e+05   3.5e+05\n",
      "  51  -1.77e+07   5.2e+00    1.8e+04    2.9e-01    5.6e+05   1.7e+05\n",
      "  52  -2.73e+07   9.3e-01    8.2e+03    4.1e-02    2.9e+05   5.0e+04\n",
      "  53  -3.34e+07   4.4e-01    1.3e+03    2.5e-02    2.1e+05   2.6e+04\n",
      "  54  -3.50e+07   1.1e-01    4.6e+02    1.3e-03    1.7e+05   7.4e+03\n",
      "  55  -3.55e+07   2.8e-02    2.4e+02    1.4e-03    9.5e+04   2.2e+03\n",
      "  56  -3.59e+07   8.8e-03    7.7e+00    1.8e-03    2.7e+05   6.0e+02\n",
      "  57  -3.60e+07   2.2e-03    2.9e+00    7.5e-04    4.8e+04   1.6e+02\n",
      "  58  -3.60e+07   5.0e-04    6.0e-05    2.5e-04    3.0e+04   3.2e+01\n",
      "  59  -3.60e+07   6.1e-05    1.7e-05    4.3e-05    4.7e+03   4.2e+00\n",
      "  60  -3.60e+07   5.6e-06    8.2e-07    1.1e-05    1.2e+03   3.5e-01\n",
      "  61  -3.60e+07   1.5e-07    4.8e-08    1.3e-07    3.4e+01   1.0e-02\n",
      "  62  -3.60e+07   2.1e-10    1.8e-09    1.2e-08    2.4e+00   1.0e-05\n",
      "\n",
      " stopping criterion = [\"optimal\"]\n",
      "Generic Execution stats\n",
      "  status: solved to within acceptable tolerances\n",
      "  objective value: -3.5991767285641536e7\n",
      "  primal feasibility: 1.7851825676073237e-9\n",
      "  dual feasibility: 1.155152506981949e-8\n",
      "  solution: [1.0300221643402326e-12  1.767108387065256e-12  1.4728326706225318e-6  3.971662093266463e-7 ⋯ 644932.0000070181]\n",
      "  multipliers: [-4.2681719273144724e-10  -4.80160337504113e-9  -1.6005594708174708e-9  -1.280451578765136e-9 ⋯ 74.72063653924755]\n",
      "  multipliers_L: [9.89089470697371e6  5.765260425988613e6  6.917048661039927  25.650488053605475 ⋯ 0.0]\n",
      "  multipliers_U: [0.0  0.0  0.0  0.0 ⋯ 1.2177165096724234e-11]\n",
      "  iterations: 62\n",
      "  elapsed time: 1.073000192642212\n"
     ]
    }
   ],
   "source": [
    "stats_mpc_5 =  mehrotraPCQuadBounds(SM5, 150)\n",
    "println(stats_mpc_5)"
   ]
  },
  {
   "cell_type": "code",
   "execution_count": 159,
   "metadata": {},
   "outputs": [
    {
     "data": {
      "text/plain": [
       "  Problem name: Generic-slack\n",
       "   All variables: ████████████████████ 615    All constraints: ████████████████████ 488   \n",
       "            free: ⋅⋅⋅⋅⋅⋅⋅⋅⋅⋅⋅⋅⋅⋅⋅⋅⋅⋅⋅⋅ 0                 free: ⋅⋅⋅⋅⋅⋅⋅⋅⋅⋅⋅⋅⋅⋅⋅⋅⋅⋅⋅⋅ 0     \n",
       "           lower: ███████⋅⋅⋅⋅⋅⋅⋅⋅⋅⋅⋅⋅⋅ 210              lower: ⋅⋅⋅⋅⋅⋅⋅⋅⋅⋅⋅⋅⋅⋅⋅⋅⋅⋅⋅⋅ 0     \n",
       "           upper: ██████████████⋅⋅⋅⋅⋅⋅ 405              upper: ⋅⋅⋅⋅⋅⋅⋅⋅⋅⋅⋅⋅⋅⋅⋅⋅⋅⋅⋅⋅ 0     \n",
       "         low/upp: ⋅⋅⋅⋅⋅⋅⋅⋅⋅⋅⋅⋅⋅⋅⋅⋅⋅⋅⋅⋅ 0              low/upp: ⋅⋅⋅⋅⋅⋅⋅⋅⋅⋅⋅⋅⋅⋅⋅⋅⋅⋅⋅⋅ 0     \n",
       "           fixed: ⋅⋅⋅⋅⋅⋅⋅⋅⋅⋅⋅⋅⋅⋅⋅⋅⋅⋅⋅⋅ 0                fixed: ████████████████████ 488   \n",
       "          infeas: ⋅⋅⋅⋅⋅⋅⋅⋅⋅⋅⋅⋅⋅⋅⋅⋅⋅⋅⋅⋅ 0               infeas: ⋅⋅⋅⋅⋅⋅⋅⋅⋅⋅⋅⋅⋅⋅⋅⋅⋅⋅⋅⋅ 0     \n",
       "            nnzh: (100.00% sparsity)   0               linear: ████████████████████ 488   \n",
       "                                                    nonlinear: ⋅⋅⋅⋅⋅⋅⋅⋅⋅⋅⋅⋅⋅⋅⋅⋅⋅⋅⋅⋅ 0     \n",
       "                                                         nnzj: ( 99.05% sparsity)   2862  \n",
       "\n"
      ]
     },
     "execution_count": 159,
     "metadata": {},
     "output_type": "execute_result"
    }
   ],
   "source": [
    "SM5.meta\n"
   ]
  },
  {
   "cell_type": "code",
   "execution_count": 17,
   "metadata": {},
   "outputs": [
    {
     "data": {
      "text/plain": [
       "19-element Array{Int64,1}:\n",
       " 33\n",
       " 34\n",
       " 35\n",
       " 36\n",
       " 37\n",
       " 38\n",
       " 39\n",
       " 40\n",
       " 41\n",
       " 42\n",
       " 43\n",
       " 44\n",
       " 45\n",
       " 46\n",
       " 47\n",
       " 48\n",
       " 49\n",
       " 50\n",
       " 51"
      ]
     },
     "execution_count": 17,
     "metadata": {},
     "output_type": "execute_result"
    }
   ],
   "source": [
    "SM2.meta.iupp"
   ]
  },
  {
   "cell_type": "code",
   "execution_count": null,
   "metadata": {},
   "outputs": [],
   "source": []
  }
 ],
 "metadata": {
  "kernelspec": {
   "display_name": "Julia 1.4.0",
   "language": "julia",
   "name": "julia-1.4"
  },
  "language_info": {
   "file_extension": ".jl",
   "mimetype": "application/julia",
   "name": "julia",
   "version": "1.4.0"
  }
 },
 "nbformat": 4,
 "nbformat_minor": 4
}
