{
 "cells": [
  {
   "cell_type": "code",
   "execution_count": 3,
   "metadata": {},
   "outputs": [],
   "source": [
    "using Pkg"
   ]
  },
  {
   "cell_type": "code",
   "execution_count": 14,
   "metadata": {},
   "outputs": [
    {
     "data": {
      "text/plain": [
       "\"C:\\\\Program Files\\\\IBM\\\\ILOG\\\\CPLEX_Studio1210\\\\cplex\\\\bin\\\\x64_win64\""
      ]
     },
     "execution_count": 14,
     "metadata": {},
     "output_type": "execute_result"
    }
   ],
   "source": [
    "ENV[\"CPLEX_STUDIO_BINARIES\"] = \"C:\\\\Program Files\\\\IBM\\\\ILOG\\\\CPLEX_Studio1210\\\\cplex\\\\bin\\\\x64_win64\""
   ]
  },
  {
   "cell_type": "code",
   "execution_count": 15,
   "metadata": {},
   "outputs": [
    {
     "name": "stderr",
     "output_type": "stream",
     "text": [
      "\u001b[32m\u001b[1m   Building\u001b[22m\u001b[39m CPLEX → `C:\\Users\\Geoffroy Leconte\\.julia\\packages\\CPLEX\\Hxpuk\\deps\\build.log`\n"
     ]
    }
   ],
   "source": [
    "Pkg.build(\"CPLEX\")"
   ]
  },
  {
   "cell_type": "code",
   "execution_count": 28,
   "metadata": {},
   "outputs": [],
   "source": [
    "using CPLEX\n",
    "using QPSReader\n",
    "using QuadraticModels\n",
    "using NLPModels\n",
    "using SolverTools\n",
    "using SolverBenchmark\n",
    "using DataFrames\n",
    "using LinearAlgebra\n",
    "using SparseArrays"
   ]
  },
  {
   "cell_type": "code",
   "execution_count": 29,
   "metadata": {},
   "outputs": [
    {
     "data": {
      "text/plain": [
       "optimizeCPlex (generic function with 2 methods)"
      ]
     },
     "execution_count": 29,
     "metadata": {},
     "output_type": "execute_result"
    }
   ],
   "source": [
    "function createQuadraticModel(qpdata)\n",
    "    # probleme du point initial\n",
    "    #x0 = init_x0(qpdata.lvar, qpdata.uvar)\n",
    "    return QuadraticModel(qpdata.c, qpdata.qrows, qpdata.qcols, qpdata.qvals,\n",
    "            Arows=qpdata.arows, Acols=qpdata.acols, Avals=qpdata.avals, \n",
    "            lcon=qpdata.lcon, ucon=qpdata.ucon, lvar=qpdata.lvar, uvar=qpdata.uvar,\n",
    "            c0=qpdata.c0)\n",
    "\n",
    "end\n",
    "\n",
    "function display_results_CPlex(xpress_model)\n",
    "    # show results\n",
    "    sol = CPLEX.get_solution(model_cplex)\n",
    "    println(\"soln = $(sol)\")\n",
    "\n",
    "    objv = CPLEX.get_objval(model_cplex)\n",
    "    println(\"objv = $(objv)\")\n",
    "end\n",
    "    \n",
    "\n",
    "function optimizeCPlex(QM)\n",
    "    SM = SlackModel(QM)\n",
    "    \n",
    "    env = CPLEX.Env()\n",
    "    # access variables in original problem, not presolved\n",
    "    #CPLEX.set_param!(env, \"CPX_PARAM_MIPCBREDLP\", 0) \n",
    "    #CPLEX.set_param!(env, \"CPXPARAM_Barrier_Algorithm\", 0)\n",
    "    \n",
    "    CPLEX.set_param!(env, \"CPXPARAM_ScreenOutput\", 1)  # Enable output\n",
    "    CPLEX.set_param!(env, \"CPXPARAM_TimeLimit\", 3600)  # Time limit\n",
    "    CPLEX.set_param!(env, \"CPXPARAM_Threads\", 1)  # Single thread\n",
    "    CPLEX.set_param!(env, \"CPXPARAM_SolutionType\", 2)  # No crossover\n",
    "    CPLEX.set_param!(env, \"CPXPARAM_LPMethod\", 4)  # Use barrier\n",
    "    CPLEX.set_param!(env, \"CPXPARAM_Preprocessing_Presolve\", 0)  # No presolve\n",
    "    CPLEX.set_param!(env, \"CPXPARAM_Read_Scale\", -1) # no scaling\n",
    "    \n",
    "    Aeq = jac(SM, SM.meta.x0)\n",
    "    beq = SM.meta.lcon\n",
    "    H = hess(SM, zeros(length(SM.meta.x0)))\n",
    "    H = sparse(Symmetric(H, :L))\n",
    "    f = grad(SM, zeros(length(SM.meta.x0)))\n",
    "    n,m = size(Aeq)    \n",
    "    \n",
    "    model = CPLEX.cplex_model(env; f = f,\n",
    "                Aeq = Aeq, beq = beq, \n",
    "                lb = SM.meta.lvar, ub = SM.meta.uvar)\n",
    "    # H = ... if quadratic problem\n",
    "     # run optimization\n",
    "    t = @timed begin\n",
    "        CPLEX.optimize!(model)\n",
    "    end\n",
    "    \n",
    "    #println(CPLEX.c_api_solninfo(model))\n",
    "    x = CPLEX.get_solution(model)\n",
    "    \n",
    "    y = CPLEX.get_constr_duals(model)\n",
    "    \n",
    "    s = CPLEX.get_reduced_costs(model)\n",
    "    \n",
    "    if model.terminator == [0]\n",
    "        status = :acceptable\n",
    "    else\n",
    "        status = :unknown\n",
    "    end\n",
    "    #println(env)\n",
    "    #println(CPLEX.get_status(model))\n",
    "    \n",
    "    stats = GenericExecutionStats(status, SM, solution = x,\n",
    "                                  objective = CPLEX.get_objval(model), \n",
    "                                  primal_feas = norm(Aeq * x - beq, Inf),\n",
    "                                  dual_feas = norm(Aeq' * y + s - f, Inf),\n",
    "                                  iter = Int64(CPLEX.c_api_getitcnt(model)),\n",
    "                                  multipliers = y,\n",
    "                                  elapsed_time = t[2])\n",
    "    \n",
    "    return stats\n",
    "end\n",
    "\n",
    "function optimizeCPlex(qpdata::QPSData)\n",
    "    return optimizeCPlex(createQuadraticModel(qpdata))\n",
    "end"
   ]
  },
  {
   "cell_type": "code",
   "execution_count": 30,
   "metadata": {},
   "outputs": [
    {
     "name": "stderr",
     "output_type": "stream",
     "text": [
      "┌ Info: Using 'AFIRO' as NAME (l. 5)\n",
      "└ @ QPSReader C:\\Users\\Geoffroy Leconte\\.julia\\packages\\QPSReader\\usDQr\\src\\readqps.jl:751\n",
      "┌ Info: Using 'COST' as objective (l. 47)\n",
      "└ @ QPSReader C:\\Users\\Geoffroy Leconte\\.julia\\packages\\QPSReader\\usDQr\\src\\readqps.jl:350\n",
      "┌ Info: Using 'B' as RHS (l. 96)\n",
      "└ @ QPSReader C:\\Users\\Geoffroy Leconte\\.julia\\packages\\QPSReader\\usDQr\\src\\readqps.jl:470\n"
     ]
    }
   ],
   "source": [
    "path_pb = \"C:\\\\Users\\\\Geoffroy Leconte\\\\Documents\\\\cours\\\\TFE\\\\code\\\\problemes_netlib\"\n",
    "afiro = string(path_pb, \"\\\\AFIRO.SIF\")\n",
    "qpdata2 = readqps(afiro);"
   ]
  },
  {
   "cell_type": "code",
   "execution_count": 31,
   "metadata": {},
   "outputs": [
    {
     "name": "stdout",
     "output_type": "stream",
     "text": [
      "Version identifier: 12.10.0.0 | 2019-11-26 | 843d4de2ae\r\n",
      "CPXPARAM_Preprocessing_Presolve                  0\r\n",
      "CPXPARAM_Read_Scale                              -1\r\n",
      "CPXPARAM_LPMethod                                4\r\n",
      "CPXPARAM_Threads                                 1\r\n",
      "CPXPARAM_SolutionType                            2\r\n",
      "CPXPARAM_TimeLimit                               3600\r\n",
      "Tried aggregator 0 times.\r\n",
      "Reduced presolve eliminated 3 rows and 19 columns.\r\n",
      "Reduced LP has 24 rows, 32 columns, and 79 nonzeros.\r\n",
      "Presolve time = 0.00 sec. (0.03 ticks)\r\n",
      "Parallel mode: none, using 1 thread for barrier\r\n",
      "Number of nonzeros in lower triangle of A*A' = 55\r\n",
      "Using Approximate Minimum Degree ordering\r\n",
      "Total time for automatic ordering = 0.00 sec. (0.01 ticks)\r\n",
      "Summary statistics for Cholesky factor:\r\n",
      "  Rows in Factor            = 24\r\n",
      "  Integer space required    = 30\r\n",
      "  Total non-zeros in factor = 223\r\n",
      "  Total FP ops to factor    = 2913\r\n",
      " Itn      Primal Obj        Dual Obj  Prim Inf Upper Inf  Dual Inf Inf Ratio\r\n",
      "   0   1.2195180e+03  -6.3800000e+03  6.84e+03  2.17e+02  4.87e+02  1.00e+00\r\n",
      "   1   4.2614933e+02  -2.6071516e+03  1.34e+03  4.28e+01  2.17e+02  9.19e-03\r\n",
      "   2  -9.3557301e+01  -4.6092205e+02  4.29e+01  1.37e+00  3.09e+01  5.04e-02\r\n",
      "   3  -1.9540809e+02  -2.5890546e+02  7.84e-01  2.49e-02  7.30e+00  1.89e-01\r\n",
      "   4  -4.2836034e+02  -4.8374524e+02  1.99e-01  6.34e-03  7.00e-01  1.43e+00\r\n",
      "   5  -4.5998128e+02  -4.6569591e+02  2.40e-02  7.63e-04  5.33e-02  6.99e+00\r\n",
      "   6  -4.6474421e+02  -4.6475403e+02  4.75e-05  1.51e-06  2.12e-05  1.58e+04\r\n",
      "   7  -4.6475314e+02  -4.6475314e+02  5.61e-09  1.78e-10  4.30e-09  3.47e+07\r\n",
      "Barrier time = 0.00 sec. (0.22 ticks)\r\n",
      "\r\n",
      "Total time on 1 threads = 0.00 sec. (0.22 ticks)\r\n",
      "Generic Execution stats\n",
      "  status: solved to within acceptable tolerances\n",
      "  objective value: -464.7531420521276\n",
      "  primal feasibility: 5.878533215764037e-10\n",
      "  dual feasibility: 1.0240774894754168e-10\n",
      "  solution: [79.99999993507953  25.499999899765772  54.50000003543575  84.79999993117698 ⋯ 208.00119237700716]\n",
      "  multipliers: [-0.6285714300071452  -2.4568971418110746e-10  -0.34477143056688053  -0.2285714289303309 ⋯ -1.303423535443981e-10]\n",
      "  iterations: 0\n",
      "  elapsed time: 0.0008639\n"
     ]
    }
   ],
   "source": [
    "stats2 = optimizeCPlex(qpdata2)\n",
    "println(stats2)"
   ]
  },
  {
   "cell_type": "code",
   "execution_count": 32,
   "metadata": {},
   "outputs": [
    {
     "name": "stderr",
     "output_type": "stream",
     "text": [
      "┌ Info: Using '25FV47' as NAME (l. 5)\n",
      "└ @ QPSReader C:\\Users\\Geoffroy Leconte\\.julia\\packages\\QPSReader\\usDQr\\src\\readqps.jl:751\n",
      "┌ Info: Using 'R0000' as objective (l. 21)\n",
      "└ @ QPSReader C:\\Users\\Geoffroy Leconte\\.julia\\packages\\QPSReader\\usDQr\\src\\readqps.jl:350\n"
     ]
    },
    {
     "name": "stdout",
     "output_type": "stream",
     "text": [
      "Version identifier: 12.10.0.0 | 2019-11-26 | 843d4de2ae\r\n",
      "CPXPARAM_Preprocessing_Presolve                  0\r\n",
      "CPXPARAM_Read_Scale                              -1\r\n",
      "CPXPARAM_LPMethod                                4\r\n",
      "CPXPARAM_Threads                                 1\r\n",
      "CPXPARAM_SolutionType                            2\r\n",
      "CPXPARAM_TimeLimit                               3600\r\n",
      "Tried aggregator 0 times.\r\n",
      "Reduced presolve eliminated 50 rows and 340 columns.\r\n",
      "Reduced LP has 771 rows, 1536 columns, and 10116 nonzeros.\r\n",
      "Presolve time = 0.02 sec. (2.47 ticks)\r\n",
      "Parallel mode: none, using 1 thread for barrier\r\n",
      "Number of nonzeros in lower triangle of A*A' = 10653\r\n",
      "Using Approximate Minimum Degree ordering\r\n",
      "Total time for automatic ordering = 0.00 sec. (1.10 ticks)\r\n",
      "Summary statistics for Cholesky factor:\r\n",
      "  Rows in Factor            = 771\r\n",
      "  Integer space required    = 4722\r\n",
      "  Total non-zeros in factor = 35724\r\n",
      "  Total FP ops to factor    = 2590312\r\n",
      " Itn      Primal Obj        Dual Obj  Prim Inf Upper Inf  Dual Inf Inf Ratio\r\n",
      "   0   9.4866196e+04  -1.1301621e+04  3.01e+06  2.84e+03  1.73e+04  1.00e+00\r\n",
      "   1   4.1572565e+04  -4.3968579e+03  1.21e+06  1.14e+03  1.05e+04  1.03e-02\r\n",
      "   2   1.8503905e+04   3.1379004e+03  3.70e+05  3.50e+02  4.31e+03  1.09e-02\r\n",
      "   3   1.2749445e+04   6.2527279e+03  1.41e+05  1.33e+02  2.11e+03  1.90e-02\r\n",
      "   4   1.0428211e+04   7.0499533e+03  7.09e+04  6.69e+01  1.19e+03  3.22e-02\r\n",
      "   5   8.6643251e+03   6.8925841e+03  3.71e+04  3.51e+01  6.08e+02  6.12e-02\r\n",
      "   6   7.7801677e+03   6.7713310e+03  2.03e+04  1.92e+01  2.09e+02  1.83e-01\r\n",
      "   7   7.0299213e+03   6.3055086e+03  1.32e+04  1.25e+01  1.24e+02  3.01e-01\r\n",
      "   8   6.6479503e+03   6.1150700e+03  9.45e+03  8.92e+00  8.51e+01  4.40e-01\r\n",
      "   9   6.2685896e+03   5.8953311e+03  6.23e+03  5.88e+00  5.28e+01  6.95e-01\r\n",
      "  10   6.0508184e+03   5.8726611e+03  3.38e+03  3.19e+00  4.12e+01  9.42e-01\r\n",
      "  11   5.8844749e+03   5.7450551e+03  2.29e+03  2.16e+00  2.56e+01  1.54e+00\r\n",
      "  12   5.7014861e+03   5.6641439e+03  1.03e+03  9.70e-01  1.49e+01  2.62e+00\r\n",
      "  13   5.6869415e+03   5.6387315e+03  9.05e+02  8.54e-01  1.04e+01  4.02e+00\r\n",
      "  14   5.6212907e+03   5.6136828e+03  5.74e+02  5.42e-01  8.42e+00  4.89e+00\r\n",
      "  15   5.5940499e+03   5.5819745e+03  4.18e+02  3.95e-01  5.55e+00  7.70e+00\r\n",
      "  16   5.5526404e+03   5.5390953e+03  2.14e+02  2.02e-01  2.27e+00  1.94e+01\r\n",
      "  17   5.5238896e+03   5.5135933e+03  9.05e+01  8.55e-02  6.76e-01  6.11e+01\r\n",
      "  18   5.5126836e+03   5.5062482e+03  4.56e+01  4.31e-02  2.72e-01  1.35e+02\r\n",
      "  19   5.5090435e+03   5.5030008e+03  3.09e+01  2.91e-02  8.81e-02  3.61e+02\r\n",
      "  20   5.5038658e+03   5.5018259e+03  9.12e+00  8.61e-03  8.87e-03  2.22e+03\r\n",
      "  21   5.5020894e+03   5.5018344e+03  1.13e+00  1.07e-03  2.05e-03  8.85e+03\r\n",
      "  22   5.5018784e+03   5.5018358e+03  1.85e-01  1.74e-04  1.10e-03  1.48e+04\r\n",
      "  23   5.5018465e+03   5.5018460e+03  2.67e-03  2.52e-06  1.16e-05  2.01e+06\r\n",
      "  24   5.5018459e+03   5.5018459e+03  4.57e-07  3.71e-10  1.49e-09  1.54e+10\r\n",
      "Barrier time = 0.05 sec. (55.64 ticks)\r\n",
      "\r\n",
      "Total time on 1 threads = 0.05 sec. (55.64 ticks)\r\n",
      "Generic Execution stats\n",
      "  status: solved to within acceptable tolerances\n",
      "  objective value: 5501.84588838293\n",
      "  primal feasibility: 5.078078402220854e-9\n",
      "  dual feasibility: 2.7409186031945865e-12\n",
      "  solution: [53.138865225648516  7.840077322805033e-8  7.842903137779827e-8  34.22576865096348 ⋯ 246.99999999995742]\n",
      "  multipliers: [0.0  2.8296892959434627  2.9002527860312015  2.7619010866630487 ⋯ -2.674289484694774]\n",
      "  iterations: 0\n",
      "  elapsed time: 0.047405401\n"
     ]
    },
    {
     "name": "stderr",
     "output_type": "stream",
     "text": [
      "┌ Info: Using '.00001' as RHS (l. 6793)\n",
      "└ @ QPSReader C:\\Users\\Geoffroy Leconte\\.julia\\packages\\QPSReader\\usDQr\\src\\readqps.jl:470\n"
     ]
    }
   ],
   "source": [
    "# problem 3   kb2    obj  -1.7499001299E+03\n",
    "kb2 = string(path_pb, \"\\\\25FV47.SIF\")\n",
    "qpdata3 = readqps(kb2)\n",
    "stats3 =  optimizeCPlex(qpdata3)\n",
    "println(stats3)"
   ]
  },
  {
   "cell_type": "code",
   "execution_count": null,
   "metadata": {},
   "outputs": [],
   "source": []
  },
  {
   "cell_type": "code",
   "execution_count": null,
   "metadata": {},
   "outputs": [],
   "source": []
  }
 ],
 "metadata": {
  "kernelspec": {
   "display_name": "Julia 1.4.0",
   "language": "julia",
   "name": "julia-1.4"
  },
  "language_info": {
   "file_extension": ".jl",
   "mimetype": "application/julia",
   "name": "julia",
   "version": "1.4.0"
  }
 },
 "nbformat": 4,
 "nbformat_minor": 4
}
