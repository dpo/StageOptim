{
 "cells": [
  {
   "cell_type": "code",
   "execution_count": 1,
   "metadata": {},
   "outputs": [],
   "source": [
    "using Pkg"
   ]
  },
  {
   "cell_type": "code",
   "execution_count": 12,
   "metadata": {},
   "outputs": [
    {
     "data": {
      "text/plain": [
       "\"C:\\\\Program Files\\\\IBM\\\\ILOG\\\\CPLEX_Studio_Community129\\\\cplex\\\\bin\\\\x64_win64\""
      ]
     },
     "execution_count": 12,
     "metadata": {},
     "output_type": "execute_result"
    }
   ],
   "source": [
    "ENV[\"CPLEX_STUDIO_BINARIES\"] = \"C:\\\\Program Files\\\\IBM\\\\ILOG\\\\CPLEX_Studio_Community129\\\\cplex\\\\bin\\\\x64_win64\""
   ]
  },
  {
   "cell_type": "code",
   "execution_count": 13,
   "metadata": {},
   "outputs": [
    {
     "name": "stderr",
     "output_type": "stream",
     "text": [
      "\u001b[32m\u001b[1m   Building\u001b[22m\u001b[39m MbedTLS → `C:\\Users\\Geoffroy Leconte\\.julia\\packages\\MbedTLS\\a1JFn\\deps\\build.log`\n",
      "\u001b[32m\u001b[1m   Building\u001b[22m\u001b[39m CPLEX ──→ `C:\\Users\\Geoffroy Leconte\\.julia\\packages\\CPLEX\\Hxpuk\\deps\\build.log`\n"
     ]
    }
   ],
   "source": [
    "Pkg.build(\"CPLEX\")"
   ]
  },
  {
   "cell_type": "code",
   "execution_count": 1,
   "metadata": {},
   "outputs": [
    {
     "name": "stderr",
     "output_type": "stream",
     "text": [
      "┌ Info: Precompiling CPLEX [a076750e-1247-5638-91d2-ce28b192dca0]\n",
      "└ @ Base loading.jl:1260\n"
     ]
    }
   ],
   "source": [
    "using CPLEX\n",
    "using QPSReader\n",
    "using QuadraticModels\n",
    "using NLPModels\n",
    "using SolverTools\n",
    "using SolverBenchmark\n",
    "using DataFrames"
   ]
  },
  {
   "cell_type": "code",
   "execution_count": 26,
   "metadata": {},
   "outputs": [
    {
     "data": {
      "text/plain": [
       "OptimizeCPlex (generic function with 1 method)"
      ]
     },
     "execution_count": 26,
     "metadata": {},
     "output_type": "execute_result"
    }
   ],
   "source": [
    "function createQuadraticModel(qpdata)\n",
    "    # probleme du point initial\n",
    "    #x0 = init_x0(qpdata.lvar, qpdata.uvar)\n",
    "    return QuadraticModel(qpdata.c, qpdata.qrows, qpdata.qcols, qpdata.qvals,\n",
    "            Arows=qpdata.arows, Acols=qpdata.acols, Avals=qpdata.avals, \n",
    "            lcon=qpdata.lcon, ucon=qpdata.ucon, lvar=qpdata.lvar, uvar=qpdata.uvar,\n",
    "            c0=qpdata.c0)\n",
    "\n",
    "end\n",
    "\n",
    "function display_results_CPlex(xpress_model)\n",
    "    # show results\n",
    "    sol = CPLEX.get_solution(model_cplex)\n",
    "    println(\"soln = $(sol)\")\n",
    "\n",
    "    objv = CPLEX.get_objval(model_cplex)\n",
    "    println(\"objv = $(objv)\")\n",
    "end\n",
    "    \n",
    "\n",
    "function OptimizeCPlex(qpdata)\n",
    "    QM = createQuadraticModel(qpdata)\n",
    "    SM = SlackModel(QM)\n",
    "    \n",
    "    env = CPLEX.Env()\n",
    "    \n",
    "    model = CPLEX.cplex_model(env; f = grad(SM, zeros(length(SM.meta.x0))),\n",
    "                Aeq = jac(SM, SM.meta.x0), beq = SM.meta.lcon, \n",
    "                lb = SM.meta.lvar, ub = SM.meta.uvar)\n",
    "    # H = ... if quadratic problem\n",
    "     # run optimization\n",
    "    CPLEX.optimize!(model)\n",
    "    \n",
    "    if model.terminator == [0]\n",
    "        ExStats_status = :acceptable\n",
    "    end\n",
    "    \n",
    "    GenExStats = GenericExecutionStats(ExStats_status, SM, solution = CPLEX.get_solution(model),\n",
    "                               objective = CPLEX.get_objval(model), iter = Int64(CPLEX.c_api_getitcnt(model)),\n",
    "                                multipliers = CPLEX.get_constr_duals(model))\n",
    "    println(SM.meta.uvar)\n",
    "    println(GenExStats)\n",
    "    \n",
    "    return model\n",
    "end"
   ]
  },
  {
   "cell_type": "code",
   "execution_count": 27,
   "metadata": {},
   "outputs": [
    {
     "name": "stderr",
     "output_type": "stream",
     "text": [
      "┌ Info: Using 'AFIRO' as NAME (l. 5)\n",
      "└ @ QPSReader C:\\Users\\Geoffroy Leconte\\.julia\\packages\\QPSReader\\usDQr\\src\\readqps.jl:751\n",
      "┌ Info: Using 'COST' as objective (l. 47)\n",
      "└ @ QPSReader C:\\Users\\Geoffroy Leconte\\.julia\\packages\\QPSReader\\usDQr\\src\\readqps.jl:350\n",
      "┌ Info: Using 'B' as RHS (l. 96)\n",
      "└ @ QPSReader C:\\Users\\Geoffroy Leconte\\.julia\\packages\\QPSReader\\usDQr\\src\\readqps.jl:470\n"
     ]
    }
   ],
   "source": [
    "path_pb = \"C:\\\\Users\\\\Geoffroy Leconte\\\\Documents\\\\cours\\\\TFE\\\\code\\\\problemes_netlib\"\n",
    "afiro = string(path_pb, \"\\\\AFIRO.SIF\")\n",
    "qpdata2 = readqps(afiro);"
   ]
  },
  {
   "cell_type": "code",
   "execution_count": 28,
   "metadata": {},
   "outputs": [
    {
     "name": "stdout",
     "output_type": "stream",
     "text": [
      "[Inf, Inf, Inf, Inf, Inf, Inf, Inf, Inf, Inf, Inf, Inf, Inf, Inf, Inf, Inf, Inf, Inf, Inf, Inf, Inf, Inf, Inf, Inf, Inf, Inf, Inf, Inf, Inf, Inf, Inf, Inf, Inf, 80.0, 0.0, 80.0, 0.0, 0.0, 0.0, 500.0, 0.0, 500.0, 0.0, 0.0, 0.0, 0.0, 0.0, 0.0, 0.0, 0.0, 310.0, 300.0]\n",
      "Generic Execution stats\n",
      "  status: solved to within acceptable tolerances\n",
      "  objective value: -464.7531428571428\n",
      "  primal feasibility: Inf\n",
      "  dual feasibility: Inf\n",
      "  solution: [80.0  25.5  54.5  84.80000000000001 ⋯ 19.30714285714286]\n",
      "  multipliers: [-0.6285714285714286  0.0  -0.34477142857142856  -0.2285714285714286 ⋯ -0.0]\n",
      "  iterations: 7\n",
      "  elapsed time: Inf\n",
      "soln = [80.0, 25.5, 54.5, 84.80000000000001, 18.214285714285715, 0.0, 0.0, 0.0, 0.0, 0.0, 0.0, 0.0, 18.214285714285715, 0.0, 19.30714285714286, 500.0, 475.92, 24.08, 0.0, 215.0, 0.0, 0.0, 0.0, 0.0, 0.0, 0.0, 0.0, 0.0, 339.9428571428572, 383.9428571428572, 0.0, 0.0, 80.0, 0.0, 18.214285714285715, 0.0, -0.0, -0.0, 500.0, 0.0, -0.0, -0.0, -0.0, -0.0, 0.0, 0.0, 0.0, 0.0, -378.46035714285716, 299.8, 19.30714285714286]\n",
      "objv = -464.7531428571428\n"
     ]
    }
   ],
   "source": [
    "model_cplex = OptimizeCPlex(qpdata2)\n",
    "display_results_CPlex(model_cplex)"
   ]
  },
  {
   "cell_type": "code",
   "execution_count": 14,
   "metadata": {},
   "outputs": [
    {
     "data": {
      "text/plain": [
       "\"Execution stats: solved to within acceptable tolerances\""
      ]
     },
     "execution_count": 14,
     "metadata": {},
     "output_type": "execute_result"
    }
   ],
   "source": [
    "SM1 = SlackModel(createQuadraticModel(qpdata2))\n",
    "GenExStats = GenericExecutionStats(:acceptable, SM1, solution = CPLEX.get_solution(model_cplex),\n",
    "                               objective = CPLEX.get_objval(model_cplex),\n",
    "                                iter = Int64(CPLEX.c_api_getitcnt(model_cplex)))"
   ]
  },
  {
   "cell_type": "code",
   "execution_count": 19,
   "metadata": {},
   "outputs": [
    {
     "data": {
      "text/plain": [
       "51-element Array{Float64,1}:\n",
       "  0.0\n",
       "  0.0\n",
       "  0.0\n",
       "  0.0\n",
       "  0.0\n",
       "  0.0\n",
       "  0.0\n",
       "  0.0\n",
       "  0.0\n",
       "  0.0\n",
       "  0.0\n",
       "  0.0\n",
       "  0.0\n",
       "  ⋮\n",
       " -1.0e20\n",
       " -1.0e20\n",
       " -1.0e20\n",
       " -1.0e20\n",
       " -1.0e20\n",
       " -1.0e20\n",
       " -1.0e20\n",
       " -1.0e20\n",
       " -1.0e20\n",
       " -1.0e20\n",
       " -1.0e20\n",
       " -1.0e20"
      ]
     },
     "execution_count": 19,
     "metadata": {},
     "output_type": "execute_result"
    }
   ],
   "source": [
    "CPLEX.get_varLB(model_cplex)"
   ]
  },
  {
   "cell_type": "code",
   "execution_count": 58,
   "metadata": {},
   "outputs": [
    {
     "data": {
      "text/plain": [
       "true"
      ]
     },
     "execution_count": 58,
     "metadata": {},
     "output_type": "execute_result"
    }
   ],
   "source": [
    "model_cplex.terminator == [0]"
   ]
  },
  {
   "cell_type": "code",
   "execution_count": 30,
   "metadata": {},
   "outputs": [
    {
     "name": "stdout",
     "output_type": "stream",
     "text": [
      "type of the fieldname env is CPLEX.Env\n",
      "type of the fieldname lp is Ptr{Nothing}\n",
      "type of the fieldname has_int is Bool\n",
      "type of the fieldname has_qc is Bool\n",
      "type of the fieldname has_sos is Bool\n",
      "type of the fieldname callback is Any\n",
      "type of the fieldname terminator is Array{Int32,1}\n"
     ]
    }
   ],
   "source": [
    "T = typeof(model_cplex)\n",
    "for (name, typ) in zip(fieldnames(T), T.types)\n",
    "    println(\"type of the fieldname $name is $typ\")\n",
    "end"
   ]
  },
  {
   "cell_type": "code",
   "execution_count": 27,
   "metadata": {},
   "outputs": [
    {
     "data": {
      "text/plain": [
       ":CPX_STAT_OPTIMAL"
      ]
     },
     "execution_count": 27,
     "metadata": {},
     "output_type": "execute_result"
    }
   ],
   "source": [
    "CPLEX.get_status(model_cplex)"
   ]
  },
  {
   "cell_type": "code",
   "execution_count": 42,
   "metadata": {},
   "outputs": [
    {
     "data": {
      "text/plain": [
       "27-element Array{Float64,1}:\n",
       " -0.6285714285714286\n",
       "  0.0\n",
       " -0.34477142857142856\n",
       " -0.2285714285714286\n",
       " -0.0\n",
       "  0.0\n",
       " -0.0\n",
       " -2.249657142857143\n",
       " -0.0\n",
       " -0.0\n",
       " -0.9428571428571428\n",
       "  0.0\n",
       " -0.8743428571428571\n",
       "  ⋮\n",
       "  0.0\n",
       " -0.0\n",
       " -0.0\n",
       " -0.0\n",
       " -0.0\n",
       " -0.9428571428571428\n",
       " -0.6285714285714286\n",
       " -0.0\n",
       " -0.9428571428571428\n",
       " -0.0\n",
       " -0.0\n",
       " -0.0"
      ]
     },
     "execution_count": 42,
     "metadata": {},
     "output_type": "execute_result"
    }
   ],
   "source": [
    "CPLEX.get_constr_duals(model_cplex)"
   ]
  },
  {
   "cell_type": "code",
   "execution_count": 31,
   "metadata": {},
   "outputs": [
    {
     "data": {
      "text/plain": [
       "CPLEX.Model"
      ]
     },
     "execution_count": 31,
     "metadata": {},
     "output_type": "execute_result"
    }
   ],
   "source": [
    "T"
   ]
  },
  {
   "cell_type": "code",
   "execution_count": null,
   "metadata": {},
   "outputs": [],
   "source": []
  }
 ],
 "metadata": {
  "kernelspec": {
   "display_name": "Julia 1.4.0",
   "language": "julia",
   "name": "julia-1.4"
  },
  "language_info": {
   "file_extension": ".jl",
   "mimetype": "application/julia",
   "name": "julia",
   "version": "1.4.0"
  }
 },
 "nbformat": 4,
 "nbformat_minor": 4
}
