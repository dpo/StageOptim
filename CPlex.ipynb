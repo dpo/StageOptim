{
 "cells": [
  {
   "cell_type": "code",
   "execution_count": 1,
   "metadata": {},
   "outputs": [],
   "source": [
    "using Pkg"
   ]
  },
  {
   "cell_type": "code",
   "execution_count": 12,
   "metadata": {},
   "outputs": [
    {
     "data": {
      "text/plain": [
       "\"C:\\\\Program Files\\\\IBM\\\\ILOG\\\\CPLEX_Studio_Community129\\\\cplex\\\\bin\\\\x64_win64\""
      ]
     },
     "execution_count": 12,
     "metadata": {},
     "output_type": "execute_result"
    }
   ],
   "source": [
    "ENV[\"CPLEX_STUDIO_BINARIES\"] = \"C:\\\\Program Files\\\\IBM\\\\ILOG\\\\CPLEX_Studio_Community129\\\\cplex\\\\bin\\\\x64_win64\""
   ]
  },
  {
   "cell_type": "code",
   "execution_count": 13,
   "metadata": {},
   "outputs": [
    {
     "name": "stderr",
     "output_type": "stream",
     "text": [
      "\u001b[32m\u001b[1m   Building\u001b[22m\u001b[39m MbedTLS → `C:\\Users\\Geoffroy Leconte\\.julia\\packages\\MbedTLS\\a1JFn\\deps\\build.log`\n",
      "\u001b[32m\u001b[1m   Building\u001b[22m\u001b[39m CPLEX ──→ `C:\\Users\\Geoffroy Leconte\\.julia\\packages\\CPLEX\\Hxpuk\\deps\\build.log`\n"
     ]
    }
   ],
   "source": [
    "Pkg.build(\"CPLEX\")"
   ]
  },
  {
   "cell_type": "code",
   "execution_count": 5,
   "metadata": {},
   "outputs": [],
   "source": [
    "using CPLEX\n",
    "using QPSReader\n",
    "using QuadraticModels\n",
    "using NLPModels\n",
    "using SolverTools\n",
    "using SolverBenchmark\n",
    "using DataFrames"
   ]
  },
  {
   "cell_type": "code",
   "execution_count": 29,
   "metadata": {},
   "outputs": [
    {
     "data": {
      "text/plain": [
       "OptimizeCPlex (generic function with 2 methods)"
      ]
     },
     "execution_count": 29,
     "metadata": {},
     "output_type": "execute_result"
    }
   ],
   "source": [
    "function createQuadraticModel(qpdata)\n",
    "    # probleme du point initial\n",
    "    #x0 = init_x0(qpdata.lvar, qpdata.uvar)\n",
    "    return QuadraticModel(qpdata.c, qpdata.qrows, qpdata.qcols, qpdata.qvals,\n",
    "            Arows=qpdata.arows, Acols=qpdata.acols, Avals=qpdata.avals, \n",
    "            lcon=qpdata.lcon, ucon=qpdata.ucon, lvar=qpdata.lvar, uvar=qpdata.uvar,\n",
    "            c0=qpdata.c0)\n",
    "\n",
    "end\n",
    "\n",
    "function display_results_CPlex(xpress_model)\n",
    "    # show results\n",
    "    sol = CPLEX.get_solution(model_cplex)\n",
    "    println(\"soln = $(sol)\")\n",
    "\n",
    "    objv = CPLEX.get_objval(model_cplex)\n",
    "    println(\"objv = $(objv)\")\n",
    "end\n",
    "    \n",
    "\n",
    "function OptimizeCPlex(QM)\n",
    "    SM = SlackModel(QM)\n",
    "    \n",
    "    env = CPLEX.Env()\n",
    "    \n",
    "    model = CPLEX.cplex_model(env; f = grad(SM, zeros(length(SM.meta.x0))),\n",
    "                Aeq = jac(SM, SM.meta.x0), beq = SM.meta.lcon, \n",
    "                lb = SM.meta.lvar, ub = SM.meta.uvar)\n",
    "    # H = ... if quadratic problem\n",
    "     # run optimization\n",
    "    CPLEX.optimize!(model)\n",
    " \n",
    "    println(CPLEX.c_api_solninfo(model))\n",
    "    \n",
    "    if model.terminator == [0]\n",
    "        status = :acceptable\n",
    "    else\n",
    "        status = :unknown\n",
    "    end\n",
    "    \n",
    "    stats = GenericExecutionStats(status, SM, solution = CPLEX.get_solution(model),\n",
    "                                  objective = CPLEX.get_objval(model), iter = Int64(CPLEX.c_api_getitcnt(model)),\n",
    "                                  multipliers = CPLEX.get_constr_duals(model))\n",
    "    \n",
    "    return stats\n",
    "end\n",
    "\n",
    "function OptimizeCPlex(qpdata::QPSData)\n",
    "    return OptimizeCPlex(createQuadraticModel(qpdata))\n",
    "end"
   ]
  },
  {
   "cell_type": "code",
   "execution_count": 30,
   "metadata": {},
   "outputs": [
    {
     "name": "stderr",
     "output_type": "stream",
     "text": [
      "┌ Info: Using 'AFIRO' as NAME (l. 5)\n",
      "└ @ QPSReader C:\\Users\\Geoffroy Leconte\\.julia\\packages\\QPSReader\\usDQr\\src\\readqps.jl:751\n",
      "┌ Info: Using 'COST' as objective (l. 47)\n",
      "└ @ QPSReader C:\\Users\\Geoffroy Leconte\\.julia\\packages\\QPSReader\\usDQr\\src\\readqps.jl:350\n",
      "┌ Info: Using 'B' as RHS (l. 96)\n",
      "└ @ QPSReader C:\\Users\\Geoffroy Leconte\\.julia\\packages\\QPSReader\\usDQr\\src\\readqps.jl:470\n"
     ]
    }
   ],
   "source": [
    "path_pb = \"C:\\\\Users\\\\Geoffroy Leconte\\\\Documents\\\\cours\\\\TFE\\\\code\\\\problemes_netlib\"\n",
    "afiro = string(path_pb, \"\\\\AFIRO.SIF\")\n",
    "qpdata2 = readqps(afiro);"
   ]
  },
  {
   "cell_type": "code",
   "execution_count": 31,
   "metadata": {},
   "outputs": [
    {
     "name": "stdout",
     "output_type": "stream",
     "text": [
      "(2, 1, 1, 1)\n",
      "Generic Execution stats\n",
      "  status: solved to within acceptable tolerances\n",
      "  objective value: -464.7531428571428\n",
      "  primal feasibility: Inf\n",
      "  dual feasibility: Inf\n",
      "  solution: [80.0  25.5  54.5  84.80000000000001 ⋯ 19.30714285714286]\n",
      "  multipliers: [-0.6285714285714286  0.0  -0.34477142857142856  -0.2285714285714286 ⋯ -0.0]\n",
      "  iterations: 7\n",
      "  elapsed time: Inf\n"
     ]
    }
   ],
   "source": [
    "stats2 = OptimizeCPlex(qpdata2)\n",
    "println(stats2)"
   ]
  },
  {
   "cell_type": "code",
   "execution_count": null,
   "metadata": {},
   "outputs": [],
   "source": []
  },
  {
   "cell_type": "code",
   "execution_count": null,
   "metadata": {},
   "outputs": [],
   "source": []
  },
  {
   "cell_type": "code",
   "execution_count": null,
   "metadata": {},
   "outputs": [],
   "source": []
  }
 ],
 "metadata": {
  "kernelspec": {
   "display_name": "Julia 1.4.0",
   "language": "julia",
   "name": "julia-1.4"
  },
  "language_info": {
   "file_extension": ".jl",
   "mimetype": "application/julia",
   "name": "julia",
   "version": "1.4.0"
  }
 },
 "nbformat": 4,
 "nbformat_minor": 4
}
