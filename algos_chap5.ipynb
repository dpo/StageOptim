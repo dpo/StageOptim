{
 "cells": [
  {
   "cell_type": "markdown",
   "metadata": {},
   "source": [
    "# Problèmes\n",
    "\n",
    "### 1)\n",
    "Primal: $\\underset{x \\in \\mathbb{R}^3}{\\min} x_1 ~~ s.t. ~ x_1 + x_2 + x_3 = 1 ~, ~~ x \\ge 0$\n",
    "\n",
    "Dual: $\\underset{\\lambda \\in \\mathbb{R}, s \\in \\mathbb{R^3}}{\\max} \\lambda ~~ s.t. ~ [1~1~1]' \\lambda + s = [1~0~0]'~, ~~s\\ge0$\n",
    "\n",
    "### 2)"
   ]
  },
  {
   "cell_type": "markdown",
   "metadata": {},
   "source": [
    "## 1) Short-Step Path-Following "
   ]
  },
  {
   "cell_type": "code",
   "execution_count": 221,
   "metadata": {},
   "outputs": [],
   "source": [
    "using LinearAlgebra\n",
    "using LaTeXStrings\n",
    "using DataFrames\n",
    "using DataStructures"
   ]
  },
  {
   "cell_type": "code",
   "execution_count": 222,
   "metadata": {},
   "outputs": [
    {
     "data": {
      "text/plain": [
       "primal_dual_diff (generic function with 1 method)"
      ]
     },
     "execution_count": 222,
     "metadata": {},
     "output_type": "execute_result"
    }
   ],
   "source": [
    "function primal_dual_diff(c, b, x, lambda)\n",
    "    return abs(c'*x - b'*lambda) / (1 + abs(c'*x))\n",
    "end"
   ]
  },
  {
   "cell_type": "code",
   "execution_count": 223,
   "metadata": {},
   "outputs": [
    {
     "data": {
      "text/plain": [
       "display_results (generic function with 1 method)"
      ]
     },
     "execution_count": 223,
     "metadata": {},
     "output_type": "execute_result"
    }
   ],
   "source": [
    "\"\"\"\n",
    "           STPF1(c, A, b, init_vect, max_iter, tol_step_x, eps, theta)\n",
    "        Compute the optimisation of the linear problem min `c`'x, s.t. `A`x = `b` (Primal), \n",
    "        with the Short-Step Path Following method.\n",
    "        \n",
    "        We have the Dual problem: max `b`'λ, s.t. `A`'λ + s = c.\n",
    "\n",
    "        `init_vect` shall be the initial vector ``(x_0,λ_0, s_0)``.\n",
    "        \n",
    "        `max_iter` is the maximum number of iterations.\n",
    "\n",
    "        `tol_step_x` is the minimum tolerance of the difference between two successive iterates of x.\n",
    "\n",
    "        `eps` is the measure of smallness.\n",
    "\n",
    "        `theta` is the parameter such that ``||XSe- μe||_2 ≤ theta*μ ``, \n",
    "\n",
    "            where μ = s'x/length(x), X = Diagonal(x), S = Diagonal(s), and e = ones(1, length(x)).\n",
    "       \"\"\"\n",
    "function STPF1(c, A, b, init_vect, max_iter, tol_step_x= 1e-4, eps = 1e-4, theta=0.4)\n",
    "    x_k, lambda_k, s_k = init_vect\n",
    "    n_rows, n_cols = size(A) \n",
    "    sigma = 1 - theta / sqrt(n_cols)\n",
    "    k = 0 # iter\n",
    "    step_x = 1\n",
    "    pdd = 1\n",
    "    e = ones(n_cols, 1)\n",
    "    while k <= max_iter && step_x > tol_step_x && pdd > eps\n",
    "        Xk = Diagonal(x_k)\n",
    "        Sk = Diagonal(s_k)\n",
    "        mu_k = s_k' * x_k / n_cols\n",
    "        \n",
    "        # Newton's method:\n",
    "        Jacob_Fk = [zeros(n_cols, n_cols) A' I(n_cols)\n",
    "                    A zeros(n_rows, n_rows) zeros(n_rows, n_cols)\n",
    "                    Sk zeros(n_cols, n_rows) Xk]\n",
    "        Fk = [zeros(n_rows+n_cols, 1)\n",
    "              -Xk*Sk*e + sigma*mu_k*e]\n",
    "        dir_k = Jacob_Fk\\Fk # error if Jacob_Fk is singular\n",
    "        \n",
    "        #update:\n",
    "        x_k_prec = copy(x_k)\n",
    "        x_k += dir_k[1:n_cols]\n",
    "        lambda_k += dir_k[n_cols+1: n_cols+n_rows]\n",
    "        s_k += dir_k[n_cols+n_rows+1:end]\n",
    "        \n",
    "        step_x = norm(x_k - x_k_prec)\n",
    "        pdd = primal_dual_diff(c, b, x_k, lambda_k)\n",
    "        k += 1\n",
    "        \n",
    "        # affichage\n",
    "        println(\"---------------------------------------------------------------\")\n",
    "        println(\"Iter \", k, \":  step_x = \", step_x, \"   pdd = \", pdd)\n",
    "    end\n",
    "    \n",
    "    return OrderedDict(\"x_opt\" => x_k, \"lambda_opt\" => lambda_k, \"s_opt\" => s_k, \n",
    "        \"n_iter\" => k, \"pdd\" => pdd, \"step_x\" => step_x)\n",
    "end\n",
    "\n",
    "\n",
    "\n",
    "function display_results(result)\n",
    "    # fonction pour l'affichage\n",
    "    println(\"\\n-----------------------------------------------------------------------\")\n",
    "    println(\"------------------------------- RESULTS -------------------------------\")\n",
    "    result\n",
    "end\n",
    "\n",
    "    "
   ]
  },
  {
   "cell_type": "code",
   "execution_count": 224,
   "metadata": {},
   "outputs": [],
   "source": [
    "### probleme 1\n",
    "c = [1, 0 ,0]\n",
    "A = [1, 1, 1]'\n",
    "b = [1];"
   ]
  },
  {
   "cell_type": "code",
   "execution_count": 225,
   "metadata": {
    "scrolled": false
   },
   "outputs": [
    {
     "name": "stdout",
     "output_type": "stream",
     "text": [
      "---------------------------------------------------------------\n",
      "Iter 1:  step_x = 0.1632993161855452   pdd = 0.8545109914712773\n",
      "---------------------------------------------------------------\n",
      "Iter 2:  step_x = 0.04133143511818852   pdd = 0.6761861626203309\n",
      "---------------------------------------------------------------\n",
      "Iter 3:  step_x = 0.03135795982926991   pdd = 0.5317004952389174\n",
      "---------------------------------------------------------------\n",
      "Iter 4:  step_x = 0.028645780632299223   pdd = 0.4174698050419145\n",
      "---------------------------------------------------------------\n",
      "Iter 5:  step_x = 0.02585225098129478   pdd = 0.3272418274375356\n",
      "---------------------------------------------------------------\n",
      "Iter 6:  step_x = 0.022550398991247205   pdd = 0.2559681218751158\n",
      "---------------------------------------------------------------\n",
      "Iter 7:  step_x = 0.019097020740459162   pdd = 0.199744707089467\n",
      "---------------------------------------------------------------\n",
      "Iter 8:  step_x = 0.01580350269857053   pdd = 0.1555047949778035\n",
      "---------------------------------------------------------------\n",
      "Iter 9:  step_x = 0.012849861652846276   pdd = 0.1208004401082728\n",
      "---------------------------------------------------------------\n",
      "Iter 10:  step_x = 0.010309889321569612   pdd = 0.09366180392533412\n",
      "---------------------------------------------------------------\n",
      "Iter 11:  step_x = 0.008188943745085954   pdd = 0.07250203138009677\n",
      "---------------------------------------------------------------\n",
      "Iter 12:  step_x = 0.00645477862621983   pdd = 0.056046965339141955\n",
      "---------------------------------------------------------------\n",
      "Iter 13:  step_x = 0.005058402834743354   pdd = 0.043278997078596455\n",
      "---------------------------------------------------------------\n",
      "Iter 14:  step_x = 0.003946632119192462   pdd = 0.03339022650145389\n",
      "---------------------------------------------------------------\n",
      "Iter 15:  step_x = 0.003068857386084547   pdd = 0.02574288487374251\n",
      "---------------------------------------------------------------\n",
      "Iter 16:  step_x = 0.002380176298755808   pdd = 0.019836044134096422\n",
      "---------------------------------------------------------------\n",
      "Iter 17:  step_x = 0.0018424114335266054   pdd = 0.01527793878209033\n",
      "---------------------------------------------------------------\n",
      "Iter 18:  step_x = 0.001423998040346816   pdd = 0.011763257965460015\n",
      "---------------------------------------------------------------\n",
      "Iter 19:  step_x = 0.0010993356141030235   pdd = 0.009054745836943033\n",
      "---------------------------------------------------------------\n",
      "Iter 20:  step_x = 0.000847942153971114   pdd = 0.006968451927746179\n",
      "---------------------------------------------------------------\n",
      "Iter 21:  step_x = 0.0006535919146658662   pdd = 0.005362011738055554\n",
      "---------------------------------------------------------------\n",
      "Iter 22:  step_x = 0.0005035240524967573   pdd = 0.004125401206668283\n",
      "---------------------------------------------------------------\n",
      "Iter 23:  step_x = 0.0003877568529213898   pdd = 0.003173684024693545\n",
      "---------------------------------------------------------------\n",
      "Iter 24:  step_x = 0.0002985140848660572   pdd = 0.0024413475096368505\n",
      "---------------------------------------------------------------\n",
      "Iter 25:  step_x = 0.0002297562088954463   pdd = 0.0018778944505373105\n",
      "---------------------------------------------------------------\n",
      "Iter 26:  step_x = 0.00017680338681797103   pdd = 0.0014444216893433307\n",
      "---------------------------------------------------------------\n",
      "Iter 27:  step_x = 0.00013603576152431215   pdd = 0.001110970128005652\n",
      "---------------------------------------------------------------\n",
      "Iter 28:  step_x = 0.0001046571374142211   pdd = 0.0008544755568095547\n",
      "---------------------------------------------------------------\n",
      "Iter 29:  step_x = 8.050978461903454e-5   pdd = 0.0006571860681749226\n",
      "\n",
      "-----------------------------------------------------------------------\n",
      "------------------------------- RESULTS -------------------------------\n"
     ]
    },
    {
     "data": {
      "text/plain": [
       "OrderedDict{String,Any} with 6 entries:\n",
       "  \"x_opt\"      => [0.000219023, 0.49989, 0.49989]\n",
       "  \"lambda_opt\" => [-0.000438307]\n",
       "  \"s_opt\"      => [1.00044, 0.000438307, 0.000438307]\n",
       "  \"n_iter\"     => 29\n",
       "  \"pdd\"        => 0.000657186\n",
       "  \"step_x\"     => 8.05098e-5"
      ]
     },
     "execution_count": 225,
     "metadata": {},
     "output_type": "execute_result"
    }
   ],
   "source": [
    "# initialisation 1 \n",
    "x01 = [1/3, 1/3, 1/3]\n",
    "lambda01 = [-1]\n",
    "s01 = [2, 1, 1]\n",
    "init_vect1 = (x01, lambda01, s01);\n",
    "res_opt1 = STPF1(c, A, b, init_vect1, 100);\n",
    "display_results(res_opt1)"
   ]
  },
  {
   "cell_type": "markdown",
   "metadata": {},
   "source": [
    "## 2) Predictor Corrector"
   ]
  },
  {
   "cell_type": "code",
   "execution_count": 226,
   "metadata": {},
   "outputs": [
    {
     "data": {
      "text/plain": [
       "Alpha_PredictorStep (generic function with 1 method)"
      ]
     },
     "execution_count": 226,
     "metadata": {},
     "output_type": "execute_result"
    }
   ],
   "source": [
    "function Point_in_Neighborhood2(theta, X, S, mu, e)\n",
    "    return norm(X*S*e - mu*e) <= theta*mu  # faut-il tester x>0, s>0 ?\n",
    "end\n",
    "\n",
    "function Alpha_PredictorStep(theta, x, lambda, s, dir_k, mu, e, alpha_step)\n",
    "    alpha = 0\n",
    "    x_k, lambda_k, s_k = x, lambda, s\n",
    "    n = length(x)\n",
    "    m = length(lambda)\n",
    "    mu_k = s_k' * x_k / n\n",
    "    while Point_in_Neighborhood2(theta, Diagonal(x_k), Diagonal(s_k), mu_k, e) == true \n",
    "        alpha += alpha_step\n",
    "        x_k = x + alpha*dir_k[1:n]\n",
    "        lambda_k = lambda + alpha*dir_k[n+1: n+m]\n",
    "        s_k = s + alpha*dir_k[n+m+1: end]\n",
    "        mu_k = s_k' * x_k / n\n",
    "    end\n",
    "    largest_alpha = alpha-alpha_step\n",
    "    x_k = x + largest_alpha*dir_k[1:n]\n",
    "    lambda_k = lambda + largest_alpha*dir_k[n+1: n+m]\n",
    "    s_k = s + largest_alpha*dir_k[n+m+1: end]\n",
    "    \n",
    "    return x_k, lambda_k, s_k        \n",
    "end"
   ]
  },
  {
   "cell_type": "code",
   "execution_count": 227,
   "metadata": {},
   "outputs": [
    {
     "data": {
      "text/plain": [
       "PredictorCorrector1"
      ]
     },
     "execution_count": 227,
     "metadata": {},
     "output_type": "execute_result"
    }
   ],
   "source": [
    "\"\"\"\n",
    "           PredictorCorrector1(c, A, b, init_vect, max_iter, tol_step_x, eps, theta)\n",
    "       Compute the optimisation of the linear problem min `c`'x, s.t. `A`x = `b` (Primal), \n",
    "        with the Predictor- Corrector method.\n",
    "        \n",
    "        We have the Dual problem: max `b`'λ, s.t. `A`'λ + s = c.\n",
    "\n",
    "        `init_vect` shall be the initial vector ``(x_0,λ_0, s_0)``.\n",
    "        \n",
    "        `max_iter` is the maximum number of iterations.\n",
    "\n",
    "        `tol_step_x` is the minimum tolerance of the difference between two successive iterates of x.\n",
    "\n",
    "        `eps` is the measure of smallness.\n",
    "\n",
    "        `theta1` is the parameter for the Predictor Step such that ``||XSe- μe||_2 ≤ theta*μ ``, \n",
    "\n",
    "            where μ = s'x/length(x), X = Diagonal(x), S = Diagonal(s), and e = ones(1, length(x)) for the inner neighborhood.\n",
    "\n",
    "       \"\"\"\n",
    "function PredictorCorrector1(c, A, b, init_vect, max_iter, tol_step_x= 1e-4, eps = 1e-4, \n",
    "        theta=0.5, alpha_step=1e-3)\n",
    "    x_k, lambda_k, s_k = init_vect\n",
    "    n_rows, n_cols = size(A) \n",
    "    k = 0\n",
    "    step_x = 1\n",
    "    pdd = 1\n",
    "    e = ones(n_cols, 1)\n",
    "    while k <= max_iter && step_x > tol_step_x && pdd > eps\n",
    "        Xk = Diagonal(x_k)\n",
    "        Sk = Diagonal(s_k)\n",
    "        x_k_prec = copy(x_k)\n",
    "        mu_k = s_k' * x_k / n_cols\n",
    "        Jacob_Fk = [zeros(n_cols, n_cols) A' I(n_cols)\n",
    "                    A zeros(n_rows, n_rows) zeros(n_rows, n_cols)\n",
    "                    Sk zeros(n_cols, n_rows) Xk]\n",
    "        Fk = [zeros(n_rows+n_cols, 1)\n",
    "                -Xk*Sk*e ]\n",
    "        if k%2 == 0           # predictor step, sigma=0\n",
    "\n",
    "            dir_k = Jacob_Fk\\Fk\n",
    "            x_k, lambda_k, s_k = Alpha_PredictorStep(theta, x_k, lambda_k, s_k, dir_k, mu_k, e, alpha_step)\n",
    "        else\n",
    "            Fk += [zeros(n_rows+n_cols, 1)\n",
    "                   mu_k*e ]\n",
    "            dir_k = Jacob_Fk\\Fk\n",
    "\n",
    "            x_k += dir_k[1:n_cols]\n",
    "            lambda_k += dir_k[n_cols+1: n_cols+n_rows]\n",
    "            s_k += dir_k[n_cols+n_rows+1:end]\n",
    "        end\n",
    "        \n",
    "        step_x = norm(x_k - x_k_prec)\n",
    "        pdd = primal_dual_diff(c, b, x_k, lambda_k)\n",
    "        k += 1\n",
    "        \n",
    "        # affichage\n",
    "        println(\"---------------------------------------------------------------\")\n",
    "        println(\"Iter \", k, \":  step_x = \", step_x, \"   pdd = \", pdd)\n",
    "    end\n",
    "    \n",
    "    criteria = [k > max_iter, step_x <= tol_step_x, pdd <= eps]\n",
    "    criteria_names = [\"reached max_iter\", \"step_x <= tol_step_x\", \"pdd <= eps\"]\n",
    "    println(\"\\n stopping criterion = \",criteria_names[findall(criteria)])\n",
    "    return OrderedDict(\"x_opt\" => x_k, \"lambda_opt\" => lambda_k, \"s_opt\" => s_k, \n",
    "        \"n_iter\" => k, \"pdd\" => pdd, \"step_x\" => step_x)\n",
    "end"
   ]
  },
  {
   "cell_type": "code",
   "execution_count": 228,
   "metadata": {},
   "outputs": [],
   "source": [
    "### probleme 1\n",
    "c = [1, 0 ,0]\n",
    "A = [1, 1, 1]'\n",
    "b = [1];"
   ]
  },
  {
   "cell_type": "code",
   "execution_count": 229,
   "metadata": {},
   "outputs": [
    {
     "name": "stdout",
     "output_type": "stream",
     "text": [
      "---------------------------------------------------------------\n",
      "Iter 1:  step_x = 0.00016329931618552725   pdd = 1.0008999100089992\n",
      "---------------------------------------------------------------\n",
      "Iter 2:  step_x = 0.16335818383958103   pdd = 1.1121431969456672\n",
      "---------------------------------------------------------------\n",
      "Iter 3:  step_x = 0.07356533103688442   pdd = 0.32078283760828497\n",
      "---------------------------------------------------------------\n",
      "Iter 4:  step_x = 0.05608894892105797   pdd = 0.3342085383006117\n",
      "---------------------------------------------------------------\n",
      "Iter 5:  step_x = 0.06765643260614837   pdd = 0.0837707524791615\n",
      "---------------------------------------------------------------\n",
      "Iter 6:  step_x = 0.01437411940421273   pdd = 0.0847278448647119\n",
      "---------------------------------------------------------------\n",
      "Iter 7:  step_x = 0.02810407133750347   pdd = 0.009186358873053224\n",
      "---------------------------------------------------------------\n",
      "Iter 8:  step_x = 0.0015230491692665962   pdd = 0.009197747910087739\n",
      "---------------------------------------------------------------\n",
      "Iter 9:  step_x = 0.00366266026759754   pdd = 0.00013837878692700097\n",
      "---------------------------------------------------------------\n",
      "Iter 10:  step_x = 2.2302278304135618e-5   pdd = 0.0001383813066516783\n",
      "\n",
      " stopping criterion = [\"step_x <= tol_step_x\"]\n",
      "\n",
      "-----------------------------------------------------------------------\n",
      "------------------------------- RESULTS -------------------------------\n"
     ]
    },
    {
     "data": {
      "text/plain": [
       "OrderedDict{String,Any} with 6 entries:\n",
       "  \"x_opt\"      => [4.61246e-5, 0.499977, 0.499977]\n",
       "  \"lambda_opt\" => [-9.2263e-5]\n",
       "  \"s_opt\"      => [1.00009, 9.2263e-5, 9.2263e-5]\n",
       "  \"n_iter\"     => 10\n",
       "  \"pdd\"        => 0.000138381\n",
       "  \"step_x\"     => 2.23023e-5"
      ]
     },
     "execution_count": 229,
     "metadata": {},
     "output_type": "execute_result"
    }
   ],
   "source": [
    "# initialisation 1 \n",
    "x01 = [1/3, 1/3, 1/3]\n",
    "lambda01 = [-1]\n",
    "s01 = [2, 1, 1]\n",
    "init_vect1 = (x01, lambda01, s01);\n",
    "res_pc1 = PredictorCorrector1(c, A, b, init_vect1, 100);\n",
    "display_results(res_pc1)"
   ]
  },
  {
   "cell_type": "code",
   "execution_count": null,
   "metadata": {},
   "outputs": [],
   "source": []
  }
 ],
 "metadata": {
  "kernelspec": {
   "display_name": "Julia 1.4.0",
   "language": "julia",
   "name": "julia-1.4"
  },
  "language_info": {
   "file_extension": ".jl",
   "mimetype": "application/julia",
   "name": "julia",
   "version": "1.4.0"
  }
 },
 "nbformat": 4,
 "nbformat_minor": 4
}
