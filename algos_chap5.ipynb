{
 "cells": [
  {
   "cell_type": "markdown",
   "metadata": {},
   "source": [
    "# Problèmes\n",
    "\n",
    "### 1)\n",
    "Primal: $\\underset{x \\in \\mathbb{R}^3}{\\min} x_1 ~~ s.t. ~ x_1 + x_2 + x_3 = 1 ~, ~~ x \\ge 0$\n",
    "\n",
    "Dual: $\\underset{\\lambda \\in \\mathbb{R}, s \\in \\mathbb{R^3}}{\\max} \\lambda ~~ s.t. ~ [1~1~1]' \\lambda + s = [1~0~0]'~, ~~s\\ge0$\n",
    "\n",
    "### 2)"
   ]
  },
  {
   "cell_type": "markdown",
   "metadata": {},
   "source": [
    "## 1) Short-Step Path-Following "
   ]
  },
  {
   "cell_type": "code",
   "execution_count": 284,
   "metadata": {},
   "outputs": [
    {
     "name": "stderr",
     "output_type": "stream",
     "text": [
      "┌ Info: Precompiling DataFrames [a93c6f00-e57d-5684-b7b6-d8193f3e46c0]\n",
      "└ @ Base loading.jl:1260\n"
     ]
    }
   ],
   "source": [
    "using LinearAlgebra\n",
    "using LaTeXStrings\n",
    "using DataFrames"
   ]
  },
  {
   "cell_type": "code",
   "execution_count": 374,
   "metadata": {},
   "outputs": [
    {
     "data": {
      "text/plain": [
       "display_results (generic function with 1 method)"
      ]
     },
     "execution_count": 374,
     "metadata": {},
     "output_type": "execute_result"
    }
   ],
   "source": [
    "\"\"\"\n",
    "           STPF1(c, A, b, init_vect, max_iter, tol_step_x, theta)\n",
    "       Compute the optimisation of the linear problem min `c`'x, s.t. `A`x = `b` (Primal), \n",
    "        with the Short-Step Path Following method.\n",
    "        \n",
    "        We have the Dual problem: max `b`'λ, s.t. `A`'λ + s = c.\n",
    "\n",
    "        `init_vect` shall be the initial vector ``(x_0,λ_0, s_0)``.\n",
    "        \n",
    "        `max_iter` is the maximum number of iterations.\n",
    "\n",
    "        `tol_step_x` is the minimum tolerance of the difference between two successive iterates of x.\n",
    "\n",
    "        `theta` is the parameter such that ``||XSe- μe||_2 ≤ theta*μ ``, \n",
    "\n",
    "            where μ = s'x/length(x), X = Diagonal(x), S = Diagonal(s), and e = ones(1, length(x)).\n",
    "       \"\"\"\n",
    "function STPF1(c, A, b, init_vect, max_iter, tol_step_x= 1e-4, theta=0.4)\n",
    "    x_k, lambda_k, s_k = init_vect\n",
    "    n_rows, n_cols = size(A) \n",
    "    sigma = 1 - theta / sqrt(n_cols)\n",
    "    c = 1 # pour iterer\n",
    "    step_x = 1\n",
    "    while c <= max_iter && step_x > tol_step_x\n",
    "        Xk = Diagonal(x_k)\n",
    "        Sk = Diagonal(s_k)\n",
    "        e = ones(n_cols, 1)\n",
    "        mu_k = s_k' * x_k / n_cols\n",
    "        \n",
    "        # Newton's method:\n",
    "        Jacob_Fk = [zeros(n_cols, n_cols) A' I(n_cols)\n",
    "                    A zeros(n_rows, n_rows) zeros(n_rows, n_cols)\n",
    "                    Sk zeros(n_cols, n_rows) Xk]\n",
    "        Fk = [zeros(n_rows+n_cols, 1)\n",
    "              -Xk*Sk*e + sigma*mu_k*e]\n",
    "        dir_k = Jacob_Fk\\Fk # error if Jacob_Fk is singular\n",
    "        \n",
    "        #update:\n",
    "        x_k_prec = copy(x_k)\n",
    "        x_k += dir_k[1:n_cols]\n",
    "        lambda_k += dir_k[n_cols+1: n_cols+n_rows]\n",
    "        s_k += dir_k[n_cols+n_rows+1:end]\n",
    "        \n",
    "        step_x = norm(x_k - x_k_prec)\n",
    "        c += 1\n",
    "    end\n",
    "    \n",
    "    return Dict(\"x_opt\" => x_k, \"lambda_opt\" => lambda_k, \"s_opt\" => s_k, \"n_iter\" => c)\n",
    "end\n",
    "\n",
    "function display_results(result)\n",
    "    # fonction pour l'affichage\n",
    "    for (k,v) in result\n",
    "        println(k,\" = \", v)\n",
    "    end\n",
    "    \n",
    "end\n",
    "\n",
    "    "
   ]
  },
  {
   "cell_type": "code",
   "execution_count": 375,
   "metadata": {},
   "outputs": [],
   "source": [
    "### probleme 1\n",
    "c = [1, 0 ,0]\n",
    "A = [1, 1, 1]'\n",
    "b = [1];"
   ]
  },
  {
   "cell_type": "code",
   "execution_count": 376,
   "metadata": {},
   "outputs": [
    {
     "name": "stdout",
     "output_type": "stream",
     "text": [
      "n_iter = 30\n",
      "x_opt = [0.9997809118396458, 0.00010954408017718925, 0.00010954408017718925]\n",
      "lambda_opt = [1.000109576843052]\n",
      "s_opt = [-0.0001095768430525987, -1.000109576843052, -1.000109576843052]\n"
     ]
    }
   ],
   "source": [
    "# initialisation 1 \n",
    "x01 = [1/3, 1/3, 1/3]\n",
    "lambda01 = [-1]\n",
    "s01 = [2, 1, 1]\n",
    "init_vect = (x01, lambda01, s01);\n",
    "res_opt1 = STPF1(c, A, b, init_vect1, 100);\n",
    "display_results(res_opt1)"
   ]
  },
  {
   "cell_type": "code",
   "execution_count": 322,
   "metadata": {},
   "outputs": [
    {
     "ename": "SingularException",
     "evalue": "SingularException(0)",
     "output_type": "error",
     "traceback": [
      "SingularException(0)",
      "",
      "Stacktrace:",
      " [1] lu(::SparseArrays.SparseMatrixCSC{Float64,Int64}; check::Bool) at D:\\buildbot\\worker\\package_win64\\build\\usr\\share\\julia\\stdlib\\v1.4\\SuiteSparse\\src\\umfpack.jl:162",
      " [2] lu at D:\\buildbot\\worker\\package_win64\\build\\usr\\share\\julia\\stdlib\\v1.4\\SuiteSparse\\src\\umfpack.jl:155 [inlined]",
      " [3] \\(::SparseArrays.SparseMatrixCSC{Float64,Int64}, ::Array{Float64,2}) at D:\\buildbot\\worker\\package_win64\\build\\usr\\share\\julia\\stdlib\\v1.4\\SparseArrays\\src\\linalg.jl:1455",
      " [4] STPF1(::Array{Int64,1}, ::Adjoint{Int64,Array{Int64,1}}, ::Array{Int64,1}, ::Tuple{Array{Float64,1},Array{Int64,1},Array{Int64,1}}, ::Int64, ::Float64, ::Float64) at .\\In[318]:36",
      " [5] STPF1(::Array{Int64,1}, ::Adjoint{Int64,Array{Int64,1}}, ::Array{Int64,1}, ::Tuple{Array{Float64,1},Array{Int64,1},Array{Int64,1}}, ::Int64) at .\\In[318]:19",
      " [6] top-level scope at In[322]:6"
     ]
    }
   ],
   "source": [
    "# initialisation 2 \n",
    "x02 = [1/3, 1/3, 1/3]\n",
    "lambda02 = [0]\n",
    "s02 = [1, 0, 0]\n",
    "init_vect2 = (x02, lambda02, s02);\n",
    "res_opt2 = STPF1(c, A, b, init_vect2, 100); # Jacobienne non inversible"
   ]
  },
  {
   "cell_type": "code",
   "execution_count": null,
   "metadata": {},
   "outputs": [],
   "source": []
  }
 ],
 "metadata": {
  "kernelspec": {
   "display_name": "Julia 1.4.0",
   "language": "julia",
   "name": "julia-1.4"
  },
  "language_info": {
   "file_extension": ".jl",
   "mimetype": "application/julia",
   "name": "julia",
   "version": "1.4.0"
  }
 },
 "nbformat": 4,
 "nbformat_minor": 4
}
