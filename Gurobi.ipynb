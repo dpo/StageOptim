{
 "cells": [
  {
   "cell_type": "code",
   "execution_count": 2,
   "metadata": {},
   "outputs": [],
   "source": [
    "using JuMP, Gurobi\n",
    "using QPSReader\n",
    "using QuadraticModels\n",
    "using NLPModels"
   ]
  },
  {
   "cell_type": "code",
   "execution_count": 3,
   "metadata": {},
   "outputs": [
    {
     "data": {
      "text/plain": [
       "OptimizeGurobi (generic function with 1 method)"
      ]
     },
     "execution_count": 3,
     "metadata": {},
     "output_type": "execute_result"
    }
   ],
   "source": [
    "\n",
    "function createQuadraticModel(qpdata, name_pb)\n",
    "    # probleme du point initial\n",
    "    #x0 = init_x0(qpdata.lvar, qpdata.uvar)\n",
    "    return QuadraticModel(qpdata.c, qpdata.qrows, qpdata.qcols, qpdata.qvals,\n",
    "            Arows=qpdata.arows, Acols=qpdata.acols, Avals=qpdata.avals, \n",
    "            lcon=qpdata.lcon, ucon=qpdata.ucon, lvar=qpdata.lvar, uvar=qpdata.uvar,\n",
    "            c0=qpdata.c0,  name=name_pb)\n",
    "\n",
    "end\n",
    "\n",
    "function display_results_Gurobi(gurobi_model)\n",
    "    # show results\n",
    "    sol = get_solution(gurobi_model)\n",
    "    println(\"soln = $(sol)\")\n",
    "\n",
    "    objv = get_objval(gurobi_model)\n",
    "    println(\"objv = $(objv)\")\n",
    "end\n",
    "    \n",
    "\n",
    "function OptimizeGurobi(qpdata; name_pb=\"lp\")\n",
    "    QM = createQuadraticModel(qpdata, name_pb)\n",
    "    SM = SlackModel(QM)\n",
    "    \n",
    "    env = Gurobi.Env()\n",
    "\n",
    "    # set presolve to 0\n",
    "    setparam!(env, \"Presolve\", 0)\n",
    "    \n",
    "    model = gurobi_model(env; name = \"lp_01\", f = grad(SM, zeros(length(SM.meta.x0))),\n",
    "                Aeq = jac(SM, SM.meta.x0), beq = SM.meta.lcon, \n",
    "                lb = SM.meta.lvar, ub = SM.meta.uvar)\n",
    "\n",
    "     # run optimization\n",
    "    optimize(model)\n",
    "    return model\n",
    "end\n",
    "\n"
   ]
  },
  {
   "cell_type": "code",
   "execution_count": 7,
   "metadata": {},
   "outputs": [
    {
     "name": "stderr",
     "output_type": "stream",
     "text": [
      "┌ Info: Using 'AFIRO' as NAME (l. 5)\n",
      "└ @ QPSReader C:\\Users\\Geoffroy Leconte\\.julia\\packages\\QPSReader\\usDQr\\src\\readqps.jl:751\n",
      "┌ Info: Using 'COST' as objective (l. 47)\n",
      "└ @ QPSReader C:\\Users\\Geoffroy Leconte\\.julia\\packages\\QPSReader\\usDQr\\src\\readqps.jl:350\n",
      "┌ Info: Using 'B' as RHS (l. 96)\n",
      "└ @ QPSReader C:\\Users\\Geoffroy Leconte\\.julia\\packages\\QPSReader\\usDQr\\src\\readqps.jl:470\n"
     ]
    }
   ],
   "source": [
    "path_pb = \"C:\\\\Users\\\\Geoffroy Leconte\\\\Documents\\\\cours\\\\TFE\\\\code\\\\problemes\"\n",
    "afiro = string(path_pb, \"\\\\AFIRO.SIF\")\n",
    "qpdata2 = readqps(afiro);"
   ]
  },
  {
   "cell_type": "code",
   "execution_count": 8,
   "metadata": {},
   "outputs": [
    {
     "name": "stdout",
     "output_type": "stream",
     "text": [
      "Academic license - for non-commercial use only\r\n",
      "Gurobi Optimizer version 9.0.2 build v9.0.2rc0 (win64)\r\n",
      "Optimize a model with 27 rows, 51 columns and 102 nonzeros\r\n",
      "Model fingerprint: 0x84b9128a\r\n",
      "Coefficient statistics:\r\n",
      "  Matrix range     [1e-01, 2e+00]\r\n",
      "  Objective range  [3e-01, 1e+01]\r\n",
      "  Bounds range     [8e+01, 5e+02]\r\n",
      "  RHS range        [4e+01, 4e+01]\r\n",
      "Iteration    Objective       Primal Inf.    Dual Inf.      Time\r\n",
      "       0   -1.8000000e+30   6.800000e+30   1.800000e+00      0s\r\n",
      "      10   -4.6475314e+02   0.000000e+00   0.000000e+00      0s\r\n",
      "\r\n",
      "Solved in 10 iterations and 0.00 seconds\r\n",
      "Optimal objective -4.647531429e+02\r\n",
      "soln = [80.0, 25.5, 54.5, 84.80000000000001, 18.214285714285715, 0.0, 0.0, 0.0, 0.0, 0.0, 0.0, 0.0, 18.214285714285715, 0.0, 19.30714285714286, 500.0, 475.92, 24.08, 0.0, 215.0, 0.0, 0.0, 0.0, 0.0, 0.0, 0.0, 0.0, 0.0, 339.9428571428572, 383.9428571428572, 0.0, 0.0, 80.0, 0.0, 18.214285714285715, -0.0, -0.0, -0.0, 500.0, 0.0, -0.0, -0.0, -0.0, -0.0, -0.0, 0.0, -0.0, 0.0, -378.46035714285716, 299.8, 19.30714285714286]\n",
      "objv = -464.75314285714285\n"
     ]
    }
   ],
   "source": [
    "model = OptimizeGurobi(qpdata2)\n",
    "display_results_Gurobi(model)"
   ]
  },
  {
   "cell_type": "code",
   "execution_count": null,
   "metadata": {},
   "outputs": [],
   "source": []
  },
  {
   "cell_type": "code",
   "execution_count": null,
   "metadata": {},
   "outputs": [],
   "source": []
  },
  {
   "cell_type": "code",
   "execution_count": null,
   "metadata": {},
   "outputs": [],
   "source": []
  },
  {
   "cell_type": "code",
   "execution_count": null,
   "metadata": {},
   "outputs": [],
   "source": []
  }
 ],
 "metadata": {
  "kernelspec": {
   "display_name": "Julia 1.4.0",
   "language": "julia",
   "name": "julia-1.4"
  },
  "language_info": {
   "file_extension": ".jl",
   "mimetype": "application/julia",
   "name": "julia",
   "version": "1.4.0"
  }
 },
 "nbformat": 4,
 "nbformat_minor": 4
}
