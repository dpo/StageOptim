{
 "cells": [
  {
   "cell_type": "code",
   "execution_count": 3,
   "metadata": {},
   "outputs": [
    {
     "name": "stderr",
     "output_type": "stream",
     "text": [
      "┌ Info: Precompiling Gurobi [2e9cd046-0924-5485-92f1-d5272153d98b]\n",
      "└ @ Base loading.jl:1260\n"
     ]
    }
   ],
   "source": [
    "using Gurobi\n",
    "using QPSReader\n",
    "using QuadraticModels\n",
    "using NLPModels\n",
    "using SolverTools\n",
    "using SolverBenchmark\n",
    "using DataFrames"
   ]
  },
  {
   "cell_type": "code",
   "execution_count": 4,
   "metadata": {},
   "outputs": [
    {
     "name": "stdout",
     "output_type": "stream",
     "text": [
      "STATUSES:\n",
      "  :acceptable     => solved to within acceptable tolerances\n",
      "  :exception      => unhandled exception\n",
      "  :first_order    => first-order stationary\n",
      "  :infeasible     => problem may be infeasible\n",
      "  :max_eval       => maximum number of function evaluations\n",
      "  :max_iter       => maximum iteration\n",
      "  :max_time       => maximum elapsed time\n",
      "  :neg_pred       => negative predicted reduction\n",
      "  :not_desc       => not a descent direction\n",
      "  :small_residual => small residual\n",
      "  :small_step     => step too small\n",
      "  :stalled        => stalled\n",
      "  :unbounded      => objective function may be unbounded from below\n",
      "  :unknown        => unknown\n",
      "  :user           => user-requested stop\n"
     ]
    }
   ],
   "source": [
    "show_statuses()"
   ]
  },
  {
   "cell_type": "code",
   "execution_count": 5,
   "metadata": {},
   "outputs": [
    {
     "ename": "UndefVarError",
     "evalue": "UndefVarError: STATUSES not defined",
     "output_type": "error",
     "traceback": [
      "UndefVarError: STATUSES not defined",
      "",
      "Stacktrace:",
      " [1] top-level scope at In[5]:1"
     ]
    }
   ],
   "source": [
    "STATUSES"
   ]
  },
  {
   "cell_type": "code",
   "execution_count": 9,
   "metadata": {},
   "outputs": [
    {
     "data": {
      "text/plain": [
       "OptimizeGurobi (generic function with 1 method)"
      ]
     },
     "execution_count": 9,
     "metadata": {},
     "output_type": "execute_result"
    }
   ],
   "source": [
    "\n",
    "function createQuadraticModel(qpdata)\n",
    "    # probleme du point initial\n",
    "    #x0 = init_x0(qpdata.lvar, qpdata.uvar)\n",
    "    return QuadraticModel(qpdata.c, qpdata.qrows, qpdata.qcols, qpdata.qvals,\n",
    "            Arows=qpdata.arows, Acols=qpdata.acols, Avals=qpdata.avals, \n",
    "            lcon=qpdata.lcon, ucon=qpdata.ucon, lvar=qpdata.lvar, uvar=qpdata.uvar,\n",
    "            c0=qpdata.c0)\n",
    "\n",
    "end\n",
    "\n",
    "function display_results_Gurobi(gurobi_model)\n",
    "    # show results\n",
    "    sol = get_solution(gurobi_model)\n",
    "    println(\"soln = $(sol)\")\n",
    "\n",
    "    objv = get_objval(gurobi_model)\n",
    "    println(\"objv = $(objv)\")\n",
    "end\n",
    "    \n",
    "\n",
    "function OptimizeGurobi(qpdata)\n",
    "    QM = createQuadraticModel(qpdata)\n",
    "    SM = SlackModel(QM)\n",
    "    \n",
    "    env = Gurobi.Env()\n",
    "\n",
    "    # set presolve to 0\n",
    "    setparam!(env, \"Presolve\", 0)\n",
    "    \n",
    "    model = gurobi_model(env; name = \"lp_01\", f = grad(SM, zeros(length(SM.meta.x0))),\n",
    "                Aeq = jac(SM, SM.meta.x0), beq = SM.meta.lcon, \n",
    "                lb = SM.meta.lvar, ub = SM.meta.uvar)\n",
    "     # run optimization\n",
    "    optimize(model)\n",
    "    println(env)\n",
    "    # outputs\n",
    "    optim_info = get_optiminfo(model)\n",
    "    if optim_info.status == :optimal\n",
    "        ExStats_status = :acceptable\n",
    "    end\n",
    "    GenExStats = GenericExecutionStats(ExStats_status, SM, solution = get_solution(model),\n",
    "                               objective = get_objval(model), iter = optim_info.iter_count,\n",
    "                                elapsed_time = optim_info.runtime)\n",
    "    println(GenExStats)\n",
    "    return model\n",
    "end\n",
    "\n"
   ]
  },
  {
   "cell_type": "code",
   "execution_count": 7,
   "metadata": {},
   "outputs": [
    {
     "name": "stderr",
     "output_type": "stream",
     "text": [
      "┌ Info: Using 'AFIRO' as NAME (l. 5)\n",
      "└ @ QPSReader C:\\Users\\Geoffroy Leconte\\.julia\\packages\\QPSReader\\usDQr\\src\\readqps.jl:751\n",
      "┌ Info: Using 'COST' as objective (l. 47)\n",
      "└ @ QPSReader C:\\Users\\Geoffroy Leconte\\.julia\\packages\\QPSReader\\usDQr\\src\\readqps.jl:350\n",
      "┌ Info: Using 'B' as RHS (l. 96)\n",
      "└ @ QPSReader C:\\Users\\Geoffroy Leconte\\.julia\\packages\\QPSReader\\usDQr\\src\\readqps.jl:470\n"
     ]
    }
   ],
   "source": [
    "path_pb = \"C:\\\\Users\\\\Geoffroy Leconte\\\\Documents\\\\cours\\\\TFE\\\\code\\\\problemes_netlib\"\n",
    "afiro = string(path_pb, \"\\\\AFIRO.SIF\")\n",
    "qpdata2 = readqps(afiro);"
   ]
  },
  {
   "cell_type": "code",
   "execution_count": 93,
   "metadata": {},
   "outputs": [
    {
     "name": "stdout",
     "output_type": "stream",
     "text": [
      "Academic license - for non-commercial use only\n",
      "Gurobi Optimizer version 9.0.2 build v9.0.2rc0 (win64)\n",
      "Optimize a model with 27 rows, 51 columns and 102 nonzeros\n",
      "Model fingerprint: 0x84b9128a\n",
      "Coefficient statistics:\n",
      "  Matrix range     [1e-01, 2e+00]\n",
      "  Objective range  [3e-01, 1e+01]\n",
      "  Bounds range     [8e+01, 5e+02]\n",
      "  RHS range        [4e+01, 4e+01]\n",
      "Iteration    Objective       Primal Inf.    Dual Inf.      Time\n",
      "       0   -1.8000000e+30   6.800000e+30   1.800000e+00      0s\n",
      "      10   -4.6475314e+02   0.000000e+00   0.000000e+00      0s\n",
      "\n",
      "Solved in 10 iterations and 0.00 seconds\n",
      "Optimal objective -4.647531429e+02\n",
      "Gurobi.Env(Ptr{Nothing} @0x000000005c30f020)\n"
     ]
    }
   ],
   "source": [
    "model = OptimizeGurobi(qpdata2);\n",
    "\n",
    "\n",
    "#display_results_Gurobi(model)"
   ]
  },
  {
   "cell_type": "code",
   "execution_count": 47,
   "metadata": {},
   "outputs": [
    {
     "data": {
      "text/plain": [
       "\"Execution stats: solved to within acceptable tolerances\""
      ]
     },
     "execution_count": 47,
     "metadata": {},
     "output_type": "execute_result"
    }
   ],
   "source": [
    "SM1 = SlackModel(createQuadraticModel(qpdata2))\n",
    "GenExStats = GenericExecutionStats(:acceptable, SM1, solution = get_solution(model),\n",
    "                               objective = get_objval(model))"
   ]
  },
  {
   "cell_type": "markdown",
   "metadata": {},
   "source": [
    "# Test sur tous les pb"
   ]
  },
  {
   "cell_type": "code",
   "execution_count": 11,
   "metadata": {},
   "outputs": [
    {
     "name": "stdout",
     "output_type": "stream",
     "text": [
      "25FV47.SIF\n"
     ]
    },
    {
     "name": "stderr",
     "output_type": "stream",
     "text": [
      "┌ Info: Using '25FV47' as NAME (l. 5)\n",
      "└ @ QPSReader C:\\Users\\Geoffroy Leconte\\.julia\\packages\\QPSReader\\usDQr\\src\\readqps.jl:751\n",
      "┌ Info: Using 'R0000' as objective (l. 21)\n",
      "└ @ QPSReader C:\\Users\\Geoffroy Leconte\\.julia\\packages\\QPSReader\\usDQr\\src\\readqps.jl:350\n",
      "┌ Info: Using '.00001' as RHS (l. 6793)\n",
      "└ @ QPSReader C:\\Users\\Geoffroy Leconte\\.julia\\packages\\QPSReader\\usDQr\\src\\readqps.jl:470\n"
     ]
    },
    {
     "name": "stdout",
     "output_type": "stream",
     "text": [
      "Academic license - for non-commercial use only\r\n",
      "Gurobi Optimizer version 9.0.2 build v9.0.2rc0 (win64)\r\n",
      "Optimize a model with 821 rows, 1876 columns and 10705 nonzeros\r\n",
      "Model fingerprint: 0x5534e7d0\r\n",
      "Coefficient statistics:\r\n",
      "  Matrix range     [2e-04, 2e+02]\r\n",
      "  Objective range  [1e-03, 1e+02]\r\n",
      "  Bounds range     [1e+00, 2e+03]\r\n",
      "  RHS range        [2e-01, 6e+02]\r\n",
      "Iteration    Objective       Primal Inf.    Dual Inf.      Time\r\n",
      "       0   -1.2233140e+32   1.045097e+32   1.223314e+02      0s\r\n",
      "    2674    5.5018459e+03   0.000000e+00   0.000000e+00      0s\r\n",
      "\r\n",
      "Solved in 2674 iterations and 0.35 seconds\r\n",
      "Optimal objective  5.501845888e+03\r\n",
      "Gurobi.Env(Ptr{Nothing} @0x000000004bc76fb0)\n",
      "Generic Execution stats\n",
      "  status: solved to within acceptable tolerances\n",
      "  objective value: 5501.845888286749\n",
      "  primal feasibility: Inf\n",
      "  dual feasibility: Inf\n",
      "  solution: [53.13886510118529  0.0  0.0  34.22576854795369 ⋯ 247.0]\n",
      "  iterations: 2674\n",
      "  elapsed time: 0.3548583984375\n",
      "80BAU3B.SIF\n"
     ]
    },
    {
     "name": "stderr",
     "output_type": "stream",
     "text": [
      "┌ Info: Using '80BAU3B' as NAME (l. 5)\n",
      "└ @ QPSReader C:\\Users\\Geoffroy Leconte\\.julia\\packages\\QPSReader\\usDQr\\src\\readqps.jl:751\n",
      "┌ Info: Using 'HOLLY' as objective (l. 375)\n",
      "└ @ QPSReader C:\\Users\\Geoffroy Leconte\\.julia\\packages\\QPSReader\\usDQr\\src\\readqps.jl:350\n",
      "┌ Info: Using 'RHS1' as RHS (l. 19765)\n",
      "└ @ QPSReader C:\\Users\\Geoffroy Leconte\\.julia\\packages\\QPSReader\\usDQr\\src\\readqps.jl:470\n",
      "┌ Info: Using 'BOUNDROW' as BOUNDS (l. 19939)\n",
      "└ @ QPSReader C:\\Users\\Geoffroy Leconte\\.julia\\packages\\QPSReader\\usDQr\\src\\readqps.jl:622\n"
     ]
    },
    {
     "name": "stdout",
     "output_type": "stream",
     "text": [
      "Academic license - for non-commercial use only\r\n",
      "Gurobi Optimizer version 9.0.2 build v9.0.2rc0 (win64)\r\n",
      "Optimize a model with 2262 rows, 12061 columns and 23264 nonzeros\r\n",
      "Model fingerprint: 0x10eb89b7\r\n",
      "Coefficient statistics:\r\n",
      "  Matrix range     [2e-04, 1e+02]\r\n",
      "  Objective range  [1e-03, 3e+03]\r\n",
      "  Bounds range     [7e-05, 1e+06]\r\n",
      "  RHS range        [0e+00, 0e+00]\r\n",
      "Iteration    Objective       Primal Inf.    Dual Inf.      Time\r\n",
      "       0   -1.1449760e+33   1.384250e+32   1.144976e+03      0s\r\n",
      "    5032    9.8722419e+05   0.000000e+00   0.000000e+00      0s\r\n",
      "\r\n",
      "Solved in 5032 iterations and 0.29 seconds\r\n",
      "Optimal objective  9.872241924e+05\r\n",
      "Gurobi.Env(Ptr{Nothing} @0x000000004bbe9550)\n",
      "Generic Execution stats\n",
      "  status: solved to within acceptable tolerances\n",
      "  objective value: 987224.19240909\n",
      "  primal feasibility: Inf\n",
      "  dual feasibility: Inf\n",
      "  solution: [531.1245039018952  286.801320754717  544.7416022099447  895.5392535675082 ⋯ -0.0]\n",
      "  iterations: 5032\n",
      "  elapsed time: 0.2852306365966797\n"
     ]
    }
   ],
   "source": [
    "i = 0\n",
    "for file_name in readdir(path_pb)\n",
    "    if file_name[end-3:end] == \".SIF\" && !(file_name in [\"BLEND.SIF\"; \"DFL001.SIF\";  #QPSReader not working\n",
    "                                                        \"FORPLAN.SIF\"; \"GFRD-PNC.SIF\"; \n",
    "                                                        \"SIERRA.SIF\"]) #&&\n",
    "                                        #!(file_name in [\"25FV47.SIF\" ; \"80BAU3B.SIF\"])\n",
    "        \n",
    "        i += 1\n",
    "        println(file_name)\n",
    "        pb_i = string(path_pb, \"\\\\\", file_name)\n",
    "        qpdata_i = readqps(pb_i) \n",
    "        model_i = OptimizeGurobi(qpdata_i);\n",
    "\n",
    "    end\n",
    "    if i == 2\n",
    "        break\n",
    "        break\n",
    "    end\n",
    "end"
   ]
  },
  {
   "cell_type": "code",
   "execution_count": 105,
   "metadata": {},
   "outputs": [
    {
     "name": "stdout",
     "output_type": "stream",
     "text": [
      "problem 25FV47.SIF\n",
      "problem 80BAU3B.SIF\n",
      "problem ADLITTLE.SIF\n",
      "problem AFIRO.SIF\n",
      "problem AGG.SIF\n",
      "problem AGG2.SIF\n",
      "problem AGG3.SIF\n",
      "problem BANDM.SIF\n",
      "problem BEACONFD.SIF\n",
      "problem BLEND.SIF\n",
      "problem BNL1.SIF\n",
      "problem BNL2.SIF\n",
      "problem BOEING1.SIF\n",
      "problem BOEING2.SIF\n",
      "problem BORE3D.SIF\n",
      "problem BRANDY.SIF\n",
      "problem CAPRI.SIF\n",
      "problem CRE-A.SIF\n",
      "problem CRE-B.SIF\n",
      "problem CRE-C.SIF\n",
      "problem CRE-D.SIF\n",
      "problem CYCLE.SIF\n",
      "problem CZPROB.SIF\n",
      "problem D2Q06C.SIF\n",
      "problem D6CUBE.SIF\n",
      "problem DEGEN2.SIF\n",
      "problem DEGEN3.SIF\n",
      "problem DFL001.SIF\n",
      "problem E226.SIF\n",
      "problem ETAMACRO.SIF\n",
      "problem FFFFF800.SIF\n",
      "problem FINNIS.SIF\n",
      "problem FIT1D.SIF\n",
      "problem FIT1P.SIF\n",
      "problem FIT2D.SIF\n",
      "problem FIT2P.SIF\n",
      "problem FORPLAN.SIF\n",
      "problem GANGES.SIF\n",
      "problem GFRD-PNC.SIF\n",
      "problem GREENBEA.SIF\n",
      "problem GREENBEB.SIF\n",
      "problem GROW15.SIF\n",
      "problem GROW22.SIF\n",
      "problem GROW7.SIF\n",
      "problem ISRAEL.SIF\n",
      "problem KB2.SIF\n",
      "problem KEN-07.SIF\n",
      "problem KEN-11.SIF\n",
      "problem KEN-13.SIF\n",
      "problem KEN-18.SIF\n",
      "problem LOTFI.SIF\n",
      "problem MAROS-R7.SIF\n",
      "problem MAROS.SIF\n",
      "problem MODSZK1.SIF\n",
      "problem NESM.SIF\n",
      "problem NETLIB.dat\n",
      "problem NETLIB.dat~\n",
      "problem OSA-07.SIF\n",
      "problem OSA-14.SIF\n",
      "problem OSA-30.SIF\n",
      "problem OSA-60.SIF\n",
      "problem PDS-02.SIF\n",
      "problem PDS-06.SIF\n",
      "problem PDS-10.SIF\n",
      "problem PDS-20.SIF\n",
      "problem PEROLD.SIF\n",
      "problem PILOT-JA.SIF\n",
      "problem PILOT-WE.SIF\n",
      "problem PILOT.SIF\n",
      "problem PILOT4.SIF\n",
      "problem PILOT87.SIF\n",
      "problem PILOTNOV.SIF\n",
      "problem QAP12.SIF\n",
      "problem QAP15.SIF\n",
      "problem QAP8.SIF\n",
      "problem README\n",
      "problem RECIPELP.SIF\n",
      "problem SC105.SIF\n",
      "problem SC205.SIF\n",
      "problem SC50A.SIF\n",
      "problem SC50B.SIF\n",
      "problem SCAGR25.SIF\n",
      "problem SCAGR7.SIF\n",
      "problem SCFXM1.SIF\n",
      "problem SCFXM2.SIF\n",
      "problem SCFXM3.SIF\n",
      "problem SCORPION.SIF\n",
      "problem SCRS8.SIF\n",
      "problem SCSD1.SIF\n",
      "problem SCSD6.SIF\n",
      "problem SCSD8.SIF\n",
      "problem SCTAP1.SIF\n",
      "problem SCTAP2.SIF\n",
      "problem SCTAP3.SIF\n",
      "problem SEBA.SIF\n",
      "problem SHARE1B.SIF\n",
      "problem SHARE2B.SIF\n",
      "problem SHELL.SIF\n",
      "problem SHIP04L.SIF\n",
      "problem SHIP04S.SIF\n",
      "problem SHIP08L.SIF\n",
      "problem SHIP08S.SIF\n",
      "problem SHIP12L.SIF\n",
      "problem SHIP12S.SIF\n",
      "problem SIERRA.SIF\n",
      "problem STAIR.SIF\n",
      "problem STANDATA.SIF\n",
      "problem STANDGUB.SIF\n",
      "problem STANDMPS.SIF\n",
      "problem STOCFOR1.SIF\n",
      "problem STOCFOR2.SIF\n",
      "problem STOCFOR3.SIF\n",
      "problem TRUSS.SIF\n",
      "problem TUFF.SIF\n",
      "problem VTP-BASE.SIF\n",
      "problem WOOD1P.SIF\n",
      "problem WOODW.SIF\n",
      "problem netlib.html\n"
     ]
    }
   ],
   "source": [
    "for file_name in readdir(path_pb)\n",
    "    println(\"problem \", file_name)\n",
    "    \n",
    "end"
   ]
  },
  {
   "cell_type": "code",
   "execution_count": null,
   "metadata": {},
   "outputs": [],
   "source": []
  },
  {
   "cell_type": "code",
   "execution_count": null,
   "metadata": {},
   "outputs": [],
   "source": []
  },
  {
   "cell_type": "code",
   "execution_count": null,
   "metadata": {},
   "outputs": [],
   "source": []
  },
  {
   "cell_type": "code",
   "execution_count": 98,
   "metadata": {},
   "outputs": [
    {
     "name": "stdout",
     "output_type": "stream",
     "text": [
      "type of the fieldname env is Gurobi.Env\n",
      "type of the fieldname ptr_model is Ptr{Nothing}\n",
      "type of the fieldname callback is Any\n",
      "type of the fieldname finalize_env is Bool\n",
      "type of the fieldname conflict is Integer\n"
     ]
    }
   ],
   "source": [
    "T = typeof(model)\n",
    "for (name, typ) in zip(fieldnames(T), T.types)\n",
    "    println(\"type of the fieldname $name is $typ\")\n",
    "end"
   ]
  },
  {
   "cell_type": "code",
   "execution_count": null,
   "metadata": {},
   "outputs": [],
   "source": []
  }
 ],
 "metadata": {
  "kernelspec": {
   "display_name": "Julia 1.4.0",
   "language": "julia",
   "name": "julia-1.4"
  },
  "language_info": {
   "file_extension": ".jl",
   "mimetype": "application/julia",
   "name": "julia",
   "version": "1.4.0"
  }
 },
 "nbformat": 4,
 "nbformat_minor": 4
}
