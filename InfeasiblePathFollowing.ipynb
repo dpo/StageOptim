{
 "cells": [
  {
   "cell_type": "markdown",
   "metadata": {},
   "source": [
    "# Problèmes\n",
    "\n",
    "### 1)\n",
    "Primal: $\\underset{x \\in \\mathbb{R}^3}{\\min} x_1 ~~ s.t. ~ x_1 + x_2 + x_3 = 1 ~, ~~ x \\ge 0$\n",
    "\n",
    "Dual: $\\underset{\\lambda \\in \\mathbb{R}, s \\in \\mathbb{R^3}}{\\max} \\lambda ~~ s.t. ~ [1~1~1]' \\lambda + s = [1~0~0]'~, ~~s\\ge0$\n",
    "\n",
    "### 2)"
   ]
  },
  {
   "cell_type": "code",
   "execution_count": 5,
   "metadata": {},
   "outputs": [],
   "source": [
    "using LinearAlgebra\n",
    "using LaTeXStrings\n",
    "using DataStructures"
   ]
  },
  {
   "cell_type": "code",
   "execution_count": 6,
   "metadata": {},
   "outputs": [
    {
     "data": {
      "text/plain": [
       "display_results (generic function with 1 method)"
      ]
     },
     "execution_count": 6,
     "metadata": {},
     "output_type": "execute_result"
    }
   ],
   "source": [
    "function display_results(result)\n",
    "    # fonction pour l'affichage\n",
    "    println(\"\\n-----------------------------------------------------------------------\")\n",
    "    println(\"------------------------------- RESULTS -------------------------------\")\n",
    "    result\n",
    "end\n"
   ]
  },
  {
   "cell_type": "code",
   "execution_count": 195,
   "metadata": {},
   "outputs": [
    {
     "data": {
      "text/plain": [
       "UpdateAlphaOpt (generic function with 1 method)"
      ]
     },
     "execution_count": 195,
     "metadata": {},
     "output_type": "execute_result"
    }
   ],
   "source": [
    "\n",
    "function Point_in_Neighborhood_infty(gamma, beta, A, b, x, lambda, s, mu, x_0, lambda_0, s_0, mu_0)\n",
    "    rb = A*x - b\n",
    "    rb0 = A*x_0 - b\n",
    "    rc = A'*lambda + s - c\n",
    "    rc0 = A'*lambda_0 + s_0 - c\n",
    "    xs_pv = x .* s\n",
    "\n",
    "    # tester conditions sur norm([rb, rc]) ou sur norm(rb) et norm(rc indépendemment) ?\n",
    "     return sum(x.<=0)==false && sum(s.<=0)==false && sum(xs_pv.<=gamma*mu)==false &&\n",
    "          norm(rb) <= norm(rb0)*beta*mu/mu_0 && norm(rc) <= norm(rc0)*beta*mu/mu_0\n",
    "    #return sum(x.<=0)==false && sum(s.<=0)==false && sum(xs_pv.<=gamma*mu)==false &&\n",
    "    #      norm(vcat(rb, rc)) <= norm(vcat(rb0, rc0))*beta*mu/mu_0 \n",
    "end\n",
    "\n",
    "function Next_Point_in_Neighborhood_infty(alpha_step, gamma, beta, A, b, x, lambda, \n",
    "                                        s, dir_k, mu, x_0, lambda_0, s_0, mu_0, n, m)\n",
    "    x_next = x + alpha_step*dir_k[1:n]\n",
    "    lambda_next = lambda + alpha_step*dir_k[n+1: n+m]\n",
    "    s_next = s + alpha_step*dir_k[n+m+1: end]\n",
    "    mu_next = s_next' * x_next / n\n",
    "    return Point_in_Neighborhood_infty(gamma, beta, A, b, x_next, lambda_next, s_next, mu_next, x_0, lambda_0, s_0, mu_0)\n",
    "end\n",
    "\n",
    "function Next_Point_ArmijoCond(alpha, alpha_step, x, s, dir_k, mu, n, m)\n",
    "    x_next = x + alpha_step*dir_k[1:n]\n",
    "    s_next = s + alpha_step*dir_k[n+m+1: end]\n",
    "    mu_next = s_next' * x_next / n\n",
    "    return mu_next <= (1 - 0.001 * (alpha+alpha_step)) * mu\n",
    "end\n",
    "\n",
    "function UpdateAlphaOpt(gamma, beta, A, b, x, lambda, s, dir_k, mu, x_0, lambda_0, s_0, mu_0, alpha_step)\n",
    "    alpha = 0\n",
    "    x_k, lambda_k, s_k = x, lambda, s\n",
    "    n = length(x)\n",
    "    m = length(lambda)\n",
    "    while Next_Point_in_Neighborhood_infty(alpha_step, gamma, beta,  A, b, x_k,lambda_k, \n",
    "            s_k, dir_k, mu, x_0, lambda_0, s_0, mu_0, n, m) == true && alpha+alpha_step <= 1 &&\n",
    "            Next_Point_ArmijoCond(alpha, alpha_step, x_k, s_k, dir_k, mu, n, m) == true\n",
    "            \n",
    "        alpha += alpha_step\n",
    "        x_k = x_k + alpha_step*dir_k[1:n]\n",
    "        lambda_k = lambda_k + alpha_step*dir_k[n+1: n+m]\n",
    "        s_k = s_k + alpha_step*dir_k[n+m+1: end]\n",
    "    end\n",
    "        \n",
    "    println(alpha)\n",
    "    return x_k, lambda_k, s_k        \n",
    "end"
   ]
  },
  {
   "cell_type": "code",
   "execution_count": 223,
   "metadata": {},
   "outputs": [
    {
     "data": {
      "text/plain": [
       "InfeasiblePathFollowing1 (generic function with 4 methods)"
      ]
     },
     "execution_count": 223,
     "metadata": {},
     "output_type": "execute_result"
    }
   ],
   "source": [
    "\n",
    "function InfeasiblePathFollowing1(c, A, b, init_vect, gamma, beta, sigma_min, sigma_max, \n",
    "    max_iter, eps = 1e-8, alpha_step=1e-3)\n",
    "\n",
    "    x_0, lambda_0, s_0 = init_vect\n",
    "    x_k, lambda_k, s_k = copy(x_0), copy(lambda_0), copy(s_0)\n",
    "    n_rows, n_cols = size(A) \n",
    "    \n",
    "    rb_0 = A * x_0 - b\n",
    "    rc_0 = A' * lambda_0 + s_0 - c\n",
    "    mu_0 = s_0' * x_0 / n_cols\n",
    "    Xk = Diagonal(x_k)\n",
    "    Sk = Diagonal(s_k)\n",
    "    mu_k = s_k' * x_k / n_cols\n",
    "    rb_k = A * x_k - b\n",
    "    rc_k = A' * lambda_k + s_k - c\n",
    "    \n",
    "    k = 0\n",
    "    pdd, cond_rb, cond_rc = 1, 1, 1\n",
    "    e = ones(n_cols, 1)\n",
    "    n_c = norm(c)\n",
    "    n_b = norm(b)\n",
    "    \n",
    "    while k <= max_iter && pdd > eps && cond_rb > eps && cond_rc > eps  # 3 epsilon différents en pratique???\n",
    "\n",
    "        sigma_k = sigma_min  # comment choisir sigma en pratique? ici je prends toujours sigma_min\n",
    "        \n",
    "        Jacob_Fk = [zeros(n_cols, n_cols) A' I(n_cols)\n",
    "                    A zeros(n_rows, n_rows) zeros(n_rows, n_cols)\n",
    "                    Sk zeros(n_cols, n_rows) Xk]\n",
    "        Fk = [-rc_k\n",
    "                -rb_k\n",
    "                -Xk*Sk*e + sigma_k*mu_k*e]\n",
    "\n",
    "        dir_k = Jacob_Fk\\Fk\n",
    "\n",
    "        x_k, lambda_k, s_k = UpdateAlphaOpt(gamma, beta, A, b, x_k, lambda_k, s_k, dir_k,\n",
    "                                            mu_k, x_0, lambda_0, s_0, mu_0, alpha_step)\n",
    "        \n",
    "        Xk = Diagonal(x_k)\n",
    "        Sk = Diagonal(s_k)\n",
    "        mu_k = s_k' * x_k / n_cols\n",
    "        rb_k = A * x_k - b\n",
    "        rc_k = A' * lambda_k + s_k - c\n",
    "        \n",
    "        # valeurs pour les conditions d'arret:\n",
    "        pdd = abs(c' * x_k - b' * lambda_k) / (1 + abs(c' * x_k))\n",
    "        cond_rb = norm(rb_k) / (1 + n_b)\n",
    "        cond_rc = norm(rc_k) / (1 + n_c)\n",
    "        \n",
    "        k += 1\n",
    "        \n",
    "        # affichage\n",
    "        println(\"---------------------------------------------------------------\")\n",
    "        println(\"Iter \", k, \":   pdd = \", pdd, \" |  cond_rb = \", cond_rb, \" |  cond_rc = \", cond_rc)\n",
    "    end\n",
    "    \n",
    "    criteria = [k > max_iter,  pdd <= eps, cond_rb <= eps, cond_rc <= eps]\n",
    "    criteria_names = [\"reached max_iter\",  \"pdd <= eps\", \"cond_rb <= eps\", \"cond_rc <= eps\"]\n",
    "    println(\"\\n stopping criterion = \",criteria_names[findall(criteria)])\n",
    "    return OrderedDict(\"x_opt\" => x_k, \"lambda_opt\" => lambda_k, \"s_opt\" => s_k, \n",
    "        \"n_iter\" => k, \"pdd\" => pdd, \"cond_rb\" => cond_rb, \"cond_rc\" => cond_rc)\n",
    "end"
   ]
  },
  {
   "cell_type": "code",
   "execution_count": 224,
   "metadata": {},
   "outputs": [],
   "source": [
    "### probleme 1\n",
    "c = [1, 0 ,0]\n",
    "A = Matrix([1, 1, 1]')\n",
    "b = [1];"
   ]
  },
  {
   "cell_type": "code",
   "execution_count": 225,
   "metadata": {},
   "outputs": [
    {
     "name": "stdout",
     "output_type": "stream",
     "text": [
      "0.9220000000000007\n",
      "---------------------------------------------------------------\n",
      "Iter 1:   pdd = 2.240667511777982 |  cond_rb = 0.5069999999999946 |  cond_rc = 0.07799999999989682\n",
      "0.9990000000000008\n",
      "---------------------------------------------------------------\n",
      "Iter 2:   pdd = 1.6361624823453043 |  cond_rb = 0.0005070000000255703 |  cond_rc = 7.799999990998341e-5\n",
      "0.9990000000000008\n",
      "---------------------------------------------------------------\n",
      "Iter 3:   pdd = 0.33493863063490076 |  cond_rb = 5.06999987215373e-7 |  cond_rc = 7.800000645374894e-8\n",
      "0.9990000000000008\n",
      "---------------------------------------------------------------\n",
      "Iter 4:   pdd = 0.07221443409713485 |  cond_rb = 5.070025510534037e-10 |  cond_rc = 7.79987717886108e-11\n",
      "\n",
      " stopping criterion = [\"cond_rb <= eps\", \"cond_rc <= eps\"]\n",
      "\n",
      "-----------------------------------------------------------------------\n",
      "------------------------------- RESULTS -------------------------------\n"
     ]
    },
    {
     "data": {
      "text/plain": [
       "OrderedDict{String,Any} with 7 entries:\n",
       "  \"x_opt\"      => [0.0407371, 0.51803, 0.441233]\n",
       "  \"lambda_opt\" => [-0.0344191]\n",
       "  \"s_opt\"      => [1.03442, 0.0344191, 0.0344191]\n",
       "  \"n_iter\"     => 4\n",
       "  \"pdd\"        => 0.0722144\n",
       "  \"cond_rb\"    => 5.07003e-10\n",
       "  \"cond_rc\"    => 7.79988e-11"
      ]
     },
     "execution_count": 225,
     "metadata": {},
     "output_type": "execute_result"
    }
   ],
   "source": [
    "# initialisation 1 \n",
    "x01 = [10, 1, 3]\n",
    "lambda01 = [-2]\n",
    "s01 = [3, 4, 2]\n",
    "init_vect1 = (x01, lambda01, s01);\n",
    "gamma, beta = 0.3, 2  # pour ce problème, ne marche pas lorque gamma est trop grand.\n",
    "res_ipf1 =  InfeasiblePathFollowing1(c, A, b, init_vect1, gamma, beta, 0.2, 0.3, 1000);\n",
    "display_results(res_ipf1) "
   ]
  },
  {
   "cell_type": "code",
   "execution_count": null,
   "metadata": {},
   "outputs": [],
   "source": [
    "# cond_rb et cond_rc trouvées dans le livre mais elles semblent arrêter très rapidement l'algorithme..."
   ]
  },
  {
   "cell_type": "code",
   "execution_count": null,
   "metadata": {},
   "outputs": [],
   "source": []
  }
 ],
 "metadata": {
  "kernelspec": {
   "display_name": "Julia 1.4.0",
   "language": "julia",
   "name": "julia-1.4"
  },
  "language_info": {
   "file_extension": ".jl",
   "mimetype": "application/julia",
   "name": "julia",
   "version": "1.4.0"
  }
 },
 "nbformat": 4,
 "nbformat_minor": 4
}
