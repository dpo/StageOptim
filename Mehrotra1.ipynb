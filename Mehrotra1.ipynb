{
 "cells": [
  {
   "cell_type": "markdown",
   "metadata": {},
   "source": [
    "# Problèmes\n",
    "\n",
    "### 1)\n",
    "Primal: $\\underset{x \\in \\mathbb{R}^3}{\\min} x_1 ~~ s.t. ~ x_1 + x_2 + x_3 = 1 ~, ~~ x \\ge 0$\n",
    "\n",
    "Dual: $\\underset{\\lambda \\in \\mathbb{R}, s \\in \\mathbb{R^3}}{\\max} \\lambda ~~ s.t. ~ [1~1~1]' \\lambda + s = [1~0~0]'~, ~~s\\ge0$\n",
    "\n",
    "### 2)"
   ]
  },
  {
   "cell_type": "code",
   "execution_count": 98,
   "metadata": {},
   "outputs": [],
   "source": [
    "using LinearAlgebra\n",
    "using LaTeXStrings\n",
    "using DataStructures\n",
    "using BenchmarkTools"
   ]
  },
  {
   "cell_type": "code",
   "execution_count": 44,
   "metadata": {},
   "outputs": [
    {
     "data": {
      "text/plain": [
       "display_results (generic function with 1 method)"
      ]
     },
     "execution_count": 44,
     "metadata": {},
     "output_type": "execute_result"
    }
   ],
   "source": [
    "function display_results(result)\n",
    "    # fonction pour l'affichage\n",
    "    println(\"\\n-----------------------------------------------------------------------\")\n",
    "    println(\"------------------------------- RESULTS -------------------------------\")\n",
    "    result\n",
    "end\n"
   ]
  },
  {
   "cell_type": "code",
   "execution_count": 45,
   "metadata": {},
   "outputs": [
    {
     "data": {
      "text/plain": [
       "Compute_AlphaMax (generic function with 1 method)"
      ]
     },
     "execution_count": 45,
     "metadata": {},
     "output_type": "execute_result"
    }
   ],
   "source": [
    "function Compute_AlphaAff(alpha_step, v_k, dir_v_k)\n",
    "    alpha = 0\n",
    "    n = length(v_k)\n",
    "    while alpha+alpha_step <= 1 && all(v_k + (alpha+alpha_step) * dir_v_k .>= 0) \n",
    "        alpha += alpha_step\n",
    "    end\n",
    "    return alpha\n",
    "end\n",
    "\n",
    "function Compute_AlphaMax(alpha_step, v_k, dir_v_k)\n",
    "    alpha = 0\n",
    "    n = length(v_k)\n",
    "    while alpha+alpha_step <= 100/99 && all(v_k + (alpha+alpha_step) * dir_v_k .>= 0) \n",
    "        alpha += alpha_step\n",
    "    end\n",
    "    return alpha\n",
    "end\n",
    "\n",
    "\n"
   ]
  },
  {
   "cell_type": "code",
   "execution_count": 101,
   "metadata": {},
   "outputs": [
    {
     "data": {
      "text/plain": [
       "MehrotraPC1 (generic function with 4 methods)"
      ]
     },
     "execution_count": 101,
     "metadata": {},
     "output_type": "execute_result"
    }
   ],
   "source": [
    "\n",
    "function MehrotraPC1(c, A, b, init_vect, max_iter, eps = 1e-10, alpha_step=1e-2, display=true)\n",
    "\n",
    "    x_0, lambda_0, s_0 = init_vect\n",
    "    x_k, lambda_k, s_k = copy(x_0), copy(lambda_0), copy(s_0)\n",
    "    n_rows, n_cols = size(A) \n",
    "    \n",
    "    rb_0 = A * x_0 - b\n",
    "    rc_0 = A' * lambda_0 + s_0 - c\n",
    "    mu_0 = s_0' * x_0 / n_cols\n",
    "    Xk = Diagonal(x_k)\n",
    "    Sk = Diagonal(s_k)\n",
    "    mu_k = s_k' * x_k / n_cols\n",
    "    rb_k = A * x_k - b\n",
    "    rc_k = A' * lambda_k + s_k - c\n",
    "    \n",
    "    k = 0\n",
    "    pdd, cond_rb, cond_rc = 1, 1, 1\n",
    "    e = ones(n_cols, 1)\n",
    "    n_c = norm(c)\n",
    "    n_b = norm(b)\n",
    "    \n",
    "    while k <= max_iter && pdd > eps && cond_rb > eps && cond_rc > eps  # 3 epsilon différents en pratique???\n",
    "\n",
    "        Jacob_Fk = [zeros(n_cols, n_cols) A' I(n_cols)\n",
    "                    A zeros(n_rows, n_rows) zeros(n_rows, n_cols)\n",
    "                    Sk zeros(n_cols, n_rows) Xk]\n",
    "        Fk_aff = [-rc_k\n",
    "                  -rb_k\n",
    "                  -Xk*Sk*e]\n",
    "        \n",
    "\n",
    "        dir_aff_k = Jacob_Fk\\Fk_aff\n",
    "        \n",
    "\n",
    "        alpha_aff_pri = Compute_AlphaAff(alpha_step, x_k, dir_aff_k[1:n_cols])\n",
    "        alpha_aff_dual = Compute_AlphaAff(alpha_step, s_k, dir_aff_k[n_rows+n_cols+1: end])\n",
    "        mu_aff = (x_k + alpha_aff_pri * dir_aff_k[1:n_cols])' * \n",
    "                    (s_k + alpha_aff_dual * dir_aff_k[n_rows+n_cols+1: end]) / n_cols\n",
    "        sigma = (mu_aff / mu_k)^3\n",
    "     \n",
    "        Fk_cc = [zeros(n_rows+n_cols, 1)\n",
    "                 sigma*mu_k*e - Diagonal(dir_aff_k[1:n_cols])*Diagonal(dir_aff_k[n_rows+n_cols+1: end])*e] \n",
    "        dir_cc_k = Jacob_Fk\\Fk_cc\n",
    "         \n",
    "        dir_k = dir_aff_k .+ dir_cc_k\n",
    "         \n",
    "        alpha_max_pri = Compute_AlphaMax(alpha_step, x_k, dir_k[1:n_cols])\n",
    "        alpha_max_dual = Compute_AlphaMax(alpha_step, s_k, dir_k[n_rows+n_cols+1: end])\n",
    "     \n",
    "\n",
    "        alpha_k_pri = min(0.99*alpha_max_pri, 1)\n",
    "        alpha_k_dual = min(0.99*alpha_max_dual, 1)\n",
    "        x_k += alpha_k_pri * dir_k[1:n_cols]\n",
    "        lambda_k += alpha_k_dual * dir_k[n_cols+1: n_rows+n_cols]\n",
    "        s_k += alpha_k_dual * dir_k[n_rows+n_cols+1: end]\n",
    "        \n",
    "        Xk = Diagonal(x_k)\n",
    "        Sk = Diagonal(s_k)\n",
    "        mu_k = s_k' * x_k / n_cols\n",
    "        rb_k = A * x_k - b\n",
    "        rc_k = A' * lambda_k + s_k - c\n",
    "        \n",
    "        # valeurs pour les conditions d'arret:\n",
    "        pdd = abs(c' * x_k - b' * lambda_k) / (1 + abs(c' * x_k))\n",
    "        cond_rb = norm(rb_k) / (1 + n_b)\n",
    "        cond_rc = norm(rc_k) / (1 + n_c)\n",
    "        \n",
    "        k += 1\n",
    "        \n",
    "        # affichage\n",
    "        if display == true\n",
    "            println(\"---------------------------------------------------------------\")\n",
    "            println(\"Iter \", k, \":   pdd = \", pdd, \" |  cond_rb = \", cond_rb, \" |  cond_rc = \", cond_rc)\n",
    "        end\n",
    "    end\n",
    "    \n",
    "    if display == true\n",
    "        criteria = [k > max_iter,  pdd <= eps, cond_rb <= eps, cond_rc <= eps]\n",
    "        criteria_names = [\"reached max_iter\",  \"pdd <= eps\", \"cond_rb <= eps\", \"cond_rc <= eps\"]\n",
    "        println(\"\\n stopping criterion = \",criteria_names[findall(criteria)])\n",
    "    end\n",
    "    \n",
    "    return OrderedDict(\"x_opt\" => x_k, \"lambda_opt\" => lambda_k, \"s_opt\" => s_k, \n",
    "        \"n_iter\" => k, \"pdd\" => pdd, \"cond_rb\" => cond_rb, \"cond_rc\" => cond_rc)\n",
    "end"
   ]
  },
  {
   "cell_type": "code",
   "execution_count": 102,
   "metadata": {},
   "outputs": [],
   "source": [
    "### probleme 1\n",
    "c = [1, 0 ,0]\n",
    "A = Matrix([1, 1, 1]')\n",
    "b = [1];"
   ]
  },
  {
   "cell_type": "code",
   "execution_count": 103,
   "metadata": {},
   "outputs": [
    {
     "name": "stdout",
     "output_type": "stream",
     "text": [
      "---------------------------------------------------------------\n",
      "Iter 1:   pdd = 1.4765522896158283 |  cond_rb = 0.00034999999999763 |  cond_rc = 9.999999999943388e-5\n",
      "---------------------------------------------------------------\n",
      "Iter 2:   pdd = 0.1401237627258906 |  cond_rb = 3.500000000933312e-8 |  cond_rc = 8.919999999967843e-6\n",
      "---------------------------------------------------------------\n",
      "Iter 3:   pdd = 0.0027960307319132233 |  cond_rb = 6.964999688108264e-10 |  cond_rc = 8.919999999051909e-10\n",
      "---------------------------------------------------------------\n",
      "Iter 4:   pdd = 5.159304917933026e-5 |  cond_rb = 1.3860357306327842e-11 |  cond_rc = 8.919999992546696e-12\n",
      "\n",
      " stopping criterion = [\"cond_rb <= eps\", \"cond_rc <= eps\"]\n",
      "\n",
      "-----------------------------------------------------------------------\n",
      "------------------------------- RESULTS -------------------------------\n"
     ]
    },
    {
     "data": {
      "text/plain": [
       "OrderedDict{String,Any} with 7 entries:\n",
       "  \"x_opt\"      => [4.73687e-5, 0.499572, 0.500381]\n",
       "  \"lambda_opt\" => [-4.22679e-6]\n",
       "  \"s_opt\"      => [1.0, 4.22681e-6, 4.22679e-6]\n",
       "  \"n_iter\"     => 4\n",
       "  \"pdd\"        => 5.1593e-5\n",
       "  \"cond_rb\"    => 1.38604e-11\n",
       "  \"cond_rc\"    => 8.92e-12"
      ]
     },
     "execution_count": 103,
     "metadata": {},
     "output_type": "execute_result"
    }
   ],
   "source": [
    "# initialisation 1 \n",
    "x01 = [4, 1, 3]\n",
    "lambda01 = [-2]\n",
    "s01 = [3, 4, 2]\n",
    "init_vect1 = (x01, lambda01, s01);\n",
    "res_mpc1 =  MehrotraPC1(c, A, b, init_vect1, 20);\n",
    "display_results(res_mpc1) "
   ]
  },
  {
   "cell_type": "code",
   "execution_count": null,
   "metadata": {},
   "outputs": [],
   "source": []
  },
  {
   "cell_type": "code",
   "execution_count": 106,
   "metadata": {},
   "outputs": [
    {
     "data": {
      "text/plain": [
       "BenchmarkTools.Trial: \n",
       "  memory estimate:  573.03 KiB\n",
       "  allocs estimate:  6653\n",
       "  --------------\n",
       "  minimum time:     338.399 μs (0.00% GC)\n",
       "  median time:      478.500 μs (0.00% GC)\n",
       "  mean time:        561.346 μs (14.37% GC)\n",
       "  maximum time:     9.156 ms (91.55% GC)\n",
       "  --------------\n",
       "  samples:          8835\n",
       "  evals/sample:     1"
      ]
     },
     "execution_count": 106,
     "metadata": {},
     "output_type": "execute_result"
    }
   ],
   "source": [
    "@benchmark MehrotraPC1(c, A, b, init_vect1, 20, 1e-10, 1e-2, false)"
   ]
  },
  {
   "cell_type": "code",
   "execution_count": null,
   "metadata": {},
   "outputs": [],
   "source": []
  }
 ],
 "metadata": {
  "kernelspec": {
   "display_name": "Julia 1.4.0",
   "language": "julia",
   "name": "julia-1.4"
  },
  "language_info": {
   "file_extension": ".jl",
   "mimetype": "application/julia",
   "name": "julia",
   "version": "1.4.0"
  }
 },
 "nbformat": 4,
 "nbformat_minor": 4
}
